{
 "cells": [
  {
   "cell_type": "code",
   "execution_count": 69,
   "metadata": {},
   "outputs": [
    {
     "name": "stdout",
     "output_type": "stream",
     "text": [
      "The autoreload extension is already loaded. To reload it, use:\n",
      "  %reload_ext autoreload\n"
     ]
    },
    {
     "data": {
      "text/html": [
       "<pre style=\"white-space:pre;overflow-x:auto;line-height:normal;font-family:Menlo,'DejaVu Sans Mono',consolas,'Courier New',monospace\"><span style=\"color: #800080; text-decoration-color: #800080\">/Users/georgiazhou/research_machine/dialop/.venv/bin/</span><span style=\"color: #ff00ff; text-decoration-color: #ff00ff\">python</span>\n",
       "</pre>\n"
      ],
      "text/plain": [
       "\u001b[35m/Users/georgiazhou/research_machine/dialop/.venv/bin/\u001b[0m\u001b[95mpython\u001b[0m\n"
      ]
     },
     "metadata": {},
     "output_type": "display_data"
    },
    {
     "data": {
      "text/html": [
       "<pre style=\"white-space:pre;overflow-x:auto;line-height:normal;font-family:Menlo,'DejaVu Sans Mono',consolas,'Courier New',monospace\">Imports successful!\n",
       "</pre>\n"
      ],
      "text/plain": [
       "Imports successful!\n"
      ]
     },
     "metadata": {},
     "output_type": "display_data"
    }
   ],
   "source": [
    "%load_ext autoreload\n",
    "%autoreload 2  \n",
    "%reload_ext autoreload\n",
    "import sys\n",
    "print(sys.executable)\n",
    "sys.path.append('..')\n",
    "import pickle\n",
    "from pathlib import Path\n",
    "from rich import print\n",
    "from rich.console import Console\n",
    "import pdb\n",
    "import json\n",
    "import random\n",
    "import copy\n",
    "import time\n",
    "import re\n",
    "from ruamel.yaml import YAML \n",
    "console = Console()\n",
    "\n",
    "# Import your modules\n",
    "from dialop.evaluate import CheckpointManager\n",
    "from dialop.responses_class import ParallelConversations, ResponseManager, Conversation\n",
    "from dialop.envs.planning import PlanningEnv\n",
    "from skills import Agent_tell\n",
    "from dialop.games.planning import PlanningGame\n",
    "print(\"Imports successful!\")"
   ]
  },
  {
   "cell_type": "code",
   "execution_count": 70,
   "metadata": {},
   "outputs": [],
   "source": [
    "\n",
    "import gspread\n",
    "from google.oauth2.service_account import Credentials\n",
    "\n",
    "SERVICE_ACCOUNT_FILE = '/Users/georgiazhou/research_machine/dialop/dialop-8759580d9f40.json'\n",
    "SCOPE = [\"https://spreadsheets.google.com/feeds\", \n",
    "         \"https://www.googleapis.com/auth/drive\"]\n",
    "credentials = Credentials.from_service_account_file(SERVICE_ACCOUNT_FILE, scopes=SCOPE)\n",
    "client = gspread.authorize(credentials)\n",
    "spreadsheet = client.open('Dialop-GPT4-Planning')\n",
    "worksheet = spreadsheet.get_worksheet(8)"
   ]
  },
  {
   "cell_type": "code",
   "execution_count": null,
   "metadata": {},
   "outputs": [],
   "source": []
  },
  {
   "cell_type": "code",
   "execution_count": 4,
   "metadata": {},
   "outputs": [
    {
     "data": {
      "text/html": [
       "<pre style=\"white-space:pre;overflow-x:auto;line-height:normal;font-family:Menlo,'DejaVu Sans Mono',consolas,'Courier New',monospace\"><span style=\"color: #800080; text-decoration-color: #800080\">/Users/georgiazhou/research_machine/dialop/dialop/checkpoints/</span><span style=\"color: #ff00ff; text-decoration-color: #ff00ff\">debug_states</span>\n",
       "</pre>\n"
      ],
      "text/plain": [
       "\u001b[35m/Users/georgiazhou/research_machine/dialop/dialop/checkpoints/\u001b[0m\u001b[95mdebug_states\u001b[0m\n"
      ]
     },
     "metadata": {},
     "output_type": "display_data"
    },
    {
     "data": {
      "text/html": [
       "<pre style=\"white-space:pre;overflow-x:auto;line-height:normal;font-family:Menlo,'DejaVu Sans Mono',consolas,'Courier New',monospace\">Successfully loaded checkpoint!\n",
       "</pre>\n"
      ],
      "text/plain": [
       "Successfully loaded checkpoint!\n"
      ]
     },
     "metadata": {},
     "output_type": "display_data"
    },
    {
     "data": {
      "text/html": [
       "<pre style=\"white-space:pre;overflow-x:auto;line-height:normal;font-family:Menlo,'DejaVu Sans Mono',consolas,'Courier New',monospace\">\n",
       "Turn: <span style=\"color: #008080; text-decoration-color: #008080; font-weight: bold\">2</span>\n",
       "</pre>\n"
      ],
      "text/plain": [
       "\n",
       "Turn: \u001b[1;36m2\u001b[0m\n"
      ]
     },
     "metadata": {},
     "output_type": "display_data"
    },
    {
     "data": {
      "text/html": [
       "<pre style=\"white-space:pre;overflow-x:auto;line-height:normal;font-family:Menlo,'DejaVu Sans Mono',consolas,'Courier New',monospace\">Features: <span style=\"font-weight: bold\">[</span><span style=\"color: #008000; text-decoration-color: #008000\">''</span>, <span style=\"color: #008000; text-decoration-color: #008000\">'{AtLeastOneEventType: landmark, rating: good, has_parking: true}'</span><span style=\"font-weight: bold\">]</span>\n",
       "</pre>\n"
      ],
      "text/plain": [
       "Features: \u001b[1m[\u001b[0m\u001b[32m''\u001b[0m, \u001b[32m'\u001b[0m\u001b[32m{\u001b[0m\u001b[32mAtLeastOneEventType: landmark, rating: good, has_parking: true\u001b[0m\u001b[32m}\u001b[0m\u001b[32m'\u001b[0m\u001b[1m]\u001b[0m\n"
      ]
     },
     "metadata": {},
     "output_type": "display_data"
    },
    {
     "data": {
      "text/html": [
       "<pre style=\"white-space:pre;overflow-x:auto;line-height:normal;font-family:Menlo,'DejaVu Sans Mono',consolas,'Courier New',monospace\">Players: <span style=\"font-weight: bold\">[</span><span style=\"color: #008000; text-decoration-color: #008000\">'agent'</span>, <span style=\"color: #008000; text-decoration-color: #008000\">'user'</span><span style=\"font-weight: bold\">]</span>\n",
       "</pre>\n"
      ],
      "text/plain": [
       "Players: \u001b[1m[\u001b[0m\u001b[32m'agent'\u001b[0m, \u001b[32m'user'\u001b[0m\u001b[1m]\u001b[0m\n"
      ]
     },
     "metadata": {},
     "output_type": "display_data"
    }
   ],
   "source": [
    "# Initialize checkpoint manager\n"
   ]
  },
  {
   "cell_type": "code",
   "execution_count": 5,
   "metadata": {},
   "outputs": [
    {
     "data": {
      "text/html": [
       "<pre style=\"white-space:pre;overflow-x:auto;line-height:normal;font-family:Menlo,'DejaVu Sans Mono',consolas,'Courier New',monospace\">=== Agent Info ===\n",
       "</pre>\n"
      ],
      "text/plain": [
       "=== Agent Info ===\n"
      ]
     },
     "metadata": {},
     "output_type": "display_data"
    },
    {
     "data": {
      "text/html": [
       "<pre style=\"white-space:pre;overflow-x:auto;line-height:normal;font-family:Menlo,'DejaVu Sans Mono',consolas,'Courier New',monospace\">Agent role: agent\n",
       "</pre>\n"
      ],
      "text/plain": [
       "Agent role: agent\n"
      ]
     },
     "metadata": {},
     "output_type": "display_data"
    },
    {
     "data": {
      "text/html": [
       "<pre style=\"white-space:pre;overflow-x:auto;line-height:normal;font-family:Menlo,'DejaVu Sans Mono',consolas,'Courier New',monospace\">\n",
       "=== User Info ===\n",
       "</pre>\n"
      ],
      "text/plain": [
       "\n",
       "=== User Info ===\n"
      ]
     },
     "metadata": {},
     "output_type": "display_data"
    },
    {
     "data": {
      "text/html": [
       "<pre style=\"white-space:pre;overflow-x:auto;line-height:normal;font-family:Menlo,'DejaVu Sans Mono',consolas,'Courier New',monospace\">User role: user\n",
       "</pre>\n"
      ],
      "text/plain": [
       "User role: user\n"
      ]
     },
     "metadata": {},
     "output_type": "display_data"
    },
    {
     "data": {
      "text/html": [
       "<pre style=\"white-space:pre;overflow-x:auto;line-height:normal;font-family:Menlo,'DejaVu Sans Mono',consolas,'Courier New',monospace\">User observations: \n",
       "You:Travel Preferences:\n",
       "go to at least one landmark\n",
       "renting a car so preferably places with parking\n",
       "definitely want to check out Dan's recommendations: Central Plaza, The Mall\n",
       "prefer ratings above <span style=\"color: #008080; text-decoration-color: #008080; font-weight: bold\">4</span>\n",
       "generally like eating vegan options\n",
       "check out live music!\n",
       "family trip, best to go to places that are good for kids\n",
       "find a place with wifi to do some work at some point\n",
       "keep budget below $<span style=\"color: #008080; text-decoration-color: #008080; font-weight: bold\">40</span>\n",
       "COVID conscious, outdoor seating places would be best\n",
       "minimize travel distance\n",
       "you must follow your communication styl<span style=\"color: #00ff00; text-decoration-color: #00ff00; font-weight: bold\">e:C</span>ommunication Style:\n",
       "Feedback Provider: This client is likely to give feedback and suggestions throughout the planning process and \n",
       "appreciates being asked for their opinions.\n",
       "Detail-Oriented Client: This client pays attention to the finer details and may ask specific questions about \n",
       "logistics, timing, and contingency plans.\n",
       "You:\n",
       "You:I'm planning to visit with my family and would prefer a good rated location. Dan recommended Central Plaza and \n",
       "The Mall. By the way, do these places have parking available?\n",
       "Error: Invalid message: I'm planning to visit with my family and would prefer a good rated location. Dan \n",
       "recommended Central Plaza and The Mall. By the way, do these places have parking available?.Messages must be \n",
       "formatted with a type like <span style=\"color: #008000; text-decoration-color: #008000\">'&lt;content here&gt;'</span>\n",
       "You: My main focus is to visit at least one landmark with a good rating, check out Dan's recommendations including \n",
       "Central Plaza, and The Mall, and secure a place with parking as I am renting a car. Can you suggest places \n",
       "according to these preferences?\n",
       "</pre>\n"
      ],
      "text/plain": [
       "User observations: \n",
       "You:Travel Preferences:\n",
       "go to at least one landmark\n",
       "renting a car so preferably places with parking\n",
       "definitely want to check out Dan's recommendations: Central Plaza, The Mall\n",
       "prefer ratings above \u001b[1;36m4\u001b[0m\n",
       "generally like eating vegan options\n",
       "check out live music!\n",
       "family trip, best to go to places that are good for kids\n",
       "find a place with wifi to do some work at some point\n",
       "keep budget below $\u001b[1;36m40\u001b[0m\n",
       "COVID conscious, outdoor seating places would be best\n",
       "minimize travel distance\n",
       "you must follow your communication styl\u001b[1;92me:C\u001b[0mommunication Style:\n",
       "Feedback Provider: This client is likely to give feedback and suggestions throughout the planning process and \n",
       "appreciates being asked for their opinions.\n",
       "Detail-Oriented Client: This client pays attention to the finer details and may ask specific questions about \n",
       "logistics, timing, and contingency plans.\n",
       "You:\n",
       "You:I'm planning to visit with my family and would prefer a good rated location. Dan recommended Central Plaza and \n",
       "The Mall. By the way, do these places have parking available?\n",
       "Error: Invalid message: I'm planning to visit with my family and would prefer a good rated location. Dan \n",
       "recommended Central Plaza and The Mall. By the way, do these places have parking available?.Messages must be \n",
       "formatted with a type like \u001b[32m'\u001b[0m\u001b[32m<\u001b[0m\u001b[32mcontent\u001b[0m\u001b[32m here\u001b[0m\u001b[32m>\u001b[0m\u001b[32m'\u001b[0m\n",
       "You: My main focus is to visit at least one landmark with a good rating, check out Dan's recommendations including \n",
       "Central Plaza, and The Mall, and secure a place with parking as I am renting a car. Can you suggest places \n",
       "according to these preferences?\n"
      ]
     },
     "metadata": {},
     "output_type": "display_data"
    }
   ],
   "source": [
    "# Access player objects\n",
    "\n"
   ]
  },
  {
   "cell_type": "code",
   "execution_count": 170,
   "metadata": {},
   "outputs": [
    {
     "name": "stdout",
     "output_type": "stream",
     "text": [
      "Loaded .api_key\n",
      "Loaded .api_key\n",
      "Loaded .api_key\n"
     ]
    },
    {
     "data": {
      "text/html": [
       "<pre style=\"white-space:pre;overflow-x:auto;line-height:normal;font-family:Menlo,'DejaVu Sans Mono',consolas,'Courier New',monospace\">\n",
       "Turn: <span style=\"color: #008080; text-decoration-color: #008080; font-weight: bold\">6</span>\n",
       "</pre>\n"
      ],
      "text/plain": [
       "\n",
       "Turn: \u001b[1;36m6\u001b[0m\n"
      ]
     },
     "metadata": {},
     "output_type": "display_data"
    },
    {
     "data": {
      "text/html": [
       "<pre style=\"white-space:pre;overflow-x:auto;line-height:normal;font-family:Menlo,'DejaVu Sans Mono',consolas,'Courier New',monospace\">Features: <span style=\"font-weight: bold\">{</span><span style=\"color: #008000; text-decoration-color: #008000\">'has_parking'</span>: <span style=\"font-weight: bold\">[</span><span style=\"color: #008000; text-decoration-color: #008000\">'not a deal breaker'</span>, <span style=\"color: #008000; text-decoration-color: #008000\">'Low'</span><span style=\"font-weight: bold\">]</span>, <span style=\"color: #008000; text-decoration-color: #008000\">'WantToGo'</span>: <span style=\"font-weight: bold\">[</span><span style=\"color: #008000; text-decoration-color: #008000\">'The Mall'</span>, <span style=\"color: #008000; text-decoration-color: #008000\">'Unknown'</span><span style=\"font-weight: bold\">]</span>, \n",
       "<span style=\"color: #008000; text-decoration-color: #008000\">'AtLeastOneEventType'</span>: <span style=\"font-weight: bold\">[</span><span style=\"color: #008000; text-decoration-color: #008000\">'landmark'</span>, <span style=\"color: #008000; text-decoration-color: #008000\">'Unknown'</span><span style=\"font-weight: bold\">]}</span>\n",
       "</pre>\n"
      ],
      "text/plain": [
       "Features: \u001b[1m{\u001b[0m\u001b[32m'has_parking'\u001b[0m: \u001b[1m[\u001b[0m\u001b[32m'not a deal breaker'\u001b[0m, \u001b[32m'Low'\u001b[0m\u001b[1m]\u001b[0m, \u001b[32m'WantToGo'\u001b[0m: \u001b[1m[\u001b[0m\u001b[32m'The Mall'\u001b[0m, \u001b[32m'Unknown'\u001b[0m\u001b[1m]\u001b[0m, \n",
       "\u001b[32m'AtLeastOneEventType'\u001b[0m: \u001b[1m[\u001b[0m\u001b[32m'landmark'\u001b[0m, \u001b[32m'Unknown'\u001b[0m\u001b[1m]\u001b[0m\u001b[1m}\u001b[0m\n"
      ]
     },
     "metadata": {},
     "output_type": "display_data"
    },
    {
     "data": {
      "text/html": [
       "<pre style=\"white-space:pre;overflow-x:auto;line-height:normal;font-family:Menlo,'DejaVu Sans Mono',consolas,'Courier New',monospace\">Players: <span style=\"font-weight: bold\">[</span><span style=\"color: #008000; text-decoration-color: #008000\">'agent'</span>, <span style=\"color: #008000; text-decoration-color: #008000\">'user'</span><span style=\"font-weight: bold\">]</span>\n",
       "</pre>\n"
      ],
      "text/plain": [
       "Players: \u001b[1m[\u001b[0m\u001b[32m'agent'\u001b[0m, \u001b[32m'user'\u001b[0m\u001b[1m]\u001b[0m\n"
      ]
     },
     "metadata": {},
     "output_type": "display_data"
    }
   ],
   "source": [
    "checkpoint_mgr = CheckpointManager()\n",
    "\n",
    "        # Load the initial state\n",
    "initial_state = checkpoint_mgr.load_full_state(\"initial_state\")\n",
    "try:\n",
    "    # Access key components\n",
    "    players = initial_state['players']\n",
    "    extracted_features = initial_state.get('extracted_features', [])\n",
    "    t = initial_state.get('t', 0)\n",
    "    env = initial_state.get('env', None)\n",
    "    agent = initial_state['players']['agent']\n",
    "    user = initial_state['players']['user']\n",
    "    chat_history = agent.prompt\n",
    "    if not env:\n",
    "        print(\"No environment found in checkpoint.\")\n",
    "    print(f\"\\nTurn: {t}\")\n",
    "    print(f\"Features: {extracted_features}\")\n",
    "    print(f\"Players: {list(players.keys())}\")\n",
    "    \n",
    "except Exception as e:\n",
    "    print(f\"Error loading checkpoint: {str(e)}\")"
   ]
  },
  {
   "cell_type": "code",
   "execution_count": 139,
   "metadata": {},
   "outputs": [],
   "source": [
    "def n_different_responses(players, strategy_response_list, t):\n",
    "    \n",
    "    \n",
    "    resp1 = players['agent'].respond(t, 35, vary=True, strategy = strategy_response_list[0])\n",
    "    resp2 = players['agent'].respond(t, 35, vary=True, strategy = strategy_response_list[1])\n",
    "    resp3 = players['agent'].respond(t, 35, vary=True, strategy = strategy_response_list[2])\n",
    "    return [resp1, resp2, resp3]\n",
    "\n",
    "\n"
   ]
  },
  {
   "cell_type": "code",
   "execution_count": 136,
   "metadata": {},
   "outputs": [
    {
     "name": "stdout",
     "output_type": "stream",
     "text": [
      "Loaded .api_key\n",
      "Loaded .api_key\n",
      "Loaded .api_key\n"
     ]
    }
   ],
   "source": [
    "\n",
    "\n",
    "\n",
    "def initialize_parallel_conversations(agent_3_responses, strategy_response_list, players, env, t):\n",
    "    # Create parallel conversation manager\n",
    "    parallel_convs = ParallelConversations(\n",
    "        num_streams=3,\n",
    "        players=players,\n",
    "        env_ctor=lambda: PlanningEnv(),\n",
    "        env=env,\n",
    "        max_length=35\n",
    "    )\n",
    "    \n",
    "    # Generate initial responses\n",
    "    \n",
    "    # Initialize parallel streams\n",
    "    parallel_convs.initialize_streams(agent_3_responses, strategy_response_list, t)\n",
    "    \n",
    "    print(\"\\nInitialized parallel conversations:\")\n",
    "    for i, conv in enumerate(parallel_convs.conversations):\n",
    "        state = conv.get_current_state()\n",
    "        print(f\"\\nStream {i+1}:\")\n",
    "        print(f\"Initial response: {agent_3_responses[i][:100]}...\")\n",
    "        print(f\"Features extracted: {state.features}\")\n",
    "        \n",
    "    return parallel_convs\n",
    "\n",
    "# Initialize parallel conversations\n",
    "\n",
    "\n"
   ]
  },
  {
   "cell_type": "code",
   "execution_count": null,
   "metadata": {},
   "outputs": [],
   "source": []
  },
  {
   "cell_type": "code",
   "execution_count": 73,
   "metadata": {},
   "outputs": [],
   "source": [
    "def style_judger(parallel_convs):\n",
    "    with open (\"/Users/georgiazhou/research_machine/dialop/dialop/RL/explanation_per_persona.txt\", \"r\") as f:\n",
    "        explanation_per_persona = json.load(f)\n",
    "    user_base_prompt = parallel_convs.c_players['user'].user_prompt_obss\n",
    "    first_you = user_base_prompt.find(\"You:\")\n",
    "    second_you = user_base_prompt.find(\"You:\", first_you + 1)\n",
    "    user_base_prompt = user_base_prompt[second_you:]\n",
    "    prompt = \"You are a communication expert. Please first judge whether the following messages on conform to one of the styles listed. You should only confirm if you are very confident. If you don't think the message conforms to any of the styles, output: {}. If you find one or two that match, output the style(s) that you think it matches as {style : explanation, ...}. Here is conversation history: \" + \"\\n\" + user_base_prompt + \"Here are the styles you should judge against: \" + \"\\n\" + str(explanation_per_persona) + \"Remember you should only output the style(s) that you are very confident about. If you are not very confident about any of the options, output: {}.  \"\n",
    "    response = Agent_tell(prompt)\n",
    "    \n",
    "    return response\n",
    "\n"
   ]
  },
  {
   "cell_type": "code",
   "execution_count": 119,
   "metadata": {},
   "outputs": [],
   "source": [
    "def get_conversation_history(game):\n",
    "    # Full action log (includes messages, proposals, and responses)\n",
    "    full_history = game.action_log  # List of dicts with type, message, player, time\n",
    "    \n",
    "    # Messages only\n",
    "    messages_only = game.message_history  # List of message strings\n",
    "    \n",
    "    # Format by player\n",
    "    all_conversation = ''\n",
    "    for action in game.action_log:\n",
    "        if action[\"type\"] == \"message\":\n",
    "            speaker = \"agent\" if action[\"player\"] == 1 else \"user\"\n",
    "            conversation_str = f\"{speaker}: {action['message']}\\n\"\n",
    "            all_conversation += conversation_str\n",
    "    \n",
    "    return all_conversation"
   ]
  },
  {
   "cell_type": "code",
   "execution_count": 155,
   "metadata": {},
   "outputs": [],
   "source": [
    "def strategy_sampling(env):\n",
    "    with open(\"/Users/georgiazhou/research_machine/dialop/dialop/envs/data/planning_strategy_sampling.txt\", \"r\") as f:\n",
    "        strategy_prompt = f.read()\n",
    "    \n",
    "    chat_history = get_conversation_history(env.game)\n",
    "\n",
    "    whole_prompt = strategy_prompt + \"\\n\" + chat_history\n",
    "    \n",
    "    \n",
    "    strategy_response = Agent_tell(whole_prompt)\n",
    "    strategy_response = re.sub(r'\\n\\s*\\n', '\\n', strategy_response)\n",
    "    strategy_response_list = strategy_response.split('\\n')\n",
    "\n",
    "    \n",
    "    return strategy_response_list\n",
    "\n"
   ]
  },
  {
   "cell_type": "code",
   "execution_count": 74,
   "metadata": {},
   "outputs": [],
   "source": [
    "\n",
    "def step_parallel_conversations(parallel_convs):\n",
    "    \"\"\"Step conversations until each hits a user turn\"\"\"\n",
    "    \n",
    "    # Track which conversations are waiting for user input\n",
    "    waiting_for_user = [False] * len(parallel_convs.conversations)\n",
    "    \n",
    "    \n",
    "    while not all(waiting_for_user):\n",
    "        # Get responses for conversations where it's agent's turn\n",
    "    \n",
    "        active_convs = {0:'', 1:'', 2:''}  # Track which conversations get stepped\n",
    "        \n",
    "        for i, conv in enumerate(parallel_convs.conversations):\n",
    "            if waiting_for_user[i]:\n",
    "                active_convs[i] = None  # Placeholder to maintain indexing\n",
    "                continue\n",
    "                \n",
    "            state = conv.get_current_state()\n",
    "            if state.obss[\"turn_player\"] == \"agent\":\n",
    "                response = conv.players[\"agent\"].respond(vary=True)\n",
    "                active_convs[i] = response\n",
    "            \n",
    "            else:\n",
    "                # Hit user turn - mark this conversation as waiting\n",
    "                waiting_for_user[i] = True\n",
    "                active_convs[i] = None\n",
    "                print(f\"----Conversation {i} is waiting for user input---\")\n",
    "        \n",
    "        # Step only the active conversations forward\n",
    "        if active_convs:\n",
    "\n",
    "            print(\"\\nStepping conversations:\", active_convs)\n",
    "            for i, response in active_convs.items():\n",
    "                if response is not None:\n",
    "                    print(f\"\\nConversation {i} response:\\n{response[:100]}...\")\n",
    "                    conv = parallel_convs.conversations[i]\n",
    "                    players = parallel_convs.players_dict[i]\n",
    "                    print(response)\n",
    "                    \n",
    "                    conv.step(str(response), conv.get_current_state().turn + 1)\n",
    "                    [player.observe(conv.state.obss[pname]) for pname, player in players.items()]\n",
    "                \n",
    "        \n",
    "    \n",
    "    print(\"\\nAll conversations are now waiting for user input\")\n",
    "    # Print current state of each conversation\n",
    "    for i, conv in enumerate(parallel_convs.conversations):\n",
    "        state = conv.get_current_state()\n",
    "        print(f\"\\nConversation {i} (Turn {state.turn}):\")\n",
    "        print(f\"Last observation: {state.obss.get('user', '')[:100]}...\")\n",
    "    \n",
    "    return parallel_convs\n",
    "\n",
    "# Use it like this:\n",
    "\n"
   ]
  },
  {
   "cell_type": "code",
   "execution_count": 75,
   "metadata": {},
   "outputs": [],
   "source": [
    "def get_conversation_streams_spreadsheet(parallel_convs):\n",
    "    \"\"\"Get the full conversation history for each parallel stream\"\"\"\n",
    "    conversation_streams = []\n",
    "    \n",
    "    for i, conv in enumerate(parallel_convs.conversations):\n",
    "        stream = []\n",
    "        # Get all observations from conversation history\n",
    "        for state in conv.history:\n",
    "            if 'user' in state.obss:\n",
    "                stream.append(('user', state.obss['user']))\n",
    "            if 'agent' in state.obss:\n",
    "                stream.append(('agent', state.obss['agent']))\n",
    "                # Get all observations from conversation history\n",
    "        formatted_stream = '\\n'.join([f\"{speaker}: {message}\\n\" for speaker, message in stream])     \n",
    "        worksheet.update_cell(2, 8+i, formatted_stream)\n",
    "        conversation_streams.append(stream)\n",
    "\n",
    "             \n",
    "    # Save conversation streams to spreadsheet\n",
    "\n",
    "            \n",
    "    # Update cell H2 with the conversation streams\n",
    "    \n",
    "            \n",
    "    return conversation_streams\n",
    "\n",
    "# Get the conversation streams\n",
    "\n"
   ]
  },
  {
   "cell_type": "code",
   "execution_count": null,
   "metadata": {},
   "outputs": [],
   "source": []
  },
  {
   "cell_type": "code",
   "execution_count": 9,
   "metadata": {},
   "outputs": [],
   "source": [
    "\n",
    "def clean_user_conversation(base_user_prompt_obss,  parallel_convs):\n",
    "    user_conversations_no_pref = []\n",
    "    \n",
    "    for i in range(3):\n",
    "        user_conve_record = base_user_prompt_obss + parallel_convs.players_dict[i]['user'].user_prompt_obss\n",
    "        first_you = user_conve_record.find(\"You:\")\n",
    "        second_you = user_conve_record.find(\"You:\", first_you + 1)\n",
    "\n",
    "    # Get everything from second \"You:\" onwards\n",
    "        user_conversations_no_pref.append(user_conve_record[second_you:])\n",
    "    return user_conversations_no_pref\n",
    "\n",
    "\n",
    "\n"
   ]
  },
  {
   "cell_type": "code",
   "execution_count": 62,
   "metadata": {},
   "outputs": [],
   "source": [
    "\n",
    "def sample_preferences(known_preferences):\n",
    "    potential_prefs_list = json.loads(open(\"/Users/georgiazhou/research_machine/dialop/dialop/RL/feature_dict.txt\").read())\n",
    "    # it's a dictionary, so we need to get the keys; known should also be a dictionary\n",
    "    # make sure known preferences are keys or dicts/\n",
    "    available_prefs = list(set(potential_prefs_list.keys()) - set(known_preferences))\n",
    "    pref_list = random.sample(available_prefs, (10-len(known_preferences)))\n",
    "    pref_dict = {}\n",
    "    for pref in pref_list:\n",
    "        if potential_prefs_list[pref] == 'binary':\n",
    "            pref_dict[pref] = random.choice(['like', 'dislike'])\n",
    "        else:\n",
    "            pref_dict[pref] = 'like'\n",
    "        \n",
    "    return pref_dict\n",
    "def get_column_letter(n):\n",
    "    \"\"\"Convert number to Excel column letters (A->1, B->2, AA->27, etc)\"\"\"\n",
    "    if n == 0:\n",
    "        return 'A'\n",
    "    while n > 0:\n",
    "        n, remainder = divmod(n, 26)\n",
    "        result = chr(65 + remainder) \n",
    "    print(result)\n",
    "    return result\n",
    "\n",
    "global_preferences_only = []\n",
    "def n_1_user_personas(formatted_sampled_preferences, extracted_features, record = None, style_response = None):\n",
    "    \"\"\"\n",
    "    Create 10 user personas for each conversation; no longer use sample_preferences\n",
    "    \"\"\"\n",
    "\n",
    "    global global_preferences_only\n",
    "    if re.search('Communication Style', formatted_sampled_preferences):\n",
    "        formatted_sampled_preferences = formatted_sampled_preferences[:formatted_sampled_preferences.find('Communication')]\n",
    "    # currently there's 1 user per agent reply. \n",
    "    #for j,record in enumerate(user_conversations_no_pref):\n",
    "    #prompts = []\n",
    "    #preferences = []\n",
    "    #for i in range(10):\n",
    "    # If formatted_sampled_preferences is a list of strings, join them with newlines\n",
    "    if isinstance(extracted_features, dict):\n",
    "        formatted_features = []\n",
    "        for key, value in extracted_features.items():\n",
    "            if value[1] == 'Unknown':\n",
    "                importance = random.choice(['High', 'Medium', 'Low'])\n",
    "                formatted_features.append(f\"{key}, {value[0]} : importance {importance}\")\n",
    "            else:\n",
    "                formatted_features.append(f\"{key}, {value[0]} : importance {value[1]}\")\n",
    "        extracted_features = '\\n'.join(formatted_features)\n",
    "    \n",
    "    if style_response:\n",
    "        preference = 'Here are your preferences: ' + str(formatted_sampled_preferences) + str(extracted_features)  + \"\\n\" + \"Here are your communication styles: \" + str(style_response)\n",
    "    else:\n",
    "        preference = 'Here are your preferences: ' +  str(formatted_sampled_preferences) + str(extracted_features) \n",
    "        \n",
    "                \n",
    "    if record:\n",
    "        features_prompt = preference + '\\n' + record\n",
    "    else:\n",
    "        features_prompt = preference\n",
    "    \n",
    "    global_preferences_only.append(str(formatted_sampled_preferences) + str(extracted_features))\n",
    "    #prompts.append(features_prompt)\n",
    "    #preferences.append(preference)\n",
    "\n",
    "    #worksheet.update(f'{get_column_letter(10*j)}{5}:{get_column_letter(10*j + 9)}{5}', [preferences])\n",
    "\n",
    "        \n",
    "    return features_prompt\n",
    "\n",
    "\n",
    "\n",
    "\n",
    "# do I sample communication style? \n",
    "\n",
    "# next I should make sure info used to create users are helpful (what cuisine, what distance, etc). Also make sure the \n",
    "# user understands the preferences. Then I add the general user prompt to the begining of each user prompt"
   ]
  },
  {
   "cell_type": "code",
   "execution_count": 11,
   "metadata": {},
   "outputs": [],
   "source": [
    "def create_10_new_user_per_conv(half_prompts, parallel_convs):\n",
    "    players = {}\n",
    "    for i, half_per_conv in enumerate(half_prompts):\n",
    "        players[i] = parallel_convs.create_pair_new_players(parallel_convs.players_dict[i], multiple_user_personas_incomplete_prompt=half_per_conv)\n",
    "    return players\n",
    "    \n",
    "\n",
    "\n",
    "#print(agent_user_10_pairs_dict[0]['user_0'].prompt, agent_user_10_pairs_dict[0]['user_1'].prompt)\n"
   ]
  },
  {
   "cell_type": "code",
   "execution_count": 77,
   "metadata": {},
   "outputs": [],
   "source": [
    "def format_user_game_state(base_env, incomplete_action_log = False):\n",
    "    \"\"\"create custom prefereces and score function (see game class)\"\"\"\n",
    "    if incomplete_action_log:\n",
    "        action_log = []\n",
    "    else:\n",
    "        action_log = base_env.game.action_log\n",
    "    game_state = {\n",
    "                \"action_log\": action_log,\n",
    "                \"events\": base_env.game.events,\n",
    "                \"preferences\": base_env.game.prefs,  # Must be in the format [(desc, weight, cls_name, cls_args), ...]\n",
    "                \"persona_styles\": base_env.game.persona_styles\n",
    "                }\n",
    "    return game_state\n"
   ]
  },
  {
   "cell_type": "code",
   "execution_count": null,
   "metadata": {},
   "outputs": [],
   "source": []
  },
  {
   "cell_type": "code",
   "execution_count": 76,
   "metadata": {},
   "outputs": [],
   "source": [
    "def parse_extracted_features(extracted_features):\n",
    "    parsed_features = []\n",
    "    for f in extracted_features:\n",
    "        parsed = parse_feature_string(f)\n",
    "        if parsed:\n",
    "            parsed_features.extend(parsed)\n",
    "    return parsed_features\n",
    "def parse_feature_string(feature_str):\n",
    "    \"\"\"Convert feature string to list of features.\"\"\"\n",
    "    if not feature_str or feature_str == '':\n",
    "        return []\n",
    "    \n",
    "    # Remove outer braces and split on commas\n",
    "    feature_str = feature_str.strip('{}')\n",
    "    features = [f.strip() for f in feature_str.split(',')]\n",
    "    \n",
    "    # Clean up each feature\n",
    "    parsed = []\n",
    "    for f in features:\n",
    "        if f:  # Skip empty strings\n",
    "            parsed.append(f.strip())\n",
    "            \n",
    "    return parsed\n",
    "\n",
    "# Parse extracted features\n",
    "\n",
    "\n",
    "\n"
   ]
  },
  {
   "cell_type": "code",
   "execution_count": null,
   "metadata": {},
   "outputs": [],
   "source": []
  },
  {
   "cell_type": "code",
   "execution_count": 171,
   "metadata": {},
   "outputs": [],
   "source": [
    "\n",
    "\n",
    "strategy_response_list = strategy_sampling(env)\n",
    "\n",
    "\n",
    "\n"
   ]
  },
  {
   "cell_type": "code",
   "execution_count": 157,
   "metadata": {},
   "outputs": [
    {
     "data": {
      "text/html": [
       "<pre style=\"white-space:pre;overflow-x:auto;line-height:normal;font-family:Menlo,'DejaVu Sans Mono',consolas,'Courier New',monospace\"><span style=\"color: #008080; text-decoration-color: #008080; font-weight: bold\">3</span>\n",
       "</pre>\n"
      ],
      "text/plain": [
       "\u001b[1;36m3\u001b[0m\n"
      ]
     },
     "metadata": {},
     "output_type": "display_data"
    }
   ],
   "source": [
    "print(len(strategy_response_list))\n"
   ]
  },
  {
   "cell_type": "code",
   "execution_count": 172,
   "metadata": {},
   "outputs": [
    {
     "data": {
      "text/html": [
       "<pre style=\"white-space:pre;overflow-x:auto;line-height:normal;font-family:Menlo,'DejaVu Sans Mono',consolas,'Courier New',monospace\">Response:  <span style=\"font-weight: bold\">[</span>message<span style=\"font-weight: bold\">]</span> Thanks for your response! Central Plaza and The Mall will certainly be part of our plan. Are \n",
       "there any specific landmarks or activities you'd like to consider in our plan, or other deal-breakers to keep in \n",
       "mind?\n",
       "</pre>\n"
      ],
      "text/plain": [
       "Response:  \u001b[1m[\u001b[0mmessage\u001b[1m]\u001b[0m Thanks for your response! Central Plaza and The Mall will certainly be part of our plan. Are \n",
       "there any specific landmarks or activities you'd like to consider in our plan, or other deal-breakers to keep in \n",
       "mind?\n"
      ]
     },
     "metadata": {},
     "output_type": "display_data"
    },
    {
     "data": {
      "text/html": [
       "<pre style=\"white-space:pre;overflow-x:auto;line-height:normal;font-family:Menlo,'DejaVu Sans Mono',consolas,'Courier New',monospace\">stop:  stop\n",
       "</pre>\n"
      ],
      "text/plain": [
       "stop:  stop\n"
      ]
     },
     "metadata": {},
     "output_type": "display_data"
    },
    {
     "data": {
      "text/html": [
       "<pre style=\"white-space:pre;overflow-x:auto;line-height:normal;font-family:Menlo,'DejaVu Sans Mono',consolas,'Courier New',monospace\"><span style=\"color: #800080; text-decoration-color: #800080; font-weight: bold\">CompletionUsage</span><span style=\"font-weight: bold\">(</span>\n",
       "    <span style=\"color: #808000; text-decoration-color: #808000\">completion_tokens</span>=<span style=\"color: #008080; text-decoration-color: #008080; font-weight: bold\">47</span>,\n",
       "    <span style=\"color: #808000; text-decoration-color: #808000\">prompt_tokens</span>=<span style=\"color: #008080; text-decoration-color: #008080; font-weight: bold\">2130</span>,\n",
       "    <span style=\"color: #808000; text-decoration-color: #808000\">total_tokens</span>=<span style=\"color: #008080; text-decoration-color: #008080; font-weight: bold\">2177</span>,\n",
       "    <span style=\"color: #808000; text-decoration-color: #808000\">completion_tokens_details</span>=<span style=\"color: #800080; text-decoration-color: #800080; font-weight: bold\">CompletionTokensDetails</span><span style=\"font-weight: bold\">(</span>\n",
       "        <span style=\"color: #808000; text-decoration-color: #808000\">reasoning_tokens</span>=<span style=\"color: #008080; text-decoration-color: #008080; font-weight: bold\">0</span>,\n",
       "        <span style=\"color: #808000; text-decoration-color: #808000\">audio_tokens</span>=<span style=\"color: #008080; text-decoration-color: #008080; font-weight: bold\">0</span>,\n",
       "        <span style=\"color: #808000; text-decoration-color: #808000\">accepted_prediction_tokens</span>=<span style=\"color: #008080; text-decoration-color: #008080; font-weight: bold\">0</span>,\n",
       "        <span style=\"color: #808000; text-decoration-color: #808000\">rejected_prediction_tokens</span>=<span style=\"color: #008080; text-decoration-color: #008080; font-weight: bold\">0</span>\n",
       "    <span style=\"font-weight: bold\">)</span>,\n",
       "    <span style=\"color: #808000; text-decoration-color: #808000\">prompt_tokens_details</span>=<span style=\"font-weight: bold\">{</span><span style=\"color: #008000; text-decoration-color: #008000\">'cached_tokens'</span>: <span style=\"color: #008080; text-decoration-color: #008080; font-weight: bold\">0</span>, <span style=\"color: #008000; text-decoration-color: #008000\">'audio_tokens'</span>: <span style=\"color: #008080; text-decoration-color: #008080; font-weight: bold\">0</span><span style=\"font-weight: bold\">}</span>\n",
       "<span style=\"font-weight: bold\">)</span>\n",
       "</pre>\n"
      ],
      "text/plain": [
       "\u001b[1;35mCompletionUsage\u001b[0m\u001b[1m(\u001b[0m\n",
       "    \u001b[33mcompletion_tokens\u001b[0m=\u001b[1;36m47\u001b[0m,\n",
       "    \u001b[33mprompt_tokens\u001b[0m=\u001b[1;36m2130\u001b[0m,\n",
       "    \u001b[33mtotal_tokens\u001b[0m=\u001b[1;36m2177\u001b[0m,\n",
       "    \u001b[33mcompletion_tokens_details\u001b[0m=\u001b[1;35mCompletionTokensDetails\u001b[0m\u001b[1m(\u001b[0m\n",
       "        \u001b[33mreasoning_tokens\u001b[0m=\u001b[1;36m0\u001b[0m,\n",
       "        \u001b[33maudio_tokens\u001b[0m=\u001b[1;36m0\u001b[0m,\n",
       "        \u001b[33maccepted_prediction_tokens\u001b[0m=\u001b[1;36m0\u001b[0m,\n",
       "        \u001b[33mrejected_prediction_tokens\u001b[0m=\u001b[1;36m0\u001b[0m\n",
       "    \u001b[1m)\u001b[0m,\n",
       "    \u001b[33mprompt_tokens_details\u001b[0m=\u001b[1m{\u001b[0m\u001b[32m'cached_tokens'\u001b[0m: \u001b[1;36m0\u001b[0m, \u001b[32m'audio_tokens'\u001b[0m: \u001b[1;36m0\u001b[0m\u001b[1m}\u001b[0m\n",
       "\u001b[1m)\u001b[0m\n"
      ]
     },
     "metadata": {},
     "output_type": "display_data"
    },
    {
     "data": {
      "text/html": [
       "<pre style=\"white-space:pre;overflow-x:auto;line-height:normal;font-family:Menlo,'DejaVu Sans Mono',consolas,'Courier New',monospace\">Response:  <span style=\"font-weight: bold\">[</span>tool<span style=\"font-weight: bold\">]</span> <span style=\"color: #800080; text-decoration-color: #800080; font-weight: bold\">Search</span><span style=\"font-weight: bold\">(</span><span style=\"color: #808000; text-decoration-color: #808000\">fields</span>=<span style=\"font-weight: bold\">[</span>name, category, has parking, <span style=\"color: #800080; text-decoration-color: #800080; font-weight: bold\">distance_to</span><span style=\"font-weight: bold\">(</span>Central Plaza<span style=\"font-weight: bold\">)]</span>, <span style=\"color: #808000; text-decoration-color: #808000\">filters</span>=<span style=\"font-weight: bold\">[</span>category == \n",
       "landmark, has parking == <span style=\"color: #00ff00; text-decoration-color: #00ff00; font-style: italic\">True</span><span style=\"font-weight: bold\">]</span>, <span style=\"color: #808000; text-decoration-color: #808000\">sort_by</span>=<span style=\"font-weight: bold\">[</span><span style=\"color: #800080; text-decoration-color: #800080; font-weight: bold\">distance_to</span><span style=\"font-weight: bold\">(</span>Central Plaza<span style=\"font-weight: bold\">)]</span>, <span style=\"color: #808000; text-decoration-color: #808000\">limit</span>=<span style=\"color: #008080; text-decoration-color: #008080; font-weight: bold\">1</span><span style=\"font-weight: bold\">)</span>\n",
       "</pre>\n"
      ],
      "text/plain": [
       "Response:  \u001b[1m[\u001b[0mtool\u001b[1m]\u001b[0m \u001b[1;35mSearch\u001b[0m\u001b[1m(\u001b[0m\u001b[33mfields\u001b[0m=\u001b[1m[\u001b[0mname, category, has parking, \u001b[1;35mdistance_to\u001b[0m\u001b[1m(\u001b[0mCentral Plaza\u001b[1m)\u001b[0m\u001b[1m]\u001b[0m, \u001b[33mfilters\u001b[0m=\u001b[1m[\u001b[0mcategory == \n",
       "landmark, has parking == \u001b[3;92mTrue\u001b[0m\u001b[1m]\u001b[0m, \u001b[33msort_by\u001b[0m=\u001b[1m[\u001b[0m\u001b[1;35mdistance_to\u001b[0m\u001b[1m(\u001b[0mCentral Plaza\u001b[1m)\u001b[0m\u001b[1m]\u001b[0m, \u001b[33mlimit\u001b[0m=\u001b[1;36m1\u001b[0m\u001b[1m)\u001b[0m\n"
      ]
     },
     "metadata": {},
     "output_type": "display_data"
    },
    {
     "data": {
      "text/html": [
       "<pre style=\"white-space:pre;overflow-x:auto;line-height:normal;font-family:Menlo,'DejaVu Sans Mono',consolas,'Courier New',monospace\">stop:  stop\n",
       "</pre>\n"
      ],
      "text/plain": [
       "stop:  stop\n"
      ]
     },
     "metadata": {},
     "output_type": "display_data"
    },
    {
     "data": {
      "text/html": [
       "<pre style=\"white-space:pre;overflow-x:auto;line-height:normal;font-family:Menlo,'DejaVu Sans Mono',consolas,'Courier New',monospace\"><span style=\"color: #800080; text-decoration-color: #800080; font-weight: bold\">CompletionUsage</span><span style=\"font-weight: bold\">(</span>\n",
       "    <span style=\"color: #808000; text-decoration-color: #808000\">completion_tokens</span>=<span style=\"color: #008080; text-decoration-color: #008080; font-weight: bold\">43</span>,\n",
       "    <span style=\"color: #808000; text-decoration-color: #808000\">prompt_tokens</span>=<span style=\"color: #008080; text-decoration-color: #008080; font-weight: bold\">2121</span>,\n",
       "    <span style=\"color: #808000; text-decoration-color: #808000\">total_tokens</span>=<span style=\"color: #008080; text-decoration-color: #008080; font-weight: bold\">2164</span>,\n",
       "    <span style=\"color: #808000; text-decoration-color: #808000\">completion_tokens_details</span>=<span style=\"color: #800080; text-decoration-color: #800080; font-weight: bold\">CompletionTokensDetails</span><span style=\"font-weight: bold\">(</span>\n",
       "        <span style=\"color: #808000; text-decoration-color: #808000\">reasoning_tokens</span>=<span style=\"color: #008080; text-decoration-color: #008080; font-weight: bold\">0</span>,\n",
       "        <span style=\"color: #808000; text-decoration-color: #808000\">audio_tokens</span>=<span style=\"color: #008080; text-decoration-color: #008080; font-weight: bold\">0</span>,\n",
       "        <span style=\"color: #808000; text-decoration-color: #808000\">accepted_prediction_tokens</span>=<span style=\"color: #008080; text-decoration-color: #008080; font-weight: bold\">0</span>,\n",
       "        <span style=\"color: #808000; text-decoration-color: #808000\">rejected_prediction_tokens</span>=<span style=\"color: #008080; text-decoration-color: #008080; font-weight: bold\">0</span>\n",
       "    <span style=\"font-weight: bold\">)</span>,\n",
       "    <span style=\"color: #808000; text-decoration-color: #808000\">prompt_tokens_details</span>=<span style=\"font-weight: bold\">{</span><span style=\"color: #008000; text-decoration-color: #008000\">'cached_tokens'</span>: <span style=\"color: #008080; text-decoration-color: #008080; font-weight: bold\">0</span>, <span style=\"color: #008000; text-decoration-color: #008000\">'audio_tokens'</span>: <span style=\"color: #008080; text-decoration-color: #008080; font-weight: bold\">0</span><span style=\"font-weight: bold\">}</span>\n",
       "<span style=\"font-weight: bold\">)</span>\n",
       "</pre>\n"
      ],
      "text/plain": [
       "\u001b[1;35mCompletionUsage\u001b[0m\u001b[1m(\u001b[0m\n",
       "    \u001b[33mcompletion_tokens\u001b[0m=\u001b[1;36m43\u001b[0m,\n",
       "    \u001b[33mprompt_tokens\u001b[0m=\u001b[1;36m2121\u001b[0m,\n",
       "    \u001b[33mtotal_tokens\u001b[0m=\u001b[1;36m2164\u001b[0m,\n",
       "    \u001b[33mcompletion_tokens_details\u001b[0m=\u001b[1;35mCompletionTokensDetails\u001b[0m\u001b[1m(\u001b[0m\n",
       "        \u001b[33mreasoning_tokens\u001b[0m=\u001b[1;36m0\u001b[0m,\n",
       "        \u001b[33maudio_tokens\u001b[0m=\u001b[1;36m0\u001b[0m,\n",
       "        \u001b[33maccepted_prediction_tokens\u001b[0m=\u001b[1;36m0\u001b[0m,\n",
       "        \u001b[33mrejected_prediction_tokens\u001b[0m=\u001b[1;36m0\u001b[0m\n",
       "    \u001b[1m)\u001b[0m,\n",
       "    \u001b[33mprompt_tokens_details\u001b[0m=\u001b[1m{\u001b[0m\u001b[32m'cached_tokens'\u001b[0m: \u001b[1;36m0\u001b[0m, \u001b[32m'audio_tokens'\u001b[0m: \u001b[1;36m0\u001b[0m\u001b[1m}\u001b[0m\n",
       "\u001b[1m)\u001b[0m\n"
      ]
     },
     "metadata": {},
     "output_type": "display_data"
    },
    {
     "data": {
      "text/html": [
       "<pre style=\"white-space:pre;overflow-x:auto;line-height:normal;font-family:Menlo,'DejaVu Sans Mono',consolas,'Courier New',monospace\">Response:  <span style=\"font-weight: bold\">[</span>tool<span style=\"font-weight: bold\">]</span> <span style=\"color: #800080; text-decoration-color: #800080; font-weight: bold\">Search</span><span style=\"font-weight: bold\">(</span><span style=\"color: #808000; text-decoration-color: #808000\">fields</span>=<span style=\"font-weight: bold\">[</span>name, category, has parking<span style=\"font-weight: bold\">]</span>, <span style=\"color: #808000; text-decoration-color: #808000\">filters</span>=<span style=\"font-weight: bold\">[</span>category == landmark<span style=\"font-weight: bold\">]</span>, \n",
       "<span style=\"color: #808000; text-decoration-color: #808000\">sort_by</span>=<span style=\"font-weight: bold\">[</span><span style=\"color: #800080; text-decoration-color: #800080; font-weight: bold\">distance_to</span><span style=\"font-weight: bold\">(</span>The Mall<span style=\"font-weight: bold\">)]</span>, <span style=\"color: #808000; text-decoration-color: #808000\">limit</span>=<span style=\"color: #008080; text-decoration-color: #008080; font-weight: bold\">1</span><span style=\"font-weight: bold\">)</span>\n",
       "</pre>\n"
      ],
      "text/plain": [
       "Response:  \u001b[1m[\u001b[0mtool\u001b[1m]\u001b[0m \u001b[1;35mSearch\u001b[0m\u001b[1m(\u001b[0m\u001b[33mfields\u001b[0m=\u001b[1m[\u001b[0mname, category, has parking\u001b[1m]\u001b[0m, \u001b[33mfilters\u001b[0m=\u001b[1m[\u001b[0mcategory == landmark\u001b[1m]\u001b[0m, \n",
       "\u001b[33msort_by\u001b[0m=\u001b[1m[\u001b[0m\u001b[1;35mdistance_to\u001b[0m\u001b[1m(\u001b[0mThe Mall\u001b[1m)\u001b[0m\u001b[1m]\u001b[0m, \u001b[33mlimit\u001b[0m=\u001b[1;36m1\u001b[0m\u001b[1m)\u001b[0m\n"
      ]
     },
     "metadata": {},
     "output_type": "display_data"
    },
    {
     "data": {
      "text/html": [
       "<pre style=\"white-space:pre;overflow-x:auto;line-height:normal;font-family:Menlo,'DejaVu Sans Mono',consolas,'Courier New',monospace\">stop:  stop\n",
       "</pre>\n"
      ],
      "text/plain": [
       "stop:  stop\n"
      ]
     },
     "metadata": {},
     "output_type": "display_data"
    },
    {
     "data": {
      "text/html": [
       "<pre style=\"white-space:pre;overflow-x:auto;line-height:normal;font-family:Menlo,'DejaVu Sans Mono',consolas,'Courier New',monospace\"><span style=\"color: #800080; text-decoration-color: #800080; font-weight: bold\">CompletionUsage</span><span style=\"font-weight: bold\">(</span>\n",
       "    <span style=\"color: #808000; text-decoration-color: #808000\">completion_tokens</span>=<span style=\"color: #008080; text-decoration-color: #008080; font-weight: bold\">31</span>,\n",
       "    <span style=\"color: #808000; text-decoration-color: #808000\">prompt_tokens</span>=<span style=\"color: #008080; text-decoration-color: #008080; font-weight: bold\">2125</span>,\n",
       "    <span style=\"color: #808000; text-decoration-color: #808000\">total_tokens</span>=<span style=\"color: #008080; text-decoration-color: #008080; font-weight: bold\">2156</span>,\n",
       "    <span style=\"color: #808000; text-decoration-color: #808000\">completion_tokens_details</span>=<span style=\"color: #800080; text-decoration-color: #800080; font-weight: bold\">CompletionTokensDetails</span><span style=\"font-weight: bold\">(</span>\n",
       "        <span style=\"color: #808000; text-decoration-color: #808000\">reasoning_tokens</span>=<span style=\"color: #008080; text-decoration-color: #008080; font-weight: bold\">0</span>,\n",
       "        <span style=\"color: #808000; text-decoration-color: #808000\">audio_tokens</span>=<span style=\"color: #008080; text-decoration-color: #008080; font-weight: bold\">0</span>,\n",
       "        <span style=\"color: #808000; text-decoration-color: #808000\">accepted_prediction_tokens</span>=<span style=\"color: #008080; text-decoration-color: #008080; font-weight: bold\">0</span>,\n",
       "        <span style=\"color: #808000; text-decoration-color: #808000\">rejected_prediction_tokens</span>=<span style=\"color: #008080; text-decoration-color: #008080; font-weight: bold\">0</span>\n",
       "    <span style=\"font-weight: bold\">)</span>,\n",
       "    <span style=\"color: #808000; text-decoration-color: #808000\">prompt_tokens_details</span>=<span style=\"font-weight: bold\">{</span><span style=\"color: #008000; text-decoration-color: #008000\">'cached_tokens'</span>: <span style=\"color: #008080; text-decoration-color: #008080; font-weight: bold\">0</span>, <span style=\"color: #008000; text-decoration-color: #008000\">'audio_tokens'</span>: <span style=\"color: #008080; text-decoration-color: #008080; font-weight: bold\">0</span><span style=\"font-weight: bold\">}</span>\n",
       "<span style=\"font-weight: bold\">)</span>\n",
       "</pre>\n"
      ],
      "text/plain": [
       "\u001b[1;35mCompletionUsage\u001b[0m\u001b[1m(\u001b[0m\n",
       "    \u001b[33mcompletion_tokens\u001b[0m=\u001b[1;36m31\u001b[0m,\n",
       "    \u001b[33mprompt_tokens\u001b[0m=\u001b[1;36m2125\u001b[0m,\n",
       "    \u001b[33mtotal_tokens\u001b[0m=\u001b[1;36m2156\u001b[0m,\n",
       "    \u001b[33mcompletion_tokens_details\u001b[0m=\u001b[1;35mCompletionTokensDetails\u001b[0m\u001b[1m(\u001b[0m\n",
       "        \u001b[33mreasoning_tokens\u001b[0m=\u001b[1;36m0\u001b[0m,\n",
       "        \u001b[33maudio_tokens\u001b[0m=\u001b[1;36m0\u001b[0m,\n",
       "        \u001b[33maccepted_prediction_tokens\u001b[0m=\u001b[1;36m0\u001b[0m,\n",
       "        \u001b[33mrejected_prediction_tokens\u001b[0m=\u001b[1;36m0\u001b[0m\n",
       "    \u001b[1m)\u001b[0m,\n",
       "    \u001b[33mprompt_tokens_details\u001b[0m=\u001b[1m{\u001b[0m\u001b[32m'cached_tokens'\u001b[0m: \u001b[1;36m0\u001b[0m, \u001b[32m'audio_tokens'\u001b[0m: \u001b[1;36m0\u001b[0m\u001b[1m}\u001b[0m\n",
       "\u001b[1m)\u001b[0m\n"
      ]
     },
     "metadata": {},
     "output_type": "display_data"
    }
   ],
   "source": [
    "agent_3_responses = n_different_responses(players, strategy_response_list, t)"
   ]
  },
  {
   "cell_type": "code",
   "execution_count": 173,
   "metadata": {},
   "outputs": [
    {
     "name": "stdout",
     "output_type": "stream",
     "text": [
      "{'user': \"\\nAgent: [message] Thanks for your response! Central Plaza and The Mall will certainly be part of our plan. Are there any specific landmarks or activities you'd like to consider in our plan, or other deal-breakers to keep in mind?\", 'agent': '', 'turn_player': 'user', 'done': False, 'reward': 0, 'info': {'num_msgs': 3}}\n",
      "ChatCompletion(id='chatcmpl-ATlAI08gJSDe8j7tlwssB9bVJS3OS', choices=[Choice(finish_reason='stop', index=0, logprobs=None, message=ChatCompletionMessage(content='Search Results (1):\\n- **Name:** The Tower\\n- **Category:** Landmark\\n- **Has Parking:** True\\n- **Distance to Central Plaza:** 0.0', refusal=None, role='assistant', function_call=None, tool_calls=None))], created=1731656178, model='gpt-4o-2024-08-06', object='chat.completion', service_tier=None, system_fingerprint='fp_467dc6e35f', usage=CompletionUsage(completion_tokens=36, prompt_tokens=3254, total_tokens=3290, completion_tokens_details=CompletionTokensDetails(reasoning_tokens=0, audio_tokens=0, accepted_prediction_tokens=0, rejected_prediction_tokens=0), prompt_tokens_details={'cached_tokens': 3072, 'audio_tokens': 0}))\n",
      "{'user': '', 'agent': '[tool] Search(fields=[name, category, has parking, distance_to(Central Plaza)], filters=[category == landmark, has parking == True], sort_by=[distance_to(Central Plaza)], limit=1)\\nSearch Results (1):\\n- **Name:** The Tower\\n- **Category:** Landmark\\n- **Has Parking:** True\\n- **Distance to Central Plaza:** 0.0', 'turn_player': 'agent', 'done': False, 'reward': 0, 'info': {'num_msgs': 3}}\n",
      "ChatCompletion(id='chatcmpl-ATlAIT8lMwRftGLDn3ZYrkvRqHg8G', choices=[Choice(finish_reason='stop', index=0, logprobs=None, message=ChatCompletionMessage(content='Search Results (1):\\n- **Name:** The Tower\\n- **Category:** Landmark\\n- **Has Parking:** True', refusal=None, role='assistant', function_call=None, tool_calls=None))], created=1731656178, model='gpt-4o-2024-08-06', object='chat.completion', service_tier=None, system_fingerprint='fp_467dc6e35f', usage=CompletionUsage(completion_tokens=24, prompt_tokens=3242, total_tokens=3266, completion_tokens_details=CompletionTokensDetails(reasoning_tokens=0, audio_tokens=0, accepted_prediction_tokens=0, rejected_prediction_tokens=0), prompt_tokens_details={'cached_tokens': 3072, 'audio_tokens': 0}))\n",
      "{'user': '', 'agent': '[tool] Search(fields=[name, category, has parking], filters=[category == landmark], sort_by=[distance_to(The Mall)], limit=1)\\nSearch Results (1):\\n- **Name:** The Tower\\n- **Category:** Landmark\\n- **Has Parking:** True', 'turn_player': 'agent', 'done': False, 'reward': 0, 'info': {'num_msgs': 3}}\n"
     ]
    },
    {
     "data": {
      "text/html": [
       "<pre style=\"white-space:pre;overflow-x:auto;line-height:normal;font-family:Menlo,'DejaVu Sans Mono',consolas,'Courier New',monospace\">\n",
       "Initialized parallel conversations:\n",
       "</pre>\n"
      ],
      "text/plain": [
       "\n",
       "Initialized parallel conversations:\n"
      ]
     },
     "metadata": {},
     "output_type": "display_data"
    },
    {
     "data": {
      "text/html": [
       "<pre style=\"white-space:pre;overflow-x:auto;line-height:normal;font-family:Menlo,'DejaVu Sans Mono',consolas,'Courier New',monospace\">\n",
       "Stream <span style=\"color: #008080; text-decoration-color: #008080; font-weight: bold\">1</span>:\n",
       "</pre>\n"
      ],
      "text/plain": [
       "\n",
       "Stream \u001b[1;36m1\u001b[0m:\n"
      ]
     },
     "metadata": {},
     "output_type": "display_data"
    },
    {
     "data": {
      "text/html": [
       "<pre style=\"white-space:pre;overflow-x:auto;line-height:normal;font-family:Menlo,'DejaVu Sans Mono',consolas,'Courier New',monospace\">Initial response:  Thanks for your response! Central Plaza and The Mall will certainly be part of our plan. A<span style=\"color: #808000; text-decoration-color: #808000\">...</span>\n",
       "</pre>\n"
      ],
      "text/plain": [
       "Initial response:  Thanks for your response! Central Plaza and The Mall will certainly be part of our plan. A\u001b[33m...\u001b[0m\n"
      ]
     },
     "metadata": {},
     "output_type": "display_data"
    },
    {
     "data": {
      "text/html": [
       "<pre style=\"white-space:pre;overflow-x:auto;line-height:normal;font-family:Menlo,'DejaVu Sans Mono',consolas,'Courier New',monospace\">Features extracted: <span style=\"font-weight: bold\">{}</span>\n",
       "</pre>\n"
      ],
      "text/plain": [
       "Features extracted: \u001b[1m{\u001b[0m\u001b[1m}\u001b[0m\n"
      ]
     },
     "metadata": {},
     "output_type": "display_data"
    },
    {
     "data": {
      "text/html": [
       "<pre style=\"white-space:pre;overflow-x:auto;line-height:normal;font-family:Menlo,'DejaVu Sans Mono',consolas,'Courier New',monospace\">\n",
       "Stream <span style=\"color: #008080; text-decoration-color: #008080; font-weight: bold\">2</span>:\n",
       "</pre>\n"
      ],
      "text/plain": [
       "\n",
       "Stream \u001b[1;36m2\u001b[0m:\n"
      ]
     },
     "metadata": {},
     "output_type": "display_data"
    },
    {
     "data": {
      "text/html": [
       "<pre style=\"white-space:pre;overflow-x:auto;line-height:normal;font-family:Menlo,'DejaVu Sans Mono',consolas,'Courier New',monospace\">Initial response:  <span style=\"color: #800080; text-decoration-color: #800080; font-weight: bold\">Search</span><span style=\"font-weight: bold\">(</span><span style=\"color: #808000; text-decoration-color: #808000\">fields</span>=, <span style=\"color: #808000; text-decoration-color: #808000\">filters</span>=<span style=\"font-weight: bold\">[</span>category ==<span style=\"color: #808000; text-decoration-color: #808000\">...</span>\n",
       "</pre>\n"
      ],
      "text/plain": [
       "Initial response:  \u001b[1;35mSearch\u001b[0m\u001b[1m(\u001b[0m\u001b[33mfields\u001b[0m=, \u001b[33mfilters\u001b[0m=\u001b[1m[\u001b[0mcategory ==\u001b[33m...\u001b[0m\n"
      ]
     },
     "metadata": {},
     "output_type": "display_data"
    },
    {
     "data": {
      "text/html": [
       "<pre style=\"white-space:pre;overflow-x:auto;line-height:normal;font-family:Menlo,'DejaVu Sans Mono',consolas,'Courier New',monospace\">Features extracted: <span style=\"font-weight: bold\">{}</span>\n",
       "</pre>\n"
      ],
      "text/plain": [
       "Features extracted: \u001b[1m{\u001b[0m\u001b[1m}\u001b[0m\n"
      ]
     },
     "metadata": {},
     "output_type": "display_data"
    },
    {
     "data": {
      "text/html": [
       "<pre style=\"white-space:pre;overflow-x:auto;line-height:normal;font-family:Menlo,'DejaVu Sans Mono',consolas,'Courier New',monospace\">\n",
       "Stream <span style=\"color: #008080; text-decoration-color: #008080; font-weight: bold\">3</span>:\n",
       "</pre>\n"
      ],
      "text/plain": [
       "\n",
       "Stream \u001b[1;36m3\u001b[0m:\n"
      ]
     },
     "metadata": {},
     "output_type": "display_data"
    },
    {
     "data": {
      "text/html": [
       "<pre style=\"white-space:pre;overflow-x:auto;line-height:normal;font-family:Menlo,'DejaVu Sans Mono',consolas,'Courier New',monospace\">Initial response:  <span style=\"color: #800080; text-decoration-color: #800080; font-weight: bold\">Search</span><span style=\"font-weight: bold\">(</span><span style=\"color: #808000; text-decoration-color: #808000\">fields</span>=, <span style=\"color: #808000; text-decoration-color: #808000\">filters</span>=, <span style=\"color: #808000; text-decoration-color: #808000\">sort_by</span>=<span style=\"font-weight: bold\">[</span>distanc<span style=\"color: #808000; text-decoration-color: #808000\">...</span>\n",
       "</pre>\n"
      ],
      "text/plain": [
       "Initial response:  \u001b[1;35mSearch\u001b[0m\u001b[1m(\u001b[0m\u001b[33mfields\u001b[0m=, \u001b[33mfilters\u001b[0m=, \u001b[33msort_by\u001b[0m=\u001b[1m[\u001b[0mdistanc\u001b[33m...\u001b[0m\n"
      ]
     },
     "metadata": {},
     "output_type": "display_data"
    },
    {
     "data": {
      "text/html": [
       "<pre style=\"white-space:pre;overflow-x:auto;line-height:normal;font-family:Menlo,'DejaVu Sans Mono',consolas,'Courier New',monospace\">Features extracted: <span style=\"font-weight: bold\">{}</span>\n",
       "</pre>\n"
      ],
      "text/plain": [
       "Features extracted: \u001b[1m{\u001b[0m\u001b[1m}\u001b[0m\n"
      ]
     },
     "metadata": {},
     "output_type": "display_data"
    }
   ],
   "source": [
    "parallel_convs = initialize_parallel_conversations(agent_3_responses, strategy_response_list, players, env, t)\n"
   ]
  },
  {
   "cell_type": "code",
   "execution_count": 160,
   "metadata": {},
   "outputs": [
    {
     "data": {
      "text/html": [
       "<pre style=\"white-space:pre;overflow-x:auto;line-height:normal;font-family:Menlo,'DejaVu Sans Mono',consolas,'Courier New',monospace\"><span style=\"color: #008080; text-decoration-color: #008080; font-weight: bold\">1</span>. Clarification and Prioritization: Begin by confirming the user's top priorities among all preferences listed. \n",
       "Specifically ask them to rank the importance of landmarks, Dan's recommendations, live music, parking, vegan \n",
       "options, outdoor seating, and kid-friendliness to ensure the final itinerary meets their most critical needs.\n",
       "</pre>\n"
      ],
      "text/plain": [
       "\u001b[1;36m1\u001b[0m. Clarification and Prioritization: Begin by confirming the user's top priorities among all preferences listed. \n",
       "Specifically ask them to rank the importance of landmarks, Dan's recommendations, live music, parking, vegan \n",
       "options, outdoor seating, and kid-friendliness to ensure the final itinerary meets their most critical needs.\n"
      ]
     },
     "metadata": {},
     "output_type": "display_data"
    },
    {
     "data": {
      "text/html": [
       "<pre style=\"white-space:pre;overflow-x:auto;line-height:normal;font-family:Menlo,'DejaVu Sans Mono',consolas,'Courier New',monospace\"><span style=\"color: #008080; text-decoration-color: #008080; font-weight: bold\">2</span>. Use of Tools for Landmark Search: Utilize available tools or databases to quickly search and suggest landmarks \n",
       "that also meet the user's other preferences such as live music, vegan options, and budget constraints. This will \n",
       "help provide a recommendation efficiently and accurately.\n",
       "</pre>\n"
      ],
      "text/plain": [
       "\u001b[1;36m2\u001b[0m. Use of Tools for Landmark Search: Utilize available tools or databases to quickly search and suggest landmarks \n",
       "that also meet the user's other preferences such as live music, vegan options, and budget constraints. This will \n",
       "help provide a recommendation efficiently and accurately.\n"
      ]
     },
     "metadata": {},
     "output_type": "display_data"
    },
    {
     "data": {
      "text/html": [
       "<pre style=\"white-space:pre;overflow-x:auto;line-height:normal;font-family:Menlo,'DejaVu Sans Mono',consolas,'Courier New',monospace\"><span style=\"color: #008080; text-decoration-color: #008080; font-weight: bold\">3</span>. Conciseness and Confirmation: After suggesting a landmark that fits the user's criteria, summarize the proposed \n",
       "itinerary to the user, including Central Plaza, The Mall, and the recommended landmark. Confirm that these choices \n",
       "align with their preferences and budget before finalizing the itinerary to ensure satisfaction.\n",
       "</pre>\n"
      ],
      "text/plain": [
       "\u001b[1;36m3\u001b[0m. Conciseness and Confirmation: After suggesting a landmark that fits the user's criteria, summarize the proposed \n",
       "itinerary to the user, including Central Plaza, The Mall, and the recommended landmark. Confirm that these choices \n",
       "align with their preferences and budget before finalizing the itinerary to ensure satisfaction.\n"
      ]
     },
     "metadata": {},
     "output_type": "display_data"
    }
   ],
   "source": [
    "for conv in parallel_convs.conversations:\n",
    "    print(conv.players['agent'].strategy)\n"
   ]
  },
  {
   "cell_type": "code",
   "execution_count": 174,
   "metadata": {},
   "outputs": [
    {
     "data": {
      "text/html": [
       "<pre style=\"white-space:pre;overflow-x:auto;line-height:normal;font-family:Menlo,'DejaVu Sans Mono',consolas,'Courier New',monospace\">----Conversation <span style=\"color: #008080; text-decoration-color: #008080; font-weight: bold\">0</span> is waiting for user input---\n",
       "</pre>\n"
      ],
      "text/plain": [
       "----Conversation \u001b[1;36m0\u001b[0m is waiting for user input---\n"
      ]
     },
     "metadata": {},
     "output_type": "display_data"
    },
    {
     "data": {
      "text/html": [
       "<pre style=\"white-space:pre;overflow-x:auto;line-height:normal;font-family:Menlo,'DejaVu Sans Mono',consolas,'Courier New',monospace\">Response:  <span style=\"font-weight: bold\">[</span>think<span style=\"font-weight: bold\">]</span> The Tower seems to be a good third option since it matches with the user's preference for a \n",
       "landmark and it's conveniently close to Central Plaza. Let's propose this itinerary.\n",
       "</pre>\n"
      ],
      "text/plain": [
       "Response:  \u001b[1m[\u001b[0mthink\u001b[1m]\u001b[0m The Tower seems to be a good third option since it matches with the user's preference for a \n",
       "landmark and it's conveniently close to Central Plaza. Let's propose this itinerary.\n"
      ]
     },
     "metadata": {},
     "output_type": "display_data"
    },
    {
     "data": {
      "text/html": [
       "<pre style=\"white-space:pre;overflow-x:auto;line-height:normal;font-family:Menlo,'DejaVu Sans Mono',consolas,'Courier New',monospace\">stop:  stop\n",
       "</pre>\n"
      ],
      "text/plain": [
       "stop:  stop\n"
      ]
     },
     "metadata": {},
     "output_type": "display_data"
    },
    {
     "data": {
      "text/html": [
       "<pre style=\"white-space:pre;overflow-x:auto;line-height:normal;font-family:Menlo,'DejaVu Sans Mono',consolas,'Courier New',monospace\"><span style=\"color: #800080; text-decoration-color: #800080; font-weight: bold\">CompletionUsage</span><span style=\"font-weight: bold\">(</span>\n",
       "    <span style=\"color: #808000; text-decoration-color: #808000\">completion_tokens</span>=<span style=\"color: #008080; text-decoration-color: #008080; font-weight: bold\">38</span>,\n",
       "    <span style=\"color: #808000; text-decoration-color: #808000\">prompt_tokens</span>=<span style=\"color: #008080; text-decoration-color: #008080; font-weight: bold\">2276</span>,\n",
       "    <span style=\"color: #808000; text-decoration-color: #808000\">total_tokens</span>=<span style=\"color: #008080; text-decoration-color: #008080; font-weight: bold\">2314</span>,\n",
       "    <span style=\"color: #808000; text-decoration-color: #808000\">completion_tokens_details</span>=<span style=\"color: #800080; text-decoration-color: #800080; font-weight: bold\">CompletionTokensDetails</span><span style=\"font-weight: bold\">(</span>\n",
       "        <span style=\"color: #808000; text-decoration-color: #808000\">reasoning_tokens</span>=<span style=\"color: #008080; text-decoration-color: #008080; font-weight: bold\">0</span>,\n",
       "        <span style=\"color: #808000; text-decoration-color: #808000\">audio_tokens</span>=<span style=\"color: #008080; text-decoration-color: #008080; font-weight: bold\">0</span>,\n",
       "        <span style=\"color: #808000; text-decoration-color: #808000\">accepted_prediction_tokens</span>=<span style=\"color: #008080; text-decoration-color: #008080; font-weight: bold\">0</span>,\n",
       "        <span style=\"color: #808000; text-decoration-color: #808000\">rejected_prediction_tokens</span>=<span style=\"color: #008080; text-decoration-color: #008080; font-weight: bold\">0</span>\n",
       "    <span style=\"font-weight: bold\">)</span>,\n",
       "    <span style=\"color: #808000; text-decoration-color: #808000\">prompt_tokens_details</span>=<span style=\"font-weight: bold\">{</span><span style=\"color: #008000; text-decoration-color: #008000\">'cached_tokens'</span>: <span style=\"color: #008080; text-decoration-color: #008080; font-weight: bold\">0</span>, <span style=\"color: #008000; text-decoration-color: #008000\">'audio_tokens'</span>: <span style=\"color: #008080; text-decoration-color: #008080; font-weight: bold\">0</span><span style=\"font-weight: bold\">}</span>\n",
       "<span style=\"font-weight: bold\">)</span>\n",
       "</pre>\n"
      ],
      "text/plain": [
       "\u001b[1;35mCompletionUsage\u001b[0m\u001b[1m(\u001b[0m\n",
       "    \u001b[33mcompletion_tokens\u001b[0m=\u001b[1;36m38\u001b[0m,\n",
       "    \u001b[33mprompt_tokens\u001b[0m=\u001b[1;36m2276\u001b[0m,\n",
       "    \u001b[33mtotal_tokens\u001b[0m=\u001b[1;36m2314\u001b[0m,\n",
       "    \u001b[33mcompletion_tokens_details\u001b[0m=\u001b[1;35mCompletionTokensDetails\u001b[0m\u001b[1m(\u001b[0m\n",
       "        \u001b[33mreasoning_tokens\u001b[0m=\u001b[1;36m0\u001b[0m,\n",
       "        \u001b[33maudio_tokens\u001b[0m=\u001b[1;36m0\u001b[0m,\n",
       "        \u001b[33maccepted_prediction_tokens\u001b[0m=\u001b[1;36m0\u001b[0m,\n",
       "        \u001b[33mrejected_prediction_tokens\u001b[0m=\u001b[1;36m0\u001b[0m\n",
       "    \u001b[1m)\u001b[0m,\n",
       "    \u001b[33mprompt_tokens_details\u001b[0m=\u001b[1m{\u001b[0m\u001b[32m'cached_tokens'\u001b[0m: \u001b[1;36m0\u001b[0m, \u001b[32m'audio_tokens'\u001b[0m: \u001b[1;36m0\u001b[0m\u001b[1m}\u001b[0m\n",
       "\u001b[1m)\u001b[0m\n"
      ]
     },
     "metadata": {},
     "output_type": "display_data"
    },
    {
     "data": {
      "text/html": [
       "<pre style=\"white-space:pre;overflow-x:auto;line-height:normal;font-family:Menlo,'DejaVu Sans Mono',consolas,'Courier New',monospace\">Response:  <span style=\"font-weight: bold\">[</span>propose<span style=\"font-weight: bold\">]</span> <span style=\"font-weight: bold\">[</span>Central Plaza, The Mall, The Tower<span style=\"font-weight: bold\">]</span>\n",
       "</pre>\n"
      ],
      "text/plain": [
       "Response:  \u001b[1m[\u001b[0mpropose\u001b[1m]\u001b[0m \u001b[1m[\u001b[0mCentral Plaza, The Mall, The Tower\u001b[1m]\u001b[0m\n"
      ]
     },
     "metadata": {},
     "output_type": "display_data"
    },
    {
     "data": {
      "text/html": [
       "<pre style=\"white-space:pre;overflow-x:auto;line-height:normal;font-family:Menlo,'DejaVu Sans Mono',consolas,'Courier New',monospace\">stop:  stop\n",
       "</pre>\n"
      ],
      "text/plain": [
       "stop:  stop\n"
      ]
     },
     "metadata": {},
     "output_type": "display_data"
    },
    {
     "data": {
      "text/html": [
       "<pre style=\"white-space:pre;overflow-x:auto;line-height:normal;font-family:Menlo,'DejaVu Sans Mono',consolas,'Courier New',monospace\"><span style=\"color: #800080; text-decoration-color: #800080; font-weight: bold\">CompletionUsage</span><span style=\"font-weight: bold\">(</span>\n",
       "    <span style=\"color: #808000; text-decoration-color: #808000\">completion_tokens</span>=<span style=\"color: #008080; text-decoration-color: #008080; font-weight: bold\">13</span>,\n",
       "    <span style=\"color: #808000; text-decoration-color: #808000\">prompt_tokens</span>=<span style=\"color: #008080; text-decoration-color: #008080; font-weight: bold\">2256</span>,\n",
       "    <span style=\"color: #808000; text-decoration-color: #808000\">total_tokens</span>=<span style=\"color: #008080; text-decoration-color: #008080; font-weight: bold\">2269</span>,\n",
       "    <span style=\"color: #808000; text-decoration-color: #808000\">completion_tokens_details</span>=<span style=\"color: #800080; text-decoration-color: #800080; font-weight: bold\">CompletionTokensDetails</span><span style=\"font-weight: bold\">(</span>\n",
       "        <span style=\"color: #808000; text-decoration-color: #808000\">reasoning_tokens</span>=<span style=\"color: #008080; text-decoration-color: #008080; font-weight: bold\">0</span>,\n",
       "        <span style=\"color: #808000; text-decoration-color: #808000\">audio_tokens</span>=<span style=\"color: #008080; text-decoration-color: #008080; font-weight: bold\">0</span>,\n",
       "        <span style=\"color: #808000; text-decoration-color: #808000\">accepted_prediction_tokens</span>=<span style=\"color: #008080; text-decoration-color: #008080; font-weight: bold\">0</span>,\n",
       "        <span style=\"color: #808000; text-decoration-color: #808000\">rejected_prediction_tokens</span>=<span style=\"color: #008080; text-decoration-color: #008080; font-weight: bold\">0</span>\n",
       "    <span style=\"font-weight: bold\">)</span>,\n",
       "    <span style=\"color: #808000; text-decoration-color: #808000\">prompt_tokens_details</span>=<span style=\"font-weight: bold\">{</span><span style=\"color: #008000; text-decoration-color: #008000\">'cached_tokens'</span>: <span style=\"color: #008080; text-decoration-color: #008080; font-weight: bold\">0</span>, <span style=\"color: #008000; text-decoration-color: #008000\">'audio_tokens'</span>: <span style=\"color: #008080; text-decoration-color: #008080; font-weight: bold\">0</span><span style=\"font-weight: bold\">}</span>\n",
       "<span style=\"font-weight: bold\">)</span>\n",
       "</pre>\n"
      ],
      "text/plain": [
       "\u001b[1;35mCompletionUsage\u001b[0m\u001b[1m(\u001b[0m\n",
       "    \u001b[33mcompletion_tokens\u001b[0m=\u001b[1;36m13\u001b[0m,\n",
       "    \u001b[33mprompt_tokens\u001b[0m=\u001b[1;36m2256\u001b[0m,\n",
       "    \u001b[33mtotal_tokens\u001b[0m=\u001b[1;36m2269\u001b[0m,\n",
       "    \u001b[33mcompletion_tokens_details\u001b[0m=\u001b[1;35mCompletionTokensDetails\u001b[0m\u001b[1m(\u001b[0m\n",
       "        \u001b[33mreasoning_tokens\u001b[0m=\u001b[1;36m0\u001b[0m,\n",
       "        \u001b[33maudio_tokens\u001b[0m=\u001b[1;36m0\u001b[0m,\n",
       "        \u001b[33maccepted_prediction_tokens\u001b[0m=\u001b[1;36m0\u001b[0m,\n",
       "        \u001b[33mrejected_prediction_tokens\u001b[0m=\u001b[1;36m0\u001b[0m\n",
       "    \u001b[1m)\u001b[0m,\n",
       "    \u001b[33mprompt_tokens_details\u001b[0m=\u001b[1m{\u001b[0m\u001b[32m'cached_tokens'\u001b[0m: \u001b[1;36m0\u001b[0m, \u001b[32m'audio_tokens'\u001b[0m: \u001b[1;36m0\u001b[0m\u001b[1m}\u001b[0m\n",
       "\u001b[1m)\u001b[0m\n"
      ]
     },
     "metadata": {},
     "output_type": "display_data"
    },
    {
     "data": {
      "text/html": [
       "<pre style=\"white-space:pre;overflow-x:auto;line-height:normal;font-family:Menlo,'DejaVu Sans Mono',consolas,'Courier New',monospace\">\n",
       "Stepping conversations:\n",
       "<span style=\"font-weight: bold\">{</span>\n",
       "    <span style=\"color: #008080; text-decoration-color: #008080; font-weight: bold\">0</span>: <span style=\"color: #800080; text-decoration-color: #800080; font-style: italic\">None</span>,\n",
       "    <span style=\"color: #008080; text-decoration-color: #008080; font-weight: bold\">1</span>: <span style=\"color: #008000; text-decoration-color: #008000\">\"[think] The Tower seems to be a good third option since it matches with the user's preference for a </span>\n",
       "<span style=\"color: #008000; text-decoration-color: #008000\">landmark and it's conveniently close to Central Plaza. Let's propose this itinerary.\"</span>,\n",
       "    <span style=\"color: #008080; text-decoration-color: #008080; font-weight: bold\">2</span>: <span style=\"color: #008000; text-decoration-color: #008000\">'[propose] [Central Plaza, The Mall, The Tower]'</span>\n",
       "<span style=\"font-weight: bold\">}</span>\n",
       "</pre>\n"
      ],
      "text/plain": [
       "\n",
       "Stepping conversations:\n",
       "\u001b[1m{\u001b[0m\n",
       "    \u001b[1;36m0\u001b[0m: \u001b[3;35mNone\u001b[0m,\n",
       "    \u001b[1;36m1\u001b[0m: \u001b[32m\"\u001b[0m\u001b[32m[\u001b[0m\u001b[32mthink\u001b[0m\u001b[32m]\u001b[0m\u001b[32m The Tower seems to be a good third option since it matches with the user's preference for a \u001b[0m\n",
       "\u001b[32mlandmark and it's conveniently close to Central Plaza. Let's propose this itinerary.\"\u001b[0m,\n",
       "    \u001b[1;36m2\u001b[0m: \u001b[32m'\u001b[0m\u001b[32m[\u001b[0m\u001b[32mpropose\u001b[0m\u001b[32m]\u001b[0m\u001b[32m \u001b[0m\u001b[32m[\u001b[0m\u001b[32mCentral Plaza, The Mall, The Tower\u001b[0m\u001b[32m]\u001b[0m\u001b[32m'\u001b[0m\n",
       "\u001b[1m}\u001b[0m\n"
      ]
     },
     "metadata": {},
     "output_type": "display_data"
    },
    {
     "data": {
      "text/html": [
       "<pre style=\"white-space:pre;overflow-x:auto;line-height:normal;font-family:Menlo,'DejaVu Sans Mono',consolas,'Courier New',monospace\">\n",
       "Conversation <span style=\"color: #008080; text-decoration-color: #008080; font-weight: bold\">1</span> response:\n",
       " The Tower seems to be a good third option since it matches with the user's preference for a <span style=\"color: #808000; text-decoration-color: #808000\">...</span>\n",
       "</pre>\n"
      ],
      "text/plain": [
       "\n",
       "Conversation \u001b[1;36m1\u001b[0m response:\n",
       " The Tower seems to be a good third option since it matches with the user's preference for a \u001b[33m...\u001b[0m\n"
      ]
     },
     "metadata": {},
     "output_type": "display_data"
    },
    {
     "data": {
      "text/html": [
       "<pre style=\"white-space:pre;overflow-x:auto;line-height:normal;font-family:Menlo,'DejaVu Sans Mono',consolas,'Courier New',monospace\"> The Tower seems to be a good third option since it matches with the user's preference for a landmark and it's \n",
       "conveniently close to Central Plaza. Let's propose this itinerary.\n",
       "</pre>\n"
      ],
      "text/plain": [
       " The Tower seems to be a good third option since it matches with the user's preference for a landmark and it's \n",
       "conveniently close to Central Plaza. Let's propose this itinerary.\n"
      ]
     },
     "metadata": {},
     "output_type": "display_data"
    },
    {
     "data": {
      "text/html": [
       "<pre style=\"white-space:pre;overflow-x:auto;line-height:normal;font-family:Menlo,'DejaVu Sans Mono',consolas,'Courier New',monospace\">\n",
       "Conversation <span style=\"color: #008080; text-decoration-color: #008080; font-weight: bold\">2</span> response:\n",
       " <span style=\"font-weight: bold\">[</span>Central Plaza, The Mall, The Tower<span style=\"font-weight: bold\">]</span><span style=\"color: #808000; text-decoration-color: #808000\">...</span>\n",
       "</pre>\n"
      ],
      "text/plain": [
       "\n",
       "Conversation \u001b[1;36m2\u001b[0m response:\n",
       " \u001b[1m[\u001b[0mCentral Plaza, The Mall, The Tower\u001b[1m]\u001b[0m\u001b[33m...\u001b[0m\n"
      ]
     },
     "metadata": {},
     "output_type": "display_data"
    },
    {
     "data": {
      "text/html": [
       "<pre style=\"white-space:pre;overflow-x:auto;line-height:normal;font-family:Menlo,'DejaVu Sans Mono',consolas,'Courier New',monospace\"> <span style=\"font-weight: bold\">[</span>Central Plaza, The Mall, The Tower<span style=\"font-weight: bold\">]</span>\n",
       "</pre>\n"
      ],
      "text/plain": [
       " \u001b[1m[\u001b[0mCentral Plaza, The Mall, The Tower\u001b[1m]\u001b[0m\n"
      ]
     },
     "metadata": {},
     "output_type": "display_data"
    },
    {
     "data": {
      "text/html": [
       "<pre style=\"white-space:pre;overflow-x:auto;line-height:normal;font-family:Menlo,'DejaVu Sans Mono',consolas,'Courier New',monospace\">Response:  <span style=\"font-weight: bold\">[</span>propose<span style=\"font-weight: bold\">]</span> <span style=\"font-weight: bold\">[</span>Central Plaza, The Mall, The Tower<span style=\"font-weight: bold\">]</span>\n",
       "</pre>\n"
      ],
      "text/plain": [
       "Response:  \u001b[1m[\u001b[0mpropose\u001b[1m]\u001b[0m \u001b[1m[\u001b[0mCentral Plaza, The Mall, The Tower\u001b[1m]\u001b[0m\n"
      ]
     },
     "metadata": {},
     "output_type": "display_data"
    },
    {
     "data": {
      "text/html": [
       "<pre style=\"white-space:pre;overflow-x:auto;line-height:normal;font-family:Menlo,'DejaVu Sans Mono',consolas,'Courier New',monospace\">stop:  stop\n",
       "</pre>\n"
      ],
      "text/plain": [
       "stop:  stop\n"
      ]
     },
     "metadata": {},
     "output_type": "display_data"
    },
    {
     "data": {
      "text/html": [
       "<pre style=\"white-space:pre;overflow-x:auto;line-height:normal;font-family:Menlo,'DejaVu Sans Mono',consolas,'Courier New',monospace\"><span style=\"color: #800080; text-decoration-color: #800080; font-weight: bold\">CompletionUsage</span><span style=\"font-weight: bold\">(</span>\n",
       "    <span style=\"color: #808000; text-decoration-color: #808000\">completion_tokens</span>=<span style=\"color: #008080; text-decoration-color: #008080; font-weight: bold\">13</span>,\n",
       "    <span style=\"color: #808000; text-decoration-color: #808000\">prompt_tokens</span>=<span style=\"color: #008080; text-decoration-color: #008080; font-weight: bold\">2315</span>,\n",
       "    <span style=\"color: #808000; text-decoration-color: #808000\">total_tokens</span>=<span style=\"color: #008080; text-decoration-color: #008080; font-weight: bold\">2328</span>,\n",
       "    <span style=\"color: #808000; text-decoration-color: #808000\">completion_tokens_details</span>=<span style=\"color: #800080; text-decoration-color: #800080; font-weight: bold\">CompletionTokensDetails</span><span style=\"font-weight: bold\">(</span>\n",
       "        <span style=\"color: #808000; text-decoration-color: #808000\">reasoning_tokens</span>=<span style=\"color: #008080; text-decoration-color: #008080; font-weight: bold\">0</span>,\n",
       "        <span style=\"color: #808000; text-decoration-color: #808000\">audio_tokens</span>=<span style=\"color: #008080; text-decoration-color: #008080; font-weight: bold\">0</span>,\n",
       "        <span style=\"color: #808000; text-decoration-color: #808000\">accepted_prediction_tokens</span>=<span style=\"color: #008080; text-decoration-color: #008080; font-weight: bold\">0</span>,\n",
       "        <span style=\"color: #808000; text-decoration-color: #808000\">rejected_prediction_tokens</span>=<span style=\"color: #008080; text-decoration-color: #008080; font-weight: bold\">0</span>\n",
       "    <span style=\"font-weight: bold\">)</span>,\n",
       "    <span style=\"color: #808000; text-decoration-color: #808000\">prompt_tokens_details</span>=<span style=\"font-weight: bold\">{</span><span style=\"color: #008000; text-decoration-color: #008000\">'cached_tokens'</span>: <span style=\"color: #008080; text-decoration-color: #008080; font-weight: bold\">0</span>, <span style=\"color: #008000; text-decoration-color: #008000\">'audio_tokens'</span>: <span style=\"color: #008080; text-decoration-color: #008080; font-weight: bold\">0</span><span style=\"font-weight: bold\">}</span>\n",
       "<span style=\"font-weight: bold\">)</span>\n",
       "</pre>\n"
      ],
      "text/plain": [
       "\u001b[1;35mCompletionUsage\u001b[0m\u001b[1m(\u001b[0m\n",
       "    \u001b[33mcompletion_tokens\u001b[0m=\u001b[1;36m13\u001b[0m,\n",
       "    \u001b[33mprompt_tokens\u001b[0m=\u001b[1;36m2315\u001b[0m,\n",
       "    \u001b[33mtotal_tokens\u001b[0m=\u001b[1;36m2328\u001b[0m,\n",
       "    \u001b[33mcompletion_tokens_details\u001b[0m=\u001b[1;35mCompletionTokensDetails\u001b[0m\u001b[1m(\u001b[0m\n",
       "        \u001b[33mreasoning_tokens\u001b[0m=\u001b[1;36m0\u001b[0m,\n",
       "        \u001b[33maudio_tokens\u001b[0m=\u001b[1;36m0\u001b[0m,\n",
       "        \u001b[33maccepted_prediction_tokens\u001b[0m=\u001b[1;36m0\u001b[0m,\n",
       "        \u001b[33mrejected_prediction_tokens\u001b[0m=\u001b[1;36m0\u001b[0m\n",
       "    \u001b[1m)\u001b[0m,\n",
       "    \u001b[33mprompt_tokens_details\u001b[0m=\u001b[1m{\u001b[0m\u001b[32m'cached_tokens'\u001b[0m: \u001b[1;36m0\u001b[0m, \u001b[32m'audio_tokens'\u001b[0m: \u001b[1;36m0\u001b[0m\u001b[1m}\u001b[0m\n",
       "\u001b[1m)\u001b[0m\n"
      ]
     },
     "metadata": {},
     "output_type": "display_data"
    },
    {
     "data": {
      "text/html": [
       "<pre style=\"white-space:pre;overflow-x:auto;line-height:normal;font-family:Menlo,'DejaVu Sans Mono',consolas,'Courier New',monospace\">Response:  <span style=\"font-weight: bold\">[</span>message<span style=\"font-weight: bold\">]</span> I have a recommendation for you that aligns with your preferences: Central Plaza and The Mall,\n",
       "which you've mentioned before, as well as The Tower - it's a landmark and it has parking. What do you think of this\n",
       "itinerary?\n",
       "</pre>\n"
      ],
      "text/plain": [
       "Response:  \u001b[1m[\u001b[0mmessage\u001b[1m]\u001b[0m I have a recommendation for you that aligns with your preferences: Central Plaza and The Mall,\n",
       "which you've mentioned before, as well as The Tower - it's a landmark and it has parking. What do you think of this\n",
       "itinerary?\n"
      ]
     },
     "metadata": {},
     "output_type": "display_data"
    },
    {
     "data": {
      "text/html": [
       "<pre style=\"white-space:pre;overflow-x:auto;line-height:normal;font-family:Menlo,'DejaVu Sans Mono',consolas,'Courier New',monospace\">stop:  stop\n",
       "</pre>\n"
      ],
      "text/plain": [
       "stop:  stop\n"
      ]
     },
     "metadata": {},
     "output_type": "display_data"
    },
    {
     "data": {
      "text/html": [
       "<pre style=\"white-space:pre;overflow-x:auto;line-height:normal;font-family:Menlo,'DejaVu Sans Mono',consolas,'Courier New',monospace\"><span style=\"color: #800080; text-decoration-color: #800080; font-weight: bold\">CompletionUsage</span><span style=\"font-weight: bold\">(</span>\n",
       "    <span style=\"color: #808000; text-decoration-color: #808000\">completion_tokens</span>=<span style=\"color: #008080; text-decoration-color: #008080; font-weight: bold\">51</span>,\n",
       "    <span style=\"color: #808000; text-decoration-color: #808000\">prompt_tokens</span>=<span style=\"color: #008080; text-decoration-color: #008080; font-weight: bold\">2271</span>,\n",
       "    <span style=\"color: #808000; text-decoration-color: #808000\">total_tokens</span>=<span style=\"color: #008080; text-decoration-color: #008080; font-weight: bold\">2322</span>,\n",
       "    <span style=\"color: #808000; text-decoration-color: #808000\">completion_tokens_details</span>=<span style=\"color: #800080; text-decoration-color: #800080; font-weight: bold\">CompletionTokensDetails</span><span style=\"font-weight: bold\">(</span>\n",
       "        <span style=\"color: #808000; text-decoration-color: #808000\">reasoning_tokens</span>=<span style=\"color: #008080; text-decoration-color: #008080; font-weight: bold\">0</span>,\n",
       "        <span style=\"color: #808000; text-decoration-color: #808000\">audio_tokens</span>=<span style=\"color: #008080; text-decoration-color: #008080; font-weight: bold\">0</span>,\n",
       "        <span style=\"color: #808000; text-decoration-color: #808000\">accepted_prediction_tokens</span>=<span style=\"color: #008080; text-decoration-color: #008080; font-weight: bold\">0</span>,\n",
       "        <span style=\"color: #808000; text-decoration-color: #808000\">rejected_prediction_tokens</span>=<span style=\"color: #008080; text-decoration-color: #008080; font-weight: bold\">0</span>\n",
       "    <span style=\"font-weight: bold\">)</span>,\n",
       "    <span style=\"color: #808000; text-decoration-color: #808000\">prompt_tokens_details</span>=<span style=\"font-weight: bold\">{</span><span style=\"color: #008000; text-decoration-color: #008000\">'cached_tokens'</span>: <span style=\"color: #008080; text-decoration-color: #008080; font-weight: bold\">0</span>, <span style=\"color: #008000; text-decoration-color: #008000\">'audio_tokens'</span>: <span style=\"color: #008080; text-decoration-color: #008080; font-weight: bold\">0</span><span style=\"font-weight: bold\">}</span>\n",
       "<span style=\"font-weight: bold\">)</span>\n",
       "</pre>\n"
      ],
      "text/plain": [
       "\u001b[1;35mCompletionUsage\u001b[0m\u001b[1m(\u001b[0m\n",
       "    \u001b[33mcompletion_tokens\u001b[0m=\u001b[1;36m51\u001b[0m,\n",
       "    \u001b[33mprompt_tokens\u001b[0m=\u001b[1;36m2271\u001b[0m,\n",
       "    \u001b[33mtotal_tokens\u001b[0m=\u001b[1;36m2322\u001b[0m,\n",
       "    \u001b[33mcompletion_tokens_details\u001b[0m=\u001b[1;35mCompletionTokensDetails\u001b[0m\u001b[1m(\u001b[0m\n",
       "        \u001b[33mreasoning_tokens\u001b[0m=\u001b[1;36m0\u001b[0m,\n",
       "        \u001b[33maudio_tokens\u001b[0m=\u001b[1;36m0\u001b[0m,\n",
       "        \u001b[33maccepted_prediction_tokens\u001b[0m=\u001b[1;36m0\u001b[0m,\n",
       "        \u001b[33mrejected_prediction_tokens\u001b[0m=\u001b[1;36m0\u001b[0m\n",
       "    \u001b[1m)\u001b[0m,\n",
       "    \u001b[33mprompt_tokens_details\u001b[0m=\u001b[1m{\u001b[0m\u001b[32m'cached_tokens'\u001b[0m: \u001b[1;36m0\u001b[0m, \u001b[32m'audio_tokens'\u001b[0m: \u001b[1;36m0\u001b[0m\u001b[1m}\u001b[0m\n",
       "\u001b[1m)\u001b[0m\n"
      ]
     },
     "metadata": {},
     "output_type": "display_data"
    },
    {
     "data": {
      "text/html": [
       "<pre style=\"white-space:pre;overflow-x:auto;line-height:normal;font-family:Menlo,'DejaVu Sans Mono',consolas,'Courier New',monospace\">\n",
       "Stepping conversations:\n",
       "<span style=\"font-weight: bold\">{</span>\n",
       "    <span style=\"color: #008080; text-decoration-color: #008080; font-weight: bold\">0</span>: <span style=\"color: #800080; text-decoration-color: #800080; font-style: italic\">None</span>,\n",
       "    <span style=\"color: #008080; text-decoration-color: #008080; font-weight: bold\">1</span>: <span style=\"color: #008000; text-decoration-color: #008000\">'[propose] [Central Plaza, The Mall, The Tower]'</span>,\n",
       "    <span style=\"color: #008080; text-decoration-color: #008080; font-weight: bold\">2</span>: <span style=\"color: #008000; text-decoration-color: #008000\">\"[message] I have a recommendation for you that aligns with your preferences: Central Plaza and The Mall, </span>\n",
       "<span style=\"color: #008000; text-decoration-color: #008000\">which you've mentioned before, as well as The Tower - it's a landmark and it has parking. What do you think of this</span>\n",
       "<span style=\"color: #008000; text-decoration-color: #008000\">itinerary?\"</span>\n",
       "<span style=\"font-weight: bold\">}</span>\n",
       "</pre>\n"
      ],
      "text/plain": [
       "\n",
       "Stepping conversations:\n",
       "\u001b[1m{\u001b[0m\n",
       "    \u001b[1;36m0\u001b[0m: \u001b[3;35mNone\u001b[0m,\n",
       "    \u001b[1;36m1\u001b[0m: \u001b[32m'\u001b[0m\u001b[32m[\u001b[0m\u001b[32mpropose\u001b[0m\u001b[32m]\u001b[0m\u001b[32m \u001b[0m\u001b[32m[\u001b[0m\u001b[32mCentral Plaza, The Mall, The Tower\u001b[0m\u001b[32m]\u001b[0m\u001b[32m'\u001b[0m,\n",
       "    \u001b[1;36m2\u001b[0m: \u001b[32m\"\u001b[0m\u001b[32m[\u001b[0m\u001b[32mmessage\u001b[0m\u001b[32m]\u001b[0m\u001b[32m I have a recommendation for you that aligns with your preferences: Central Plaza and The Mall, \u001b[0m\n",
       "\u001b[32mwhich you've mentioned before, as well as The Tower - it's a landmark and it has parking. What do you think of this\u001b[0m\n",
       "\u001b[32mitinerary?\"\u001b[0m\n",
       "\u001b[1m}\u001b[0m\n"
      ]
     },
     "metadata": {},
     "output_type": "display_data"
    },
    {
     "data": {
      "text/html": [
       "<pre style=\"white-space:pre;overflow-x:auto;line-height:normal;font-family:Menlo,'DejaVu Sans Mono',consolas,'Courier New',monospace\">\n",
       "Conversation <span style=\"color: #008080; text-decoration-color: #008080; font-weight: bold\">1</span> response:\n",
       " <span style=\"font-weight: bold\">[</span>Central Plaza, The Mall, The Tower<span style=\"font-weight: bold\">]</span><span style=\"color: #808000; text-decoration-color: #808000\">...</span>\n",
       "</pre>\n"
      ],
      "text/plain": [
       "\n",
       "Conversation \u001b[1;36m1\u001b[0m response:\n",
       " \u001b[1m[\u001b[0mCentral Plaza, The Mall, The Tower\u001b[1m]\u001b[0m\u001b[33m...\u001b[0m\n"
      ]
     },
     "metadata": {},
     "output_type": "display_data"
    },
    {
     "data": {
      "text/html": [
       "<pre style=\"white-space:pre;overflow-x:auto;line-height:normal;font-family:Menlo,'DejaVu Sans Mono',consolas,'Courier New',monospace\"> <span style=\"font-weight: bold\">[</span>Central Plaza, The Mall, The Tower<span style=\"font-weight: bold\">]</span>\n",
       "</pre>\n"
      ],
      "text/plain": [
       " \u001b[1m[\u001b[0mCentral Plaza, The Mall, The Tower\u001b[1m]\u001b[0m\n"
      ]
     },
     "metadata": {},
     "output_type": "display_data"
    },
    {
     "data": {
      "text/html": [
       "<pre style=\"white-space:pre;overflow-x:auto;line-height:normal;font-family:Menlo,'DejaVu Sans Mono',consolas,'Courier New',monospace\">\n",
       "Conversation <span style=\"color: #008080; text-decoration-color: #008080; font-weight: bold\">2</span> response:\n",
       " I have a recommendation for you that aligns with your preferences: Central Plaza and The M<span style=\"color: #808000; text-decoration-color: #808000\">...</span>\n",
       "</pre>\n"
      ],
      "text/plain": [
       "\n",
       "Conversation \u001b[1;36m2\u001b[0m response:\n",
       " I have a recommendation for you that aligns with your preferences: Central Plaza and The M\u001b[33m...\u001b[0m\n"
      ]
     },
     "metadata": {},
     "output_type": "display_data"
    },
    {
     "data": {
      "text/html": [
       "<pre style=\"white-space:pre;overflow-x:auto;line-height:normal;font-family:Menlo,'DejaVu Sans Mono',consolas,'Courier New',monospace\"> I have a recommendation for you that aligns with your preferences: Central Plaza and The Mall, which you've \n",
       "mentioned before, as well as The Tower - it's a landmark and it has parking. What do you think of this itinerary?\n",
       "</pre>\n"
      ],
      "text/plain": [
       " I have a recommendation for you that aligns with your preferences: Central Plaza and The Mall, which you've \n",
       "mentioned before, as well as The Tower - it's a landmark and it has parking. What do you think of this itinerary?\n"
      ]
     },
     "metadata": {},
     "output_type": "display_data"
    },
    {
     "data": {
      "text/html": [
       "<pre style=\"white-space:pre;overflow-x:auto;line-height:normal;font-family:Menlo,'DejaVu Sans Mono',consolas,'Courier New',monospace\">Response:  <span style=\"font-weight: bold\">[</span>message<span style=\"font-weight: bold\">]</span> Here's what I propose: start by visiting Central Plaza and The Mall, then take a short walk to\n",
       "The Tower, a nearby landmark which offers parking in case you need it. What do you think about this plan?\n",
       "</pre>\n"
      ],
      "text/plain": [
       "Response:  \u001b[1m[\u001b[0mmessage\u001b[1m]\u001b[0m Here's what I propose: start by visiting Central Plaza and The Mall, then take a short walk to\n",
       "The Tower, a nearby landmark which offers parking in case you need it. What do you think about this plan?\n"
      ]
     },
     "metadata": {},
     "output_type": "display_data"
    },
    {
     "data": {
      "text/html": [
       "<pre style=\"white-space:pre;overflow-x:auto;line-height:normal;font-family:Menlo,'DejaVu Sans Mono',consolas,'Courier New',monospace\">stop:  stop\n",
       "</pre>\n"
      ],
      "text/plain": [
       "stop:  stop\n"
      ]
     },
     "metadata": {},
     "output_type": "display_data"
    },
    {
     "data": {
      "text/html": [
       "<pre style=\"white-space:pre;overflow-x:auto;line-height:normal;font-family:Menlo,'DejaVu Sans Mono',consolas,'Courier New',monospace\"><span style=\"color: #800080; text-decoration-color: #800080; font-weight: bold\">CompletionUsage</span><span style=\"font-weight: bold\">(</span>\n",
       "    <span style=\"color: #808000; text-decoration-color: #808000\">completion_tokens</span>=<span style=\"color: #008080; text-decoration-color: #008080; font-weight: bold\">47</span>,\n",
       "    <span style=\"color: #808000; text-decoration-color: #808000\">prompt_tokens</span>=<span style=\"color: #008080; text-decoration-color: #008080; font-weight: bold\">2330</span>,\n",
       "    <span style=\"color: #808000; text-decoration-color: #808000\">total_tokens</span>=<span style=\"color: #008080; text-decoration-color: #008080; font-weight: bold\">2377</span>,\n",
       "    <span style=\"color: #808000; text-decoration-color: #808000\">completion_tokens_details</span>=<span style=\"color: #800080; text-decoration-color: #800080; font-weight: bold\">CompletionTokensDetails</span><span style=\"font-weight: bold\">(</span>\n",
       "        <span style=\"color: #808000; text-decoration-color: #808000\">reasoning_tokens</span>=<span style=\"color: #008080; text-decoration-color: #008080; font-weight: bold\">0</span>,\n",
       "        <span style=\"color: #808000; text-decoration-color: #808000\">audio_tokens</span>=<span style=\"color: #008080; text-decoration-color: #008080; font-weight: bold\">0</span>,\n",
       "        <span style=\"color: #808000; text-decoration-color: #808000\">accepted_prediction_tokens</span>=<span style=\"color: #008080; text-decoration-color: #008080; font-weight: bold\">0</span>,\n",
       "        <span style=\"color: #808000; text-decoration-color: #808000\">rejected_prediction_tokens</span>=<span style=\"color: #008080; text-decoration-color: #008080; font-weight: bold\">0</span>\n",
       "    <span style=\"font-weight: bold\">)</span>,\n",
       "    <span style=\"color: #808000; text-decoration-color: #808000\">prompt_tokens_details</span>=<span style=\"font-weight: bold\">{</span><span style=\"color: #008000; text-decoration-color: #008000\">'cached_tokens'</span>: <span style=\"color: #008080; text-decoration-color: #008080; font-weight: bold\">0</span>, <span style=\"color: #008000; text-decoration-color: #008000\">'audio_tokens'</span>: <span style=\"color: #008080; text-decoration-color: #008080; font-weight: bold\">0</span><span style=\"font-weight: bold\">}</span>\n",
       "<span style=\"font-weight: bold\">)</span>\n",
       "</pre>\n"
      ],
      "text/plain": [
       "\u001b[1;35mCompletionUsage\u001b[0m\u001b[1m(\u001b[0m\n",
       "    \u001b[33mcompletion_tokens\u001b[0m=\u001b[1;36m47\u001b[0m,\n",
       "    \u001b[33mprompt_tokens\u001b[0m=\u001b[1;36m2330\u001b[0m,\n",
       "    \u001b[33mtotal_tokens\u001b[0m=\u001b[1;36m2377\u001b[0m,\n",
       "    \u001b[33mcompletion_tokens_details\u001b[0m=\u001b[1;35mCompletionTokensDetails\u001b[0m\u001b[1m(\u001b[0m\n",
       "        \u001b[33mreasoning_tokens\u001b[0m=\u001b[1;36m0\u001b[0m,\n",
       "        \u001b[33maudio_tokens\u001b[0m=\u001b[1;36m0\u001b[0m,\n",
       "        \u001b[33maccepted_prediction_tokens\u001b[0m=\u001b[1;36m0\u001b[0m,\n",
       "        \u001b[33mrejected_prediction_tokens\u001b[0m=\u001b[1;36m0\u001b[0m\n",
       "    \u001b[1m)\u001b[0m,\n",
       "    \u001b[33mprompt_tokens_details\u001b[0m=\u001b[1m{\u001b[0m\u001b[32m'cached_tokens'\u001b[0m: \u001b[1;36m0\u001b[0m, \u001b[32m'audio_tokens'\u001b[0m: \u001b[1;36m0\u001b[0m\u001b[1m}\u001b[0m\n",
       "\u001b[1m)\u001b[0m\n"
      ]
     },
     "metadata": {},
     "output_type": "display_data"
    },
    {
     "data": {
      "text/html": [
       "<pre style=\"white-space:pre;overflow-x:auto;line-height:normal;font-family:Menlo,'DejaVu Sans Mono',consolas,'Courier New',monospace\">----Conversation <span style=\"color: #008080; text-decoration-color: #008080; font-weight: bold\">2</span> is waiting for user input---\n",
       "</pre>\n"
      ],
      "text/plain": [
       "----Conversation \u001b[1;36m2\u001b[0m is waiting for user input---\n"
      ]
     },
     "metadata": {},
     "output_type": "display_data"
    },
    {
     "data": {
      "text/html": [
       "<pre style=\"white-space:pre;overflow-x:auto;line-height:normal;font-family:Menlo,'DejaVu Sans Mono',consolas,'Courier New',monospace\">\n",
       "Stepping conversations:\n",
       "<span style=\"font-weight: bold\">{</span>\n",
       "    <span style=\"color: #008080; text-decoration-color: #008080; font-weight: bold\">0</span>: <span style=\"color: #800080; text-decoration-color: #800080; font-style: italic\">None</span>,\n",
       "    <span style=\"color: #008080; text-decoration-color: #008080; font-weight: bold\">1</span>: <span style=\"color: #008000; text-decoration-color: #008000\">\"[message] Here's what I propose: start by visiting Central Plaza and The Mall, then take a short walk to </span>\n",
       "<span style=\"color: #008000; text-decoration-color: #008000\">The Tower, a nearby landmark which offers parking in case you need it. What do you think about this plan?\"</span>,\n",
       "    <span style=\"color: #008080; text-decoration-color: #008080; font-weight: bold\">2</span>: <span style=\"color: #800080; text-decoration-color: #800080; font-style: italic\">None</span>\n",
       "<span style=\"font-weight: bold\">}</span>\n",
       "</pre>\n"
      ],
      "text/plain": [
       "\n",
       "Stepping conversations:\n",
       "\u001b[1m{\u001b[0m\n",
       "    \u001b[1;36m0\u001b[0m: \u001b[3;35mNone\u001b[0m,\n",
       "    \u001b[1;36m1\u001b[0m: \u001b[32m\"\u001b[0m\u001b[32m[\u001b[0m\u001b[32mmessage\u001b[0m\u001b[32m]\u001b[0m\u001b[32m Here's what I propose: start by visiting Central Plaza and The Mall, then take a short walk to \u001b[0m\n",
       "\u001b[32mThe Tower, a nearby landmark which offers parking in case you need it. What do you think about this plan?\"\u001b[0m,\n",
       "    \u001b[1;36m2\u001b[0m: \u001b[3;35mNone\u001b[0m\n",
       "\u001b[1m}\u001b[0m\n"
      ]
     },
     "metadata": {},
     "output_type": "display_data"
    },
    {
     "data": {
      "text/html": [
       "<pre style=\"white-space:pre;overflow-x:auto;line-height:normal;font-family:Menlo,'DejaVu Sans Mono',consolas,'Courier New',monospace\">\n",
       "Conversation <span style=\"color: #008080; text-decoration-color: #008080; font-weight: bold\">1</span> response:\n",
       " Here's what I propose: start by visiting Central Plaza and The Mall, then take a short wal<span style=\"color: #808000; text-decoration-color: #808000\">...</span>\n",
       "</pre>\n"
      ],
      "text/plain": [
       "\n",
       "Conversation \u001b[1;36m1\u001b[0m response:\n",
       " Here's what I propose: start by visiting Central Plaza and The Mall, then take a short wal\u001b[33m...\u001b[0m\n"
      ]
     },
     "metadata": {},
     "output_type": "display_data"
    },
    {
     "data": {
      "text/html": [
       "<pre style=\"white-space:pre;overflow-x:auto;line-height:normal;font-family:Menlo,'DejaVu Sans Mono',consolas,'Courier New',monospace\"> Here's what I propose: start by visiting Central Plaza and The Mall, then take a short walk to The Tower, a nearby\n",
       "landmark which offers parking in case you need it. What do you think about this plan?\n",
       "</pre>\n"
      ],
      "text/plain": [
       " Here's what I propose: start by visiting Central Plaza and The Mall, then take a short walk to The Tower, a nearby\n",
       "landmark which offers parking in case you need it. What do you think about this plan?\n"
      ]
     },
     "metadata": {},
     "output_type": "display_data"
    },
    {
     "data": {
      "text/html": [
       "<pre style=\"white-space:pre;overflow-x:auto;line-height:normal;font-family:Menlo,'DejaVu Sans Mono',consolas,'Courier New',monospace\">----Conversation <span style=\"color: #008080; text-decoration-color: #008080; font-weight: bold\">1</span> is waiting for user input---\n",
       "</pre>\n"
      ],
      "text/plain": [
       "----Conversation \u001b[1;36m1\u001b[0m is waiting for user input---\n"
      ]
     },
     "metadata": {},
     "output_type": "display_data"
    },
    {
     "data": {
      "text/html": [
       "<pre style=\"white-space:pre;overflow-x:auto;line-height:normal;font-family:Menlo,'DejaVu Sans Mono',consolas,'Courier New',monospace\">\n",
       "Stepping conversations:\n",
       "<span style=\"font-weight: bold\">{</span><span style=\"color: #008080; text-decoration-color: #008080; font-weight: bold\">0</span>: <span style=\"color: #800080; text-decoration-color: #800080; font-style: italic\">None</span>, <span style=\"color: #008080; text-decoration-color: #008080; font-weight: bold\">1</span>: <span style=\"color: #800080; text-decoration-color: #800080; font-style: italic\">None</span>, <span style=\"color: #008080; text-decoration-color: #008080; font-weight: bold\">2</span>: <span style=\"color: #800080; text-decoration-color: #800080; font-style: italic\">None</span><span style=\"font-weight: bold\">}</span>\n",
       "</pre>\n"
      ],
      "text/plain": [
       "\n",
       "Stepping conversations:\n",
       "\u001b[1m{\u001b[0m\u001b[1;36m0\u001b[0m: \u001b[3;35mNone\u001b[0m, \u001b[1;36m1\u001b[0m: \u001b[3;35mNone\u001b[0m, \u001b[1;36m2\u001b[0m: \u001b[3;35mNone\u001b[0m\u001b[1m}\u001b[0m\n"
      ]
     },
     "metadata": {},
     "output_type": "display_data"
    },
    {
     "data": {
      "text/html": [
       "<pre style=\"white-space:pre;overflow-x:auto;line-height:normal;font-family:Menlo,'DejaVu Sans Mono',consolas,'Courier New',monospace\">\n",
       "All conversations are now waiting for user input\n",
       "</pre>\n"
      ],
      "text/plain": [
       "\n",
       "All conversations are now waiting for user input\n"
      ]
     },
     "metadata": {},
     "output_type": "display_data"
    },
    {
     "data": {
      "text/html": [
       "<pre style=\"white-space:pre;overflow-x:auto;line-height:normal;font-family:Menlo,'DejaVu Sans Mono',consolas,'Courier New',monospace\">\n",
       "Conversation <span style=\"color: #008080; text-decoration-color: #008080; font-weight: bold\">0</span> <span style=\"font-weight: bold\">(</span>Turn <span style=\"color: #008080; text-decoration-color: #008080; font-weight: bold\">6</span><span style=\"font-weight: bold\">)</span>:\n",
       "</pre>\n"
      ],
      "text/plain": [
       "\n",
       "Conversation \u001b[1;36m0\u001b[0m \u001b[1m(\u001b[0mTurn \u001b[1;36m6\u001b[0m\u001b[1m)\u001b[0m:\n"
      ]
     },
     "metadata": {},
     "output_type": "display_data"
    },
    {
     "data": {
      "text/html": [
       "<pre style=\"white-space:pre;overflow-x:auto;line-height:normal;font-family:Menlo,'DejaVu Sans Mono',consolas,'Courier New',monospace\">Last observation: \n",
       "Agent:  Thanks for your response! Central Plaza and The Mall will certainly be part of our<span style=\"color: #808000; text-decoration-color: #808000\">...</span>\n",
       "</pre>\n"
      ],
      "text/plain": [
       "Last observation: \n",
       "Agent:  Thanks for your response! Central Plaza and The Mall will certainly be part of our\u001b[33m...\u001b[0m\n"
      ]
     },
     "metadata": {},
     "output_type": "display_data"
    },
    {
     "data": {
      "text/html": [
       "<pre style=\"white-space:pre;overflow-x:auto;line-height:normal;font-family:Menlo,'DejaVu Sans Mono',consolas,'Courier New',monospace\">\n",
       "Conversation <span style=\"color: #008080; text-decoration-color: #008080; font-weight: bold\">1</span> <span style=\"font-weight: bold\">(</span>Turn <span style=\"color: #008080; text-decoration-color: #008080; font-weight: bold\">9</span><span style=\"font-weight: bold\">)</span>:\n",
       "</pre>\n"
      ],
      "text/plain": [
       "\n",
       "Conversation \u001b[1;36m1\u001b[0m \u001b[1m(\u001b[0mTurn \u001b[1;36m9\u001b[0m\u001b[1m)\u001b[0m:\n"
      ]
     },
     "metadata": {},
     "output_type": "display_data"
    },
    {
     "data": {
      "text/html": [
       "<pre style=\"white-space:pre;overflow-x:auto;line-height:normal;font-family:Menlo,'DejaVu Sans Mono',consolas,'Courier New',monospace\">Last observation: \n",
       "Agent:  Here's what I propose: start by visiting Central Plaza and The Mall, then take a s<span style=\"color: #808000; text-decoration-color: #808000\">...</span>\n",
       "</pre>\n"
      ],
      "text/plain": [
       "Last observation: \n",
       "Agent:  Here's what I propose: start by visiting Central Plaza and The Mall, then take a s\u001b[33m...\u001b[0m\n"
      ]
     },
     "metadata": {},
     "output_type": "display_data"
    },
    {
     "data": {
      "text/html": [
       "<pre style=\"white-space:pre;overflow-x:auto;line-height:normal;font-family:Menlo,'DejaVu Sans Mono',consolas,'Courier New',monospace\">\n",
       "Conversation <span style=\"color: #008080; text-decoration-color: #008080; font-weight: bold\">2</span> <span style=\"font-weight: bold\">(</span>Turn <span style=\"color: #008080; text-decoration-color: #008080; font-weight: bold\">8</span><span style=\"font-weight: bold\">)</span>:\n",
       "</pre>\n"
      ],
      "text/plain": [
       "\n",
       "Conversation \u001b[1;36m2\u001b[0m \u001b[1m(\u001b[0mTurn \u001b[1;36m8\u001b[0m\u001b[1m)\u001b[0m:\n"
      ]
     },
     "metadata": {},
     "output_type": "display_data"
    },
    {
     "data": {
      "text/html": [
       "<pre style=\"white-space:pre;overflow-x:auto;line-height:normal;font-family:Menlo,'DejaVu Sans Mono',consolas,'Courier New',monospace\">Last observation: \n",
       "Agent:  I have a recommendation for you that aligns with your preferences: Central Plaza a<span style=\"color: #808000; text-decoration-color: #808000\">...</span>\n",
       "</pre>\n"
      ],
      "text/plain": [
       "Last observation: \n",
       "Agent:  I have a recommendation for you that aligns with your preferences: Central Plaza a\u001b[33m...\u001b[0m\n"
      ]
     },
     "metadata": {},
     "output_type": "display_data"
    }
   ],
   "source": [
    "style_response = style_judger(parallel_convs)\n",
    "parallel_convs = step_parallel_conversations(parallel_convs)\n",
    "\n",
    "user_conversations_no_pref = clean_user_conversation(user.user_prompt_obss, parallel_convs)"
   ]
  },
  {
   "cell_type": "code",
   "execution_count": 175,
   "metadata": {},
   "outputs": [],
   "source": [
    "def initialize_10_user_conversations(parallel_convs, user_conversations_no_pref, style_response, extracted_features, reset_sonlist = False):\n",
    "    if reset_sonlist:\n",
    "        for conversation in parallel_convs.conversations:\n",
    "            conversation.son_convs = []\n",
    "    # we want 10 user personas per conversation; they should be the 10 sam ones but copies \n",
    "    n_10_versions = {}\n",
    "    for i in range(10):\n",
    "        # any conversation is fine since action log is not counted\n",
    "        env_copy = copy.deepcopy(parallel_convs.conversations[0].env)\n",
    "        game_state = format_user_game_state(env_copy, incomplete_action_log = True)\n",
    "        #parsed_features = parse_extracted_features(extracted_features)\n",
    "        obss = env_copy.reset(game_state, known_user_preferences_num=(10-len(extracted_features.keys())), extracted_features = extracted_features)\n",
    "        bundle = {'env': env_copy, 'obss': obss}\n",
    "        n_10_versions[i] = bundle\n",
    "    \n",
    "    # user and agent are using different games; user needs to be new, agent is not \n",
    "    for conv_idx, conversation in enumerate(parallel_convs.conversations):\n",
    "        base_players = parallel_convs.players_dict[conv_idx]\n",
    "        base_chat_history = user_conversations_no_pref[conv_idx]\n",
    "        for a_bundle in range(len(n_10_versions)):\n",
    "            env_copy = copy.deepcopy(n_10_versions[a_bundle]['env'])\n",
    "            env_copy.game.action_log = copy.deepcopy(conversation.env.game.action_log)\n",
    "            obss = copy.deepcopy(n_10_versions[a_bundle]['obss'])\n",
    "            #print(obss['user'])\n",
    "            #extracted_features = parse_extracted_features(extracted_features)\n",
    "            n_1_prompts = n_1_user_personas(obss['user'], extracted_features, record = base_chat_history, style_response = style_response)\n",
    "            players = parallel_convs.create_pair_new_players(base_players, user_personas_incomplete_prompt=n_1_prompts)\n",
    "            new_conv = Conversation(players=players, env=env_copy, max_length=parallel_convs.max_length, parent_conv=conversation)\n",
    "            conversation.son_convs.append(new_conv)\n",
    "            #new_conv = Conversation(players=pairs_3_10_2_pairs_dict[conv_idx][f'pair_{i}'], env=env_copy, max_length=parallel_convs.max_length, parent_conv=conversation)\n",
    "            #conversation.son_convs.append(new_conv)\n",
    "    global global_preferences_only\n",
    "    return parallel_convs, global_preferences_only\n",
    "        \n",
    "        \n",
    "        \n",
    "        \n",
    "  "
   ]
  },
  {
   "cell_type": "code",
   "execution_count": null,
   "metadata": {},
   "outputs": [],
   "source": []
  },
  {
   "cell_type": "code",
   "execution_count": 176,
   "metadata": {},
   "outputs": [
    {
     "name": "stdout",
     "output_type": "stream",
     "text": [
      "..searching with query:  {'fields': ['name'], 'filters': [['category', '==', 'landmark']]}\n",
      "..searching with query:  {'fields': ['name'], 'filters': [['category', '==', 'concert']]}\n",
      "..searching with query:  {'fields': ['name'], 'text_query': 'live music'}\n",
      "..searching with query:  {'fields': ['name', 'price'], 'text_query': 'live music', 'filters': [['price', '<=', '40']]}\n",
      "..searching with query:  {'fields': ['name', 'price'], 'filters': [['category', '==', 'restaurant'], ['price', '<=', '10']], 'sort_by': [['distance_to', 'The Mall']]}\n",
      "..searching with query:  {'fields': ['name', 'price', 'distance'], 'filters': [['category', '==', 'restaurant']], 'sort_by': [['distance_to', 'The Mall'], 'price']}\n",
      "..searching with query:  {'fields': ['name'], 'text_query': 'good for kids', 'filters': [['category', '==', 'park']], 'sort_by': [['distance_to', \"Saul's\"]]}\n",
      "..searching with query:  {'fields': ['name'], 'filters': [['vegan', '==', 'true']]}\n",
      "..searching with query:  {'fields': ['name'], 'filters': [['category', '==', 'landmark']]}\n",
      "..searching with query:  {'fields': ['name'], 'filters': [['category', '==', 'concert']]}\n",
      "..searching with query:  {'fields': ['name'], 'text_query': 'live music'}\n",
      "..searching with query:  {'fields': ['name', 'price'], 'text_query': 'live music', 'filters': [['price', '<=', '40']]}\n",
      "..searching with query:  {'fields': ['name', 'price'], 'filters': [['category', '==', 'restaurant'], ['price', '<=', '10']], 'sort_by': [['distance_to', 'The Mall']]}\n",
      "..searching with query:  {'fields': ['name', 'price', 'distance'], 'filters': [['category', '==', 'restaurant']], 'sort_by': [['distance_to', 'The Mall'], 'price']}\n",
      "..searching with query:  {'fields': ['name'], 'text_query': 'good for kids', 'filters': [['category', '==', 'park']], 'sort_by': [['distance_to', \"Saul's\"]]}\n",
      "..searching with query:  {'fields': ['name'], 'filters': [['vegan', '==', 'true']]}\n",
      "..searching with query:  {'fields': ['name'], 'filters': [['category', '==', 'landmark']]}\n",
      "..searching with query:  {'fields': ['name'], 'filters': [['category', '==', 'concert']]}\n",
      "..searching with query:  {'fields': ['name'], 'text_query': 'live music'}\n",
      "..searching with query:  {'fields': ['name', 'price'], 'text_query': 'live music', 'filters': [['price', '<=', '40']]}\n",
      "..searching with query:  {'fields': ['name', 'price'], 'filters': [['category', '==', 'restaurant'], ['price', '<=', '10']], 'sort_by': [['distance_to', 'The Mall']]}\n",
      "..searching with query:  {'fields': ['name', 'price', 'distance'], 'filters': [['category', '==', 'restaurant']], 'sort_by': [['distance_to', 'The Mall'], 'price']}\n",
      "..searching with query:  {'fields': ['name'], 'text_query': 'good for kids', 'filters': [['category', '==', 'park']], 'sort_by': [['distance_to', \"Saul's\"]]}\n",
      "..searching with query:  {'fields': ['name'], 'filters': [['vegan', '==', 'true']]}\n",
      "..searching with query:  {'fields': ['name'], 'filters': [['category', '==', 'landmark']]}\n",
      "..searching with query:  {'fields': ['name'], 'filters': [['category', '==', 'concert']]}\n",
      "..searching with query:  {'fields': ['name'], 'text_query': 'live music'}\n",
      "..searching with query:  {'fields': ['name', 'price'], 'text_query': 'live music', 'filters': [['price', '<=', '40']]}\n",
      "..searching with query:  {'fields': ['name', 'price'], 'filters': [['category', '==', 'restaurant'], ['price', '<=', '10']], 'sort_by': [['distance_to', 'The Mall']]}\n",
      "..searching with query:  {'fields': ['name', 'price', 'distance'], 'filters': [['category', '==', 'restaurant']], 'sort_by': [['distance_to', 'The Mall'], 'price']}\n",
      "..searching with query:  {'fields': ['name'], 'text_query': 'good for kids', 'filters': [['category', '==', 'park']], 'sort_by': [['distance_to', \"Saul's\"]]}\n",
      "..searching with query:  {'fields': ['name'], 'filters': [['vegan', '==', 'true']]}\n",
      "..searching with query:  {'fields': ['name'], 'filters': [['category', '==', 'landmark']]}\n",
      "..searching with query:  {'fields': ['name'], 'filters': [['category', '==', 'concert']]}\n",
      "..searching with query:  {'fields': ['name'], 'text_query': 'live music'}\n",
      "..searching with query:  {'fields': ['name', 'price'], 'text_query': 'live music', 'filters': [['price', '<=', '40']]}\n",
      "..searching with query:  {'fields': ['name', 'price'], 'filters': [['category', '==', 'restaurant'], ['price', '<=', '10']], 'sort_by': [['distance_to', 'The Mall']]}\n",
      "..searching with query:  {'fields': ['name', 'price', 'distance'], 'filters': [['category', '==', 'restaurant']], 'sort_by': [['distance_to', 'The Mall'], 'price']}\n",
      "..searching with query:  {'fields': ['name'], 'text_query': 'good for kids', 'filters': [['category', '==', 'park']], 'sort_by': [['distance_to', \"Saul's\"]]}\n",
      "..searching with query:  {'fields': ['name'], 'filters': [['vegan', '==', 'true']]}\n",
      "..searching with query:  {'fields': ['name'], 'filters': [['category', '==', 'landmark']]}\n",
      "..searching with query:  {'fields': ['name'], 'filters': [['category', '==', 'concert']]}\n",
      "..searching with query:  {'fields': ['name'], 'text_query': 'live music'}\n",
      "..searching with query:  {'fields': ['name', 'price'], 'text_query': 'live music', 'filters': [['price', '<=', '40']]}\n",
      "..searching with query:  {'fields': ['name', 'price'], 'filters': [['category', '==', 'restaurant'], ['price', '<=', '10']], 'sort_by': [['distance_to', 'The Mall']]}\n",
      "..searching with query:  {'fields': ['name', 'price', 'distance'], 'filters': [['category', '==', 'restaurant']], 'sort_by': [['distance_to', 'The Mall'], 'price']}\n",
      "..searching with query:  {'fields': ['name'], 'text_query': 'good for kids', 'filters': [['category', '==', 'park']], 'sort_by': [['distance_to', \"Saul's\"]]}\n",
      "..searching with query:  {'fields': ['name'], 'filters': [['vegan', '==', 'true']]}\n",
      "..searching with query:  {'fields': ['name'], 'filters': [['category', '==', 'landmark']]}\n",
      "..searching with query:  {'fields': ['name'], 'filters': [['category', '==', 'concert']]}\n",
      "..searching with query:  {'fields': ['name'], 'text_query': 'live music'}\n",
      "..searching with query:  {'fields': ['name', 'price'], 'text_query': 'live music', 'filters': [['price', '<=', '40']]}\n",
      "..searching with query:  {'fields': ['name', 'price'], 'filters': [['category', '==', 'restaurant'], ['price', '<=', '10']], 'sort_by': [['distance_to', 'The Mall']]}\n",
      "..searching with query:  {'fields': ['name', 'price', 'distance'], 'filters': [['category', '==', 'restaurant']], 'sort_by': [['distance_to', 'The Mall'], 'price']}\n",
      "..searching with query:  {'fields': ['name'], 'text_query': 'good for kids', 'filters': [['category', '==', 'park']], 'sort_by': [['distance_to', \"Saul's\"]]}\n",
      "..searching with query:  {'fields': ['name'], 'filters': [['vegan', '==', 'true']]}\n",
      "..searching with query:  {'fields': ['name'], 'filters': [['category', '==', 'landmark']]}\n",
      "..searching with query:  {'fields': ['name'], 'filters': [['category', '==', 'concert']]}\n",
      "..searching with query:  {'fields': ['name'], 'text_query': 'live music'}\n",
      "..searching with query:  {'fields': ['name', 'price'], 'text_query': 'live music', 'filters': [['price', '<=', '40']]}\n",
      "..searching with query:  {'fields': ['name', 'price'], 'filters': [['category', '==', 'restaurant'], ['price', '<=', '10']], 'sort_by': [['distance_to', 'The Mall']]}\n",
      "..searching with query:  {'fields': ['name', 'price', 'distance'], 'filters': [['category', '==', 'restaurant']], 'sort_by': [['distance_to', 'The Mall'], 'price']}\n",
      "..searching with query:  {'fields': ['name'], 'text_query': 'good for kids', 'filters': [['category', '==', 'park']], 'sort_by': [['distance_to', \"Saul's\"]]}\n",
      "..searching with query:  {'fields': ['name'], 'filters': [['vegan', '==', 'true']]}\n",
      "..searching with query:  {'fields': ['name'], 'filters': [['category', '==', 'landmark']]}\n",
      "..searching with query:  {'fields': ['name'], 'filters': [['category', '==', 'concert']]}\n",
      "..searching with query:  {'fields': ['name'], 'text_query': 'live music'}\n",
      "..searching with query:  {'fields': ['name', 'price'], 'text_query': 'live music', 'filters': [['price', '<=', '40']]}\n",
      "..searching with query:  {'fields': ['name', 'price'], 'filters': [['category', '==', 'restaurant'], ['price', '<=', '10']], 'sort_by': [['distance_to', 'The Mall']]}\n",
      "..searching with query:  {'fields': ['name', 'price', 'distance'], 'filters': [['category', '==', 'restaurant']], 'sort_by': [['distance_to', 'The Mall'], 'price']}\n",
      "..searching with query:  {'fields': ['name'], 'text_query': 'good for kids', 'filters': [['category', '==', 'park']], 'sort_by': [['distance_to', \"Saul's\"]]}\n",
      "..searching with query:  {'fields': ['name'], 'filters': [['vegan', '==', 'true']]}\n",
      "..searching with query:  {'fields': ['name'], 'filters': [['category', '==', 'landmark']]}\n",
      "..searching with query:  {'fields': ['name'], 'filters': [['category', '==', 'concert']]}\n",
      "..searching with query:  {'fields': ['name'], 'text_query': 'live music'}\n",
      "..searching with query:  {'fields': ['name', 'price'], 'text_query': 'live music', 'filters': [['price', '<=', '40']]}\n",
      "..searching with query:  {'fields': ['name', 'price'], 'filters': [['category', '==', 'restaurant'], ['price', '<=', '10']], 'sort_by': [['distance_to', 'The Mall']]}\n",
      "..searching with query:  {'fields': ['name', 'price', 'distance'], 'filters': [['category', '==', 'restaurant']], 'sort_by': [['distance_to', 'The Mall'], 'price']}\n",
      "..searching with query:  {'fields': ['name'], 'text_query': 'good for kids', 'filters': [['category', '==', 'park']], 'sort_by': [['distance_to', \"Saul's\"]]}\n",
      "..searching with query:  {'fields': ['name'], 'filters': [['vegan', '==', 'true']]}\n"
     ]
    }
   ],
   "source": [
    "parallel_convs, preferences_only = initialize_10_user_conversations(parallel_convs, user_conversations_no_pref, style_response, extracted_features, reset_sonlist = True)\n",
    "#print(extracted_features)"
   ]
  },
  {
   "cell_type": "code",
   "execution_count": 177,
   "metadata": {},
   "outputs": [
    {
     "data": {
      "text/html": [
       "<pre style=\"white-space:pre;overflow-x:auto;line-height:normal;font-family:Menlo,'DejaVu Sans Mono',consolas,'Courier New',monospace\"><span style=\"color: #008080; text-decoration-color: #008080; font-weight: bold\">1</span>. **Confirm Priorities and Deal Breakers**: Reiterate the user's confirmation that parking is not a deal breaker \n",
       "and prioritize Central Plaza and The Mall. Ask if there are any other preferences or deal breakers, such as \n",
       "specific landmarks or types of activities, to ensure a comprehensive understanding of the user's priorities.\n",
       "</pre>\n"
      ],
      "text/plain": [
       "\u001b[1;36m1\u001b[0m. **Confirm Priorities and Deal Breakers**: Reiterate the user's confirmation that parking is not a deal breaker \n",
       "and prioritize Central Plaza and The Mall. Ask if there are any other preferences or deal breakers, such as \n",
       "specific landmarks or types of activities, to ensure a comprehensive understanding of the user's priorities.\n"
      ]
     },
     "metadata": {},
     "output_type": "display_data"
    },
    {
     "data": {
      "text/html": [
       "<pre style=\"white-space:pre;overflow-x:auto;line-height:normal;font-family:Menlo,'DejaVu Sans Mono',consolas,'Courier New',monospace\"><span style=\"color: #008080; text-decoration-color: #008080; font-weight: bold\">1</span>. **Confirm Priorities and Deal Breakers**: Reiterate the user's confirmation that parking is not a deal breaker \n",
       "and prioritize Central Plaza and The Mall. Ask if there are any other preferences or deal breakers, such as \n",
       "specific landmarks or types of activities, to ensure a comprehensive understanding of the user's priorities.\n",
       "</pre>\n"
      ],
      "text/plain": [
       "\u001b[1;36m1\u001b[0m. **Confirm Priorities and Deal Breakers**: Reiterate the user's confirmation that parking is not a deal breaker \n",
       "and prioritize Central Plaza and The Mall. Ask if there are any other preferences or deal breakers, such as \n",
       "specific landmarks or types of activities, to ensure a comprehensive understanding of the user's priorities.\n"
      ]
     },
     "metadata": {},
     "output_type": "display_data"
    },
    {
     "data": {
      "text/html": [
       "<pre style=\"white-space:pre;overflow-x:auto;line-height:normal;font-family:Menlo,'DejaVu Sans Mono',consolas,'Courier New',monospace\"><span style=\"color: #008080; text-decoration-color: #008080; font-weight: bold\">1</span>. **Confirm Priorities and Deal Breakers**: Reiterate the user's confirmation that parking is not a deal breaker \n",
       "and prioritize Central Plaza and The Mall. Ask if there are any other preferences or deal breakers, such as \n",
       "specific landmarks or types of activities, to ensure a comprehensive understanding of the user's priorities.\n",
       "</pre>\n"
      ],
      "text/plain": [
       "\u001b[1;36m1\u001b[0m. **Confirm Priorities and Deal Breakers**: Reiterate the user's confirmation that parking is not a deal breaker \n",
       "and prioritize Central Plaza and The Mall. Ask if there are any other preferences or deal breakers, such as \n",
       "specific landmarks or types of activities, to ensure a comprehensive understanding of the user's priorities.\n"
      ]
     },
     "metadata": {},
     "output_type": "display_data"
    },
    {
     "data": {
      "text/html": [
       "<pre style=\"white-space:pre;overflow-x:auto;line-height:normal;font-family:Menlo,'DejaVu Sans Mono',consolas,'Courier New',monospace\"><span style=\"color: #008080; text-decoration-color: #008080; font-weight: bold\">1</span>. **Confirm Priorities and Deal Breakers**: Reiterate the user's confirmation that parking is not a deal breaker \n",
       "and prioritize Central Plaza and The Mall. Ask if there are any other preferences or deal breakers, such as \n",
       "specific landmarks or types of activities, to ensure a comprehensive understanding of the user's priorities.\n",
       "</pre>\n"
      ],
      "text/plain": [
       "\u001b[1;36m1\u001b[0m. **Confirm Priorities and Deal Breakers**: Reiterate the user's confirmation that parking is not a deal breaker \n",
       "and prioritize Central Plaza and The Mall. Ask if there are any other preferences or deal breakers, such as \n",
       "specific landmarks or types of activities, to ensure a comprehensive understanding of the user's priorities.\n"
      ]
     },
     "metadata": {},
     "output_type": "display_data"
    },
    {
     "data": {
      "text/html": [
       "<pre style=\"white-space:pre;overflow-x:auto;line-height:normal;font-family:Menlo,'DejaVu Sans Mono',consolas,'Courier New',monospace\"><span style=\"color: #008080; text-decoration-color: #008080; font-weight: bold\">1</span>. **Confirm Priorities and Deal Breakers**: Reiterate the user's confirmation that parking is not a deal breaker \n",
       "and prioritize Central Plaza and The Mall. Ask if there are any other preferences or deal breakers, such as \n",
       "specific landmarks or types of activities, to ensure a comprehensive understanding of the user's priorities.\n",
       "</pre>\n"
      ],
      "text/plain": [
       "\u001b[1;36m1\u001b[0m. **Confirm Priorities and Deal Breakers**: Reiterate the user's confirmation that parking is not a deal breaker \n",
       "and prioritize Central Plaza and The Mall. Ask if there are any other preferences or deal breakers, such as \n",
       "specific landmarks or types of activities, to ensure a comprehensive understanding of the user's priorities.\n"
      ]
     },
     "metadata": {},
     "output_type": "display_data"
    },
    {
     "data": {
      "text/html": [
       "<pre style=\"white-space:pre;overflow-x:auto;line-height:normal;font-family:Menlo,'DejaVu Sans Mono',consolas,'Courier New',monospace\"><span style=\"color: #008080; text-decoration-color: #008080; font-weight: bold\">1</span>. **Confirm Priorities and Deal Breakers**: Reiterate the user's confirmation that parking is not a deal breaker \n",
       "and prioritize Central Plaza and The Mall. Ask if there are any other preferences or deal breakers, such as \n",
       "specific landmarks or types of activities, to ensure a comprehensive understanding of the user's priorities.\n",
       "</pre>\n"
      ],
      "text/plain": [
       "\u001b[1;36m1\u001b[0m. **Confirm Priorities and Deal Breakers**: Reiterate the user's confirmation that parking is not a deal breaker \n",
       "and prioritize Central Plaza and The Mall. Ask if there are any other preferences or deal breakers, such as \n",
       "specific landmarks or types of activities, to ensure a comprehensive understanding of the user's priorities.\n"
      ]
     },
     "metadata": {},
     "output_type": "display_data"
    },
    {
     "data": {
      "text/html": [
       "<pre style=\"white-space:pre;overflow-x:auto;line-height:normal;font-family:Menlo,'DejaVu Sans Mono',consolas,'Courier New',monospace\"><span style=\"color: #008080; text-decoration-color: #008080; font-weight: bold\">1</span>. **Confirm Priorities and Deal Breakers**: Reiterate the user's confirmation that parking is not a deal breaker \n",
       "and prioritize Central Plaza and The Mall. Ask if there are any other preferences or deal breakers, such as \n",
       "specific landmarks or types of activities, to ensure a comprehensive understanding of the user's priorities.\n",
       "</pre>\n"
      ],
      "text/plain": [
       "\u001b[1;36m1\u001b[0m. **Confirm Priorities and Deal Breakers**: Reiterate the user's confirmation that parking is not a deal breaker \n",
       "and prioritize Central Plaza and The Mall. Ask if there are any other preferences or deal breakers, such as \n",
       "specific landmarks or types of activities, to ensure a comprehensive understanding of the user's priorities.\n"
      ]
     },
     "metadata": {},
     "output_type": "display_data"
    },
    {
     "data": {
      "text/html": [
       "<pre style=\"white-space:pre;overflow-x:auto;line-height:normal;font-family:Menlo,'DejaVu Sans Mono',consolas,'Courier New',monospace\"><span style=\"color: #008080; text-decoration-color: #008080; font-weight: bold\">1</span>. **Confirm Priorities and Deal Breakers**: Reiterate the user's confirmation that parking is not a deal breaker \n",
       "and prioritize Central Plaza and The Mall. Ask if there are any other preferences or deal breakers, such as \n",
       "specific landmarks or types of activities, to ensure a comprehensive understanding of the user's priorities.\n",
       "</pre>\n"
      ],
      "text/plain": [
       "\u001b[1;36m1\u001b[0m. **Confirm Priorities and Deal Breakers**: Reiterate the user's confirmation that parking is not a deal breaker \n",
       "and prioritize Central Plaza and The Mall. Ask if there are any other preferences or deal breakers, such as \n",
       "specific landmarks or types of activities, to ensure a comprehensive understanding of the user's priorities.\n"
      ]
     },
     "metadata": {},
     "output_type": "display_data"
    },
    {
     "data": {
      "text/html": [
       "<pre style=\"white-space:pre;overflow-x:auto;line-height:normal;font-family:Menlo,'DejaVu Sans Mono',consolas,'Courier New',monospace\"><span style=\"color: #008080; text-decoration-color: #008080; font-weight: bold\">1</span>. **Confirm Priorities and Deal Breakers**: Reiterate the user's confirmation that parking is not a deal breaker \n",
       "and prioritize Central Plaza and The Mall. Ask if there are any other preferences or deal breakers, such as \n",
       "specific landmarks or types of activities, to ensure a comprehensive understanding of the user's priorities.\n",
       "</pre>\n"
      ],
      "text/plain": [
       "\u001b[1;36m1\u001b[0m. **Confirm Priorities and Deal Breakers**: Reiterate the user's confirmation that parking is not a deal breaker \n",
       "and prioritize Central Plaza and The Mall. Ask if there are any other preferences or deal breakers, such as \n",
       "specific landmarks or types of activities, to ensure a comprehensive understanding of the user's priorities.\n"
      ]
     },
     "metadata": {},
     "output_type": "display_data"
    },
    {
     "data": {
      "text/html": [
       "<pre style=\"white-space:pre;overflow-x:auto;line-height:normal;font-family:Menlo,'DejaVu Sans Mono',consolas,'Courier New',monospace\"><span style=\"color: #008080; text-decoration-color: #008080; font-weight: bold\">1</span>. **Confirm Priorities and Deal Breakers**: Reiterate the user's confirmation that parking is not a deal breaker \n",
       "and prioritize Central Plaza and The Mall. Ask if there are any other preferences or deal breakers, such as \n",
       "specific landmarks or types of activities, to ensure a comprehensive understanding of the user's priorities.\n",
       "</pre>\n"
      ],
      "text/plain": [
       "\u001b[1;36m1\u001b[0m. **Confirm Priorities and Deal Breakers**: Reiterate the user's confirmation that parking is not a deal breaker \n",
       "and prioritize Central Plaza and The Mall. Ask if there are any other preferences or deal breakers, such as \n",
       "specific landmarks or types of activities, to ensure a comprehensive understanding of the user's priorities.\n"
      ]
     },
     "metadata": {},
     "output_type": "display_data"
    },
    {
     "data": {
      "text/html": [
       "<pre style=\"white-space:pre;overflow-x:auto;line-height:normal;font-family:Menlo,'DejaVu Sans Mono',consolas,'Courier New',monospace\"><span style=\"color: #008080; text-decoration-color: #008080; font-weight: bold\">1</span>. **Confirm Priorities and Deal Breakers**: Reiterate the user's confirmation that parking is not a deal breaker \n",
       "and prioritize Central Plaza and The Mall. Ask if there are any other preferences or deal breakers, such as \n",
       "specific landmarks or types of activities, to ensure a comprehensive understanding of the user's priorities.\n",
       "</pre>\n"
      ],
      "text/plain": [
       "\u001b[1;36m1\u001b[0m. **Confirm Priorities and Deal Breakers**: Reiterate the user's confirmation that parking is not a deal breaker \n",
       "and prioritize Central Plaza and The Mall. Ask if there are any other preferences or deal breakers, such as \n",
       "specific landmarks or types of activities, to ensure a comprehensive understanding of the user's priorities.\n"
      ]
     },
     "metadata": {},
     "output_type": "display_data"
    },
    {
     "data": {
      "text/html": [
       "<pre style=\"white-space:pre;overflow-x:auto;line-height:normal;font-family:Menlo,'DejaVu Sans Mono',consolas,'Courier New',monospace\"><span style=\"color: #008080; text-decoration-color: #008080; font-weight: bold\">2</span>. **Suggest a Third Option with Parking**: Propose a third location that includes parking to complement Central \n",
       "Plaza and The Mall, as the user mentioned parking as a preference. Use available tools to find a nearby landmark \n",
       "with parking that aligns with the user's interests.\n",
       "</pre>\n"
      ],
      "text/plain": [
       "\u001b[1;36m2\u001b[0m. **Suggest a Third Option with Parking**: Propose a third location that includes parking to complement Central \n",
       "Plaza and The Mall, as the user mentioned parking as a preference. Use available tools to find a nearby landmark \n",
       "with parking that aligns with the user's interests.\n"
      ]
     },
     "metadata": {},
     "output_type": "display_data"
    },
    {
     "data": {
      "text/html": [
       "<pre style=\"white-space:pre;overflow-x:auto;line-height:normal;font-family:Menlo,'DejaVu Sans Mono',consolas,'Courier New',monospace\"><span style=\"color: #008080; text-decoration-color: #008080; font-weight: bold\">2</span>. **Suggest a Third Option with Parking**: Propose a third location that includes parking to complement Central \n",
       "Plaza and The Mall, as the user mentioned parking as a preference. Use available tools to find a nearby landmark \n",
       "with parking that aligns with the user's interests.\n",
       "</pre>\n"
      ],
      "text/plain": [
       "\u001b[1;36m2\u001b[0m. **Suggest a Third Option with Parking**: Propose a third location that includes parking to complement Central \n",
       "Plaza and The Mall, as the user mentioned parking as a preference. Use available tools to find a nearby landmark \n",
       "with parking that aligns with the user's interests.\n"
      ]
     },
     "metadata": {},
     "output_type": "display_data"
    },
    {
     "data": {
      "text/html": [
       "<pre style=\"white-space:pre;overflow-x:auto;line-height:normal;font-family:Menlo,'DejaVu Sans Mono',consolas,'Courier New',monospace\"><span style=\"color: #008080; text-decoration-color: #008080; font-weight: bold\">2</span>. **Suggest a Third Option with Parking**: Propose a third location that includes parking to complement Central \n",
       "Plaza and The Mall, as the user mentioned parking as a preference. Use available tools to find a nearby landmark \n",
       "with parking that aligns with the user's interests.\n",
       "</pre>\n"
      ],
      "text/plain": [
       "\u001b[1;36m2\u001b[0m. **Suggest a Third Option with Parking**: Propose a third location that includes parking to complement Central \n",
       "Plaza and The Mall, as the user mentioned parking as a preference. Use available tools to find a nearby landmark \n",
       "with parking that aligns with the user's interests.\n"
      ]
     },
     "metadata": {},
     "output_type": "display_data"
    },
    {
     "data": {
      "text/html": [
       "<pre style=\"white-space:pre;overflow-x:auto;line-height:normal;font-family:Menlo,'DejaVu Sans Mono',consolas,'Courier New',monospace\"><span style=\"color: #008080; text-decoration-color: #008080; font-weight: bold\">2</span>. **Suggest a Third Option with Parking**: Propose a third location that includes parking to complement Central \n",
       "Plaza and The Mall, as the user mentioned parking as a preference. Use available tools to find a nearby landmark \n",
       "with parking that aligns with the user's interests.\n",
       "</pre>\n"
      ],
      "text/plain": [
       "\u001b[1;36m2\u001b[0m. **Suggest a Third Option with Parking**: Propose a third location that includes parking to complement Central \n",
       "Plaza and The Mall, as the user mentioned parking as a preference. Use available tools to find a nearby landmark \n",
       "with parking that aligns with the user's interests.\n"
      ]
     },
     "metadata": {},
     "output_type": "display_data"
    },
    {
     "data": {
      "text/html": [
       "<pre style=\"white-space:pre;overflow-x:auto;line-height:normal;font-family:Menlo,'DejaVu Sans Mono',consolas,'Courier New',monospace\"><span style=\"color: #008080; text-decoration-color: #008080; font-weight: bold\">2</span>. **Suggest a Third Option with Parking**: Propose a third location that includes parking to complement Central \n",
       "Plaza and The Mall, as the user mentioned parking as a preference. Use available tools to find a nearby landmark \n",
       "with parking that aligns with the user's interests.\n",
       "</pre>\n"
      ],
      "text/plain": [
       "\u001b[1;36m2\u001b[0m. **Suggest a Third Option with Parking**: Propose a third location that includes parking to complement Central \n",
       "Plaza and The Mall, as the user mentioned parking as a preference. Use available tools to find a nearby landmark \n",
       "with parking that aligns with the user's interests.\n"
      ]
     },
     "metadata": {},
     "output_type": "display_data"
    },
    {
     "data": {
      "text/html": [
       "<pre style=\"white-space:pre;overflow-x:auto;line-height:normal;font-family:Menlo,'DejaVu Sans Mono',consolas,'Courier New',monospace\"><span style=\"color: #008080; text-decoration-color: #008080; font-weight: bold\">2</span>. **Suggest a Third Option with Parking**: Propose a third location that includes parking to complement Central \n",
       "Plaza and The Mall, as the user mentioned parking as a preference. Use available tools to find a nearby landmark \n",
       "with parking that aligns with the user's interests.\n",
       "</pre>\n"
      ],
      "text/plain": [
       "\u001b[1;36m2\u001b[0m. **Suggest a Third Option with Parking**: Propose a third location that includes parking to complement Central \n",
       "Plaza and The Mall, as the user mentioned parking as a preference. Use available tools to find a nearby landmark \n",
       "with parking that aligns with the user's interests.\n"
      ]
     },
     "metadata": {},
     "output_type": "display_data"
    },
    {
     "data": {
      "text/html": [
       "<pre style=\"white-space:pre;overflow-x:auto;line-height:normal;font-family:Menlo,'DejaVu Sans Mono',consolas,'Courier New',monospace\"><span style=\"color: #008080; text-decoration-color: #008080; font-weight: bold\">2</span>. **Suggest a Third Option with Parking**: Propose a third location that includes parking to complement Central \n",
       "Plaza and The Mall, as the user mentioned parking as a preference. Use available tools to find a nearby landmark \n",
       "with parking that aligns with the user's interests.\n",
       "</pre>\n"
      ],
      "text/plain": [
       "\u001b[1;36m2\u001b[0m. **Suggest a Third Option with Parking**: Propose a third location that includes parking to complement Central \n",
       "Plaza and The Mall, as the user mentioned parking as a preference. Use available tools to find a nearby landmark \n",
       "with parking that aligns with the user's interests.\n"
      ]
     },
     "metadata": {},
     "output_type": "display_data"
    },
    {
     "data": {
      "text/html": [
       "<pre style=\"white-space:pre;overflow-x:auto;line-height:normal;font-family:Menlo,'DejaVu Sans Mono',consolas,'Courier New',monospace\"><span style=\"color: #008080; text-decoration-color: #008080; font-weight: bold\">2</span>. **Suggest a Third Option with Parking**: Propose a third location that includes parking to complement Central \n",
       "Plaza and The Mall, as the user mentioned parking as a preference. Use available tools to find a nearby landmark \n",
       "with parking that aligns with the user's interests.\n",
       "</pre>\n"
      ],
      "text/plain": [
       "\u001b[1;36m2\u001b[0m. **Suggest a Third Option with Parking**: Propose a third location that includes parking to complement Central \n",
       "Plaza and The Mall, as the user mentioned parking as a preference. Use available tools to find a nearby landmark \n",
       "with parking that aligns with the user's interests.\n"
      ]
     },
     "metadata": {},
     "output_type": "display_data"
    },
    {
     "data": {
      "text/html": [
       "<pre style=\"white-space:pre;overflow-x:auto;line-height:normal;font-family:Menlo,'DejaVu Sans Mono',consolas,'Courier New',monospace\"><span style=\"color: #008080; text-decoration-color: #008080; font-weight: bold\">2</span>. **Suggest a Third Option with Parking**: Propose a third location that includes parking to complement Central \n",
       "Plaza and The Mall, as the user mentioned parking as a preference. Use available tools to find a nearby landmark \n",
       "with parking that aligns with the user's interests.\n",
       "</pre>\n"
      ],
      "text/plain": [
       "\u001b[1;36m2\u001b[0m. **Suggest a Third Option with Parking**: Propose a third location that includes parking to complement Central \n",
       "Plaza and The Mall, as the user mentioned parking as a preference. Use available tools to find a nearby landmark \n",
       "with parking that aligns with the user's interests.\n"
      ]
     },
     "metadata": {},
     "output_type": "display_data"
    },
    {
     "data": {
      "text/html": [
       "<pre style=\"white-space:pre;overflow-x:auto;line-height:normal;font-family:Menlo,'DejaVu Sans Mono',consolas,'Courier New',monospace\"><span style=\"color: #008080; text-decoration-color: #008080; font-weight: bold\">2</span>. **Suggest a Third Option with Parking**: Propose a third location that includes parking to complement Central \n",
       "Plaza and The Mall, as the user mentioned parking as a preference. Use available tools to find a nearby landmark \n",
       "with parking that aligns with the user's interests.\n",
       "</pre>\n"
      ],
      "text/plain": [
       "\u001b[1;36m2\u001b[0m. **Suggest a Third Option with Parking**: Propose a third location that includes parking to complement Central \n",
       "Plaza and The Mall, as the user mentioned parking as a preference. Use available tools to find a nearby landmark \n",
       "with parking that aligns with the user's interests.\n"
      ]
     },
     "metadata": {},
     "output_type": "display_data"
    },
    {
     "data": {
      "text/html": [
       "<pre style=\"white-space:pre;overflow-x:auto;line-height:normal;font-family:Menlo,'DejaVu Sans Mono',consolas,'Courier New',monospace\"><span style=\"color: #008080; text-decoration-color: #008080; font-weight: bold\">2</span>. **Suggest a Third Option with Parking**: Propose a third location that includes parking to complement Central \n",
       "Plaza and The Mall, as the user mentioned parking as a preference. Use available tools to find a nearby landmark \n",
       "with parking that aligns with the user's interests.\n",
       "</pre>\n"
      ],
      "text/plain": [
       "\u001b[1;36m2\u001b[0m. **Suggest a Third Option with Parking**: Propose a third location that includes parking to complement Central \n",
       "Plaza and The Mall, as the user mentioned parking as a preference. Use available tools to find a nearby landmark \n",
       "with parking that aligns with the user's interests.\n"
      ]
     },
     "metadata": {},
     "output_type": "display_data"
    },
    {
     "data": {
      "text/html": [
       "<pre style=\"white-space:pre;overflow-x:auto;line-height:normal;font-family:Menlo,'DejaVu Sans Mono',consolas,'Courier New',monospace\"><span style=\"color: #008080; text-decoration-color: #008080; font-weight: bold\">3</span>. **Summarize and Confirm Final Itinerary**: Summarize the proposed itinerary, including Central Plaza, The Mall, \n",
       "and the additional location with parking. Confirm that this meets the user's expectations and ask if there are any \n",
       "last-minute changes or additional preferences before finalizing the itinerary.\n",
       "</pre>\n"
      ],
      "text/plain": [
       "\u001b[1;36m3\u001b[0m. **Summarize and Confirm Final Itinerary**: Summarize the proposed itinerary, including Central Plaza, The Mall, \n",
       "and the additional location with parking. Confirm that this meets the user's expectations and ask if there are any \n",
       "last-minute changes or additional preferences before finalizing the itinerary.\n"
      ]
     },
     "metadata": {},
     "output_type": "display_data"
    },
    {
     "data": {
      "text/html": [
       "<pre style=\"white-space:pre;overflow-x:auto;line-height:normal;font-family:Menlo,'DejaVu Sans Mono',consolas,'Courier New',monospace\"><span style=\"color: #008080; text-decoration-color: #008080; font-weight: bold\">3</span>. **Summarize and Confirm Final Itinerary**: Summarize the proposed itinerary, including Central Plaza, The Mall, \n",
       "and the additional location with parking. Confirm that this meets the user's expectations and ask if there are any \n",
       "last-minute changes or additional preferences before finalizing the itinerary.\n",
       "</pre>\n"
      ],
      "text/plain": [
       "\u001b[1;36m3\u001b[0m. **Summarize and Confirm Final Itinerary**: Summarize the proposed itinerary, including Central Plaza, The Mall, \n",
       "and the additional location with parking. Confirm that this meets the user's expectations and ask if there are any \n",
       "last-minute changes or additional preferences before finalizing the itinerary.\n"
      ]
     },
     "metadata": {},
     "output_type": "display_data"
    },
    {
     "data": {
      "text/html": [
       "<pre style=\"white-space:pre;overflow-x:auto;line-height:normal;font-family:Menlo,'DejaVu Sans Mono',consolas,'Courier New',monospace\"><span style=\"color: #008080; text-decoration-color: #008080; font-weight: bold\">3</span>. **Summarize and Confirm Final Itinerary**: Summarize the proposed itinerary, including Central Plaza, The Mall, \n",
       "and the additional location with parking. Confirm that this meets the user's expectations and ask if there are any \n",
       "last-minute changes or additional preferences before finalizing the itinerary.\n",
       "</pre>\n"
      ],
      "text/plain": [
       "\u001b[1;36m3\u001b[0m. **Summarize and Confirm Final Itinerary**: Summarize the proposed itinerary, including Central Plaza, The Mall, \n",
       "and the additional location with parking. Confirm that this meets the user's expectations and ask if there are any \n",
       "last-minute changes or additional preferences before finalizing the itinerary.\n"
      ]
     },
     "metadata": {},
     "output_type": "display_data"
    },
    {
     "data": {
      "text/html": [
       "<pre style=\"white-space:pre;overflow-x:auto;line-height:normal;font-family:Menlo,'DejaVu Sans Mono',consolas,'Courier New',monospace\"><span style=\"color: #008080; text-decoration-color: #008080; font-weight: bold\">3</span>. **Summarize and Confirm Final Itinerary**: Summarize the proposed itinerary, including Central Plaza, The Mall, \n",
       "and the additional location with parking. Confirm that this meets the user's expectations and ask if there are any \n",
       "last-minute changes or additional preferences before finalizing the itinerary.\n",
       "</pre>\n"
      ],
      "text/plain": [
       "\u001b[1;36m3\u001b[0m. **Summarize and Confirm Final Itinerary**: Summarize the proposed itinerary, including Central Plaza, The Mall, \n",
       "and the additional location with parking. Confirm that this meets the user's expectations and ask if there are any \n",
       "last-minute changes or additional preferences before finalizing the itinerary.\n"
      ]
     },
     "metadata": {},
     "output_type": "display_data"
    },
    {
     "data": {
      "text/html": [
       "<pre style=\"white-space:pre;overflow-x:auto;line-height:normal;font-family:Menlo,'DejaVu Sans Mono',consolas,'Courier New',monospace\"><span style=\"color: #008080; text-decoration-color: #008080; font-weight: bold\">3</span>. **Summarize and Confirm Final Itinerary**: Summarize the proposed itinerary, including Central Plaza, The Mall, \n",
       "and the additional location with parking. Confirm that this meets the user's expectations and ask if there are any \n",
       "last-minute changes or additional preferences before finalizing the itinerary.\n",
       "</pre>\n"
      ],
      "text/plain": [
       "\u001b[1;36m3\u001b[0m. **Summarize and Confirm Final Itinerary**: Summarize the proposed itinerary, including Central Plaza, The Mall, \n",
       "and the additional location with parking. Confirm that this meets the user's expectations and ask if there are any \n",
       "last-minute changes or additional preferences before finalizing the itinerary.\n"
      ]
     },
     "metadata": {},
     "output_type": "display_data"
    },
    {
     "data": {
      "text/html": [
       "<pre style=\"white-space:pre;overflow-x:auto;line-height:normal;font-family:Menlo,'DejaVu Sans Mono',consolas,'Courier New',monospace\"><span style=\"color: #008080; text-decoration-color: #008080; font-weight: bold\">3</span>. **Summarize and Confirm Final Itinerary**: Summarize the proposed itinerary, including Central Plaza, The Mall, \n",
       "and the additional location with parking. Confirm that this meets the user's expectations and ask if there are any \n",
       "last-minute changes or additional preferences before finalizing the itinerary.\n",
       "</pre>\n"
      ],
      "text/plain": [
       "\u001b[1;36m3\u001b[0m. **Summarize and Confirm Final Itinerary**: Summarize the proposed itinerary, including Central Plaza, The Mall, \n",
       "and the additional location with parking. Confirm that this meets the user's expectations and ask if there are any \n",
       "last-minute changes or additional preferences before finalizing the itinerary.\n"
      ]
     },
     "metadata": {},
     "output_type": "display_data"
    },
    {
     "data": {
      "text/html": [
       "<pre style=\"white-space:pre;overflow-x:auto;line-height:normal;font-family:Menlo,'DejaVu Sans Mono',consolas,'Courier New',monospace\"><span style=\"color: #008080; text-decoration-color: #008080; font-weight: bold\">3</span>. **Summarize and Confirm Final Itinerary**: Summarize the proposed itinerary, including Central Plaza, The Mall, \n",
       "and the additional location with parking. Confirm that this meets the user's expectations and ask if there are any \n",
       "last-minute changes or additional preferences before finalizing the itinerary.\n",
       "</pre>\n"
      ],
      "text/plain": [
       "\u001b[1;36m3\u001b[0m. **Summarize and Confirm Final Itinerary**: Summarize the proposed itinerary, including Central Plaza, The Mall, \n",
       "and the additional location with parking. Confirm that this meets the user's expectations and ask if there are any \n",
       "last-minute changes or additional preferences before finalizing the itinerary.\n"
      ]
     },
     "metadata": {},
     "output_type": "display_data"
    },
    {
     "data": {
      "text/html": [
       "<pre style=\"white-space:pre;overflow-x:auto;line-height:normal;font-family:Menlo,'DejaVu Sans Mono',consolas,'Courier New',monospace\"><span style=\"color: #008080; text-decoration-color: #008080; font-weight: bold\">3</span>. **Summarize and Confirm Final Itinerary**: Summarize the proposed itinerary, including Central Plaza, The Mall, \n",
       "and the additional location with parking. Confirm that this meets the user's expectations and ask if there are any \n",
       "last-minute changes or additional preferences before finalizing the itinerary.\n",
       "</pre>\n"
      ],
      "text/plain": [
       "\u001b[1;36m3\u001b[0m. **Summarize and Confirm Final Itinerary**: Summarize the proposed itinerary, including Central Plaza, The Mall, \n",
       "and the additional location with parking. Confirm that this meets the user's expectations and ask if there are any \n",
       "last-minute changes or additional preferences before finalizing the itinerary.\n"
      ]
     },
     "metadata": {},
     "output_type": "display_data"
    },
    {
     "data": {
      "text/html": [
       "<pre style=\"white-space:pre;overflow-x:auto;line-height:normal;font-family:Menlo,'DejaVu Sans Mono',consolas,'Courier New',monospace\"><span style=\"color: #008080; text-decoration-color: #008080; font-weight: bold\">3</span>. **Summarize and Confirm Final Itinerary**: Summarize the proposed itinerary, including Central Plaza, The Mall, \n",
       "and the additional location with parking. Confirm that this meets the user's expectations and ask if there are any \n",
       "last-minute changes or additional preferences before finalizing the itinerary.\n",
       "</pre>\n"
      ],
      "text/plain": [
       "\u001b[1;36m3\u001b[0m. **Summarize and Confirm Final Itinerary**: Summarize the proposed itinerary, including Central Plaza, The Mall, \n",
       "and the additional location with parking. Confirm that this meets the user's expectations and ask if there are any \n",
       "last-minute changes or additional preferences before finalizing the itinerary.\n"
      ]
     },
     "metadata": {},
     "output_type": "display_data"
    },
    {
     "data": {
      "text/html": [
       "<pre style=\"white-space:pre;overflow-x:auto;line-height:normal;font-family:Menlo,'DejaVu Sans Mono',consolas,'Courier New',monospace\"><span style=\"color: #008080; text-decoration-color: #008080; font-weight: bold\">3</span>. **Summarize and Confirm Final Itinerary**: Summarize the proposed itinerary, including Central Plaza, The Mall, \n",
       "and the additional location with parking. Confirm that this meets the user's expectations and ask if there are any \n",
       "last-minute changes or additional preferences before finalizing the itinerary.\n",
       "</pre>\n"
      ],
      "text/plain": [
       "\u001b[1;36m3\u001b[0m. **Summarize and Confirm Final Itinerary**: Summarize the proposed itinerary, including Central Plaza, The Mall, \n",
       "and the additional location with parking. Confirm that this meets the user's expectations and ask if there are any \n",
       "last-minute changes or additional preferences before finalizing the itinerary.\n"
      ]
     },
     "metadata": {},
     "output_type": "display_data"
    },
    {
     "data": {
      "text/html": [
       "<pre style=\"white-space:pre;overflow-x:auto;line-height:normal;font-family:Menlo,'DejaVu Sans Mono',consolas,'Courier New',monospace\"><span style=\"color: #008080; text-decoration-color: #008080; font-weight: bold\">3</span>. **Summarize and Confirm Final Itinerary**: Summarize the proposed itinerary, including Central Plaza, The Mall, \n",
       "and the additional location with parking. Confirm that this meets the user's expectations and ask if there are any \n",
       "last-minute changes or additional preferences before finalizing the itinerary.\n",
       "</pre>\n"
      ],
      "text/plain": [
       "\u001b[1;36m3\u001b[0m. **Summarize and Confirm Final Itinerary**: Summarize the proposed itinerary, including Central Plaza, The Mall, \n",
       "and the additional location with parking. Confirm that this meets the user's expectations and ask if there are any \n",
       "last-minute changes or additional preferences before finalizing the itinerary.\n"
      ]
     },
     "metadata": {},
     "output_type": "display_data"
    }
   ],
   "source": [
    "for conv in parallel_convs.conversations:\n",
    "    print(conv.players['agent'].strategy)\n",
    "    for son_conv in conv.son_convs:\n",
    "        print(son_conv.players['agent'].strategy)\n",
    "\n"
   ]
  },
  {
   "cell_type": "code",
   "execution_count": 82,
   "metadata": {},
   "outputs": [
    {
     "data": {
      "text/html": [
       "<pre style=\"white-space:pre;overflow-x:auto;line-height:normal;font-family:Menlo,'DejaVu Sans Mono',consolas,'Courier New',monospace\"><span style=\"font-weight: bold\">[</span>\n",
       "    <span style=\"color: #800080; text-decoration-color: #800080; font-weight: bold\">ConversationState</span><span style=\"font-weight: bold\">(</span>\n",
       "        <span style=\"color: #808000; text-decoration-color: #808000\">obss</span>=<span style=\"font-weight: bold\">{</span>\n",
       "            <span style=\"color: #008000; text-decoration-color: #008000\">'user'</span>: <span style=\"color: #008000; text-decoration-color: #008000\">''</span>,\n",
       "            <span style=\"color: #008000; text-decoration-color: #008000\">'agent'</span>: <span style=\"color: #008000; text-decoration-color: #008000\">\"[tool] Search(fields=[name, category, good for kids, outdoor seating, has parking], </span>\n",
       "<span style=\"color: #008000; text-decoration-color: #008000\">filters=[category == landmark])\\nSearch Results (4):\\n- name: Einstein's summer house\\n  category: landmark\\n  good</span>\n",
       "<span style=\"color: #008000; text-decoration-color: #008000\">for kids: True\\n  outdoor seating: Not specified\\n  has parking: False\"</span>,\n",
       "            <span style=\"color: #008000; text-decoration-color: #008000\">'turn_player'</span>: <span style=\"color: #008000; text-decoration-color: #008000\">'agent'</span>,\n",
       "            <span style=\"color: #008000; text-decoration-color: #008000\">'done'</span>: <span style=\"color: #ff0000; text-decoration-color: #ff0000; font-style: italic\">False</span>,\n",
       "            <span style=\"color: #008000; text-decoration-color: #008000\">'reward'</span>: <span style=\"color: #008080; text-decoration-color: #008080; font-weight: bold\">0</span>,\n",
       "            <span style=\"color: #008000; text-decoration-color: #008000\">'info'</span>: <span style=\"font-weight: bold\">{</span><span style=\"color: #008000; text-decoration-color: #008000\">'num_msgs'</span>: <span style=\"color: #008080; text-decoration-color: #008080; font-weight: bold\">3</span><span style=\"font-weight: bold\">}</span>\n",
       "        <span style=\"font-weight: bold\">}</span>,\n",
       "        <span style=\"color: #808000; text-decoration-color: #808000\">features</span>=<span style=\"font-weight: bold\">{}</span>,\n",
       "        <span style=\"color: #808000; text-decoration-color: #808000\">turn</span>=<span style=\"color: #008080; text-decoration-color: #008080; font-weight: bold\">9</span>,\n",
       "        <span style=\"color: #808000; text-decoration-color: #808000\">responses</span>=<span style=\"color: #800080; text-decoration-color: #800080; font-style: italic\">None</span>,\n",
       "        <span style=\"color: #808000; text-decoration-color: #808000\">player_states</span>=<span style=\"color: #800080; text-decoration-color: #800080; font-style: italic\">None</span>\n",
       "    <span style=\"font-weight: bold\">)</span>,\n",
       "    <span style=\"color: #800080; text-decoration-color: #800080; font-weight: bold\">ConversationState</span><span style=\"font-weight: bold\">(</span>\n",
       "        <span style=\"color: #808000; text-decoration-color: #808000\">obss</span>=<span style=\"font-weight: bold\">{</span>\n",
       "            <span style=\"color: #008000; text-decoration-color: #008000\">'user'</span>: <span style=\"color: #008000; text-decoration-color: #008000\">''</span>,\n",
       "            <span style=\"color: #008000; text-decoration-color: #008000\">'agent'</span>: <span style=\"color: #008000; text-decoration-color: #008000\">\"[name, category, good for kids, outdoor seating, has parking]\\nError: Invalid message: [name,</span>\n",
       "<span style=\"color: #008000; text-decoration-color: #008000\">category, good for kids, outdoor seating, has parking].Messages must be formatted with a type like </span>\n",
       "<span style=\"color: #008000; text-decoration-color: #008000\">'[message]&lt;content here&gt;'\"</span><span style=\"color: #000000; text-decoration-color: #000000\">,</span>\n",
       "<span style=\"color: #000000; text-decoration-color: #000000\">            </span><span style=\"color: #008000; text-decoration-color: #008000\">'turn_player'</span><span style=\"color: #000000; text-decoration-color: #000000\">: </span><span style=\"color: #008000; text-decoration-color: #008000\">'agent'</span><span style=\"color: #000000; text-decoration-color: #000000\">,</span>\n",
       "<span style=\"color: #000000; text-decoration-color: #000000\">            </span><span style=\"color: #008000; text-decoration-color: #008000\">'done'</span><span style=\"color: #000000; text-decoration-color: #000000\">: </span><span style=\"color: #ff0000; text-decoration-color: #ff0000; font-style: italic\">False</span><span style=\"color: #000000; text-decoration-color: #000000\">,</span>\n",
       "<span style=\"color: #000000; text-decoration-color: #000000\">            </span><span style=\"color: #008000; text-decoration-color: #008000\">'reward'</span><span style=\"color: #000000; text-decoration-color: #000000\">: </span><span style=\"color: #008080; text-decoration-color: #008080; font-weight: bold\">0</span><span style=\"color: #000000; text-decoration-color: #000000\">,</span>\n",
       "<span style=\"color: #000000; text-decoration-color: #000000\">            </span><span style=\"color: #008000; text-decoration-color: #008000\">'info'</span><span style=\"color: #000000; text-decoration-color: #000000\">: </span><span style=\"color: #000000; text-decoration-color: #000000; font-weight: bold\">{</span><span style=\"color: #008000; text-decoration-color: #008000\">'num_msgs'</span><span style=\"color: #000000; text-decoration-color: #000000\">: </span><span style=\"color: #008080; text-decoration-color: #008080; font-weight: bold\">3</span><span style=\"color: #000000; text-decoration-color: #000000; font-weight: bold\">}</span>\n",
       "<span style=\"color: #000000; text-decoration-color: #000000\">        </span><span style=\"color: #000000; text-decoration-color: #000000; font-weight: bold\">}</span><span style=\"color: #000000; text-decoration-color: #000000\">,</span>\n",
       "<span style=\"color: #000000; text-decoration-color: #000000\">        </span><span style=\"color: #808000; text-decoration-color: #808000\">features</span><span style=\"color: #000000; text-decoration-color: #000000\">=</span><span style=\"color: #000000; text-decoration-color: #000000; font-weight: bold\">{}</span><span style=\"color: #000000; text-decoration-color: #000000\">,</span>\n",
       "<span style=\"color: #000000; text-decoration-color: #000000\">        </span><span style=\"color: #808000; text-decoration-color: #808000\">turn</span><span style=\"color: #000000; text-decoration-color: #000000\">=</span><span style=\"color: #008080; text-decoration-color: #008080; font-weight: bold\">10</span><span style=\"color: #000000; text-decoration-color: #000000\">,</span>\n",
       "<span style=\"color: #000000; text-decoration-color: #000000\">        </span><span style=\"color: #808000; text-decoration-color: #808000\">responses</span><span style=\"color: #000000; text-decoration-color: #000000\">=</span><span style=\"color: #800080; text-decoration-color: #800080; font-style: italic\">None</span><span style=\"color: #000000; text-decoration-color: #000000\">,</span>\n",
       "<span style=\"color: #000000; text-decoration-color: #000000\">        </span><span style=\"color: #808000; text-decoration-color: #808000\">player_states</span><span style=\"color: #000000; text-decoration-color: #000000\">=</span><span style=\"color: #800080; text-decoration-color: #800080; font-style: italic\">None</span>\n",
       "<span style=\"color: #000000; text-decoration-color: #000000\">    </span><span style=\"color: #000000; text-decoration-color: #000000; font-weight: bold\">)</span><span style=\"color: #000000; text-decoration-color: #000000\">,</span>\n",
       "<span style=\"color: #000000; text-decoration-color: #000000\">    </span><span style=\"color: #800080; text-decoration-color: #800080; font-weight: bold\">ConversationState</span><span style=\"color: #000000; text-decoration-color: #000000; font-weight: bold\">(</span>\n",
       "<span style=\"color: #000000; text-decoration-color: #000000\">        </span><span style=\"color: #808000; text-decoration-color: #808000\">obss</span><span style=\"color: #000000; text-decoration-color: #000000\">=</span><span style=\"color: #000000; text-decoration-color: #000000; font-weight: bold\">{</span>\n",
       "<span style=\"color: #000000; text-decoration-color: #000000\">            </span><span style=\"color: #008000; text-decoration-color: #008000\">'user'</span><span style=\"color: #000000; text-decoration-color: #000000\">: </span><span style=\"color: #008000; text-decoration-color: #008000\">''</span><span style=\"color: #000000; text-decoration-color: #000000\">,</span>\n",
       "<span style=\"color: #000000; text-decoration-color: #000000\">            </span><span style=\"color: #008000; text-decoration-color: #008000\">'agent'</span><span style=\"color: #000000; text-decoration-color: #000000\">: </span><span style=\"color: #008000; text-decoration-color: #008000\">\"I've found one landmark, Einstein's summer house, that could be of interest. However, it does</span>\n",
       "<span style=\"color: #008000; text-decoration-color: #008000\">not specify outdoor seating and it doesn't have parking. Would the lack of parking and unspecified outdoor seating </span>\n",
       "<span style=\"color: #008000; text-decoration-color: #008000\">be a deal-breaker for you?\\nError: Invalid message: I've found one landmark, Einstein's summer house, that could be</span>\n",
       "<span style=\"color: #008000; text-decoration-color: #008000\">of interest. However, it does not specify outdoor seating and it doesn't have parking. Would the lack of parking </span>\n",
       "<span style=\"color: #008000; text-decoration-color: #008000\">and unspecified outdoor seating be a deal-breaker for you?.Messages must be formatted with a type like </span>\n",
       "<span style=\"color: #008000; text-decoration-color: #008000\">'[message]&lt;content here&gt;'\"</span>,\n",
       "            <span style=\"color: #008000; text-decoration-color: #008000\">'turn_player'</span>: <span style=\"color: #008000; text-decoration-color: #008000\">'agent'</span>,\n",
       "            <span style=\"color: #008000; text-decoration-color: #008000\">'done'</span>: <span style=\"color: #ff0000; text-decoration-color: #ff0000; font-style: italic\">False</span>,\n",
       "            <span style=\"color: #008000; text-decoration-color: #008000\">'reward'</span>: <span style=\"color: #008080; text-decoration-color: #008080; font-weight: bold\">0</span>,\n",
       "            <span style=\"color: #008000; text-decoration-color: #008000\">'info'</span>: <span style=\"font-weight: bold\">{</span><span style=\"color: #008000; text-decoration-color: #008000\">'num_msgs'</span>: <span style=\"color: #008080; text-decoration-color: #008080; font-weight: bold\">3</span><span style=\"font-weight: bold\">}</span>\n",
       "        <span style=\"font-weight: bold\">}</span>,\n",
       "        <span style=\"color: #808000; text-decoration-color: #808000\">features</span>=<span style=\"font-weight: bold\">{}</span>,\n",
       "        <span style=\"color: #808000; text-decoration-color: #808000\">turn</span>=<span style=\"color: #008080; text-decoration-color: #008080; font-weight: bold\">11</span>,\n",
       "        <span style=\"color: #808000; text-decoration-color: #808000\">responses</span>=<span style=\"color: #800080; text-decoration-color: #800080; font-style: italic\">None</span>,\n",
       "        <span style=\"color: #808000; text-decoration-color: #808000\">player_states</span>=<span style=\"color: #800080; text-decoration-color: #800080; font-style: italic\">None</span>\n",
       "    <span style=\"font-weight: bold\">)</span>,\n",
       "    <span style=\"color: #800080; text-decoration-color: #800080; font-weight: bold\">ConversationState</span><span style=\"font-weight: bold\">(</span>\n",
       "        <span style=\"color: #808000; text-decoration-color: #808000\">obss</span>=<span style=\"font-weight: bold\">{</span>\n",
       "            <span style=\"color: #008000; text-decoration-color: #008000\">'user'</span>: <span style=\"color: #008000; text-decoration-color: #008000\">\"\\nAgent: [message] I've found a landmark called Einstein's summer house that could be of </span>\n",
       "<span style=\"color: #008000; text-decoration-color: #008000\">interest. However, it doesn't have parking and doesn't specify if there is outdoor seating. Would these factors be </span>\n",
       "<span style=\"color: #008000; text-decoration-color: #008000\">deal-breakers for you?\"</span>,\n",
       "            <span style=\"color: #008000; text-decoration-color: #008000\">'agent'</span>: <span style=\"color: #008000; text-decoration-color: #008000\">''</span>,\n",
       "            <span style=\"color: #008000; text-decoration-color: #008000\">'turn_player'</span>: <span style=\"color: #008000; text-decoration-color: #008000\">'user'</span>,\n",
       "            <span style=\"color: #008000; text-decoration-color: #008000\">'done'</span>: <span style=\"color: #ff0000; text-decoration-color: #ff0000; font-style: italic\">False</span>,\n",
       "            <span style=\"color: #008000; text-decoration-color: #008000\">'reward'</span>: <span style=\"color: #008080; text-decoration-color: #008080; font-weight: bold\">0</span>,\n",
       "            <span style=\"color: #008000; text-decoration-color: #008000\">'info'</span>: <span style=\"font-weight: bold\">{</span><span style=\"color: #008000; text-decoration-color: #008000\">'num_msgs'</span>: <span style=\"color: #008080; text-decoration-color: #008080; font-weight: bold\">3</span><span style=\"font-weight: bold\">}</span>\n",
       "        <span style=\"font-weight: bold\">}</span>,\n",
       "        <span style=\"color: #808000; text-decoration-color: #808000\">features</span>=<span style=\"font-weight: bold\">{}</span>,\n",
       "        <span style=\"color: #808000; text-decoration-color: #808000\">turn</span>=<span style=\"color: #008080; text-decoration-color: #008080; font-weight: bold\">12</span>,\n",
       "        <span style=\"color: #808000; text-decoration-color: #808000\">responses</span>=<span style=\"color: #800080; text-decoration-color: #800080; font-style: italic\">None</span>,\n",
       "        <span style=\"color: #808000; text-decoration-color: #808000\">player_states</span>=<span style=\"color: #800080; text-decoration-color: #800080; font-style: italic\">None</span>\n",
       "    <span style=\"font-weight: bold\">)</span>\n",
       "<span style=\"font-weight: bold\">]</span>\n",
       "</pre>\n"
      ],
      "text/plain": [
       "\u001b[1m[\u001b[0m\n",
       "    \u001b[1;35mConversationState\u001b[0m\u001b[1m(\u001b[0m\n",
       "        \u001b[33mobss\u001b[0m=\u001b[1m{\u001b[0m\n",
       "            \u001b[32m'user'\u001b[0m: \u001b[32m''\u001b[0m,\n",
       "            \u001b[32m'agent'\u001b[0m: \u001b[32m\"\u001b[0m\u001b[32m[\u001b[0m\u001b[32mtool\u001b[0m\u001b[32m]\u001b[0m\u001b[32m Search\u001b[0m\u001b[32m(\u001b[0m\u001b[32mfields\u001b[0m\u001b[32m=\u001b[0m\u001b[32m[\u001b[0m\u001b[32mname, category, good for kids, outdoor seating, has parking\u001b[0m\u001b[32m]\u001b[0m\u001b[32m, \u001b[0m\n",
       "\u001b[32mfilters\u001b[0m\u001b[32m=\u001b[0m\u001b[32m[\u001b[0m\u001b[32mcategory == landmark\u001b[0m\u001b[32m]\u001b[0m\u001b[32m)\u001b[0m\u001b[32m\\nSearch Results \u001b[0m\u001b[32m(\u001b[0m\u001b[32m4\u001b[0m\u001b[32m)\u001b[0m\u001b[32m:\\n- name: Einstein's summer house\\n  category: landmark\\n  good\u001b[0m\n",
       "\u001b[32mfor kids: True\\n  outdoor seating: Not specified\\n  has parking: False\"\u001b[0m,\n",
       "            \u001b[32m'turn_player'\u001b[0m: \u001b[32m'agent'\u001b[0m,\n",
       "            \u001b[32m'done'\u001b[0m: \u001b[3;91mFalse\u001b[0m,\n",
       "            \u001b[32m'reward'\u001b[0m: \u001b[1;36m0\u001b[0m,\n",
       "            \u001b[32m'info'\u001b[0m: \u001b[1m{\u001b[0m\u001b[32m'num_msgs'\u001b[0m: \u001b[1;36m3\u001b[0m\u001b[1m}\u001b[0m\n",
       "        \u001b[1m}\u001b[0m,\n",
       "        \u001b[33mfeatures\u001b[0m=\u001b[1m{\u001b[0m\u001b[1m}\u001b[0m,\n",
       "        \u001b[33mturn\u001b[0m=\u001b[1;36m9\u001b[0m,\n",
       "        \u001b[33mresponses\u001b[0m=\u001b[3;35mNone\u001b[0m,\n",
       "        \u001b[33mplayer_states\u001b[0m=\u001b[3;35mNone\u001b[0m\n",
       "    \u001b[1m)\u001b[0m,\n",
       "    \u001b[1;35mConversationState\u001b[0m\u001b[1m(\u001b[0m\n",
       "        \u001b[33mobss\u001b[0m=\u001b[1m{\u001b[0m\n",
       "            \u001b[32m'user'\u001b[0m: \u001b[32m''\u001b[0m,\n",
       "            \u001b[32m'agent'\u001b[0m: \u001b[32m\"\u001b[0m\u001b[32m[\u001b[0m\u001b[32mname, category, good for kids, outdoor seating, has parking\u001b[0m\u001b[32m]\u001b[0m\u001b[32m\\nError: Invalid message: \u001b[0m\u001b[32m[\u001b[0m\u001b[32mname,\u001b[0m\n",
       "\u001b[32mcategory, good for kids, outdoor seating, has parking\u001b[0m\u001b[32m]\u001b[0m\u001b[32m.Messages must be formatted with a type like \u001b[0m\n",
       "\u001b[32m'\u001b[0m\u001b[32m[\u001b[0m\u001b[32mmessage\u001b[0m\u001b[32m]\u001b[0m\u001b[32m<\u001b[0m\u001b[32mcontent\u001b[0m\u001b[32m here>'\"\u001b[0m\u001b[39m,\u001b[0m\n",
       "\u001b[39m            \u001b[0m\u001b[32m'turn_player'\u001b[0m\u001b[39m: \u001b[0m\u001b[32m'agent'\u001b[0m\u001b[39m,\u001b[0m\n",
       "\u001b[39m            \u001b[0m\u001b[32m'done'\u001b[0m\u001b[39m: \u001b[0m\u001b[3;91mFalse\u001b[0m\u001b[39m,\u001b[0m\n",
       "\u001b[39m            \u001b[0m\u001b[32m'reward'\u001b[0m\u001b[39m: \u001b[0m\u001b[1;36m0\u001b[0m\u001b[39m,\u001b[0m\n",
       "\u001b[39m            \u001b[0m\u001b[32m'info'\u001b[0m\u001b[39m: \u001b[0m\u001b[1;39m{\u001b[0m\u001b[32m'num_msgs'\u001b[0m\u001b[39m: \u001b[0m\u001b[1;36m3\u001b[0m\u001b[1;39m}\u001b[0m\n",
       "\u001b[39m        \u001b[0m\u001b[1;39m}\u001b[0m\u001b[39m,\u001b[0m\n",
       "\u001b[39m        \u001b[0m\u001b[33mfeatures\u001b[0m\u001b[39m=\u001b[0m\u001b[1;39m{\u001b[0m\u001b[1;39m}\u001b[0m\u001b[39m,\u001b[0m\n",
       "\u001b[39m        \u001b[0m\u001b[33mturn\u001b[0m\u001b[39m=\u001b[0m\u001b[1;36m10\u001b[0m\u001b[39m,\u001b[0m\n",
       "\u001b[39m        \u001b[0m\u001b[33mresponses\u001b[0m\u001b[39m=\u001b[0m\u001b[3;35mNone\u001b[0m\u001b[39m,\u001b[0m\n",
       "\u001b[39m        \u001b[0m\u001b[33mplayer_states\u001b[0m\u001b[39m=\u001b[0m\u001b[3;35mNone\u001b[0m\n",
       "\u001b[39m    \u001b[0m\u001b[1;39m)\u001b[0m\u001b[39m,\u001b[0m\n",
       "\u001b[39m    \u001b[0m\u001b[1;35mConversationState\u001b[0m\u001b[1;39m(\u001b[0m\n",
       "\u001b[39m        \u001b[0m\u001b[33mobss\u001b[0m\u001b[39m=\u001b[0m\u001b[1;39m{\u001b[0m\n",
       "\u001b[39m            \u001b[0m\u001b[32m'user'\u001b[0m\u001b[39m: \u001b[0m\u001b[32m''\u001b[0m\u001b[39m,\u001b[0m\n",
       "\u001b[39m            \u001b[0m\u001b[32m'agent'\u001b[0m\u001b[39m: \u001b[0m\u001b[32m\"I've found one landmark, Einstein's summer house, that could be of interest. However, it does\u001b[0m\n",
       "\u001b[32mnot specify outdoor seating and it doesn't have parking. Would the lack of parking and unspecified outdoor seating \u001b[0m\n",
       "\u001b[32mbe a deal-breaker for you?\\nError: Invalid message: I've found one landmark, Einstein's summer house, that could be\u001b[0m\n",
       "\u001b[32mof interest. However, it does not specify outdoor seating and it doesn't have parking. Would the lack of parking \u001b[0m\n",
       "\u001b[32mand unspecified outdoor seating be a deal-breaker for you?.Messages must be formatted with a type like \u001b[0m\n",
       "\u001b[32m'\u001b[0m\u001b[32m[\u001b[0m\u001b[32mmessage\u001b[0m\u001b[32m]\u001b[0m\u001b[32m<content here\u001b[0m\u001b[32m>\u001b[0m\u001b[32m'\"\u001b[0m,\n",
       "            \u001b[32m'turn_player'\u001b[0m: \u001b[32m'agent'\u001b[0m,\n",
       "            \u001b[32m'done'\u001b[0m: \u001b[3;91mFalse\u001b[0m,\n",
       "            \u001b[32m'reward'\u001b[0m: \u001b[1;36m0\u001b[0m,\n",
       "            \u001b[32m'info'\u001b[0m: \u001b[1m{\u001b[0m\u001b[32m'num_msgs'\u001b[0m: \u001b[1;36m3\u001b[0m\u001b[1m}\u001b[0m\n",
       "        \u001b[1m}\u001b[0m,\n",
       "        \u001b[33mfeatures\u001b[0m=\u001b[1m{\u001b[0m\u001b[1m}\u001b[0m,\n",
       "        \u001b[33mturn\u001b[0m=\u001b[1;36m11\u001b[0m,\n",
       "        \u001b[33mresponses\u001b[0m=\u001b[3;35mNone\u001b[0m,\n",
       "        \u001b[33mplayer_states\u001b[0m=\u001b[3;35mNone\u001b[0m\n",
       "    \u001b[1m)\u001b[0m,\n",
       "    \u001b[1;35mConversationState\u001b[0m\u001b[1m(\u001b[0m\n",
       "        \u001b[33mobss\u001b[0m=\u001b[1m{\u001b[0m\n",
       "            \u001b[32m'user'\u001b[0m: \u001b[32m\"\\nAgent: \u001b[0m\u001b[32m[\u001b[0m\u001b[32mmessage\u001b[0m\u001b[32m]\u001b[0m\u001b[32m I've found a landmark called Einstein's summer house that could be of \u001b[0m\n",
       "\u001b[32minterest. However, it doesn't have parking and doesn't specify if there is outdoor seating. Would these factors be \u001b[0m\n",
       "\u001b[32mdeal-breakers for you?\"\u001b[0m,\n",
       "            \u001b[32m'agent'\u001b[0m: \u001b[32m''\u001b[0m,\n",
       "            \u001b[32m'turn_player'\u001b[0m: \u001b[32m'user'\u001b[0m,\n",
       "            \u001b[32m'done'\u001b[0m: \u001b[3;91mFalse\u001b[0m,\n",
       "            \u001b[32m'reward'\u001b[0m: \u001b[1;36m0\u001b[0m,\n",
       "            \u001b[32m'info'\u001b[0m: \u001b[1m{\u001b[0m\u001b[32m'num_msgs'\u001b[0m: \u001b[1;36m3\u001b[0m\u001b[1m}\u001b[0m\n",
       "        \u001b[1m}\u001b[0m,\n",
       "        \u001b[33mfeatures\u001b[0m=\u001b[1m{\u001b[0m\u001b[1m}\u001b[0m,\n",
       "        \u001b[33mturn\u001b[0m=\u001b[1;36m12\u001b[0m,\n",
       "        \u001b[33mresponses\u001b[0m=\u001b[3;35mNone\u001b[0m,\n",
       "        \u001b[33mplayer_states\u001b[0m=\u001b[3;35mNone\u001b[0m\n",
       "    \u001b[1m)\u001b[0m\n",
       "\u001b[1m]\u001b[0m\n"
      ]
     },
     "metadata": {},
     "output_type": "display_data"
    }
   ],
   "source": [
    "print(parallel_convs.conversations[2].history)\n",
    "#print(global_preferences_only)\n",
    "\n"
   ]
  },
  {
   "cell_type": "code",
   "execution_count": 83,
   "metadata": {},
   "outputs": [],
   "source": [
    "def step_all_user_responses( parallel_convs):\n",
    "    \"\"\"\n",
    "    For each of the 3 conversation paths:\n",
    "        - Get all 10 users to respond to their agent\n",
    "        - Step the environment with each response\n",
    "    \"\"\"\n",
    "    \n",
    "    all_states = []\n",
    "    all_envs = []\n",
    "    \n",
    "    # For each conversation path (0,1,2)\n",
    "    for conversation in parallel_convs.conversations:\n",
    "        if conversation.propose_made:\n",
    "            continue\n",
    "        envs = []\n",
    "        conv_states = []\n",
    "   \n",
    "        current_state = conversation.get_current_state()\n",
    "        # this get the obss of 3 main branches \n",
    "        \n",
    "        \n",
    "        \n",
    "        \n",
    "        # Get responses from all 10 users for this conversation\n",
    "        for son_conv in conversation.son_convs:\n",
    "            user = son_conv.players['user']\n",
    "            \n",
    "            \n",
    "            ##state = conversation.reverse_state()\n",
    "            ##print(state.obss)\n",
    "            ##break\n",
    "            \n",
    "            \n",
    "            \n",
    "            # Have user observe current state\n",
    "            #user.observe(current_state.obss['user'])\n",
    "            \n",
    "            # Get user's response\n",
    "            while True:\n",
    "                user_response = user.respond(t = current_state.turn, max_len = parallel_convs.max_length, vary = True)\n",
    "                new_state = son_conv.step(user_response, current_state.turn + 1)\n",
    "                if new_state.obss[\"turn_player\"] == 'agent':\n",
    "                    break\n",
    "                user.observe(new_state.obss['user'])\n",
    "            \n",
    "            # Step environment with user response\n",
    "                \n",
    "            print(son_conv.env.game.turn_player)\n",
    "            conv_states.append(new_state)\n",
    "            \n",
    "            # Have agent observe the new state\n",
    "        \n",
    "        all_states.append(conv_states)\n",
    "    \n",
    "    return all_states\n",
    "\n",
    "# Use the function\n",
    "\n",
    "\n",
    "# Print some results to verify\n"
   ]
  },
  {
   "cell_type": "code",
   "execution_count": 178,
   "metadata": {},
   "outputs": [
    {
     "data": {
      "text/html": [
       "<pre style=\"white-space:pre;overflow-x:auto;line-height:normal;font-family:Menlo,'DejaVu Sans Mono',consolas,'Courier New',monospace\">Response:  <span style=\"font-weight: bold\">[</span>message<span style=\"font-weight: bold\">]</span> Other than that, it'd be great if the places can be reserved in advance and are less crowded, \n",
       "away from the typical tourist traps. My budget is also $<span style=\"color: #008080; text-decoration-color: #008080; font-weight: bold\">30</span>, so if we could stay under that, that'd be ideal. I'm \n",
       "not a big fan of American, Ethiopian, French, Chinese, Spanish, Kosher, or seafood cuisine.\n",
       "</pre>\n"
      ],
      "text/plain": [
       "Response:  \u001b[1m[\u001b[0mmessage\u001b[1m]\u001b[0m Other than that, it'd be great if the places can be reserved in advance and are less crowded, \n",
       "away from the typical tourist traps. My budget is also $\u001b[1;36m30\u001b[0m, so if we could stay under that, that'd be ideal. I'm \n",
       "not a big fan of American, Ethiopian, French, Chinese, Spanish, Kosher, or seafood cuisine.\n"
      ]
     },
     "metadata": {},
     "output_type": "display_data"
    },
    {
     "data": {
      "text/html": [
       "<pre style=\"white-space:pre;overflow-x:auto;line-height:normal;font-family:Menlo,'DejaVu Sans Mono',consolas,'Courier New',monospace\">stop:  stop\n",
       "</pre>\n"
      ],
      "text/plain": [
       "stop:  stop\n"
      ]
     },
     "metadata": {},
     "output_type": "display_data"
    },
    {
     "data": {
      "text/html": [
       "<pre style=\"white-space:pre;overflow-x:auto;line-height:normal;font-family:Menlo,'DejaVu Sans Mono',consolas,'Courier New',monospace\"><span style=\"color: #800080; text-decoration-color: #800080; font-weight: bold\">CompletionUsage</span><span style=\"font-weight: bold\">(</span>\n",
       "    <span style=\"color: #808000; text-decoration-color: #808000\">completion_tokens</span>=<span style=\"color: #008080; text-decoration-color: #008080; font-weight: bold\">75</span>,\n",
       "    <span style=\"color: #808000; text-decoration-color: #808000\">prompt_tokens</span>=<span style=\"color: #008080; text-decoration-color: #008080; font-weight: bold\">2335</span>,\n",
       "    <span style=\"color: #808000; text-decoration-color: #808000\">total_tokens</span>=<span style=\"color: #008080; text-decoration-color: #008080; font-weight: bold\">2410</span>,\n",
       "    <span style=\"color: #808000; text-decoration-color: #808000\">completion_tokens_details</span>=<span style=\"color: #800080; text-decoration-color: #800080; font-weight: bold\">CompletionTokensDetails</span><span style=\"font-weight: bold\">(</span>\n",
       "        <span style=\"color: #808000; text-decoration-color: #808000\">reasoning_tokens</span>=<span style=\"color: #008080; text-decoration-color: #008080; font-weight: bold\">0</span>,\n",
       "        <span style=\"color: #808000; text-decoration-color: #808000\">audio_tokens</span>=<span style=\"color: #008080; text-decoration-color: #008080; font-weight: bold\">0</span>,\n",
       "        <span style=\"color: #808000; text-decoration-color: #808000\">accepted_prediction_tokens</span>=<span style=\"color: #008080; text-decoration-color: #008080; font-weight: bold\">0</span>,\n",
       "        <span style=\"color: #808000; text-decoration-color: #808000\">rejected_prediction_tokens</span>=<span style=\"color: #008080; text-decoration-color: #008080; font-weight: bold\">0</span>\n",
       "    <span style=\"font-weight: bold\">)</span>,\n",
       "    <span style=\"color: #808000; text-decoration-color: #808000\">prompt_tokens_details</span>=<span style=\"font-weight: bold\">{</span><span style=\"color: #008000; text-decoration-color: #008000\">'cached_tokens'</span>: <span style=\"color: #008080; text-decoration-color: #008080; font-weight: bold\">0</span>, <span style=\"color: #008000; text-decoration-color: #008000\">'audio_tokens'</span>: <span style=\"color: #008080; text-decoration-color: #008080; font-weight: bold\">0</span><span style=\"font-weight: bold\">}</span>\n",
       "<span style=\"font-weight: bold\">)</span>\n",
       "</pre>\n"
      ],
      "text/plain": [
       "\u001b[1;35mCompletionUsage\u001b[0m\u001b[1m(\u001b[0m\n",
       "    \u001b[33mcompletion_tokens\u001b[0m=\u001b[1;36m75\u001b[0m,\n",
       "    \u001b[33mprompt_tokens\u001b[0m=\u001b[1;36m2335\u001b[0m,\n",
       "    \u001b[33mtotal_tokens\u001b[0m=\u001b[1;36m2410\u001b[0m,\n",
       "    \u001b[33mcompletion_tokens_details\u001b[0m=\u001b[1;35mCompletionTokensDetails\u001b[0m\u001b[1m(\u001b[0m\n",
       "        \u001b[33mreasoning_tokens\u001b[0m=\u001b[1;36m0\u001b[0m,\n",
       "        \u001b[33maudio_tokens\u001b[0m=\u001b[1;36m0\u001b[0m,\n",
       "        \u001b[33maccepted_prediction_tokens\u001b[0m=\u001b[1;36m0\u001b[0m,\n",
       "        \u001b[33mrejected_prediction_tokens\u001b[0m=\u001b[1;36m0\u001b[0m\n",
       "    \u001b[1m)\u001b[0m,\n",
       "    \u001b[33mprompt_tokens_details\u001b[0m=\u001b[1m{\u001b[0m\u001b[32m'cached_tokens'\u001b[0m: \u001b[1;36m0\u001b[0m, \u001b[32m'audio_tokens'\u001b[0m: \u001b[1;36m0\u001b[0m\u001b[1m}\u001b[0m\n",
       "\u001b[1m)\u001b[0m\n"
      ]
     },
     "metadata": {},
     "output_type": "display_data"
    },
    {
     "data": {
      "text/html": [
       "<pre style=\"white-space:pre;overflow-x:auto;line-height:normal;font-family:Menlo,'DejaVu Sans Mono',consolas,'Courier New',monospace\"><span style=\"color: #008080; text-decoration-color: #008080; font-weight: bold\">1</span>\n",
       "</pre>\n"
      ],
      "text/plain": [
       "\u001b[1;36m1\u001b[0m\n"
      ]
     },
     "metadata": {},
     "output_type": "display_data"
    },
    {
     "data": {
      "text/html": [
       "<pre style=\"white-space:pre;overflow-x:auto;line-height:normal;font-family:Menlo,'DejaVu Sans Mono',consolas,'Courier New',monospace\">Response:  <span style=\"font-weight: bold\">[</span>message<span style=\"font-weight: bold\">]</span> I would love to find a place with a wifi where I can work for a bit and preferably with vegan \n",
       "options. Ratings above <span style=\"color: #008080; text-decoration-color: #008080; font-weight: bold\">4</span> would be ideal. As we are also quite conscious about COVID, outdoor seating would be best.\n",
       "And although I am traveling in a group of <span style=\"color: #008080; text-decoration-color: #008080; font-weight: bold\">7</span>, group suitability is not very important. Finally, as always, staying \n",
       "below budget is important too.\n",
       "</pre>\n"
      ],
      "text/plain": [
       "Response:  \u001b[1m[\u001b[0mmessage\u001b[1m]\u001b[0m I would love to find a place with a wifi where I can work for a bit and preferably with vegan \n",
       "options. Ratings above \u001b[1;36m4\u001b[0m would be ideal. As we are also quite conscious about COVID, outdoor seating would be best.\n",
       "And although I am traveling in a group of \u001b[1;36m7\u001b[0m, group suitability is not very important. Finally, as always, staying \n",
       "below budget is important too.\n"
      ]
     },
     "metadata": {},
     "output_type": "display_data"
    },
    {
     "data": {
      "text/html": [
       "<pre style=\"white-space:pre;overflow-x:auto;line-height:normal;font-family:Menlo,'DejaVu Sans Mono',consolas,'Courier New',monospace\">stop:  stop\n",
       "</pre>\n"
      ],
      "text/plain": [
       "stop:  stop\n"
      ]
     },
     "metadata": {},
     "output_type": "display_data"
    },
    {
     "data": {
      "text/html": [
       "<pre style=\"white-space:pre;overflow-x:auto;line-height:normal;font-family:Menlo,'DejaVu Sans Mono',consolas,'Courier New',monospace\"><span style=\"color: #800080; text-decoration-color: #800080; font-weight: bold\">CompletionUsage</span><span style=\"font-weight: bold\">(</span>\n",
       "    <span style=\"color: #808000; text-decoration-color: #808000\">completion_tokens</span>=<span style=\"color: #008080; text-decoration-color: #008080; font-weight: bold\">80</span>,\n",
       "    <span style=\"color: #808000; text-decoration-color: #808000\">prompt_tokens</span>=<span style=\"color: #008080; text-decoration-color: #008080; font-weight: bold\">2325</span>,\n",
       "    <span style=\"color: #808000; text-decoration-color: #808000\">total_tokens</span>=<span style=\"color: #008080; text-decoration-color: #008080; font-weight: bold\">2405</span>,\n",
       "    <span style=\"color: #808000; text-decoration-color: #808000\">completion_tokens_details</span>=<span style=\"color: #800080; text-decoration-color: #800080; font-weight: bold\">CompletionTokensDetails</span><span style=\"font-weight: bold\">(</span>\n",
       "        <span style=\"color: #808000; text-decoration-color: #808000\">reasoning_tokens</span>=<span style=\"color: #008080; text-decoration-color: #008080; font-weight: bold\">0</span>,\n",
       "        <span style=\"color: #808000; text-decoration-color: #808000\">audio_tokens</span>=<span style=\"color: #008080; text-decoration-color: #008080; font-weight: bold\">0</span>,\n",
       "        <span style=\"color: #808000; text-decoration-color: #808000\">accepted_prediction_tokens</span>=<span style=\"color: #008080; text-decoration-color: #008080; font-weight: bold\">0</span>,\n",
       "        <span style=\"color: #808000; text-decoration-color: #808000\">rejected_prediction_tokens</span>=<span style=\"color: #008080; text-decoration-color: #008080; font-weight: bold\">0</span>\n",
       "    <span style=\"font-weight: bold\">)</span>,\n",
       "    <span style=\"color: #808000; text-decoration-color: #808000\">prompt_tokens_details</span>=<span style=\"font-weight: bold\">{</span><span style=\"color: #008000; text-decoration-color: #008000\">'cached_tokens'</span>: <span style=\"color: #008080; text-decoration-color: #008080; font-weight: bold\">0</span>, <span style=\"color: #008000; text-decoration-color: #008000\">'audio_tokens'</span>: <span style=\"color: #008080; text-decoration-color: #008080; font-weight: bold\">0</span><span style=\"font-weight: bold\">}</span>\n",
       "<span style=\"font-weight: bold\">)</span>\n",
       "</pre>\n"
      ],
      "text/plain": [
       "\u001b[1;35mCompletionUsage\u001b[0m\u001b[1m(\u001b[0m\n",
       "    \u001b[33mcompletion_tokens\u001b[0m=\u001b[1;36m80\u001b[0m,\n",
       "    \u001b[33mprompt_tokens\u001b[0m=\u001b[1;36m2325\u001b[0m,\n",
       "    \u001b[33mtotal_tokens\u001b[0m=\u001b[1;36m2405\u001b[0m,\n",
       "    \u001b[33mcompletion_tokens_details\u001b[0m=\u001b[1;35mCompletionTokensDetails\u001b[0m\u001b[1m(\u001b[0m\n",
       "        \u001b[33mreasoning_tokens\u001b[0m=\u001b[1;36m0\u001b[0m,\n",
       "        \u001b[33maudio_tokens\u001b[0m=\u001b[1;36m0\u001b[0m,\n",
       "        \u001b[33maccepted_prediction_tokens\u001b[0m=\u001b[1;36m0\u001b[0m,\n",
       "        \u001b[33mrejected_prediction_tokens\u001b[0m=\u001b[1;36m0\u001b[0m\n",
       "    \u001b[1m)\u001b[0m,\n",
       "    \u001b[33mprompt_tokens_details\u001b[0m=\u001b[1m{\u001b[0m\u001b[32m'cached_tokens'\u001b[0m: \u001b[1;36m0\u001b[0m, \u001b[32m'audio_tokens'\u001b[0m: \u001b[1;36m0\u001b[0m\u001b[1m}\u001b[0m\n",
       "\u001b[1m)\u001b[0m\n"
      ]
     },
     "metadata": {},
     "output_type": "display_data"
    },
    {
     "data": {
      "text/html": [
       "<pre style=\"white-space:pre;overflow-x:auto;line-height:normal;font-family:Menlo,'DejaVu Sans Mono',consolas,'Courier New',monospace\"><span style=\"color: #008080; text-decoration-color: #008080; font-weight: bold\">1</span>\n",
       "</pre>\n"
      ],
      "text/plain": [
       "\u001b[1;36m1\u001b[0m\n"
      ]
     },
     "metadata": {},
     "output_type": "display_data"
    },
    {
     "data": {
      "text/html": [
       "<pre style=\"white-space:pre;overflow-x:auto;line-height:normal;font-family:Menlo,'DejaVu Sans Mono',consolas,'Courier New',monospace\">Response:  <span style=\"font-weight: bold\">[</span>message<span style=\"font-weight: bold\">]</span> I would love to go to a place where I can get some panoramic views of the city. It would be \n",
       "nice if there was wifi available there too, so I can do a little bit of work. Outdoor seating is preferred for \n",
       "COVID precautions.\n",
       "</pre>\n"
      ],
      "text/plain": [
       "Response:  \u001b[1m[\u001b[0mmessage\u001b[1m]\u001b[0m I would love to go to a place where I can get some panoramic views of the city. It would be \n",
       "nice if there was wifi available there too, so I can do a little bit of work. Outdoor seating is preferred for \n",
       "COVID precautions.\n"
      ]
     },
     "metadata": {},
     "output_type": "display_data"
    },
    {
     "data": {
      "text/html": [
       "<pre style=\"white-space:pre;overflow-x:auto;line-height:normal;font-family:Menlo,'DejaVu Sans Mono',consolas,'Courier New',monospace\">stop:  stop\n",
       "</pre>\n"
      ],
      "text/plain": [
       "stop:  stop\n"
      ]
     },
     "metadata": {},
     "output_type": "display_data"
    },
    {
     "data": {
      "text/html": [
       "<pre style=\"white-space:pre;overflow-x:auto;line-height:normal;font-family:Menlo,'DejaVu Sans Mono',consolas,'Courier New',monospace\"><span style=\"color: #800080; text-decoration-color: #800080; font-weight: bold\">CompletionUsage</span><span style=\"font-weight: bold\">(</span>\n",
       "    <span style=\"color: #808000; text-decoration-color: #808000\">completion_tokens</span>=<span style=\"color: #008080; text-decoration-color: #008080; font-weight: bold\">52</span>,\n",
       "    <span style=\"color: #808000; text-decoration-color: #808000\">prompt_tokens</span>=<span style=\"color: #008080; text-decoration-color: #008080; font-weight: bold\">2320</span>,\n",
       "    <span style=\"color: #808000; text-decoration-color: #808000\">total_tokens</span>=<span style=\"color: #008080; text-decoration-color: #008080; font-weight: bold\">2372</span>,\n",
       "    <span style=\"color: #808000; text-decoration-color: #808000\">completion_tokens_details</span>=<span style=\"color: #800080; text-decoration-color: #800080; font-weight: bold\">CompletionTokensDetails</span><span style=\"font-weight: bold\">(</span>\n",
       "        <span style=\"color: #808000; text-decoration-color: #808000\">reasoning_tokens</span>=<span style=\"color: #008080; text-decoration-color: #008080; font-weight: bold\">0</span>,\n",
       "        <span style=\"color: #808000; text-decoration-color: #808000\">audio_tokens</span>=<span style=\"color: #008080; text-decoration-color: #008080; font-weight: bold\">0</span>,\n",
       "        <span style=\"color: #808000; text-decoration-color: #808000\">accepted_prediction_tokens</span>=<span style=\"color: #008080; text-decoration-color: #008080; font-weight: bold\">0</span>,\n",
       "        <span style=\"color: #808000; text-decoration-color: #808000\">rejected_prediction_tokens</span>=<span style=\"color: #008080; text-decoration-color: #008080; font-weight: bold\">0</span>\n",
       "    <span style=\"font-weight: bold\">)</span>,\n",
       "    <span style=\"color: #808000; text-decoration-color: #808000\">prompt_tokens_details</span>=<span style=\"font-weight: bold\">{</span><span style=\"color: #008000; text-decoration-color: #008000\">'cached_tokens'</span>: <span style=\"color: #008080; text-decoration-color: #008080; font-weight: bold\">0</span>, <span style=\"color: #008000; text-decoration-color: #008000\">'audio_tokens'</span>: <span style=\"color: #008080; text-decoration-color: #008080; font-weight: bold\">0</span><span style=\"font-weight: bold\">}</span>\n",
       "<span style=\"font-weight: bold\">)</span>\n",
       "</pre>\n"
      ],
      "text/plain": [
       "\u001b[1;35mCompletionUsage\u001b[0m\u001b[1m(\u001b[0m\n",
       "    \u001b[33mcompletion_tokens\u001b[0m=\u001b[1;36m52\u001b[0m,\n",
       "    \u001b[33mprompt_tokens\u001b[0m=\u001b[1;36m2320\u001b[0m,\n",
       "    \u001b[33mtotal_tokens\u001b[0m=\u001b[1;36m2372\u001b[0m,\n",
       "    \u001b[33mcompletion_tokens_details\u001b[0m=\u001b[1;35mCompletionTokensDetails\u001b[0m\u001b[1m(\u001b[0m\n",
       "        \u001b[33mreasoning_tokens\u001b[0m=\u001b[1;36m0\u001b[0m,\n",
       "        \u001b[33maudio_tokens\u001b[0m=\u001b[1;36m0\u001b[0m,\n",
       "        \u001b[33maccepted_prediction_tokens\u001b[0m=\u001b[1;36m0\u001b[0m,\n",
       "        \u001b[33mrejected_prediction_tokens\u001b[0m=\u001b[1;36m0\u001b[0m\n",
       "    \u001b[1m)\u001b[0m,\n",
       "    \u001b[33mprompt_tokens_details\u001b[0m=\u001b[1m{\u001b[0m\u001b[32m'cached_tokens'\u001b[0m: \u001b[1;36m0\u001b[0m, \u001b[32m'audio_tokens'\u001b[0m: \u001b[1;36m0\u001b[0m\u001b[1m}\u001b[0m\n",
       "\u001b[1m)\u001b[0m\n"
      ]
     },
     "metadata": {},
     "output_type": "display_data"
    },
    {
     "data": {
      "text/html": [
       "<pre style=\"white-space:pre;overflow-x:auto;line-height:normal;font-family:Menlo,'DejaVu Sans Mono',consolas,'Courier New',monospace\"><span style=\"color: #008080; text-decoration-color: #008080; font-weight: bold\">1</span>\n",
       "</pre>\n"
      ],
      "text/plain": [
       "\u001b[1;36m1\u001b[0m\n"
      ]
     },
     "metadata": {},
     "output_type": "display_data"
    },
    {
     "data": {
      "text/html": [
       "<pre style=\"white-space:pre;overflow-x:auto;line-height:normal;font-family:Menlo,'DejaVu Sans Mono',consolas,'Courier New',monospace\">Response:  <span style=\"font-weight: bold\">[</span>message<span style=\"font-weight: bold\">]</span> I'm trying to keep the budget under $<span style=\"color: #008080; text-decoration-color: #008080; font-weight: bold\">80</span>. And I'd like to stay away from romantic places and \n",
       "any spot that might have live music because I find them generally too loud.\n",
       "</pre>\n"
      ],
      "text/plain": [
       "Response:  \u001b[1m[\u001b[0mmessage\u001b[1m]\u001b[0m I'm trying to keep the budget under $\u001b[1;36m80\u001b[0m. And I'd like to stay away from romantic places and \n",
       "any spot that might have live music because I find them generally too loud.\n"
      ]
     },
     "metadata": {},
     "output_type": "display_data"
    },
    {
     "data": {
      "text/html": [
       "<pre style=\"white-space:pre;overflow-x:auto;line-height:normal;font-family:Menlo,'DejaVu Sans Mono',consolas,'Courier New',monospace\">stop:  stop\n",
       "</pre>\n"
      ],
      "text/plain": [
       "stop:  stop\n"
      ]
     },
     "metadata": {},
     "output_type": "display_data"
    },
    {
     "data": {
      "text/html": [
       "<pre style=\"white-space:pre;overflow-x:auto;line-height:normal;font-family:Menlo,'DejaVu Sans Mono',consolas,'Courier New',monospace\"><span style=\"color: #800080; text-decoration-color: #800080; font-weight: bold\">CompletionUsage</span><span style=\"font-weight: bold\">(</span>\n",
       "    <span style=\"color: #808000; text-decoration-color: #808000\">completion_tokens</span>=<span style=\"color: #008080; text-decoration-color: #008080; font-weight: bold\">40</span>,\n",
       "    <span style=\"color: #808000; text-decoration-color: #808000\">prompt_tokens</span>=<span style=\"color: #008080; text-decoration-color: #008080; font-weight: bold\">2324</span>,\n",
       "    <span style=\"color: #808000; text-decoration-color: #808000\">total_tokens</span>=<span style=\"color: #008080; text-decoration-color: #008080; font-weight: bold\">2364</span>,\n",
       "    <span style=\"color: #808000; text-decoration-color: #808000\">completion_tokens_details</span>=<span style=\"color: #800080; text-decoration-color: #800080; font-weight: bold\">CompletionTokensDetails</span><span style=\"font-weight: bold\">(</span>\n",
       "        <span style=\"color: #808000; text-decoration-color: #808000\">reasoning_tokens</span>=<span style=\"color: #008080; text-decoration-color: #008080; font-weight: bold\">0</span>,\n",
       "        <span style=\"color: #808000; text-decoration-color: #808000\">audio_tokens</span>=<span style=\"color: #008080; text-decoration-color: #008080; font-weight: bold\">0</span>,\n",
       "        <span style=\"color: #808000; text-decoration-color: #808000\">accepted_prediction_tokens</span>=<span style=\"color: #008080; text-decoration-color: #008080; font-weight: bold\">0</span>,\n",
       "        <span style=\"color: #808000; text-decoration-color: #808000\">rejected_prediction_tokens</span>=<span style=\"color: #008080; text-decoration-color: #008080; font-weight: bold\">0</span>\n",
       "    <span style=\"font-weight: bold\">)</span>,\n",
       "    <span style=\"color: #808000; text-decoration-color: #808000\">prompt_tokens_details</span>=<span style=\"font-weight: bold\">{</span><span style=\"color: #008000; text-decoration-color: #008000\">'cached_tokens'</span>: <span style=\"color: #008080; text-decoration-color: #008080; font-weight: bold\">0</span>, <span style=\"color: #008000; text-decoration-color: #008000\">'audio_tokens'</span>: <span style=\"color: #008080; text-decoration-color: #008080; font-weight: bold\">0</span><span style=\"font-weight: bold\">}</span>\n",
       "<span style=\"font-weight: bold\">)</span>\n",
       "</pre>\n"
      ],
      "text/plain": [
       "\u001b[1;35mCompletionUsage\u001b[0m\u001b[1m(\u001b[0m\n",
       "    \u001b[33mcompletion_tokens\u001b[0m=\u001b[1;36m40\u001b[0m,\n",
       "    \u001b[33mprompt_tokens\u001b[0m=\u001b[1;36m2324\u001b[0m,\n",
       "    \u001b[33mtotal_tokens\u001b[0m=\u001b[1;36m2364\u001b[0m,\n",
       "    \u001b[33mcompletion_tokens_details\u001b[0m=\u001b[1;35mCompletionTokensDetails\u001b[0m\u001b[1m(\u001b[0m\n",
       "        \u001b[33mreasoning_tokens\u001b[0m=\u001b[1;36m0\u001b[0m,\n",
       "        \u001b[33maudio_tokens\u001b[0m=\u001b[1;36m0\u001b[0m,\n",
       "        \u001b[33maccepted_prediction_tokens\u001b[0m=\u001b[1;36m0\u001b[0m,\n",
       "        \u001b[33mrejected_prediction_tokens\u001b[0m=\u001b[1;36m0\u001b[0m\n",
       "    \u001b[1m)\u001b[0m,\n",
       "    \u001b[33mprompt_tokens_details\u001b[0m=\u001b[1m{\u001b[0m\u001b[32m'cached_tokens'\u001b[0m: \u001b[1;36m0\u001b[0m, \u001b[32m'audio_tokens'\u001b[0m: \u001b[1;36m0\u001b[0m\u001b[1m}\u001b[0m\n",
       "\u001b[1m)\u001b[0m\n"
      ]
     },
     "metadata": {},
     "output_type": "display_data"
    },
    {
     "data": {
      "text/html": [
       "<pre style=\"white-space:pre;overflow-x:auto;line-height:normal;font-family:Menlo,'DejaVu Sans Mono',consolas,'Courier New',monospace\"><span style=\"color: #008080; text-decoration-color: #008080; font-weight: bold\">1</span>\n",
       "</pre>\n"
      ],
      "text/plain": [
       "\u001b[1;36m1\u001b[0m\n"
      ]
     },
     "metadata": {},
     "output_type": "display_data"
    },
    {
     "data": {
      "text/html": [
       "<pre style=\"white-space:pre;overflow-x:auto;line-height:normal;font-family:Menlo,'DejaVu Sans Mono',consolas,'Courier New',monospace\">Response:  <span style=\"font-weight: bold\">[</span>message<span style=\"font-weight: bold\">]</span> I also want to go to a trendy non-touristy spot, eat at a restaurant with vegan options that \n",
       "is either American, French, Korean, or Japanese cuisine, and keep my budget under $<span style=\"color: #008080; text-decoration-color: #008080; font-weight: bold\">30</span>. Cocktails or beer would be a\n",
       "plus. And again, while vegetarian options and parking are not a must, they would be appreciated if available.\n",
       "</pre>\n"
      ],
      "text/plain": [
       "Response:  \u001b[1m[\u001b[0mmessage\u001b[1m]\u001b[0m I also want to go to a trendy non-touristy spot, eat at a restaurant with vegan options that \n",
       "is either American, French, Korean, or Japanese cuisine, and keep my budget under $\u001b[1;36m30\u001b[0m. Cocktails or beer would be a\n",
       "plus. And again, while vegetarian options and parking are not a must, they would be appreciated if available.\n"
      ]
     },
     "metadata": {},
     "output_type": "display_data"
    },
    {
     "data": {
      "text/html": [
       "<pre style=\"white-space:pre;overflow-x:auto;line-height:normal;font-family:Menlo,'DejaVu Sans Mono',consolas,'Courier New',monospace\">stop:  stop\n",
       "</pre>\n"
      ],
      "text/plain": [
       "stop:  stop\n"
      ]
     },
     "metadata": {},
     "output_type": "display_data"
    },
    {
     "data": {
      "text/html": [
       "<pre style=\"white-space:pre;overflow-x:auto;line-height:normal;font-family:Menlo,'DejaVu Sans Mono',consolas,'Courier New',monospace\"><span style=\"color: #800080; text-decoration-color: #800080; font-weight: bold\">CompletionUsage</span><span style=\"font-weight: bold\">(</span>\n",
       "    <span style=\"color: #808000; text-decoration-color: #808000\">completion_tokens</span>=<span style=\"color: #008080; text-decoration-color: #008080; font-weight: bold\">74</span>,\n",
       "    <span style=\"color: #808000; text-decoration-color: #808000\">prompt_tokens</span>=<span style=\"color: #008080; text-decoration-color: #008080; font-weight: bold\">2323</span>,\n",
       "    <span style=\"color: #808000; text-decoration-color: #808000\">total_tokens</span>=<span style=\"color: #008080; text-decoration-color: #008080; font-weight: bold\">2397</span>,\n",
       "    <span style=\"color: #808000; text-decoration-color: #808000\">completion_tokens_details</span>=<span style=\"color: #800080; text-decoration-color: #800080; font-weight: bold\">CompletionTokensDetails</span><span style=\"font-weight: bold\">(</span>\n",
       "        <span style=\"color: #808000; text-decoration-color: #808000\">reasoning_tokens</span>=<span style=\"color: #008080; text-decoration-color: #008080; font-weight: bold\">0</span>,\n",
       "        <span style=\"color: #808000; text-decoration-color: #808000\">audio_tokens</span>=<span style=\"color: #008080; text-decoration-color: #008080; font-weight: bold\">0</span>,\n",
       "        <span style=\"color: #808000; text-decoration-color: #808000\">accepted_prediction_tokens</span>=<span style=\"color: #008080; text-decoration-color: #008080; font-weight: bold\">0</span>,\n",
       "        <span style=\"color: #808000; text-decoration-color: #808000\">rejected_prediction_tokens</span>=<span style=\"color: #008080; text-decoration-color: #008080; font-weight: bold\">0</span>\n",
       "    <span style=\"font-weight: bold\">)</span>,\n",
       "    <span style=\"color: #808000; text-decoration-color: #808000\">prompt_tokens_details</span>=<span style=\"font-weight: bold\">{</span><span style=\"color: #008000; text-decoration-color: #008000\">'cached_tokens'</span>: <span style=\"color: #008080; text-decoration-color: #008080; font-weight: bold\">0</span>, <span style=\"color: #008000; text-decoration-color: #008000\">'audio_tokens'</span>: <span style=\"color: #008080; text-decoration-color: #008080; font-weight: bold\">0</span><span style=\"font-weight: bold\">}</span>\n",
       "<span style=\"font-weight: bold\">)</span>\n",
       "</pre>\n"
      ],
      "text/plain": [
       "\u001b[1;35mCompletionUsage\u001b[0m\u001b[1m(\u001b[0m\n",
       "    \u001b[33mcompletion_tokens\u001b[0m=\u001b[1;36m74\u001b[0m,\n",
       "    \u001b[33mprompt_tokens\u001b[0m=\u001b[1;36m2323\u001b[0m,\n",
       "    \u001b[33mtotal_tokens\u001b[0m=\u001b[1;36m2397\u001b[0m,\n",
       "    \u001b[33mcompletion_tokens_details\u001b[0m=\u001b[1;35mCompletionTokensDetails\u001b[0m\u001b[1m(\u001b[0m\n",
       "        \u001b[33mreasoning_tokens\u001b[0m=\u001b[1;36m0\u001b[0m,\n",
       "        \u001b[33maudio_tokens\u001b[0m=\u001b[1;36m0\u001b[0m,\n",
       "        \u001b[33maccepted_prediction_tokens\u001b[0m=\u001b[1;36m0\u001b[0m,\n",
       "        \u001b[33mrejected_prediction_tokens\u001b[0m=\u001b[1;36m0\u001b[0m\n",
       "    \u001b[1m)\u001b[0m,\n",
       "    \u001b[33mprompt_tokens_details\u001b[0m=\u001b[1m{\u001b[0m\u001b[32m'cached_tokens'\u001b[0m: \u001b[1;36m0\u001b[0m, \u001b[32m'audio_tokens'\u001b[0m: \u001b[1;36m0\u001b[0m\u001b[1m}\u001b[0m\n",
       "\u001b[1m)\u001b[0m\n"
      ]
     },
     "metadata": {},
     "output_type": "display_data"
    },
    {
     "data": {
      "text/html": [
       "<pre style=\"white-space:pre;overflow-x:auto;line-height:normal;font-family:Menlo,'DejaVu Sans Mono',consolas,'Courier New',monospace\"><span style=\"color: #008080; text-decoration-color: #008080; font-weight: bold\">1</span>\n",
       "</pre>\n"
      ],
      "text/plain": [
       "\u001b[1;36m1\u001b[0m\n"
      ]
     },
     "metadata": {},
     "output_type": "display_data"
    },
    {
     "data": {
      "text/html": [
       "<pre style=\"white-space:pre;overflow-x:auto;line-height:normal;font-family:Menlo,'DejaVu Sans Mono',consolas,'Courier New',monospace\">Response:  <span style=\"font-weight: bold\">[</span>message<span style=\"font-weight: bold\">]</span> Definitely make sure to include a landmark in our plans, that's highly important to me. Also, \n",
       "if the location is not too loud, that would be great, I'm not into live music venues. I also wouldn't mind finding \n",
       "a place with Wi-Fi where I can do some work. Budget is limited to $<span style=\"color: #008080; text-decoration-color: #008080; font-weight: bold\">70</span>.\n",
       "</pre>\n"
      ],
      "text/plain": [
       "Response:  \u001b[1m[\u001b[0mmessage\u001b[1m]\u001b[0m Definitely make sure to include a landmark in our plans, that's highly important to me. Also, \n",
       "if the location is not too loud, that would be great, I'm not into live music venues. I also wouldn't mind finding \n",
       "a place with Wi-Fi where I can do some work. Budget is limited to $\u001b[1;36m70\u001b[0m.\n"
      ]
     },
     "metadata": {},
     "output_type": "display_data"
    },
    {
     "data": {
      "text/html": [
       "<pre style=\"white-space:pre;overflow-x:auto;line-height:normal;font-family:Menlo,'DejaVu Sans Mono',consolas,'Courier New',monospace\">stop:  stop\n",
       "</pre>\n"
      ],
      "text/plain": [
       "stop:  stop\n"
      ]
     },
     "metadata": {},
     "output_type": "display_data"
    },
    {
     "data": {
      "text/html": [
       "<pre style=\"white-space:pre;overflow-x:auto;line-height:normal;font-family:Menlo,'DejaVu Sans Mono',consolas,'Courier New',monospace\"><span style=\"color: #800080; text-decoration-color: #800080; font-weight: bold\">CompletionUsage</span><span style=\"font-weight: bold\">(</span>\n",
       "    <span style=\"color: #808000; text-decoration-color: #808000\">completion_tokens</span>=<span style=\"color: #008080; text-decoration-color: #008080; font-weight: bold\">69</span>,\n",
       "    <span style=\"color: #808000; text-decoration-color: #808000\">prompt_tokens</span>=<span style=\"color: #008080; text-decoration-color: #008080; font-weight: bold\">2309</span>,\n",
       "    <span style=\"color: #808000; text-decoration-color: #808000\">total_tokens</span>=<span style=\"color: #008080; text-decoration-color: #008080; font-weight: bold\">2378</span>,\n",
       "    <span style=\"color: #808000; text-decoration-color: #808000\">completion_tokens_details</span>=<span style=\"color: #800080; text-decoration-color: #800080; font-weight: bold\">CompletionTokensDetails</span><span style=\"font-weight: bold\">(</span>\n",
       "        <span style=\"color: #808000; text-decoration-color: #808000\">reasoning_tokens</span>=<span style=\"color: #008080; text-decoration-color: #008080; font-weight: bold\">0</span>,\n",
       "        <span style=\"color: #808000; text-decoration-color: #808000\">audio_tokens</span>=<span style=\"color: #008080; text-decoration-color: #008080; font-weight: bold\">0</span>,\n",
       "        <span style=\"color: #808000; text-decoration-color: #808000\">accepted_prediction_tokens</span>=<span style=\"color: #008080; text-decoration-color: #008080; font-weight: bold\">0</span>,\n",
       "        <span style=\"color: #808000; text-decoration-color: #808000\">rejected_prediction_tokens</span>=<span style=\"color: #008080; text-decoration-color: #008080; font-weight: bold\">0</span>\n",
       "    <span style=\"font-weight: bold\">)</span>,\n",
       "    <span style=\"color: #808000; text-decoration-color: #808000\">prompt_tokens_details</span>=<span style=\"font-weight: bold\">{</span><span style=\"color: #008000; text-decoration-color: #008000\">'cached_tokens'</span>: <span style=\"color: #008080; text-decoration-color: #008080; font-weight: bold\">0</span>, <span style=\"color: #008000; text-decoration-color: #008000\">'audio_tokens'</span>: <span style=\"color: #008080; text-decoration-color: #008080; font-weight: bold\">0</span><span style=\"font-weight: bold\">}</span>\n",
       "<span style=\"font-weight: bold\">)</span>\n",
       "</pre>\n"
      ],
      "text/plain": [
       "\u001b[1;35mCompletionUsage\u001b[0m\u001b[1m(\u001b[0m\n",
       "    \u001b[33mcompletion_tokens\u001b[0m=\u001b[1;36m69\u001b[0m,\n",
       "    \u001b[33mprompt_tokens\u001b[0m=\u001b[1;36m2309\u001b[0m,\n",
       "    \u001b[33mtotal_tokens\u001b[0m=\u001b[1;36m2378\u001b[0m,\n",
       "    \u001b[33mcompletion_tokens_details\u001b[0m=\u001b[1;35mCompletionTokensDetails\u001b[0m\u001b[1m(\u001b[0m\n",
       "        \u001b[33mreasoning_tokens\u001b[0m=\u001b[1;36m0\u001b[0m,\n",
       "        \u001b[33maudio_tokens\u001b[0m=\u001b[1;36m0\u001b[0m,\n",
       "        \u001b[33maccepted_prediction_tokens\u001b[0m=\u001b[1;36m0\u001b[0m,\n",
       "        \u001b[33mrejected_prediction_tokens\u001b[0m=\u001b[1;36m0\u001b[0m\n",
       "    \u001b[1m)\u001b[0m,\n",
       "    \u001b[33mprompt_tokens_details\u001b[0m=\u001b[1m{\u001b[0m\u001b[32m'cached_tokens'\u001b[0m: \u001b[1;36m0\u001b[0m, \u001b[32m'audio_tokens'\u001b[0m: \u001b[1;36m0\u001b[0m\u001b[1m}\u001b[0m\n",
       "\u001b[1m)\u001b[0m\n"
      ]
     },
     "metadata": {},
     "output_type": "display_data"
    },
    {
     "data": {
      "text/html": [
       "<pre style=\"white-space:pre;overflow-x:auto;line-height:normal;font-family:Menlo,'DejaVu Sans Mono',consolas,'Courier New',monospace\"><span style=\"color: #008080; text-decoration-color: #008080; font-weight: bold\">1</span>\n",
       "</pre>\n"
      ],
      "text/plain": [
       "\u001b[1;36m1\u001b[0m\n"
      ]
     },
     "metadata": {},
     "output_type": "display_data"
    },
    {
     "data": {
      "text/html": [
       "<pre style=\"white-space:pre;overflow-x:auto;line-height:normal;font-family:Menlo,'DejaVu Sans Mono',consolas,'Courier New',monospace\">Response:  <span style=\"font-weight: bold\">[</span>message<span style=\"font-weight: bold\">]</span> I would prefer to have a few vegetarian food options, and if we could also include a place \n",
       "where I can have WiFi to do some work at some point, that would be fantastic. As long as we stay within budget, the\n",
       "rest should be pretty flexible.\n",
       "</pre>\n"
      ],
      "text/plain": [
       "Response:  \u001b[1m[\u001b[0mmessage\u001b[1m]\u001b[0m I would prefer to have a few vegetarian food options, and if we could also include a place \n",
       "where I can have WiFi to do some work at some point, that would be fantastic. As long as we stay within budget, the\n",
       "rest should be pretty flexible.\n"
      ]
     },
     "metadata": {},
     "output_type": "display_data"
    },
    {
     "data": {
      "text/html": [
       "<pre style=\"white-space:pre;overflow-x:auto;line-height:normal;font-family:Menlo,'DejaVu Sans Mono',consolas,'Courier New',monospace\">stop:  stop\n",
       "</pre>\n"
      ],
      "text/plain": [
       "stop:  stop\n"
      ]
     },
     "metadata": {},
     "output_type": "display_data"
    },
    {
     "data": {
      "text/html": [
       "<pre style=\"white-space:pre;overflow-x:auto;line-height:normal;font-family:Menlo,'DejaVu Sans Mono',consolas,'Courier New',monospace\"><span style=\"color: #800080; text-decoration-color: #800080; font-weight: bold\">CompletionUsage</span><span style=\"font-weight: bold\">(</span>\n",
       "    <span style=\"color: #808000; text-decoration-color: #808000\">completion_tokens</span>=<span style=\"color: #008080; text-decoration-color: #008080; font-weight: bold\">56</span>,\n",
       "    <span style=\"color: #808000; text-decoration-color: #808000\">prompt_tokens</span>=<span style=\"color: #008080; text-decoration-color: #008080; font-weight: bold\">2317</span>,\n",
       "    <span style=\"color: #808000; text-decoration-color: #808000\">total_tokens</span>=<span style=\"color: #008080; text-decoration-color: #008080; font-weight: bold\">2373</span>,\n",
       "    <span style=\"color: #808000; text-decoration-color: #808000\">completion_tokens_details</span>=<span style=\"color: #800080; text-decoration-color: #800080; font-weight: bold\">CompletionTokensDetails</span><span style=\"font-weight: bold\">(</span>\n",
       "        <span style=\"color: #808000; text-decoration-color: #808000\">reasoning_tokens</span>=<span style=\"color: #008080; text-decoration-color: #008080; font-weight: bold\">0</span>,\n",
       "        <span style=\"color: #808000; text-decoration-color: #808000\">audio_tokens</span>=<span style=\"color: #008080; text-decoration-color: #008080; font-weight: bold\">0</span>,\n",
       "        <span style=\"color: #808000; text-decoration-color: #808000\">accepted_prediction_tokens</span>=<span style=\"color: #008080; text-decoration-color: #008080; font-weight: bold\">0</span>,\n",
       "        <span style=\"color: #808000; text-decoration-color: #808000\">rejected_prediction_tokens</span>=<span style=\"color: #008080; text-decoration-color: #008080; font-weight: bold\">0</span>\n",
       "    <span style=\"font-weight: bold\">)</span>,\n",
       "    <span style=\"color: #808000; text-decoration-color: #808000\">prompt_tokens_details</span>=<span style=\"font-weight: bold\">{</span><span style=\"color: #008000; text-decoration-color: #008000\">'cached_tokens'</span>: <span style=\"color: #008080; text-decoration-color: #008080; font-weight: bold\">0</span>, <span style=\"color: #008000; text-decoration-color: #008000\">'audio_tokens'</span>: <span style=\"color: #008080; text-decoration-color: #008080; font-weight: bold\">0</span><span style=\"font-weight: bold\">}</span>\n",
       "<span style=\"font-weight: bold\">)</span>\n",
       "</pre>\n"
      ],
      "text/plain": [
       "\u001b[1;35mCompletionUsage\u001b[0m\u001b[1m(\u001b[0m\n",
       "    \u001b[33mcompletion_tokens\u001b[0m=\u001b[1;36m56\u001b[0m,\n",
       "    \u001b[33mprompt_tokens\u001b[0m=\u001b[1;36m2317\u001b[0m,\n",
       "    \u001b[33mtotal_tokens\u001b[0m=\u001b[1;36m2373\u001b[0m,\n",
       "    \u001b[33mcompletion_tokens_details\u001b[0m=\u001b[1;35mCompletionTokensDetails\u001b[0m\u001b[1m(\u001b[0m\n",
       "        \u001b[33mreasoning_tokens\u001b[0m=\u001b[1;36m0\u001b[0m,\n",
       "        \u001b[33maudio_tokens\u001b[0m=\u001b[1;36m0\u001b[0m,\n",
       "        \u001b[33maccepted_prediction_tokens\u001b[0m=\u001b[1;36m0\u001b[0m,\n",
       "        \u001b[33mrejected_prediction_tokens\u001b[0m=\u001b[1;36m0\u001b[0m\n",
       "    \u001b[1m)\u001b[0m,\n",
       "    \u001b[33mprompt_tokens_details\u001b[0m=\u001b[1m{\u001b[0m\u001b[32m'cached_tokens'\u001b[0m: \u001b[1;36m0\u001b[0m, \u001b[32m'audio_tokens'\u001b[0m: \u001b[1;36m0\u001b[0m\u001b[1m}\u001b[0m\n",
       "\u001b[1m)\u001b[0m\n"
      ]
     },
     "metadata": {},
     "output_type": "display_data"
    },
    {
     "data": {
      "text/html": [
       "<pre style=\"white-space:pre;overflow-x:auto;line-height:normal;font-family:Menlo,'DejaVu Sans Mono',consolas,'Courier New',monospace\"><span style=\"color: #008080; text-decoration-color: #008080; font-weight: bold\">1</span>\n",
       "</pre>\n"
      ],
      "text/plain": [
       "\u001b[1;36m1\u001b[0m\n"
      ]
     },
     "metadata": {},
     "output_type": "display_data"
    },
    {
     "data": {
      "text/html": [
       "<pre style=\"white-space:pre;overflow-x:auto;line-height:normal;font-family:Menlo,'DejaVu Sans Mono',consolas,'Courier New',monospace\">Response:  <span style=\"font-weight: bold\">[</span>message<span style=\"font-weight: bold\">]</span> Apart from Central Plaza and The Mall, I'd really like to visit a historical landmark if \n",
       "there's one nearby. As for other preferences, it's crucial that places we visit are Covid-conscious and not casual \n",
       "places, possibly with outdoor seating. Also, a place with Wi-Fi at some point would be good as I need to do some \n",
       "work. My budget is below $<span style=\"color: #008080; text-decoration-color: #008080; font-weight: bold\">30</span>. As a food preference, I generally lean towards vegetarian options and it would be \n",
       "great if we could visit hidden spots, much better than tourist traps. Can't wait to hear your recommendations!\n",
       "</pre>\n"
      ],
      "text/plain": [
       "Response:  \u001b[1m[\u001b[0mmessage\u001b[1m]\u001b[0m Apart from Central Plaza and The Mall, I'd really like to visit a historical landmark if \n",
       "there's one nearby. As for other preferences, it's crucial that places we visit are Covid-conscious and not casual \n",
       "places, possibly with outdoor seating. Also, a place with Wi-Fi at some point would be good as I need to do some \n",
       "work. My budget is below $\u001b[1;36m30\u001b[0m. As a food preference, I generally lean towards vegetarian options and it would be \n",
       "great if we could visit hidden spots, much better than tourist traps. Can't wait to hear your recommendations!\n"
      ]
     },
     "metadata": {},
     "output_type": "display_data"
    },
    {
     "data": {
      "text/html": [
       "<pre style=\"white-space:pre;overflow-x:auto;line-height:normal;font-family:Menlo,'DejaVu Sans Mono',consolas,'Courier New',monospace\">stop:  stop\n",
       "</pre>\n"
      ],
      "text/plain": [
       "stop:  stop\n"
      ]
     },
     "metadata": {},
     "output_type": "display_data"
    },
    {
     "data": {
      "text/html": [
       "<pre style=\"white-space:pre;overflow-x:auto;line-height:normal;font-family:Menlo,'DejaVu Sans Mono',consolas,'Courier New',monospace\"><span style=\"color: #800080; text-decoration-color: #800080; font-weight: bold\">CompletionUsage</span><span style=\"font-weight: bold\">(</span>\n",
       "    <span style=\"color: #808000; text-decoration-color: #808000\">completion_tokens</span>=<span style=\"color: #008080; text-decoration-color: #008080; font-weight: bold\">116</span>,\n",
       "    <span style=\"color: #808000; text-decoration-color: #808000\">prompt_tokens</span>=<span style=\"color: #008080; text-decoration-color: #008080; font-weight: bold\">2314</span>,\n",
       "    <span style=\"color: #808000; text-decoration-color: #808000\">total_tokens</span>=<span style=\"color: #008080; text-decoration-color: #008080; font-weight: bold\">2430</span>,\n",
       "    <span style=\"color: #808000; text-decoration-color: #808000\">completion_tokens_details</span>=<span style=\"color: #800080; text-decoration-color: #800080; font-weight: bold\">CompletionTokensDetails</span><span style=\"font-weight: bold\">(</span>\n",
       "        <span style=\"color: #808000; text-decoration-color: #808000\">reasoning_tokens</span>=<span style=\"color: #008080; text-decoration-color: #008080; font-weight: bold\">0</span>,\n",
       "        <span style=\"color: #808000; text-decoration-color: #808000\">audio_tokens</span>=<span style=\"color: #008080; text-decoration-color: #008080; font-weight: bold\">0</span>,\n",
       "        <span style=\"color: #808000; text-decoration-color: #808000\">accepted_prediction_tokens</span>=<span style=\"color: #008080; text-decoration-color: #008080; font-weight: bold\">0</span>,\n",
       "        <span style=\"color: #808000; text-decoration-color: #808000\">rejected_prediction_tokens</span>=<span style=\"color: #008080; text-decoration-color: #008080; font-weight: bold\">0</span>\n",
       "    <span style=\"font-weight: bold\">)</span>,\n",
       "    <span style=\"color: #808000; text-decoration-color: #808000\">prompt_tokens_details</span>=<span style=\"font-weight: bold\">{</span><span style=\"color: #008000; text-decoration-color: #008000\">'cached_tokens'</span>: <span style=\"color: #008080; text-decoration-color: #008080; font-weight: bold\">0</span>, <span style=\"color: #008000; text-decoration-color: #008000\">'audio_tokens'</span>: <span style=\"color: #008080; text-decoration-color: #008080; font-weight: bold\">0</span><span style=\"font-weight: bold\">}</span>\n",
       "<span style=\"font-weight: bold\">)</span>\n",
       "</pre>\n"
      ],
      "text/plain": [
       "\u001b[1;35mCompletionUsage\u001b[0m\u001b[1m(\u001b[0m\n",
       "    \u001b[33mcompletion_tokens\u001b[0m=\u001b[1;36m116\u001b[0m,\n",
       "    \u001b[33mprompt_tokens\u001b[0m=\u001b[1;36m2314\u001b[0m,\n",
       "    \u001b[33mtotal_tokens\u001b[0m=\u001b[1;36m2430\u001b[0m,\n",
       "    \u001b[33mcompletion_tokens_details\u001b[0m=\u001b[1;35mCompletionTokensDetails\u001b[0m\u001b[1m(\u001b[0m\n",
       "        \u001b[33mreasoning_tokens\u001b[0m=\u001b[1;36m0\u001b[0m,\n",
       "        \u001b[33maudio_tokens\u001b[0m=\u001b[1;36m0\u001b[0m,\n",
       "        \u001b[33maccepted_prediction_tokens\u001b[0m=\u001b[1;36m0\u001b[0m,\n",
       "        \u001b[33mrejected_prediction_tokens\u001b[0m=\u001b[1;36m0\u001b[0m\n",
       "    \u001b[1m)\u001b[0m,\n",
       "    \u001b[33mprompt_tokens_details\u001b[0m=\u001b[1m{\u001b[0m\u001b[32m'cached_tokens'\u001b[0m: \u001b[1;36m0\u001b[0m, \u001b[32m'audio_tokens'\u001b[0m: \u001b[1;36m0\u001b[0m\u001b[1m}\u001b[0m\n",
       "\u001b[1m)\u001b[0m\n"
      ]
     },
     "metadata": {},
     "output_type": "display_data"
    },
    {
     "data": {
      "text/html": [
       "<pre style=\"white-space:pre;overflow-x:auto;line-height:normal;font-family:Menlo,'DejaVu Sans Mono',consolas,'Courier New',monospace\"><span style=\"color: #008080; text-decoration-color: #008080; font-weight: bold\">1</span>\n",
       "</pre>\n"
      ],
      "text/plain": [
       "\u001b[1;36m1\u001b[0m\n"
      ]
     },
     "metadata": {},
     "output_type": "display_data"
    },
    {
     "data": {
      "text/html": [
       "<pre style=\"white-space:pre;overflow-x:auto;line-height:normal;font-family:Menlo,'DejaVu Sans Mono',consolas,'Courier New',monospace\">Response:  <span style=\"font-weight: bold\">[</span>message<span style=\"font-weight: bold\">]</span> Well, the key features that are very important to me would be a visit to The Mall, checking \n",
       "out live music and having places good for groups, as there are seven of us. And even though it's not absolutely \n",
       "necessary, an added plus would be to have the availability of vegetarian meals and outdoor seating. Everything else\n",
       "is secondary for me at the moment.\n",
       "</pre>\n"
      ],
      "text/plain": [
       "Response:  \u001b[1m[\u001b[0mmessage\u001b[1m]\u001b[0m Well, the key features that are very important to me would be a visit to The Mall, checking \n",
       "out live music and having places good for groups, as there are seven of us. And even though it's not absolutely \n",
       "necessary, an added plus would be to have the availability of vegetarian meals and outdoor seating. Everything else\n",
       "is secondary for me at the moment.\n"
      ]
     },
     "metadata": {},
     "output_type": "display_data"
    },
    {
     "data": {
      "text/html": [
       "<pre style=\"white-space:pre;overflow-x:auto;line-height:normal;font-family:Menlo,'DejaVu Sans Mono',consolas,'Courier New',monospace\">stop:  stop\n",
       "</pre>\n"
      ],
      "text/plain": [
       "stop:  stop\n"
      ]
     },
     "metadata": {},
     "output_type": "display_data"
    },
    {
     "data": {
      "text/html": [
       "<pre style=\"white-space:pre;overflow-x:auto;line-height:normal;font-family:Menlo,'DejaVu Sans Mono',consolas,'Courier New',monospace\"><span style=\"color: #800080; text-decoration-color: #800080; font-weight: bold\">CompletionUsage</span><span style=\"font-weight: bold\">(</span>\n",
       "    <span style=\"color: #808000; text-decoration-color: #808000\">completion_tokens</span>=<span style=\"color: #008080; text-decoration-color: #008080; font-weight: bold\">75</span>,\n",
       "    <span style=\"color: #808000; text-decoration-color: #808000\">prompt_tokens</span>=<span style=\"color: #008080; text-decoration-color: #008080; font-weight: bold\">2325</span>,\n",
       "    <span style=\"color: #808000; text-decoration-color: #808000\">total_tokens</span>=<span style=\"color: #008080; text-decoration-color: #008080; font-weight: bold\">2400</span>,\n",
       "    <span style=\"color: #808000; text-decoration-color: #808000\">completion_tokens_details</span>=<span style=\"color: #800080; text-decoration-color: #800080; font-weight: bold\">CompletionTokensDetails</span><span style=\"font-weight: bold\">(</span>\n",
       "        <span style=\"color: #808000; text-decoration-color: #808000\">reasoning_tokens</span>=<span style=\"color: #008080; text-decoration-color: #008080; font-weight: bold\">0</span>,\n",
       "        <span style=\"color: #808000; text-decoration-color: #808000\">audio_tokens</span>=<span style=\"color: #008080; text-decoration-color: #008080; font-weight: bold\">0</span>,\n",
       "        <span style=\"color: #808000; text-decoration-color: #808000\">accepted_prediction_tokens</span>=<span style=\"color: #008080; text-decoration-color: #008080; font-weight: bold\">0</span>,\n",
       "        <span style=\"color: #808000; text-decoration-color: #808000\">rejected_prediction_tokens</span>=<span style=\"color: #008080; text-decoration-color: #008080; font-weight: bold\">0</span>\n",
       "    <span style=\"font-weight: bold\">)</span>,\n",
       "    <span style=\"color: #808000; text-decoration-color: #808000\">prompt_tokens_details</span>=<span style=\"font-weight: bold\">{</span><span style=\"color: #008000; text-decoration-color: #008000\">'cached_tokens'</span>: <span style=\"color: #008080; text-decoration-color: #008080; font-weight: bold\">0</span>, <span style=\"color: #008000; text-decoration-color: #008000\">'audio_tokens'</span>: <span style=\"color: #008080; text-decoration-color: #008080; font-weight: bold\">0</span><span style=\"font-weight: bold\">}</span>\n",
       "<span style=\"font-weight: bold\">)</span>\n",
       "</pre>\n"
      ],
      "text/plain": [
       "\u001b[1;35mCompletionUsage\u001b[0m\u001b[1m(\u001b[0m\n",
       "    \u001b[33mcompletion_tokens\u001b[0m=\u001b[1;36m75\u001b[0m,\n",
       "    \u001b[33mprompt_tokens\u001b[0m=\u001b[1;36m2325\u001b[0m,\n",
       "    \u001b[33mtotal_tokens\u001b[0m=\u001b[1;36m2400\u001b[0m,\n",
       "    \u001b[33mcompletion_tokens_details\u001b[0m=\u001b[1;35mCompletionTokensDetails\u001b[0m\u001b[1m(\u001b[0m\n",
       "        \u001b[33mreasoning_tokens\u001b[0m=\u001b[1;36m0\u001b[0m,\n",
       "        \u001b[33maudio_tokens\u001b[0m=\u001b[1;36m0\u001b[0m,\n",
       "        \u001b[33maccepted_prediction_tokens\u001b[0m=\u001b[1;36m0\u001b[0m,\n",
       "        \u001b[33mrejected_prediction_tokens\u001b[0m=\u001b[1;36m0\u001b[0m\n",
       "    \u001b[1m)\u001b[0m,\n",
       "    \u001b[33mprompt_tokens_details\u001b[0m=\u001b[1m{\u001b[0m\u001b[32m'cached_tokens'\u001b[0m: \u001b[1;36m0\u001b[0m, \u001b[32m'audio_tokens'\u001b[0m: \u001b[1;36m0\u001b[0m\u001b[1m}\u001b[0m\n",
       "\u001b[1m)\u001b[0m\n"
      ]
     },
     "metadata": {},
     "output_type": "display_data"
    },
    {
     "data": {
      "text/html": [
       "<pre style=\"white-space:pre;overflow-x:auto;line-height:normal;font-family:Menlo,'DejaVu Sans Mono',consolas,'Courier New',monospace\"><span style=\"color: #008080; text-decoration-color: #008080; font-weight: bold\">1</span>\n",
       "</pre>\n"
      ],
      "text/plain": [
       "\u001b[1;36m1\u001b[0m\n"
      ]
     },
     "metadata": {},
     "output_type": "display_data"
    },
    {
     "data": {
      "text/html": [
       "<pre style=\"white-space:pre;overflow-x:auto;line-height:normal;font-family:Menlo,'DejaVu Sans Mono',consolas,'Courier New',monospace\">Response:  <span style=\"font-weight: bold\">[</span>message<span style=\"font-weight: bold\">]</span> Not really, I'd just prefer places that aren't too loud with live music. Also, if possible, \n",
       "try to keep the travel distance between the landmarks to a minimum.\n",
       "</pre>\n"
      ],
      "text/plain": [
       "Response:  \u001b[1m[\u001b[0mmessage\u001b[1m]\u001b[0m Not really, I'd just prefer places that aren't too loud with live music. Also, if possible, \n",
       "try to keep the travel distance between the landmarks to a minimum.\n"
      ]
     },
     "metadata": {},
     "output_type": "display_data"
    },
    {
     "data": {
      "text/html": [
       "<pre style=\"white-space:pre;overflow-x:auto;line-height:normal;font-family:Menlo,'DejaVu Sans Mono',consolas,'Courier New',monospace\">stop:  stop\n",
       "</pre>\n"
      ],
      "text/plain": [
       "stop:  stop\n"
      ]
     },
     "metadata": {},
     "output_type": "display_data"
    },
    {
     "data": {
      "text/html": [
       "<pre style=\"white-space:pre;overflow-x:auto;line-height:normal;font-family:Menlo,'DejaVu Sans Mono',consolas,'Courier New',monospace\"><span style=\"color: #800080; text-decoration-color: #800080; font-weight: bold\">CompletionUsage</span><span style=\"font-weight: bold\">(</span>\n",
       "    <span style=\"color: #808000; text-decoration-color: #808000\">completion_tokens</span>=<span style=\"color: #008080; text-decoration-color: #008080; font-weight: bold\">38</span>,\n",
       "    <span style=\"color: #808000; text-decoration-color: #808000\">prompt_tokens</span>=<span style=\"color: #008080; text-decoration-color: #008080; font-weight: bold\">2297</span>,\n",
       "    <span style=\"color: #808000; text-decoration-color: #808000\">total_tokens</span>=<span style=\"color: #008080; text-decoration-color: #008080; font-weight: bold\">2335</span>,\n",
       "    <span style=\"color: #808000; text-decoration-color: #808000\">completion_tokens_details</span>=<span style=\"color: #800080; text-decoration-color: #800080; font-weight: bold\">CompletionTokensDetails</span><span style=\"font-weight: bold\">(</span>\n",
       "        <span style=\"color: #808000; text-decoration-color: #808000\">reasoning_tokens</span>=<span style=\"color: #008080; text-decoration-color: #008080; font-weight: bold\">0</span>,\n",
       "        <span style=\"color: #808000; text-decoration-color: #808000\">audio_tokens</span>=<span style=\"color: #008080; text-decoration-color: #008080; font-weight: bold\">0</span>,\n",
       "        <span style=\"color: #808000; text-decoration-color: #808000\">accepted_prediction_tokens</span>=<span style=\"color: #008080; text-decoration-color: #008080; font-weight: bold\">0</span>,\n",
       "        <span style=\"color: #808000; text-decoration-color: #808000\">rejected_prediction_tokens</span>=<span style=\"color: #008080; text-decoration-color: #008080; font-weight: bold\">0</span>\n",
       "    <span style=\"font-weight: bold\">)</span>,\n",
       "    <span style=\"color: #808000; text-decoration-color: #808000\">prompt_tokens_details</span>=<span style=\"font-weight: bold\">{</span><span style=\"color: #008000; text-decoration-color: #008000\">'cached_tokens'</span>: <span style=\"color: #008080; text-decoration-color: #008080; font-weight: bold\">0</span>, <span style=\"color: #008000; text-decoration-color: #008000\">'audio_tokens'</span>: <span style=\"color: #008080; text-decoration-color: #008080; font-weight: bold\">0</span><span style=\"font-weight: bold\">}</span>\n",
       "<span style=\"font-weight: bold\">)</span>\n",
       "</pre>\n"
      ],
      "text/plain": [
       "\u001b[1;35mCompletionUsage\u001b[0m\u001b[1m(\u001b[0m\n",
       "    \u001b[33mcompletion_tokens\u001b[0m=\u001b[1;36m38\u001b[0m,\n",
       "    \u001b[33mprompt_tokens\u001b[0m=\u001b[1;36m2297\u001b[0m,\n",
       "    \u001b[33mtotal_tokens\u001b[0m=\u001b[1;36m2335\u001b[0m,\n",
       "    \u001b[33mcompletion_tokens_details\u001b[0m=\u001b[1;35mCompletionTokensDetails\u001b[0m\u001b[1m(\u001b[0m\n",
       "        \u001b[33mreasoning_tokens\u001b[0m=\u001b[1;36m0\u001b[0m,\n",
       "        \u001b[33maudio_tokens\u001b[0m=\u001b[1;36m0\u001b[0m,\n",
       "        \u001b[33maccepted_prediction_tokens\u001b[0m=\u001b[1;36m0\u001b[0m,\n",
       "        \u001b[33mrejected_prediction_tokens\u001b[0m=\u001b[1;36m0\u001b[0m\n",
       "    \u001b[1m)\u001b[0m,\n",
       "    \u001b[33mprompt_tokens_details\u001b[0m=\u001b[1m{\u001b[0m\u001b[32m'cached_tokens'\u001b[0m: \u001b[1;36m0\u001b[0m, \u001b[32m'audio_tokens'\u001b[0m: \u001b[1;36m0\u001b[0m\u001b[1m}\u001b[0m\n",
       "\u001b[1m)\u001b[0m\n"
      ]
     },
     "metadata": {},
     "output_type": "display_data"
    },
    {
     "data": {
      "text/html": [
       "<pre style=\"white-space:pre;overflow-x:auto;line-height:normal;font-family:Menlo,'DejaVu Sans Mono',consolas,'Courier New',monospace\"><span style=\"color: #008080; text-decoration-color: #008080; font-weight: bold\">1</span>\n",
       "</pre>\n"
      ],
      "text/plain": [
       "\u001b[1;36m1\u001b[0m\n"
      ]
     },
     "metadata": {},
     "output_type": "display_data"
    }
   ],
   "source": [
    "\n",
    "conversation_states = step_all_user_responses( parallel_convs)"
   ]
  },
  {
   "cell_type": "code",
   "execution_count": 179,
   "metadata": {},
   "outputs": [
    {
     "data": {
      "text/html": [
       "<pre style=\"white-space:pre;overflow-x:auto;line-height:normal;font-family:Menlo,'DejaVu Sans Mono',consolas,'Courier New',monospace\"><span style=\"color: #008080; text-decoration-color: #008080; font-weight: bold\">10</span>\n",
       "</pre>\n"
      ],
      "text/plain": [
       "\u001b[1;36m10\u001b[0m\n"
      ]
     },
     "metadata": {},
     "output_type": "display_data"
    }
   ],
   "source": [
    "print(len(conversation_states[0]))\n"
   ]
  },
  {
   "cell_type": "code",
   "execution_count": 181,
   "metadata": {},
   "outputs": [],
   "source": [
    "def run_until_agent_proposals(parallel_convs):\n",
    "    \"\"\"\n",
    "    For each conversation path:\n",
    "        - Allow agent to tool call or think multiple times\n",
    "        - Continue until agent makes a proposal\n",
    "        - Reject regular messages - only allow tool calls, thinks, or proposals\n",
    "    \"\"\"\n",
    "    all_proposals = []\n",
    "    \n",
    "    # For each conversation path (0,1,2)\n",
    "    for conv_idx, conversation in enumerate(parallel_convs.conversations):\n",
    "        if conversation.propose_made:\n",
    "            continue\n",
    "        path_proposals = []\n",
    "        \n",
    "        # For each son conversation\n",
    "        for son_conv in conversation.son_convs:\n",
    "            agent = son_conv.players['agent']\n",
    "            agent.observe(son_conv.state.obss['agent'])\n",
    "            \n",
    "            # Keep getting responses until we get a proposal\n",
    "            must_propose = False\n",
    "            while True:\n",
    "                response = agent.respond(t=son_conv.state.turn + 1, vary=True, propose=must_propose)\n",
    "                if '[tool]' in response or '[think]' in response:\n",
    "                    # Valid tool/think response\n",
    "                    state = son_conv.step(response, son_conv.state.turn + 1)\n",
    "                    agent.observe(state.obss['agent'])\n",
    "                    continue\n",
    "                if '[message]' in response:\n",
    "                    must_propose = True\n",
    "                    continue\n",
    "                state = son_conv.step(response, son_conv.state.turn + 1, propose = must_propose)\n",
    "                # Check response type\n",
    "                if (must_propose or ('[propose]' in state.obss['agent'])) and 'Error' not in state.obss['agent']:\n",
    "                    # Got a proposal - save it and move on\n",
    "                    #son_conv.step(response, son_conv.state.turn + 1, propose=True)\n",
    "                    path_proposals.append(response)\n",
    "                    break\n",
    "                agent.observe(state.obss['agent'])\n",
    "\n",
    "                \n",
    "            print(f\"Final proposal: {response}\")\n",
    "            \n",
    "        all_proposals.append(path_proposals)\n",
    "    \n",
    "    return all_proposals"
   ]
  },
  {
   "cell_type": "code",
   "execution_count": 88,
   "metadata": {},
   "outputs": [],
   "source": [
    "def extract_total_score(obss_string):\n",
    "    # Find the line with \"TOTAL SCORE:\"\n",
    "    for line in obss_string.split('\\n'):\n",
    "        if \"TOTAL SCORE:\" in line:\n",
    "            # Extract the number after the equals sign\n",
    "            score = int(line.split('=')[-1])\n",
    "            return score\n",
    "    return None\n"
   ]
  },
  {
   "cell_type": "code",
   "execution_count": 182,
   "metadata": {},
   "outputs": [
    {
     "data": {
      "text/html": [
       "<pre style=\"white-space:pre;overflow-x:auto;line-height:normal;font-family:Menlo,'DejaVu Sans Mono',consolas,'Courier New',monospace\">Response:  <span style=\"font-weight: bold\">[</span>message<span style=\"font-weight: bold\">]</span> Great, we'll certainly incorporate Central Plaza and The Mall into the itinerary. It sounds \n",
       "like being able to reserve in advance and avoiding crowded places are important to you. With regard to your third \n",
       "destination, are there any particular landmarks you're interested in? Also, do you have a preference for indoor or \n",
       "outdoor activities?\n",
       "</pre>\n"
      ],
      "text/plain": [
       "Response:  \u001b[1m[\u001b[0mmessage\u001b[1m]\u001b[0m Great, we'll certainly incorporate Central Plaza and The Mall into the itinerary. It sounds \n",
       "like being able to reserve in advance and avoiding crowded places are important to you. With regard to your third \n",
       "destination, are there any particular landmarks you're interested in? Also, do you have a preference for indoor or \n",
       "outdoor activities?\n"
      ]
     },
     "metadata": {},
     "output_type": "display_data"
    },
    {
     "data": {
      "text/html": [
       "<pre style=\"white-space:pre;overflow-x:auto;line-height:normal;font-family:Menlo,'DejaVu Sans Mono',consolas,'Courier New',monospace\">stop:  stop\n",
       "</pre>\n"
      ],
      "text/plain": [
       "stop:  stop\n"
      ]
     },
     "metadata": {},
     "output_type": "display_data"
    },
    {
     "data": {
      "text/html": [
       "<pre style=\"white-space:pre;overflow-x:auto;line-height:normal;font-family:Menlo,'DejaVu Sans Mono',consolas,'Courier New',monospace\"><span style=\"color: #800080; text-decoration-color: #800080; font-weight: bold\">CompletionUsage</span><span style=\"font-weight: bold\">(</span>\n",
       "    <span style=\"color: #808000; text-decoration-color: #808000\">completion_tokens</span>=<span style=\"color: #008080; text-decoration-color: #008080; font-weight: bold\">66</span>,\n",
       "    <span style=\"color: #808000; text-decoration-color: #808000\">prompt_tokens</span>=<span style=\"color: #008080; text-decoration-color: #008080; font-weight: bold\">2368</span>,\n",
       "    <span style=\"color: #808000; text-decoration-color: #808000\">total_tokens</span>=<span style=\"color: #008080; text-decoration-color: #008080; font-weight: bold\">2434</span>,\n",
       "    <span style=\"color: #808000; text-decoration-color: #808000\">completion_tokens_details</span>=<span style=\"color: #800080; text-decoration-color: #800080; font-weight: bold\">CompletionTokensDetails</span><span style=\"font-weight: bold\">(</span>\n",
       "        <span style=\"color: #808000; text-decoration-color: #808000\">reasoning_tokens</span>=<span style=\"color: #008080; text-decoration-color: #008080; font-weight: bold\">0</span>,\n",
       "        <span style=\"color: #808000; text-decoration-color: #808000\">audio_tokens</span>=<span style=\"color: #008080; text-decoration-color: #008080; font-weight: bold\">0</span>,\n",
       "        <span style=\"color: #808000; text-decoration-color: #808000\">accepted_prediction_tokens</span>=<span style=\"color: #008080; text-decoration-color: #008080; font-weight: bold\">0</span>,\n",
       "        <span style=\"color: #808000; text-decoration-color: #808000\">rejected_prediction_tokens</span>=<span style=\"color: #008080; text-decoration-color: #008080; font-weight: bold\">0</span>\n",
       "    <span style=\"font-weight: bold\">)</span>,\n",
       "    <span style=\"color: #808000; text-decoration-color: #808000\">prompt_tokens_details</span>=<span style=\"font-weight: bold\">{</span><span style=\"color: #008000; text-decoration-color: #008000\">'cached_tokens'</span>: <span style=\"color: #008080; text-decoration-color: #008080; font-weight: bold\">0</span>, <span style=\"color: #008000; text-decoration-color: #008000\">'audio_tokens'</span>: <span style=\"color: #008080; text-decoration-color: #008080; font-weight: bold\">0</span><span style=\"font-weight: bold\">}</span>\n",
       "<span style=\"font-weight: bold\">)</span>\n",
       "</pre>\n"
      ],
      "text/plain": [
       "\u001b[1;35mCompletionUsage\u001b[0m\u001b[1m(\u001b[0m\n",
       "    \u001b[33mcompletion_tokens\u001b[0m=\u001b[1;36m66\u001b[0m,\n",
       "    \u001b[33mprompt_tokens\u001b[0m=\u001b[1;36m2368\u001b[0m,\n",
       "    \u001b[33mtotal_tokens\u001b[0m=\u001b[1;36m2434\u001b[0m,\n",
       "    \u001b[33mcompletion_tokens_details\u001b[0m=\u001b[1;35mCompletionTokensDetails\u001b[0m\u001b[1m(\u001b[0m\n",
       "        \u001b[33mreasoning_tokens\u001b[0m=\u001b[1;36m0\u001b[0m,\n",
       "        \u001b[33maudio_tokens\u001b[0m=\u001b[1;36m0\u001b[0m,\n",
       "        \u001b[33maccepted_prediction_tokens\u001b[0m=\u001b[1;36m0\u001b[0m,\n",
       "        \u001b[33mrejected_prediction_tokens\u001b[0m=\u001b[1;36m0\u001b[0m\n",
       "    \u001b[1m)\u001b[0m,\n",
       "    \u001b[33mprompt_tokens_details\u001b[0m=\u001b[1m{\u001b[0m\u001b[32m'cached_tokens'\u001b[0m: \u001b[1;36m0\u001b[0m, \u001b[32m'audio_tokens'\u001b[0m: \u001b[1;36m0\u001b[0m\u001b[1m}\u001b[0m\n",
       "\u001b[1m)\u001b[0m\n"
      ]
     },
     "metadata": {},
     "output_type": "display_data"
    },
    {
     "data": {
      "text/html": [
       "<pre style=\"white-space:pre;overflow-x:auto;line-height:normal;font-family:Menlo,'DejaVu Sans Mono',consolas,'Courier New',monospace\">Response:  <span style=\"font-weight: bold\">[</span>Central Plaza, The Mall, NULL<span style=\"font-weight: bold\">]</span>\n",
       "</pre>\n"
      ],
      "text/plain": [
       "Response:  \u001b[1m[\u001b[0mCentral Plaza, The Mall, NULL\u001b[1m]\u001b[0m\n"
      ]
     },
     "metadata": {},
     "output_type": "display_data"
    },
    {
     "data": {
      "text/html": [
       "<pre style=\"white-space:pre;overflow-x:auto;line-height:normal;font-family:Menlo,'DejaVu Sans Mono',consolas,'Courier New',monospace\">stop:  stop\n",
       "</pre>\n"
      ],
      "text/plain": [
       "stop:  stop\n"
      ]
     },
     "metadata": {},
     "output_type": "display_data"
    },
    {
     "data": {
      "text/html": [
       "<pre style=\"white-space:pre;overflow-x:auto;line-height:normal;font-family:Menlo,'DejaVu Sans Mono',consolas,'Courier New',monospace\"><span style=\"color: #800080; text-decoration-color: #800080; font-weight: bold\">CompletionUsage</span><span style=\"font-weight: bold\">(</span>\n",
       "    <span style=\"color: #808000; text-decoration-color: #808000\">completion_tokens</span>=<span style=\"color: #008080; text-decoration-color: #008080; font-weight: bold\">9</span>,\n",
       "    <span style=\"color: #808000; text-decoration-color: #808000\">prompt_tokens</span>=<span style=\"color: #008080; text-decoration-color: #008080; font-weight: bold\">2312</span>,\n",
       "    <span style=\"color: #808000; text-decoration-color: #808000\">total_tokens</span>=<span style=\"color: #008080; text-decoration-color: #008080; font-weight: bold\">2321</span>,\n",
       "    <span style=\"color: #808000; text-decoration-color: #808000\">completion_tokens_details</span>=<span style=\"color: #800080; text-decoration-color: #800080; font-weight: bold\">CompletionTokensDetails</span><span style=\"font-weight: bold\">(</span>\n",
       "        <span style=\"color: #808000; text-decoration-color: #808000\">reasoning_tokens</span>=<span style=\"color: #008080; text-decoration-color: #008080; font-weight: bold\">0</span>,\n",
       "        <span style=\"color: #808000; text-decoration-color: #808000\">audio_tokens</span>=<span style=\"color: #008080; text-decoration-color: #008080; font-weight: bold\">0</span>,\n",
       "        <span style=\"color: #808000; text-decoration-color: #808000\">accepted_prediction_tokens</span>=<span style=\"color: #008080; text-decoration-color: #008080; font-weight: bold\">0</span>,\n",
       "        <span style=\"color: #808000; text-decoration-color: #808000\">rejected_prediction_tokens</span>=<span style=\"color: #008080; text-decoration-color: #008080; font-weight: bold\">0</span>\n",
       "    <span style=\"font-weight: bold\">)</span>,\n",
       "    <span style=\"color: #808000; text-decoration-color: #808000\">prompt_tokens_details</span>=<span style=\"font-weight: bold\">{</span><span style=\"color: #008000; text-decoration-color: #008000\">'cached_tokens'</span>: <span style=\"color: #008080; text-decoration-color: #008080; font-weight: bold\">0</span>, <span style=\"color: #008000; text-decoration-color: #008000\">'audio_tokens'</span>: <span style=\"color: #008080; text-decoration-color: #008080; font-weight: bold\">0</span><span style=\"font-weight: bold\">}</span>\n",
       "<span style=\"font-weight: bold\">)</span>\n",
       "</pre>\n"
      ],
      "text/plain": [
       "\u001b[1;35mCompletionUsage\u001b[0m\u001b[1m(\u001b[0m\n",
       "    \u001b[33mcompletion_tokens\u001b[0m=\u001b[1;36m9\u001b[0m,\n",
       "    \u001b[33mprompt_tokens\u001b[0m=\u001b[1;36m2312\u001b[0m,\n",
       "    \u001b[33mtotal_tokens\u001b[0m=\u001b[1;36m2321\u001b[0m,\n",
       "    \u001b[33mcompletion_tokens_details\u001b[0m=\u001b[1;35mCompletionTokensDetails\u001b[0m\u001b[1m(\u001b[0m\n",
       "        \u001b[33mreasoning_tokens\u001b[0m=\u001b[1;36m0\u001b[0m,\n",
       "        \u001b[33maudio_tokens\u001b[0m=\u001b[1;36m0\u001b[0m,\n",
       "        \u001b[33maccepted_prediction_tokens\u001b[0m=\u001b[1;36m0\u001b[0m,\n",
       "        \u001b[33mrejected_prediction_tokens\u001b[0m=\u001b[1;36m0\u001b[0m\n",
       "    \u001b[1m)\u001b[0m,\n",
       "    \u001b[33mprompt_tokens_details\u001b[0m=\u001b[1m{\u001b[0m\u001b[32m'cached_tokens'\u001b[0m: \u001b[1;36m0\u001b[0m, \u001b[32m'audio_tokens'\u001b[0m: \u001b[1;36m0\u001b[0m\u001b[1m}\u001b[0m\n",
       "\u001b[1m)\u001b[0m\n"
      ]
     },
     "metadata": {},
     "output_type": "display_data"
    },
    {
     "data": {
      "text/html": [
       "<pre style=\"white-space:pre;overflow-x:auto;line-height:normal;font-family:Menlo,'DejaVu Sans Mono',consolas,'Courier New',monospace\">Final proposal: <span style=\"font-weight: bold\">[</span>Central Plaza, The Mall, NULL<span style=\"font-weight: bold\">]</span>\n",
       "</pre>\n"
      ],
      "text/plain": [
       "Final proposal: \u001b[1m[\u001b[0mCentral Plaza, The Mall, NULL\u001b[1m]\u001b[0m\n"
      ]
     },
     "metadata": {},
     "output_type": "display_data"
    },
    {
     "data": {
      "text/html": [
       "<pre style=\"white-space:pre;overflow-x:auto;line-height:normal;font-family:Menlo,'DejaVu Sans Mono',consolas,'Courier New',monospace\">Response:  <span style=\"font-weight: bold\">[</span>message<span style=\"font-weight: bold\">]</span> Based on your feedback, we'll include Central Plaza and The Mall on your itinerary since \n",
       "parking is not a deal-breaker for you.\n",
       "</pre>\n"
      ],
      "text/plain": [
       "Response:  \u001b[1m[\u001b[0mmessage\u001b[1m]\u001b[0m Based on your feedback, we'll include Central Plaza and The Mall on your itinerary since \n",
       "parking is not a deal-breaker for you.\n"
      ]
     },
     "metadata": {},
     "output_type": "display_data"
    },
    {
     "data": {
      "text/html": [
       "<pre style=\"white-space:pre;overflow-x:auto;line-height:normal;font-family:Menlo,'DejaVu Sans Mono',consolas,'Courier New',monospace\">stop:  stop\n",
       "</pre>\n"
      ],
      "text/plain": [
       "stop:  stop\n"
      ]
     },
     "metadata": {},
     "output_type": "display_data"
    },
    {
     "data": {
      "text/html": [
       "<pre style=\"white-space:pre;overflow-x:auto;line-height:normal;font-family:Menlo,'DejaVu Sans Mono',consolas,'Courier New',monospace\"><span style=\"color: #800080; text-decoration-color: #800080; font-weight: bold\">CompletionUsage</span><span style=\"font-weight: bold\">(</span>\n",
       "    <span style=\"color: #808000; text-decoration-color: #808000\">completion_tokens</span>=<span style=\"color: #008080; text-decoration-color: #008080; font-weight: bold\">31</span>,\n",
       "    <span style=\"color: #808000; text-decoration-color: #808000\">prompt_tokens</span>=<span style=\"color: #008080; text-decoration-color: #008080; font-weight: bold\">2515</span>,\n",
       "    <span style=\"color: #808000; text-decoration-color: #808000\">total_tokens</span>=<span style=\"color: #008080; text-decoration-color: #008080; font-weight: bold\">2546</span>,\n",
       "    <span style=\"color: #808000; text-decoration-color: #808000\">completion_tokens_details</span>=<span style=\"color: #800080; text-decoration-color: #800080; font-weight: bold\">CompletionTokensDetails</span><span style=\"font-weight: bold\">(</span>\n",
       "        <span style=\"color: #808000; text-decoration-color: #808000\">reasoning_tokens</span>=<span style=\"color: #008080; text-decoration-color: #008080; font-weight: bold\">0</span>,\n",
       "        <span style=\"color: #808000; text-decoration-color: #808000\">audio_tokens</span>=<span style=\"color: #008080; text-decoration-color: #008080; font-weight: bold\">0</span>,\n",
       "        <span style=\"color: #808000; text-decoration-color: #808000\">accepted_prediction_tokens</span>=<span style=\"color: #008080; text-decoration-color: #008080; font-weight: bold\">0</span>,\n",
       "        <span style=\"color: #808000; text-decoration-color: #808000\">rejected_prediction_tokens</span>=<span style=\"color: #008080; text-decoration-color: #008080; font-weight: bold\">0</span>\n",
       "    <span style=\"font-weight: bold\">)</span>,\n",
       "    <span style=\"color: #808000; text-decoration-color: #808000\">prompt_tokens_details</span>=<span style=\"font-weight: bold\">{</span><span style=\"color: #008000; text-decoration-color: #008000\">'cached_tokens'</span>: <span style=\"color: #008080; text-decoration-color: #008080; font-weight: bold\">0</span>, <span style=\"color: #008000; text-decoration-color: #008000\">'audio_tokens'</span>: <span style=\"color: #008080; text-decoration-color: #008080; font-weight: bold\">0</span><span style=\"font-weight: bold\">}</span>\n",
       "<span style=\"font-weight: bold\">)</span>\n",
       "</pre>\n"
      ],
      "text/plain": [
       "\u001b[1;35mCompletionUsage\u001b[0m\u001b[1m(\u001b[0m\n",
       "    \u001b[33mcompletion_tokens\u001b[0m=\u001b[1;36m31\u001b[0m,\n",
       "    \u001b[33mprompt_tokens\u001b[0m=\u001b[1;36m2515\u001b[0m,\n",
       "    \u001b[33mtotal_tokens\u001b[0m=\u001b[1;36m2546\u001b[0m,\n",
       "    \u001b[33mcompletion_tokens_details\u001b[0m=\u001b[1;35mCompletionTokensDetails\u001b[0m\u001b[1m(\u001b[0m\n",
       "        \u001b[33mreasoning_tokens\u001b[0m=\u001b[1;36m0\u001b[0m,\n",
       "        \u001b[33maudio_tokens\u001b[0m=\u001b[1;36m0\u001b[0m,\n",
       "        \u001b[33maccepted_prediction_tokens\u001b[0m=\u001b[1;36m0\u001b[0m,\n",
       "        \u001b[33mrejected_prediction_tokens\u001b[0m=\u001b[1;36m0\u001b[0m\n",
       "    \u001b[1m)\u001b[0m,\n",
       "    \u001b[33mprompt_tokens_details\u001b[0m=\u001b[1m{\u001b[0m\u001b[32m'cached_tokens'\u001b[0m: \u001b[1;36m0\u001b[0m, \u001b[32m'audio_tokens'\u001b[0m: \u001b[1;36m0\u001b[0m\u001b[1m}\u001b[0m\n",
       "\u001b[1m)\u001b[0m\n"
      ]
     },
     "metadata": {},
     "output_type": "display_data"
    },
    {
     "data": {
      "text/html": [
       "<pre style=\"white-space:pre;overflow-x:auto;line-height:normal;font-family:Menlo,'DejaVu Sans Mono',consolas,'Courier New',monospace\">Response:  <span style=\"font-weight: bold\">[</span>Central Plaza, The Mall, NULL<span style=\"font-weight: bold\">]</span>\n",
       "</pre>\n"
      ],
      "text/plain": [
       "Response:  \u001b[1m[\u001b[0mCentral Plaza, The Mall, NULL\u001b[1m]\u001b[0m\n"
      ]
     },
     "metadata": {},
     "output_type": "display_data"
    },
    {
     "data": {
      "text/html": [
       "<pre style=\"white-space:pre;overflow-x:auto;line-height:normal;font-family:Menlo,'DejaVu Sans Mono',consolas,'Courier New',monospace\">stop:  stop\n",
       "</pre>\n"
      ],
      "text/plain": [
       "stop:  stop\n"
      ]
     },
     "metadata": {},
     "output_type": "display_data"
    },
    {
     "data": {
      "text/html": [
       "<pre style=\"white-space:pre;overflow-x:auto;line-height:normal;font-family:Menlo,'DejaVu Sans Mono',consolas,'Courier New',monospace\"><span style=\"color: #800080; text-decoration-color: #800080; font-weight: bold\">CompletionUsage</span><span style=\"font-weight: bold\">(</span>\n",
       "    <span style=\"color: #808000; text-decoration-color: #808000\">completion_tokens</span>=<span style=\"color: #008080; text-decoration-color: #008080; font-weight: bold\">9</span>,\n",
       "    <span style=\"color: #808000; text-decoration-color: #808000\">prompt_tokens</span>=<span style=\"color: #008080; text-decoration-color: #008080; font-weight: bold\">2459</span>,\n",
       "    <span style=\"color: #808000; text-decoration-color: #808000\">total_tokens</span>=<span style=\"color: #008080; text-decoration-color: #008080; font-weight: bold\">2468</span>,\n",
       "    <span style=\"color: #808000; text-decoration-color: #808000\">completion_tokens_details</span>=<span style=\"color: #800080; text-decoration-color: #800080; font-weight: bold\">CompletionTokensDetails</span><span style=\"font-weight: bold\">(</span>\n",
       "        <span style=\"color: #808000; text-decoration-color: #808000\">reasoning_tokens</span>=<span style=\"color: #008080; text-decoration-color: #008080; font-weight: bold\">0</span>,\n",
       "        <span style=\"color: #808000; text-decoration-color: #808000\">audio_tokens</span>=<span style=\"color: #008080; text-decoration-color: #008080; font-weight: bold\">0</span>,\n",
       "        <span style=\"color: #808000; text-decoration-color: #808000\">accepted_prediction_tokens</span>=<span style=\"color: #008080; text-decoration-color: #008080; font-weight: bold\">0</span>,\n",
       "        <span style=\"color: #808000; text-decoration-color: #808000\">rejected_prediction_tokens</span>=<span style=\"color: #008080; text-decoration-color: #008080; font-weight: bold\">0</span>\n",
       "    <span style=\"font-weight: bold\">)</span>,\n",
       "    <span style=\"color: #808000; text-decoration-color: #808000\">prompt_tokens_details</span>=<span style=\"font-weight: bold\">{</span><span style=\"color: #008000; text-decoration-color: #008000\">'cached_tokens'</span>: <span style=\"color: #008080; text-decoration-color: #008080; font-weight: bold\">0</span>, <span style=\"color: #008000; text-decoration-color: #008000\">'audio_tokens'</span>: <span style=\"color: #008080; text-decoration-color: #008080; font-weight: bold\">0</span><span style=\"font-weight: bold\">}</span>\n",
       "<span style=\"font-weight: bold\">)</span>\n",
       "</pre>\n"
      ],
      "text/plain": [
       "\u001b[1;35mCompletionUsage\u001b[0m\u001b[1m(\u001b[0m\n",
       "    \u001b[33mcompletion_tokens\u001b[0m=\u001b[1;36m9\u001b[0m,\n",
       "    \u001b[33mprompt_tokens\u001b[0m=\u001b[1;36m2459\u001b[0m,\n",
       "    \u001b[33mtotal_tokens\u001b[0m=\u001b[1;36m2468\u001b[0m,\n",
       "    \u001b[33mcompletion_tokens_details\u001b[0m=\u001b[1;35mCompletionTokensDetails\u001b[0m\u001b[1m(\u001b[0m\n",
       "        \u001b[33mreasoning_tokens\u001b[0m=\u001b[1;36m0\u001b[0m,\n",
       "        \u001b[33maudio_tokens\u001b[0m=\u001b[1;36m0\u001b[0m,\n",
       "        \u001b[33maccepted_prediction_tokens\u001b[0m=\u001b[1;36m0\u001b[0m,\n",
       "        \u001b[33mrejected_prediction_tokens\u001b[0m=\u001b[1;36m0\u001b[0m\n",
       "    \u001b[1m)\u001b[0m,\n",
       "    \u001b[33mprompt_tokens_details\u001b[0m=\u001b[1m{\u001b[0m\u001b[32m'cached_tokens'\u001b[0m: \u001b[1;36m0\u001b[0m, \u001b[32m'audio_tokens'\u001b[0m: \u001b[1;36m0\u001b[0m\u001b[1m}\u001b[0m\n",
       "\u001b[1m)\u001b[0m\n"
      ]
     },
     "metadata": {},
     "output_type": "display_data"
    },
    {
     "data": {
      "text/html": [
       "<pre style=\"white-space:pre;overflow-x:auto;line-height:normal;font-family:Menlo,'DejaVu Sans Mono',consolas,'Courier New',monospace\">Final proposal: <span style=\"font-weight: bold\">[</span>Central Plaza, The Mall, NULL<span style=\"font-weight: bold\">]</span>\n",
       "</pre>\n"
      ],
      "text/plain": [
       "Final proposal: \u001b[1m[\u001b[0mCentral Plaza, The Mall, NULL\u001b[1m]\u001b[0m\n"
      ]
     },
     "metadata": {},
     "output_type": "display_data"
    },
    {
     "data": {
      "text/html": [
       "<pre style=\"white-space:pre;overflow-x:auto;line-height:normal;font-family:Menlo,'DejaVu Sans Mono',consolas,'Courier New',monospace\">Response:  <span style=\"font-weight: bold\">[</span>message<span style=\"font-weight: bold\">]</span> Thanks for those preferences. I'll try to find you a nice spot with a city view, wifi and \n",
       "outdoor seating that suits COVID precautions. So parking is no longer an important aspect for the itinerary? What \n",
       "about a preference for a certain landmark or types of activities you'd be interested in?\n",
       "</pre>\n"
      ],
      "text/plain": [
       "Response:  \u001b[1m[\u001b[0mmessage\u001b[1m]\u001b[0m Thanks for those preferences. I'll try to find you a nice spot with a city view, wifi and \n",
       "outdoor seating that suits COVID precautions. So parking is no longer an important aspect for the itinerary? What \n",
       "about a preference for a certain landmark or types of activities you'd be interested in?\n"
      ]
     },
     "metadata": {},
     "output_type": "display_data"
    },
    {
     "data": {
      "text/html": [
       "<pre style=\"white-space:pre;overflow-x:auto;line-height:normal;font-family:Menlo,'DejaVu Sans Mono',consolas,'Courier New',monospace\">stop:  stop\n",
       "</pre>\n"
      ],
      "text/plain": [
       "stop:  stop\n"
      ]
     },
     "metadata": {},
     "output_type": "display_data"
    },
    {
     "data": {
      "text/html": [
       "<pre style=\"white-space:pre;overflow-x:auto;line-height:normal;font-family:Menlo,'DejaVu Sans Mono',consolas,'Courier New',monospace\"><span style=\"color: #800080; text-decoration-color: #800080; font-weight: bold\">CompletionUsage</span><span style=\"font-weight: bold\">(</span>\n",
       "    <span style=\"color: #808000; text-decoration-color: #808000\">completion_tokens</span>=<span style=\"color: #008080; text-decoration-color: #008080; font-weight: bold\">61</span>,\n",
       "    <span style=\"color: #808000; text-decoration-color: #808000\">prompt_tokens</span>=<span style=\"color: #008080; text-decoration-color: #008080; font-weight: bold\">2348</span>,\n",
       "    <span style=\"color: #808000; text-decoration-color: #808000\">total_tokens</span>=<span style=\"color: #008080; text-decoration-color: #008080; font-weight: bold\">2409</span>,\n",
       "    <span style=\"color: #808000; text-decoration-color: #808000\">completion_tokens_details</span>=<span style=\"color: #800080; text-decoration-color: #800080; font-weight: bold\">CompletionTokensDetails</span><span style=\"font-weight: bold\">(</span>\n",
       "        <span style=\"color: #808000; text-decoration-color: #808000\">reasoning_tokens</span>=<span style=\"color: #008080; text-decoration-color: #008080; font-weight: bold\">0</span>,\n",
       "        <span style=\"color: #808000; text-decoration-color: #808000\">audio_tokens</span>=<span style=\"color: #008080; text-decoration-color: #008080; font-weight: bold\">0</span>,\n",
       "        <span style=\"color: #808000; text-decoration-color: #808000\">accepted_prediction_tokens</span>=<span style=\"color: #008080; text-decoration-color: #008080; font-weight: bold\">0</span>,\n",
       "        <span style=\"color: #808000; text-decoration-color: #808000\">rejected_prediction_tokens</span>=<span style=\"color: #008080; text-decoration-color: #008080; font-weight: bold\">0</span>\n",
       "    <span style=\"font-weight: bold\">)</span>,\n",
       "    <span style=\"color: #808000; text-decoration-color: #808000\">prompt_tokens_details</span>=<span style=\"font-weight: bold\">{</span><span style=\"color: #008000; text-decoration-color: #008000\">'cached_tokens'</span>: <span style=\"color: #008080; text-decoration-color: #008080; font-weight: bold\">0</span>, <span style=\"color: #008000; text-decoration-color: #008000\">'audio_tokens'</span>: <span style=\"color: #008080; text-decoration-color: #008080; font-weight: bold\">0</span><span style=\"font-weight: bold\">}</span>\n",
       "<span style=\"font-weight: bold\">)</span>\n",
       "</pre>\n"
      ],
      "text/plain": [
       "\u001b[1;35mCompletionUsage\u001b[0m\u001b[1m(\u001b[0m\n",
       "    \u001b[33mcompletion_tokens\u001b[0m=\u001b[1;36m61\u001b[0m,\n",
       "    \u001b[33mprompt_tokens\u001b[0m=\u001b[1;36m2348\u001b[0m,\n",
       "    \u001b[33mtotal_tokens\u001b[0m=\u001b[1;36m2409\u001b[0m,\n",
       "    \u001b[33mcompletion_tokens_details\u001b[0m=\u001b[1;35mCompletionTokensDetails\u001b[0m\u001b[1m(\u001b[0m\n",
       "        \u001b[33mreasoning_tokens\u001b[0m=\u001b[1;36m0\u001b[0m,\n",
       "        \u001b[33maudio_tokens\u001b[0m=\u001b[1;36m0\u001b[0m,\n",
       "        \u001b[33maccepted_prediction_tokens\u001b[0m=\u001b[1;36m0\u001b[0m,\n",
       "        \u001b[33mrejected_prediction_tokens\u001b[0m=\u001b[1;36m0\u001b[0m\n",
       "    \u001b[1m)\u001b[0m,\n",
       "    \u001b[33mprompt_tokens_details\u001b[0m=\u001b[1m{\u001b[0m\u001b[32m'cached_tokens'\u001b[0m: \u001b[1;36m0\u001b[0m, \u001b[32m'audio_tokens'\u001b[0m: \u001b[1;36m0\u001b[0m\u001b[1m}\u001b[0m\n",
       "\u001b[1m)\u001b[0m\n"
      ]
     },
     "metadata": {},
     "output_type": "display_data"
    },
    {
     "data": {
      "text/html": [
       "<pre style=\"white-space:pre;overflow-x:auto;line-height:normal;font-family:Menlo,'DejaVu Sans Mono',consolas,'Courier New',monospace\">Response:  <span style=\"font-weight: bold\">[</span>Central Plaza, The Mall, Garden of Wonders<span style=\"font-weight: bold\">]</span>\n",
       "</pre>\n"
      ],
      "text/plain": [
       "Response:  \u001b[1m[\u001b[0mCentral Plaza, The Mall, Garden of Wonders\u001b[1m]\u001b[0m\n"
      ]
     },
     "metadata": {},
     "output_type": "display_data"
    },
    {
     "data": {
      "text/html": [
       "<pre style=\"white-space:pre;overflow-x:auto;line-height:normal;font-family:Menlo,'DejaVu Sans Mono',consolas,'Courier New',monospace\">stop:  stop\n",
       "</pre>\n"
      ],
      "text/plain": [
       "stop:  stop\n"
      ]
     },
     "metadata": {},
     "output_type": "display_data"
    },
    {
     "data": {
      "text/html": [
       "<pre style=\"white-space:pre;overflow-x:auto;line-height:normal;font-family:Menlo,'DejaVu Sans Mono',consolas,'Courier New',monospace\"><span style=\"color: #800080; text-decoration-color: #800080; font-weight: bold\">CompletionUsage</span><span style=\"font-weight: bold\">(</span>\n",
       "    <span style=\"color: #808000; text-decoration-color: #808000\">completion_tokens</span>=<span style=\"color: #008080; text-decoration-color: #008080; font-weight: bold\">12</span>,\n",
       "    <span style=\"color: #808000; text-decoration-color: #808000\">prompt_tokens</span>=<span style=\"color: #008080; text-decoration-color: #008080; font-weight: bold\">2292</span>,\n",
       "    <span style=\"color: #808000; text-decoration-color: #808000\">total_tokens</span>=<span style=\"color: #008080; text-decoration-color: #008080; font-weight: bold\">2304</span>,\n",
       "    <span style=\"color: #808000; text-decoration-color: #808000\">completion_tokens_details</span>=<span style=\"color: #800080; text-decoration-color: #800080; font-weight: bold\">CompletionTokensDetails</span><span style=\"font-weight: bold\">(</span>\n",
       "        <span style=\"color: #808000; text-decoration-color: #808000\">reasoning_tokens</span>=<span style=\"color: #008080; text-decoration-color: #008080; font-weight: bold\">0</span>,\n",
       "        <span style=\"color: #808000; text-decoration-color: #808000\">audio_tokens</span>=<span style=\"color: #008080; text-decoration-color: #008080; font-weight: bold\">0</span>,\n",
       "        <span style=\"color: #808000; text-decoration-color: #808000\">accepted_prediction_tokens</span>=<span style=\"color: #008080; text-decoration-color: #008080; font-weight: bold\">0</span>,\n",
       "        <span style=\"color: #808000; text-decoration-color: #808000\">rejected_prediction_tokens</span>=<span style=\"color: #008080; text-decoration-color: #008080; font-weight: bold\">0</span>\n",
       "    <span style=\"font-weight: bold\">)</span>,\n",
       "    <span style=\"color: #808000; text-decoration-color: #808000\">prompt_tokens_details</span>=<span style=\"font-weight: bold\">{</span><span style=\"color: #008000; text-decoration-color: #008000\">'cached_tokens'</span>: <span style=\"color: #008080; text-decoration-color: #008080; font-weight: bold\">0</span>, <span style=\"color: #008000; text-decoration-color: #008000\">'audio_tokens'</span>: <span style=\"color: #008080; text-decoration-color: #008080; font-weight: bold\">0</span><span style=\"font-weight: bold\">}</span>\n",
       "<span style=\"font-weight: bold\">)</span>\n",
       "</pre>\n"
      ],
      "text/plain": [
       "\u001b[1;35mCompletionUsage\u001b[0m\u001b[1m(\u001b[0m\n",
       "    \u001b[33mcompletion_tokens\u001b[0m=\u001b[1;36m12\u001b[0m,\n",
       "    \u001b[33mprompt_tokens\u001b[0m=\u001b[1;36m2292\u001b[0m,\n",
       "    \u001b[33mtotal_tokens\u001b[0m=\u001b[1;36m2304\u001b[0m,\n",
       "    \u001b[33mcompletion_tokens_details\u001b[0m=\u001b[1;35mCompletionTokensDetails\u001b[0m\u001b[1m(\u001b[0m\n",
       "        \u001b[33mreasoning_tokens\u001b[0m=\u001b[1;36m0\u001b[0m,\n",
       "        \u001b[33maudio_tokens\u001b[0m=\u001b[1;36m0\u001b[0m,\n",
       "        \u001b[33maccepted_prediction_tokens\u001b[0m=\u001b[1;36m0\u001b[0m,\n",
       "        \u001b[33mrejected_prediction_tokens\u001b[0m=\u001b[1;36m0\u001b[0m\n",
       "    \u001b[1m)\u001b[0m,\n",
       "    \u001b[33mprompt_tokens_details\u001b[0m=\u001b[1m{\u001b[0m\u001b[32m'cached_tokens'\u001b[0m: \u001b[1;36m0\u001b[0m, \u001b[32m'audio_tokens'\u001b[0m: \u001b[1;36m0\u001b[0m\u001b[1m}\u001b[0m\n",
       "\u001b[1m)\u001b[0m\n"
      ]
     },
     "metadata": {},
     "output_type": "display_data"
    },
    {
     "data": {
      "text/html": [
       "<pre style=\"white-space:pre;overflow-x:auto;line-height:normal;font-family:Menlo,'DejaVu Sans Mono',consolas,'Courier New',monospace\">Final proposal: <span style=\"font-weight: bold\">[</span>Central Plaza, The Mall, Garden of Wonders<span style=\"font-weight: bold\">]</span>\n",
       "</pre>\n"
      ],
      "text/plain": [
       "Final proposal: \u001b[1m[\u001b[0mCentral Plaza, The Mall, Garden of Wonders\u001b[1m]\u001b[0m\n"
      ]
     },
     "metadata": {},
     "output_type": "display_data"
    },
    {
     "data": {
      "text/html": [
       "<pre style=\"white-space:pre;overflow-x:auto;line-height:normal;font-family:Menlo,'DejaVu Sans Mono',consolas,'Courier New',monospace\">Response:  <span style=\"font-weight: bold\">[</span>message<span style=\"font-weight: bold\">]</span> Great, I've added Central Plaza and The Mall to your itinerary. Besides the budget limit, are \n",
       "there any other requirements for the last spot, like type of activity or location?\n",
       "</pre>\n"
      ],
      "text/plain": [
       "Response:  \u001b[1m[\u001b[0mmessage\u001b[1m]\u001b[0m Great, I've added Central Plaza and The Mall to your itinerary. Besides the budget limit, are \n",
       "there any other requirements for the last spot, like type of activity or location?\n"
      ]
     },
     "metadata": {},
     "output_type": "display_data"
    },
    {
     "data": {
      "text/html": [
       "<pre style=\"white-space:pre;overflow-x:auto;line-height:normal;font-family:Menlo,'DejaVu Sans Mono',consolas,'Courier New',monospace\">stop:  stop\n",
       "</pre>\n"
      ],
      "text/plain": [
       "stop:  stop\n"
      ]
     },
     "metadata": {},
     "output_type": "display_data"
    },
    {
     "data": {
      "text/html": [
       "<pre style=\"white-space:pre;overflow-x:auto;line-height:normal;font-family:Menlo,'DejaVu Sans Mono',consolas,'Courier New',monospace\"><span style=\"color: #800080; text-decoration-color: #800080; font-weight: bold\">CompletionUsage</span><span style=\"font-weight: bold\">(</span>\n",
       "    <span style=\"color: #808000; text-decoration-color: #808000\">completion_tokens</span>=<span style=\"color: #008080; text-decoration-color: #008080; font-weight: bold\">39</span>,\n",
       "    <span style=\"color: #808000; text-decoration-color: #808000\">prompt_tokens</span>=<span style=\"color: #008080; text-decoration-color: #008080; font-weight: bold\">2363</span>,\n",
       "    <span style=\"color: #808000; text-decoration-color: #808000\">total_tokens</span>=<span style=\"color: #008080; text-decoration-color: #008080; font-weight: bold\">2402</span>,\n",
       "    <span style=\"color: #808000; text-decoration-color: #808000\">completion_tokens_details</span>=<span style=\"color: #800080; text-decoration-color: #800080; font-weight: bold\">CompletionTokensDetails</span><span style=\"font-weight: bold\">(</span>\n",
       "        <span style=\"color: #808000; text-decoration-color: #808000\">reasoning_tokens</span>=<span style=\"color: #008080; text-decoration-color: #008080; font-weight: bold\">0</span>,\n",
       "        <span style=\"color: #808000; text-decoration-color: #808000\">audio_tokens</span>=<span style=\"color: #008080; text-decoration-color: #008080; font-weight: bold\">0</span>,\n",
       "        <span style=\"color: #808000; text-decoration-color: #808000\">accepted_prediction_tokens</span>=<span style=\"color: #008080; text-decoration-color: #008080; font-weight: bold\">0</span>,\n",
       "        <span style=\"color: #808000; text-decoration-color: #808000\">rejected_prediction_tokens</span>=<span style=\"color: #008080; text-decoration-color: #008080; font-weight: bold\">0</span>\n",
       "    <span style=\"font-weight: bold\">)</span>,\n",
       "    <span style=\"color: #808000; text-decoration-color: #808000\">prompt_tokens_details</span>=<span style=\"font-weight: bold\">{</span><span style=\"color: #008000; text-decoration-color: #008000\">'cached_tokens'</span>: <span style=\"color: #008080; text-decoration-color: #008080; font-weight: bold\">0</span>, <span style=\"color: #008000; text-decoration-color: #008000\">'audio_tokens'</span>: <span style=\"color: #008080; text-decoration-color: #008080; font-weight: bold\">0</span><span style=\"font-weight: bold\">}</span>\n",
       "<span style=\"font-weight: bold\">)</span>\n",
       "</pre>\n"
      ],
      "text/plain": [
       "\u001b[1;35mCompletionUsage\u001b[0m\u001b[1m(\u001b[0m\n",
       "    \u001b[33mcompletion_tokens\u001b[0m=\u001b[1;36m39\u001b[0m,\n",
       "    \u001b[33mprompt_tokens\u001b[0m=\u001b[1;36m2363\u001b[0m,\n",
       "    \u001b[33mtotal_tokens\u001b[0m=\u001b[1;36m2402\u001b[0m,\n",
       "    \u001b[33mcompletion_tokens_details\u001b[0m=\u001b[1;35mCompletionTokensDetails\u001b[0m\u001b[1m(\u001b[0m\n",
       "        \u001b[33mreasoning_tokens\u001b[0m=\u001b[1;36m0\u001b[0m,\n",
       "        \u001b[33maudio_tokens\u001b[0m=\u001b[1;36m0\u001b[0m,\n",
       "        \u001b[33maccepted_prediction_tokens\u001b[0m=\u001b[1;36m0\u001b[0m,\n",
       "        \u001b[33mrejected_prediction_tokens\u001b[0m=\u001b[1;36m0\u001b[0m\n",
       "    \u001b[1m)\u001b[0m,\n",
       "    \u001b[33mprompt_tokens_details\u001b[0m=\u001b[1m{\u001b[0m\u001b[32m'cached_tokens'\u001b[0m: \u001b[1;36m0\u001b[0m, \u001b[32m'audio_tokens'\u001b[0m: \u001b[1;36m0\u001b[0m\u001b[1m}\u001b[0m\n",
       "\u001b[1m)\u001b[0m\n"
      ]
     },
     "metadata": {},
     "output_type": "display_data"
    },
    {
     "data": {
      "text/html": [
       "<pre style=\"white-space:pre;overflow-x:auto;line-height:normal;font-family:Menlo,'DejaVu Sans Mono',consolas,'Courier New',monospace\">Response:  <span style=\"font-weight: bold\">[</span>Central Plaza, The Mall, NULL<span style=\"font-weight: bold\">]</span>\n",
       "</pre>\n"
      ],
      "text/plain": [
       "Response:  \u001b[1m[\u001b[0mCentral Plaza, The Mall, NULL\u001b[1m]\u001b[0m\n"
      ]
     },
     "metadata": {},
     "output_type": "display_data"
    },
    {
     "data": {
      "text/html": [
       "<pre style=\"white-space:pre;overflow-x:auto;line-height:normal;font-family:Menlo,'DejaVu Sans Mono',consolas,'Courier New',monospace\">stop:  stop\n",
       "</pre>\n"
      ],
      "text/plain": [
       "stop:  stop\n"
      ]
     },
     "metadata": {},
     "output_type": "display_data"
    },
    {
     "data": {
      "text/html": [
       "<pre style=\"white-space:pre;overflow-x:auto;line-height:normal;font-family:Menlo,'DejaVu Sans Mono',consolas,'Courier New',monospace\"><span style=\"color: #800080; text-decoration-color: #800080; font-weight: bold\">CompletionUsage</span><span style=\"font-weight: bold\">(</span>\n",
       "    <span style=\"color: #808000; text-decoration-color: #808000\">completion_tokens</span>=<span style=\"color: #008080; text-decoration-color: #008080; font-weight: bold\">9</span>,\n",
       "    <span style=\"color: #808000; text-decoration-color: #808000\">prompt_tokens</span>=<span style=\"color: #008080; text-decoration-color: #008080; font-weight: bold\">2307</span>,\n",
       "    <span style=\"color: #808000; text-decoration-color: #808000\">total_tokens</span>=<span style=\"color: #008080; text-decoration-color: #008080; font-weight: bold\">2316</span>,\n",
       "    <span style=\"color: #808000; text-decoration-color: #808000\">completion_tokens_details</span>=<span style=\"color: #800080; text-decoration-color: #800080; font-weight: bold\">CompletionTokensDetails</span><span style=\"font-weight: bold\">(</span>\n",
       "        <span style=\"color: #808000; text-decoration-color: #808000\">reasoning_tokens</span>=<span style=\"color: #008080; text-decoration-color: #008080; font-weight: bold\">0</span>,\n",
       "        <span style=\"color: #808000; text-decoration-color: #808000\">audio_tokens</span>=<span style=\"color: #008080; text-decoration-color: #008080; font-weight: bold\">0</span>,\n",
       "        <span style=\"color: #808000; text-decoration-color: #808000\">accepted_prediction_tokens</span>=<span style=\"color: #008080; text-decoration-color: #008080; font-weight: bold\">0</span>,\n",
       "        <span style=\"color: #808000; text-decoration-color: #808000\">rejected_prediction_tokens</span>=<span style=\"color: #008080; text-decoration-color: #008080; font-weight: bold\">0</span>\n",
       "    <span style=\"font-weight: bold\">)</span>,\n",
       "    <span style=\"color: #808000; text-decoration-color: #808000\">prompt_tokens_details</span>=<span style=\"font-weight: bold\">{</span><span style=\"color: #008000; text-decoration-color: #008000\">'cached_tokens'</span>: <span style=\"color: #008080; text-decoration-color: #008080; font-weight: bold\">0</span>, <span style=\"color: #008000; text-decoration-color: #008000\">'audio_tokens'</span>: <span style=\"color: #008080; text-decoration-color: #008080; font-weight: bold\">0</span><span style=\"font-weight: bold\">}</span>\n",
       "<span style=\"font-weight: bold\">)</span>\n",
       "</pre>\n"
      ],
      "text/plain": [
       "\u001b[1;35mCompletionUsage\u001b[0m\u001b[1m(\u001b[0m\n",
       "    \u001b[33mcompletion_tokens\u001b[0m=\u001b[1;36m9\u001b[0m,\n",
       "    \u001b[33mprompt_tokens\u001b[0m=\u001b[1;36m2307\u001b[0m,\n",
       "    \u001b[33mtotal_tokens\u001b[0m=\u001b[1;36m2316\u001b[0m,\n",
       "    \u001b[33mcompletion_tokens_details\u001b[0m=\u001b[1;35mCompletionTokensDetails\u001b[0m\u001b[1m(\u001b[0m\n",
       "        \u001b[33mreasoning_tokens\u001b[0m=\u001b[1;36m0\u001b[0m,\n",
       "        \u001b[33maudio_tokens\u001b[0m=\u001b[1;36m0\u001b[0m,\n",
       "        \u001b[33maccepted_prediction_tokens\u001b[0m=\u001b[1;36m0\u001b[0m,\n",
       "        \u001b[33mrejected_prediction_tokens\u001b[0m=\u001b[1;36m0\u001b[0m\n",
       "    \u001b[1m)\u001b[0m,\n",
       "    \u001b[33mprompt_tokens_details\u001b[0m=\u001b[1m{\u001b[0m\u001b[32m'cached_tokens'\u001b[0m: \u001b[1;36m0\u001b[0m, \u001b[32m'audio_tokens'\u001b[0m: \u001b[1;36m0\u001b[0m\u001b[1m}\u001b[0m\n",
       "\u001b[1m)\u001b[0m\n"
      ]
     },
     "metadata": {},
     "output_type": "display_data"
    },
    {
     "data": {
      "text/html": [
       "<pre style=\"white-space:pre;overflow-x:auto;line-height:normal;font-family:Menlo,'DejaVu Sans Mono',consolas,'Courier New',monospace\">Final proposal: <span style=\"font-weight: bold\">[</span>Central Plaza, The Mall, NULL<span style=\"font-weight: bold\">]</span>\n",
       "</pre>\n"
      ],
      "text/plain": [
       "Final proposal: \u001b[1m[\u001b[0mCentral Plaza, The Mall, NULL\u001b[1m]\u001b[0m\n"
      ]
     },
     "metadata": {},
     "output_type": "display_data"
    },
    {
     "data": {
      "text/html": [
       "<pre style=\"white-space:pre;overflow-x:auto;line-height:normal;font-family:Menlo,'DejaVu Sans Mono',consolas,'Courier New',monospace\">Response:  <span style=\"font-weight: bold\">[</span>message<span style=\"font-weight: bold\">]</span> Given that you've chosen Central Plaza and The Mall and since parking isn't a deal breaker, we\n",
       "can focus on your remaining preferences for our last destination. For the final spot, you would like a trendy, \n",
       "non-touristy landmark, perhaps a restaurant with vegan and/or vegetarian options within a cuisine of either \n",
       "American, French, Korean or Japanese that serves cocktails or beer, correct? Anything I've missed or got wrong?\n",
       "</pre>\n"
      ],
      "text/plain": [
       "Response:  \u001b[1m[\u001b[0mmessage\u001b[1m]\u001b[0m Given that you've chosen Central Plaza and The Mall and since parking isn't a deal breaker, we\n",
       "can focus on your remaining preferences for our last destination. For the final spot, you would like a trendy, \n",
       "non-touristy landmark, perhaps a restaurant with vegan and/or vegetarian options within a cuisine of either \n",
       "American, French, Korean or Japanese that serves cocktails or beer, correct? Anything I've missed or got wrong?\n"
      ]
     },
     "metadata": {},
     "output_type": "display_data"
    },
    {
     "data": {
      "text/html": [
       "<pre style=\"white-space:pre;overflow-x:auto;line-height:normal;font-family:Menlo,'DejaVu Sans Mono',consolas,'Courier New',monospace\">stop:  stop\n",
       "</pre>\n"
      ],
      "text/plain": [
       "stop:  stop\n"
      ]
     },
     "metadata": {},
     "output_type": "display_data"
    },
    {
     "data": {
      "text/html": [
       "<pre style=\"white-space:pre;overflow-x:auto;line-height:normal;font-family:Menlo,'DejaVu Sans Mono',consolas,'Courier New',monospace\"><span style=\"color: #800080; text-decoration-color: #800080; font-weight: bold\">CompletionUsage</span><span style=\"font-weight: bold\">(</span>\n",
       "    <span style=\"color: #808000; text-decoration-color: #808000\">completion_tokens</span>=<span style=\"color: #008080; text-decoration-color: #008080; font-weight: bold\">88</span>,\n",
       "    <span style=\"color: #808000; text-decoration-color: #808000\">prompt_tokens</span>=<span style=\"color: #008080; text-decoration-color: #008080; font-weight: bold\">2582</span>,\n",
       "    <span style=\"color: #808000; text-decoration-color: #808000\">total_tokens</span>=<span style=\"color: #008080; text-decoration-color: #008080; font-weight: bold\">2670</span>,\n",
       "    <span style=\"color: #808000; text-decoration-color: #808000\">completion_tokens_details</span>=<span style=\"color: #800080; text-decoration-color: #800080; font-weight: bold\">CompletionTokensDetails</span><span style=\"font-weight: bold\">(</span>\n",
       "        <span style=\"color: #808000; text-decoration-color: #808000\">reasoning_tokens</span>=<span style=\"color: #008080; text-decoration-color: #008080; font-weight: bold\">0</span>,\n",
       "        <span style=\"color: #808000; text-decoration-color: #808000\">audio_tokens</span>=<span style=\"color: #008080; text-decoration-color: #008080; font-weight: bold\">0</span>,\n",
       "        <span style=\"color: #808000; text-decoration-color: #808000\">accepted_prediction_tokens</span>=<span style=\"color: #008080; text-decoration-color: #008080; font-weight: bold\">0</span>,\n",
       "        <span style=\"color: #808000; text-decoration-color: #808000\">rejected_prediction_tokens</span>=<span style=\"color: #008080; text-decoration-color: #008080; font-weight: bold\">0</span>\n",
       "    <span style=\"font-weight: bold\">)</span>,\n",
       "    <span style=\"color: #808000; text-decoration-color: #808000\">prompt_tokens_details</span>=<span style=\"font-weight: bold\">{</span><span style=\"color: #008000; text-decoration-color: #008000\">'cached_tokens'</span>: <span style=\"color: #008080; text-decoration-color: #008080; font-weight: bold\">0</span>, <span style=\"color: #008000; text-decoration-color: #008000\">'audio_tokens'</span>: <span style=\"color: #008080; text-decoration-color: #008080; font-weight: bold\">0</span><span style=\"font-weight: bold\">}</span>\n",
       "<span style=\"font-weight: bold\">)</span>\n",
       "</pre>\n"
      ],
      "text/plain": [
       "\u001b[1;35mCompletionUsage\u001b[0m\u001b[1m(\u001b[0m\n",
       "    \u001b[33mcompletion_tokens\u001b[0m=\u001b[1;36m88\u001b[0m,\n",
       "    \u001b[33mprompt_tokens\u001b[0m=\u001b[1;36m2582\u001b[0m,\n",
       "    \u001b[33mtotal_tokens\u001b[0m=\u001b[1;36m2670\u001b[0m,\n",
       "    \u001b[33mcompletion_tokens_details\u001b[0m=\u001b[1;35mCompletionTokensDetails\u001b[0m\u001b[1m(\u001b[0m\n",
       "        \u001b[33mreasoning_tokens\u001b[0m=\u001b[1;36m0\u001b[0m,\n",
       "        \u001b[33maudio_tokens\u001b[0m=\u001b[1;36m0\u001b[0m,\n",
       "        \u001b[33maccepted_prediction_tokens\u001b[0m=\u001b[1;36m0\u001b[0m,\n",
       "        \u001b[33mrejected_prediction_tokens\u001b[0m=\u001b[1;36m0\u001b[0m\n",
       "    \u001b[1m)\u001b[0m,\n",
       "    \u001b[33mprompt_tokens_details\u001b[0m=\u001b[1m{\u001b[0m\u001b[32m'cached_tokens'\u001b[0m: \u001b[1;36m0\u001b[0m, \u001b[32m'audio_tokens'\u001b[0m: \u001b[1;36m0\u001b[0m\u001b[1m}\u001b[0m\n",
       "\u001b[1m)\u001b[0m\n"
      ]
     },
     "metadata": {},
     "output_type": "display_data"
    },
    {
     "data": {
      "text/html": [
       "<pre style=\"white-space:pre;overflow-x:auto;line-height:normal;font-family:Menlo,'DejaVu Sans Mono',consolas,'Courier New',monospace\">Response:  <span style=\"font-weight: bold\">[</span>Central Plaza, The Mall, Riverside Terrace<span style=\"font-weight: bold\">]</span>\n",
       "</pre>\n"
      ],
      "text/plain": [
       "Response:  \u001b[1m[\u001b[0mCentral Plaza, The Mall, Riverside Terrace\u001b[1m]\u001b[0m\n"
      ]
     },
     "metadata": {},
     "output_type": "display_data"
    },
    {
     "data": {
      "text/html": [
       "<pre style=\"white-space:pre;overflow-x:auto;line-height:normal;font-family:Menlo,'DejaVu Sans Mono',consolas,'Courier New',monospace\">stop:  stop\n",
       "</pre>\n"
      ],
      "text/plain": [
       "stop:  stop\n"
      ]
     },
     "metadata": {},
     "output_type": "display_data"
    },
    {
     "data": {
      "text/html": [
       "<pre style=\"white-space:pre;overflow-x:auto;line-height:normal;font-family:Menlo,'DejaVu Sans Mono',consolas,'Courier New',monospace\"><span style=\"color: #800080; text-decoration-color: #800080; font-weight: bold\">CompletionUsage</span><span style=\"font-weight: bold\">(</span>\n",
       "    <span style=\"color: #808000; text-decoration-color: #808000\">completion_tokens</span>=<span style=\"color: #008080; text-decoration-color: #008080; font-weight: bold\">10</span>,\n",
       "    <span style=\"color: #808000; text-decoration-color: #808000\">prompt_tokens</span>=<span style=\"color: #008080; text-decoration-color: #008080; font-weight: bold\">2526</span>,\n",
       "    <span style=\"color: #808000; text-decoration-color: #808000\">total_tokens</span>=<span style=\"color: #008080; text-decoration-color: #008080; font-weight: bold\">2536</span>,\n",
       "    <span style=\"color: #808000; text-decoration-color: #808000\">completion_tokens_details</span>=<span style=\"color: #800080; text-decoration-color: #800080; font-weight: bold\">CompletionTokensDetails</span><span style=\"font-weight: bold\">(</span>\n",
       "        <span style=\"color: #808000; text-decoration-color: #808000\">reasoning_tokens</span>=<span style=\"color: #008080; text-decoration-color: #008080; font-weight: bold\">0</span>,\n",
       "        <span style=\"color: #808000; text-decoration-color: #808000\">audio_tokens</span>=<span style=\"color: #008080; text-decoration-color: #008080; font-weight: bold\">0</span>,\n",
       "        <span style=\"color: #808000; text-decoration-color: #808000\">accepted_prediction_tokens</span>=<span style=\"color: #008080; text-decoration-color: #008080; font-weight: bold\">0</span>,\n",
       "        <span style=\"color: #808000; text-decoration-color: #808000\">rejected_prediction_tokens</span>=<span style=\"color: #008080; text-decoration-color: #008080; font-weight: bold\">0</span>\n",
       "    <span style=\"font-weight: bold\">)</span>,\n",
       "    <span style=\"color: #808000; text-decoration-color: #808000\">prompt_tokens_details</span>=<span style=\"font-weight: bold\">{</span><span style=\"color: #008000; text-decoration-color: #008000\">'cached_tokens'</span>: <span style=\"color: #008080; text-decoration-color: #008080; font-weight: bold\">0</span>, <span style=\"color: #008000; text-decoration-color: #008000\">'audio_tokens'</span>: <span style=\"color: #008080; text-decoration-color: #008080; font-weight: bold\">0</span><span style=\"font-weight: bold\">}</span>\n",
       "<span style=\"font-weight: bold\">)</span>\n",
       "</pre>\n"
      ],
      "text/plain": [
       "\u001b[1;35mCompletionUsage\u001b[0m\u001b[1m(\u001b[0m\n",
       "    \u001b[33mcompletion_tokens\u001b[0m=\u001b[1;36m10\u001b[0m,\n",
       "    \u001b[33mprompt_tokens\u001b[0m=\u001b[1;36m2526\u001b[0m,\n",
       "    \u001b[33mtotal_tokens\u001b[0m=\u001b[1;36m2536\u001b[0m,\n",
       "    \u001b[33mcompletion_tokens_details\u001b[0m=\u001b[1;35mCompletionTokensDetails\u001b[0m\u001b[1m(\u001b[0m\n",
       "        \u001b[33mreasoning_tokens\u001b[0m=\u001b[1;36m0\u001b[0m,\n",
       "        \u001b[33maudio_tokens\u001b[0m=\u001b[1;36m0\u001b[0m,\n",
       "        \u001b[33maccepted_prediction_tokens\u001b[0m=\u001b[1;36m0\u001b[0m,\n",
       "        \u001b[33mrejected_prediction_tokens\u001b[0m=\u001b[1;36m0\u001b[0m\n",
       "    \u001b[1m)\u001b[0m,\n",
       "    \u001b[33mprompt_tokens_details\u001b[0m=\u001b[1m{\u001b[0m\u001b[32m'cached_tokens'\u001b[0m: \u001b[1;36m0\u001b[0m, \u001b[32m'audio_tokens'\u001b[0m: \u001b[1;36m0\u001b[0m\u001b[1m}\u001b[0m\n",
       "\u001b[1m)\u001b[0m\n"
      ]
     },
     "metadata": {},
     "output_type": "display_data"
    },
    {
     "data": {
      "text/html": [
       "<pre style=\"white-space:pre;overflow-x:auto;line-height:normal;font-family:Menlo,'DejaVu Sans Mono',consolas,'Courier New',monospace\">Final proposal: <span style=\"font-weight: bold\">[</span>Central Plaza, The Mall, Riverside Terrace<span style=\"font-weight: bold\">]</span>\n",
       "</pre>\n"
      ],
      "text/plain": [
       "Final proposal: \u001b[1m[\u001b[0mCentral Plaza, The Mall, Riverside Terrace\u001b[1m]\u001b[0m\n"
      ]
     },
     "metadata": {},
     "output_type": "display_data"
    },
    {
     "data": {
      "text/html": [
       "<pre style=\"white-space:pre;overflow-x:auto;line-height:normal;font-family:Menlo,'DejaVu Sans Mono',consolas,'Courier New',monospace\">Response:  <span style=\"font-weight: bold\">[</span>tool<span style=\"font-weight: bold\">]</span> <span style=\"color: #800080; text-decoration-color: #800080; font-weight: bold\">Search</span><span style=\"font-weight: bold\">(</span><span style=\"color: #808000; text-decoration-color: #808000\">fields</span>=<span style=\"font-weight: bold\">[</span>name, category, has parking<span style=\"font-weight: bold\">]</span>, <span style=\"color: #808000; text-decoration-color: #808000\">filters</span>=<span style=\"font-weight: bold\">[</span>name == Hindenberg Memorial<span style=\"font-weight: bold\">])</span>\n",
       "</pre>\n"
      ],
      "text/plain": [
       "Response:  \u001b[1m[\u001b[0mtool\u001b[1m]\u001b[0m \u001b[1;35mSearch\u001b[0m\u001b[1m(\u001b[0m\u001b[33mfields\u001b[0m=\u001b[1m[\u001b[0mname, category, has parking\u001b[1m]\u001b[0m, \u001b[33mfilters\u001b[0m=\u001b[1m[\u001b[0mname == Hindenberg Memorial\u001b[1m]\u001b[0m\u001b[1m)\u001b[0m\n"
      ]
     },
     "metadata": {},
     "output_type": "display_data"
    },
    {
     "data": {
      "text/html": [
       "<pre style=\"white-space:pre;overflow-x:auto;line-height:normal;font-family:Menlo,'DejaVu Sans Mono',consolas,'Courier New',monospace\">stop:  stop\n",
       "</pre>\n"
      ],
      "text/plain": [
       "stop:  stop\n"
      ]
     },
     "metadata": {},
     "output_type": "display_data"
    },
    {
     "data": {
      "text/html": [
       "<pre style=\"white-space:pre;overflow-x:auto;line-height:normal;font-family:Menlo,'DejaVu Sans Mono',consolas,'Courier New',monospace\"><span style=\"color: #800080; text-decoration-color: #800080; font-weight: bold\">CompletionUsage</span><span style=\"font-weight: bold\">(</span>\n",
       "    <span style=\"color: #808000; text-decoration-color: #808000\">completion_tokens</span>=<span style=\"color: #008080; text-decoration-color: #008080; font-weight: bold\">21</span>,\n",
       "    <span style=\"color: #808000; text-decoration-color: #808000\">prompt_tokens</span>=<span style=\"color: #008080; text-decoration-color: #008080; font-weight: bold\">3086</span>,\n",
       "    <span style=\"color: #808000; text-decoration-color: #808000\">total_tokens</span>=<span style=\"color: #008080; text-decoration-color: #008080; font-weight: bold\">3107</span>,\n",
       "    <span style=\"color: #808000; text-decoration-color: #808000\">completion_tokens_details</span>=<span style=\"color: #800080; text-decoration-color: #800080; font-weight: bold\">CompletionTokensDetails</span><span style=\"font-weight: bold\">(</span>\n",
       "        <span style=\"color: #808000; text-decoration-color: #808000\">reasoning_tokens</span>=<span style=\"color: #008080; text-decoration-color: #008080; font-weight: bold\">0</span>,\n",
       "        <span style=\"color: #808000; text-decoration-color: #808000\">audio_tokens</span>=<span style=\"color: #008080; text-decoration-color: #008080; font-weight: bold\">0</span>,\n",
       "        <span style=\"color: #808000; text-decoration-color: #808000\">accepted_prediction_tokens</span>=<span style=\"color: #008080; text-decoration-color: #008080; font-weight: bold\">0</span>,\n",
       "        <span style=\"color: #808000; text-decoration-color: #808000\">rejected_prediction_tokens</span>=<span style=\"color: #008080; text-decoration-color: #008080; font-weight: bold\">0</span>\n",
       "    <span style=\"font-weight: bold\">)</span>,\n",
       "    <span style=\"color: #808000; text-decoration-color: #808000\">prompt_tokens_details</span>=<span style=\"font-weight: bold\">{</span><span style=\"color: #008000; text-decoration-color: #008000\">'cached_tokens'</span>: <span style=\"color: #008080; text-decoration-color: #008080; font-weight: bold\">0</span>, <span style=\"color: #008000; text-decoration-color: #008000\">'audio_tokens'</span>: <span style=\"color: #008080; text-decoration-color: #008080; font-weight: bold\">0</span><span style=\"font-weight: bold\">}</span>\n",
       "<span style=\"font-weight: bold\">)</span>\n",
       "</pre>\n"
      ],
      "text/plain": [
       "\u001b[1;35mCompletionUsage\u001b[0m\u001b[1m(\u001b[0m\n",
       "    \u001b[33mcompletion_tokens\u001b[0m=\u001b[1;36m21\u001b[0m,\n",
       "    \u001b[33mprompt_tokens\u001b[0m=\u001b[1;36m3086\u001b[0m,\n",
       "    \u001b[33mtotal_tokens\u001b[0m=\u001b[1;36m3107\u001b[0m,\n",
       "    \u001b[33mcompletion_tokens_details\u001b[0m=\u001b[1;35mCompletionTokensDetails\u001b[0m\u001b[1m(\u001b[0m\n",
       "        \u001b[33mreasoning_tokens\u001b[0m=\u001b[1;36m0\u001b[0m,\n",
       "        \u001b[33maudio_tokens\u001b[0m=\u001b[1;36m0\u001b[0m,\n",
       "        \u001b[33maccepted_prediction_tokens\u001b[0m=\u001b[1;36m0\u001b[0m,\n",
       "        \u001b[33mrejected_prediction_tokens\u001b[0m=\u001b[1;36m0\u001b[0m\n",
       "    \u001b[1m)\u001b[0m,\n",
       "    \u001b[33mprompt_tokens_details\u001b[0m=\u001b[1m{\u001b[0m\u001b[32m'cached_tokens'\u001b[0m: \u001b[1;36m0\u001b[0m, \u001b[32m'audio_tokens'\u001b[0m: \u001b[1;36m0\u001b[0m\u001b[1m}\u001b[0m\n",
       "\u001b[1m)\u001b[0m\n"
      ]
     },
     "metadata": {},
     "output_type": "display_data"
    },
    {
     "name": "stdout",
     "output_type": "stream",
     "text": [
      "ChatCompletion(id='chatcmpl-ATlInXIieI6a38vU0DMsz21n3WKWu', choices=[Choice(finish_reason='stop', index=0, logprobs=None, message=ChatCompletionMessage(content='Search Results (1):\\nname|category|has parking\\nHindenberg Memorial|landmark|False', refusal=None, role='assistant', function_call=None, tool_calls=None))], created=1731656705, model='gpt-4o-2024-08-06', object='chat.completion', service_tier=None, system_fingerprint='fp_467dc6e35f', usage=CompletionUsage(completion_tokens=21, prompt_tokens=3233, total_tokens=3254, completion_tokens_details=CompletionTokensDetails(reasoning_tokens=0, audio_tokens=0, accepted_prediction_tokens=0, rejected_prediction_tokens=0), prompt_tokens_details={'cached_tokens': 3072, 'audio_tokens': 0}))\n"
     ]
    },
    {
     "data": {
      "text/html": [
       "<pre style=\"white-space:pre;overflow-x:auto;line-height:normal;font-family:Menlo,'DejaVu Sans Mono',consolas,'Courier New',monospace\">Response:  <span style=\"font-weight: bold\">[</span>message<span style=\"font-weight: bold\">]</span> Understood! So, Central Plaza, The Mall and a quiet landmark within a budget of $<span style=\"color: #008080; text-decoration-color: #008080; font-weight: bold\">70</span> are your \n",
       "primary requirements. Would you like a particular landmark or any would suffice?\n",
       "</pre>\n"
      ],
      "text/plain": [
       "Response:  \u001b[1m[\u001b[0mmessage\u001b[1m]\u001b[0m Understood! So, Central Plaza, The Mall and a quiet landmark within a budget of $\u001b[1;36m70\u001b[0m are your \n",
       "primary requirements. Would you like a particular landmark or any would suffice?\n"
      ]
     },
     "metadata": {},
     "output_type": "display_data"
    },
    {
     "data": {
      "text/html": [
       "<pre style=\"white-space:pre;overflow-x:auto;line-height:normal;font-family:Menlo,'DejaVu Sans Mono',consolas,'Courier New',monospace\">stop:  stop\n",
       "</pre>\n"
      ],
      "text/plain": [
       "stop:  stop\n"
      ]
     },
     "metadata": {},
     "output_type": "display_data"
    },
    {
     "data": {
      "text/html": [
       "<pre style=\"white-space:pre;overflow-x:auto;line-height:normal;font-family:Menlo,'DejaVu Sans Mono',consolas,'Courier New',monospace\"><span style=\"color: #800080; text-decoration-color: #800080; font-weight: bold\">CompletionUsage</span><span style=\"font-weight: bold\">(</span>\n",
       "    <span style=\"color: #808000; text-decoration-color: #808000\">completion_tokens</span>=<span style=\"color: #008080; text-decoration-color: #008080; font-weight: bold\">39</span>,\n",
       "    <span style=\"color: #808000; text-decoration-color: #808000\">prompt_tokens</span>=<span style=\"color: #008080; text-decoration-color: #008080; font-weight: bold\">3130</span>,\n",
       "    <span style=\"color: #808000; text-decoration-color: #808000\">total_tokens</span>=<span style=\"color: #008080; text-decoration-color: #008080; font-weight: bold\">3169</span>,\n",
       "    <span style=\"color: #808000; text-decoration-color: #808000\">completion_tokens_details</span>=<span style=\"color: #800080; text-decoration-color: #800080; font-weight: bold\">CompletionTokensDetails</span><span style=\"font-weight: bold\">(</span>\n",
       "        <span style=\"color: #808000; text-decoration-color: #808000\">reasoning_tokens</span>=<span style=\"color: #008080; text-decoration-color: #008080; font-weight: bold\">0</span>,\n",
       "        <span style=\"color: #808000; text-decoration-color: #808000\">audio_tokens</span>=<span style=\"color: #008080; text-decoration-color: #008080; font-weight: bold\">0</span>,\n",
       "        <span style=\"color: #808000; text-decoration-color: #808000\">accepted_prediction_tokens</span>=<span style=\"color: #008080; text-decoration-color: #008080; font-weight: bold\">0</span>,\n",
       "        <span style=\"color: #808000; text-decoration-color: #808000\">rejected_prediction_tokens</span>=<span style=\"color: #008080; text-decoration-color: #008080; font-weight: bold\">0</span>\n",
       "    <span style=\"font-weight: bold\">)</span>,\n",
       "    <span style=\"color: #808000; text-decoration-color: #808000\">prompt_tokens_details</span>=<span style=\"font-weight: bold\">{</span><span style=\"color: #008000; text-decoration-color: #008000\">'cached_tokens'</span>: <span style=\"color: #008080; text-decoration-color: #008080; font-weight: bold\">0</span>, <span style=\"color: #008000; text-decoration-color: #008000\">'audio_tokens'</span>: <span style=\"color: #008080; text-decoration-color: #008080; font-weight: bold\">0</span><span style=\"font-weight: bold\">}</span>\n",
       "<span style=\"font-weight: bold\">)</span>\n",
       "</pre>\n"
      ],
      "text/plain": [
       "\u001b[1;35mCompletionUsage\u001b[0m\u001b[1m(\u001b[0m\n",
       "    \u001b[33mcompletion_tokens\u001b[0m=\u001b[1;36m39\u001b[0m,\n",
       "    \u001b[33mprompt_tokens\u001b[0m=\u001b[1;36m3130\u001b[0m,\n",
       "    \u001b[33mtotal_tokens\u001b[0m=\u001b[1;36m3169\u001b[0m,\n",
       "    \u001b[33mcompletion_tokens_details\u001b[0m=\u001b[1;35mCompletionTokensDetails\u001b[0m\u001b[1m(\u001b[0m\n",
       "        \u001b[33mreasoning_tokens\u001b[0m=\u001b[1;36m0\u001b[0m,\n",
       "        \u001b[33maudio_tokens\u001b[0m=\u001b[1;36m0\u001b[0m,\n",
       "        \u001b[33maccepted_prediction_tokens\u001b[0m=\u001b[1;36m0\u001b[0m,\n",
       "        \u001b[33mrejected_prediction_tokens\u001b[0m=\u001b[1;36m0\u001b[0m\n",
       "    \u001b[1m)\u001b[0m,\n",
       "    \u001b[33mprompt_tokens_details\u001b[0m=\u001b[1m{\u001b[0m\u001b[32m'cached_tokens'\u001b[0m: \u001b[1;36m0\u001b[0m, \u001b[32m'audio_tokens'\u001b[0m: \u001b[1;36m0\u001b[0m\u001b[1m}\u001b[0m\n",
       "\u001b[1m)\u001b[0m\n"
      ]
     },
     "metadata": {},
     "output_type": "display_data"
    },
    {
     "data": {
      "text/html": [
       "<pre style=\"white-space:pre;overflow-x:auto;line-height:normal;font-family:Menlo,'DejaVu Sans Mono',consolas,'Courier New',monospace\">Response:  <span style=\"font-weight: bold\">[</span>Central Plaza, The Mall, Hindenberg Memorial<span style=\"font-weight: bold\">]</span>\n",
       "</pre>\n"
      ],
      "text/plain": [
       "Response:  \u001b[1m[\u001b[0mCentral Plaza, The Mall, Hindenberg Memorial\u001b[1m]\u001b[0m\n"
      ]
     },
     "metadata": {},
     "output_type": "display_data"
    },
    {
     "data": {
      "text/html": [
       "<pre style=\"white-space:pre;overflow-x:auto;line-height:normal;font-family:Menlo,'DejaVu Sans Mono',consolas,'Courier New',monospace\">stop:  stop\n",
       "</pre>\n"
      ],
      "text/plain": [
       "stop:  stop\n"
      ]
     },
     "metadata": {},
     "output_type": "display_data"
    },
    {
     "data": {
      "text/html": [
       "<pre style=\"white-space:pre;overflow-x:auto;line-height:normal;font-family:Menlo,'DejaVu Sans Mono',consolas,'Courier New',monospace\"><span style=\"color: #800080; text-decoration-color: #800080; font-weight: bold\">CompletionUsage</span><span style=\"font-weight: bold\">(</span>\n",
       "    <span style=\"color: #808000; text-decoration-color: #808000\">completion_tokens</span>=<span style=\"color: #008080; text-decoration-color: #008080; font-weight: bold\">11</span>,\n",
       "    <span style=\"color: #808000; text-decoration-color: #808000\">prompt_tokens</span>=<span style=\"color: #008080; text-decoration-color: #008080; font-weight: bold\">3073</span>,\n",
       "    <span style=\"color: #808000; text-decoration-color: #808000\">total_tokens</span>=<span style=\"color: #008080; text-decoration-color: #008080; font-weight: bold\">3084</span>,\n",
       "    <span style=\"color: #808000; text-decoration-color: #808000\">completion_tokens_details</span>=<span style=\"color: #800080; text-decoration-color: #800080; font-weight: bold\">CompletionTokensDetails</span><span style=\"font-weight: bold\">(</span>\n",
       "        <span style=\"color: #808000; text-decoration-color: #808000\">reasoning_tokens</span>=<span style=\"color: #008080; text-decoration-color: #008080; font-weight: bold\">0</span>,\n",
       "        <span style=\"color: #808000; text-decoration-color: #808000\">audio_tokens</span>=<span style=\"color: #008080; text-decoration-color: #008080; font-weight: bold\">0</span>,\n",
       "        <span style=\"color: #808000; text-decoration-color: #808000\">accepted_prediction_tokens</span>=<span style=\"color: #008080; text-decoration-color: #008080; font-weight: bold\">0</span>,\n",
       "        <span style=\"color: #808000; text-decoration-color: #808000\">rejected_prediction_tokens</span>=<span style=\"color: #008080; text-decoration-color: #008080; font-weight: bold\">0</span>\n",
       "    <span style=\"font-weight: bold\">)</span>,\n",
       "    <span style=\"color: #808000; text-decoration-color: #808000\">prompt_tokens_details</span>=<span style=\"font-weight: bold\">{</span><span style=\"color: #008000; text-decoration-color: #008000\">'cached_tokens'</span>: <span style=\"color: #008080; text-decoration-color: #008080; font-weight: bold\">0</span>, <span style=\"color: #008000; text-decoration-color: #008000\">'audio_tokens'</span>: <span style=\"color: #008080; text-decoration-color: #008080; font-weight: bold\">0</span><span style=\"font-weight: bold\">}</span>\n",
       "<span style=\"font-weight: bold\">)</span>\n",
       "</pre>\n"
      ],
      "text/plain": [
       "\u001b[1;35mCompletionUsage\u001b[0m\u001b[1m(\u001b[0m\n",
       "    \u001b[33mcompletion_tokens\u001b[0m=\u001b[1;36m11\u001b[0m,\n",
       "    \u001b[33mprompt_tokens\u001b[0m=\u001b[1;36m3073\u001b[0m,\n",
       "    \u001b[33mtotal_tokens\u001b[0m=\u001b[1;36m3084\u001b[0m,\n",
       "    \u001b[33mcompletion_tokens_details\u001b[0m=\u001b[1;35mCompletionTokensDetails\u001b[0m\u001b[1m(\u001b[0m\n",
       "        \u001b[33mreasoning_tokens\u001b[0m=\u001b[1;36m0\u001b[0m,\n",
       "        \u001b[33maudio_tokens\u001b[0m=\u001b[1;36m0\u001b[0m,\n",
       "        \u001b[33maccepted_prediction_tokens\u001b[0m=\u001b[1;36m0\u001b[0m,\n",
       "        \u001b[33mrejected_prediction_tokens\u001b[0m=\u001b[1;36m0\u001b[0m\n",
       "    \u001b[1m)\u001b[0m,\n",
       "    \u001b[33mprompt_tokens_details\u001b[0m=\u001b[1m{\u001b[0m\u001b[32m'cached_tokens'\u001b[0m: \u001b[1;36m0\u001b[0m, \u001b[32m'audio_tokens'\u001b[0m: \u001b[1;36m0\u001b[0m\u001b[1m}\u001b[0m\n",
       "\u001b[1m)\u001b[0m\n"
      ]
     },
     "metadata": {},
     "output_type": "display_data"
    },
    {
     "data": {
      "text/html": [
       "<pre style=\"white-space:pre;overflow-x:auto;line-height:normal;font-family:Menlo,'DejaVu Sans Mono',consolas,'Courier New',monospace\">Final proposal: <span style=\"font-weight: bold\">[</span>Central Plaza, The Mall, Hindenberg Memorial<span style=\"font-weight: bold\">]</span>\n",
       "</pre>\n"
      ],
      "text/plain": [
       "Final proposal: \u001b[1m[\u001b[0mCentral Plaza, The Mall, Hindenberg Memorial\u001b[1m]\u001b[0m\n"
      ]
     },
     "metadata": {},
     "output_type": "display_data"
    },
    {
     "data": {
      "text/html": [
       "<pre style=\"white-space:pre;overflow-x:auto;line-height:normal;font-family:Menlo,'DejaVu Sans Mono',consolas,'Courier New',monospace\">Response:  <span style=\"font-weight: bold\">[</span>message<span style=\"font-weight: bold\">]</span> Great! We'll definitely make a stop at both Central Plaza and The Mall. It's no problem that \n",
       "they don't offer parking. As for your other preferences, are there any specific landmarks you're interested in? Do \n",
       "you prefer outdoor activities like parks or trails, or are you more inclined to museums or arts? Also, it'd be \n",
       "helpful to know your budget range so I can select a good match for you.\n",
       "</pre>\n"
      ],
      "text/plain": [
       "Response:  \u001b[1m[\u001b[0mmessage\u001b[1m]\u001b[0m Great! We'll definitely make a stop at both Central Plaza and The Mall. It's no problem that \n",
       "they don't offer parking. As for your other preferences, are there any specific landmarks you're interested in? Do \n",
       "you prefer outdoor activities like parks or trails, or are you more inclined to museums or arts? Also, it'd be \n",
       "helpful to know your budget range so I can select a good match for you.\n"
      ]
     },
     "metadata": {},
     "output_type": "display_data"
    },
    {
     "data": {
      "text/html": [
       "<pre style=\"white-space:pre;overflow-x:auto;line-height:normal;font-family:Menlo,'DejaVu Sans Mono',consolas,'Courier New',monospace\">stop:  stop\n",
       "</pre>\n"
      ],
      "text/plain": [
       "stop:  stop\n"
      ]
     },
     "metadata": {},
     "output_type": "display_data"
    },
    {
     "data": {
      "text/html": [
       "<pre style=\"white-space:pre;overflow-x:auto;line-height:normal;font-family:Menlo,'DejaVu Sans Mono',consolas,'Courier New',monospace\"><span style=\"color: #800080; text-decoration-color: #800080; font-weight: bold\">CompletionUsage</span><span style=\"font-weight: bold\">(</span>\n",
       "    <span style=\"color: #808000; text-decoration-color: #808000\">completion_tokens</span>=<span style=\"color: #008080; text-decoration-color: #008080; font-weight: bold\">87</span>,\n",
       "    <span style=\"color: #808000; text-decoration-color: #808000\">prompt_tokens</span>=<span style=\"color: #008080; text-decoration-color: #008080; font-weight: bold\">2527</span>,\n",
       "    <span style=\"color: #808000; text-decoration-color: #808000\">total_tokens</span>=<span style=\"color: #008080; text-decoration-color: #008080; font-weight: bold\">2614</span>,\n",
       "    <span style=\"color: #808000; text-decoration-color: #808000\">completion_tokens_details</span>=<span style=\"color: #800080; text-decoration-color: #800080; font-weight: bold\">CompletionTokensDetails</span><span style=\"font-weight: bold\">(</span>\n",
       "        <span style=\"color: #808000; text-decoration-color: #808000\">reasoning_tokens</span>=<span style=\"color: #008080; text-decoration-color: #008080; font-weight: bold\">0</span>,\n",
       "        <span style=\"color: #808000; text-decoration-color: #808000\">audio_tokens</span>=<span style=\"color: #008080; text-decoration-color: #008080; font-weight: bold\">0</span>,\n",
       "        <span style=\"color: #808000; text-decoration-color: #808000\">accepted_prediction_tokens</span>=<span style=\"color: #008080; text-decoration-color: #008080; font-weight: bold\">0</span>,\n",
       "        <span style=\"color: #808000; text-decoration-color: #808000\">rejected_prediction_tokens</span>=<span style=\"color: #008080; text-decoration-color: #008080; font-weight: bold\">0</span>\n",
       "    <span style=\"font-weight: bold\">)</span>,\n",
       "    <span style=\"color: #808000; text-decoration-color: #808000\">prompt_tokens_details</span>=<span style=\"font-weight: bold\">{</span><span style=\"color: #008000; text-decoration-color: #008000\">'cached_tokens'</span>: <span style=\"color: #008080; text-decoration-color: #008080; font-weight: bold\">0</span>, <span style=\"color: #008000; text-decoration-color: #008000\">'audio_tokens'</span>: <span style=\"color: #008080; text-decoration-color: #008080; font-weight: bold\">0</span><span style=\"font-weight: bold\">}</span>\n",
       "<span style=\"font-weight: bold\">)</span>\n",
       "</pre>\n"
      ],
      "text/plain": [
       "\u001b[1;35mCompletionUsage\u001b[0m\u001b[1m(\u001b[0m\n",
       "    \u001b[33mcompletion_tokens\u001b[0m=\u001b[1;36m87\u001b[0m,\n",
       "    \u001b[33mprompt_tokens\u001b[0m=\u001b[1;36m2527\u001b[0m,\n",
       "    \u001b[33mtotal_tokens\u001b[0m=\u001b[1;36m2614\u001b[0m,\n",
       "    \u001b[33mcompletion_tokens_details\u001b[0m=\u001b[1;35mCompletionTokensDetails\u001b[0m\u001b[1m(\u001b[0m\n",
       "        \u001b[33mreasoning_tokens\u001b[0m=\u001b[1;36m0\u001b[0m,\n",
       "        \u001b[33maudio_tokens\u001b[0m=\u001b[1;36m0\u001b[0m,\n",
       "        \u001b[33maccepted_prediction_tokens\u001b[0m=\u001b[1;36m0\u001b[0m,\n",
       "        \u001b[33mrejected_prediction_tokens\u001b[0m=\u001b[1;36m0\u001b[0m\n",
       "    \u001b[1m)\u001b[0m,\n",
       "    \u001b[33mprompt_tokens_details\u001b[0m=\u001b[1m{\u001b[0m\u001b[32m'cached_tokens'\u001b[0m: \u001b[1;36m0\u001b[0m, \u001b[32m'audio_tokens'\u001b[0m: \u001b[1;36m0\u001b[0m\u001b[1m}\u001b[0m\n",
       "\u001b[1m)\u001b[0m\n"
      ]
     },
     "metadata": {},
     "output_type": "display_data"
    },
    {
     "data": {
      "text/html": [
       "<pre style=\"white-space:pre;overflow-x:auto;line-height:normal;font-family:Menlo,'DejaVu Sans Mono',consolas,'Courier New',monospace\">Response:  <span style=\"font-weight: bold\">[</span>Central Plaza, The Mall, Liberty Memorial<span style=\"font-weight: bold\">]</span>\n",
       "</pre>\n"
      ],
      "text/plain": [
       "Response:  \u001b[1m[\u001b[0mCentral Plaza, The Mall, Liberty Memorial\u001b[1m]\u001b[0m\n"
      ]
     },
     "metadata": {},
     "output_type": "display_data"
    },
    {
     "data": {
      "text/html": [
       "<pre style=\"white-space:pre;overflow-x:auto;line-height:normal;font-family:Menlo,'DejaVu Sans Mono',consolas,'Courier New',monospace\">stop:  stop\n",
       "</pre>\n"
      ],
      "text/plain": [
       "stop:  stop\n"
      ]
     },
     "metadata": {},
     "output_type": "display_data"
    },
    {
     "data": {
      "text/html": [
       "<pre style=\"white-space:pre;overflow-x:auto;line-height:normal;font-family:Menlo,'DejaVu Sans Mono',consolas,'Courier New',monospace\"><span style=\"color: #800080; text-decoration-color: #800080; font-weight: bold\">CompletionUsage</span><span style=\"font-weight: bold\">(</span>\n",
       "    <span style=\"color: #808000; text-decoration-color: #808000\">completion_tokens</span>=<span style=\"color: #008080; text-decoration-color: #008080; font-weight: bold\">10</span>,\n",
       "    <span style=\"color: #808000; text-decoration-color: #808000\">prompt_tokens</span>=<span style=\"color: #008080; text-decoration-color: #008080; font-weight: bold\">2471</span>,\n",
       "    <span style=\"color: #808000; text-decoration-color: #808000\">total_tokens</span>=<span style=\"color: #008080; text-decoration-color: #008080; font-weight: bold\">2481</span>,\n",
       "    <span style=\"color: #808000; text-decoration-color: #808000\">completion_tokens_details</span>=<span style=\"color: #800080; text-decoration-color: #800080; font-weight: bold\">CompletionTokensDetails</span><span style=\"font-weight: bold\">(</span>\n",
       "        <span style=\"color: #808000; text-decoration-color: #808000\">reasoning_tokens</span>=<span style=\"color: #008080; text-decoration-color: #008080; font-weight: bold\">0</span>,\n",
       "        <span style=\"color: #808000; text-decoration-color: #808000\">audio_tokens</span>=<span style=\"color: #008080; text-decoration-color: #008080; font-weight: bold\">0</span>,\n",
       "        <span style=\"color: #808000; text-decoration-color: #808000\">accepted_prediction_tokens</span>=<span style=\"color: #008080; text-decoration-color: #008080; font-weight: bold\">0</span>,\n",
       "        <span style=\"color: #808000; text-decoration-color: #808000\">rejected_prediction_tokens</span>=<span style=\"color: #008080; text-decoration-color: #008080; font-weight: bold\">0</span>\n",
       "    <span style=\"font-weight: bold\">)</span>,\n",
       "    <span style=\"color: #808000; text-decoration-color: #808000\">prompt_tokens_details</span>=<span style=\"font-weight: bold\">{</span><span style=\"color: #008000; text-decoration-color: #008000\">'cached_tokens'</span>: <span style=\"color: #008080; text-decoration-color: #008080; font-weight: bold\">0</span>, <span style=\"color: #008000; text-decoration-color: #008000\">'audio_tokens'</span>: <span style=\"color: #008080; text-decoration-color: #008080; font-weight: bold\">0</span><span style=\"font-weight: bold\">}</span>\n",
       "<span style=\"font-weight: bold\">)</span>\n",
       "</pre>\n"
      ],
      "text/plain": [
       "\u001b[1;35mCompletionUsage\u001b[0m\u001b[1m(\u001b[0m\n",
       "    \u001b[33mcompletion_tokens\u001b[0m=\u001b[1;36m10\u001b[0m,\n",
       "    \u001b[33mprompt_tokens\u001b[0m=\u001b[1;36m2471\u001b[0m,\n",
       "    \u001b[33mtotal_tokens\u001b[0m=\u001b[1;36m2481\u001b[0m,\n",
       "    \u001b[33mcompletion_tokens_details\u001b[0m=\u001b[1;35mCompletionTokensDetails\u001b[0m\u001b[1m(\u001b[0m\n",
       "        \u001b[33mreasoning_tokens\u001b[0m=\u001b[1;36m0\u001b[0m,\n",
       "        \u001b[33maudio_tokens\u001b[0m=\u001b[1;36m0\u001b[0m,\n",
       "        \u001b[33maccepted_prediction_tokens\u001b[0m=\u001b[1;36m0\u001b[0m,\n",
       "        \u001b[33mrejected_prediction_tokens\u001b[0m=\u001b[1;36m0\u001b[0m\n",
       "    \u001b[1m)\u001b[0m,\n",
       "    \u001b[33mprompt_tokens_details\u001b[0m=\u001b[1m{\u001b[0m\u001b[32m'cached_tokens'\u001b[0m: \u001b[1;36m0\u001b[0m, \u001b[32m'audio_tokens'\u001b[0m: \u001b[1;36m0\u001b[0m\u001b[1m}\u001b[0m\n",
       "\u001b[1m)\u001b[0m\n"
      ]
     },
     "metadata": {},
     "output_type": "display_data"
    },
    {
     "data": {
      "text/html": [
       "<pre style=\"white-space:pre;overflow-x:auto;line-height:normal;font-family:Menlo,'DejaVu Sans Mono',consolas,'Courier New',monospace\">Final proposal: <span style=\"font-weight: bold\">[</span>Central Plaza, The Mall, Liberty Memorial<span style=\"font-weight: bold\">]</span>\n",
       "</pre>\n"
      ],
      "text/plain": [
       "Final proposal: \u001b[1m[\u001b[0mCentral Plaza, The Mall, Liberty Memorial\u001b[1m]\u001b[0m\n"
      ]
     },
     "metadata": {},
     "output_type": "display_data"
    },
    {
     "data": {
      "text/html": [
       "<pre style=\"white-space:pre;overflow-x:auto;line-height:normal;font-family:Menlo,'DejaVu Sans Mono',consolas,'Courier New',monospace\">Response:  <span style=\"font-weight: bold\">[</span>message<span style=\"font-weight: bold\">]</span> I'm clear about your preferences.\n",
       "</pre>\n"
      ],
      "text/plain": [
       "Response:  \u001b[1m[\u001b[0mmessage\u001b[1m]\u001b[0m I'm clear about your preferences.\n"
      ]
     },
     "metadata": {},
     "output_type": "display_data"
    },
    {
     "data": {
      "text/html": [
       "<pre style=\"white-space:pre;overflow-x:auto;line-height:normal;font-family:Menlo,'DejaVu Sans Mono',consolas,'Courier New',monospace\">stop:  stop\n",
       "</pre>\n"
      ],
      "text/plain": [
       "stop:  stop\n"
      ]
     },
     "metadata": {},
     "output_type": "display_data"
    },
    {
     "data": {
      "text/html": [
       "<pre style=\"white-space:pre;overflow-x:auto;line-height:normal;font-family:Menlo,'DejaVu Sans Mono',consolas,'Courier New',monospace\"><span style=\"color: #800080; text-decoration-color: #800080; font-weight: bold\">CompletionUsage</span><span style=\"font-weight: bold\">(</span>\n",
       "    <span style=\"color: #808000; text-decoration-color: #808000\">completion_tokens</span>=<span style=\"color: #008080; text-decoration-color: #008080; font-weight: bold\">11</span>,\n",
       "    <span style=\"color: #808000; text-decoration-color: #808000\">prompt_tokens</span>=<span style=\"color: #008080; text-decoration-color: #008080; font-weight: bold\">2440</span>,\n",
       "    <span style=\"color: #808000; text-decoration-color: #808000\">total_tokens</span>=<span style=\"color: #008080; text-decoration-color: #008080; font-weight: bold\">2451</span>,\n",
       "    <span style=\"color: #808000; text-decoration-color: #808000\">completion_tokens_details</span>=<span style=\"color: #800080; text-decoration-color: #800080; font-weight: bold\">CompletionTokensDetails</span><span style=\"font-weight: bold\">(</span>\n",
       "        <span style=\"color: #808000; text-decoration-color: #808000\">reasoning_tokens</span>=<span style=\"color: #008080; text-decoration-color: #008080; font-weight: bold\">0</span>,\n",
       "        <span style=\"color: #808000; text-decoration-color: #808000\">audio_tokens</span>=<span style=\"color: #008080; text-decoration-color: #008080; font-weight: bold\">0</span>,\n",
       "        <span style=\"color: #808000; text-decoration-color: #808000\">accepted_prediction_tokens</span>=<span style=\"color: #008080; text-decoration-color: #008080; font-weight: bold\">0</span>,\n",
       "        <span style=\"color: #808000; text-decoration-color: #808000\">rejected_prediction_tokens</span>=<span style=\"color: #008080; text-decoration-color: #008080; font-weight: bold\">0</span>\n",
       "    <span style=\"font-weight: bold\">)</span>,\n",
       "    <span style=\"color: #808000; text-decoration-color: #808000\">prompt_tokens_details</span>=<span style=\"font-weight: bold\">{</span><span style=\"color: #008000; text-decoration-color: #008000\">'cached_tokens'</span>: <span style=\"color: #008080; text-decoration-color: #008080; font-weight: bold\">0</span>, <span style=\"color: #008000; text-decoration-color: #008000\">'audio_tokens'</span>: <span style=\"color: #008080; text-decoration-color: #008080; font-weight: bold\">0</span><span style=\"font-weight: bold\">}</span>\n",
       "<span style=\"font-weight: bold\">)</span>\n",
       "</pre>\n"
      ],
      "text/plain": [
       "\u001b[1;35mCompletionUsage\u001b[0m\u001b[1m(\u001b[0m\n",
       "    \u001b[33mcompletion_tokens\u001b[0m=\u001b[1;36m11\u001b[0m,\n",
       "    \u001b[33mprompt_tokens\u001b[0m=\u001b[1;36m2440\u001b[0m,\n",
       "    \u001b[33mtotal_tokens\u001b[0m=\u001b[1;36m2451\u001b[0m,\n",
       "    \u001b[33mcompletion_tokens_details\u001b[0m=\u001b[1;35mCompletionTokensDetails\u001b[0m\u001b[1m(\u001b[0m\n",
       "        \u001b[33mreasoning_tokens\u001b[0m=\u001b[1;36m0\u001b[0m,\n",
       "        \u001b[33maudio_tokens\u001b[0m=\u001b[1;36m0\u001b[0m,\n",
       "        \u001b[33maccepted_prediction_tokens\u001b[0m=\u001b[1;36m0\u001b[0m,\n",
       "        \u001b[33mrejected_prediction_tokens\u001b[0m=\u001b[1;36m0\u001b[0m\n",
       "    \u001b[1m)\u001b[0m,\n",
       "    \u001b[33mprompt_tokens_details\u001b[0m=\u001b[1m{\u001b[0m\u001b[32m'cached_tokens'\u001b[0m: \u001b[1;36m0\u001b[0m, \u001b[32m'audio_tokens'\u001b[0m: \u001b[1;36m0\u001b[0m\u001b[1m}\u001b[0m\n",
       "\u001b[1m)\u001b[0m\n"
      ]
     },
     "metadata": {},
     "output_type": "display_data"
    },
    {
     "data": {
      "text/html": [
       "<pre style=\"white-space:pre;overflow-x:auto;line-height:normal;font-family:Menlo,'DejaVu Sans Mono',consolas,'Courier New',monospace\">Response:  <span style=\"font-weight: bold\">[</span>Central Plaza, The Mall, Atlas Park<span style=\"font-weight: bold\">]</span>\n",
       "</pre>\n"
      ],
      "text/plain": [
       "Response:  \u001b[1m[\u001b[0mCentral Plaza, The Mall, Atlas Park\u001b[1m]\u001b[0m\n"
      ]
     },
     "metadata": {},
     "output_type": "display_data"
    },
    {
     "data": {
      "text/html": [
       "<pre style=\"white-space:pre;overflow-x:auto;line-height:normal;font-family:Menlo,'DejaVu Sans Mono',consolas,'Courier New',monospace\">stop:  stop\n",
       "</pre>\n"
      ],
      "text/plain": [
       "stop:  stop\n"
      ]
     },
     "metadata": {},
     "output_type": "display_data"
    },
    {
     "data": {
      "text/html": [
       "<pre style=\"white-space:pre;overflow-x:auto;line-height:normal;font-family:Menlo,'DejaVu Sans Mono',consolas,'Courier New',monospace\"><span style=\"color: #800080; text-decoration-color: #800080; font-weight: bold\">CompletionUsage</span><span style=\"font-weight: bold\">(</span>\n",
       "    <span style=\"color: #808000; text-decoration-color: #808000\">completion_tokens</span>=<span style=\"color: #008080; text-decoration-color: #008080; font-weight: bold\">10</span>,\n",
       "    <span style=\"color: #808000; text-decoration-color: #808000\">prompt_tokens</span>=<span style=\"color: #008080; text-decoration-color: #008080; font-weight: bold\">2384</span>,\n",
       "    <span style=\"color: #808000; text-decoration-color: #808000\">total_tokens</span>=<span style=\"color: #008080; text-decoration-color: #008080; font-weight: bold\">2394</span>,\n",
       "    <span style=\"color: #808000; text-decoration-color: #808000\">completion_tokens_details</span>=<span style=\"color: #800080; text-decoration-color: #800080; font-weight: bold\">CompletionTokensDetails</span><span style=\"font-weight: bold\">(</span>\n",
       "        <span style=\"color: #808000; text-decoration-color: #808000\">reasoning_tokens</span>=<span style=\"color: #008080; text-decoration-color: #008080; font-weight: bold\">0</span>,\n",
       "        <span style=\"color: #808000; text-decoration-color: #808000\">audio_tokens</span>=<span style=\"color: #008080; text-decoration-color: #008080; font-weight: bold\">0</span>,\n",
       "        <span style=\"color: #808000; text-decoration-color: #808000\">accepted_prediction_tokens</span>=<span style=\"color: #008080; text-decoration-color: #008080; font-weight: bold\">0</span>,\n",
       "        <span style=\"color: #808000; text-decoration-color: #808000\">rejected_prediction_tokens</span>=<span style=\"color: #008080; text-decoration-color: #008080; font-weight: bold\">0</span>\n",
       "    <span style=\"font-weight: bold\">)</span>,\n",
       "    <span style=\"color: #808000; text-decoration-color: #808000\">prompt_tokens_details</span>=<span style=\"font-weight: bold\">{</span><span style=\"color: #008000; text-decoration-color: #008000\">'cached_tokens'</span>: <span style=\"color: #008080; text-decoration-color: #008080; font-weight: bold\">0</span>, <span style=\"color: #008000; text-decoration-color: #008000\">'audio_tokens'</span>: <span style=\"color: #008080; text-decoration-color: #008080; font-weight: bold\">0</span><span style=\"font-weight: bold\">}</span>\n",
       "<span style=\"font-weight: bold\">)</span>\n",
       "</pre>\n"
      ],
      "text/plain": [
       "\u001b[1;35mCompletionUsage\u001b[0m\u001b[1m(\u001b[0m\n",
       "    \u001b[33mcompletion_tokens\u001b[0m=\u001b[1;36m10\u001b[0m,\n",
       "    \u001b[33mprompt_tokens\u001b[0m=\u001b[1;36m2384\u001b[0m,\n",
       "    \u001b[33mtotal_tokens\u001b[0m=\u001b[1;36m2394\u001b[0m,\n",
       "    \u001b[33mcompletion_tokens_details\u001b[0m=\u001b[1;35mCompletionTokensDetails\u001b[0m\u001b[1m(\u001b[0m\n",
       "        \u001b[33mreasoning_tokens\u001b[0m=\u001b[1;36m0\u001b[0m,\n",
       "        \u001b[33maudio_tokens\u001b[0m=\u001b[1;36m0\u001b[0m,\n",
       "        \u001b[33maccepted_prediction_tokens\u001b[0m=\u001b[1;36m0\u001b[0m,\n",
       "        \u001b[33mrejected_prediction_tokens\u001b[0m=\u001b[1;36m0\u001b[0m\n",
       "    \u001b[1m)\u001b[0m,\n",
       "    \u001b[33mprompt_tokens_details\u001b[0m=\u001b[1m{\u001b[0m\u001b[32m'cached_tokens'\u001b[0m: \u001b[1;36m0\u001b[0m, \u001b[32m'audio_tokens'\u001b[0m: \u001b[1;36m0\u001b[0m\u001b[1m}\u001b[0m\n",
       "\u001b[1m)\u001b[0m\n"
      ]
     },
     "metadata": {},
     "output_type": "display_data"
    },
    {
     "data": {
      "text/html": [
       "<pre style=\"white-space:pre;overflow-x:auto;line-height:normal;font-family:Menlo,'DejaVu Sans Mono',consolas,'Courier New',monospace\">Final proposal: <span style=\"font-weight: bold\">[</span>Central Plaza, The Mall, Atlas Park<span style=\"font-weight: bold\">]</span>\n",
       "</pre>\n"
      ],
      "text/plain": [
       "Final proposal: \u001b[1m[\u001b[0mCentral Plaza, The Mall, Atlas Park\u001b[1m]\u001b[0m\n"
      ]
     },
     "metadata": {},
     "output_type": "display_data"
    },
    {
     "data": {
      "text/html": [
       "<pre style=\"white-space:pre;overflow-x:auto;line-height:normal;font-family:Menlo,'DejaVu Sans Mono',consolas,'Courier New',monospace\">Response:  <span style=\"font-weight: bold\">[</span>message<span style=\"font-weight: bold\">]</span> It looks like Central Plaza and The Mall do not have parking, but you mentioned parking isn't \n",
       "a deal breaker for you. Besides visiting these places and a landmark, are there any other preferences or absolute \n",
       "must-haves for your itinerary?\n",
       "</pre>\n"
      ],
      "text/plain": [
       "Response:  \u001b[1m[\u001b[0mmessage\u001b[1m]\u001b[0m It looks like Central Plaza and The Mall do not have parking, but you mentioned parking isn't \n",
       "a deal breaker for you. Besides visiting these places and a landmark, are there any other preferences or absolute \n",
       "must-haves for your itinerary?\n"
      ]
     },
     "metadata": {},
     "output_type": "display_data"
    },
    {
     "data": {
      "text/html": [
       "<pre style=\"white-space:pre;overflow-x:auto;line-height:normal;font-family:Menlo,'DejaVu Sans Mono',consolas,'Courier New',monospace\">stop:  stop\n",
       "</pre>\n"
      ],
      "text/plain": [
       "stop:  stop\n"
      ]
     },
     "metadata": {},
     "output_type": "display_data"
    },
    {
     "data": {
      "text/html": [
       "<pre style=\"white-space:pre;overflow-x:auto;line-height:normal;font-family:Menlo,'DejaVu Sans Mono',consolas,'Courier New',monospace\"><span style=\"color: #800080; text-decoration-color: #800080; font-weight: bold\">CompletionUsage</span><span style=\"font-weight: bold\">(</span>\n",
       "    <span style=\"color: #808000; text-decoration-color: #808000\">completion_tokens</span>=<span style=\"color: #008080; text-decoration-color: #008080; font-weight: bold\">50</span>,\n",
       "    <span style=\"color: #808000; text-decoration-color: #808000\">prompt_tokens</span>=<span style=\"color: #008080; text-decoration-color: #008080; font-weight: bold\">2473</span>,\n",
       "    <span style=\"color: #808000; text-decoration-color: #808000\">total_tokens</span>=<span style=\"color: #008080; text-decoration-color: #008080; font-weight: bold\">2523</span>,\n",
       "    <span style=\"color: #808000; text-decoration-color: #808000\">completion_tokens_details</span>=<span style=\"color: #800080; text-decoration-color: #800080; font-weight: bold\">CompletionTokensDetails</span><span style=\"font-weight: bold\">(</span>\n",
       "        <span style=\"color: #808000; text-decoration-color: #808000\">reasoning_tokens</span>=<span style=\"color: #008080; text-decoration-color: #008080; font-weight: bold\">0</span>,\n",
       "        <span style=\"color: #808000; text-decoration-color: #808000\">audio_tokens</span>=<span style=\"color: #008080; text-decoration-color: #008080; font-weight: bold\">0</span>,\n",
       "        <span style=\"color: #808000; text-decoration-color: #808000\">accepted_prediction_tokens</span>=<span style=\"color: #008080; text-decoration-color: #008080; font-weight: bold\">0</span>,\n",
       "        <span style=\"color: #808000; text-decoration-color: #808000\">rejected_prediction_tokens</span>=<span style=\"color: #008080; text-decoration-color: #008080; font-weight: bold\">0</span>\n",
       "    <span style=\"font-weight: bold\">)</span>,\n",
       "    <span style=\"color: #808000; text-decoration-color: #808000\">prompt_tokens_details</span>=<span style=\"font-weight: bold\">{</span><span style=\"color: #008000; text-decoration-color: #008000\">'cached_tokens'</span>: <span style=\"color: #008080; text-decoration-color: #008080; font-weight: bold\">0</span>, <span style=\"color: #008000; text-decoration-color: #008000\">'audio_tokens'</span>: <span style=\"color: #008080; text-decoration-color: #008080; font-weight: bold\">0</span><span style=\"font-weight: bold\">}</span>\n",
       "<span style=\"font-weight: bold\">)</span>\n",
       "</pre>\n"
      ],
      "text/plain": [
       "\u001b[1;35mCompletionUsage\u001b[0m\u001b[1m(\u001b[0m\n",
       "    \u001b[33mcompletion_tokens\u001b[0m=\u001b[1;36m50\u001b[0m,\n",
       "    \u001b[33mprompt_tokens\u001b[0m=\u001b[1;36m2473\u001b[0m,\n",
       "    \u001b[33mtotal_tokens\u001b[0m=\u001b[1;36m2523\u001b[0m,\n",
       "    \u001b[33mcompletion_tokens_details\u001b[0m=\u001b[1;35mCompletionTokensDetails\u001b[0m\u001b[1m(\u001b[0m\n",
       "        \u001b[33mreasoning_tokens\u001b[0m=\u001b[1;36m0\u001b[0m,\n",
       "        \u001b[33maudio_tokens\u001b[0m=\u001b[1;36m0\u001b[0m,\n",
       "        \u001b[33maccepted_prediction_tokens\u001b[0m=\u001b[1;36m0\u001b[0m,\n",
       "        \u001b[33mrejected_prediction_tokens\u001b[0m=\u001b[1;36m0\u001b[0m\n",
       "    \u001b[1m)\u001b[0m,\n",
       "    \u001b[33mprompt_tokens_details\u001b[0m=\u001b[1m{\u001b[0m\u001b[32m'cached_tokens'\u001b[0m: \u001b[1;36m0\u001b[0m, \u001b[32m'audio_tokens'\u001b[0m: \u001b[1;36m0\u001b[0m\u001b[1m}\u001b[0m\n",
       "\u001b[1m)\u001b[0m\n"
      ]
     },
     "metadata": {},
     "output_type": "display_data"
    },
    {
     "data": {
      "text/html": [
       "<pre style=\"white-space:pre;overflow-x:auto;line-height:normal;font-family:Menlo,'DejaVu Sans Mono',consolas,'Courier New',monospace\">Response:  <span style=\"font-weight: bold\">[</span>Central Plaza, The Mall, The Dockside Grill<span style=\"font-weight: bold\">]</span>\n",
       "</pre>\n"
      ],
      "text/plain": [
       "Response:  \u001b[1m[\u001b[0mCentral Plaza, The Mall, The Dockside Grill\u001b[1m]\u001b[0m\n"
      ]
     },
     "metadata": {},
     "output_type": "display_data"
    },
    {
     "data": {
      "text/html": [
       "<pre style=\"white-space:pre;overflow-x:auto;line-height:normal;font-family:Menlo,'DejaVu Sans Mono',consolas,'Courier New',monospace\">stop:  stop\n",
       "</pre>\n"
      ],
      "text/plain": [
       "stop:  stop\n"
      ]
     },
     "metadata": {},
     "output_type": "display_data"
    },
    {
     "data": {
      "text/html": [
       "<pre style=\"white-space:pre;overflow-x:auto;line-height:normal;font-family:Menlo,'DejaVu Sans Mono',consolas,'Courier New',monospace\"><span style=\"color: #800080; text-decoration-color: #800080; font-weight: bold\">CompletionUsage</span><span style=\"font-weight: bold\">(</span>\n",
       "    <span style=\"color: #808000; text-decoration-color: #808000\">completion_tokens</span>=<span style=\"color: #008080; text-decoration-color: #008080; font-weight: bold\">12</span>,\n",
       "    <span style=\"color: #808000; text-decoration-color: #808000\">prompt_tokens</span>=<span style=\"color: #008080; text-decoration-color: #008080; font-weight: bold\">2417</span>,\n",
       "    <span style=\"color: #808000; text-decoration-color: #808000\">total_tokens</span>=<span style=\"color: #008080; text-decoration-color: #008080; font-weight: bold\">2429</span>,\n",
       "    <span style=\"color: #808000; text-decoration-color: #808000\">completion_tokens_details</span>=<span style=\"color: #800080; text-decoration-color: #800080; font-weight: bold\">CompletionTokensDetails</span><span style=\"font-weight: bold\">(</span>\n",
       "        <span style=\"color: #808000; text-decoration-color: #808000\">reasoning_tokens</span>=<span style=\"color: #008080; text-decoration-color: #008080; font-weight: bold\">0</span>,\n",
       "        <span style=\"color: #808000; text-decoration-color: #808000\">audio_tokens</span>=<span style=\"color: #008080; text-decoration-color: #008080; font-weight: bold\">0</span>,\n",
       "        <span style=\"color: #808000; text-decoration-color: #808000\">accepted_prediction_tokens</span>=<span style=\"color: #008080; text-decoration-color: #008080; font-weight: bold\">0</span>,\n",
       "        <span style=\"color: #808000; text-decoration-color: #808000\">rejected_prediction_tokens</span>=<span style=\"color: #008080; text-decoration-color: #008080; font-weight: bold\">0</span>\n",
       "    <span style=\"font-weight: bold\">)</span>,\n",
       "    <span style=\"color: #808000; text-decoration-color: #808000\">prompt_tokens_details</span>=<span style=\"font-weight: bold\">{</span><span style=\"color: #008000; text-decoration-color: #008000\">'cached_tokens'</span>: <span style=\"color: #008080; text-decoration-color: #008080; font-weight: bold\">0</span>, <span style=\"color: #008000; text-decoration-color: #008000\">'audio_tokens'</span>: <span style=\"color: #008080; text-decoration-color: #008080; font-weight: bold\">0</span><span style=\"font-weight: bold\">}</span>\n",
       "<span style=\"font-weight: bold\">)</span>\n",
       "</pre>\n"
      ],
      "text/plain": [
       "\u001b[1;35mCompletionUsage\u001b[0m\u001b[1m(\u001b[0m\n",
       "    \u001b[33mcompletion_tokens\u001b[0m=\u001b[1;36m12\u001b[0m,\n",
       "    \u001b[33mprompt_tokens\u001b[0m=\u001b[1;36m2417\u001b[0m,\n",
       "    \u001b[33mtotal_tokens\u001b[0m=\u001b[1;36m2429\u001b[0m,\n",
       "    \u001b[33mcompletion_tokens_details\u001b[0m=\u001b[1;35mCompletionTokensDetails\u001b[0m\u001b[1m(\u001b[0m\n",
       "        \u001b[33mreasoning_tokens\u001b[0m=\u001b[1;36m0\u001b[0m,\n",
       "        \u001b[33maudio_tokens\u001b[0m=\u001b[1;36m0\u001b[0m,\n",
       "        \u001b[33maccepted_prediction_tokens\u001b[0m=\u001b[1;36m0\u001b[0m,\n",
       "        \u001b[33mrejected_prediction_tokens\u001b[0m=\u001b[1;36m0\u001b[0m\n",
       "    \u001b[1m)\u001b[0m,\n",
       "    \u001b[33mprompt_tokens_details\u001b[0m=\u001b[1m{\u001b[0m\u001b[32m'cached_tokens'\u001b[0m: \u001b[1;36m0\u001b[0m, \u001b[32m'audio_tokens'\u001b[0m: \u001b[1;36m0\u001b[0m\u001b[1m}\u001b[0m\n",
       "\u001b[1m)\u001b[0m\n"
      ]
     },
     "metadata": {},
     "output_type": "display_data"
    },
    {
     "data": {
      "text/html": [
       "<pre style=\"white-space:pre;overflow-x:auto;line-height:normal;font-family:Menlo,'DejaVu Sans Mono',consolas,'Courier New',monospace\">Final proposal: <span style=\"font-weight: bold\">[</span>Central Plaza, The Mall, The Dockside Grill<span style=\"font-weight: bold\">]</span>\n",
       "</pre>\n"
      ],
      "text/plain": [
       "Final proposal: \u001b[1m[\u001b[0mCentral Plaza, The Mall, The Dockside Grill\u001b[1m]\u001b[0m\n"
      ]
     },
     "metadata": {},
     "output_type": "display_data"
    },
    {
     "data": {
      "text/html": [
       "<pre style=\"white-space:pre;overflow-x:auto;line-height:normal;font-family:Menlo,'DejaVu Sans Mono',consolas,'Courier New',monospace\">Response:  <span style=\"font-weight: bold\">[</span>message<span style=\"font-weight: bold\">]</span> I understand, you prefer quiet locations and minimum travel distance between sites. Are there \n",
       "any specific landmarks you're interested in? Or do you want me to search the ones nearby your already selected \n",
       "locations: Central Plaza and The Mall?\n",
       "</pre>\n"
      ],
      "text/plain": [
       "Response:  \u001b[1m[\u001b[0mmessage\u001b[1m]\u001b[0m I understand, you prefer quiet locations and minimum travel distance between sites. Are there \n",
       "any specific landmarks you're interested in? Or do you want me to search the ones nearby your already selected \n",
       "locations: Central Plaza and The Mall?\n"
      ]
     },
     "metadata": {},
     "output_type": "display_data"
    },
    {
     "data": {
      "text/html": [
       "<pre style=\"white-space:pre;overflow-x:auto;line-height:normal;font-family:Menlo,'DejaVu Sans Mono',consolas,'Courier New',monospace\">stop:  stop\n",
       "</pre>\n"
      ],
      "text/plain": [
       "stop:  stop\n"
      ]
     },
     "metadata": {},
     "output_type": "display_data"
    },
    {
     "data": {
      "text/html": [
       "<pre style=\"white-space:pre;overflow-x:auto;line-height:normal;font-family:Menlo,'DejaVu Sans Mono',consolas,'Courier New',monospace\"><span style=\"color: #800080; text-decoration-color: #800080; font-weight: bold\">CompletionUsage</span><span style=\"font-weight: bold\">(</span>\n",
       "    <span style=\"color: #808000; text-decoration-color: #808000\">completion_tokens</span>=<span style=\"color: #008080; text-decoration-color: #008080; font-weight: bold\">48</span>,\n",
       "    <span style=\"color: #808000; text-decoration-color: #808000\">prompt_tokens</span>=<span style=\"color: #008080; text-decoration-color: #008080; font-weight: bold\">2447</span>,\n",
       "    <span style=\"color: #808000; text-decoration-color: #808000\">total_tokens</span>=<span style=\"color: #008080; text-decoration-color: #008080; font-weight: bold\">2495</span>,\n",
       "    <span style=\"color: #808000; text-decoration-color: #808000\">completion_tokens_details</span>=<span style=\"color: #800080; text-decoration-color: #800080; font-weight: bold\">CompletionTokensDetails</span><span style=\"font-weight: bold\">(</span>\n",
       "        <span style=\"color: #808000; text-decoration-color: #808000\">reasoning_tokens</span>=<span style=\"color: #008080; text-decoration-color: #008080; font-weight: bold\">0</span>,\n",
       "        <span style=\"color: #808000; text-decoration-color: #808000\">audio_tokens</span>=<span style=\"color: #008080; text-decoration-color: #008080; font-weight: bold\">0</span>,\n",
       "        <span style=\"color: #808000; text-decoration-color: #808000\">accepted_prediction_tokens</span>=<span style=\"color: #008080; text-decoration-color: #008080; font-weight: bold\">0</span>,\n",
       "        <span style=\"color: #808000; text-decoration-color: #808000\">rejected_prediction_tokens</span>=<span style=\"color: #008080; text-decoration-color: #008080; font-weight: bold\">0</span>\n",
       "    <span style=\"font-weight: bold\">)</span>,\n",
       "    <span style=\"color: #808000; text-decoration-color: #808000\">prompt_tokens_details</span>=<span style=\"font-weight: bold\">{</span><span style=\"color: #008000; text-decoration-color: #008000\">'cached_tokens'</span>: <span style=\"color: #008080; text-decoration-color: #008080; font-weight: bold\">0</span>, <span style=\"color: #008000; text-decoration-color: #008000\">'audio_tokens'</span>: <span style=\"color: #008080; text-decoration-color: #008080; font-weight: bold\">0</span><span style=\"font-weight: bold\">}</span>\n",
       "<span style=\"font-weight: bold\">)</span>\n",
       "</pre>\n"
      ],
      "text/plain": [
       "\u001b[1;35mCompletionUsage\u001b[0m\u001b[1m(\u001b[0m\n",
       "    \u001b[33mcompletion_tokens\u001b[0m=\u001b[1;36m48\u001b[0m,\n",
       "    \u001b[33mprompt_tokens\u001b[0m=\u001b[1;36m2447\u001b[0m,\n",
       "    \u001b[33mtotal_tokens\u001b[0m=\u001b[1;36m2495\u001b[0m,\n",
       "    \u001b[33mcompletion_tokens_details\u001b[0m=\u001b[1;35mCompletionTokensDetails\u001b[0m\u001b[1m(\u001b[0m\n",
       "        \u001b[33mreasoning_tokens\u001b[0m=\u001b[1;36m0\u001b[0m,\n",
       "        \u001b[33maudio_tokens\u001b[0m=\u001b[1;36m0\u001b[0m,\n",
       "        \u001b[33maccepted_prediction_tokens\u001b[0m=\u001b[1;36m0\u001b[0m,\n",
       "        \u001b[33mrejected_prediction_tokens\u001b[0m=\u001b[1;36m0\u001b[0m\n",
       "    \u001b[1m)\u001b[0m,\n",
       "    \u001b[33mprompt_tokens_details\u001b[0m=\u001b[1m{\u001b[0m\u001b[32m'cached_tokens'\u001b[0m: \u001b[1;36m0\u001b[0m, \u001b[32m'audio_tokens'\u001b[0m: \u001b[1;36m0\u001b[0m\u001b[1m}\u001b[0m\n",
       "\u001b[1m)\u001b[0m\n"
      ]
     },
     "metadata": {},
     "output_type": "display_data"
    },
    {
     "data": {
      "text/html": [
       "<pre style=\"white-space:pre;overflow-x:auto;line-height:normal;font-family:Menlo,'DejaVu Sans Mono',consolas,'Courier New',monospace\">Response:  <span style=\"font-weight: bold\">[</span>Central Plaza, The Mall, NULL<span style=\"font-weight: bold\">]</span>\n",
       "</pre>\n"
      ],
      "text/plain": [
       "Response:  \u001b[1m[\u001b[0mCentral Plaza, The Mall, NULL\u001b[1m]\u001b[0m\n"
      ]
     },
     "metadata": {},
     "output_type": "display_data"
    },
    {
     "data": {
      "text/html": [
       "<pre style=\"white-space:pre;overflow-x:auto;line-height:normal;font-family:Menlo,'DejaVu Sans Mono',consolas,'Courier New',monospace\">stop:  stop\n",
       "</pre>\n"
      ],
      "text/plain": [
       "stop:  stop\n"
      ]
     },
     "metadata": {},
     "output_type": "display_data"
    },
    {
     "data": {
      "text/html": [
       "<pre style=\"white-space:pre;overflow-x:auto;line-height:normal;font-family:Menlo,'DejaVu Sans Mono',consolas,'Courier New',monospace\"><span style=\"color: #800080; text-decoration-color: #800080; font-weight: bold\">CompletionUsage</span><span style=\"font-weight: bold\">(</span>\n",
       "    <span style=\"color: #808000; text-decoration-color: #808000\">completion_tokens</span>=<span style=\"color: #008080; text-decoration-color: #008080; font-weight: bold\">9</span>,\n",
       "    <span style=\"color: #808000; text-decoration-color: #808000\">prompt_tokens</span>=<span style=\"color: #008080; text-decoration-color: #008080; font-weight: bold\">2391</span>,\n",
       "    <span style=\"color: #808000; text-decoration-color: #808000\">total_tokens</span>=<span style=\"color: #008080; text-decoration-color: #008080; font-weight: bold\">2400</span>,\n",
       "    <span style=\"color: #808000; text-decoration-color: #808000\">completion_tokens_details</span>=<span style=\"color: #800080; text-decoration-color: #800080; font-weight: bold\">CompletionTokensDetails</span><span style=\"font-weight: bold\">(</span>\n",
       "        <span style=\"color: #808000; text-decoration-color: #808000\">reasoning_tokens</span>=<span style=\"color: #008080; text-decoration-color: #008080; font-weight: bold\">0</span>,\n",
       "        <span style=\"color: #808000; text-decoration-color: #808000\">audio_tokens</span>=<span style=\"color: #008080; text-decoration-color: #008080; font-weight: bold\">0</span>,\n",
       "        <span style=\"color: #808000; text-decoration-color: #808000\">accepted_prediction_tokens</span>=<span style=\"color: #008080; text-decoration-color: #008080; font-weight: bold\">0</span>,\n",
       "        <span style=\"color: #808000; text-decoration-color: #808000\">rejected_prediction_tokens</span>=<span style=\"color: #008080; text-decoration-color: #008080; font-weight: bold\">0</span>\n",
       "    <span style=\"font-weight: bold\">)</span>,\n",
       "    <span style=\"color: #808000; text-decoration-color: #808000\">prompt_tokens_details</span>=<span style=\"font-weight: bold\">{</span><span style=\"color: #008000; text-decoration-color: #008000\">'cached_tokens'</span>: <span style=\"color: #008080; text-decoration-color: #008080; font-weight: bold\">0</span>, <span style=\"color: #008000; text-decoration-color: #008000\">'audio_tokens'</span>: <span style=\"color: #008080; text-decoration-color: #008080; font-weight: bold\">0</span><span style=\"font-weight: bold\">}</span>\n",
       "<span style=\"font-weight: bold\">)</span>\n",
       "</pre>\n"
      ],
      "text/plain": [
       "\u001b[1;35mCompletionUsage\u001b[0m\u001b[1m(\u001b[0m\n",
       "    \u001b[33mcompletion_tokens\u001b[0m=\u001b[1;36m9\u001b[0m,\n",
       "    \u001b[33mprompt_tokens\u001b[0m=\u001b[1;36m2391\u001b[0m,\n",
       "    \u001b[33mtotal_tokens\u001b[0m=\u001b[1;36m2400\u001b[0m,\n",
       "    \u001b[33mcompletion_tokens_details\u001b[0m=\u001b[1;35mCompletionTokensDetails\u001b[0m\u001b[1m(\u001b[0m\n",
       "        \u001b[33mreasoning_tokens\u001b[0m=\u001b[1;36m0\u001b[0m,\n",
       "        \u001b[33maudio_tokens\u001b[0m=\u001b[1;36m0\u001b[0m,\n",
       "        \u001b[33maccepted_prediction_tokens\u001b[0m=\u001b[1;36m0\u001b[0m,\n",
       "        \u001b[33mrejected_prediction_tokens\u001b[0m=\u001b[1;36m0\u001b[0m\n",
       "    \u001b[1m)\u001b[0m,\n",
       "    \u001b[33mprompt_tokens_details\u001b[0m=\u001b[1m{\u001b[0m\u001b[32m'cached_tokens'\u001b[0m: \u001b[1;36m0\u001b[0m, \u001b[32m'audio_tokens'\u001b[0m: \u001b[1;36m0\u001b[0m\u001b[1m}\u001b[0m\n",
       "\u001b[1m)\u001b[0m\n"
      ]
     },
     "metadata": {},
     "output_type": "display_data"
    },
    {
     "data": {
      "text/html": [
       "<pre style=\"white-space:pre;overflow-x:auto;line-height:normal;font-family:Menlo,'DejaVu Sans Mono',consolas,'Courier New',monospace\">Final proposal: <span style=\"font-weight: bold\">[</span>Central Plaza, The Mall, NULL<span style=\"font-weight: bold\">]</span>\n",
       "</pre>\n"
      ],
      "text/plain": [
       "Final proposal: \u001b[1m[\u001b[0mCentral Plaza, The Mall, NULL\u001b[1m]\u001b[0m\n"
      ]
     },
     "metadata": {},
     "output_type": "display_data"
    }
   ],
   "source": [
    "agent_proposals = run_until_agent_proposals(parallel_convs)\n"
   ]
  },
  {
   "cell_type": "code",
   "execution_count": 187,
   "metadata": {},
   "outputs": [
    {
     "data": {
      "text/html": [
       "<pre style=\"white-space:pre;overflow-x:auto;line-height:normal;font-family:Menlo,'DejaVu Sans Mono',consolas,'Courier New',monospace\"><span style=\"font-weight: bold\">[</span>\n",
       "    <span style=\"color: #800080; text-decoration-color: #800080; font-weight: bold\">ConversationState</span><span style=\"font-weight: bold\">(</span>\n",
       "        <span style=\"color: #808000; text-decoration-color: #808000\">obss</span>=<span style=\"font-weight: bold\">{</span>\n",
       "            <span style=\"color: #008000; text-decoration-color: #008000\">'user'</span>: <span style=\"color: #008000; text-decoration-color: #008000\">\"\\nAgent: [message] Thanks for your response! Central Plaza and The Mall will certainly be part</span>\n",
       "<span style=\"color: #008000; text-decoration-color: #008000\">of our plan. Are there any specific landmarks or activities you'd like to consider in our plan, or other </span>\n",
       "<span style=\"color: #008000; text-decoration-color: #008000\">deal-breakers to keep in mind?\"</span>,\n",
       "            <span style=\"color: #008000; text-decoration-color: #008000\">'agent'</span>: <span style=\"color: #008000; text-decoration-color: #008000\">''</span>,\n",
       "            <span style=\"color: #008000; text-decoration-color: #008000\">'turn_player'</span>: <span style=\"color: #008000; text-decoration-color: #008000\">'user'</span>,\n",
       "            <span style=\"color: #008000; text-decoration-color: #008000\">'done'</span>: <span style=\"color: #ff0000; text-decoration-color: #ff0000; font-style: italic\">False</span>,\n",
       "            <span style=\"color: #008000; text-decoration-color: #008000\">'reward'</span>: <span style=\"color: #008080; text-decoration-color: #008080; font-weight: bold\">0</span>,\n",
       "            <span style=\"color: #008000; text-decoration-color: #008000\">'info'</span>: <span style=\"font-weight: bold\">{</span><span style=\"color: #008000; text-decoration-color: #008000\">'num_msgs'</span>: <span style=\"color: #008080; text-decoration-color: #008080; font-weight: bold\">3</span><span style=\"font-weight: bold\">}</span>\n",
       "        <span style=\"font-weight: bold\">}</span>,\n",
       "        <span style=\"color: #808000; text-decoration-color: #808000\">features</span>=<span style=\"font-weight: bold\">{}</span>,\n",
       "        <span style=\"color: #808000; text-decoration-color: #808000\">turn</span>=<span style=\"color: #008080; text-decoration-color: #008080; font-weight: bold\">6</span>,\n",
       "        <span style=\"color: #808000; text-decoration-color: #808000\">responses</span>=<span style=\"color: #800080; text-decoration-color: #800080; font-style: italic\">None</span>,\n",
       "        <span style=\"color: #808000; text-decoration-color: #808000\">player_states</span>=<span style=\"color: #800080; text-decoration-color: #800080; font-style: italic\">None</span>\n",
       "    <span style=\"font-weight: bold\">)</span>\n",
       "<span style=\"font-weight: bold\">]</span>\n",
       "</pre>\n"
      ],
      "text/plain": [
       "\u001b[1m[\u001b[0m\n",
       "    \u001b[1;35mConversationState\u001b[0m\u001b[1m(\u001b[0m\n",
       "        \u001b[33mobss\u001b[0m=\u001b[1m{\u001b[0m\n",
       "            \u001b[32m'user'\u001b[0m: \u001b[32m\"\\nAgent: \u001b[0m\u001b[32m[\u001b[0m\u001b[32mmessage\u001b[0m\u001b[32m]\u001b[0m\u001b[32m Thanks for your response! Central Plaza and The Mall will certainly be part\u001b[0m\n",
       "\u001b[32mof our plan. Are there any specific landmarks or activities you'd like to consider in our plan, or other \u001b[0m\n",
       "\u001b[32mdeal-breakers to keep in mind?\"\u001b[0m,\n",
       "            \u001b[32m'agent'\u001b[0m: \u001b[32m''\u001b[0m,\n",
       "            \u001b[32m'turn_player'\u001b[0m: \u001b[32m'user'\u001b[0m,\n",
       "            \u001b[32m'done'\u001b[0m: \u001b[3;91mFalse\u001b[0m,\n",
       "            \u001b[32m'reward'\u001b[0m: \u001b[1;36m0\u001b[0m,\n",
       "            \u001b[32m'info'\u001b[0m: \u001b[1m{\u001b[0m\u001b[32m'num_msgs'\u001b[0m: \u001b[1;36m3\u001b[0m\u001b[1m}\u001b[0m\n",
       "        \u001b[1m}\u001b[0m,\n",
       "        \u001b[33mfeatures\u001b[0m=\u001b[1m{\u001b[0m\u001b[1m}\u001b[0m,\n",
       "        \u001b[33mturn\u001b[0m=\u001b[1;36m6\u001b[0m,\n",
       "        \u001b[33mresponses\u001b[0m=\u001b[3;35mNone\u001b[0m,\n",
       "        \u001b[33mplayer_states\u001b[0m=\u001b[3;35mNone\u001b[0m\n",
       "    \u001b[1m)\u001b[0m\n",
       "\u001b[1m]\u001b[0m\n"
      ]
     },
     "metadata": {},
     "output_type": "display_data"
    },
    {
     "data": {
      "text/html": [
       "<pre style=\"white-space:pre;overflow-x:auto;line-height:normal;font-family:Menlo,'DejaVu Sans Mono',consolas,'Courier New',monospace\"><span style=\"color: #008080; text-decoration-color: #008080; font-weight: bold\">0</span>\n",
       "</pre>\n"
      ],
      "text/plain": [
       "\u001b[1;36m0\u001b[0m\n"
      ]
     },
     "metadata": {},
     "output_type": "display_data"
    },
    {
     "data": {
      "text/html": [
       "<pre style=\"white-space:pre;overflow-x:auto;line-height:normal;font-family:Menlo,'DejaVu Sans Mono',consolas,'Courier New',monospace\"><span style=\"font-weight: bold\">[</span>\n",
       "    <span style=\"color: #800080; text-decoration-color: #800080; font-weight: bold\">ConversationState</span><span style=\"font-weight: bold\">(</span>\n",
       "        <span style=\"color: #808000; text-decoration-color: #808000\">obss</span>=<span style=\"font-weight: bold\">{</span>\n",
       "            <span style=\"color: #008000; text-decoration-color: #008000\">'user'</span>: <span style=\"color: #008000; text-decoration-color: #008000\">''</span>,\n",
       "            <span style=\"color: #008000; text-decoration-color: #008000\">'agent'</span>: <span style=\"color: #008000; text-decoration-color: #008000\">'[tool] Search(fields=[name, category, has parking, distance_to(Central Plaza)], </span>\n",
       "<span style=\"color: #008000; text-decoration-color: #008000\">filters=[category == landmark, has parking == True], sort_by=[distance_to(Central Plaza)], limit=1)\\nSearch Results</span>\n",
       "<span style=\"color: #008000; text-decoration-color: #008000\">(1):\\n- **Name:** The Tower\\n- **Category:** Landmark\\n- **Has Parking:** True\\n- **Distance to Central Plaza:** </span>\n",
       "<span style=\"color: #008000; text-decoration-color: #008000\">0.0'</span>,\n",
       "            <span style=\"color: #008000; text-decoration-color: #008000\">'turn_player'</span>: <span style=\"color: #008000; text-decoration-color: #008000\">'agent'</span>,\n",
       "            <span style=\"color: #008000; text-decoration-color: #008000\">'done'</span>: <span style=\"color: #ff0000; text-decoration-color: #ff0000; font-style: italic\">False</span>,\n",
       "            <span style=\"color: #008000; text-decoration-color: #008000\">'reward'</span>: <span style=\"color: #008080; text-decoration-color: #008080; font-weight: bold\">0</span>,\n",
       "            <span style=\"color: #008000; text-decoration-color: #008000\">'info'</span>: <span style=\"font-weight: bold\">{</span><span style=\"color: #008000; text-decoration-color: #008000\">'num_msgs'</span>: <span style=\"color: #008080; text-decoration-color: #008080; font-weight: bold\">3</span><span style=\"font-weight: bold\">}</span>\n",
       "        <span style=\"font-weight: bold\">}</span>,\n",
       "        <span style=\"color: #808000; text-decoration-color: #808000\">features</span>=<span style=\"font-weight: bold\">{}</span>,\n",
       "        <span style=\"color: #808000; text-decoration-color: #808000\">turn</span>=<span style=\"color: #008080; text-decoration-color: #008080; font-weight: bold\">6</span>,\n",
       "        <span style=\"color: #808000; text-decoration-color: #808000\">responses</span>=<span style=\"color: #800080; text-decoration-color: #800080; font-style: italic\">None</span>,\n",
       "        <span style=\"color: #808000; text-decoration-color: #808000\">player_states</span>=<span style=\"color: #800080; text-decoration-color: #800080; font-style: italic\">None</span>\n",
       "    <span style=\"font-weight: bold\">)</span>,\n",
       "    <span style=\"color: #800080; text-decoration-color: #800080; font-weight: bold\">ConversationState</span><span style=\"font-weight: bold\">(</span>\n",
       "        <span style=\"color: #808000; text-decoration-color: #808000\">obss</span>=<span style=\"font-weight: bold\">{</span>\n",
       "            <span style=\"color: #008000; text-decoration-color: #008000\">'user'</span>: <span style=\"color: #008000; text-decoration-color: #008000\">''</span>,\n",
       "            <span style=\"color: #008000; text-decoration-color: #008000\">'agent'</span>: <span style=\"color: #008000; text-decoration-color: #008000\">\"[think] The Tower seems to be a good third option since it matches with the user's preference</span>\n",
       "<span style=\"color: #008000; text-decoration-color: #008000\">for a landmark and it's conveniently close to Central Plaza. Let's propose this itinerary.\"</span>,\n",
       "            <span style=\"color: #008000; text-decoration-color: #008000\">'turn_player'</span>: <span style=\"color: #008000; text-decoration-color: #008000\">'agent'</span>,\n",
       "            <span style=\"color: #008000; text-decoration-color: #008000\">'done'</span>: <span style=\"color: #ff0000; text-decoration-color: #ff0000; font-style: italic\">False</span>,\n",
       "            <span style=\"color: #008000; text-decoration-color: #008000\">'reward'</span>: <span style=\"color: #008080; text-decoration-color: #008080; font-weight: bold\">0</span>,\n",
       "            <span style=\"color: #008000; text-decoration-color: #008000\">'info'</span>: <span style=\"font-weight: bold\">{</span><span style=\"color: #008000; text-decoration-color: #008000\">'num_msgs'</span>: <span style=\"color: #008080; text-decoration-color: #008080; font-weight: bold\">3</span><span style=\"font-weight: bold\">}</span>\n",
       "        <span style=\"font-weight: bold\">}</span>,\n",
       "        <span style=\"color: #808000; text-decoration-color: #808000\">features</span>=<span style=\"font-weight: bold\">{}</span>,\n",
       "        <span style=\"color: #808000; text-decoration-color: #808000\">turn</span>=<span style=\"color: #008080; text-decoration-color: #008080; font-weight: bold\">7</span>,\n",
       "        <span style=\"color: #808000; text-decoration-color: #808000\">responses</span>=<span style=\"color: #800080; text-decoration-color: #800080; font-style: italic\">None</span>,\n",
       "        <span style=\"color: #808000; text-decoration-color: #808000\">player_states</span>=<span style=\"color: #800080; text-decoration-color: #800080; font-style: italic\">None</span>\n",
       "    <span style=\"font-weight: bold\">)</span>,\n",
       "    <span style=\"color: #800080; text-decoration-color: #800080; font-weight: bold\">ConversationState</span><span style=\"font-weight: bold\">(</span>\n",
       "        <span style=\"color: #808000; text-decoration-color: #808000\">obss</span>=<span style=\"font-weight: bold\">{</span>\n",
       "            <span style=\"color: #008000; text-decoration-color: #008000\">'user'</span>: <span style=\"color: #008000; text-decoration-color: #008000\">\"\\nAgent: [propose] [Central Plaza, The Mall, The Tower]\\nProposal Score:\\n1) (score: 3) </span>\n",
       "<span style=\"color: #008000; text-decoration-color: #008000\">Central Plaza\\ngood for groups: True\\nhas parking: False\\nopen late: True\\nrating: 5\\ntouristy: False\\n2) (score: </span>\n",
       "<span style=\"color: #008000; text-decoration-color: #008000\">-6) Travel from Central Plaza to The Mall, 1.0mi\\n3) (score: 6) The Mall\\ngood for groups: False\\ngood for kids: </span>\n",
       "<span style=\"color: #008000; text-decoration-color: #008000\">True\\nopen late: True\\nrating: 3\\ntouristy: True\\n4) (score: 0) Travel from The Mall to The Tower, 0.1mi\\n5) </span>\n",
       "<span style=\"color: #008000; text-decoration-color: #008000\">(score: -6) The Tower\\ngood for groups: True\\ngood for kids: False\\nhas parking: True\\nopen late: False\\ntouristy: </span>\n",
       "<span style=\"color: #008000; text-decoration-color: #008000\">True\\n\\nOverall Checklist:\\nYES (score: 9) go to at least one landmark\\nYES (score: 4) definitely want to check out</span>\n",
       "<span style=\"color: #008000; text-decoration-color: #008000\">Dan's recommendations: Central Plaza, The Mall\\nNO (score: -4) keep budget below $40\\nTOTAL SCORE: </span>\n",
       "<span style=\"color: #008000; text-decoration-color: #008000\">+3-6+6+0-6+9+4-4=6\\nYou can [think], or output one of these choices:\\n(1) [accept] Accept\\n(2) [reject] Reject\"</span>,\n",
       "            <span style=\"color: #008000; text-decoration-color: #008000\">'agent'</span>: <span style=\"color: #008000; text-decoration-color: #008000\">'[propose] [Central Plaza, The Mall, The Tower]'</span>,\n",
       "            <span style=\"color: #008000; text-decoration-color: #008000\">'turn_player'</span>: <span style=\"color: #008000; text-decoration-color: #008000\">'agent'</span>,\n",
       "            <span style=\"color: #008000; text-decoration-color: #008000\">'done'</span>: <span style=\"color: #ff0000; text-decoration-color: #ff0000; font-style: italic\">False</span>,\n",
       "            <span style=\"color: #008000; text-decoration-color: #008000\">'reward'</span>: <span style=\"color: #008080; text-decoration-color: #008080; font-weight: bold\">0</span>,\n",
       "            <span style=\"color: #008000; text-decoration-color: #008000\">'info'</span>: <span style=\"font-weight: bold\">{</span><span style=\"color: #008000; text-decoration-color: #008000\">'num_msgs'</span>: <span style=\"color: #008080; text-decoration-color: #008080; font-weight: bold\">3</span><span style=\"font-weight: bold\">}</span>\n",
       "        <span style=\"font-weight: bold\">}</span>,\n",
       "        <span style=\"color: #808000; text-decoration-color: #808000\">features</span>=<span style=\"font-weight: bold\">{}</span>,\n",
       "        <span style=\"color: #808000; text-decoration-color: #808000\">turn</span>=<span style=\"color: #008080; text-decoration-color: #008080; font-weight: bold\">8</span>,\n",
       "        <span style=\"color: #808000; text-decoration-color: #808000\">responses</span>=<span style=\"color: #800080; text-decoration-color: #800080; font-style: italic\">None</span>,\n",
       "        <span style=\"color: #808000; text-decoration-color: #808000\">player_states</span>=<span style=\"color: #800080; text-decoration-color: #800080; font-style: italic\">None</span>\n",
       "    <span style=\"font-weight: bold\">)</span>,\n",
       "    <span style=\"color: #800080; text-decoration-color: #800080; font-weight: bold\">ConversationState</span><span style=\"font-weight: bold\">(</span>\n",
       "        <span style=\"color: #808000; text-decoration-color: #808000\">obss</span>=<span style=\"font-weight: bold\">{</span>\n",
       "            <span style=\"color: #008000; text-decoration-color: #008000\">'user'</span>: <span style=\"color: #008000; text-decoration-color: #008000\">\"\\nAgent: [message] Here's what I propose: start by visiting Central Plaza and The Mall, then </span>\n",
       "<span style=\"color: #008000; text-decoration-color: #008000\">take a short walk to The Tower, a nearby landmark which offers parking in case you need it. What do you think about</span>\n",
       "<span style=\"color: #008000; text-decoration-color: #008000\">this plan?\"</span>,\n",
       "            <span style=\"color: #008000; text-decoration-color: #008000\">'agent'</span>: <span style=\"color: #008000; text-decoration-color: #008000\">''</span>,\n",
       "            <span style=\"color: #008000; text-decoration-color: #008000\">'turn_player'</span>: <span style=\"color: #008000; text-decoration-color: #008000\">'user'</span>,\n",
       "            <span style=\"color: #008000; text-decoration-color: #008000\">'done'</span>: <span style=\"color: #ff0000; text-decoration-color: #ff0000; font-style: italic\">False</span>,\n",
       "            <span style=\"color: #008000; text-decoration-color: #008000\">'reward'</span>: <span style=\"color: #008080; text-decoration-color: #008080; font-weight: bold\">0</span>,\n",
       "            <span style=\"color: #008000; text-decoration-color: #008000\">'info'</span>: <span style=\"font-weight: bold\">{</span><span style=\"color: #008000; text-decoration-color: #008000\">'num_msgs'</span>: <span style=\"color: #008080; text-decoration-color: #008080; font-weight: bold\">4</span><span style=\"font-weight: bold\">}</span>\n",
       "        <span style=\"font-weight: bold\">}</span>,\n",
       "        <span style=\"color: #808000; text-decoration-color: #808000\">features</span>=<span style=\"font-weight: bold\">{}</span>,\n",
       "        <span style=\"color: #808000; text-decoration-color: #808000\">turn</span>=<span style=\"color: #008080; text-decoration-color: #008080; font-weight: bold\">9</span>,\n",
       "        <span style=\"color: #808000; text-decoration-color: #808000\">responses</span>=<span style=\"color: #800080; text-decoration-color: #800080; font-style: italic\">None</span>,\n",
       "        <span style=\"color: #808000; text-decoration-color: #808000\">player_states</span>=<span style=\"color: #800080; text-decoration-color: #800080; font-style: italic\">None</span>\n",
       "    <span style=\"font-weight: bold\">)</span>\n",
       "<span style=\"font-weight: bold\">]</span>\n",
       "</pre>\n"
      ],
      "text/plain": [
       "\u001b[1m[\u001b[0m\n",
       "    \u001b[1;35mConversationState\u001b[0m\u001b[1m(\u001b[0m\n",
       "        \u001b[33mobss\u001b[0m=\u001b[1m{\u001b[0m\n",
       "            \u001b[32m'user'\u001b[0m: \u001b[32m''\u001b[0m,\n",
       "            \u001b[32m'agent'\u001b[0m: \u001b[32m'\u001b[0m\u001b[32m[\u001b[0m\u001b[32mtool\u001b[0m\u001b[32m]\u001b[0m\u001b[32m Search\u001b[0m\u001b[32m(\u001b[0m\u001b[32mfields\u001b[0m\u001b[32m=\u001b[0m\u001b[32m[\u001b[0m\u001b[32mname, category, has parking, distance_to\u001b[0m\u001b[32m(\u001b[0m\u001b[32mCentral Plaza\u001b[0m\u001b[32m)\u001b[0m\u001b[32m]\u001b[0m\u001b[32m, \u001b[0m\n",
       "\u001b[32mfilters\u001b[0m\u001b[32m=\u001b[0m\u001b[32m[\u001b[0m\u001b[32mcategory == landmark, has parking == True\u001b[0m\u001b[32m]\u001b[0m\u001b[32m, \u001b[0m\u001b[32msort_by\u001b[0m\u001b[32m=\u001b[0m\u001b[32m[\u001b[0m\u001b[32mdistance_to\u001b[0m\u001b[32m(\u001b[0m\u001b[32mCentral Plaza\u001b[0m\u001b[32m)\u001b[0m\u001b[32m]\u001b[0m\u001b[32m, \u001b[0m\u001b[32mlimit\u001b[0m\u001b[32m=\u001b[0m\u001b[32m1\u001b[0m\u001b[32m)\u001b[0m\u001b[32m\\nSearch Results\u001b[0m\n",
       "\u001b[32m(\u001b[0m\u001b[32m1\u001b[0m\u001b[32m)\u001b[0m\u001b[32m:\\n- **Name:** The Tower\\n- **Category:** Landmark\\n- **Has Parking:** True\\n- **Distance to Central Plaza:** \u001b[0m\n",
       "\u001b[32m0.0'\u001b[0m,\n",
       "            \u001b[32m'turn_player'\u001b[0m: \u001b[32m'agent'\u001b[0m,\n",
       "            \u001b[32m'done'\u001b[0m: \u001b[3;91mFalse\u001b[0m,\n",
       "            \u001b[32m'reward'\u001b[0m: \u001b[1;36m0\u001b[0m,\n",
       "            \u001b[32m'info'\u001b[0m: \u001b[1m{\u001b[0m\u001b[32m'num_msgs'\u001b[0m: \u001b[1;36m3\u001b[0m\u001b[1m}\u001b[0m\n",
       "        \u001b[1m}\u001b[0m,\n",
       "        \u001b[33mfeatures\u001b[0m=\u001b[1m{\u001b[0m\u001b[1m}\u001b[0m,\n",
       "        \u001b[33mturn\u001b[0m=\u001b[1;36m6\u001b[0m,\n",
       "        \u001b[33mresponses\u001b[0m=\u001b[3;35mNone\u001b[0m,\n",
       "        \u001b[33mplayer_states\u001b[0m=\u001b[3;35mNone\u001b[0m\n",
       "    \u001b[1m)\u001b[0m,\n",
       "    \u001b[1;35mConversationState\u001b[0m\u001b[1m(\u001b[0m\n",
       "        \u001b[33mobss\u001b[0m=\u001b[1m{\u001b[0m\n",
       "            \u001b[32m'user'\u001b[0m: \u001b[32m''\u001b[0m,\n",
       "            \u001b[32m'agent'\u001b[0m: \u001b[32m\"\u001b[0m\u001b[32m[\u001b[0m\u001b[32mthink\u001b[0m\u001b[32m]\u001b[0m\u001b[32m The Tower seems to be a good third option since it matches with the user's preference\u001b[0m\n",
       "\u001b[32mfor a landmark and it's conveniently close to Central Plaza. Let's propose this itinerary.\"\u001b[0m,\n",
       "            \u001b[32m'turn_player'\u001b[0m: \u001b[32m'agent'\u001b[0m,\n",
       "            \u001b[32m'done'\u001b[0m: \u001b[3;91mFalse\u001b[0m,\n",
       "            \u001b[32m'reward'\u001b[0m: \u001b[1;36m0\u001b[0m,\n",
       "            \u001b[32m'info'\u001b[0m: \u001b[1m{\u001b[0m\u001b[32m'num_msgs'\u001b[0m: \u001b[1;36m3\u001b[0m\u001b[1m}\u001b[0m\n",
       "        \u001b[1m}\u001b[0m,\n",
       "        \u001b[33mfeatures\u001b[0m=\u001b[1m{\u001b[0m\u001b[1m}\u001b[0m,\n",
       "        \u001b[33mturn\u001b[0m=\u001b[1;36m7\u001b[0m,\n",
       "        \u001b[33mresponses\u001b[0m=\u001b[3;35mNone\u001b[0m,\n",
       "        \u001b[33mplayer_states\u001b[0m=\u001b[3;35mNone\u001b[0m\n",
       "    \u001b[1m)\u001b[0m,\n",
       "    \u001b[1;35mConversationState\u001b[0m\u001b[1m(\u001b[0m\n",
       "        \u001b[33mobss\u001b[0m=\u001b[1m{\u001b[0m\n",
       "            \u001b[32m'user'\u001b[0m: \u001b[32m\"\\nAgent: \u001b[0m\u001b[32m[\u001b[0m\u001b[32mpropose\u001b[0m\u001b[32m]\u001b[0m\u001b[32m \u001b[0m\u001b[32m[\u001b[0m\u001b[32mCentral Plaza, The Mall, The Tower\u001b[0m\u001b[32m]\u001b[0m\u001b[32m\\nProposal Score:\\n1\u001b[0m\u001b[32m)\u001b[0m\u001b[32m \u001b[0m\u001b[32m(\u001b[0m\u001b[32mscore: 3\u001b[0m\u001b[32m)\u001b[0m\u001b[32m \u001b[0m\n",
       "\u001b[32mCentral Plaza\\ngood for groups: True\\nhas parking: False\\nopen late: True\\nrating: 5\\ntouristy: False\\n2\u001b[0m\u001b[32m)\u001b[0m\u001b[32m \u001b[0m\u001b[32m(\u001b[0m\u001b[32mscore: \u001b[0m\n",
       "\u001b[32m-6\u001b[0m\u001b[32m)\u001b[0m\u001b[32m Travel from Central Plaza to The Mall, 1.0mi\\n3\u001b[0m\u001b[32m)\u001b[0m\u001b[32m \u001b[0m\u001b[32m(\u001b[0m\u001b[32mscore: 6\u001b[0m\u001b[32m)\u001b[0m\u001b[32m The Mall\\ngood for groups: False\\ngood for kids: \u001b[0m\n",
       "\u001b[32mTrue\\nopen late: True\\nrating: 3\\ntouristy: True\\n4\u001b[0m\u001b[32m)\u001b[0m\u001b[32m \u001b[0m\u001b[32m(\u001b[0m\u001b[32mscore: 0\u001b[0m\u001b[32m)\u001b[0m\u001b[32m Travel from The Mall to The Tower, 0.1mi\\n5\u001b[0m\u001b[32m)\u001b[0m\u001b[32m \u001b[0m\n",
       "\u001b[32m(\u001b[0m\u001b[32mscore: -6\u001b[0m\u001b[32m)\u001b[0m\u001b[32m The Tower\\ngood for groups: True\\ngood for kids: False\\nhas parking: True\\nopen late: False\\ntouristy: \u001b[0m\n",
       "\u001b[32mTrue\\n\\nOverall Checklist:\\nYES \u001b[0m\u001b[32m(\u001b[0m\u001b[32mscore: 9\u001b[0m\u001b[32m)\u001b[0m\u001b[32m go to at least one landmark\\nYES \u001b[0m\u001b[32m(\u001b[0m\u001b[32mscore: 4\u001b[0m\u001b[32m)\u001b[0m\u001b[32m definitely want to check out\u001b[0m\n",
       "\u001b[32mDan's recommendations: Central Plaza, The Mall\\nNO \u001b[0m\u001b[32m(\u001b[0m\u001b[32mscore: -4\u001b[0m\u001b[32m)\u001b[0m\u001b[32m keep budget below $40\\nTOTAL SCORE: \u001b[0m\n",
       "\u001b[32m+3-6+6+0-6+9+4-\u001b[0m\u001b[32m4\u001b[0m\u001b[32m=\u001b[0m\u001b[32m6\u001b[0m\u001b[32m\\nYou can \u001b[0m\u001b[32m[\u001b[0m\u001b[32mthink\u001b[0m\u001b[32m]\u001b[0m\u001b[32m, or output one of these choices:\\n\u001b[0m\u001b[32m(\u001b[0m\u001b[32m1\u001b[0m\u001b[32m)\u001b[0m\u001b[32m \u001b[0m\u001b[32m[\u001b[0m\u001b[32maccept\u001b[0m\u001b[32m]\u001b[0m\u001b[32m Accept\\n\u001b[0m\u001b[32m(\u001b[0m\u001b[32m2\u001b[0m\u001b[32m)\u001b[0m\u001b[32m \u001b[0m\u001b[32m[\u001b[0m\u001b[32mreject\u001b[0m\u001b[32m]\u001b[0m\u001b[32m Reject\"\u001b[0m,\n",
       "            \u001b[32m'agent'\u001b[0m: \u001b[32m'\u001b[0m\u001b[32m[\u001b[0m\u001b[32mpropose\u001b[0m\u001b[32m]\u001b[0m\u001b[32m \u001b[0m\u001b[32m[\u001b[0m\u001b[32mCentral Plaza, The Mall, The Tower\u001b[0m\u001b[32m]\u001b[0m\u001b[32m'\u001b[0m,\n",
       "            \u001b[32m'turn_player'\u001b[0m: \u001b[32m'agent'\u001b[0m,\n",
       "            \u001b[32m'done'\u001b[0m: \u001b[3;91mFalse\u001b[0m,\n",
       "            \u001b[32m'reward'\u001b[0m: \u001b[1;36m0\u001b[0m,\n",
       "            \u001b[32m'info'\u001b[0m: \u001b[1m{\u001b[0m\u001b[32m'num_msgs'\u001b[0m: \u001b[1;36m3\u001b[0m\u001b[1m}\u001b[0m\n",
       "        \u001b[1m}\u001b[0m,\n",
       "        \u001b[33mfeatures\u001b[0m=\u001b[1m{\u001b[0m\u001b[1m}\u001b[0m,\n",
       "        \u001b[33mturn\u001b[0m=\u001b[1;36m8\u001b[0m,\n",
       "        \u001b[33mresponses\u001b[0m=\u001b[3;35mNone\u001b[0m,\n",
       "        \u001b[33mplayer_states\u001b[0m=\u001b[3;35mNone\u001b[0m\n",
       "    \u001b[1m)\u001b[0m,\n",
       "    \u001b[1;35mConversationState\u001b[0m\u001b[1m(\u001b[0m\n",
       "        \u001b[33mobss\u001b[0m=\u001b[1m{\u001b[0m\n",
       "            \u001b[32m'user'\u001b[0m: \u001b[32m\"\\nAgent: \u001b[0m\u001b[32m[\u001b[0m\u001b[32mmessage\u001b[0m\u001b[32m]\u001b[0m\u001b[32m Here's what I propose: start by visiting Central Plaza and The Mall, then \u001b[0m\n",
       "\u001b[32mtake a short walk to The Tower, a nearby landmark which offers parking in case you need it. What do you think about\u001b[0m\n",
       "\u001b[32mthis plan?\"\u001b[0m,\n",
       "            \u001b[32m'agent'\u001b[0m: \u001b[32m''\u001b[0m,\n",
       "            \u001b[32m'turn_player'\u001b[0m: \u001b[32m'user'\u001b[0m,\n",
       "            \u001b[32m'done'\u001b[0m: \u001b[3;91mFalse\u001b[0m,\n",
       "            \u001b[32m'reward'\u001b[0m: \u001b[1;36m0\u001b[0m,\n",
       "            \u001b[32m'info'\u001b[0m: \u001b[1m{\u001b[0m\u001b[32m'num_msgs'\u001b[0m: \u001b[1;36m4\u001b[0m\u001b[1m}\u001b[0m\n",
       "        \u001b[1m}\u001b[0m,\n",
       "        \u001b[33mfeatures\u001b[0m=\u001b[1m{\u001b[0m\u001b[1m}\u001b[0m,\n",
       "        \u001b[33mturn\u001b[0m=\u001b[1;36m9\u001b[0m,\n",
       "        \u001b[33mresponses\u001b[0m=\u001b[3;35mNone\u001b[0m,\n",
       "        \u001b[33mplayer_states\u001b[0m=\u001b[3;35mNone\u001b[0m\n",
       "    \u001b[1m)\u001b[0m\n",
       "\u001b[1m]\u001b[0m\n"
      ]
     },
     "metadata": {},
     "output_type": "display_data"
    },
    {
     "data": {
      "text/html": [
       "<pre style=\"white-space:pre;overflow-x:auto;line-height:normal;font-family:Menlo,'DejaVu Sans Mono',consolas,'Courier New',monospace\"><span style=\"color: #008080; text-decoration-color: #008080; font-weight: bold\">0</span>\n",
       "</pre>\n"
      ],
      "text/plain": [
       "\u001b[1;36m0\u001b[0m\n"
      ]
     },
     "metadata": {},
     "output_type": "display_data"
    },
    {
     "data": {
      "text/html": [
       "<pre style=\"white-space:pre;overflow-x:auto;line-height:normal;font-family:Menlo,'DejaVu Sans Mono',consolas,'Courier New',monospace\"><span style=\"font-weight: bold\">[</span>\n",
       "    <span style=\"color: #800080; text-decoration-color: #800080; font-weight: bold\">ConversationState</span><span style=\"font-weight: bold\">(</span>\n",
       "        <span style=\"color: #808000; text-decoration-color: #808000\">obss</span>=<span style=\"font-weight: bold\">{</span>\n",
       "            <span style=\"color: #008000; text-decoration-color: #008000\">'user'</span>: <span style=\"color: #008000; text-decoration-color: #008000\">''</span>,\n",
       "            <span style=\"color: #008000; text-decoration-color: #008000\">'agent'</span>: <span style=\"color: #008000; text-decoration-color: #008000\">'[tool] Search(fields=[name, category, has parking], filters=[category == landmark], </span>\n",
       "<span style=\"color: #008000; text-decoration-color: #008000\">sort_by=[distance_to(The Mall)], limit=1)\\nSearch Results (1):\\n- **Name:** The Tower\\n- **Category:** Landmark\\n- </span>\n",
       "<span style=\"color: #008000; text-decoration-color: #008000\">**Has Parking:** True'</span>,\n",
       "            <span style=\"color: #008000; text-decoration-color: #008000\">'turn_player'</span>: <span style=\"color: #008000; text-decoration-color: #008000\">'agent'</span>,\n",
       "            <span style=\"color: #008000; text-decoration-color: #008000\">'done'</span>: <span style=\"color: #ff0000; text-decoration-color: #ff0000; font-style: italic\">False</span>,\n",
       "            <span style=\"color: #008000; text-decoration-color: #008000\">'reward'</span>: <span style=\"color: #008080; text-decoration-color: #008080; font-weight: bold\">0</span>,\n",
       "            <span style=\"color: #008000; text-decoration-color: #008000\">'info'</span>: <span style=\"font-weight: bold\">{</span><span style=\"color: #008000; text-decoration-color: #008000\">'num_msgs'</span>: <span style=\"color: #008080; text-decoration-color: #008080; font-weight: bold\">3</span><span style=\"font-weight: bold\">}</span>\n",
       "        <span style=\"font-weight: bold\">}</span>,\n",
       "        <span style=\"color: #808000; text-decoration-color: #808000\">features</span>=<span style=\"font-weight: bold\">{}</span>,\n",
       "        <span style=\"color: #808000; text-decoration-color: #808000\">turn</span>=<span style=\"color: #008080; text-decoration-color: #008080; font-weight: bold\">6</span>,\n",
       "        <span style=\"color: #808000; text-decoration-color: #808000\">responses</span>=<span style=\"color: #800080; text-decoration-color: #800080; font-style: italic\">None</span>,\n",
       "        <span style=\"color: #808000; text-decoration-color: #808000\">player_states</span>=<span style=\"color: #800080; text-decoration-color: #800080; font-style: italic\">None</span>\n",
       "    <span style=\"font-weight: bold\">)</span>,\n",
       "    <span style=\"color: #800080; text-decoration-color: #800080; font-weight: bold\">ConversationState</span><span style=\"font-weight: bold\">(</span>\n",
       "        <span style=\"color: #808000; text-decoration-color: #808000\">obss</span>=<span style=\"font-weight: bold\">{</span>\n",
       "            <span style=\"color: #008000; text-decoration-color: #008000\">'user'</span>: <span style=\"color: #008000; text-decoration-color: #008000\">\"\\nAgent: [propose] [Central Plaza, The Mall, The Tower]\\nProposal Score:\\n1) (score: 3) </span>\n",
       "<span style=\"color: #008000; text-decoration-color: #008000\">Central Plaza\\ngood for groups: True\\nhas parking: False\\nopen late: True\\nrating: 5\\ntouristy: False\\n2) (score: </span>\n",
       "<span style=\"color: #008000; text-decoration-color: #008000\">-6) Travel from Central Plaza to The Mall, 1.0mi\\n3) (score: 6) The Mall\\ngood for groups: False\\ngood for kids: </span>\n",
       "<span style=\"color: #008000; text-decoration-color: #008000\">True\\nopen late: True\\nrating: 3\\ntouristy: True\\n4) (score: 0) Travel from The Mall to The Tower, 0.1mi\\n5) </span>\n",
       "<span style=\"color: #008000; text-decoration-color: #008000\">(score: -6) The Tower\\ngood for groups: True\\ngood for kids: False\\nhas parking: True\\nopen late: False\\ntouristy: </span>\n",
       "<span style=\"color: #008000; text-decoration-color: #008000\">True\\n\\nOverall Checklist:\\nYES (score: 9) go to at least one landmark\\nYES (score: 4) definitely want to check out</span>\n",
       "<span style=\"color: #008000; text-decoration-color: #008000\">Dan's recommendations: Central Plaza, The Mall\\nNO (score: -4) keep budget below $40\\nTOTAL SCORE: </span>\n",
       "<span style=\"color: #008000; text-decoration-color: #008000\">+3-6+6+0-6+9+4-4=6\\nYou can [think], or output one of these choices:\\n(1) [accept] Accept\\n(2) [reject] Reject\"</span>,\n",
       "            <span style=\"color: #008000; text-decoration-color: #008000\">'agent'</span>: <span style=\"color: #008000; text-decoration-color: #008000\">'[propose] [Central Plaza, The Mall, The Tower]'</span>,\n",
       "            <span style=\"color: #008000; text-decoration-color: #008000\">'turn_player'</span>: <span style=\"color: #008000; text-decoration-color: #008000\">'agent'</span>,\n",
       "            <span style=\"color: #008000; text-decoration-color: #008000\">'done'</span>: <span style=\"color: #ff0000; text-decoration-color: #ff0000; font-style: italic\">False</span>,\n",
       "            <span style=\"color: #008000; text-decoration-color: #008000\">'reward'</span>: <span style=\"color: #008080; text-decoration-color: #008080; font-weight: bold\">0</span>,\n",
       "            <span style=\"color: #008000; text-decoration-color: #008000\">'info'</span>: <span style=\"font-weight: bold\">{</span><span style=\"color: #008000; text-decoration-color: #008000\">'num_msgs'</span>: <span style=\"color: #008080; text-decoration-color: #008080; font-weight: bold\">3</span><span style=\"font-weight: bold\">}</span>\n",
       "        <span style=\"font-weight: bold\">}</span>,\n",
       "        <span style=\"color: #808000; text-decoration-color: #808000\">features</span>=<span style=\"font-weight: bold\">{}</span>,\n",
       "        <span style=\"color: #808000; text-decoration-color: #808000\">turn</span>=<span style=\"color: #008080; text-decoration-color: #008080; font-weight: bold\">7</span>,\n",
       "        <span style=\"color: #808000; text-decoration-color: #808000\">responses</span>=<span style=\"color: #800080; text-decoration-color: #800080; font-style: italic\">None</span>,\n",
       "        <span style=\"color: #808000; text-decoration-color: #808000\">player_states</span>=<span style=\"color: #800080; text-decoration-color: #800080; font-style: italic\">None</span>\n",
       "    <span style=\"font-weight: bold\">)</span>,\n",
       "    <span style=\"color: #800080; text-decoration-color: #800080; font-weight: bold\">ConversationState</span><span style=\"font-weight: bold\">(</span>\n",
       "        <span style=\"color: #808000; text-decoration-color: #808000\">obss</span>=<span style=\"font-weight: bold\">{</span>\n",
       "            <span style=\"color: #008000; text-decoration-color: #008000\">'user'</span>: <span style=\"color: #008000; text-decoration-color: #008000\">\"\\nAgent: [message] I have a recommendation for you that aligns with your preferences: Central </span>\n",
       "<span style=\"color: #008000; text-decoration-color: #008000\">Plaza and The Mall, which you've mentioned before, as well as The Tower - it's a landmark and it has parking. What </span>\n",
       "<span style=\"color: #008000; text-decoration-color: #008000\">do you think of this itinerary?\"</span>,\n",
       "            <span style=\"color: #008000; text-decoration-color: #008000\">'agent'</span>: <span style=\"color: #008000; text-decoration-color: #008000\">''</span>,\n",
       "            <span style=\"color: #008000; text-decoration-color: #008000\">'turn_player'</span>: <span style=\"color: #008000; text-decoration-color: #008000\">'user'</span>,\n",
       "            <span style=\"color: #008000; text-decoration-color: #008000\">'done'</span>: <span style=\"color: #ff0000; text-decoration-color: #ff0000; font-style: italic\">False</span>,\n",
       "            <span style=\"color: #008000; text-decoration-color: #008000\">'reward'</span>: <span style=\"color: #008080; text-decoration-color: #008080; font-weight: bold\">0</span>,\n",
       "            <span style=\"color: #008000; text-decoration-color: #008000\">'info'</span>: <span style=\"font-weight: bold\">{</span><span style=\"color: #008000; text-decoration-color: #008000\">'num_msgs'</span>: <span style=\"color: #008080; text-decoration-color: #008080; font-weight: bold\">4</span><span style=\"font-weight: bold\">}</span>\n",
       "        <span style=\"font-weight: bold\">}</span>,\n",
       "        <span style=\"color: #808000; text-decoration-color: #808000\">features</span>=<span style=\"font-weight: bold\">{}</span>,\n",
       "        <span style=\"color: #808000; text-decoration-color: #808000\">turn</span>=<span style=\"color: #008080; text-decoration-color: #008080; font-weight: bold\">8</span>,\n",
       "        <span style=\"color: #808000; text-decoration-color: #808000\">responses</span>=<span style=\"color: #800080; text-decoration-color: #800080; font-style: italic\">None</span>,\n",
       "        <span style=\"color: #808000; text-decoration-color: #808000\">player_states</span>=<span style=\"color: #800080; text-decoration-color: #800080; font-style: italic\">None</span>\n",
       "    <span style=\"font-weight: bold\">)</span>\n",
       "<span style=\"font-weight: bold\">]</span>\n",
       "</pre>\n"
      ],
      "text/plain": [
       "\u001b[1m[\u001b[0m\n",
       "    \u001b[1;35mConversationState\u001b[0m\u001b[1m(\u001b[0m\n",
       "        \u001b[33mobss\u001b[0m=\u001b[1m{\u001b[0m\n",
       "            \u001b[32m'user'\u001b[0m: \u001b[32m''\u001b[0m,\n",
       "            \u001b[32m'agent'\u001b[0m: \u001b[32m'\u001b[0m\u001b[32m[\u001b[0m\u001b[32mtool\u001b[0m\u001b[32m]\u001b[0m\u001b[32m Search\u001b[0m\u001b[32m(\u001b[0m\u001b[32mfields\u001b[0m\u001b[32m=\u001b[0m\u001b[32m[\u001b[0m\u001b[32mname, category, has parking\u001b[0m\u001b[32m]\u001b[0m\u001b[32m, \u001b[0m\u001b[32mfilters\u001b[0m\u001b[32m=\u001b[0m\u001b[32m[\u001b[0m\u001b[32mcategory == landmark\u001b[0m\u001b[32m]\u001b[0m\u001b[32m, \u001b[0m\n",
       "\u001b[32msort_by\u001b[0m\u001b[32m=\u001b[0m\u001b[32m[\u001b[0m\u001b[32mdistance_to\u001b[0m\u001b[32m(\u001b[0m\u001b[32mThe Mall\u001b[0m\u001b[32m)\u001b[0m\u001b[32m]\u001b[0m\u001b[32m, \u001b[0m\u001b[32mlimit\u001b[0m\u001b[32m=\u001b[0m\u001b[32m1\u001b[0m\u001b[32m)\u001b[0m\u001b[32m\\nSearch Results \u001b[0m\u001b[32m(\u001b[0m\u001b[32m1\u001b[0m\u001b[32m)\u001b[0m\u001b[32m:\\n- **Name:** The Tower\\n- **Category:** Landmark\\n- \u001b[0m\n",
       "\u001b[32m**Has Parking:** True'\u001b[0m,\n",
       "            \u001b[32m'turn_player'\u001b[0m: \u001b[32m'agent'\u001b[0m,\n",
       "            \u001b[32m'done'\u001b[0m: \u001b[3;91mFalse\u001b[0m,\n",
       "            \u001b[32m'reward'\u001b[0m: \u001b[1;36m0\u001b[0m,\n",
       "            \u001b[32m'info'\u001b[0m: \u001b[1m{\u001b[0m\u001b[32m'num_msgs'\u001b[0m: \u001b[1;36m3\u001b[0m\u001b[1m}\u001b[0m\n",
       "        \u001b[1m}\u001b[0m,\n",
       "        \u001b[33mfeatures\u001b[0m=\u001b[1m{\u001b[0m\u001b[1m}\u001b[0m,\n",
       "        \u001b[33mturn\u001b[0m=\u001b[1;36m6\u001b[0m,\n",
       "        \u001b[33mresponses\u001b[0m=\u001b[3;35mNone\u001b[0m,\n",
       "        \u001b[33mplayer_states\u001b[0m=\u001b[3;35mNone\u001b[0m\n",
       "    \u001b[1m)\u001b[0m,\n",
       "    \u001b[1;35mConversationState\u001b[0m\u001b[1m(\u001b[0m\n",
       "        \u001b[33mobss\u001b[0m=\u001b[1m{\u001b[0m\n",
       "            \u001b[32m'user'\u001b[0m: \u001b[32m\"\\nAgent: \u001b[0m\u001b[32m[\u001b[0m\u001b[32mpropose\u001b[0m\u001b[32m]\u001b[0m\u001b[32m \u001b[0m\u001b[32m[\u001b[0m\u001b[32mCentral Plaza, The Mall, The Tower\u001b[0m\u001b[32m]\u001b[0m\u001b[32m\\nProposal Score:\\n1\u001b[0m\u001b[32m)\u001b[0m\u001b[32m \u001b[0m\u001b[32m(\u001b[0m\u001b[32mscore: 3\u001b[0m\u001b[32m)\u001b[0m\u001b[32m \u001b[0m\n",
       "\u001b[32mCentral Plaza\\ngood for groups: True\\nhas parking: False\\nopen late: True\\nrating: 5\\ntouristy: False\\n2\u001b[0m\u001b[32m)\u001b[0m\u001b[32m \u001b[0m\u001b[32m(\u001b[0m\u001b[32mscore: \u001b[0m\n",
       "\u001b[32m-6\u001b[0m\u001b[32m)\u001b[0m\u001b[32m Travel from Central Plaza to The Mall, 1.0mi\\n3\u001b[0m\u001b[32m)\u001b[0m\u001b[32m \u001b[0m\u001b[32m(\u001b[0m\u001b[32mscore: 6\u001b[0m\u001b[32m)\u001b[0m\u001b[32m The Mall\\ngood for groups: False\\ngood for kids: \u001b[0m\n",
       "\u001b[32mTrue\\nopen late: True\\nrating: 3\\ntouristy: True\\n4\u001b[0m\u001b[32m)\u001b[0m\u001b[32m \u001b[0m\u001b[32m(\u001b[0m\u001b[32mscore: 0\u001b[0m\u001b[32m)\u001b[0m\u001b[32m Travel from The Mall to The Tower, 0.1mi\\n5\u001b[0m\u001b[32m)\u001b[0m\u001b[32m \u001b[0m\n",
       "\u001b[32m(\u001b[0m\u001b[32mscore: -6\u001b[0m\u001b[32m)\u001b[0m\u001b[32m The Tower\\ngood for groups: True\\ngood for kids: False\\nhas parking: True\\nopen late: False\\ntouristy: \u001b[0m\n",
       "\u001b[32mTrue\\n\\nOverall Checklist:\\nYES \u001b[0m\u001b[32m(\u001b[0m\u001b[32mscore: 9\u001b[0m\u001b[32m)\u001b[0m\u001b[32m go to at least one landmark\\nYES \u001b[0m\u001b[32m(\u001b[0m\u001b[32mscore: 4\u001b[0m\u001b[32m)\u001b[0m\u001b[32m definitely want to check out\u001b[0m\n",
       "\u001b[32mDan's recommendations: Central Plaza, The Mall\\nNO \u001b[0m\u001b[32m(\u001b[0m\u001b[32mscore: -4\u001b[0m\u001b[32m)\u001b[0m\u001b[32m keep budget below $40\\nTOTAL SCORE: \u001b[0m\n",
       "\u001b[32m+3-6+6+0-6+9+4-\u001b[0m\u001b[32m4\u001b[0m\u001b[32m=\u001b[0m\u001b[32m6\u001b[0m\u001b[32m\\nYou can \u001b[0m\u001b[32m[\u001b[0m\u001b[32mthink\u001b[0m\u001b[32m]\u001b[0m\u001b[32m, or output one of these choices:\\n\u001b[0m\u001b[32m(\u001b[0m\u001b[32m1\u001b[0m\u001b[32m)\u001b[0m\u001b[32m \u001b[0m\u001b[32m[\u001b[0m\u001b[32maccept\u001b[0m\u001b[32m]\u001b[0m\u001b[32m Accept\\n\u001b[0m\u001b[32m(\u001b[0m\u001b[32m2\u001b[0m\u001b[32m)\u001b[0m\u001b[32m \u001b[0m\u001b[32m[\u001b[0m\u001b[32mreject\u001b[0m\u001b[32m]\u001b[0m\u001b[32m Reject\"\u001b[0m,\n",
       "            \u001b[32m'agent'\u001b[0m: \u001b[32m'\u001b[0m\u001b[32m[\u001b[0m\u001b[32mpropose\u001b[0m\u001b[32m]\u001b[0m\u001b[32m \u001b[0m\u001b[32m[\u001b[0m\u001b[32mCentral Plaza, The Mall, The Tower\u001b[0m\u001b[32m]\u001b[0m\u001b[32m'\u001b[0m,\n",
       "            \u001b[32m'turn_player'\u001b[0m: \u001b[32m'agent'\u001b[0m,\n",
       "            \u001b[32m'done'\u001b[0m: \u001b[3;91mFalse\u001b[0m,\n",
       "            \u001b[32m'reward'\u001b[0m: \u001b[1;36m0\u001b[0m,\n",
       "            \u001b[32m'info'\u001b[0m: \u001b[1m{\u001b[0m\u001b[32m'num_msgs'\u001b[0m: \u001b[1;36m3\u001b[0m\u001b[1m}\u001b[0m\n",
       "        \u001b[1m}\u001b[0m,\n",
       "        \u001b[33mfeatures\u001b[0m=\u001b[1m{\u001b[0m\u001b[1m}\u001b[0m,\n",
       "        \u001b[33mturn\u001b[0m=\u001b[1;36m7\u001b[0m,\n",
       "        \u001b[33mresponses\u001b[0m=\u001b[3;35mNone\u001b[0m,\n",
       "        \u001b[33mplayer_states\u001b[0m=\u001b[3;35mNone\u001b[0m\n",
       "    \u001b[1m)\u001b[0m,\n",
       "    \u001b[1;35mConversationState\u001b[0m\u001b[1m(\u001b[0m\n",
       "        \u001b[33mobss\u001b[0m=\u001b[1m{\u001b[0m\n",
       "            \u001b[32m'user'\u001b[0m: \u001b[32m\"\\nAgent: \u001b[0m\u001b[32m[\u001b[0m\u001b[32mmessage\u001b[0m\u001b[32m]\u001b[0m\u001b[32m I have a recommendation for you that aligns with your preferences: Central \u001b[0m\n",
       "\u001b[32mPlaza and The Mall, which you've mentioned before, as well as The Tower - it's a landmark and it has parking. What \u001b[0m\n",
       "\u001b[32mdo you think of this itinerary?\"\u001b[0m,\n",
       "            \u001b[32m'agent'\u001b[0m: \u001b[32m''\u001b[0m,\n",
       "            \u001b[32m'turn_player'\u001b[0m: \u001b[32m'user'\u001b[0m,\n",
       "            \u001b[32m'done'\u001b[0m: \u001b[3;91mFalse\u001b[0m,\n",
       "            \u001b[32m'reward'\u001b[0m: \u001b[1;36m0\u001b[0m,\n",
       "            \u001b[32m'info'\u001b[0m: \u001b[1m{\u001b[0m\u001b[32m'num_msgs'\u001b[0m: \u001b[1;36m4\u001b[0m\u001b[1m}\u001b[0m\n",
       "        \u001b[1m}\u001b[0m,\n",
       "        \u001b[33mfeatures\u001b[0m=\u001b[1m{\u001b[0m\u001b[1m}\u001b[0m,\n",
       "        \u001b[33mturn\u001b[0m=\u001b[1;36m8\u001b[0m,\n",
       "        \u001b[33mresponses\u001b[0m=\u001b[3;35mNone\u001b[0m,\n",
       "        \u001b[33mplayer_states\u001b[0m=\u001b[3;35mNone\u001b[0m\n",
       "    \u001b[1m)\u001b[0m\n",
       "\u001b[1m]\u001b[0m\n"
      ]
     },
     "metadata": {},
     "output_type": "display_data"
    },
    {
     "data": {
      "text/html": [
       "<pre style=\"white-space:pre;overflow-x:auto;line-height:normal;font-family:Menlo,'DejaVu Sans Mono',consolas,'Courier New',monospace\"><span style=\"color: #008080; text-decoration-color: #008080; font-weight: bold\">0</span>\n",
       "</pre>\n"
      ],
      "text/plain": [
       "\u001b[1;36m0\u001b[0m\n"
      ]
     },
     "metadata": {},
     "output_type": "display_data"
    }
   ],
   "source": [
    "for conv in parallel_convs.conversations:\n",
    "    print(conv.history)\n",
    "    print(0)\n"
   ]
  },
  {
   "cell_type": "code",
   "execution_count": 185,
   "metadata": {},
   "outputs": [
    {
     "data": {
      "text/html": [
       "<pre style=\"white-space:pre;overflow-x:auto;line-height:normal;font-family:Menlo,'DejaVu Sans Mono',consolas,'Courier New',monospace\"><span style=\"font-weight: bold\">[</span>\n",
       "    <span style=\"font-weight: bold\">[</span>\n",
       "        <span style=\"color: #008000; text-decoration-color: #008000\">'[Central Plaza, The Mall, NULL]'</span>,\n",
       "        <span style=\"color: #008000; text-decoration-color: #008000\">'[Central Plaza, The Mall, NULL]'</span>,\n",
       "        <span style=\"color: #008000; text-decoration-color: #008000\">'[Central Plaza, The Mall, Garden of Wonders]'</span>,\n",
       "        <span style=\"color: #008000; text-decoration-color: #008000\">'[Central Plaza, The Mall, NULL]'</span>,\n",
       "        <span style=\"color: #008000; text-decoration-color: #008000\">'[Central Plaza, The Mall, Riverside Terrace]'</span>,\n",
       "        <span style=\"color: #008000; text-decoration-color: #008000\">'[Central Plaza, The Mall, Hindenberg Memorial]'</span>,\n",
       "        <span style=\"color: #008000; text-decoration-color: #008000\">'[Central Plaza, The Mall, Liberty Memorial]'</span>,\n",
       "        <span style=\"color: #008000; text-decoration-color: #008000\">'[Central Plaza, The Mall, Atlas Park]'</span>,\n",
       "        <span style=\"color: #008000; text-decoration-color: #008000\">'[Central Plaza, The Mall, The Dockside Grill]'</span>,\n",
       "        <span style=\"color: #008000; text-decoration-color: #008000\">'[Central Plaza, The Mall, NULL]'</span>\n",
       "    <span style=\"font-weight: bold\">]</span>\n",
       "<span style=\"font-weight: bold\">]</span>\n",
       "</pre>\n"
      ],
      "text/plain": [
       "\u001b[1m[\u001b[0m\n",
       "    \u001b[1m[\u001b[0m\n",
       "        \u001b[32m'\u001b[0m\u001b[32m[\u001b[0m\u001b[32mCentral Plaza, The Mall, NULL\u001b[0m\u001b[32m]\u001b[0m\u001b[32m'\u001b[0m,\n",
       "        \u001b[32m'\u001b[0m\u001b[32m[\u001b[0m\u001b[32mCentral Plaza, The Mall, NULL\u001b[0m\u001b[32m]\u001b[0m\u001b[32m'\u001b[0m,\n",
       "        \u001b[32m'\u001b[0m\u001b[32m[\u001b[0m\u001b[32mCentral Plaza, The Mall, Garden of Wonders\u001b[0m\u001b[32m]\u001b[0m\u001b[32m'\u001b[0m,\n",
       "        \u001b[32m'\u001b[0m\u001b[32m[\u001b[0m\u001b[32mCentral Plaza, The Mall, NULL\u001b[0m\u001b[32m]\u001b[0m\u001b[32m'\u001b[0m,\n",
       "        \u001b[32m'\u001b[0m\u001b[32m[\u001b[0m\u001b[32mCentral Plaza, The Mall, Riverside Terrace\u001b[0m\u001b[32m]\u001b[0m\u001b[32m'\u001b[0m,\n",
       "        \u001b[32m'\u001b[0m\u001b[32m[\u001b[0m\u001b[32mCentral Plaza, The Mall, Hindenberg Memorial\u001b[0m\u001b[32m]\u001b[0m\u001b[32m'\u001b[0m,\n",
       "        \u001b[32m'\u001b[0m\u001b[32m[\u001b[0m\u001b[32mCentral Plaza, The Mall, Liberty Memorial\u001b[0m\u001b[32m]\u001b[0m\u001b[32m'\u001b[0m,\n",
       "        \u001b[32m'\u001b[0m\u001b[32m[\u001b[0m\u001b[32mCentral Plaza, The Mall, Atlas Park\u001b[0m\u001b[32m]\u001b[0m\u001b[32m'\u001b[0m,\n",
       "        \u001b[32m'\u001b[0m\u001b[32m[\u001b[0m\u001b[32mCentral Plaza, The Mall, The Dockside Grill\u001b[0m\u001b[32m]\u001b[0m\u001b[32m'\u001b[0m,\n",
       "        \u001b[32m'\u001b[0m\u001b[32m[\u001b[0m\u001b[32mCentral Plaza, The Mall, NULL\u001b[0m\u001b[32m]\u001b[0m\u001b[32m'\u001b[0m\n",
       "    \u001b[1m]\u001b[0m\n",
       "\u001b[1m]\u001b[0m\n"
      ]
     },
     "metadata": {},
     "output_type": "display_data"
    }
   ],
   "source": [
    "print(agent_proposals)"
   ]
  },
  {
   "cell_type": "code",
   "execution_count": 18,
   "metadata": {},
   "outputs": [],
   "source": [
    "def hardcode_rate_agent_proposals(agent_proposals, parallel_convs):\n",
    "    proposal_scores = []\n",
    "    for conversation in parallel_convs.conversations:\n",
    "        scores = []\n",
    "        for son_conv in conversation.son_convs:\n",
    "            score = extract_total_score(son_conv.state.obss['user'])\n",
    "            normalized_score = son_conv.env._normalize(score)\n",
    "            scores.append(round(normalized_score, 3))\n",
    "            #print(normalized_score)\n",
    "        proposal_scores.append(scores)\n",
    "    return proposal_scores\n",
    "            \n",
    "            \n",
    "\n",
    "\n",
    "\n"
   ]
  },
  {
   "cell_type": "code",
   "execution_count": 19,
   "metadata": {},
   "outputs": [],
   "source": [
    "def get_tool_calls(conversation):\n",
    "    tool_calls = []\n",
    "    for state in conversation.history:\n",
    "        if state.obss['agent'].startswith('[tool]'):\n",
    "            tool_calls.append(state.obss['agent'])\n",
    "    tool_calls = '\\n'.join(tool_calls)\n",
    "    return tool_calls\n",
    "\n",
    "\n"
   ]
  },
  {
   "cell_type": "code",
   "execution_count": 20,
   "metadata": {},
   "outputs": [],
   "source": [
    "def api_score_extraction(response):\n",
    "    try:\n",
    "        score = int(response.split('TOTAL SCORE:')[-1].strip())\n",
    "    except:\n",
    "        # Extract just the number after TOTAL SCORE:\n",
    "        score = []\n",
    "        letters = list(response.split('TOTAL SCORE:')[-1].strip())\n",
    "        for letter in letters:\n",
    "            if letter.isdigit():\n",
    "               score.append(letter)\n",
    "        score = int(''.join(score))\n",
    "    return score\n"
   ]
  },
  {
   "cell_type": "code",
   "execution_count": 191,
   "metadata": {},
   "outputs": [],
   "source": [
    "def extract_proposal(conversation):\n",
    "    for state in conversation.history:\n",
    "        if '[propose]' in state.obss['agent'] and 'Error' not in state.obss['agent']:\n",
    "            proposal = state.obss['agent']\n",
    "    return proposal\n"
   ]
  },
  {
   "cell_type": "code",
   "execution_count": 195,
   "metadata": {},
   "outputs": [],
   "source": [
    "def api_rate_agent_proposals(agent_proposals, parallel_convs):\n",
    "    # here can use the global_preferences_only\n",
    "    all_prompts = []\n",
    "    USER_EVAL_PROMPT = \"\"\"You are a user evaluating an AI travel agent's itinerary proposals. You have specific preferences, and you should evaluate how well the agent's proposals match these preferences.\n",
    "\n",
    "Your preferences are:\n",
    "{preferences}\n",
    "\n",
    "For each proposal, you will see:\n",
    "1. The proposed itinerary\n",
    "2. The agent's search history showing attributes of each location\n",
    "\n",
    "The proposal is:\n",
    "{proposal}\n",
    "\n",
    "The search history is:\n",
    "{tool_calls}\n",
    "\n",
    "Please evaluate each proposal by:\n",
    "1. Reading the proposal and search history carefully\n",
    "2. Checking if the locations match your stated preferences\n",
    "3. output a score between 0 and 100 in the format of 'TOTAL SCORE: 100'\"\"\"\n",
    "    global global_preferences_only\n",
    "    all_tool_calls = []\n",
    "    count = 0\n",
    "    all_scores = []\n",
    "    for i, conversation in enumerate(parallel_convs.conversations):\n",
    "        tool_calls = get_tool_calls(conversation)\n",
    "        all_tool_calls.append(tool_calls)\n",
    "        if conversation.propose_made:\n",
    "            proposal = extract_proposal(conversation)\n",
    "        else:\n",
    "            proposal_list = agent_proposals[i]\n",
    "        prompts = []\n",
    "        scores = []\n",
    "        i = 0\n",
    "        while i < 10:\n",
    "            if not conversation.propose_made:\n",
    "                proposal = proposal_list[i]\n",
    "            preferences = global_preferences_only[count%10]\n",
    "            tailored_prompt = USER_EVAL_PROMPT.format(preferences = preferences, proposal = proposal, tool_calls = tool_calls)\n",
    "            response = Agent_tell(tailored_prompt)\n",
    "            try:\n",
    "                score = api_score_extraction(response)\n",
    "            except:\n",
    "                score = -1\n",
    "            #print(score)\n",
    "            if 0 <= score <= 100:\n",
    "                count += 1\n",
    "                scores.append(score)\n",
    "                prompts.append(tailored_prompt)\n",
    "                i += 1\n",
    "        all_scores.append(scores)\n",
    "        all_prompts.append(prompts)\n",
    "    return all_scores, all_prompts\n",
    "            \n",
    "   \n",
    "\n",
    "\n",
    "\n"
   ]
  },
  {
   "cell_type": "code",
   "execution_count": 22,
   "metadata": {},
   "outputs": [],
   "source": [
    "def choose_best_path(scores):\n",
    "    best_score = 0\n",
    "    best_path = None\n",
    "    for i, score_list in enumerate(scores):\n",
    "        path_average = sum(score_list) / len(score_list) if score_list else 0\n",
    "        if path_average > best_score:\n",
    "            best_score = path_average\n",
    "            best_path = i\n",
    "    return best_path\n",
    "\n",
    "\n"
   ]
  },
  {
   "cell_type": "code",
   "execution_count": 23,
   "metadata": {},
   "outputs": [],
   "source": [
    "def save_best_path_as_checkpoint(parallel_convs, best_path, checkpoint_manager):\n",
    "    \"\"\"Save the best conversation path as a checkpoint\"\"\"\n",
    "    best_conv = parallel_convs.conversations[best_path]\n",
    "    \n",
    "    \n",
    "    # Create state dict from best conversation\n",
    "    state = {\n",
    "        'players': best_conv.players,\n",
    "        'history': best_conv.history,\n",
    "        'env_state': best_conv.env.game.get_game_info(override_events=True),\n",
    "        'turn': best_conv.history[-1].turn if best_conv.history else 0\n",
    "    }\n",
    "    \n",
    "    # Save as checkpoint \n",
    "    checkpoint_name = f\"best_path_{int(time.time())}\"\n",
    "    checkpoint_manager.save_state(state, checkpoint_name)\n",
    "    return checkpoint_name\n",
    "\n",
    "\n",
    "\n"
   ]
  },
  {
   "cell_type": "code",
   "execution_count": 196,
   "metadata": {},
   "outputs": [],
   "source": [
    "scores = api_rate_agent_proposals(agent_proposals, parallel_convs)\n",
    "best_path = choose_best_path(scores)\n"
   ]
  },
  {
   "cell_type": "code",
   "execution_count": 197,
   "metadata": {},
   "outputs": [
    {
     "data": {
      "text/html": [
       "<pre style=\"white-space:pre;overflow-x:auto;line-height:normal;font-family:Menlo,'DejaVu Sans Mono',consolas,'Courier New',monospace\"><span style=\"color: #008080; text-decoration-color: #008080; font-weight: bold\">2</span>\n",
       "</pre>\n"
      ],
      "text/plain": [
       "\u001b[1;36m2\u001b[0m\n"
      ]
     },
     "metadata": {},
     "output_type": "display_data"
    },
    {
     "data": {
      "text/html": [
       "<pre style=\"white-space:pre;overflow-x:auto;line-height:normal;font-family:Menlo,'DejaVu Sans Mono',consolas,'Courier New',monospace\"><span style=\"font-weight: bold\">[</span>\n",
       "    <span style=\"font-weight: bold\">[</span><span style=\"color: #008080; text-decoration-color: #008080; font-weight: bold\">40</span>, <span style=\"color: #008080; text-decoration-color: #008080; font-weight: bold\">70</span>, <span style=\"color: #008080; text-decoration-color: #008080; font-weight: bold\">20</span>, <span style=\"color: #008080; text-decoration-color: #008080; font-weight: bold\">50</span>, <span style=\"color: #008080; text-decoration-color: #008080; font-weight: bold\">10</span>, <span style=\"color: #008080; text-decoration-color: #008080; font-weight: bold\">85</span>, <span style=\"color: #008080; text-decoration-color: #008080; font-weight: bold\">60</span>, <span style=\"color: #008080; text-decoration-color: #008080; font-weight: bold\">30</span>, <span style=\"color: #008080; text-decoration-color: #008080; font-weight: bold\">50</span>, <span style=\"color: #008080; text-decoration-color: #008080; font-weight: bold\">50</span><span style=\"font-weight: bold\">]</span>,\n",
       "    <span style=\"font-weight: bold\">[</span><span style=\"color: #008080; text-decoration-color: #008080; font-weight: bold\">40</span>, <span style=\"color: #008080; text-decoration-color: #008080; font-weight: bold\">60</span>, <span style=\"color: #008080; text-decoration-color: #008080; font-weight: bold\">50</span>, <span style=\"color: #008080; text-decoration-color: #008080; font-weight: bold\">50</span>, <span style=\"color: #008080; text-decoration-color: #008080; font-weight: bold\">60</span>, <span style=\"color: #008080; text-decoration-color: #008080; font-weight: bold\">70</span>, <span style=\"color: #008080; text-decoration-color: #008080; font-weight: bold\">40</span>, <span style=\"color: #008080; text-decoration-color: #008080; font-weight: bold\">40</span>, <span style=\"color: #008080; text-decoration-color: #008080; font-weight: bold\">50</span>, <span style=\"color: #008080; text-decoration-color: #008080; font-weight: bold\">80</span><span style=\"font-weight: bold\">]</span>,\n",
       "    <span style=\"font-weight: bold\">[</span><span style=\"color: #008080; text-decoration-color: #008080; font-weight: bold\">50</span>, <span style=\"color: #008080; text-decoration-color: #008080; font-weight: bold\">60</span>, <span style=\"color: #008080; text-decoration-color: #008080; font-weight: bold\">50</span>, <span style=\"color: #008080; text-decoration-color: #008080; font-weight: bold\">70</span>, <span style=\"color: #008080; text-decoration-color: #008080; font-weight: bold\">50</span>, <span style=\"color: #008080; text-decoration-color: #008080; font-weight: bold\">70</span>, <span style=\"color: #008080; text-decoration-color: #008080; font-weight: bold\">60</span>, <span style=\"color: #008080; text-decoration-color: #008080; font-weight: bold\">60</span>, <span style=\"color: #008080; text-decoration-color: #008080; font-weight: bold\">50</span>, <span style=\"color: #008080; text-decoration-color: #008080; font-weight: bold\">60</span><span style=\"font-weight: bold\">]</span>\n",
       "<span style=\"font-weight: bold\">]</span>\n",
       "</pre>\n"
      ],
      "text/plain": [
       "\u001b[1m[\u001b[0m\n",
       "    \u001b[1m[\u001b[0m\u001b[1;36m40\u001b[0m, \u001b[1;36m70\u001b[0m, \u001b[1;36m20\u001b[0m, \u001b[1;36m50\u001b[0m, \u001b[1;36m10\u001b[0m, \u001b[1;36m85\u001b[0m, \u001b[1;36m60\u001b[0m, \u001b[1;36m30\u001b[0m, \u001b[1;36m50\u001b[0m, \u001b[1;36m50\u001b[0m\u001b[1m]\u001b[0m,\n",
       "    \u001b[1m[\u001b[0m\u001b[1;36m40\u001b[0m, \u001b[1;36m60\u001b[0m, \u001b[1;36m50\u001b[0m, \u001b[1;36m50\u001b[0m, \u001b[1;36m60\u001b[0m, \u001b[1;36m70\u001b[0m, \u001b[1;36m40\u001b[0m, \u001b[1;36m40\u001b[0m, \u001b[1;36m50\u001b[0m, \u001b[1;36m80\u001b[0m\u001b[1m]\u001b[0m,\n",
       "    \u001b[1m[\u001b[0m\u001b[1;36m50\u001b[0m, \u001b[1;36m60\u001b[0m, \u001b[1;36m50\u001b[0m, \u001b[1;36m70\u001b[0m, \u001b[1;36m50\u001b[0m, \u001b[1;36m70\u001b[0m, \u001b[1;36m60\u001b[0m, \u001b[1;36m60\u001b[0m, \u001b[1;36m50\u001b[0m, \u001b[1;36m60\u001b[0m\u001b[1m]\u001b[0m\n",
       "\u001b[1m]\u001b[0m\n"
      ]
     },
     "metadata": {},
     "output_type": "display_data"
    }
   ],
   "source": [
    "print(best_path)\n",
    "print(scores)"
   ]
  },
  {
   "cell_type": "code",
   "execution_count": 35,
   "metadata": {},
   "outputs": [
    {
     "data": {
      "text/html": [
       "<pre style=\"white-space:pre;overflow-x:auto;line-height:normal;font-family:Menlo,'DejaVu Sans Mono',consolas,'Courier New',monospace\">\n",
       "Turn: <span style=\"color: #008080; text-decoration-color: #008080; font-weight: bold\">13</span>\n",
       "</pre>\n"
      ],
      "text/plain": [
       "\n",
       "Turn: \u001b[1;36m13\u001b[0m\n"
      ]
     },
     "metadata": {},
     "output_type": "display_data"
    },
    {
     "data": {
      "text/html": [
       "<pre style=\"white-space:pre;overflow-x:auto;line-height:normal;font-family:Menlo,'DejaVu Sans Mono',consolas,'Courier New',monospace\">Features: <span style=\"font-weight: bold\">[</span><span style=\"color: #008000; text-decoration-color: #008000\">''</span>, <span style=\"color: #008000; text-decoration-color: #008000\">'```json\\n{\\n  \"live music\": \"like\",\\n  \"touristy\": \"dislike\",\\n  \"good for kids\": true,\\n  \"good </span>\n",
       "<span style=\"color: #008000; text-decoration-color: #008000\">for groups\": true,\\n  \"has_parking\": true\\n}\\n```'</span>, <span style=\"color: #008000; text-decoration-color: #008000\">''</span>, <span style=\"color: #008000; text-decoration-color: #008000\">''</span>, <span style=\"color: #008000; text-decoration-color: #008000\">''</span>, <span style=\"color: #008000; text-decoration-color: #008000\">''</span>, <span style=\"color: #008000; text-decoration-color: #008000\">''</span>, <span style=\"color: #008000; text-decoration-color: #008000\">''</span>, <span style=\"color: #008000; text-decoration-color: #008000\">''</span>, <span style=\"color: #008000; text-decoration-color: #008000\">''</span>, <span style=\"color: #008000; text-decoration-color: #008000\">''</span>, <span style=\"color: #008000; text-decoration-color: #008000\">''</span>, <span style=\"color: #008000; text-decoration-color: #008000\">'{}'</span><span style=\"font-weight: bold\">]</span>\n",
       "</pre>\n"
      ],
      "text/plain": [
       "Features: \u001b[1m[\u001b[0m\u001b[32m''\u001b[0m, \u001b[32m'```json\\n\u001b[0m\u001b[32m{\u001b[0m\u001b[32m\\n  \"live music\": \"like\",\\n  \"touristy\": \"dislike\",\\n  \"good for kids\": true,\\n  \"good \u001b[0m\n",
       "\u001b[32mfor groups\": true,\\n  \"has_parking\": true\\n\u001b[0m\u001b[32m}\u001b[0m\u001b[32m\\n```'\u001b[0m, \u001b[32m''\u001b[0m, \u001b[32m''\u001b[0m, \u001b[32m''\u001b[0m, \u001b[32m''\u001b[0m, \u001b[32m''\u001b[0m, \u001b[32m''\u001b[0m, \u001b[32m''\u001b[0m, \u001b[32m''\u001b[0m, \u001b[32m''\u001b[0m, \u001b[32m''\u001b[0m, \u001b[32m'\u001b[0m\u001b[32m{\u001b[0m\u001b[32m}\u001b[0m\u001b[32m'\u001b[0m\u001b[1m]\u001b[0m\n"
      ]
     },
     "metadata": {},
     "output_type": "display_data"
    },
    {
     "data": {
      "text/html": [
       "<pre style=\"white-space:pre;overflow-x:auto;line-height:normal;font-family:Menlo,'DejaVu Sans Mono',consolas,'Courier New',monospace\">Players: <span style=\"font-weight: bold\">[</span><span style=\"color: #008000; text-decoration-color: #008000\">'agent'</span>, <span style=\"color: #008000; text-decoration-color: #008000\">'user'</span><span style=\"font-weight: bold\">]</span>\n",
       "</pre>\n"
      ],
      "text/plain": [
       "Players: \u001b[1m[\u001b[0m\u001b[32m'agent'\u001b[0m, \u001b[32m'user'\u001b[0m\u001b[1m]\u001b[0m\n"
      ]
     },
     "metadata": {},
     "output_type": "display_data"
    },
    {
     "data": {
      "text/html": [
       "<pre style=\"white-space:pre;overflow-x:auto;line-height:normal;font-family:Menlo,'DejaVu Sans Mono',consolas,'Courier New',monospace\">Response:  <span style=\"font-weight: bold\">[</span>propose<span style=\"font-weight: bold\">]</span> <span style=\"font-weight: bold\">[</span>Schwarzes Cafe, Cookies Cream, Caribbean Corner<span style=\"font-weight: bold\">]</span>\n",
       "</pre>\n"
      ],
      "text/plain": [
       "Response:  \u001b[1m[\u001b[0mpropose\u001b[1m]\u001b[0m \u001b[1m[\u001b[0mSchwarzes Cafe, Cookies Cream, Caribbean Corner\u001b[1m]\u001b[0m\n"
      ]
     },
     "metadata": {},
     "output_type": "display_data"
    },
    {
     "data": {
      "text/html": [
       "<pre style=\"white-space:pre;overflow-x:auto;line-height:normal;font-family:Menlo,'DejaVu Sans Mono',consolas,'Courier New',monospace\">stop:  stop\n",
       "</pre>\n"
      ],
      "text/plain": [
       "stop:  stop\n"
      ]
     },
     "metadata": {},
     "output_type": "display_data"
    },
    {
     "data": {
      "text/html": [
       "<pre style=\"white-space:pre;overflow-x:auto;line-height:normal;font-family:Menlo,'DejaVu Sans Mono',consolas,'Courier New',monospace\"><span style=\"color: #800080; text-decoration-color: #800080; font-weight: bold\">CompletionUsage</span><span style=\"font-weight: bold\">(</span>\n",
       "    <span style=\"color: #808000; text-decoration-color: #808000\">completion_tokens</span>=<span style=\"color: #008080; text-decoration-color: #008080; font-weight: bold\">15</span>,\n",
       "    <span style=\"color: #808000; text-decoration-color: #808000\">prompt_tokens</span>=<span style=\"color: #008080; text-decoration-color: #008080; font-weight: bold\">2366</span>,\n",
       "    <span style=\"color: #808000; text-decoration-color: #808000\">total_tokens</span>=<span style=\"color: #008080; text-decoration-color: #008080; font-weight: bold\">2381</span>,\n",
       "    <span style=\"color: #808000; text-decoration-color: #808000\">completion_tokens_details</span>=<span style=\"color: #800080; text-decoration-color: #800080; font-weight: bold\">CompletionTokensDetails</span><span style=\"font-weight: bold\">(</span>\n",
       "        <span style=\"color: #808000; text-decoration-color: #808000\">reasoning_tokens</span>=<span style=\"color: #008080; text-decoration-color: #008080; font-weight: bold\">0</span>,\n",
       "        <span style=\"color: #808000; text-decoration-color: #808000\">audio_tokens</span>=<span style=\"color: #008080; text-decoration-color: #008080; font-weight: bold\">0</span>,\n",
       "        <span style=\"color: #808000; text-decoration-color: #808000\">accepted_prediction_tokens</span>=<span style=\"color: #008080; text-decoration-color: #008080; font-weight: bold\">0</span>,\n",
       "        <span style=\"color: #808000; text-decoration-color: #808000\">rejected_prediction_tokens</span>=<span style=\"color: #008080; text-decoration-color: #008080; font-weight: bold\">0</span>\n",
       "    <span style=\"font-weight: bold\">)</span>,\n",
       "    <span style=\"color: #808000; text-decoration-color: #808000\">prompt_tokens_details</span>=<span style=\"font-weight: bold\">{</span><span style=\"color: #008000; text-decoration-color: #008000\">'cached_tokens'</span>: <span style=\"color: #008080; text-decoration-color: #008080; font-weight: bold\">0</span>, <span style=\"color: #008000; text-decoration-color: #008000\">'audio_tokens'</span>: <span style=\"color: #008080; text-decoration-color: #008080; font-weight: bold\">0</span><span style=\"font-weight: bold\">}</span>\n",
       "<span style=\"font-weight: bold\">)</span>\n",
       "</pre>\n"
      ],
      "text/plain": [
       "\u001b[1;35mCompletionUsage\u001b[0m\u001b[1m(\u001b[0m\n",
       "    \u001b[33mcompletion_tokens\u001b[0m=\u001b[1;36m15\u001b[0m,\n",
       "    \u001b[33mprompt_tokens\u001b[0m=\u001b[1;36m2366\u001b[0m,\n",
       "    \u001b[33mtotal_tokens\u001b[0m=\u001b[1;36m2381\u001b[0m,\n",
       "    \u001b[33mcompletion_tokens_details\u001b[0m=\u001b[1;35mCompletionTokensDetails\u001b[0m\u001b[1m(\u001b[0m\n",
       "        \u001b[33mreasoning_tokens\u001b[0m=\u001b[1;36m0\u001b[0m,\n",
       "        \u001b[33maudio_tokens\u001b[0m=\u001b[1;36m0\u001b[0m,\n",
       "        \u001b[33maccepted_prediction_tokens\u001b[0m=\u001b[1;36m0\u001b[0m,\n",
       "        \u001b[33mrejected_prediction_tokens\u001b[0m=\u001b[1;36m0\u001b[0m\n",
       "    \u001b[1m)\u001b[0m,\n",
       "    \u001b[33mprompt_tokens_details\u001b[0m=\u001b[1m{\u001b[0m\u001b[32m'cached_tokens'\u001b[0m: \u001b[1;36m0\u001b[0m, \u001b[32m'audio_tokens'\u001b[0m: \u001b[1;36m0\u001b[0m\u001b[1m}\u001b[0m\n",
       "\u001b[1m)\u001b[0m\n"
      ]
     },
     "metadata": {},
     "output_type": "display_data"
    },
    {
     "data": {
      "text/html": [
       "<pre style=\"white-space:pre;overflow-x:auto;line-height:normal;font-family:Menlo,'DejaVu Sans Mono',consolas,'Courier New',monospace\">Response:  <span style=\"font-weight: bold\">[</span>tool<span style=\"font-weight: bold\">]</span> <span style=\"color: #800080; text-decoration-color: #800080; font-weight: bold\">Search</span><span style=\"font-weight: bold\">(</span><span style=\"color: #808000; text-decoration-color: #808000\">fields</span>=<span style=\"font-weight: bold\">[</span>name, category, good for kids, has parking<span style=\"font-weight: bold\">]</span>, <span style=\"color: #808000; text-decoration-color: #808000\">filters</span>=<span style=\"font-weight: bold\">[</span>category == restaurant, good\n",
       "for kids == <span style=\"color: #00ff00; text-decoration-color: #00ff00; font-style: italic\">True</span>, has parking == <span style=\"color: #00ff00; text-decoration-color: #00ff00; font-style: italic\">True</span><span style=\"font-weight: bold\">])</span>\n",
       "</pre>\n"
      ],
      "text/plain": [
       "Response:  \u001b[1m[\u001b[0mtool\u001b[1m]\u001b[0m \u001b[1;35mSearch\u001b[0m\u001b[1m(\u001b[0m\u001b[33mfields\u001b[0m=\u001b[1m[\u001b[0mname, category, good for kids, has parking\u001b[1m]\u001b[0m, \u001b[33mfilters\u001b[0m=\u001b[1m[\u001b[0mcategory == restaurant, good\n",
       "for kids == \u001b[3;92mTrue\u001b[0m, has parking == \u001b[3;92mTrue\u001b[0m\u001b[1m]\u001b[0m\u001b[1m)\u001b[0m\n"
      ]
     },
     "metadata": {},
     "output_type": "display_data"
    },
    {
     "data": {
      "text/html": [
       "<pre style=\"white-space:pre;overflow-x:auto;line-height:normal;font-family:Menlo,'DejaVu Sans Mono',consolas,'Courier New',monospace\">stop:  stop\n",
       "</pre>\n"
      ],
      "text/plain": [
       "stop:  stop\n"
      ]
     },
     "metadata": {},
     "output_type": "display_data"
    },
    {
     "data": {
      "text/html": [
       "<pre style=\"white-space:pre;overflow-x:auto;line-height:normal;font-family:Menlo,'DejaVu Sans Mono',consolas,'Courier New',monospace\"><span style=\"color: #800080; text-decoration-color: #800080; font-weight: bold\">CompletionUsage</span><span style=\"font-weight: bold\">(</span>\n",
       "    <span style=\"color: #808000; text-decoration-color: #808000\">completion_tokens</span>=<span style=\"color: #008080; text-decoration-color: #008080; font-weight: bold\">34</span>,\n",
       "    <span style=\"color: #808000; text-decoration-color: #808000\">prompt_tokens</span>=<span style=\"color: #008080; text-decoration-color: #008080; font-weight: bold\">2366</span>,\n",
       "    <span style=\"color: #808000; text-decoration-color: #808000\">total_tokens</span>=<span style=\"color: #008080; text-decoration-color: #008080; font-weight: bold\">2400</span>,\n",
       "    <span style=\"color: #808000; text-decoration-color: #808000\">completion_tokens_details</span>=<span style=\"color: #800080; text-decoration-color: #800080; font-weight: bold\">CompletionTokensDetails</span><span style=\"font-weight: bold\">(</span>\n",
       "        <span style=\"color: #808000; text-decoration-color: #808000\">reasoning_tokens</span>=<span style=\"color: #008080; text-decoration-color: #008080; font-weight: bold\">0</span>,\n",
       "        <span style=\"color: #808000; text-decoration-color: #808000\">audio_tokens</span>=<span style=\"color: #008080; text-decoration-color: #008080; font-weight: bold\">0</span>,\n",
       "        <span style=\"color: #808000; text-decoration-color: #808000\">accepted_prediction_tokens</span>=<span style=\"color: #008080; text-decoration-color: #008080; font-weight: bold\">0</span>,\n",
       "        <span style=\"color: #808000; text-decoration-color: #808000\">rejected_prediction_tokens</span>=<span style=\"color: #008080; text-decoration-color: #008080; font-weight: bold\">0</span>\n",
       "    <span style=\"font-weight: bold\">)</span>,\n",
       "    <span style=\"color: #808000; text-decoration-color: #808000\">prompt_tokens_details</span>=<span style=\"font-weight: bold\">{</span><span style=\"color: #008000; text-decoration-color: #008000\">'cached_tokens'</span>: <span style=\"color: #008080; text-decoration-color: #008080; font-weight: bold\">0</span>, <span style=\"color: #008000; text-decoration-color: #008000\">'audio_tokens'</span>: <span style=\"color: #008080; text-decoration-color: #008080; font-weight: bold\">0</span><span style=\"font-weight: bold\">}</span>\n",
       "<span style=\"font-weight: bold\">)</span>\n",
       "</pre>\n"
      ],
      "text/plain": [
       "\u001b[1;35mCompletionUsage\u001b[0m\u001b[1m(\u001b[0m\n",
       "    \u001b[33mcompletion_tokens\u001b[0m=\u001b[1;36m34\u001b[0m,\n",
       "    \u001b[33mprompt_tokens\u001b[0m=\u001b[1;36m2366\u001b[0m,\n",
       "    \u001b[33mtotal_tokens\u001b[0m=\u001b[1;36m2400\u001b[0m,\n",
       "    \u001b[33mcompletion_tokens_details\u001b[0m=\u001b[1;35mCompletionTokensDetails\u001b[0m\u001b[1m(\u001b[0m\n",
       "        \u001b[33mreasoning_tokens\u001b[0m=\u001b[1;36m0\u001b[0m,\n",
       "        \u001b[33maudio_tokens\u001b[0m=\u001b[1;36m0\u001b[0m,\n",
       "        \u001b[33maccepted_prediction_tokens\u001b[0m=\u001b[1;36m0\u001b[0m,\n",
       "        \u001b[33mrejected_prediction_tokens\u001b[0m=\u001b[1;36m0\u001b[0m\n",
       "    \u001b[1m)\u001b[0m,\n",
       "    \u001b[33mprompt_tokens_details\u001b[0m=\u001b[1m{\u001b[0m\u001b[32m'cached_tokens'\u001b[0m: \u001b[1;36m0\u001b[0m, \u001b[32m'audio_tokens'\u001b[0m: \u001b[1;36m0\u001b[0m\u001b[1m}\u001b[0m\n",
       "\u001b[1m)\u001b[0m\n"
      ]
     },
     "metadata": {},
     "output_type": "display_data"
    },
    {
     "data": {
      "text/html": [
       "<pre style=\"white-space:pre;overflow-x:auto;line-height:normal;font-family:Menlo,'DejaVu Sans Mono',consolas,'Courier New',monospace\">Response:  <span style=\"font-weight: bold\">[</span>think<span style=\"font-weight: bold\">]</span> First, I should confirm Schwarzes Cafe since it is kid-friendly and liked by the user. Now, \n",
       "let's check each restaurant's details individually. I'll need to ensure that the venue provides a parking facility \n",
       "to accommodate the user's request.\n",
       "</pre>\n"
      ],
      "text/plain": [
       "Response:  \u001b[1m[\u001b[0mthink\u001b[1m]\u001b[0m First, I should confirm Schwarzes Cafe since it is kid-friendly and liked by the user. Now, \n",
       "let's check each restaurant's details individually. I'll need to ensure that the venue provides a parking facility \n",
       "to accommodate the user's request.\n"
      ]
     },
     "metadata": {},
     "output_type": "display_data"
    },
    {
     "data": {
      "text/html": [
       "<pre style=\"white-space:pre;overflow-x:auto;line-height:normal;font-family:Menlo,'DejaVu Sans Mono',consolas,'Courier New',monospace\">stop:  stop\n",
       "</pre>\n"
      ],
      "text/plain": [
       "stop:  stop\n"
      ]
     },
     "metadata": {},
     "output_type": "display_data"
    },
    {
     "data": {
      "text/html": [
       "<pre style=\"white-space:pre;overflow-x:auto;line-height:normal;font-family:Menlo,'DejaVu Sans Mono',consolas,'Courier New',monospace\"><span style=\"color: #800080; text-decoration-color: #800080; font-weight: bold\">CompletionUsage</span><span style=\"font-weight: bold\">(</span>\n",
       "    <span style=\"color: #808000; text-decoration-color: #808000\">completion_tokens</span>=<span style=\"color: #008080; text-decoration-color: #008080; font-weight: bold\">52</span>,\n",
       "    <span style=\"color: #808000; text-decoration-color: #808000\">prompt_tokens</span>=<span style=\"color: #008080; text-decoration-color: #008080; font-weight: bold\">2366</span>,\n",
       "    <span style=\"color: #808000; text-decoration-color: #808000\">total_tokens</span>=<span style=\"color: #008080; text-decoration-color: #008080; font-weight: bold\">2418</span>,\n",
       "    <span style=\"color: #808000; text-decoration-color: #808000\">completion_tokens_details</span>=<span style=\"color: #800080; text-decoration-color: #800080; font-weight: bold\">CompletionTokensDetails</span><span style=\"font-weight: bold\">(</span>\n",
       "        <span style=\"color: #808000; text-decoration-color: #808000\">reasoning_tokens</span>=<span style=\"color: #008080; text-decoration-color: #008080; font-weight: bold\">0</span>,\n",
       "        <span style=\"color: #808000; text-decoration-color: #808000\">audio_tokens</span>=<span style=\"color: #008080; text-decoration-color: #008080; font-weight: bold\">0</span>,\n",
       "        <span style=\"color: #808000; text-decoration-color: #808000\">accepted_prediction_tokens</span>=<span style=\"color: #008080; text-decoration-color: #008080; font-weight: bold\">0</span>,\n",
       "        <span style=\"color: #808000; text-decoration-color: #808000\">rejected_prediction_tokens</span>=<span style=\"color: #008080; text-decoration-color: #008080; font-weight: bold\">0</span>\n",
       "    <span style=\"font-weight: bold\">)</span>,\n",
       "    <span style=\"color: #808000; text-decoration-color: #808000\">prompt_tokens_details</span>=<span style=\"font-weight: bold\">{</span><span style=\"color: #008000; text-decoration-color: #008000\">'cached_tokens'</span>: <span style=\"color: #008080; text-decoration-color: #008080; font-weight: bold\">0</span>, <span style=\"color: #008000; text-decoration-color: #008000\">'audio_tokens'</span>: <span style=\"color: #008080; text-decoration-color: #008080; font-weight: bold\">0</span><span style=\"font-weight: bold\">}</span>\n",
       "<span style=\"font-weight: bold\">)</span>\n",
       "</pre>\n"
      ],
      "text/plain": [
       "\u001b[1;35mCompletionUsage\u001b[0m\u001b[1m(\u001b[0m\n",
       "    \u001b[33mcompletion_tokens\u001b[0m=\u001b[1;36m52\u001b[0m,\n",
       "    \u001b[33mprompt_tokens\u001b[0m=\u001b[1;36m2366\u001b[0m,\n",
       "    \u001b[33mtotal_tokens\u001b[0m=\u001b[1;36m2418\u001b[0m,\n",
       "    \u001b[33mcompletion_tokens_details\u001b[0m=\u001b[1;35mCompletionTokensDetails\u001b[0m\u001b[1m(\u001b[0m\n",
       "        \u001b[33mreasoning_tokens\u001b[0m=\u001b[1;36m0\u001b[0m,\n",
       "        \u001b[33maudio_tokens\u001b[0m=\u001b[1;36m0\u001b[0m,\n",
       "        \u001b[33maccepted_prediction_tokens\u001b[0m=\u001b[1;36m0\u001b[0m,\n",
       "        \u001b[33mrejected_prediction_tokens\u001b[0m=\u001b[1;36m0\u001b[0m\n",
       "    \u001b[1m)\u001b[0m,\n",
       "    \u001b[33mprompt_tokens_details\u001b[0m=\u001b[1m{\u001b[0m\u001b[32m'cached_tokens'\u001b[0m: \u001b[1;36m0\u001b[0m, \u001b[32m'audio_tokens'\u001b[0m: \u001b[1;36m0\u001b[0m\u001b[1m}\u001b[0m\n",
       "\u001b[1m)\u001b[0m\n"
      ]
     },
     "metadata": {},
     "output_type": "display_data"
    },
    {
     "name": "stdout",
     "output_type": "stream",
     "text": [
      "{'user': '\\nAgent: [propose] [Schwarzes Cafe, Cookies Cream, Caribbean Corner]\\nProposal Score:\\n1) (score: 2) Schwarzes Cafe\\ngood for kids: True\\nhas parking: False\\noutdoor seating: False\\ntouristy: False\\nvegetarian options: False\\n2) (score: -13) Travel from Schwarzes Cafe to Cookies Cream, 2.2mi\\n3) (score: 10) Cookies Cream\\nambience: casual\\ncuisine: korean\\nlive music: True\\noutdoor seating: True\\nrating: 4\\n4) (score: -10) Travel from Cookies Cream to Caribbean Corner, 1.8mi\\n5) (score: 10) Caribbean Corner\\naccepts reservations: False\\nlive music: True\\noutdoor seating: False\\nrating: 1.5\\nvegan options: True\\n\\nOverall Checklist:\\nYES (score: 0) keep budget below $60\\nYES (score: 2) go to at least one cafe\\nTOTAL SCORE: +2-13+10-10+10+0+2=1\\nYou can [think], or output one of these choices:\\n(1) [accept] Accept\\n(2) [reject] Reject', 'agent': '[propose] [Schwarzes Cafe, Cookies Cream, Caribbean Corner]', 'turn_player': 'agent', 'done': False, 'reward': 0, 'info': {'num_msgs': 3}}\n",
      "ChatCompletion(id='chatcmpl-ATLevoDgsDeZoupZ6e79CQQgYijTn', choices=[Choice(finish_reason='stop', index=0, logprobs=None, message=ChatCompletionMessage(content='Search Results: No results', refusal=None, role='assistant', function_call=None, tool_calls=None))], created=1731558133, model='gpt-4o-2024-08-06', object='chat.completion', service_tier=None, system_fingerprint='fp_9ee9e968ea', usage=CompletionUsage(completion_tokens=5, prompt_tokens=3266, total_tokens=3271, completion_tokens_details=CompletionTokensDetails(reasoning_tokens=0, audio_tokens=0, accepted_prediction_tokens=0, rejected_prediction_tokens=0), prompt_tokens_details={'cached_tokens': 0, 'audio_tokens': 0}))\n",
      "{'user': '', 'agent': '[tool] Search(fields=[name, category, good for kids, has parking], filters=[category == restaurant, good for kids == True, has parking == True])\\nSearch Results: No results', 'turn_player': 'agent', 'done': False, 'reward': 0, 'info': {'num_msgs': 3}}\n",
      "{'user': '', 'agent': \"[think] First, I should confirm Schwarzes Cafe since it is kid-friendly and liked by the user. Now, let's check each restaurant's details individually. I'll need to ensure that the venue provides a parking facility to accommodate the user's request.\", 'turn_player': 'agent', 'done': False, 'reward': 0, 'info': {'num_msgs': 3}}\n"
     ]
    },
    {
     "data": {
      "text/html": [
       "<pre style=\"white-space:pre;overflow-x:auto;line-height:normal;font-family:Menlo,'DejaVu Sans Mono',consolas,'Courier New',monospace\">\n",
       "Initialized parallel conversations:\n",
       "</pre>\n"
      ],
      "text/plain": [
       "\n",
       "Initialized parallel conversations:\n"
      ]
     },
     "metadata": {},
     "output_type": "display_data"
    },
    {
     "data": {
      "text/html": [
       "<pre style=\"white-space:pre;overflow-x:auto;line-height:normal;font-family:Menlo,'DejaVu Sans Mono',consolas,'Courier New',monospace\">\n",
       "Stream <span style=\"color: #008080; text-decoration-color: #008080; font-weight: bold\">1</span>:\n",
       "</pre>\n"
      ],
      "text/plain": [
       "\n",
       "Stream \u001b[1;36m1\u001b[0m:\n"
      ]
     },
     "metadata": {},
     "output_type": "display_data"
    },
    {
     "data": {
      "text/html": [
       "<pre style=\"white-space:pre;overflow-x:auto;line-height:normal;font-family:Menlo,'DejaVu Sans Mono',consolas,'Courier New',monospace\">Initial response:  <span style=\"font-weight: bold\">[</span>Schwarzes Cafe, Cookies Cream, Caribbean Corner<span style=\"font-weight: bold\">]</span><span style=\"color: #808000; text-decoration-color: #808000\">...</span>\n",
       "</pre>\n"
      ],
      "text/plain": [
       "Initial response:  \u001b[1m[\u001b[0mSchwarzes Cafe, Cookies Cream, Caribbean Corner\u001b[1m]\u001b[0m\u001b[33m...\u001b[0m\n"
      ]
     },
     "metadata": {},
     "output_type": "display_data"
    },
    {
     "data": {
      "text/html": [
       "<pre style=\"white-space:pre;overflow-x:auto;line-height:normal;font-family:Menlo,'DejaVu Sans Mono',consolas,'Courier New',monospace\">Features extracted: \n",
       "</pre>\n"
      ],
      "text/plain": [
       "Features extracted: \n"
      ]
     },
     "metadata": {},
     "output_type": "display_data"
    },
    {
     "data": {
      "text/html": [
       "<pre style=\"white-space:pre;overflow-x:auto;line-height:normal;font-family:Menlo,'DejaVu Sans Mono',consolas,'Courier New',monospace\">\n",
       "Stream <span style=\"color: #008080; text-decoration-color: #008080; font-weight: bold\">2</span>:\n",
       "</pre>\n"
      ],
      "text/plain": [
       "\n",
       "Stream \u001b[1;36m2\u001b[0m:\n"
      ]
     },
     "metadata": {},
     "output_type": "display_data"
    },
    {
     "data": {
      "text/html": [
       "<pre style=\"white-space:pre;overflow-x:auto;line-height:normal;font-family:Menlo,'DejaVu Sans Mono',consolas,'Courier New',monospace\">Initial response:  <span style=\"color: #800080; text-decoration-color: #800080; font-weight: bold\">Search</span><span style=\"font-weight: bold\">(</span><span style=\"color: #808000; text-decoration-color: #808000\">fields</span>=, <span style=\"color: #808000; text-decoration-color: #808000\">filters</span>=<span style=\"font-weight: bold\">[</span>category == restaurant, <span style=\"color: #808000; text-decoration-color: #808000\">...</span>\n",
       "</pre>\n"
      ],
      "text/plain": [
       "Initial response:  \u001b[1;35mSearch\u001b[0m\u001b[1m(\u001b[0m\u001b[33mfields\u001b[0m=, \u001b[33mfilters\u001b[0m=\u001b[1m[\u001b[0mcategory == restaurant, \u001b[33m...\u001b[0m\n"
      ]
     },
     "metadata": {},
     "output_type": "display_data"
    },
    {
     "data": {
      "text/html": [
       "<pre style=\"white-space:pre;overflow-x:auto;line-height:normal;font-family:Menlo,'DejaVu Sans Mono',consolas,'Courier New',monospace\">Features extracted: \n",
       "</pre>\n"
      ],
      "text/plain": [
       "Features extracted: \n"
      ]
     },
     "metadata": {},
     "output_type": "display_data"
    },
    {
     "data": {
      "text/html": [
       "<pre style=\"white-space:pre;overflow-x:auto;line-height:normal;font-family:Menlo,'DejaVu Sans Mono',consolas,'Courier New',monospace\">\n",
       "Stream <span style=\"color: #008080; text-decoration-color: #008080; font-weight: bold\">3</span>:\n",
       "</pre>\n"
      ],
      "text/plain": [
       "\n",
       "Stream \u001b[1;36m3\u001b[0m:\n"
      ]
     },
     "metadata": {},
     "output_type": "display_data"
    },
    {
     "data": {
      "text/html": [
       "<pre style=\"white-space:pre;overflow-x:auto;line-height:normal;font-family:Menlo,'DejaVu Sans Mono',consolas,'Courier New',monospace\">Initial response:  First, I should confirm Schwarzes Cafe since it is kid-friendly and liked by the user. Now, <span style=\"color: #808000; text-decoration-color: #808000\">...</span>\n",
       "</pre>\n"
      ],
      "text/plain": [
       "Initial response:  First, I should confirm Schwarzes Cafe since it is kid-friendly and liked by the user. Now, \u001b[33m...\u001b[0m\n"
      ]
     },
     "metadata": {},
     "output_type": "display_data"
    },
    {
     "data": {
      "text/html": [
       "<pre style=\"white-space:pre;overflow-x:auto;line-height:normal;font-family:Menlo,'DejaVu Sans Mono',consolas,'Courier New',monospace\">Features extracted: \n",
       "</pre>\n"
      ],
      "text/plain": [
       "Features extracted: \n"
      ]
     },
     "metadata": {},
     "output_type": "display_data"
    },
    {
     "data": {
      "text/html": [
       "<pre style=\"white-space:pre;overflow-x:auto;line-height:normal;font-family:Menlo,'DejaVu Sans Mono',consolas,'Courier New',monospace\">Response:  <span style=\"font-weight: bold\">[</span>message<span style=\"font-weight: bold\">]</span> I suggest we visit Schwarzes Cafe first, as it is kid-friendly, although it does not have \n",
       "parking. For a dose of live music, we could then head to Cookies Cream, and finish our day at Caribbean Corner. Is \n",
       "this itinerary fine for you?\n",
       "</pre>\n"
      ],
      "text/plain": [
       "Response:  \u001b[1m[\u001b[0mmessage\u001b[1m]\u001b[0m I suggest we visit Schwarzes Cafe first, as it is kid-friendly, although it does not have \n",
       "parking. For a dose of live music, we could then head to Cookies Cream, and finish our day at Caribbean Corner. Is \n",
       "this itinerary fine for you?\n"
      ]
     },
     "metadata": {},
     "output_type": "display_data"
    },
    {
     "data": {
      "text/html": [
       "<pre style=\"white-space:pre;overflow-x:auto;line-height:normal;font-family:Menlo,'DejaVu Sans Mono',consolas,'Courier New',monospace\">stop:  stop\n",
       "</pre>\n"
      ],
      "text/plain": [
       "stop:  stop\n"
      ]
     },
     "metadata": {},
     "output_type": "display_data"
    },
    {
     "data": {
      "text/html": [
       "<pre style=\"white-space:pre;overflow-x:auto;line-height:normal;font-family:Menlo,'DejaVu Sans Mono',consolas,'Courier New',monospace\"><span style=\"color: #800080; text-decoration-color: #800080; font-weight: bold\">CompletionUsage</span><span style=\"font-weight: bold\">(</span>\n",
       "    <span style=\"color: #808000; text-decoration-color: #808000\">completion_tokens</span>=<span style=\"color: #008080; text-decoration-color: #008080; font-weight: bold\">55</span>,\n",
       "    <span style=\"color: #808000; text-decoration-color: #808000\">prompt_tokens</span>=<span style=\"color: #008080; text-decoration-color: #008080; font-weight: bold\">2438</span>,\n",
       "    <span style=\"color: #808000; text-decoration-color: #808000\">total_tokens</span>=<span style=\"color: #008080; text-decoration-color: #008080; font-weight: bold\">2493</span>,\n",
       "    <span style=\"color: #808000; text-decoration-color: #808000\">completion_tokens_details</span>=<span style=\"color: #800080; text-decoration-color: #800080; font-weight: bold\">CompletionTokensDetails</span><span style=\"font-weight: bold\">(</span>\n",
       "        <span style=\"color: #808000; text-decoration-color: #808000\">reasoning_tokens</span>=<span style=\"color: #008080; text-decoration-color: #008080; font-weight: bold\">0</span>,\n",
       "        <span style=\"color: #808000; text-decoration-color: #808000\">audio_tokens</span>=<span style=\"color: #008080; text-decoration-color: #008080; font-weight: bold\">0</span>,\n",
       "        <span style=\"color: #808000; text-decoration-color: #808000\">accepted_prediction_tokens</span>=<span style=\"color: #008080; text-decoration-color: #008080; font-weight: bold\">0</span>,\n",
       "        <span style=\"color: #808000; text-decoration-color: #808000\">rejected_prediction_tokens</span>=<span style=\"color: #008080; text-decoration-color: #008080; font-weight: bold\">0</span>\n",
       "    <span style=\"font-weight: bold\">)</span>,\n",
       "    <span style=\"color: #808000; text-decoration-color: #808000\">prompt_tokens_details</span>=<span style=\"font-weight: bold\">{</span><span style=\"color: #008000; text-decoration-color: #008000\">'cached_tokens'</span>: <span style=\"color: #008080; text-decoration-color: #008080; font-weight: bold\">0</span>, <span style=\"color: #008000; text-decoration-color: #008000\">'audio_tokens'</span>: <span style=\"color: #008080; text-decoration-color: #008080; font-weight: bold\">0</span><span style=\"font-weight: bold\">}</span>\n",
       "<span style=\"font-weight: bold\">)</span>\n",
       "</pre>\n"
      ],
      "text/plain": [
       "\u001b[1;35mCompletionUsage\u001b[0m\u001b[1m(\u001b[0m\n",
       "    \u001b[33mcompletion_tokens\u001b[0m=\u001b[1;36m55\u001b[0m,\n",
       "    \u001b[33mprompt_tokens\u001b[0m=\u001b[1;36m2438\u001b[0m,\n",
       "    \u001b[33mtotal_tokens\u001b[0m=\u001b[1;36m2493\u001b[0m,\n",
       "    \u001b[33mcompletion_tokens_details\u001b[0m=\u001b[1;35mCompletionTokensDetails\u001b[0m\u001b[1m(\u001b[0m\n",
       "        \u001b[33mreasoning_tokens\u001b[0m=\u001b[1;36m0\u001b[0m,\n",
       "        \u001b[33maudio_tokens\u001b[0m=\u001b[1;36m0\u001b[0m,\n",
       "        \u001b[33maccepted_prediction_tokens\u001b[0m=\u001b[1;36m0\u001b[0m,\n",
       "        \u001b[33mrejected_prediction_tokens\u001b[0m=\u001b[1;36m0\u001b[0m\n",
       "    \u001b[1m)\u001b[0m,\n",
       "    \u001b[33mprompt_tokens_details\u001b[0m=\u001b[1m{\u001b[0m\u001b[32m'cached_tokens'\u001b[0m: \u001b[1;36m0\u001b[0m, \u001b[32m'audio_tokens'\u001b[0m: \u001b[1;36m0\u001b[0m\u001b[1m}\u001b[0m\n",
       "\u001b[1m)\u001b[0m\n"
      ]
     },
     "metadata": {},
     "output_type": "display_data"
    },
    {
     "data": {
      "text/html": [
       "<pre style=\"white-space:pre;overflow-x:auto;line-height:normal;font-family:Menlo,'DejaVu Sans Mono',consolas,'Courier New',monospace\">Response:  <span style=\"font-weight: bold\">[</span>think<span style=\"font-weight: bold\">]</span> It appears that there are no restaurants that meet all of the user's specifications. I can \n",
       "recommend a kid-friendly cafe, Schwarzes Cafe, but it does not have parking. Alternatively, I can recommend a \n",
       "restaurant that has live music but does not specifically list kid-friendly or parking.\n",
       "</pre>\n"
      ],
      "text/plain": [
       "Response:  \u001b[1m[\u001b[0mthink\u001b[1m]\u001b[0m It appears that there are no restaurants that meet all of the user's specifications. I can \n",
       "recommend a kid-friendly cafe, Schwarzes Cafe, but it does not have parking. Alternatively, I can recommend a \n",
       "restaurant that has live music but does not specifically list kid-friendly or parking.\n"
      ]
     },
     "metadata": {},
     "output_type": "display_data"
    },
    {
     "data": {
      "text/html": [
       "<pre style=\"white-space:pre;overflow-x:auto;line-height:normal;font-family:Menlo,'DejaVu Sans Mono',consolas,'Courier New',monospace\">stop:  stop\n",
       "</pre>\n"
      ],
      "text/plain": [
       "stop:  stop\n"
      ]
     },
     "metadata": {},
     "output_type": "display_data"
    },
    {
     "data": {
      "text/html": [
       "<pre style=\"white-space:pre;overflow-x:auto;line-height:normal;font-family:Menlo,'DejaVu Sans Mono',consolas,'Courier New',monospace\"><span style=\"color: #800080; text-decoration-color: #800080; font-weight: bold\">CompletionUsage</span><span style=\"font-weight: bold\">(</span>\n",
       "    <span style=\"color: #808000; text-decoration-color: #808000\">completion_tokens</span>=<span style=\"color: #008080; text-decoration-color: #008080; font-weight: bold\">59</span>,\n",
       "    <span style=\"color: #808000; text-decoration-color: #808000\">prompt_tokens</span>=<span style=\"color: #008080; text-decoration-color: #008080; font-weight: bold\">2462</span>,\n",
       "    <span style=\"color: #808000; text-decoration-color: #808000\">total_tokens</span>=<span style=\"color: #008080; text-decoration-color: #008080; font-weight: bold\">2521</span>,\n",
       "    <span style=\"color: #808000; text-decoration-color: #808000\">completion_tokens_details</span>=<span style=\"color: #800080; text-decoration-color: #800080; font-weight: bold\">CompletionTokensDetails</span><span style=\"font-weight: bold\">(</span>\n",
       "        <span style=\"color: #808000; text-decoration-color: #808000\">reasoning_tokens</span>=<span style=\"color: #008080; text-decoration-color: #008080; font-weight: bold\">0</span>,\n",
       "        <span style=\"color: #808000; text-decoration-color: #808000\">audio_tokens</span>=<span style=\"color: #008080; text-decoration-color: #008080; font-weight: bold\">0</span>,\n",
       "        <span style=\"color: #808000; text-decoration-color: #808000\">accepted_prediction_tokens</span>=<span style=\"color: #008080; text-decoration-color: #008080; font-weight: bold\">0</span>,\n",
       "        <span style=\"color: #808000; text-decoration-color: #808000\">rejected_prediction_tokens</span>=<span style=\"color: #008080; text-decoration-color: #008080; font-weight: bold\">0</span>\n",
       "    <span style=\"font-weight: bold\">)</span>,\n",
       "    <span style=\"color: #808000; text-decoration-color: #808000\">prompt_tokens_details</span>=<span style=\"font-weight: bold\">{</span><span style=\"color: #008000; text-decoration-color: #008000\">'cached_tokens'</span>: <span style=\"color: #008080; text-decoration-color: #008080; font-weight: bold\">0</span>, <span style=\"color: #008000; text-decoration-color: #008000\">'audio_tokens'</span>: <span style=\"color: #008080; text-decoration-color: #008080; font-weight: bold\">0</span><span style=\"font-weight: bold\">}</span>\n",
       "<span style=\"font-weight: bold\">)</span>\n",
       "</pre>\n"
      ],
      "text/plain": [
       "\u001b[1;35mCompletionUsage\u001b[0m\u001b[1m(\u001b[0m\n",
       "    \u001b[33mcompletion_tokens\u001b[0m=\u001b[1;36m59\u001b[0m,\n",
       "    \u001b[33mprompt_tokens\u001b[0m=\u001b[1;36m2462\u001b[0m,\n",
       "    \u001b[33mtotal_tokens\u001b[0m=\u001b[1;36m2521\u001b[0m,\n",
       "    \u001b[33mcompletion_tokens_details\u001b[0m=\u001b[1;35mCompletionTokensDetails\u001b[0m\u001b[1m(\u001b[0m\n",
       "        \u001b[33mreasoning_tokens\u001b[0m=\u001b[1;36m0\u001b[0m,\n",
       "        \u001b[33maudio_tokens\u001b[0m=\u001b[1;36m0\u001b[0m,\n",
       "        \u001b[33maccepted_prediction_tokens\u001b[0m=\u001b[1;36m0\u001b[0m,\n",
       "        \u001b[33mrejected_prediction_tokens\u001b[0m=\u001b[1;36m0\u001b[0m\n",
       "    \u001b[1m)\u001b[0m,\n",
       "    \u001b[33mprompt_tokens_details\u001b[0m=\u001b[1m{\u001b[0m\u001b[32m'cached_tokens'\u001b[0m: \u001b[1;36m0\u001b[0m, \u001b[32m'audio_tokens'\u001b[0m: \u001b[1;36m0\u001b[0m\u001b[1m}\u001b[0m\n",
       "\u001b[1m)\u001b[0m\n"
      ]
     },
     "metadata": {},
     "output_type": "display_data"
    },
    {
     "data": {
      "text/html": [
       "<pre style=\"white-space:pre;overflow-x:auto;line-height:normal;font-family:Menlo,'DejaVu Sans Mono',consolas,'Courier New',monospace\">Response:  <span style=\"font-weight: bold\">[</span>tool<span style=\"font-weight: bold\">]</span> <span style=\"color: #800080; text-decoration-color: #800080; font-weight: bold\">Search</span><span style=\"font-weight: bold\">(</span><span style=\"color: #808000; text-decoration-color: #808000\">fields</span>=<span style=\"font-weight: bold\">[</span>name, has parking, good for kids<span style=\"font-weight: bold\">]</span>, <span style=\"color: #808000; text-decoration-color: #808000\">filters</span>=<span style=\"font-weight: bold\">[</span>name == <span style=\"color: #008000; text-decoration-color: #008000\">\"Cookies Cream\"</span><span style=\"font-weight: bold\">])</span>\n",
       "</pre>\n"
      ],
      "text/plain": [
       "Response:  \u001b[1m[\u001b[0mtool\u001b[1m]\u001b[0m \u001b[1;35mSearch\u001b[0m\u001b[1m(\u001b[0m\u001b[33mfields\u001b[0m=\u001b[1m[\u001b[0mname, has parking, good for kids\u001b[1m]\u001b[0m, \u001b[33mfilters\u001b[0m=\u001b[1m[\u001b[0mname == \u001b[32m\"Cookies Cream\"\u001b[0m\u001b[1m]\u001b[0m\u001b[1m)\u001b[0m\n"
      ]
     },
     "metadata": {},
     "output_type": "display_data"
    },
    {
     "data": {
      "text/html": [
       "<pre style=\"white-space:pre;overflow-x:auto;line-height:normal;font-family:Menlo,'DejaVu Sans Mono',consolas,'Courier New',monospace\">stop:  stop\n",
       "</pre>\n"
      ],
      "text/plain": [
       "stop:  stop\n"
      ]
     },
     "metadata": {},
     "output_type": "display_data"
    },
    {
     "data": {
      "text/html": [
       "<pre style=\"white-space:pre;overflow-x:auto;line-height:normal;font-family:Menlo,'DejaVu Sans Mono',consolas,'Courier New',monospace\"><span style=\"color: #800080; text-decoration-color: #800080; font-weight: bold\">CompletionUsage</span><span style=\"font-weight: bold\">(</span>\n",
       "    <span style=\"color: #808000; text-decoration-color: #808000\">completion_tokens</span>=<span style=\"color: #008080; text-decoration-color: #008080; font-weight: bold\">23</span>,\n",
       "    <span style=\"color: #808000; text-decoration-color: #808000\">prompt_tokens</span>=<span style=\"color: #008080; text-decoration-color: #008080; font-weight: bold\">2474</span>,\n",
       "    <span style=\"color: #808000; text-decoration-color: #808000\">total_tokens</span>=<span style=\"color: #008080; text-decoration-color: #008080; font-weight: bold\">2497</span>,\n",
       "    <span style=\"color: #808000; text-decoration-color: #808000\">completion_tokens_details</span>=<span style=\"color: #800080; text-decoration-color: #800080; font-weight: bold\">CompletionTokensDetails</span><span style=\"font-weight: bold\">(</span>\n",
       "        <span style=\"color: #808000; text-decoration-color: #808000\">reasoning_tokens</span>=<span style=\"color: #008080; text-decoration-color: #008080; font-weight: bold\">0</span>,\n",
       "        <span style=\"color: #808000; text-decoration-color: #808000\">audio_tokens</span>=<span style=\"color: #008080; text-decoration-color: #008080; font-weight: bold\">0</span>,\n",
       "        <span style=\"color: #808000; text-decoration-color: #808000\">accepted_prediction_tokens</span>=<span style=\"color: #008080; text-decoration-color: #008080; font-weight: bold\">0</span>,\n",
       "        <span style=\"color: #808000; text-decoration-color: #808000\">rejected_prediction_tokens</span>=<span style=\"color: #008080; text-decoration-color: #008080; font-weight: bold\">0</span>\n",
       "    <span style=\"font-weight: bold\">)</span>,\n",
       "    <span style=\"color: #808000; text-decoration-color: #808000\">prompt_tokens_details</span>=<span style=\"font-weight: bold\">{</span><span style=\"color: #008000; text-decoration-color: #008000\">'cached_tokens'</span>: <span style=\"color: #008080; text-decoration-color: #008080; font-weight: bold\">0</span>, <span style=\"color: #008000; text-decoration-color: #008000\">'audio_tokens'</span>: <span style=\"color: #008080; text-decoration-color: #008080; font-weight: bold\">0</span><span style=\"font-weight: bold\">}</span>\n",
       "<span style=\"font-weight: bold\">)</span>\n",
       "</pre>\n"
      ],
      "text/plain": [
       "\u001b[1;35mCompletionUsage\u001b[0m\u001b[1m(\u001b[0m\n",
       "    \u001b[33mcompletion_tokens\u001b[0m=\u001b[1;36m23\u001b[0m,\n",
       "    \u001b[33mprompt_tokens\u001b[0m=\u001b[1;36m2474\u001b[0m,\n",
       "    \u001b[33mtotal_tokens\u001b[0m=\u001b[1;36m2497\u001b[0m,\n",
       "    \u001b[33mcompletion_tokens_details\u001b[0m=\u001b[1;35mCompletionTokensDetails\u001b[0m\u001b[1m(\u001b[0m\n",
       "        \u001b[33mreasoning_tokens\u001b[0m=\u001b[1;36m0\u001b[0m,\n",
       "        \u001b[33maudio_tokens\u001b[0m=\u001b[1;36m0\u001b[0m,\n",
       "        \u001b[33maccepted_prediction_tokens\u001b[0m=\u001b[1;36m0\u001b[0m,\n",
       "        \u001b[33mrejected_prediction_tokens\u001b[0m=\u001b[1;36m0\u001b[0m\n",
       "    \u001b[1m)\u001b[0m,\n",
       "    \u001b[33mprompt_tokens_details\u001b[0m=\u001b[1m{\u001b[0m\u001b[32m'cached_tokens'\u001b[0m: \u001b[1;36m0\u001b[0m, \u001b[32m'audio_tokens'\u001b[0m: \u001b[1;36m0\u001b[0m\u001b[1m}\u001b[0m\n",
       "\u001b[1m)\u001b[0m\n"
      ]
     },
     "metadata": {},
     "output_type": "display_data"
    },
    {
     "data": {
      "text/html": [
       "<pre style=\"white-space:pre;overflow-x:auto;line-height:normal;font-family:Menlo,'DejaVu Sans Mono',consolas,'Courier New',monospace\">\n",
       "Stepping conversations:\n",
       "<span style=\"font-weight: bold\">{</span>\n",
       "    <span style=\"color: #008080; text-decoration-color: #008080; font-weight: bold\">0</span>: <span style=\"color: #008000; text-decoration-color: #008000\">'[message] I suggest we visit Schwarzes Cafe first, as it is kid-friendly, although it does not have </span>\n",
       "<span style=\"color: #008000; text-decoration-color: #008000\">parking. For a dose of live music, we could then head to Cookies Cream, and finish our day at Caribbean Corner. Is </span>\n",
       "<span style=\"color: #008000; text-decoration-color: #008000\">this itinerary fine for you?'</span>,\n",
       "    <span style=\"color: #008080; text-decoration-color: #008080; font-weight: bold\">1</span>: <span style=\"color: #008000; text-decoration-color: #008000\">\"[think] It appears that there are no restaurants that meet all of the user's specifications. I can </span>\n",
       "<span style=\"color: #008000; text-decoration-color: #008000\">recommend a kid-friendly cafe, Schwarzes Cafe, but it does not have parking. Alternatively, I can recommend a </span>\n",
       "<span style=\"color: #008000; text-decoration-color: #008000\">restaurant that has live music but does not specifically list kid-friendly or parking.\"</span>,\n",
       "    <span style=\"color: #008080; text-decoration-color: #008080; font-weight: bold\">2</span>: <span style=\"color: #008000; text-decoration-color: #008000\">'[tool] Search(fields=[name, has parking, good for kids], filters=[name == \"Cookies Cream\"])'</span>\n",
       "<span style=\"font-weight: bold\">}</span>\n",
       "</pre>\n"
      ],
      "text/plain": [
       "\n",
       "Stepping conversations:\n",
       "\u001b[1m{\u001b[0m\n",
       "    \u001b[1;36m0\u001b[0m: \u001b[32m'\u001b[0m\u001b[32m[\u001b[0m\u001b[32mmessage\u001b[0m\u001b[32m]\u001b[0m\u001b[32m I suggest we visit Schwarzes Cafe first, as it is kid-friendly, although it does not have \u001b[0m\n",
       "\u001b[32mparking. For a dose of live music, we could then head to Cookies Cream, and finish our day at Caribbean Corner. Is \u001b[0m\n",
       "\u001b[32mthis itinerary fine for you?'\u001b[0m,\n",
       "    \u001b[1;36m1\u001b[0m: \u001b[32m\"\u001b[0m\u001b[32m[\u001b[0m\u001b[32mthink\u001b[0m\u001b[32m]\u001b[0m\u001b[32m It appears that there are no restaurants that meet all of the user's specifications. I can \u001b[0m\n",
       "\u001b[32mrecommend a kid-friendly cafe, Schwarzes Cafe, but it does not have parking. Alternatively, I can recommend a \u001b[0m\n",
       "\u001b[32mrestaurant that has live music but does not specifically list kid-friendly or parking.\"\u001b[0m,\n",
       "    \u001b[1;36m2\u001b[0m: \u001b[32m'\u001b[0m\u001b[32m[\u001b[0m\u001b[32mtool\u001b[0m\u001b[32m]\u001b[0m\u001b[32m Search\u001b[0m\u001b[32m(\u001b[0m\u001b[32mfields\u001b[0m\u001b[32m=\u001b[0m\u001b[32m[\u001b[0m\u001b[32mname, has parking, good for kids\u001b[0m\u001b[32m]\u001b[0m\u001b[32m, \u001b[0m\u001b[32mfilters\u001b[0m\u001b[32m=\u001b[0m\u001b[32m[\u001b[0m\u001b[32mname == \"Cookies Cream\"\u001b[0m\u001b[32m]\u001b[0m\u001b[32m)\u001b[0m\u001b[32m'\u001b[0m\n",
       "\u001b[1m}\u001b[0m\n"
      ]
     },
     "metadata": {},
     "output_type": "display_data"
    },
    {
     "data": {
      "text/html": [
       "<pre style=\"white-space:pre;overflow-x:auto;line-height:normal;font-family:Menlo,'DejaVu Sans Mono',consolas,'Courier New',monospace\">\n",
       "Conversation <span style=\"color: #008080; text-decoration-color: #008080; font-weight: bold\">0</span> response:\n",
       " I suggest we visit Schwarzes Cafe first, as it is kid-friendly, although it does not have <span style=\"color: #808000; text-decoration-color: #808000\">...</span>\n",
       "</pre>\n"
      ],
      "text/plain": [
       "\n",
       "Conversation \u001b[1;36m0\u001b[0m response:\n",
       " I suggest we visit Schwarzes Cafe first, as it is kid-friendly, although it does not have \u001b[33m...\u001b[0m\n"
      ]
     },
     "metadata": {},
     "output_type": "display_data"
    },
    {
     "data": {
      "text/html": [
       "<pre style=\"white-space:pre;overflow-x:auto;line-height:normal;font-family:Menlo,'DejaVu Sans Mono',consolas,'Courier New',monospace\"> I suggest we visit Schwarzes Cafe first, as it is kid-friendly, although it does not have parking. For a dose of \n",
       "live music, we could then head to Cookies Cream, and finish our day at Caribbean Corner. Is this itinerary fine for\n",
       "you?\n",
       "</pre>\n"
      ],
      "text/plain": [
       " I suggest we visit Schwarzes Cafe first, as it is kid-friendly, although it does not have parking. For a dose of \n",
       "live music, we could then head to Cookies Cream, and finish our day at Caribbean Corner. Is this itinerary fine for\n",
       "you?\n"
      ]
     },
     "metadata": {},
     "output_type": "display_data"
    },
    {
     "data": {
      "text/html": [
       "<pre style=\"white-space:pre;overflow-x:auto;line-height:normal;font-family:Menlo,'DejaVu Sans Mono',consolas,'Courier New',monospace\">\n",
       "Conversation <span style=\"color: #008080; text-decoration-color: #008080; font-weight: bold\">1</span> response:\n",
       " It appears that there are no restaurants that meet all of the user's specifications. I can r<span style=\"color: #808000; text-decoration-color: #808000\">...</span>\n",
       "</pre>\n"
      ],
      "text/plain": [
       "\n",
       "Conversation \u001b[1;36m1\u001b[0m response:\n",
       " It appears that there are no restaurants that meet all of the user's specifications. I can r\u001b[33m...\u001b[0m\n"
      ]
     },
     "metadata": {},
     "output_type": "display_data"
    },
    {
     "data": {
      "text/html": [
       "<pre style=\"white-space:pre;overflow-x:auto;line-height:normal;font-family:Menlo,'DejaVu Sans Mono',consolas,'Courier New',monospace\"> It appears that there are no restaurants that meet all of the user's specifications. I can recommend a \n",
       "kid-friendly cafe, Schwarzes Cafe, but it does not have parking. Alternatively, I can recommend a restaurant that \n",
       "has live music but does not specifically list kid-friendly or parking.\n",
       "</pre>\n"
      ],
      "text/plain": [
       " It appears that there are no restaurants that meet all of the user's specifications. I can recommend a \n",
       "kid-friendly cafe, Schwarzes Cafe, but it does not have parking. Alternatively, I can recommend a restaurant that \n",
       "has live music but does not specifically list kid-friendly or parking.\n"
      ]
     },
     "metadata": {},
     "output_type": "display_data"
    },
    {
     "data": {
      "text/html": [
       "<pre style=\"white-space:pre;overflow-x:auto;line-height:normal;font-family:Menlo,'DejaVu Sans Mono',consolas,'Courier New',monospace\">\n",
       "Conversation <span style=\"color: #008080; text-decoration-color: #008080; font-weight: bold\">2</span> response:\n",
       " <span style=\"color: #800080; text-decoration-color: #800080; font-weight: bold\">Search</span><span style=\"font-weight: bold\">(</span><span style=\"color: #808000; text-decoration-color: #808000\">fields</span>=, <span style=\"color: #808000; text-decoration-color: #808000\">filters</span>=<span style=\"font-weight: bold\">)</span><span style=\"color: #808000; text-decoration-color: #808000\">...</span>\n",
       "</pre>\n"
      ],
      "text/plain": [
       "\n",
       "Conversation \u001b[1;36m2\u001b[0m response:\n",
       " \u001b[1;35mSearch\u001b[0m\u001b[1m(\u001b[0m\u001b[33mfields\u001b[0m=, \u001b[33mfilters\u001b[0m=\u001b[1m)\u001b[0m\u001b[33m...\u001b[0m\n"
      ]
     },
     "metadata": {},
     "output_type": "display_data"
    },
    {
     "data": {
      "text/html": [
       "<pre style=\"white-space:pre;overflow-x:auto;line-height:normal;font-family:Menlo,'DejaVu Sans Mono',consolas,'Courier New',monospace\"> <span style=\"color: #800080; text-decoration-color: #800080; font-weight: bold\">Search</span><span style=\"font-weight: bold\">(</span><span style=\"color: #808000; text-decoration-color: #808000\">fields</span>=, <span style=\"color: #808000; text-decoration-color: #808000\">filters</span>=<span style=\"font-weight: bold\">)</span>\n",
       "</pre>\n"
      ],
      "text/plain": [
       " \u001b[1;35mSearch\u001b[0m\u001b[1m(\u001b[0m\u001b[33mfields\u001b[0m=, \u001b[33mfilters\u001b[0m=\u001b[1m)\u001b[0m\n"
      ]
     },
     "metadata": {},
     "output_type": "display_data"
    },
    {
     "name": "stdout",
     "output_type": "stream",
     "text": [
      "ChatCompletion(id='chatcmpl-ATLf4XG6b8XpdvtrUh4DedOIEpYX3', choices=[Choice(finish_reason='stop', index=0, logprobs=None, message=ChatCompletionMessage(content='Search Results (1):\\n- **Name:** Cookies Cream\\n- **Has Parking:** False\\n- **Good for Kids:** Not specified', refusal=None, role='assistant', function_call=None, tool_calls=None))], created=1731558142, model='gpt-4o-2024-08-06', object='chat.completion', service_tier=None, system_fingerprint='fp_9ee9e968ea', usage=CompletionUsage(completion_tokens=27, prompt_tokens=3255, total_tokens=3282, completion_tokens_details=CompletionTokensDetails(reasoning_tokens=0, audio_tokens=0, accepted_prediction_tokens=0, rejected_prediction_tokens=0), prompt_tokens_details={'cached_tokens': 3072, 'audio_tokens': 0}))\n"
     ]
    },
    {
     "data": {
      "text/html": [
       "<pre style=\"white-space:pre;overflow-x:auto;line-height:normal;font-family:Menlo,'DejaVu Sans Mono',consolas,'Courier New',monospace\">----Conversation <span style=\"color: #008080; text-decoration-color: #008080; font-weight: bold\">0</span> is waiting for user input---\n",
       "</pre>\n"
      ],
      "text/plain": [
       "----Conversation \u001b[1;36m0\u001b[0m is waiting for user input---\n"
      ]
     },
     "metadata": {},
     "output_type": "display_data"
    },
    {
     "data": {
      "text/html": [
       "<pre style=\"white-space:pre;overflow-x:auto;line-height:normal;font-family:Menlo,'DejaVu Sans Mono',consolas,'Courier New',monospace\">Response:  <span style=\"font-weight: bold\">[</span>message<span style=\"font-weight: bold\">]</span> It seems we have run into a bit of a snag. Unfortunately, I could not find a restaurant that \n",
       "checks all the boxes for being kid-friendly, has parking, and features live music. I can recommend Schwarzes Cafe \n",
       "for its kid-friendly atmosphere, although it does not have parking. Alternatively, we have a few restaurants such \n",
       "as Cookies Cream and Caribbean Corner that offer live music, but do not specifically list being kid-friendly or \n",
       "offering parking. Can we move forward with these choices or would you prefer other suggestions?\n",
       "</pre>\n"
      ],
      "text/plain": [
       "Response:  \u001b[1m[\u001b[0mmessage\u001b[1m]\u001b[0m It seems we have run into a bit of a snag. Unfortunately, I could not find a restaurant that \n",
       "checks all the boxes for being kid-friendly, has parking, and features live music. I can recommend Schwarzes Cafe \n",
       "for its kid-friendly atmosphere, although it does not have parking. Alternatively, we have a few restaurants such \n",
       "as Cookies Cream and Caribbean Corner that offer live music, but do not specifically list being kid-friendly or \n",
       "offering parking. Can we move forward with these choices or would you prefer other suggestions?\n"
      ]
     },
     "metadata": {},
     "output_type": "display_data"
    },
    {
     "data": {
      "text/html": [
       "<pre style=\"white-space:pre;overflow-x:auto;line-height:normal;font-family:Menlo,'DejaVu Sans Mono',consolas,'Courier New',monospace\">stop:  stop\n",
       "</pre>\n"
      ],
      "text/plain": [
       "stop:  stop\n"
      ]
     },
     "metadata": {},
     "output_type": "display_data"
    },
    {
     "data": {
      "text/html": [
       "<pre style=\"white-space:pre;overflow-x:auto;line-height:normal;font-family:Menlo,'DejaVu Sans Mono',consolas,'Courier New',monospace\"><span style=\"color: #800080; text-decoration-color: #800080; font-weight: bold\">CompletionUsage</span><span style=\"font-weight: bold\">(</span>\n",
       "    <span style=\"color: #808000; text-decoration-color: #808000\">completion_tokens</span>=<span style=\"color: #008080; text-decoration-color: #008080; font-weight: bold\">105</span>,\n",
       "    <span style=\"color: #808000; text-decoration-color: #808000\">prompt_tokens</span>=<span style=\"color: #008080; text-decoration-color: #008080; font-weight: bold\">2522</span>,\n",
       "    <span style=\"color: #808000; text-decoration-color: #808000\">total_tokens</span>=<span style=\"color: #008080; text-decoration-color: #008080; font-weight: bold\">2627</span>,\n",
       "    <span style=\"color: #808000; text-decoration-color: #808000\">completion_tokens_details</span>=<span style=\"color: #800080; text-decoration-color: #800080; font-weight: bold\">CompletionTokensDetails</span><span style=\"font-weight: bold\">(</span>\n",
       "        <span style=\"color: #808000; text-decoration-color: #808000\">reasoning_tokens</span>=<span style=\"color: #008080; text-decoration-color: #008080; font-weight: bold\">0</span>,\n",
       "        <span style=\"color: #808000; text-decoration-color: #808000\">audio_tokens</span>=<span style=\"color: #008080; text-decoration-color: #008080; font-weight: bold\">0</span>,\n",
       "        <span style=\"color: #808000; text-decoration-color: #808000\">accepted_prediction_tokens</span>=<span style=\"color: #008080; text-decoration-color: #008080; font-weight: bold\">0</span>,\n",
       "        <span style=\"color: #808000; text-decoration-color: #808000\">rejected_prediction_tokens</span>=<span style=\"color: #008080; text-decoration-color: #008080; font-weight: bold\">0</span>\n",
       "    <span style=\"font-weight: bold\">)</span>,\n",
       "    <span style=\"color: #808000; text-decoration-color: #808000\">prompt_tokens_details</span>=<span style=\"font-weight: bold\">{</span><span style=\"color: #008000; text-decoration-color: #008000\">'cached_tokens'</span>: <span style=\"color: #008080; text-decoration-color: #008080; font-weight: bold\">0</span>, <span style=\"color: #008000; text-decoration-color: #008000\">'audio_tokens'</span>: <span style=\"color: #008080; text-decoration-color: #008080; font-weight: bold\">0</span><span style=\"font-weight: bold\">}</span>\n",
       "<span style=\"font-weight: bold\">)</span>\n",
       "</pre>\n"
      ],
      "text/plain": [
       "\u001b[1;35mCompletionUsage\u001b[0m\u001b[1m(\u001b[0m\n",
       "    \u001b[33mcompletion_tokens\u001b[0m=\u001b[1;36m105\u001b[0m,\n",
       "    \u001b[33mprompt_tokens\u001b[0m=\u001b[1;36m2522\u001b[0m,\n",
       "    \u001b[33mtotal_tokens\u001b[0m=\u001b[1;36m2627\u001b[0m,\n",
       "    \u001b[33mcompletion_tokens_details\u001b[0m=\u001b[1;35mCompletionTokensDetails\u001b[0m\u001b[1m(\u001b[0m\n",
       "        \u001b[33mreasoning_tokens\u001b[0m=\u001b[1;36m0\u001b[0m,\n",
       "        \u001b[33maudio_tokens\u001b[0m=\u001b[1;36m0\u001b[0m,\n",
       "        \u001b[33maccepted_prediction_tokens\u001b[0m=\u001b[1;36m0\u001b[0m,\n",
       "        \u001b[33mrejected_prediction_tokens\u001b[0m=\u001b[1;36m0\u001b[0m\n",
       "    \u001b[1m)\u001b[0m,\n",
       "    \u001b[33mprompt_tokens_details\u001b[0m=\u001b[1m{\u001b[0m\u001b[32m'cached_tokens'\u001b[0m: \u001b[1;36m0\u001b[0m, \u001b[32m'audio_tokens'\u001b[0m: \u001b[1;36m0\u001b[0m\u001b[1m}\u001b[0m\n",
       "\u001b[1m)\u001b[0m\n"
      ]
     },
     "metadata": {},
     "output_type": "display_data"
    },
    {
     "data": {
      "text/html": [
       "<pre style=\"white-space:pre;overflow-x:auto;line-height:normal;font-family:Menlo,'DejaVu Sans Mono',consolas,'Courier New',monospace\">Response:  <span style=\"font-weight: bold\">[</span>tool<span style=\"font-weight: bold\">]</span> <span style=\"color: #800080; text-decoration-color: #800080; font-weight: bold\">Search</span><span style=\"font-weight: bold\">(</span><span style=\"color: #808000; text-decoration-color: #808000\">fields</span>=<span style=\"font-weight: bold\">[</span>name, has parking, good for kids<span style=\"font-weight: bold\">]</span>, <span style=\"color: #808000; text-decoration-color: #808000\">filters</span>=<span style=\"font-weight: bold\">[</span>name == <span style=\"color: #008000; text-decoration-color: #008000\">\"Caribbean Corner\"</span><span style=\"font-weight: bold\">])</span>\n",
       "</pre>\n"
      ],
      "text/plain": [
       "Response:  \u001b[1m[\u001b[0mtool\u001b[1m]\u001b[0m \u001b[1;35mSearch\u001b[0m\u001b[1m(\u001b[0m\u001b[33mfields\u001b[0m=\u001b[1m[\u001b[0mname, has parking, good for kids\u001b[1m]\u001b[0m, \u001b[33mfilters\u001b[0m=\u001b[1m[\u001b[0mname == \u001b[32m\"Caribbean Corner\"\u001b[0m\u001b[1m]\u001b[0m\u001b[1m)\u001b[0m\n"
      ]
     },
     "metadata": {},
     "output_type": "display_data"
    },
    {
     "data": {
      "text/html": [
       "<pre style=\"white-space:pre;overflow-x:auto;line-height:normal;font-family:Menlo,'DejaVu Sans Mono',consolas,'Courier New',monospace\">stop:  stop\n",
       "</pre>\n"
      ],
      "text/plain": [
       "stop:  stop\n"
      ]
     },
     "metadata": {},
     "output_type": "display_data"
    },
    {
     "data": {
      "text/html": [
       "<pre style=\"white-space:pre;overflow-x:auto;line-height:normal;font-family:Menlo,'DejaVu Sans Mono',consolas,'Courier New',monospace\"><span style=\"color: #800080; text-decoration-color: #800080; font-weight: bold\">CompletionUsage</span><span style=\"font-weight: bold\">(</span>\n",
       "    <span style=\"color: #808000; text-decoration-color: #808000\">completion_tokens</span>=<span style=\"color: #008080; text-decoration-color: #008080; font-weight: bold\">24</span>,\n",
       "    <span style=\"color: #808000; text-decoration-color: #808000\">prompt_tokens</span>=<span style=\"color: #008080; text-decoration-color: #008080; font-weight: bold\">2526</span>,\n",
       "    <span style=\"color: #808000; text-decoration-color: #808000\">total_tokens</span>=<span style=\"color: #008080; text-decoration-color: #008080; font-weight: bold\">2550</span>,\n",
       "    <span style=\"color: #808000; text-decoration-color: #808000\">completion_tokens_details</span>=<span style=\"color: #800080; text-decoration-color: #800080; font-weight: bold\">CompletionTokensDetails</span><span style=\"font-weight: bold\">(</span>\n",
       "        <span style=\"color: #808000; text-decoration-color: #808000\">reasoning_tokens</span>=<span style=\"color: #008080; text-decoration-color: #008080; font-weight: bold\">0</span>,\n",
       "        <span style=\"color: #808000; text-decoration-color: #808000\">audio_tokens</span>=<span style=\"color: #008080; text-decoration-color: #008080; font-weight: bold\">0</span>,\n",
       "        <span style=\"color: #808000; text-decoration-color: #808000\">accepted_prediction_tokens</span>=<span style=\"color: #008080; text-decoration-color: #008080; font-weight: bold\">0</span>,\n",
       "        <span style=\"color: #808000; text-decoration-color: #808000\">rejected_prediction_tokens</span>=<span style=\"color: #008080; text-decoration-color: #008080; font-weight: bold\">0</span>\n",
       "    <span style=\"font-weight: bold\">)</span>,\n",
       "    <span style=\"color: #808000; text-decoration-color: #808000\">prompt_tokens_details</span>=<span style=\"font-weight: bold\">{</span><span style=\"color: #008000; text-decoration-color: #008000\">'cached_tokens'</span>: <span style=\"color: #008080; text-decoration-color: #008080; font-weight: bold\">0</span>, <span style=\"color: #008000; text-decoration-color: #008000\">'audio_tokens'</span>: <span style=\"color: #008080; text-decoration-color: #008080; font-weight: bold\">0</span><span style=\"font-weight: bold\">}</span>\n",
       "<span style=\"font-weight: bold\">)</span>\n",
       "</pre>\n"
      ],
      "text/plain": [
       "\u001b[1;35mCompletionUsage\u001b[0m\u001b[1m(\u001b[0m\n",
       "    \u001b[33mcompletion_tokens\u001b[0m=\u001b[1;36m24\u001b[0m,\n",
       "    \u001b[33mprompt_tokens\u001b[0m=\u001b[1;36m2526\u001b[0m,\n",
       "    \u001b[33mtotal_tokens\u001b[0m=\u001b[1;36m2550\u001b[0m,\n",
       "    \u001b[33mcompletion_tokens_details\u001b[0m=\u001b[1;35mCompletionTokensDetails\u001b[0m\u001b[1m(\u001b[0m\n",
       "        \u001b[33mreasoning_tokens\u001b[0m=\u001b[1;36m0\u001b[0m,\n",
       "        \u001b[33maudio_tokens\u001b[0m=\u001b[1;36m0\u001b[0m,\n",
       "        \u001b[33maccepted_prediction_tokens\u001b[0m=\u001b[1;36m0\u001b[0m,\n",
       "        \u001b[33mrejected_prediction_tokens\u001b[0m=\u001b[1;36m0\u001b[0m\n",
       "    \u001b[1m)\u001b[0m,\n",
       "    \u001b[33mprompt_tokens_details\u001b[0m=\u001b[1m{\u001b[0m\u001b[32m'cached_tokens'\u001b[0m: \u001b[1;36m0\u001b[0m, \u001b[32m'audio_tokens'\u001b[0m: \u001b[1;36m0\u001b[0m\u001b[1m}\u001b[0m\n",
       "\u001b[1m)\u001b[0m\n"
      ]
     },
     "metadata": {},
     "output_type": "display_data"
    },
    {
     "data": {
      "text/html": [
       "<pre style=\"white-space:pre;overflow-x:auto;line-height:normal;font-family:Menlo,'DejaVu Sans Mono',consolas,'Courier New',monospace\">\n",
       "Stepping conversations:\n",
       "<span style=\"font-weight: bold\">{</span>\n",
       "    <span style=\"color: #008080; text-decoration-color: #008080; font-weight: bold\">0</span>: <span style=\"color: #800080; text-decoration-color: #800080; font-style: italic\">None</span>,\n",
       "    <span style=\"color: #008080; text-decoration-color: #008080; font-weight: bold\">1</span>: <span style=\"color: #008000; text-decoration-color: #008000\">'[message] It seems we have run into a bit of a snag. Unfortunately, I could not find a restaurant that </span>\n",
       "<span style=\"color: #008000; text-decoration-color: #008000\">checks all the boxes for being kid-friendly, has parking, and features live music. I can recommend Schwarzes Cafe </span>\n",
       "<span style=\"color: #008000; text-decoration-color: #008000\">for its kid-friendly atmosphere, although it does not have parking. Alternatively, we have a few restaurants such </span>\n",
       "<span style=\"color: #008000; text-decoration-color: #008000\">as Cookies Cream and Caribbean Corner that offer live music, but do not specifically list being kid-friendly or </span>\n",
       "<span style=\"color: #008000; text-decoration-color: #008000\">offering parking. Can we move forward with these choices or would you prefer other suggestions?'</span>,\n",
       "    <span style=\"color: #008080; text-decoration-color: #008080; font-weight: bold\">2</span>: <span style=\"color: #008000; text-decoration-color: #008000\">'[tool] Search(fields=[name, has parking, good for kids], filters=[name == \"Caribbean Corner\"])'</span>\n",
       "<span style=\"font-weight: bold\">}</span>\n",
       "</pre>\n"
      ],
      "text/plain": [
       "\n",
       "Stepping conversations:\n",
       "\u001b[1m{\u001b[0m\n",
       "    \u001b[1;36m0\u001b[0m: \u001b[3;35mNone\u001b[0m,\n",
       "    \u001b[1;36m1\u001b[0m: \u001b[32m'\u001b[0m\u001b[32m[\u001b[0m\u001b[32mmessage\u001b[0m\u001b[32m]\u001b[0m\u001b[32m It seems we have run into a bit of a snag. Unfortunately, I could not find a restaurant that \u001b[0m\n",
       "\u001b[32mchecks all the boxes for being kid-friendly, has parking, and features live music. I can recommend Schwarzes Cafe \u001b[0m\n",
       "\u001b[32mfor its kid-friendly atmosphere, although it does not have parking. Alternatively, we have a few restaurants such \u001b[0m\n",
       "\u001b[32mas Cookies Cream and Caribbean Corner that offer live music, but do not specifically list being kid-friendly or \u001b[0m\n",
       "\u001b[32moffering parking. Can we move forward with these choices or would you prefer other suggestions?'\u001b[0m,\n",
       "    \u001b[1;36m2\u001b[0m: \u001b[32m'\u001b[0m\u001b[32m[\u001b[0m\u001b[32mtool\u001b[0m\u001b[32m]\u001b[0m\u001b[32m Search\u001b[0m\u001b[32m(\u001b[0m\u001b[32mfields\u001b[0m\u001b[32m=\u001b[0m\u001b[32m[\u001b[0m\u001b[32mname, has parking, good for kids\u001b[0m\u001b[32m]\u001b[0m\u001b[32m, \u001b[0m\u001b[32mfilters\u001b[0m\u001b[32m=\u001b[0m\u001b[32m[\u001b[0m\u001b[32mname == \"Caribbean Corner\"\u001b[0m\u001b[32m]\u001b[0m\u001b[32m)\u001b[0m\u001b[32m'\u001b[0m\n",
       "\u001b[1m}\u001b[0m\n"
      ]
     },
     "metadata": {},
     "output_type": "display_data"
    },
    {
     "data": {
      "text/html": [
       "<pre style=\"white-space:pre;overflow-x:auto;line-height:normal;font-family:Menlo,'DejaVu Sans Mono',consolas,'Courier New',monospace\">\n",
       "Conversation <span style=\"color: #008080; text-decoration-color: #008080; font-weight: bold\">1</span> response:\n",
       " It seems we have run into a bit of a snag. Unfortunately, I could not find a restaurant th<span style=\"color: #808000; text-decoration-color: #808000\">...</span>\n",
       "</pre>\n"
      ],
      "text/plain": [
       "\n",
       "Conversation \u001b[1;36m1\u001b[0m response:\n",
       " It seems we have run into a bit of a snag. Unfortunately, I could not find a restaurant th\u001b[33m...\u001b[0m\n"
      ]
     },
     "metadata": {},
     "output_type": "display_data"
    },
    {
     "data": {
      "text/html": [
       "<pre style=\"white-space:pre;overflow-x:auto;line-height:normal;font-family:Menlo,'DejaVu Sans Mono',consolas,'Courier New',monospace\"> It seems we have run into a bit of a snag. Unfortunately, I could not find a restaurant that checks all the boxes \n",
       "for being kid-friendly, has parking, and features live music. I can recommend Schwarzes Cafe for its kid-friendly \n",
       "atmosphere, although it does not have parking. Alternatively, we have a few restaurants such as Cookies Cream and \n",
       "Caribbean Corner that offer live music, but do not specifically list being kid-friendly or offering parking. Can we\n",
       "move forward with these choices or would you prefer other suggestions?\n",
       "</pre>\n"
      ],
      "text/plain": [
       " It seems we have run into a bit of a snag. Unfortunately, I could not find a restaurant that checks all the boxes \n",
       "for being kid-friendly, has parking, and features live music. I can recommend Schwarzes Cafe for its kid-friendly \n",
       "atmosphere, although it does not have parking. Alternatively, we have a few restaurants such as Cookies Cream and \n",
       "Caribbean Corner that offer live music, but do not specifically list being kid-friendly or offering parking. Can we\n",
       "move forward with these choices or would you prefer other suggestions?\n"
      ]
     },
     "metadata": {},
     "output_type": "display_data"
    },
    {
     "data": {
      "text/html": [
       "<pre style=\"white-space:pre;overflow-x:auto;line-height:normal;font-family:Menlo,'DejaVu Sans Mono',consolas,'Courier New',monospace\">\n",
       "Conversation <span style=\"color: #008080; text-decoration-color: #008080; font-weight: bold\">2</span> response:\n",
       " <span style=\"color: #800080; text-decoration-color: #800080; font-weight: bold\">Search</span><span style=\"font-weight: bold\">(</span><span style=\"color: #808000; text-decoration-color: #808000\">fields</span>=, <span style=\"color: #808000; text-decoration-color: #808000\">filters</span>=<span style=\"font-weight: bold\">)</span><span style=\"color: #808000; text-decoration-color: #808000\">...</span>\n",
       "</pre>\n"
      ],
      "text/plain": [
       "\n",
       "Conversation \u001b[1;36m2\u001b[0m response:\n",
       " \u001b[1;35mSearch\u001b[0m\u001b[1m(\u001b[0m\u001b[33mfields\u001b[0m=, \u001b[33mfilters\u001b[0m=\u001b[1m)\u001b[0m\u001b[33m...\u001b[0m\n"
      ]
     },
     "metadata": {},
     "output_type": "display_data"
    },
    {
     "data": {
      "text/html": [
       "<pre style=\"white-space:pre;overflow-x:auto;line-height:normal;font-family:Menlo,'DejaVu Sans Mono',consolas,'Courier New',monospace\"> <span style=\"color: #800080; text-decoration-color: #800080; font-weight: bold\">Search</span><span style=\"font-weight: bold\">(</span><span style=\"color: #808000; text-decoration-color: #808000\">fields</span>=, <span style=\"color: #808000; text-decoration-color: #808000\">filters</span>=<span style=\"font-weight: bold\">)</span>\n",
       "</pre>\n"
      ],
      "text/plain": [
       " \u001b[1;35mSearch\u001b[0m\u001b[1m(\u001b[0m\u001b[33mfields\u001b[0m=, \u001b[33mfilters\u001b[0m=\u001b[1m)\u001b[0m\n"
      ]
     },
     "metadata": {},
     "output_type": "display_data"
    },
    {
     "name": "stdout",
     "output_type": "stream",
     "text": [
      "ChatCompletion(id='chatcmpl-ATLfCmMil9BN0fmmme1c94wlbw9fl', choices=[Choice(finish_reason='stop', index=0, logprobs=None, message=ChatCompletionMessage(content='Search Results (1):\\n- **Name:** Caribbean Corner\\n- **Has Parking:** False\\n- **Good for Kids:** True', refusal=None, role='assistant', function_call=None, tool_calls=None))], created=1731558150, model='gpt-4o-2024-08-06', object='chat.completion', service_tier=None, system_fingerprint='fp_9ee9e968ea', usage=CompletionUsage(completion_tokens=26, prompt_tokens=3256, total_tokens=3282, completion_tokens_details=CompletionTokensDetails(reasoning_tokens=0, audio_tokens=0, accepted_prediction_tokens=0, rejected_prediction_tokens=0), prompt_tokens_details={'cached_tokens': 3072, 'audio_tokens': 0}))\n"
     ]
    },
    {
     "data": {
      "text/html": [
       "<pre style=\"white-space:pre;overflow-x:auto;line-height:normal;font-family:Menlo,'DejaVu Sans Mono',consolas,'Courier New',monospace\">----Conversation <span style=\"color: #008080; text-decoration-color: #008080; font-weight: bold\">1</span> is waiting for user input---\n",
       "</pre>\n"
      ],
      "text/plain": [
       "----Conversation \u001b[1;36m1\u001b[0m is waiting for user input---\n"
      ]
     },
     "metadata": {},
     "output_type": "display_data"
    },
    {
     "data": {
      "text/html": [
       "<pre style=\"white-space:pre;overflow-x:auto;line-height:normal;font-family:Menlo,'DejaVu Sans Mono',consolas,'Courier New',monospace\">Response:  <span style=\"font-weight: bold\">[</span>tool<span style=\"font-weight: bold\">]</span> <span style=\"color: #800080; text-decoration-color: #800080; font-weight: bold\">Search</span><span style=\"font-weight: bold\">(</span><span style=\"color: #808000; text-decoration-color: #808000\">fields</span>=<span style=\"font-weight: bold\">[</span>name, has parking, good for kids<span style=\"font-weight: bold\">]</span>, <span style=\"color: #808000; text-decoration-color: #808000\">filters</span>=<span style=\"font-weight: bold\">[</span>name == <span style=\"color: #008000; text-decoration-color: #008000\">\"Mad Seoul\"</span><span style=\"font-weight: bold\">])</span>\n",
       "</pre>\n"
      ],
      "text/plain": [
       "Response:  \u001b[1m[\u001b[0mtool\u001b[1m]\u001b[0m \u001b[1;35mSearch\u001b[0m\u001b[1m(\u001b[0m\u001b[33mfields\u001b[0m=\u001b[1m[\u001b[0mname, has parking, good for kids\u001b[1m]\u001b[0m, \u001b[33mfilters\u001b[0m=\u001b[1m[\u001b[0mname == \u001b[32m\"Mad Seoul\"\u001b[0m\u001b[1m]\u001b[0m\u001b[1m)\u001b[0m\n"
      ]
     },
     "metadata": {},
     "output_type": "display_data"
    },
    {
     "data": {
      "text/html": [
       "<pre style=\"white-space:pre;overflow-x:auto;line-height:normal;font-family:Menlo,'DejaVu Sans Mono',consolas,'Courier New',monospace\">stop:  stop\n",
       "</pre>\n"
      ],
      "text/plain": [
       "stop:  stop\n"
      ]
     },
     "metadata": {},
     "output_type": "display_data"
    },
    {
     "data": {
      "text/html": [
       "<pre style=\"white-space:pre;overflow-x:auto;line-height:normal;font-family:Menlo,'DejaVu Sans Mono',consolas,'Courier New',monospace\"><span style=\"color: #800080; text-decoration-color: #800080; font-weight: bold\">CompletionUsage</span><span style=\"font-weight: bold\">(</span>\n",
       "    <span style=\"color: #808000; text-decoration-color: #808000\">completion_tokens</span>=<span style=\"color: #008080; text-decoration-color: #008080; font-weight: bold\">23</span>,\n",
       "    <span style=\"color: #808000; text-decoration-color: #808000\">prompt_tokens</span>=<span style=\"color: #008080; text-decoration-color: #008080; font-weight: bold\">2578</span>,\n",
       "    <span style=\"color: #808000; text-decoration-color: #808000\">total_tokens</span>=<span style=\"color: #008080; text-decoration-color: #008080; font-weight: bold\">2601</span>,\n",
       "    <span style=\"color: #808000; text-decoration-color: #808000\">completion_tokens_details</span>=<span style=\"color: #800080; text-decoration-color: #800080; font-weight: bold\">CompletionTokensDetails</span><span style=\"font-weight: bold\">(</span>\n",
       "        <span style=\"color: #808000; text-decoration-color: #808000\">reasoning_tokens</span>=<span style=\"color: #008080; text-decoration-color: #008080; font-weight: bold\">0</span>,\n",
       "        <span style=\"color: #808000; text-decoration-color: #808000\">audio_tokens</span>=<span style=\"color: #008080; text-decoration-color: #008080; font-weight: bold\">0</span>,\n",
       "        <span style=\"color: #808000; text-decoration-color: #808000\">accepted_prediction_tokens</span>=<span style=\"color: #008080; text-decoration-color: #008080; font-weight: bold\">0</span>,\n",
       "        <span style=\"color: #808000; text-decoration-color: #808000\">rejected_prediction_tokens</span>=<span style=\"color: #008080; text-decoration-color: #008080; font-weight: bold\">0</span>\n",
       "    <span style=\"font-weight: bold\">)</span>,\n",
       "    <span style=\"color: #808000; text-decoration-color: #808000\">prompt_tokens_details</span>=<span style=\"font-weight: bold\">{</span><span style=\"color: #008000; text-decoration-color: #008000\">'cached_tokens'</span>: <span style=\"color: #008080; text-decoration-color: #008080; font-weight: bold\">0</span>, <span style=\"color: #008000; text-decoration-color: #008000\">'audio_tokens'</span>: <span style=\"color: #008080; text-decoration-color: #008080; font-weight: bold\">0</span><span style=\"font-weight: bold\">}</span>\n",
       "<span style=\"font-weight: bold\">)</span>\n",
       "</pre>\n"
      ],
      "text/plain": [
       "\u001b[1;35mCompletionUsage\u001b[0m\u001b[1m(\u001b[0m\n",
       "    \u001b[33mcompletion_tokens\u001b[0m=\u001b[1;36m23\u001b[0m,\n",
       "    \u001b[33mprompt_tokens\u001b[0m=\u001b[1;36m2578\u001b[0m,\n",
       "    \u001b[33mtotal_tokens\u001b[0m=\u001b[1;36m2601\u001b[0m,\n",
       "    \u001b[33mcompletion_tokens_details\u001b[0m=\u001b[1;35mCompletionTokensDetails\u001b[0m\u001b[1m(\u001b[0m\n",
       "        \u001b[33mreasoning_tokens\u001b[0m=\u001b[1;36m0\u001b[0m,\n",
       "        \u001b[33maudio_tokens\u001b[0m=\u001b[1;36m0\u001b[0m,\n",
       "        \u001b[33maccepted_prediction_tokens\u001b[0m=\u001b[1;36m0\u001b[0m,\n",
       "        \u001b[33mrejected_prediction_tokens\u001b[0m=\u001b[1;36m0\u001b[0m\n",
       "    \u001b[1m)\u001b[0m,\n",
       "    \u001b[33mprompt_tokens_details\u001b[0m=\u001b[1m{\u001b[0m\u001b[32m'cached_tokens'\u001b[0m: \u001b[1;36m0\u001b[0m, \u001b[32m'audio_tokens'\u001b[0m: \u001b[1;36m0\u001b[0m\u001b[1m}\u001b[0m\n",
       "\u001b[1m)\u001b[0m\n"
      ]
     },
     "metadata": {},
     "output_type": "display_data"
    },
    {
     "data": {
      "text/html": [
       "<pre style=\"white-space:pre;overflow-x:auto;line-height:normal;font-family:Menlo,'DejaVu Sans Mono',consolas,'Courier New',monospace\">\n",
       "Stepping conversations:\n",
       "<span style=\"font-weight: bold\">{</span><span style=\"color: #008080; text-decoration-color: #008080; font-weight: bold\">0</span>: <span style=\"color: #800080; text-decoration-color: #800080; font-style: italic\">None</span>, <span style=\"color: #008080; text-decoration-color: #008080; font-weight: bold\">1</span>: <span style=\"color: #800080; text-decoration-color: #800080; font-style: italic\">None</span>, <span style=\"color: #008080; text-decoration-color: #008080; font-weight: bold\">2</span>: <span style=\"color: #008000; text-decoration-color: #008000\">'[tool] Search(fields=[name, has parking, good for kids], filters=[name == \"Mad Seoul\"])'</span><span style=\"font-weight: bold\">}</span>\n",
       "</pre>\n"
      ],
      "text/plain": [
       "\n",
       "Stepping conversations:\n",
       "\u001b[1m{\u001b[0m\u001b[1;36m0\u001b[0m: \u001b[3;35mNone\u001b[0m, \u001b[1;36m1\u001b[0m: \u001b[3;35mNone\u001b[0m, \u001b[1;36m2\u001b[0m: \u001b[32m'\u001b[0m\u001b[32m[\u001b[0m\u001b[32mtool\u001b[0m\u001b[32m]\u001b[0m\u001b[32m Search\u001b[0m\u001b[32m(\u001b[0m\u001b[32mfields\u001b[0m\u001b[32m=\u001b[0m\u001b[32m[\u001b[0m\u001b[32mname, has parking, good for kids\u001b[0m\u001b[32m]\u001b[0m\u001b[32m, \u001b[0m\u001b[32mfilters\u001b[0m\u001b[32m=\u001b[0m\u001b[32m[\u001b[0m\u001b[32mname == \"Mad Seoul\"\u001b[0m\u001b[32m]\u001b[0m\u001b[32m)\u001b[0m\u001b[32m'\u001b[0m\u001b[1m}\u001b[0m\n"
      ]
     },
     "metadata": {},
     "output_type": "display_data"
    },
    {
     "data": {
      "text/html": [
       "<pre style=\"white-space:pre;overflow-x:auto;line-height:normal;font-family:Menlo,'DejaVu Sans Mono',consolas,'Courier New',monospace\">\n",
       "Conversation <span style=\"color: #008080; text-decoration-color: #008080; font-weight: bold\">2</span> response:\n",
       " <span style=\"color: #800080; text-decoration-color: #800080; font-weight: bold\">Search</span><span style=\"font-weight: bold\">(</span><span style=\"color: #808000; text-decoration-color: #808000\">fields</span>=, <span style=\"color: #808000; text-decoration-color: #808000\">filters</span>=<span style=\"font-weight: bold\">)</span><span style=\"color: #808000; text-decoration-color: #808000\">...</span>\n",
       "</pre>\n"
      ],
      "text/plain": [
       "\n",
       "Conversation \u001b[1;36m2\u001b[0m response:\n",
       " \u001b[1;35mSearch\u001b[0m\u001b[1m(\u001b[0m\u001b[33mfields\u001b[0m=, \u001b[33mfilters\u001b[0m=\u001b[1m)\u001b[0m\u001b[33m...\u001b[0m\n"
      ]
     },
     "metadata": {},
     "output_type": "display_data"
    },
    {
     "data": {
      "text/html": [
       "<pre style=\"white-space:pre;overflow-x:auto;line-height:normal;font-family:Menlo,'DejaVu Sans Mono',consolas,'Courier New',monospace\"> <span style=\"color: #800080; text-decoration-color: #800080; font-weight: bold\">Search</span><span style=\"font-weight: bold\">(</span><span style=\"color: #808000; text-decoration-color: #808000\">fields</span>=, <span style=\"color: #808000; text-decoration-color: #808000\">filters</span>=<span style=\"font-weight: bold\">)</span>\n",
       "</pre>\n"
      ],
      "text/plain": [
       " \u001b[1;35mSearch\u001b[0m\u001b[1m(\u001b[0m\u001b[33mfields\u001b[0m=, \u001b[33mfilters\u001b[0m=\u001b[1m)\u001b[0m\n"
      ]
     },
     "metadata": {},
     "output_type": "display_data"
    },
    {
     "name": "stdout",
     "output_type": "stream",
     "text": [
      "ChatCompletion(id='chatcmpl-ATLfFJgB2hyanTXnTgjbSSzO7nrjG', choices=[Choice(finish_reason='stop', index=0, logprobs=None, message=ChatCompletionMessage(content='Search Results (1):\\n- **Name:** Mad Seoul\\n- **Has Parking:** False\\n- **Good for Kids:** True', refusal=None, role='assistant', function_call=None, tool_calls=None))], created=1731558153, model='gpt-4o-2024-08-06', object='chat.completion', service_tier=None, system_fingerprint='fp_9ee9e968ea', usage=CompletionUsage(completion_tokens=26, prompt_tokens=3255, total_tokens=3281, completion_tokens_details=CompletionTokensDetails(reasoning_tokens=0, audio_tokens=0, accepted_prediction_tokens=0, rejected_prediction_tokens=0), prompt_tokens_details={'cached_tokens': 3072, 'audio_tokens': 0}))\n"
     ]
    },
    {
     "data": {
      "text/html": [
       "<pre style=\"white-space:pre;overflow-x:auto;line-height:normal;font-family:Menlo,'DejaVu Sans Mono',consolas,'Courier New',monospace\">Response:  <span style=\"font-weight: bold\">[</span>think<span style=\"font-weight: bold\">]</span> Even though none of the live music restaurants offer parking, <span style=\"color: #008000; text-decoration-color: #008000\">\"Caribbean Corner\"</span> and <span style=\"color: #008000; text-decoration-color: #008000\">\"Mad Seoul\"</span>\n",
       "are kid-friendly. Among these two, one should be suggested along with Schwarzes Cafe which was already confirmed.\n",
       "</pre>\n"
      ],
      "text/plain": [
       "Response:  \u001b[1m[\u001b[0mthink\u001b[1m]\u001b[0m Even though none of the live music restaurants offer parking, \u001b[32m\"Caribbean Corner\"\u001b[0m and \u001b[32m\"Mad Seoul\"\u001b[0m\n",
       "are kid-friendly. Among these two, one should be suggested along with Schwarzes Cafe which was already confirmed.\n"
      ]
     },
     "metadata": {},
     "output_type": "display_data"
    },
    {
     "data": {
      "text/html": [
       "<pre style=\"white-space:pre;overflow-x:auto;line-height:normal;font-family:Menlo,'DejaVu Sans Mono',consolas,'Courier New',monospace\">stop:  stop\n",
       "</pre>\n"
      ],
      "text/plain": [
       "stop:  stop\n"
      ]
     },
     "metadata": {},
     "output_type": "display_data"
    },
    {
     "data": {
      "text/html": [
       "<pre style=\"white-space:pre;overflow-x:auto;line-height:normal;font-family:Menlo,'DejaVu Sans Mono',consolas,'Courier New',monospace\"><span style=\"color: #800080; text-decoration-color: #800080; font-weight: bold\">CompletionUsage</span><span style=\"font-weight: bold\">(</span>\n",
       "    <span style=\"color: #808000; text-decoration-color: #808000\">completion_tokens</span>=<span style=\"color: #008080; text-decoration-color: #008080; font-weight: bold\">46</span>,\n",
       "    <span style=\"color: #808000; text-decoration-color: #808000\">prompt_tokens</span>=<span style=\"color: #008080; text-decoration-color: #008080; font-weight: bold\">2629</span>,\n",
       "    <span style=\"color: #808000; text-decoration-color: #808000\">total_tokens</span>=<span style=\"color: #008080; text-decoration-color: #008080; font-weight: bold\">2675</span>,\n",
       "    <span style=\"color: #808000; text-decoration-color: #808000\">completion_tokens_details</span>=<span style=\"color: #800080; text-decoration-color: #800080; font-weight: bold\">CompletionTokensDetails</span><span style=\"font-weight: bold\">(</span>\n",
       "        <span style=\"color: #808000; text-decoration-color: #808000\">reasoning_tokens</span>=<span style=\"color: #008080; text-decoration-color: #008080; font-weight: bold\">0</span>,\n",
       "        <span style=\"color: #808000; text-decoration-color: #808000\">audio_tokens</span>=<span style=\"color: #008080; text-decoration-color: #008080; font-weight: bold\">0</span>,\n",
       "        <span style=\"color: #808000; text-decoration-color: #808000\">accepted_prediction_tokens</span>=<span style=\"color: #008080; text-decoration-color: #008080; font-weight: bold\">0</span>,\n",
       "        <span style=\"color: #808000; text-decoration-color: #808000\">rejected_prediction_tokens</span>=<span style=\"color: #008080; text-decoration-color: #008080; font-weight: bold\">0</span>\n",
       "    <span style=\"font-weight: bold\">)</span>,\n",
       "    <span style=\"color: #808000; text-decoration-color: #808000\">prompt_tokens_details</span>=<span style=\"font-weight: bold\">{</span><span style=\"color: #008000; text-decoration-color: #008000\">'cached_tokens'</span>: <span style=\"color: #008080; text-decoration-color: #008080; font-weight: bold\">0</span>, <span style=\"color: #008000; text-decoration-color: #008000\">'audio_tokens'</span>: <span style=\"color: #008080; text-decoration-color: #008080; font-weight: bold\">0</span><span style=\"font-weight: bold\">}</span>\n",
       "<span style=\"font-weight: bold\">)</span>\n",
       "</pre>\n"
      ],
      "text/plain": [
       "\u001b[1;35mCompletionUsage\u001b[0m\u001b[1m(\u001b[0m\n",
       "    \u001b[33mcompletion_tokens\u001b[0m=\u001b[1;36m46\u001b[0m,\n",
       "    \u001b[33mprompt_tokens\u001b[0m=\u001b[1;36m2629\u001b[0m,\n",
       "    \u001b[33mtotal_tokens\u001b[0m=\u001b[1;36m2675\u001b[0m,\n",
       "    \u001b[33mcompletion_tokens_details\u001b[0m=\u001b[1;35mCompletionTokensDetails\u001b[0m\u001b[1m(\u001b[0m\n",
       "        \u001b[33mreasoning_tokens\u001b[0m=\u001b[1;36m0\u001b[0m,\n",
       "        \u001b[33maudio_tokens\u001b[0m=\u001b[1;36m0\u001b[0m,\n",
       "        \u001b[33maccepted_prediction_tokens\u001b[0m=\u001b[1;36m0\u001b[0m,\n",
       "        \u001b[33mrejected_prediction_tokens\u001b[0m=\u001b[1;36m0\u001b[0m\n",
       "    \u001b[1m)\u001b[0m,\n",
       "    \u001b[33mprompt_tokens_details\u001b[0m=\u001b[1m{\u001b[0m\u001b[32m'cached_tokens'\u001b[0m: \u001b[1;36m0\u001b[0m, \u001b[32m'audio_tokens'\u001b[0m: \u001b[1;36m0\u001b[0m\u001b[1m}\u001b[0m\n",
       "\u001b[1m)\u001b[0m\n"
      ]
     },
     "metadata": {},
     "output_type": "display_data"
    },
    {
     "data": {
      "text/html": [
       "<pre style=\"white-space:pre;overflow-x:auto;line-height:normal;font-family:Menlo,'DejaVu Sans Mono',consolas,'Courier New',monospace\">\n",
       "Stepping conversations:\n",
       "<span style=\"font-weight: bold\">{</span>\n",
       "    <span style=\"color: #008080; text-decoration-color: #008080; font-weight: bold\">0</span>: <span style=\"color: #800080; text-decoration-color: #800080; font-style: italic\">None</span>,\n",
       "    <span style=\"color: #008080; text-decoration-color: #008080; font-weight: bold\">1</span>: <span style=\"color: #800080; text-decoration-color: #800080; font-style: italic\">None</span>,\n",
       "    <span style=\"color: #008080; text-decoration-color: #008080; font-weight: bold\">2</span>: <span style=\"color: #008000; text-decoration-color: #008000\">'[think] Even though none of the live music restaurants offer parking, \"Caribbean Corner\" and \"Mad Seoul\" </span>\n",
       "<span style=\"color: #008000; text-decoration-color: #008000\">are kid-friendly. Among these two, one should be suggested along with Schwarzes Cafe which was already confirmed.'</span>\n",
       "<span style=\"font-weight: bold\">}</span>\n",
       "</pre>\n"
      ],
      "text/plain": [
       "\n",
       "Stepping conversations:\n",
       "\u001b[1m{\u001b[0m\n",
       "    \u001b[1;36m0\u001b[0m: \u001b[3;35mNone\u001b[0m,\n",
       "    \u001b[1;36m1\u001b[0m: \u001b[3;35mNone\u001b[0m,\n",
       "    \u001b[1;36m2\u001b[0m: \u001b[32m'\u001b[0m\u001b[32m[\u001b[0m\u001b[32mthink\u001b[0m\u001b[32m]\u001b[0m\u001b[32m Even though none of the live music restaurants offer parking, \"Caribbean Corner\" and \"Mad Seoul\" \u001b[0m\n",
       "\u001b[32mare kid-friendly. Among these two, one should be suggested along with Schwarzes Cafe which was already confirmed.'\u001b[0m\n",
       "\u001b[1m}\u001b[0m\n"
      ]
     },
     "metadata": {},
     "output_type": "display_data"
    },
    {
     "data": {
      "text/html": [
       "<pre style=\"white-space:pre;overflow-x:auto;line-height:normal;font-family:Menlo,'DejaVu Sans Mono',consolas,'Courier New',monospace\">\n",
       "Conversation <span style=\"color: #008080; text-decoration-color: #008080; font-weight: bold\">2</span> response:\n",
       " Even though none of the live music restaurants offer parking, <span style=\"color: #008000; text-decoration-color: #008000\">\"Caribbean Corner\"</span> and \"Mad Se<span style=\"color: #808000; text-decoration-color: #808000\">...</span>\n",
       "</pre>\n"
      ],
      "text/plain": [
       "\n",
       "Conversation \u001b[1;36m2\u001b[0m response:\n",
       " Even though none of the live music restaurants offer parking, \u001b[32m\"Caribbean Corner\"\u001b[0m and \"Mad Se\u001b[33m...\u001b[0m\n"
      ]
     },
     "metadata": {},
     "output_type": "display_data"
    },
    {
     "data": {
      "text/html": [
       "<pre style=\"white-space:pre;overflow-x:auto;line-height:normal;font-family:Menlo,'DejaVu Sans Mono',consolas,'Courier New',monospace\"> Even though none of the live music restaurants offer parking, <span style=\"color: #008000; text-decoration-color: #008000\">\"Caribbean Corner\"</span> and <span style=\"color: #008000; text-decoration-color: #008000\">\"Mad Seoul\"</span> are kid-friendly.\n",
       "Among these two, one should be suggested along with Schwarzes Cafe which was already confirmed.\n",
       "</pre>\n"
      ],
      "text/plain": [
       " Even though none of the live music restaurants offer parking, \u001b[32m\"Caribbean Corner\"\u001b[0m and \u001b[32m\"Mad Seoul\"\u001b[0m are kid-friendly.\n",
       "Among these two, one should be suggested along with Schwarzes Cafe which was already confirmed.\n"
      ]
     },
     "metadata": {},
     "output_type": "display_data"
    },
    {
     "data": {
      "text/html": [
       "<pre style=\"white-space:pre;overflow-x:auto;line-height:normal;font-family:Menlo,'DejaVu Sans Mono',consolas,'Courier New',monospace\">Response:  <span style=\"font-weight: bold\">[</span>propose<span style=\"font-weight: bold\">]</span> <span style=\"font-weight: bold\">[</span>Schwarzes Cafe, Caribbean Corner, NULL<span style=\"font-weight: bold\">]</span>\n",
       "</pre>\n"
      ],
      "text/plain": [
       "Response:  \u001b[1m[\u001b[0mpropose\u001b[1m]\u001b[0m \u001b[1m[\u001b[0mSchwarzes Cafe, Caribbean Corner, NULL\u001b[1m]\u001b[0m\n"
      ]
     },
     "metadata": {},
     "output_type": "display_data"
    },
    {
     "data": {
      "text/html": [
       "<pre style=\"white-space:pre;overflow-x:auto;line-height:normal;font-family:Menlo,'DejaVu Sans Mono',consolas,'Courier New',monospace\">stop:  stop\n",
       "</pre>\n"
      ],
      "text/plain": [
       "stop:  stop\n"
      ]
     },
     "metadata": {},
     "output_type": "display_data"
    },
    {
     "data": {
      "text/html": [
       "<pre style=\"white-space:pre;overflow-x:auto;line-height:normal;font-family:Menlo,'DejaVu Sans Mono',consolas,'Courier New',monospace\"><span style=\"color: #800080; text-decoration-color: #800080; font-weight: bold\">CompletionUsage</span><span style=\"font-weight: bold\">(</span>\n",
       "    <span style=\"color: #808000; text-decoration-color: #808000\">completion_tokens</span>=<span style=\"color: #008080; text-decoration-color: #008080; font-weight: bold\">14</span>,\n",
       "    <span style=\"color: #808000; text-decoration-color: #808000\">prompt_tokens</span>=<span style=\"color: #008080; text-decoration-color: #008080; font-weight: bold\">2676</span>,\n",
       "    <span style=\"color: #808000; text-decoration-color: #808000\">total_tokens</span>=<span style=\"color: #008080; text-decoration-color: #008080; font-weight: bold\">2690</span>,\n",
       "    <span style=\"color: #808000; text-decoration-color: #808000\">completion_tokens_details</span>=<span style=\"color: #800080; text-decoration-color: #800080; font-weight: bold\">CompletionTokensDetails</span><span style=\"font-weight: bold\">(</span>\n",
       "        <span style=\"color: #808000; text-decoration-color: #808000\">reasoning_tokens</span>=<span style=\"color: #008080; text-decoration-color: #008080; font-weight: bold\">0</span>,\n",
       "        <span style=\"color: #808000; text-decoration-color: #808000\">audio_tokens</span>=<span style=\"color: #008080; text-decoration-color: #008080; font-weight: bold\">0</span>,\n",
       "        <span style=\"color: #808000; text-decoration-color: #808000\">accepted_prediction_tokens</span>=<span style=\"color: #008080; text-decoration-color: #008080; font-weight: bold\">0</span>,\n",
       "        <span style=\"color: #808000; text-decoration-color: #808000\">rejected_prediction_tokens</span>=<span style=\"color: #008080; text-decoration-color: #008080; font-weight: bold\">0</span>\n",
       "    <span style=\"font-weight: bold\">)</span>,\n",
       "    <span style=\"color: #808000; text-decoration-color: #808000\">prompt_tokens_details</span>=<span style=\"font-weight: bold\">{</span><span style=\"color: #008000; text-decoration-color: #008000\">'cached_tokens'</span>: <span style=\"color: #008080; text-decoration-color: #008080; font-weight: bold\">0</span>, <span style=\"color: #008000; text-decoration-color: #008000\">'audio_tokens'</span>: <span style=\"color: #008080; text-decoration-color: #008080; font-weight: bold\">0</span><span style=\"font-weight: bold\">}</span>\n",
       "<span style=\"font-weight: bold\">)</span>\n",
       "</pre>\n"
      ],
      "text/plain": [
       "\u001b[1;35mCompletionUsage\u001b[0m\u001b[1m(\u001b[0m\n",
       "    \u001b[33mcompletion_tokens\u001b[0m=\u001b[1;36m14\u001b[0m,\n",
       "    \u001b[33mprompt_tokens\u001b[0m=\u001b[1;36m2676\u001b[0m,\n",
       "    \u001b[33mtotal_tokens\u001b[0m=\u001b[1;36m2690\u001b[0m,\n",
       "    \u001b[33mcompletion_tokens_details\u001b[0m=\u001b[1;35mCompletionTokensDetails\u001b[0m\u001b[1m(\u001b[0m\n",
       "        \u001b[33mreasoning_tokens\u001b[0m=\u001b[1;36m0\u001b[0m,\n",
       "        \u001b[33maudio_tokens\u001b[0m=\u001b[1;36m0\u001b[0m,\n",
       "        \u001b[33maccepted_prediction_tokens\u001b[0m=\u001b[1;36m0\u001b[0m,\n",
       "        \u001b[33mrejected_prediction_tokens\u001b[0m=\u001b[1;36m0\u001b[0m\n",
       "    \u001b[1m)\u001b[0m,\n",
       "    \u001b[33mprompt_tokens_details\u001b[0m=\u001b[1m{\u001b[0m\u001b[32m'cached_tokens'\u001b[0m: \u001b[1;36m0\u001b[0m, \u001b[32m'audio_tokens'\u001b[0m: \u001b[1;36m0\u001b[0m\u001b[1m}\u001b[0m\n",
       "\u001b[1m)\u001b[0m\n"
      ]
     },
     "metadata": {},
     "output_type": "display_data"
    },
    {
     "data": {
      "text/html": [
       "<pre style=\"white-space:pre;overflow-x:auto;line-height:normal;font-family:Menlo,'DejaVu Sans Mono',consolas,'Courier New',monospace\">\n",
       "Stepping conversations:\n",
       "<span style=\"font-weight: bold\">{</span><span style=\"color: #008080; text-decoration-color: #008080; font-weight: bold\">0</span>: <span style=\"color: #800080; text-decoration-color: #800080; font-style: italic\">None</span>, <span style=\"color: #008080; text-decoration-color: #008080; font-weight: bold\">1</span>: <span style=\"color: #800080; text-decoration-color: #800080; font-style: italic\">None</span>, <span style=\"color: #008080; text-decoration-color: #008080; font-weight: bold\">2</span>: <span style=\"color: #008000; text-decoration-color: #008000\">'[propose] [Schwarzes Cafe, Caribbean Corner, NULL]'</span><span style=\"font-weight: bold\">}</span>\n",
       "</pre>\n"
      ],
      "text/plain": [
       "\n",
       "Stepping conversations:\n",
       "\u001b[1m{\u001b[0m\u001b[1;36m0\u001b[0m: \u001b[3;35mNone\u001b[0m, \u001b[1;36m1\u001b[0m: \u001b[3;35mNone\u001b[0m, \u001b[1;36m2\u001b[0m: \u001b[32m'\u001b[0m\u001b[32m[\u001b[0m\u001b[32mpropose\u001b[0m\u001b[32m]\u001b[0m\u001b[32m \u001b[0m\u001b[32m[\u001b[0m\u001b[32mSchwarzes Cafe, Caribbean Corner, NULL\u001b[0m\u001b[32m]\u001b[0m\u001b[32m'\u001b[0m\u001b[1m}\u001b[0m\n"
      ]
     },
     "metadata": {},
     "output_type": "display_data"
    },
    {
     "data": {
      "text/html": [
       "<pre style=\"white-space:pre;overflow-x:auto;line-height:normal;font-family:Menlo,'DejaVu Sans Mono',consolas,'Courier New',monospace\">\n",
       "Conversation <span style=\"color: #008080; text-decoration-color: #008080; font-weight: bold\">2</span> response:\n",
       " <span style=\"font-weight: bold\">[</span>Schwarzes Cafe, Caribbean Corner, NULL<span style=\"font-weight: bold\">]</span><span style=\"color: #808000; text-decoration-color: #808000\">...</span>\n",
       "</pre>\n"
      ],
      "text/plain": [
       "\n",
       "Conversation \u001b[1;36m2\u001b[0m response:\n",
       " \u001b[1m[\u001b[0mSchwarzes Cafe, Caribbean Corner, NULL\u001b[1m]\u001b[0m\u001b[33m...\u001b[0m\n"
      ]
     },
     "metadata": {},
     "output_type": "display_data"
    },
    {
     "data": {
      "text/html": [
       "<pre style=\"white-space:pre;overflow-x:auto;line-height:normal;font-family:Menlo,'DejaVu Sans Mono',consolas,'Courier New',monospace\"> <span style=\"font-weight: bold\">[</span>Schwarzes Cafe, Caribbean Corner, NULL<span style=\"font-weight: bold\">]</span>\n",
       "</pre>\n"
      ],
      "text/plain": [
       " \u001b[1m[\u001b[0mSchwarzes Cafe, Caribbean Corner, NULL\u001b[1m]\u001b[0m\n"
      ]
     },
     "metadata": {},
     "output_type": "display_data"
    },
    {
     "data": {
      "text/html": [
       "<pre style=\"white-space:pre;overflow-x:auto;line-height:normal;font-family:Menlo,'DejaVu Sans Mono',consolas,'Courier New',monospace\">Response:  <span style=\"font-weight: bold\">[</span>message<span style=\"font-weight: bold\">]</span> Here are a couple of options based on your preferences: Schwarzes Cafe and Caribbean Corner. \n",
       "Both are kid-friendly. Do you have any specific third spot you are looking forward to visiting, considering we \n",
       "didn't find a suitable non-touristy spot so far?\n",
       "</pre>\n"
      ],
      "text/plain": [
       "Response:  \u001b[1m[\u001b[0mmessage\u001b[1m]\u001b[0m Here are a couple of options based on your preferences: Schwarzes Cafe and Caribbean Corner. \n",
       "Both are kid-friendly. Do you have any specific third spot you are looking forward to visiting, considering we \n",
       "didn't find a suitable non-touristy spot so far?\n"
      ]
     },
     "metadata": {},
     "output_type": "display_data"
    },
    {
     "data": {
      "text/html": [
       "<pre style=\"white-space:pre;overflow-x:auto;line-height:normal;font-family:Menlo,'DejaVu Sans Mono',consolas,'Courier New',monospace\">stop:  stop\n",
       "</pre>\n"
      ],
      "text/plain": [
       "stop:  stop\n"
      ]
     },
     "metadata": {},
     "output_type": "display_data"
    },
    {
     "data": {
      "text/html": [
       "<pre style=\"white-space:pre;overflow-x:auto;line-height:normal;font-family:Menlo,'DejaVu Sans Mono',consolas,'Courier New',monospace\"><span style=\"color: #800080; text-decoration-color: #800080; font-weight: bold\">CompletionUsage</span><span style=\"font-weight: bold\">(</span>\n",
       "    <span style=\"color: #808000; text-decoration-color: #808000\">completion_tokens</span>=<span style=\"color: #008080; text-decoration-color: #008080; font-weight: bold\">55</span>,\n",
       "    <span style=\"color: #808000; text-decoration-color: #808000\">prompt_tokens</span>=<span style=\"color: #008080; text-decoration-color: #008080; font-weight: bold\">2692</span>,\n",
       "    <span style=\"color: #808000; text-decoration-color: #808000\">total_tokens</span>=<span style=\"color: #008080; text-decoration-color: #008080; font-weight: bold\">2747</span>,\n",
       "    <span style=\"color: #808000; text-decoration-color: #808000\">completion_tokens_details</span>=<span style=\"color: #800080; text-decoration-color: #800080; font-weight: bold\">CompletionTokensDetails</span><span style=\"font-weight: bold\">(</span>\n",
       "        <span style=\"color: #808000; text-decoration-color: #808000\">reasoning_tokens</span>=<span style=\"color: #008080; text-decoration-color: #008080; font-weight: bold\">0</span>,\n",
       "        <span style=\"color: #808000; text-decoration-color: #808000\">audio_tokens</span>=<span style=\"color: #008080; text-decoration-color: #008080; font-weight: bold\">0</span>,\n",
       "        <span style=\"color: #808000; text-decoration-color: #808000\">accepted_prediction_tokens</span>=<span style=\"color: #008080; text-decoration-color: #008080; font-weight: bold\">0</span>,\n",
       "        <span style=\"color: #808000; text-decoration-color: #808000\">rejected_prediction_tokens</span>=<span style=\"color: #008080; text-decoration-color: #008080; font-weight: bold\">0</span>\n",
       "    <span style=\"font-weight: bold\">)</span>,\n",
       "    <span style=\"color: #808000; text-decoration-color: #808000\">prompt_tokens_details</span>=<span style=\"font-weight: bold\">{</span><span style=\"color: #008000; text-decoration-color: #008000\">'cached_tokens'</span>: <span style=\"color: #008080; text-decoration-color: #008080; font-weight: bold\">0</span>, <span style=\"color: #008000; text-decoration-color: #008000\">'audio_tokens'</span>: <span style=\"color: #008080; text-decoration-color: #008080; font-weight: bold\">0</span><span style=\"font-weight: bold\">}</span>\n",
       "<span style=\"font-weight: bold\">)</span>\n",
       "</pre>\n"
      ],
      "text/plain": [
       "\u001b[1;35mCompletionUsage\u001b[0m\u001b[1m(\u001b[0m\n",
       "    \u001b[33mcompletion_tokens\u001b[0m=\u001b[1;36m55\u001b[0m,\n",
       "    \u001b[33mprompt_tokens\u001b[0m=\u001b[1;36m2692\u001b[0m,\n",
       "    \u001b[33mtotal_tokens\u001b[0m=\u001b[1;36m2747\u001b[0m,\n",
       "    \u001b[33mcompletion_tokens_details\u001b[0m=\u001b[1;35mCompletionTokensDetails\u001b[0m\u001b[1m(\u001b[0m\n",
       "        \u001b[33mreasoning_tokens\u001b[0m=\u001b[1;36m0\u001b[0m,\n",
       "        \u001b[33maudio_tokens\u001b[0m=\u001b[1;36m0\u001b[0m,\n",
       "        \u001b[33maccepted_prediction_tokens\u001b[0m=\u001b[1;36m0\u001b[0m,\n",
       "        \u001b[33mrejected_prediction_tokens\u001b[0m=\u001b[1;36m0\u001b[0m\n",
       "    \u001b[1m)\u001b[0m,\n",
       "    \u001b[33mprompt_tokens_details\u001b[0m=\u001b[1m{\u001b[0m\u001b[32m'cached_tokens'\u001b[0m: \u001b[1;36m0\u001b[0m, \u001b[32m'audio_tokens'\u001b[0m: \u001b[1;36m0\u001b[0m\u001b[1m}\u001b[0m\n",
       "\u001b[1m)\u001b[0m\n"
      ]
     },
     "metadata": {},
     "output_type": "display_data"
    },
    {
     "data": {
      "text/html": [
       "<pre style=\"white-space:pre;overflow-x:auto;line-height:normal;font-family:Menlo,'DejaVu Sans Mono',consolas,'Courier New',monospace\">\n",
       "Stepping conversations:\n",
       "<span style=\"font-weight: bold\">{</span>\n",
       "    <span style=\"color: #008080; text-decoration-color: #008080; font-weight: bold\">0</span>: <span style=\"color: #800080; text-decoration-color: #800080; font-style: italic\">None</span>,\n",
       "    <span style=\"color: #008080; text-decoration-color: #008080; font-weight: bold\">1</span>: <span style=\"color: #800080; text-decoration-color: #800080; font-style: italic\">None</span>,\n",
       "    <span style=\"color: #008080; text-decoration-color: #008080; font-weight: bold\">2</span>: <span style=\"color: #008000; text-decoration-color: #008000\">\"[message] Here are a couple of options based on your preferences: Schwarzes Cafe and Caribbean Corner. Both</span>\n",
       "<span style=\"color: #008000; text-decoration-color: #008000\">are kid-friendly. Do you have any specific third spot you are looking forward to visiting, considering we didn't </span>\n",
       "<span style=\"color: #008000; text-decoration-color: #008000\">find a suitable non-touristy spot so far?\"</span>\n",
       "<span style=\"font-weight: bold\">}</span>\n",
       "</pre>\n"
      ],
      "text/plain": [
       "\n",
       "Stepping conversations:\n",
       "\u001b[1m{\u001b[0m\n",
       "    \u001b[1;36m0\u001b[0m: \u001b[3;35mNone\u001b[0m,\n",
       "    \u001b[1;36m1\u001b[0m: \u001b[3;35mNone\u001b[0m,\n",
       "    \u001b[1;36m2\u001b[0m: \u001b[32m\"\u001b[0m\u001b[32m[\u001b[0m\u001b[32mmessage\u001b[0m\u001b[32m]\u001b[0m\u001b[32m Here are a couple of options based on your preferences: Schwarzes Cafe and Caribbean Corner. Both\u001b[0m\n",
       "\u001b[32mare kid-friendly. Do you have any specific third spot you are looking forward to visiting, considering we didn't \u001b[0m\n",
       "\u001b[32mfind a suitable non-touristy spot so far?\"\u001b[0m\n",
       "\u001b[1m}\u001b[0m\n"
      ]
     },
     "metadata": {},
     "output_type": "display_data"
    },
    {
     "data": {
      "text/html": [
       "<pre style=\"white-space:pre;overflow-x:auto;line-height:normal;font-family:Menlo,'DejaVu Sans Mono',consolas,'Courier New',monospace\">\n",
       "Conversation <span style=\"color: #008080; text-decoration-color: #008080; font-weight: bold\">2</span> response:\n",
       " Here are a couple of options based on your preferences: Schwarzes Cafe and Caribbean Corne<span style=\"color: #808000; text-decoration-color: #808000\">...</span>\n",
       "</pre>\n"
      ],
      "text/plain": [
       "\n",
       "Conversation \u001b[1;36m2\u001b[0m response:\n",
       " Here are a couple of options based on your preferences: Schwarzes Cafe and Caribbean Corne\u001b[33m...\u001b[0m\n"
      ]
     },
     "metadata": {},
     "output_type": "display_data"
    },
    {
     "data": {
      "text/html": [
       "<pre style=\"white-space:pre;overflow-x:auto;line-height:normal;font-family:Menlo,'DejaVu Sans Mono',consolas,'Courier New',monospace\"> Here are a couple of options based on your preferences: Schwarzes Cafe and Caribbean Corner. Both are \n",
       "kid-friendly. Do you have any specific third spot you are looking forward to visiting, considering we didn't find a\n",
       "suitable non-touristy spot so far?\n",
       "</pre>\n"
      ],
      "text/plain": [
       " Here are a couple of options based on your preferences: Schwarzes Cafe and Caribbean Corner. Both are \n",
       "kid-friendly. Do you have any specific third spot you are looking forward to visiting, considering we didn't find a\n",
       "suitable non-touristy spot so far?\n"
      ]
     },
     "metadata": {},
     "output_type": "display_data"
    },
    {
     "data": {
      "text/html": [
       "<pre style=\"white-space:pre;overflow-x:auto;line-height:normal;font-family:Menlo,'DejaVu Sans Mono',consolas,'Courier New',monospace\">----Conversation <span style=\"color: #008080; text-decoration-color: #008080; font-weight: bold\">2</span> is waiting for user input---\n",
       "</pre>\n"
      ],
      "text/plain": [
       "----Conversation \u001b[1;36m2\u001b[0m is waiting for user input---\n"
      ]
     },
     "metadata": {},
     "output_type": "display_data"
    },
    {
     "data": {
      "text/html": [
       "<pre style=\"white-space:pre;overflow-x:auto;line-height:normal;font-family:Menlo,'DejaVu Sans Mono',consolas,'Courier New',monospace\">\n",
       "Stepping conversations:\n",
       "<span style=\"font-weight: bold\">{</span><span style=\"color: #008080; text-decoration-color: #008080; font-weight: bold\">0</span>: <span style=\"color: #800080; text-decoration-color: #800080; font-style: italic\">None</span>, <span style=\"color: #008080; text-decoration-color: #008080; font-weight: bold\">1</span>: <span style=\"color: #800080; text-decoration-color: #800080; font-style: italic\">None</span>, <span style=\"color: #008080; text-decoration-color: #008080; font-weight: bold\">2</span>: <span style=\"color: #800080; text-decoration-color: #800080; font-style: italic\">None</span><span style=\"font-weight: bold\">}</span>\n",
       "</pre>\n"
      ],
      "text/plain": [
       "\n",
       "Stepping conversations:\n",
       "\u001b[1m{\u001b[0m\u001b[1;36m0\u001b[0m: \u001b[3;35mNone\u001b[0m, \u001b[1;36m1\u001b[0m: \u001b[3;35mNone\u001b[0m, \u001b[1;36m2\u001b[0m: \u001b[3;35mNone\u001b[0m\u001b[1m}\u001b[0m\n"
      ]
     },
     "metadata": {},
     "output_type": "display_data"
    },
    {
     "data": {
      "text/html": [
       "<pre style=\"white-space:pre;overflow-x:auto;line-height:normal;font-family:Menlo,'DejaVu Sans Mono',consolas,'Courier New',monospace\">\n",
       "All conversations are now waiting for user input\n",
       "</pre>\n"
      ],
      "text/plain": [
       "\n",
       "All conversations are now waiting for user input\n"
      ]
     },
     "metadata": {},
     "output_type": "display_data"
    },
    {
     "data": {
      "text/html": [
       "<pre style=\"white-space:pre;overflow-x:auto;line-height:normal;font-family:Menlo,'DejaVu Sans Mono',consolas,'Courier New',monospace\">\n",
       "Conversation <span style=\"color: #008080; text-decoration-color: #008080; font-weight: bold\">0</span> <span style=\"font-weight: bold\">(</span>Turn <span style=\"color: #008080; text-decoration-color: #008080; font-weight: bold\">14</span><span style=\"font-weight: bold\">)</span>:\n",
       "</pre>\n"
      ],
      "text/plain": [
       "\n",
       "Conversation \u001b[1;36m0\u001b[0m \u001b[1m(\u001b[0mTurn \u001b[1;36m14\u001b[0m\u001b[1m)\u001b[0m:\n"
      ]
     },
     "metadata": {},
     "output_type": "display_data"
    },
    {
     "data": {
      "text/html": [
       "<pre style=\"white-space:pre;overflow-x:auto;line-height:normal;font-family:Menlo,'DejaVu Sans Mono',consolas,'Courier New',monospace\">Last observation: \n",
       "Agent:  I suggest we visit Schwarzes Cafe first, as it is kid-friendly, although it does n<span style=\"color: #808000; text-decoration-color: #808000\">...</span>\n",
       "</pre>\n"
      ],
      "text/plain": [
       "Last observation: \n",
       "Agent:  I suggest we visit Schwarzes Cafe first, as it is kid-friendly, although it does n\u001b[33m...\u001b[0m\n"
      ]
     },
     "metadata": {},
     "output_type": "display_data"
    },
    {
     "data": {
      "text/html": [
       "<pre style=\"white-space:pre;overflow-x:auto;line-height:normal;font-family:Menlo,'DejaVu Sans Mono',consolas,'Courier New',monospace\">\n",
       "Conversation <span style=\"color: #008080; text-decoration-color: #008080; font-weight: bold\">1</span> <span style=\"font-weight: bold\">(</span>Turn <span style=\"color: #008080; text-decoration-color: #008080; font-weight: bold\">15</span><span style=\"font-weight: bold\">)</span>:\n",
       "</pre>\n"
      ],
      "text/plain": [
       "\n",
       "Conversation \u001b[1;36m1\u001b[0m \u001b[1m(\u001b[0mTurn \u001b[1;36m15\u001b[0m\u001b[1m)\u001b[0m:\n"
      ]
     },
     "metadata": {},
     "output_type": "display_data"
    },
    {
     "data": {
      "text/html": [
       "<pre style=\"white-space:pre;overflow-x:auto;line-height:normal;font-family:Menlo,'DejaVu Sans Mono',consolas,'Courier New',monospace\">Last observation: \n",
       "Agent:  It seems we have run into a bit of a snag. Unfortunately, I could not find a resta<span style=\"color: #808000; text-decoration-color: #808000\">...</span>\n",
       "</pre>\n"
      ],
      "text/plain": [
       "Last observation: \n",
       "Agent:  It seems we have run into a bit of a snag. Unfortunately, I could not find a resta\u001b[33m...\u001b[0m\n"
      ]
     },
     "metadata": {},
     "output_type": "display_data"
    },
    {
     "data": {
      "text/html": [
       "<pre style=\"white-space:pre;overflow-x:auto;line-height:normal;font-family:Menlo,'DejaVu Sans Mono',consolas,'Courier New',monospace\">\n",
       "Conversation <span style=\"color: #008080; text-decoration-color: #008080; font-weight: bold\">2</span> <span style=\"font-weight: bold\">(</span>Turn <span style=\"color: #008080; text-decoration-color: #008080; font-weight: bold\">19</span><span style=\"font-weight: bold\">)</span>:\n",
       "</pre>\n"
      ],
      "text/plain": [
       "\n",
       "Conversation \u001b[1;36m2\u001b[0m \u001b[1m(\u001b[0mTurn \u001b[1;36m19\u001b[0m\u001b[1m)\u001b[0m:\n"
      ]
     },
     "metadata": {},
     "output_type": "display_data"
    },
    {
     "data": {
      "text/html": [
       "<pre style=\"white-space:pre;overflow-x:auto;line-height:normal;font-family:Menlo,'DejaVu Sans Mono',consolas,'Courier New',monospace\">Last observation: \n",
       "Agent:  Here are a couple of options based on your preferences: Schwarzes Cafe and Caribbe<span style=\"color: #808000; text-decoration-color: #808000\">...</span>\n",
       "</pre>\n"
      ],
      "text/plain": [
       "Last observation: \n",
       "Agent:  Here are a couple of options based on your preferences: Schwarzes Cafe and Caribbe\u001b[33m...\u001b[0m\n"
      ]
     },
     "metadata": {},
     "output_type": "display_data"
    },
    {
     "name": "stdout",
     "output_type": "stream",
     "text": [
      "..searching with query:  {'fields': ['name'], 'filters': [['category', '==', 'landmark']]}\n",
      "..searching with query:  {'fields': ['name'], 'filters': [['category', '==', 'concert']]}\n",
      "..searching with query:  {'fields': ['name'], 'text_query': 'live music'}\n",
      "..searching with query:  {'fields': ['name', 'price'], 'text_query': 'live music', 'filters': [['price', '<=', '40']]}\n",
      "..searching with query:  {'fields': ['name', 'price'], 'filters': [['category', '==', 'restaurant'], ['price', '<=', '10']], 'sort_by': [['distance_to', 'The Mall']]}\n",
      "..searching with query:  {'fields': ['name', 'price', 'distance'], 'filters': [['category', '==', 'restaurant']], 'sort_by': [['distance_to', 'The Mall'], 'price']}\n",
      "..searching with query:  {'fields': ['name'], 'text_query': 'good for kids', 'filters': [['category', '==', 'park']], 'sort_by': [['distance_to', \"Saul's\"]]}\n",
      "..searching with query:  {'fields': ['name'], 'filters': [['vegan', '==', 'true']]}\n",
      "..searching with query:  {'fields': ['name'], 'filters': [['category', '==', 'landmark']]}\n",
      "..searching with query:  {'fields': ['name'], 'filters': [['category', '==', 'concert']]}\n",
      "..searching with query:  {'fields': ['name'], 'text_query': 'live music'}\n",
      "..searching with query:  {'fields': ['name', 'price'], 'text_query': 'live music', 'filters': [['price', '<=', '40']]}\n",
      "..searching with query:  {'fields': ['name', 'price'], 'filters': [['category', '==', 'restaurant'], ['price', '<=', '10']], 'sort_by': [['distance_to', 'The Mall']]}\n",
      "..searching with query:  {'fields': ['name', 'price', 'distance'], 'filters': [['category', '==', 'restaurant']], 'sort_by': [['distance_to', 'The Mall'], 'price']}\n",
      "..searching with query:  {'fields': ['name'], 'text_query': 'good for kids', 'filters': [['category', '==', 'park']], 'sort_by': [['distance_to', \"Saul's\"]]}\n",
      "..searching with query:  {'fields': ['name'], 'filters': [['vegan', '==', 'true']]}\n",
      "..searching with query:  {'fields': ['name'], 'filters': [['category', '==', 'landmark']]}\n",
      "..searching with query:  {'fields': ['name'], 'filters': [['category', '==', 'concert']]}\n",
      "..searching with query:  {'fields': ['name'], 'text_query': 'live music'}\n",
      "..searching with query:  {'fields': ['name', 'price'], 'text_query': 'live music', 'filters': [['price', '<=', '40']]}\n",
      "..searching with query:  {'fields': ['name', 'price'], 'filters': [['category', '==', 'restaurant'], ['price', '<=', '10']], 'sort_by': [['distance_to', 'The Mall']]}\n",
      "..searching with query:  {'fields': ['name', 'price', 'distance'], 'filters': [['category', '==', 'restaurant']], 'sort_by': [['distance_to', 'The Mall'], 'price']}\n",
      "..searching with query:  {'fields': ['name'], 'text_query': 'good for kids', 'filters': [['category', '==', 'park']], 'sort_by': [['distance_to', \"Saul's\"]]}\n",
      "..searching with query:  {'fields': ['name'], 'filters': [['vegan', '==', 'true']]}\n",
      "..searching with query:  {'fields': ['name'], 'filters': [['category', '==', 'landmark']]}\n",
      "..searching with query:  {'fields': ['name'], 'filters': [['category', '==', 'concert']]}\n",
      "..searching with query:  {'fields': ['name'], 'text_query': 'live music'}\n",
      "..searching with query:  {'fields': ['name', 'price'], 'text_query': 'live music', 'filters': [['price', '<=', '40']]}\n",
      "..searching with query:  {'fields': ['name', 'price'], 'filters': [['category', '==', 'restaurant'], ['price', '<=', '10']], 'sort_by': [['distance_to', 'The Mall']]}\n",
      "..searching with query:  {'fields': ['name', 'price', 'distance'], 'filters': [['category', '==', 'restaurant']], 'sort_by': [['distance_to', 'The Mall'], 'price']}\n",
      "..searching with query:  {'fields': ['name'], 'text_query': 'good for kids', 'filters': [['category', '==', 'park']], 'sort_by': [['distance_to', \"Saul's\"]]}\n",
      "..searching with query:  {'fields': ['name'], 'filters': [['vegan', '==', 'true']]}\n",
      "..searching with query:  {'fields': ['name'], 'filters': [['category', '==', 'landmark']]}\n",
      "..searching with query:  {'fields': ['name'], 'filters': [['category', '==', 'concert']]}\n",
      "..searching with query:  {'fields': ['name'], 'text_query': 'live music'}\n",
      "..searching with query:  {'fields': ['name', 'price'], 'text_query': 'live music', 'filters': [['price', '<=', '40']]}\n",
      "..searching with query:  {'fields': ['name', 'price'], 'filters': [['category', '==', 'restaurant'], ['price', '<=', '10']], 'sort_by': [['distance_to', 'The Mall']]}\n",
      "..searching with query:  {'fields': ['name', 'price', 'distance'], 'filters': [['category', '==', 'restaurant']], 'sort_by': [['distance_to', 'The Mall'], 'price']}\n",
      "..searching with query:  {'fields': ['name'], 'text_query': 'good for kids', 'filters': [['category', '==', 'park']], 'sort_by': [['distance_to', \"Saul's\"]]}\n",
      "..searching with query:  {'fields': ['name'], 'filters': [['vegan', '==', 'true']]}\n",
      "..searching with query:  {'fields': ['name'], 'filters': [['category', '==', 'landmark']]}\n",
      "..searching with query:  {'fields': ['name'], 'filters': [['category', '==', 'concert']]}\n",
      "..searching with query:  {'fields': ['name'], 'text_query': 'live music'}\n",
      "..searching with query:  {'fields': ['name', 'price'], 'text_query': 'live music', 'filters': [['price', '<=', '40']]}\n",
      "..searching with query:  {'fields': ['name', 'price'], 'filters': [['category', '==', 'restaurant'], ['price', '<=', '10']], 'sort_by': [['distance_to', 'The Mall']]}\n",
      "..searching with query:  {'fields': ['name', 'price', 'distance'], 'filters': [['category', '==', 'restaurant']], 'sort_by': [['distance_to', 'The Mall'], 'price']}\n",
      "..searching with query:  {'fields': ['name'], 'text_query': 'good for kids', 'filters': [['category', '==', 'park']], 'sort_by': [['distance_to', \"Saul's\"]]}\n",
      "..searching with query:  {'fields': ['name'], 'filters': [['vegan', '==', 'true']]}\n",
      "..searching with query:  {'fields': ['name'], 'filters': [['category', '==', 'landmark']]}\n",
      "..searching with query:  {'fields': ['name'], 'filters': [['category', '==', 'concert']]}\n",
      "..searching with query:  {'fields': ['name'], 'text_query': 'live music'}\n",
      "..searching with query:  {'fields': ['name', 'price'], 'text_query': 'live music', 'filters': [['price', '<=', '40']]}\n",
      "..searching with query:  {'fields': ['name', 'price'], 'filters': [['category', '==', 'restaurant'], ['price', '<=', '10']], 'sort_by': [['distance_to', 'The Mall']]}\n",
      "..searching with query:  {'fields': ['name', 'price', 'distance'], 'filters': [['category', '==', 'restaurant']], 'sort_by': [['distance_to', 'The Mall'], 'price']}\n",
      "..searching with query:  {'fields': ['name'], 'text_query': 'good for kids', 'filters': [['category', '==', 'park']], 'sort_by': [['distance_to', \"Saul's\"]]}\n",
      "..searching with query:  {'fields': ['name'], 'filters': [['vegan', '==', 'true']]}\n",
      "..searching with query:  {'fields': ['name'], 'filters': [['category', '==', 'landmark']]}\n",
      "..searching with query:  {'fields': ['name'], 'filters': [['category', '==', 'concert']]}\n",
      "..searching with query:  {'fields': ['name'], 'text_query': 'live music'}\n",
      "..searching with query:  {'fields': ['name', 'price'], 'text_query': 'live music', 'filters': [['price', '<=', '40']]}\n",
      "..searching with query:  {'fields': ['name', 'price'], 'filters': [['category', '==', 'restaurant'], ['price', '<=', '10']], 'sort_by': [['distance_to', 'The Mall']]}\n",
      "..searching with query:  {'fields': ['name', 'price', 'distance'], 'filters': [['category', '==', 'restaurant']], 'sort_by': [['distance_to', 'The Mall'], 'price']}\n",
      "..searching with query:  {'fields': ['name'], 'text_query': 'good for kids', 'filters': [['category', '==', 'park']], 'sort_by': [['distance_to', \"Saul's\"]]}\n",
      "..searching with query:  {'fields': ['name'], 'filters': [['vegan', '==', 'true']]}\n",
      "..searching with query:  {'fields': ['name'], 'filters': [['category', '==', 'landmark']]}\n",
      "..searching with query:  {'fields': ['name'], 'filters': [['category', '==', 'concert']]}\n",
      "..searching with query:  {'fields': ['name'], 'text_query': 'live music'}\n",
      "..searching with query:  {'fields': ['name', 'price'], 'text_query': 'live music', 'filters': [['price', '<=', '40']]}\n",
      "..searching with query:  {'fields': ['name', 'price'], 'filters': [['category', '==', 'restaurant'], ['price', '<=', '10']], 'sort_by': [['distance_to', 'The Mall']]}\n",
      "..searching with query:  {'fields': ['name', 'price', 'distance'], 'filters': [['category', '==', 'restaurant']], 'sort_by': [['distance_to', 'The Mall'], 'price']}\n",
      "..searching with query:  {'fields': ['name'], 'text_query': 'good for kids', 'filters': [['category', '==', 'park']], 'sort_by': [['distance_to', \"Saul's\"]]}\n",
      "..searching with query:  {'fields': ['name'], 'filters': [['vegan', '==', 'true']]}\n",
      "..searching with query:  {'fields': ['name'], 'filters': [['category', '==', 'landmark']]}\n",
      "..searching with query:  {'fields': ['name'], 'filters': [['category', '==', 'concert']]}\n",
      "..searching with query:  {'fields': ['name'], 'text_query': 'live music'}\n",
      "..searching with query:  {'fields': ['name', 'price'], 'text_query': 'live music', 'filters': [['price', '<=', '40']]}\n",
      "..searching with query:  {'fields': ['name', 'price'], 'filters': [['category', '==', 'restaurant'], ['price', '<=', '10']], 'sort_by': [['distance_to', 'The Mall']]}\n",
      "..searching with query:  {'fields': ['name', 'price', 'distance'], 'filters': [['category', '==', 'restaurant']], 'sort_by': [['distance_to', 'The Mall'], 'price']}\n",
      "..searching with query:  {'fields': ['name'], 'text_query': 'good for kids', 'filters': [['category', '==', 'park']], 'sort_by': [['distance_to', \"Saul's\"]]}\n",
      "..searching with query:  {'fields': ['name'], 'filters': [['vegan', '==', 'true']]}\n"
     ]
    },
    {
     "data": {
      "text/html": [
       "<pre style=\"white-space:pre;overflow-x:auto;line-height:normal;font-family:Menlo,'DejaVu Sans Mono',consolas,'Courier New',monospace\">Response:  <span style=\"font-weight: bold\">[</span>think<span style=\"font-weight: bold\">]</span> The itinerary suggested by the agent still leaves room for improvement, primarily when \n",
       "considering the travel distances. However, given that we could still benefit from some of the locations proposed \n",
       "such as the live music at Cookies Cream, the distance issue could be a minor drawback.\n",
       "</pre>\n"
      ],
      "text/plain": [
       "Response:  \u001b[1m[\u001b[0mthink\u001b[1m]\u001b[0m The itinerary suggested by the agent still leaves room for improvement, primarily when \n",
       "considering the travel distances. However, given that we could still benefit from some of the locations proposed \n",
       "such as the live music at Cookies Cream, the distance issue could be a minor drawback.\n"
      ]
     },
     "metadata": {},
     "output_type": "display_data"
    },
    {
     "data": {
      "text/html": [
       "<pre style=\"white-space:pre;overflow-x:auto;line-height:normal;font-family:Menlo,'DejaVu Sans Mono',consolas,'Courier New',monospace\">stop:  stop\n",
       "</pre>\n"
      ],
      "text/plain": [
       "stop:  stop\n"
      ]
     },
     "metadata": {},
     "output_type": "display_data"
    },
    {
     "data": {
      "text/html": [
       "<pre style=\"white-space:pre;overflow-x:auto;line-height:normal;font-family:Menlo,'DejaVu Sans Mono',consolas,'Courier New',monospace\"><span style=\"color: #800080; text-decoration-color: #800080; font-weight: bold\">CompletionUsage</span><span style=\"font-weight: bold\">(</span>\n",
       "    <span style=\"color: #808000; text-decoration-color: #808000\">completion_tokens</span>=<span style=\"color: #008080; text-decoration-color: #008080; font-weight: bold\">54</span>,\n",
       "    <span style=\"color: #808000; text-decoration-color: #808000\">prompt_tokens</span>=<span style=\"color: #008080; text-decoration-color: #008080; font-weight: bold\">2761</span>,\n",
       "    <span style=\"color: #808000; text-decoration-color: #808000\">total_tokens</span>=<span style=\"color: #008080; text-decoration-color: #008080; font-weight: bold\">2815</span>,\n",
       "    <span style=\"color: #808000; text-decoration-color: #808000\">completion_tokens_details</span>=<span style=\"color: #800080; text-decoration-color: #800080; font-weight: bold\">CompletionTokensDetails</span><span style=\"font-weight: bold\">(</span>\n",
       "        <span style=\"color: #808000; text-decoration-color: #808000\">reasoning_tokens</span>=<span style=\"color: #008080; text-decoration-color: #008080; font-weight: bold\">0</span>,\n",
       "        <span style=\"color: #808000; text-decoration-color: #808000\">audio_tokens</span>=<span style=\"color: #008080; text-decoration-color: #008080; font-weight: bold\">0</span>,\n",
       "        <span style=\"color: #808000; text-decoration-color: #808000\">accepted_prediction_tokens</span>=<span style=\"color: #008080; text-decoration-color: #008080; font-weight: bold\">0</span>,\n",
       "        <span style=\"color: #808000; text-decoration-color: #808000\">rejected_prediction_tokens</span>=<span style=\"color: #008080; text-decoration-color: #008080; font-weight: bold\">0</span>\n",
       "    <span style=\"font-weight: bold\">)</span>,\n",
       "    <span style=\"color: #808000; text-decoration-color: #808000\">prompt_tokens_details</span>=<span style=\"font-weight: bold\">{</span><span style=\"color: #008000; text-decoration-color: #008000\">'cached_tokens'</span>: <span style=\"color: #008080; text-decoration-color: #008080; font-weight: bold\">0</span>, <span style=\"color: #008000; text-decoration-color: #008000\">'audio_tokens'</span>: <span style=\"color: #008080; text-decoration-color: #008080; font-weight: bold\">0</span><span style=\"font-weight: bold\">}</span>\n",
       "<span style=\"font-weight: bold\">)</span>\n",
       "</pre>\n"
      ],
      "text/plain": [
       "\u001b[1;35mCompletionUsage\u001b[0m\u001b[1m(\u001b[0m\n",
       "    \u001b[33mcompletion_tokens\u001b[0m=\u001b[1;36m54\u001b[0m,\n",
       "    \u001b[33mprompt_tokens\u001b[0m=\u001b[1;36m2761\u001b[0m,\n",
       "    \u001b[33mtotal_tokens\u001b[0m=\u001b[1;36m2815\u001b[0m,\n",
       "    \u001b[33mcompletion_tokens_details\u001b[0m=\u001b[1;35mCompletionTokensDetails\u001b[0m\u001b[1m(\u001b[0m\n",
       "        \u001b[33mreasoning_tokens\u001b[0m=\u001b[1;36m0\u001b[0m,\n",
       "        \u001b[33maudio_tokens\u001b[0m=\u001b[1;36m0\u001b[0m,\n",
       "        \u001b[33maccepted_prediction_tokens\u001b[0m=\u001b[1;36m0\u001b[0m,\n",
       "        \u001b[33mrejected_prediction_tokens\u001b[0m=\u001b[1;36m0\u001b[0m\n",
       "    \u001b[1m)\u001b[0m,\n",
       "    \u001b[33mprompt_tokens_details\u001b[0m=\u001b[1m{\u001b[0m\u001b[32m'cached_tokens'\u001b[0m: \u001b[1;36m0\u001b[0m, \u001b[32m'audio_tokens'\u001b[0m: \u001b[1;36m0\u001b[0m\u001b[1m}\u001b[0m\n",
       "\u001b[1m)\u001b[0m\n"
      ]
     },
     "metadata": {},
     "output_type": "display_data"
    },
    {
     "data": {
      "text/html": [
       "<pre style=\"white-space:pre;overflow-x:auto;line-height:normal;font-family:Menlo,'DejaVu Sans Mono',consolas,'Courier New',monospace\"><span style=\"color: #008080; text-decoration-color: #008080; font-weight: bold\">0</span>\n",
       "</pre>\n"
      ],
      "text/plain": [
       "\u001b[1;36m0\u001b[0m\n"
      ]
     },
     "metadata": {},
     "output_type": "display_data"
    },
    {
     "data": {
      "text/html": [
       "<pre style=\"white-space:pre;overflow-x:auto;line-height:normal;font-family:Menlo,'DejaVu Sans Mono',consolas,'Courier New',monospace\">Response:  <span style=\"font-weight: bold\">[</span>think<span style=\"font-weight: bold\">]</span> The score is really low for this plan because of travel distance and no kid-friendly place. So, \n",
       "I should reject the current proposal and suggest a new plan to visit Harper and Rye which has better scores and \n",
       "ratings, considering it's high importance on my preferences.\n",
       "</pre>\n"
      ],
      "text/plain": [
       "Response:  \u001b[1m[\u001b[0mthink\u001b[1m]\u001b[0m The score is really low for this plan because of travel distance and no kid-friendly place. So, \n",
       "I should reject the current proposal and suggest a new plan to visit Harper and Rye which has better scores and \n",
       "ratings, considering it's high importance on my preferences.\n"
      ]
     },
     "metadata": {},
     "output_type": "display_data"
    },
    {
     "data": {
      "text/html": [
       "<pre style=\"white-space:pre;overflow-x:auto;line-height:normal;font-family:Menlo,'DejaVu Sans Mono',consolas,'Courier New',monospace\">stop:  stop\n",
       "</pre>\n"
      ],
      "text/plain": [
       "stop:  stop\n"
      ]
     },
     "metadata": {},
     "output_type": "display_data"
    },
    {
     "data": {
      "text/html": [
       "<pre style=\"white-space:pre;overflow-x:auto;line-height:normal;font-family:Menlo,'DejaVu Sans Mono',consolas,'Courier New',monospace\"><span style=\"color: #800080; text-decoration-color: #800080; font-weight: bold\">CompletionUsage</span><span style=\"font-weight: bold\">(</span>\n",
       "    <span style=\"color: #808000; text-decoration-color: #808000\">completion_tokens</span>=<span style=\"color: #008080; text-decoration-color: #008080; font-weight: bold\">56</span>,\n",
       "    <span style=\"color: #808000; text-decoration-color: #808000\">prompt_tokens</span>=<span style=\"color: #008080; text-decoration-color: #008080; font-weight: bold\">2763</span>,\n",
       "    <span style=\"color: #808000; text-decoration-color: #808000\">total_tokens</span>=<span style=\"color: #008080; text-decoration-color: #008080; font-weight: bold\">2819</span>,\n",
       "    <span style=\"color: #808000; text-decoration-color: #808000\">completion_tokens_details</span>=<span style=\"color: #800080; text-decoration-color: #800080; font-weight: bold\">CompletionTokensDetails</span><span style=\"font-weight: bold\">(</span>\n",
       "        <span style=\"color: #808000; text-decoration-color: #808000\">reasoning_tokens</span>=<span style=\"color: #008080; text-decoration-color: #008080; font-weight: bold\">0</span>,\n",
       "        <span style=\"color: #808000; text-decoration-color: #808000\">audio_tokens</span>=<span style=\"color: #008080; text-decoration-color: #008080; font-weight: bold\">0</span>,\n",
       "        <span style=\"color: #808000; text-decoration-color: #808000\">accepted_prediction_tokens</span>=<span style=\"color: #008080; text-decoration-color: #008080; font-weight: bold\">0</span>,\n",
       "        <span style=\"color: #808000; text-decoration-color: #808000\">rejected_prediction_tokens</span>=<span style=\"color: #008080; text-decoration-color: #008080; font-weight: bold\">0</span>\n",
       "    <span style=\"font-weight: bold\">)</span>,\n",
       "    <span style=\"color: #808000; text-decoration-color: #808000\">prompt_tokens_details</span>=<span style=\"font-weight: bold\">{</span><span style=\"color: #008000; text-decoration-color: #008000\">'cached_tokens'</span>: <span style=\"color: #008080; text-decoration-color: #008080; font-weight: bold\">0</span>, <span style=\"color: #008000; text-decoration-color: #008000\">'audio_tokens'</span>: <span style=\"color: #008080; text-decoration-color: #008080; font-weight: bold\">0</span><span style=\"font-weight: bold\">}</span>\n",
       "<span style=\"font-weight: bold\">)</span>\n",
       "</pre>\n"
      ],
      "text/plain": [
       "\u001b[1;35mCompletionUsage\u001b[0m\u001b[1m(\u001b[0m\n",
       "    \u001b[33mcompletion_tokens\u001b[0m=\u001b[1;36m56\u001b[0m,\n",
       "    \u001b[33mprompt_tokens\u001b[0m=\u001b[1;36m2763\u001b[0m,\n",
       "    \u001b[33mtotal_tokens\u001b[0m=\u001b[1;36m2819\u001b[0m,\n",
       "    \u001b[33mcompletion_tokens_details\u001b[0m=\u001b[1;35mCompletionTokensDetails\u001b[0m\u001b[1m(\u001b[0m\n",
       "        \u001b[33mreasoning_tokens\u001b[0m=\u001b[1;36m0\u001b[0m,\n",
       "        \u001b[33maudio_tokens\u001b[0m=\u001b[1;36m0\u001b[0m,\n",
       "        \u001b[33maccepted_prediction_tokens\u001b[0m=\u001b[1;36m0\u001b[0m,\n",
       "        \u001b[33mrejected_prediction_tokens\u001b[0m=\u001b[1;36m0\u001b[0m\n",
       "    \u001b[1m)\u001b[0m,\n",
       "    \u001b[33mprompt_tokens_details\u001b[0m=\u001b[1m{\u001b[0m\u001b[32m'cached_tokens'\u001b[0m: \u001b[1;36m0\u001b[0m, \u001b[32m'audio_tokens'\u001b[0m: \u001b[1;36m0\u001b[0m\u001b[1m}\u001b[0m\n",
       "\u001b[1m)\u001b[0m\n"
      ]
     },
     "metadata": {},
     "output_type": "display_data"
    },
    {
     "data": {
      "text/html": [
       "<pre style=\"white-space:pre;overflow-x:auto;line-height:normal;font-family:Menlo,'DejaVu Sans Mono',consolas,'Courier New',monospace\"><span style=\"color: #008080; text-decoration-color: #008080; font-weight: bold\">0</span>\n",
       "</pre>\n"
      ],
      "text/plain": [
       "\u001b[1;36m0\u001b[0m\n"
      ]
     },
     "metadata": {},
     "output_type": "display_data"
    },
    {
     "data": {
      "text/html": [
       "<pre style=\"white-space:pre;overflow-x:auto;line-height:normal;font-family:Menlo,'DejaVu Sans Mono',consolas,'Courier New',monospace\">Response:  <span style=\"font-weight: bold\">[</span>think<span style=\"font-weight: bold\">]</span> It seems I am losing the most points because of the distance between Schwarzes Cafe, Cookies \n",
       "Cream, and Caribbean Corner. However, we have live music, the budget is ok, and I've hit all other requirements. It\n",
       "would have been better if all places were more kid-friendly though.\n",
       "</pre>\n"
      ],
      "text/plain": [
       "Response:  \u001b[1m[\u001b[0mthink\u001b[1m]\u001b[0m It seems I am losing the most points because of the distance between Schwarzes Cafe, Cookies \n",
       "Cream, and Caribbean Corner. However, we have live music, the budget is ok, and I've hit all other requirements. It\n",
       "would have been better if all places were more kid-friendly though.\n"
      ]
     },
     "metadata": {},
     "output_type": "display_data"
    },
    {
     "data": {
      "text/html": [
       "<pre style=\"white-space:pre;overflow-x:auto;line-height:normal;font-family:Menlo,'DejaVu Sans Mono',consolas,'Courier New',monospace\">stop:  stop\n",
       "</pre>\n"
      ],
      "text/plain": [
       "stop:  stop\n"
      ]
     },
     "metadata": {},
     "output_type": "display_data"
    },
    {
     "data": {
      "text/html": [
       "<pre style=\"white-space:pre;overflow-x:auto;line-height:normal;font-family:Menlo,'DejaVu Sans Mono',consolas,'Courier New',monospace\"><span style=\"color: #800080; text-decoration-color: #800080; font-weight: bold\">CompletionUsage</span><span style=\"font-weight: bold\">(</span>\n",
       "    <span style=\"color: #808000; text-decoration-color: #808000\">completion_tokens</span>=<span style=\"color: #008080; text-decoration-color: #008080; font-weight: bold\">61</span>,\n",
       "    <span style=\"color: #808000; text-decoration-color: #808000\">prompt_tokens</span>=<span style=\"color: #008080; text-decoration-color: #008080; font-weight: bold\">2754</span>,\n",
       "    <span style=\"color: #808000; text-decoration-color: #808000\">total_tokens</span>=<span style=\"color: #008080; text-decoration-color: #008080; font-weight: bold\">2815</span>,\n",
       "    <span style=\"color: #808000; text-decoration-color: #808000\">completion_tokens_details</span>=<span style=\"color: #800080; text-decoration-color: #800080; font-weight: bold\">CompletionTokensDetails</span><span style=\"font-weight: bold\">(</span>\n",
       "        <span style=\"color: #808000; text-decoration-color: #808000\">reasoning_tokens</span>=<span style=\"color: #008080; text-decoration-color: #008080; font-weight: bold\">0</span>,\n",
       "        <span style=\"color: #808000; text-decoration-color: #808000\">audio_tokens</span>=<span style=\"color: #008080; text-decoration-color: #008080; font-weight: bold\">0</span>,\n",
       "        <span style=\"color: #808000; text-decoration-color: #808000\">accepted_prediction_tokens</span>=<span style=\"color: #008080; text-decoration-color: #008080; font-weight: bold\">0</span>,\n",
       "        <span style=\"color: #808000; text-decoration-color: #808000\">rejected_prediction_tokens</span>=<span style=\"color: #008080; text-decoration-color: #008080; font-weight: bold\">0</span>\n",
       "    <span style=\"font-weight: bold\">)</span>,\n",
       "    <span style=\"color: #808000; text-decoration-color: #808000\">prompt_tokens_details</span>=<span style=\"font-weight: bold\">{</span><span style=\"color: #008000; text-decoration-color: #008000\">'cached_tokens'</span>: <span style=\"color: #008080; text-decoration-color: #008080; font-weight: bold\">0</span>, <span style=\"color: #008000; text-decoration-color: #008000\">'audio_tokens'</span>: <span style=\"color: #008080; text-decoration-color: #008080; font-weight: bold\">0</span><span style=\"font-weight: bold\">}</span>\n",
       "<span style=\"font-weight: bold\">)</span>\n",
       "</pre>\n"
      ],
      "text/plain": [
       "\u001b[1;35mCompletionUsage\u001b[0m\u001b[1m(\u001b[0m\n",
       "    \u001b[33mcompletion_tokens\u001b[0m=\u001b[1;36m61\u001b[0m,\n",
       "    \u001b[33mprompt_tokens\u001b[0m=\u001b[1;36m2754\u001b[0m,\n",
       "    \u001b[33mtotal_tokens\u001b[0m=\u001b[1;36m2815\u001b[0m,\n",
       "    \u001b[33mcompletion_tokens_details\u001b[0m=\u001b[1;35mCompletionTokensDetails\u001b[0m\u001b[1m(\u001b[0m\n",
       "        \u001b[33mreasoning_tokens\u001b[0m=\u001b[1;36m0\u001b[0m,\n",
       "        \u001b[33maudio_tokens\u001b[0m=\u001b[1;36m0\u001b[0m,\n",
       "        \u001b[33maccepted_prediction_tokens\u001b[0m=\u001b[1;36m0\u001b[0m,\n",
       "        \u001b[33mrejected_prediction_tokens\u001b[0m=\u001b[1;36m0\u001b[0m\n",
       "    \u001b[1m)\u001b[0m,\n",
       "    \u001b[33mprompt_tokens_details\u001b[0m=\u001b[1m{\u001b[0m\u001b[32m'cached_tokens'\u001b[0m: \u001b[1;36m0\u001b[0m, \u001b[32m'audio_tokens'\u001b[0m: \u001b[1;36m0\u001b[0m\u001b[1m}\u001b[0m\n",
       "\u001b[1m)\u001b[0m\n"
      ]
     },
     "metadata": {},
     "output_type": "display_data"
    },
    {
     "data": {
      "text/html": [
       "<pre style=\"white-space:pre;overflow-x:auto;line-height:normal;font-family:Menlo,'DejaVu Sans Mono',consolas,'Courier New',monospace\"><span style=\"color: #008080; text-decoration-color: #008080; font-weight: bold\">0</span>\n",
       "</pre>\n"
      ],
      "text/plain": [
       "\u001b[1;36m0\u001b[0m\n"
      ]
     },
     "metadata": {},
     "output_type": "display_data"
    },
    {
     "data": {
      "text/html": [
       "<pre style=\"white-space:pre;overflow-x:auto;line-height:normal;font-family:Menlo,'DejaVu Sans Mono',consolas,'Courier New',monospace\">Response:  <span style=\"font-weight: bold\">[</span>think<span style=\"font-weight: bold\">]</span> Even though all of the places the agent has recommended are excellent, they're just too far \n",
       "apart from each other and the long travel distances will severely impact my final score. So, unfortunately I can't \n",
       "accept the proposal.\n",
       "</pre>\n"
      ],
      "text/plain": [
       "Response:  \u001b[1m[\u001b[0mthink\u001b[1m]\u001b[0m Even though all of the places the agent has recommended are excellent, they're just too far \n",
       "apart from each other and the long travel distances will severely impact my final score. So, unfortunately I can't \n",
       "accept the proposal.\n"
      ]
     },
     "metadata": {},
     "output_type": "display_data"
    },
    {
     "data": {
      "text/html": [
       "<pre style=\"white-space:pre;overflow-x:auto;line-height:normal;font-family:Menlo,'DejaVu Sans Mono',consolas,'Courier New',monospace\">stop:  stop\n",
       "</pre>\n"
      ],
      "text/plain": [
       "stop:  stop\n"
      ]
     },
     "metadata": {},
     "output_type": "display_data"
    },
    {
     "data": {
      "text/html": [
       "<pre style=\"white-space:pre;overflow-x:auto;line-height:normal;font-family:Menlo,'DejaVu Sans Mono',consolas,'Courier New',monospace\"><span style=\"color: #800080; text-decoration-color: #800080; font-weight: bold\">CompletionUsage</span><span style=\"font-weight: bold\">(</span>\n",
       "    <span style=\"color: #808000; text-decoration-color: #808000\">completion_tokens</span>=<span style=\"color: #008080; text-decoration-color: #008080; font-weight: bold\">47</span>,\n",
       "    <span style=\"color: #808000; text-decoration-color: #808000\">prompt_tokens</span>=<span style=\"color: #008080; text-decoration-color: #008080; font-weight: bold\">2743</span>,\n",
       "    <span style=\"color: #808000; text-decoration-color: #808000\">total_tokens</span>=<span style=\"color: #008080; text-decoration-color: #008080; font-weight: bold\">2790</span>,\n",
       "    <span style=\"color: #808000; text-decoration-color: #808000\">completion_tokens_details</span>=<span style=\"color: #800080; text-decoration-color: #800080; font-weight: bold\">CompletionTokensDetails</span><span style=\"font-weight: bold\">(</span>\n",
       "        <span style=\"color: #808000; text-decoration-color: #808000\">reasoning_tokens</span>=<span style=\"color: #008080; text-decoration-color: #008080; font-weight: bold\">0</span>,\n",
       "        <span style=\"color: #808000; text-decoration-color: #808000\">audio_tokens</span>=<span style=\"color: #008080; text-decoration-color: #008080; font-weight: bold\">0</span>,\n",
       "        <span style=\"color: #808000; text-decoration-color: #808000\">accepted_prediction_tokens</span>=<span style=\"color: #008080; text-decoration-color: #008080; font-weight: bold\">0</span>,\n",
       "        <span style=\"color: #808000; text-decoration-color: #808000\">rejected_prediction_tokens</span>=<span style=\"color: #008080; text-decoration-color: #008080; font-weight: bold\">0</span>\n",
       "    <span style=\"font-weight: bold\">)</span>,\n",
       "    <span style=\"color: #808000; text-decoration-color: #808000\">prompt_tokens_details</span>=<span style=\"font-weight: bold\">{</span><span style=\"color: #008000; text-decoration-color: #008000\">'cached_tokens'</span>: <span style=\"color: #008080; text-decoration-color: #008080; font-weight: bold\">0</span>, <span style=\"color: #008000; text-decoration-color: #008000\">'audio_tokens'</span>: <span style=\"color: #008080; text-decoration-color: #008080; font-weight: bold\">0</span><span style=\"font-weight: bold\">}</span>\n",
       "<span style=\"font-weight: bold\">)</span>\n",
       "</pre>\n"
      ],
      "text/plain": [
       "\u001b[1;35mCompletionUsage\u001b[0m\u001b[1m(\u001b[0m\n",
       "    \u001b[33mcompletion_tokens\u001b[0m=\u001b[1;36m47\u001b[0m,\n",
       "    \u001b[33mprompt_tokens\u001b[0m=\u001b[1;36m2743\u001b[0m,\n",
       "    \u001b[33mtotal_tokens\u001b[0m=\u001b[1;36m2790\u001b[0m,\n",
       "    \u001b[33mcompletion_tokens_details\u001b[0m=\u001b[1;35mCompletionTokensDetails\u001b[0m\u001b[1m(\u001b[0m\n",
       "        \u001b[33mreasoning_tokens\u001b[0m=\u001b[1;36m0\u001b[0m,\n",
       "        \u001b[33maudio_tokens\u001b[0m=\u001b[1;36m0\u001b[0m,\n",
       "        \u001b[33maccepted_prediction_tokens\u001b[0m=\u001b[1;36m0\u001b[0m,\n",
       "        \u001b[33mrejected_prediction_tokens\u001b[0m=\u001b[1;36m0\u001b[0m\n",
       "    \u001b[1m)\u001b[0m,\n",
       "    \u001b[33mprompt_tokens_details\u001b[0m=\u001b[1m{\u001b[0m\u001b[32m'cached_tokens'\u001b[0m: \u001b[1;36m0\u001b[0m, \u001b[32m'audio_tokens'\u001b[0m: \u001b[1;36m0\u001b[0m\u001b[1m}\u001b[0m\n",
       "\u001b[1m)\u001b[0m\n"
      ]
     },
     "metadata": {},
     "output_type": "display_data"
    },
    {
     "data": {
      "text/html": [
       "<pre style=\"white-space:pre;overflow-x:auto;line-height:normal;font-family:Menlo,'DejaVu Sans Mono',consolas,'Courier New',monospace\"><span style=\"color: #008080; text-decoration-color: #008080; font-weight: bold\">0</span>\n",
       "</pre>\n"
      ],
      "text/plain": [
       "\u001b[1;36m0\u001b[0m\n"
      ]
     },
     "metadata": {},
     "output_type": "display_data"
    },
    {
     "data": {
      "text/html": [
       "<pre style=\"white-space:pre;overflow-x:auto;line-height:normal;font-family:Menlo,'DejaVu Sans Mono',consolas,'Courier New',monospace\">Response:  <span style=\"font-weight: bold\">[</span>accept<span style=\"font-weight: bold\">]</span>\n",
       "</pre>\n"
      ],
      "text/plain": [
       "Response:  \u001b[1m[\u001b[0maccept\u001b[1m]\u001b[0m\n"
      ]
     },
     "metadata": {},
     "output_type": "display_data"
    },
    {
     "data": {
      "text/html": [
       "<pre style=\"white-space:pre;overflow-x:auto;line-height:normal;font-family:Menlo,'DejaVu Sans Mono',consolas,'Courier New',monospace\">stop:  stop\n",
       "</pre>\n"
      ],
      "text/plain": [
       "stop:  stop\n"
      ]
     },
     "metadata": {},
     "output_type": "display_data"
    },
    {
     "data": {
      "text/html": [
       "<pre style=\"white-space:pre;overflow-x:auto;line-height:normal;font-family:Menlo,'DejaVu Sans Mono',consolas,'Courier New',monospace\"><span style=\"color: #800080; text-decoration-color: #800080; font-weight: bold\">CompletionUsage</span><span style=\"font-weight: bold\">(</span>\n",
       "    <span style=\"color: #808000; text-decoration-color: #808000\">completion_tokens</span>=<span style=\"color: #008080; text-decoration-color: #008080; font-weight: bold\">3</span>,\n",
       "    <span style=\"color: #808000; text-decoration-color: #808000\">prompt_tokens</span>=<span style=\"color: #008080; text-decoration-color: #008080; font-weight: bold\">2742</span>,\n",
       "    <span style=\"color: #808000; text-decoration-color: #808000\">total_tokens</span>=<span style=\"color: #008080; text-decoration-color: #008080; font-weight: bold\">2745</span>,\n",
       "    <span style=\"color: #808000; text-decoration-color: #808000\">completion_tokens_details</span>=<span style=\"color: #800080; text-decoration-color: #800080; font-weight: bold\">CompletionTokensDetails</span><span style=\"font-weight: bold\">(</span>\n",
       "        <span style=\"color: #808000; text-decoration-color: #808000\">reasoning_tokens</span>=<span style=\"color: #008080; text-decoration-color: #008080; font-weight: bold\">0</span>,\n",
       "        <span style=\"color: #808000; text-decoration-color: #808000\">audio_tokens</span>=<span style=\"color: #008080; text-decoration-color: #008080; font-weight: bold\">0</span>,\n",
       "        <span style=\"color: #808000; text-decoration-color: #808000\">accepted_prediction_tokens</span>=<span style=\"color: #008080; text-decoration-color: #008080; font-weight: bold\">0</span>,\n",
       "        <span style=\"color: #808000; text-decoration-color: #808000\">rejected_prediction_tokens</span>=<span style=\"color: #008080; text-decoration-color: #008080; font-weight: bold\">0</span>\n",
       "    <span style=\"font-weight: bold\">)</span>,\n",
       "    <span style=\"color: #808000; text-decoration-color: #808000\">prompt_tokens_details</span>=<span style=\"font-weight: bold\">{</span><span style=\"color: #008000; text-decoration-color: #008000\">'cached_tokens'</span>: <span style=\"color: #008080; text-decoration-color: #008080; font-weight: bold\">0</span>, <span style=\"color: #008000; text-decoration-color: #008000\">'audio_tokens'</span>: <span style=\"color: #008080; text-decoration-color: #008080; font-weight: bold\">0</span><span style=\"font-weight: bold\">}</span>\n",
       "<span style=\"font-weight: bold\">)</span>\n",
       "</pre>\n"
      ],
      "text/plain": [
       "\u001b[1;35mCompletionUsage\u001b[0m\u001b[1m(\u001b[0m\n",
       "    \u001b[33mcompletion_tokens\u001b[0m=\u001b[1;36m3\u001b[0m,\n",
       "    \u001b[33mprompt_tokens\u001b[0m=\u001b[1;36m2742\u001b[0m,\n",
       "    \u001b[33mtotal_tokens\u001b[0m=\u001b[1;36m2745\u001b[0m,\n",
       "    \u001b[33mcompletion_tokens_details\u001b[0m=\u001b[1;35mCompletionTokensDetails\u001b[0m\u001b[1m(\u001b[0m\n",
       "        \u001b[33mreasoning_tokens\u001b[0m=\u001b[1;36m0\u001b[0m,\n",
       "        \u001b[33maudio_tokens\u001b[0m=\u001b[1;36m0\u001b[0m,\n",
       "        \u001b[33maccepted_prediction_tokens\u001b[0m=\u001b[1;36m0\u001b[0m,\n",
       "        \u001b[33mrejected_prediction_tokens\u001b[0m=\u001b[1;36m0\u001b[0m\n",
       "    \u001b[1m)\u001b[0m,\n",
       "    \u001b[33mprompt_tokens_details\u001b[0m=\u001b[1m{\u001b[0m\u001b[32m'cached_tokens'\u001b[0m: \u001b[1;36m0\u001b[0m, \u001b[32m'audio_tokens'\u001b[0m: \u001b[1;36m0\u001b[0m\u001b[1m}\u001b[0m\n",
       "\u001b[1m)\u001b[0m\n"
      ]
     },
     "metadata": {},
     "output_type": "display_data"
    },
    {
     "name": "stdout",
     "output_type": "stream",
     "text": [
      "> \u001b[0;32m/Users/georgiazhou/research_machine/dialop/dialop/envs/planning.py\u001b[0m(184)\u001b[0;36mstep\u001b[0;34m()\u001b[0m\n",
      "\u001b[0;32m    182 \u001b[0;31m                    \u001b[0mtype_\u001b[0m \u001b[0;34m=\u001b[0m \u001b[0;34m\"accept\"\u001b[0m\u001b[0;34m\u001b[0m\u001b[0;34m\u001b[0m\u001b[0m\n",
      "\u001b[0m\u001b[0;32m    183 \u001b[0;31m                \u001b[0;32mimport\u001b[0m \u001b[0mpdb\u001b[0m\u001b[0;34m;\u001b[0m \u001b[0mpdb\u001b[0m\u001b[0;34m.\u001b[0m\u001b[0mset_trace\u001b[0m\u001b[0;34m(\u001b[0m\u001b[0;34m)\u001b[0m\u001b[0;34m\u001b[0m\u001b[0;34m\u001b[0m\u001b[0m\n",
      "\u001b[0m\u001b[0;32m--> 184 \u001b[0;31m                done, game_infos = self._proposal_response(\n",
      "\u001b[0m\u001b[0;32m    185 \u001b[0;31m                    \u001b[0mtype_\u001b[0m \u001b[0;34m==\u001b[0m \u001b[0;34m\"accept\"\u001b[0m\u001b[0;34m,\u001b[0m\u001b[0;34m\u001b[0m\u001b[0;34m\u001b[0m\u001b[0m\n",
      "\u001b[0m\u001b[0;32m    186 \u001b[0;31m                    self.game.turn_player)\n",
      "\u001b[0m\n",
      "!!! Traceback (most recent call last):\n",
      "  File \"/Users/georgiazhou/research_machine/dialop/dialop/notebooks/../envs/planning.py\", line 184, in step\n",
      "    type_ == \"accept\",\n",
      "  File \"/Users/georgiazhou/research_machine/dialop/dialop/notebooks/../envs/planning.py\", line 184, in step\n",
      "    type_ == \"accept\",\n",
      "  File \"/Library/Developer/CommandLineTools/Library/Frameworks/Python3.framework/Versions/3.9/lib/python3.9/bdb.py\", line 88, in trace_dispatch\n",
      "    return self.dispatch_line(frame)\n",
      "  File \"/Library/Developer/CommandLineTools/Library/Frameworks/Python3.framework/Versions/3.9/lib/python3.9/bdb.py\", line 113, in dispatch_line\n",
      "    if self.quitting: raise BdbQuit\n",
      "bdb.BdbQuit\n",
      "\n",
      "> \u001b[0;32m/Users/georgiazhou/research_machine/dialop/dialop/envs/planning.py\u001b[0m(202)\u001b[0;36mstep\u001b[0;34m()\u001b[0m\n",
      "\u001b[0;32m    200 \u001b[0;31m            \u001b[0;32mimport\u001b[0m \u001b[0mpdb\u001b[0m\u001b[0;34m;\u001b[0m \u001b[0mpdb\u001b[0m\u001b[0;34m.\u001b[0m\u001b[0mset_trace\u001b[0m\u001b[0;34m(\u001b[0m\u001b[0;34m)\u001b[0m\u001b[0;34m\u001b[0m\u001b[0;34m\u001b[0m\u001b[0m\n",
      "\u001b[0m\u001b[0;32m    201 \u001b[0;31m            return {\n",
      "\u001b[0m\u001b[0;32m--> 202 \u001b[0;31m                \u001b[0;34m**\u001b[0m\u001b[0;34m{\u001b[0m\u001b[0mp\u001b[0m\u001b[0;34m:\u001b[0m \u001b[0;34m\"error\"\u001b[0m \u001b[0;32mfor\u001b[0m \u001b[0mp\u001b[0m \u001b[0;32min\u001b[0m \u001b[0mself\u001b[0m\u001b[0;34m.\u001b[0m\u001b[0mplayers\u001b[0m\u001b[0;34m}\u001b[0m\u001b[0;34m,\u001b[0m\u001b[0;34m\u001b[0m\u001b[0;34m\u001b[0m\u001b[0m\n",
      "\u001b[0m\u001b[0;32m    203 \u001b[0;31m                \u001b[0;34m\"done\"\u001b[0m\u001b[0;34m:\u001b[0m \u001b[0;32mFalse\u001b[0m\u001b[0;34m,\u001b[0m\u001b[0;34m\u001b[0m\u001b[0;34m\u001b[0m\u001b[0m\n",
      "\u001b[0m\u001b[0;32m    204 \u001b[0;31m                \u001b[0;34m\"reward\"\u001b[0m\u001b[0;34m:\u001b[0m \u001b[0;36m0\u001b[0m\u001b[0;34m,\u001b[0m\u001b[0;34m\u001b[0m\u001b[0;34m\u001b[0m\u001b[0m\n",
      "\u001b[0m\n"
     ]
    }
   ],
   "source": [
    "\n",
    "checkpoint_mgr = CheckpointManager()\n",
    "\n",
    "        # Load the initial state\n",
    "initial_state = checkpoint_mgr.load_full_state(\"initial_state\")\n",
    "          \n",
    "        \n",
    "    \n",
    "    \n",
    "    \n",
    " \n",
    "    \n",
    "try:\n",
    "    # Access key components\n",
    "    players = initial_state['players']\n",
    "    extracted_features = initial_state.get('extracted_features', [])\n",
    "    t = initial_state.get('t', 0)\n",
    "    env = initial_state.get('env', None)\n",
    "    agent = initial_state['players']['agent']\n",
    "    user = initial_state['players']['user']\n",
    "    chat_history = agent.prompt\n",
    "    if not env:\n",
    "        print(\"No environment found in checkpoint.\")\n",
    "    print(f\"\\nTurn: {t}\")\n",
    "    print(f\"Features: {extracted_features}\")\n",
    "    print(f\"Players: {list(players.keys())}\")\n",
    "    \n",
    "except Exception as e:\n",
    "    print(f\"Error loading checkpoint: {str(e)}\")\n",
    "\n",
    "\n",
    "agent_3_responses = n_different_responses(players, t = t)\n",
    "\n",
    "parallel_convs = initialize_parallel_conversations(agent_3_responses, players, env, t)\n",
    "style_response = style_judger(parallel_convs)\n",
    "parallel_convs = step_parallel_conversations(parallel_convs)\n",
    "\n",
    "user_conversations_no_pref = clean_user_conversation(user.user_prompt_obss, parallel_convs)\n",
    "########################\n",
    "parallel_convs, preferences_only = initialize_10_user_conversations(parallel_convs, user_conversations_no_pref, style_response, extracted_features, reset_sonlist = True)\n",
    "\n",
    "extracted_features = parse_extracted_features(extracted_features)\n",
    "conversation_states = step_all_user_responses( parallel_convs)\n",
    "\n",
    "agent_proposals = get_agent_proposals( parallel_convs)\n",
    "###########\n",
    "scores = api_rate_agent_proposals(agent_proposals, parallel_convs)\n",
    "best_path = choose_best_path(scores)\n",
    "checkpoint_name = save_best_path_as_checkpoint(parallel_convs, best_path, checkpoint_mgr)\n",
    "print(f\"Successfully processed checkpoint. Saved as: {checkpoint_name}\")"
   ]
  }
 ],
 "metadata": {
  "kernelspec": {
   "display_name": ".venv",
   "language": "python",
   "name": "python3"
  },
  "language_info": {
   "codemirror_mode": {
    "name": "ipython",
    "version": 3
   },
   "file_extension": ".py",
   "mimetype": "text/x-python",
   "name": "python",
   "nbconvert_exporter": "python",
   "pygments_lexer": "ipython3",
   "version": "3.9.6"
  }
 },
 "nbformat": 4,
 "nbformat_minor": 2
}
