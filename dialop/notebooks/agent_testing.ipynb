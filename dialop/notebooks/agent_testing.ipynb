{
 "cells": [
  {
   "cell_type": "code",
   "execution_count": 130,
   "metadata": {},
   "outputs": [
    {
     "name": "stdout",
     "output_type": "stream",
     "text": [
      "The autoreload extension is already loaded. To reload it, use:\n",
      "  %reload_ext autoreload\n"
     ]
    },
    {
     "data": {
      "text/html": [
       "<pre style=\"white-space:pre;overflow-x:auto;line-height:normal;font-family:Menlo,'DejaVu Sans Mono',consolas,'Courier New',monospace\">Imports successful!\n",
       "</pre>\n"
      ],
      "text/plain": [
       "Imports successful!\n"
      ]
     },
     "metadata": {},
     "output_type": "display_data"
    }
   ],
   "source": [
    "%load_ext autoreload\n",
    "%autoreload 2  \n",
    "%reload_ext autoreload\n",
    "import sys\n",
    "sys.path.append('..')\n",
    "import pickle\n",
    "from pathlib import Path\n",
    "from rich import print\n",
    "from rich.console import Console\n",
    "import pdb\n",
    "import json\n",
    "import random\n",
    "import copy\n",
    "console = Console()\n",
    "\n",
    "# Import your modules\n",
    "from dialop.evaluate import CheckpointManager\n",
    "from dialop.responses_class import ParallelConversations, ResponseManager, Conversation\n",
    "from dialop.envs.planning import PlanningEnv\n",
    "from skills import Agent_tell\n",
    "\n",
    "print(\"Imports successful!\")"
   ]
  },
  {
   "cell_type": "code",
   "execution_count": 43,
   "metadata": {},
   "outputs": [],
   "source": [
    "\n",
    "import gspread\n",
    "from google.oauth2.service_account import Credentials\n",
    "\n",
    "SERVICE_ACCOUNT_FILE = '/Users/georgiazhou/research_machine/dialop/dialop-8759580d9f40.json'\n",
    "SCOPE = [\"https://spreadsheets.google.com/feeds\", \n",
    "         \"https://www.googleapis.com/auth/drive\"]\n",
    "credentials = Credentials.from_service_account_file(SERVICE_ACCOUNT_FILE, scopes=SCOPE)\n",
    "client = gspread.authorize(credentials)\n",
    "spreadsheet = client.open('Dialop-GPT4-Planning')\n",
    "worksheet = spreadsheet.get_worksheet(8)"
   ]
  },
  {
   "cell_type": "code",
   "execution_count": 98,
   "metadata": {},
   "outputs": [
    {
     "name": "stdout",
     "output_type": "stream",
     "text": [
      "Loaded .api_key\n"
     ]
    },
    {
     "data": {
      "text/html": [
       "<pre style=\"white-space:pre;overflow-x:auto;line-height:normal;font-family:Menlo,'DejaVu Sans Mono',consolas,'Courier New',monospace\"><span style=\"color: #800080; text-decoration-color: #800080\">/Users/georgiazhou/research_machine/dialop/dialop/checkpoints/</span><span style=\"color: #ff00ff; text-decoration-color: #ff00ff\">debug_states</span>\n",
       "</pre>\n"
      ],
      "text/plain": [
       "\u001b[35m/Users/georgiazhou/research_machine/dialop/dialop/checkpoints/\u001b[0m\u001b[95mdebug_states\u001b[0m\n"
      ]
     },
     "metadata": {},
     "output_type": "display_data"
    },
    {
     "data": {
      "text/html": [
       "<pre style=\"white-space:pre;overflow-x:auto;line-height:normal;font-family:Menlo,'DejaVu Sans Mono',consolas,'Courier New',monospace\">Successfully loaded checkpoint!\n",
       "</pre>\n"
      ],
      "text/plain": [
       "Successfully loaded checkpoint!\n"
      ]
     },
     "metadata": {},
     "output_type": "display_data"
    },
    {
     "data": {
      "text/html": [
       "<pre style=\"white-space:pre;overflow-x:auto;line-height:normal;font-family:Menlo,'DejaVu Sans Mono',consolas,'Courier New',monospace\">\n",
       "Turn: <span style=\"color: #008080; text-decoration-color: #008080; font-weight: bold\">2</span>\n",
       "</pre>\n"
      ],
      "text/plain": [
       "\n",
       "Turn: \u001b[1;36m2\u001b[0m\n"
      ]
     },
     "metadata": {},
     "output_type": "display_data"
    },
    {
     "data": {
      "text/html": [
       "<pre style=\"white-space:pre;overflow-x:auto;line-height:normal;font-family:Menlo,'DejaVu Sans Mono',consolas,'Courier New',monospace\">Features: <span style=\"font-weight: bold\">[</span><span style=\"color: #008000; text-decoration-color: #008000\">''</span>, <span style=\"color: #008000; text-decoration-color: #008000\">'{AtLeastOneEventType: landmark, rating: good, has_parking: true}'</span><span style=\"font-weight: bold\">]</span>\n",
       "</pre>\n"
      ],
      "text/plain": [
       "Features: \u001b[1m[\u001b[0m\u001b[32m''\u001b[0m, \u001b[32m'\u001b[0m\u001b[32m{\u001b[0m\u001b[32mAtLeastOneEventType: landmark, rating: good, has_parking: true\u001b[0m\u001b[32m}\u001b[0m\u001b[32m'\u001b[0m\u001b[1m]\u001b[0m\n"
      ]
     },
     "metadata": {},
     "output_type": "display_data"
    },
    {
     "data": {
      "text/html": [
       "<pre style=\"white-space:pre;overflow-x:auto;line-height:normal;font-family:Menlo,'DejaVu Sans Mono',consolas,'Courier New',monospace\">Players: <span style=\"font-weight: bold\">[</span><span style=\"color: #008000; text-decoration-color: #008000\">'agent'</span>, <span style=\"color: #008000; text-decoration-color: #008000\">'user'</span><span style=\"font-weight: bold\">]</span>\n",
       "</pre>\n"
      ],
      "text/plain": [
       "Players: \u001b[1m[\u001b[0m\u001b[32m'agent'\u001b[0m, \u001b[32m'user'\u001b[0m\u001b[1m]\u001b[0m\n"
      ]
     },
     "metadata": {},
     "output_type": "display_data"
    }
   ],
   "source": [
    "# Initialize checkpoint manager\n",
    "checkpoint_mgr = CheckpointManager()\n",
    "print(checkpoint_mgr.checkpoint_dir)\n",
    "\n",
    "# Load your saved checkpoint\n",
    "try:\n",
    "   \n",
    "    state = checkpoint_mgr.load_full_state('agent_ready_t2')\n",
    "    \n",
    "    print(\"Successfully loaded checkpoint!\")\n",
    "    \n",
    "    # Access key components\n",
    "    players = state['players']\n",
    "    extracted_features = state.get('extracted_features', [])\n",
    "    t = state.get('t', 0)\n",
    "    env = state.get('env', None)\n",
    "    if not env:\n",
    "        print(\"No environment found in checkpoint.\")\n",
    "    \n",
    "    print(f\"\\nTurn: {t}\")\n",
    "    print(f\"Features: {extracted_features}\")\n",
    "    print(f\"Players: {list(players.keys())}\")\n",
    "    \n",
    "except Exception as e:\n",
    "    print(f\"Error loading checkpoint: {str(e)}\")"
   ]
  },
  {
   "cell_type": "code",
   "execution_count": 99,
   "metadata": {},
   "outputs": [
    {
     "data": {
      "text/html": [
       "<pre style=\"white-space:pre;overflow-x:auto;line-height:normal;font-family:Menlo,'DejaVu Sans Mono',consolas,'Courier New',monospace\">=== Agent Info ===\n",
       "</pre>\n"
      ],
      "text/plain": [
       "=== Agent Info ===\n"
      ]
     },
     "metadata": {},
     "output_type": "display_data"
    },
    {
     "data": {
      "text/html": [
       "<pre style=\"white-space:pre;overflow-x:auto;line-height:normal;font-family:Menlo,'DejaVu Sans Mono',consolas,'Courier New',monospace\">Agent role: agent\n",
       "</pre>\n"
      ],
      "text/plain": [
       "Agent role: agent\n"
      ]
     },
     "metadata": {},
     "output_type": "display_data"
    },
    {
     "data": {
      "text/html": [
       "<pre style=\"white-space:pre;overflow-x:auto;line-height:normal;font-family:Menlo,'DejaVu Sans Mono',consolas,'Courier New',monospace\">\n",
       "=== User Info ===\n",
       "</pre>\n"
      ],
      "text/plain": [
       "\n",
       "=== User Info ===\n"
      ]
     },
     "metadata": {},
     "output_type": "display_data"
    },
    {
     "data": {
      "text/html": [
       "<pre style=\"white-space:pre;overflow-x:auto;line-height:normal;font-family:Menlo,'DejaVu Sans Mono',consolas,'Courier New',monospace\">User role: user\n",
       "</pre>\n"
      ],
      "text/plain": [
       "User role: user\n"
      ]
     },
     "metadata": {},
     "output_type": "display_data"
    },
    {
     "data": {
      "text/html": [
       "<pre style=\"white-space:pre;overflow-x:auto;line-height:normal;font-family:Menlo,'DejaVu Sans Mono',consolas,'Courier New',monospace\">User observations: \n",
       "You:Travel Preferences:\n",
       "go to at least one landmark\n",
       "renting a car so preferably places with parking\n",
       "definitely want to check out Dan's recommendations: Central Plaza, The Mall\n",
       "prefer ratings above <span style=\"color: #008080; text-decoration-color: #008080; font-weight: bold\">4</span>\n",
       "generally like eating vegan options\n",
       "check out live music!\n",
       "family trip, best to go to places that are good for kids\n",
       "find a place with wifi to do some work at some point\n",
       "keep budget below $<span style=\"color: #008080; text-decoration-color: #008080; font-weight: bold\">40</span>\n",
       "COVID conscious, outdoor seating places would be best\n",
       "minimize travel distance\n",
       "you must follow your communication styl<span style=\"color: #00ff00; text-decoration-color: #00ff00; font-weight: bold\">e:C</span>ommunication Style:\n",
       "Feedback Provider: This client is likely to give feedback and suggestions throughout the planning process and \n",
       "appreciates being asked for their opinions.\n",
       "Detail-Oriented Client: This client pays attention to the finer details and may ask specific questions about \n",
       "logistics, timing, and contingency plans.\n",
       "You:\n",
       "You:I'm planning to visit with my family and would prefer a good rated location. Dan recommended Central Plaza and \n",
       "The Mall. By the way, do these places have parking available?\n",
       "Error: Invalid message: I'm planning to visit with my family and would prefer a good rated location. Dan \n",
       "recommended Central Plaza and The Mall. By the way, do these places have parking available?.Messages must be \n",
       "formatted with a type like <span style=\"color: #008000; text-decoration-color: #008000\">'&lt;content here&gt;'</span>\n",
       "You: My main focus is to visit at least one landmark with a good rating, check out Dan's recommendations including \n",
       "Central Plaza, and The Mall, and secure a place with parking as I am renting a car. Can you suggest places \n",
       "according to these preferences?\n",
       "</pre>\n"
      ],
      "text/plain": [
       "User observations: \n",
       "You:Travel Preferences:\n",
       "go to at least one landmark\n",
       "renting a car so preferably places with parking\n",
       "definitely want to check out Dan's recommendations: Central Plaza, The Mall\n",
       "prefer ratings above \u001b[1;36m4\u001b[0m\n",
       "generally like eating vegan options\n",
       "check out live music!\n",
       "family trip, best to go to places that are good for kids\n",
       "find a place with wifi to do some work at some point\n",
       "keep budget below $\u001b[1;36m40\u001b[0m\n",
       "COVID conscious, outdoor seating places would be best\n",
       "minimize travel distance\n",
       "you must follow your communication styl\u001b[1;92me:C\u001b[0mommunication Style:\n",
       "Feedback Provider: This client is likely to give feedback and suggestions throughout the planning process and \n",
       "appreciates being asked for their opinions.\n",
       "Detail-Oriented Client: This client pays attention to the finer details and may ask specific questions about \n",
       "logistics, timing, and contingency plans.\n",
       "You:\n",
       "You:I'm planning to visit with my family and would prefer a good rated location. Dan recommended Central Plaza and \n",
       "The Mall. By the way, do these places have parking available?\n",
       "Error: Invalid message: I'm planning to visit with my family and would prefer a good rated location. Dan \n",
       "recommended Central Plaza and The Mall. By the way, do these places have parking available?.Messages must be \n",
       "formatted with a type like \u001b[32m'\u001b[0m\u001b[32m<\u001b[0m\u001b[32mcontent\u001b[0m\u001b[32m here\u001b[0m\u001b[32m>\u001b[0m\u001b[32m'\u001b[0m\n",
       "You: My main focus is to visit at least one landmark with a good rating, check out Dan's recommendations including \n",
       "Central Plaza, and The Mall, and secure a place with parking as I am renting a car. Can you suggest places \n",
       "according to these preferences?\n"
      ]
     },
     "metadata": {},
     "output_type": "display_data"
    }
   ],
   "source": [
    "# Access player objects\n",
    "agent = players['agent']\n",
    "user = players['user']\n",
    "\n",
    "\n",
    "# Check agent's chat history\n",
    "print(\"=== Agent Info ===\")\n",
    "\n",
    "chat_history = agent.prompt\n",
    "print(f\"Agent role: {agent.role}\")\n",
    "#print(f\"Agent chat history: {chat_history}\")\n",
    "\n",
    "print(\"\\n=== User Info ===\")\n",
    "print(f\"User role: {user.role}\")\n",
    "if hasattr(user, 'user_prompt_obss'):\n",
    "    print(f\"User observations: {user.user_prompt_obss}\")\n",
    "    #print(user.prompt)\n",
    "    \n"
   ]
  },
  {
   "cell_type": "code",
   "execution_count": 100,
   "metadata": {},
   "outputs": [
    {
     "data": {
      "text/html": [
       "<pre style=\"white-space:pre;overflow-x:auto;line-height:normal;font-family:Menlo,'DejaVu Sans Mono',consolas,'Courier New',monospace\">Response:  <span style=\"font-weight: bold\">[</span>think<span style=\"font-weight: bold\">]</span> The user would like to visit highly-rated landmarks, with specific mention of Central Plaza and \n",
       "The Mall. Since they will be using a rented car, parking availability is important too. I'll first look for \n",
       "landmarks that match these requirements.\n",
       "</pre>\n"
      ],
      "text/plain": [
       "Response:  \u001b[1m[\u001b[0mthink\u001b[1m]\u001b[0m The user would like to visit highly-rated landmarks, with specific mention of Central Plaza and \n",
       "The Mall. Since they will be using a rented car, parking availability is important too. I'll first look for \n",
       "landmarks that match these requirements.\n"
      ]
     },
     "metadata": {},
     "output_type": "display_data"
    },
    {
     "data": {
      "text/html": [
       "<pre style=\"white-space:pre;overflow-x:auto;line-height:normal;font-family:Menlo,'DejaVu Sans Mono',consolas,'Courier New',monospace\">stop:  stop\n",
       "</pre>\n"
      ],
      "text/plain": [
       "stop:  stop\n"
      ]
     },
     "metadata": {},
     "output_type": "display_data"
    },
    {
     "data": {
      "text/html": [
       "<pre style=\"white-space:pre;overflow-x:auto;line-height:normal;font-family:Menlo,'DejaVu Sans Mono',consolas,'Courier New',monospace\"><span style=\"color: #800080; text-decoration-color: #800080; font-weight: bold\">CompletionUsage</span><span style=\"font-weight: bold\">(</span>\n",
       "    <span style=\"color: #808000; text-decoration-color: #808000\">completion_tokens</span>=<span style=\"color: #008080; text-decoration-color: #008080; font-weight: bold\">50</span>,\n",
       "    <span style=\"color: #808000; text-decoration-color: #808000\">prompt_tokens</span>=<span style=\"color: #008080; text-decoration-color: #008080; font-weight: bold\">1749</span>,\n",
       "    <span style=\"color: #808000; text-decoration-color: #808000\">total_tokens</span>=<span style=\"color: #008080; text-decoration-color: #008080; font-weight: bold\">1799</span>,\n",
       "    <span style=\"color: #808000; text-decoration-color: #808000\">completion_tokens_details</span>=<span style=\"color: #800080; text-decoration-color: #800080; font-weight: bold\">CompletionTokensDetails</span><span style=\"font-weight: bold\">(</span>\n",
       "        <span style=\"color: #808000; text-decoration-color: #808000\">reasoning_tokens</span>=<span style=\"color: #008080; text-decoration-color: #008080; font-weight: bold\">0</span>,\n",
       "        <span style=\"color: #808000; text-decoration-color: #808000\">accepted_prediction_tokens</span>=<span style=\"color: #008080; text-decoration-color: #008080; font-weight: bold\">0</span>,\n",
       "        <span style=\"color: #808000; text-decoration-color: #808000\">rejected_prediction_tokens</span>=<span style=\"color: #008080; text-decoration-color: #008080; font-weight: bold\">0</span>\n",
       "    <span style=\"font-weight: bold\">)</span>,\n",
       "    <span style=\"color: #808000; text-decoration-color: #808000\">prompt_tokens_details</span>=<span style=\"font-weight: bold\">{</span><span style=\"color: #008000; text-decoration-color: #008000\">'cached_tokens'</span>: <span style=\"color: #008080; text-decoration-color: #008080; font-weight: bold\">0</span><span style=\"font-weight: bold\">}</span>\n",
       "<span style=\"font-weight: bold\">)</span>\n",
       "</pre>\n"
      ],
      "text/plain": [
       "\u001b[1;35mCompletionUsage\u001b[0m\u001b[1m(\u001b[0m\n",
       "    \u001b[33mcompletion_tokens\u001b[0m=\u001b[1;36m50\u001b[0m,\n",
       "    \u001b[33mprompt_tokens\u001b[0m=\u001b[1;36m1749\u001b[0m,\n",
       "    \u001b[33mtotal_tokens\u001b[0m=\u001b[1;36m1799\u001b[0m,\n",
       "    \u001b[33mcompletion_tokens_details\u001b[0m=\u001b[1;35mCompletionTokensDetails\u001b[0m\u001b[1m(\u001b[0m\n",
       "        \u001b[33mreasoning_tokens\u001b[0m=\u001b[1;36m0\u001b[0m,\n",
       "        \u001b[33maccepted_prediction_tokens\u001b[0m=\u001b[1;36m0\u001b[0m,\n",
       "        \u001b[33mrejected_prediction_tokens\u001b[0m=\u001b[1;36m0\u001b[0m\n",
       "    \u001b[1m)\u001b[0m,\n",
       "    \u001b[33mprompt_tokens_details\u001b[0m=\u001b[1m{\u001b[0m\u001b[32m'cached_tokens'\u001b[0m: \u001b[1;36m0\u001b[0m\u001b[1m}\u001b[0m\n",
       "\u001b[1m)\u001b[0m\n"
      ]
     },
     "metadata": {},
     "output_type": "display_data"
    },
    {
     "data": {
      "text/html": [
       "<pre style=\"white-space:pre;overflow-x:auto;line-height:normal;font-family:Menlo,'DejaVu Sans Mono',consolas,'Courier New',monospace\">Response:  <span style=\"font-weight: bold\">[</span>think<span style=\"font-weight: bold\">]</span> Given that landmarks and two specific places <span style=\"font-weight: bold\">(</span>Central Plaza and The Mall<span style=\"font-weight: bold\">)</span> were specified, and \n",
       "parking is also essential, I should prioritize searching these elements.\n",
       "</pre>\n"
      ],
      "text/plain": [
       "Response:  \u001b[1m[\u001b[0mthink\u001b[1m]\u001b[0m Given that landmarks and two specific places \u001b[1m(\u001b[0mCentral Plaza and The Mall\u001b[1m)\u001b[0m were specified, and \n",
       "parking is also essential, I should prioritize searching these elements.\n"
      ]
     },
     "metadata": {},
     "output_type": "display_data"
    },
    {
     "data": {
      "text/html": [
       "<pre style=\"white-space:pre;overflow-x:auto;line-height:normal;font-family:Menlo,'DejaVu Sans Mono',consolas,'Courier New',monospace\">stop:  stop\n",
       "</pre>\n"
      ],
      "text/plain": [
       "stop:  stop\n"
      ]
     },
     "metadata": {},
     "output_type": "display_data"
    },
    {
     "data": {
      "text/html": [
       "<pre style=\"white-space:pre;overflow-x:auto;line-height:normal;font-family:Menlo,'DejaVu Sans Mono',consolas,'Courier New',monospace\"><span style=\"color: #800080; text-decoration-color: #800080; font-weight: bold\">CompletionUsage</span><span style=\"font-weight: bold\">(</span>\n",
       "    <span style=\"color: #808000; text-decoration-color: #808000\">completion_tokens</span>=<span style=\"color: #008080; text-decoration-color: #008080; font-weight: bold\">33</span>,\n",
       "    <span style=\"color: #808000; text-decoration-color: #808000\">prompt_tokens</span>=<span style=\"color: #008080; text-decoration-color: #008080; font-weight: bold\">1749</span>,\n",
       "    <span style=\"color: #808000; text-decoration-color: #808000\">total_tokens</span>=<span style=\"color: #008080; text-decoration-color: #008080; font-weight: bold\">1782</span>,\n",
       "    <span style=\"color: #808000; text-decoration-color: #808000\">completion_tokens_details</span>=<span style=\"color: #800080; text-decoration-color: #800080; font-weight: bold\">CompletionTokensDetails</span><span style=\"font-weight: bold\">(</span>\n",
       "        <span style=\"color: #808000; text-decoration-color: #808000\">reasoning_tokens</span>=<span style=\"color: #008080; text-decoration-color: #008080; font-weight: bold\">0</span>,\n",
       "        <span style=\"color: #808000; text-decoration-color: #808000\">accepted_prediction_tokens</span>=<span style=\"color: #008080; text-decoration-color: #008080; font-weight: bold\">0</span>,\n",
       "        <span style=\"color: #808000; text-decoration-color: #808000\">rejected_prediction_tokens</span>=<span style=\"color: #008080; text-decoration-color: #008080; font-weight: bold\">0</span>\n",
       "    <span style=\"font-weight: bold\">)</span>,\n",
       "    <span style=\"color: #808000; text-decoration-color: #808000\">prompt_tokens_details</span>=<span style=\"font-weight: bold\">{</span><span style=\"color: #008000; text-decoration-color: #008000\">'cached_tokens'</span>: <span style=\"color: #008080; text-decoration-color: #008080; font-weight: bold\">0</span><span style=\"font-weight: bold\">}</span>\n",
       "<span style=\"font-weight: bold\">)</span>\n",
       "</pre>\n"
      ],
      "text/plain": [
       "\u001b[1;35mCompletionUsage\u001b[0m\u001b[1m(\u001b[0m\n",
       "    \u001b[33mcompletion_tokens\u001b[0m=\u001b[1;36m33\u001b[0m,\n",
       "    \u001b[33mprompt_tokens\u001b[0m=\u001b[1;36m1749\u001b[0m,\n",
       "    \u001b[33mtotal_tokens\u001b[0m=\u001b[1;36m1782\u001b[0m,\n",
       "    \u001b[33mcompletion_tokens_details\u001b[0m=\u001b[1;35mCompletionTokensDetails\u001b[0m\u001b[1m(\u001b[0m\n",
       "        \u001b[33mreasoning_tokens\u001b[0m=\u001b[1;36m0\u001b[0m,\n",
       "        \u001b[33maccepted_prediction_tokens\u001b[0m=\u001b[1;36m0\u001b[0m,\n",
       "        \u001b[33mrejected_prediction_tokens\u001b[0m=\u001b[1;36m0\u001b[0m\n",
       "    \u001b[1m)\u001b[0m,\n",
       "    \u001b[33mprompt_tokens_details\u001b[0m=\u001b[1m{\u001b[0m\u001b[32m'cached_tokens'\u001b[0m: \u001b[1;36m0\u001b[0m\u001b[1m}\u001b[0m\n",
       "\u001b[1m)\u001b[0m\n"
      ]
     },
     "metadata": {},
     "output_type": "display_data"
    },
    {
     "data": {
      "text/html": [
       "<pre style=\"white-space:pre;overflow-x:auto;line-height:normal;font-family:Menlo,'DejaVu Sans Mono',consolas,'Courier New',monospace\">Response:  <span style=\"font-weight: bold\">[</span>think<span style=\"font-weight: bold\">]</span> The user provided plenty of useful information. Let me summarize: The user wants to see one or \n",
       "more landmarks with good ratings, he will trust Dan's recommendations, including visiting Central Plaza and The \n",
       "Mall, and finally he needs parking for his rented car.\n",
       "</pre>\n"
      ],
      "text/plain": [
       "Response:  \u001b[1m[\u001b[0mthink\u001b[1m]\u001b[0m The user provided plenty of useful information. Let me summarize: The user wants to see one or \n",
       "more landmarks with good ratings, he will trust Dan's recommendations, including visiting Central Plaza and The \n",
       "Mall, and finally he needs parking for his rented car.\n"
      ]
     },
     "metadata": {},
     "output_type": "display_data"
    },
    {
     "data": {
      "text/html": [
       "<pre style=\"white-space:pre;overflow-x:auto;line-height:normal;font-family:Menlo,'DejaVu Sans Mono',consolas,'Courier New',monospace\">stop:  stop\n",
       "</pre>\n"
      ],
      "text/plain": [
       "stop:  stop\n"
      ]
     },
     "metadata": {},
     "output_type": "display_data"
    },
    {
     "data": {
      "text/html": [
       "<pre style=\"white-space:pre;overflow-x:auto;line-height:normal;font-family:Menlo,'DejaVu Sans Mono',consolas,'Courier New',monospace\"><span style=\"color: #800080; text-decoration-color: #800080; font-weight: bold\">CompletionUsage</span><span style=\"font-weight: bold\">(</span>\n",
       "    <span style=\"color: #808000; text-decoration-color: #808000\">completion_tokens</span>=<span style=\"color: #008080; text-decoration-color: #008080; font-weight: bold\">53</span>,\n",
       "    <span style=\"color: #808000; text-decoration-color: #808000\">prompt_tokens</span>=<span style=\"color: #008080; text-decoration-color: #008080; font-weight: bold\">1749</span>,\n",
       "    <span style=\"color: #808000; text-decoration-color: #808000\">total_tokens</span>=<span style=\"color: #008080; text-decoration-color: #008080; font-weight: bold\">1802</span>,\n",
       "    <span style=\"color: #808000; text-decoration-color: #808000\">completion_tokens_details</span>=<span style=\"color: #800080; text-decoration-color: #800080; font-weight: bold\">CompletionTokensDetails</span><span style=\"font-weight: bold\">(</span>\n",
       "        <span style=\"color: #808000; text-decoration-color: #808000\">reasoning_tokens</span>=<span style=\"color: #008080; text-decoration-color: #008080; font-weight: bold\">0</span>,\n",
       "        <span style=\"color: #808000; text-decoration-color: #808000\">accepted_prediction_tokens</span>=<span style=\"color: #008080; text-decoration-color: #008080; font-weight: bold\">0</span>,\n",
       "        <span style=\"color: #808000; text-decoration-color: #808000\">rejected_prediction_tokens</span>=<span style=\"color: #008080; text-decoration-color: #008080; font-weight: bold\">0</span>\n",
       "    <span style=\"font-weight: bold\">)</span>,\n",
       "    <span style=\"color: #808000; text-decoration-color: #808000\">prompt_tokens_details</span>=<span style=\"font-weight: bold\">{</span><span style=\"color: #008000; text-decoration-color: #008000\">'cached_tokens'</span>: <span style=\"color: #008080; text-decoration-color: #008080; font-weight: bold\">0</span><span style=\"font-weight: bold\">}</span>\n",
       "<span style=\"font-weight: bold\">)</span>\n",
       "</pre>\n"
      ],
      "text/plain": [
       "\u001b[1;35mCompletionUsage\u001b[0m\u001b[1m(\u001b[0m\n",
       "    \u001b[33mcompletion_tokens\u001b[0m=\u001b[1;36m53\u001b[0m,\n",
       "    \u001b[33mprompt_tokens\u001b[0m=\u001b[1;36m1749\u001b[0m,\n",
       "    \u001b[33mtotal_tokens\u001b[0m=\u001b[1;36m1802\u001b[0m,\n",
       "    \u001b[33mcompletion_tokens_details\u001b[0m=\u001b[1;35mCompletionTokensDetails\u001b[0m\u001b[1m(\u001b[0m\n",
       "        \u001b[33mreasoning_tokens\u001b[0m=\u001b[1;36m0\u001b[0m,\n",
       "        \u001b[33maccepted_prediction_tokens\u001b[0m=\u001b[1;36m0\u001b[0m,\n",
       "        \u001b[33mrejected_prediction_tokens\u001b[0m=\u001b[1;36m0\u001b[0m\n",
       "    \u001b[1m)\u001b[0m,\n",
       "    \u001b[33mprompt_tokens_details\u001b[0m=\u001b[1m{\u001b[0m\u001b[32m'cached_tokens'\u001b[0m: \u001b[1;36m0\u001b[0m\u001b[1m}\u001b[0m\n",
       "\u001b[1m)\u001b[0m\n"
      ]
     },
     "metadata": {},
     "output_type": "display_data"
    }
   ],
   "source": [
    "def n_different_responses(players):\n",
    "    resp1 = players['agent'].respond(t, 35, vary=True)\n",
    "    resp2 = players['agent'].respond(t, 35, vary=True)\n",
    "    resp3 = players['agent'].respond(t, 35, vary=True)\n",
    "    return [resp1, resp2, resp3]\n",
    "\n",
    "agent_3_responses = n_different_responses(players)"
   ]
  },
  {
   "cell_type": "code",
   "execution_count": 101,
   "metadata": {},
   "outputs": [
    {
     "name": "stdout",
     "output_type": "stream",
     "text": [
      "{'user': '', 'agent': \"[think] The user would like to visit highly-rated landmarks, with specific mention of Central Plaza and The Mall. Since they will be using a rented car, parking availability is important too. I'll first look for landmarks that match these requirements.\", 'turn_player': 'agent', 'done': False, 'reward': 0, 'info': {'num_msgs': 1}}\n",
      "{'user': '', 'agent': \"[think] The user would like to visit highly-rated landmarks, with specific mention of Central Plaza and The Mall. Since they will be using a rented car, parking availability is important too. I'll first look for landmarks that match these requirements.\", 'turn_player': 'agent', 'done': False, 'reward': 0, 'info': {'num_msgs': 1}}\n",
      "{'user': '', 'agent': '[think] Given that landmarks and two specific places (Central Plaza and The Mall) were specified, and parking is also essential, I should prioritize searching these elements.', 'turn_player': 'agent', 'done': False, 'reward': 0, 'info': {'num_msgs': 1}}\n",
      "{'user': '', 'agent': '[think] Given that landmarks and two specific places (Central Plaza and The Mall) were specified, and parking is also essential, I should prioritize searching these elements.', 'turn_player': 'agent', 'done': False, 'reward': 0, 'info': {'num_msgs': 1}}\n",
      "{'user': '', 'agent': \"[think] The user provided plenty of useful information. Let me summarize: The user wants to see one or more landmarks with good ratings, he will trust Dan's recommendations, including visiting Central Plaza and The Mall, and finally he needs parking for his rented car.\", 'turn_player': 'agent', 'done': False, 'reward': 0, 'info': {'num_msgs': 1}}\n",
      "{'user': '', 'agent': \"[think] The user provided plenty of useful information. Let me summarize: The user wants to see one or more landmarks with good ratings, he will trust Dan's recommendations, including visiting Central Plaza and The Mall, and finally he needs parking for his rented car.\", 'turn_player': 'agent', 'done': False, 'reward': 0, 'info': {'num_msgs': 1}}\n"
     ]
    },
    {
     "data": {
      "text/html": [
       "<pre style=\"white-space:pre;overflow-x:auto;line-height:normal;font-family:Menlo,'DejaVu Sans Mono',consolas,'Courier New',monospace\">\n",
       "Initialized parallel conversations:\n",
       "</pre>\n"
      ],
      "text/plain": [
       "\n",
       "Initialized parallel conversations:\n"
      ]
     },
     "metadata": {},
     "output_type": "display_data"
    },
    {
     "data": {
      "text/html": [
       "<pre style=\"white-space:pre;overflow-x:auto;line-height:normal;font-family:Menlo,'DejaVu Sans Mono',consolas,'Courier New',monospace\">\n",
       "Stream <span style=\"color: #008080; text-decoration-color: #008080; font-weight: bold\">1</span>:\n",
       "</pre>\n"
      ],
      "text/plain": [
       "\n",
       "Stream \u001b[1;36m1\u001b[0m:\n"
      ]
     },
     "metadata": {},
     "output_type": "display_data"
    },
    {
     "data": {
      "text/html": [
       "<pre style=\"white-space:pre;overflow-x:auto;line-height:normal;font-family:Menlo,'DejaVu Sans Mono',consolas,'Courier New',monospace\">Initial response:  The user would like to visit highly-rated landmarks, with specific mention of Central Plaza <span style=\"color: #808000; text-decoration-color: #808000\">...</span>\n",
       "</pre>\n"
      ],
      "text/plain": [
       "Initial response:  The user would like to visit highly-rated landmarks, with specific mention of Central Plaza \u001b[33m...\u001b[0m\n"
      ]
     },
     "metadata": {},
     "output_type": "display_data"
    },
    {
     "data": {
      "text/html": [
       "<pre style=\"white-space:pre;overflow-x:auto;line-height:normal;font-family:Menlo,'DejaVu Sans Mono',consolas,'Courier New',monospace\">Features extracted: \n",
       "</pre>\n"
      ],
      "text/plain": [
       "Features extracted: \n"
      ]
     },
     "metadata": {},
     "output_type": "display_data"
    },
    {
     "data": {
      "text/html": [
       "<pre style=\"white-space:pre;overflow-x:auto;line-height:normal;font-family:Menlo,'DejaVu Sans Mono',consolas,'Courier New',monospace\">\n",
       "Stream <span style=\"color: #008080; text-decoration-color: #008080; font-weight: bold\">2</span>:\n",
       "</pre>\n"
      ],
      "text/plain": [
       "\n",
       "Stream \u001b[1;36m2\u001b[0m:\n"
      ]
     },
     "metadata": {},
     "output_type": "display_data"
    },
    {
     "data": {
      "text/html": [
       "<pre style=\"white-space:pre;overflow-x:auto;line-height:normal;font-family:Menlo,'DejaVu Sans Mono',consolas,'Courier New',monospace\">Initial response:  Given that landmarks and two specific places <span style=\"font-weight: bold\">(</span>Central Plaza and The Mall<span style=\"font-weight: bold\">)</span> were specified, an<span style=\"color: #808000; text-decoration-color: #808000\">...</span>\n",
       "</pre>\n"
      ],
      "text/plain": [
       "Initial response:  Given that landmarks and two specific places \u001b[1m(\u001b[0mCentral Plaza and The Mall\u001b[1m)\u001b[0m were specified, an\u001b[33m...\u001b[0m\n"
      ]
     },
     "metadata": {},
     "output_type": "display_data"
    },
    {
     "data": {
      "text/html": [
       "<pre style=\"white-space:pre;overflow-x:auto;line-height:normal;font-family:Menlo,'DejaVu Sans Mono',consolas,'Courier New',monospace\">Features extracted: \n",
       "</pre>\n"
      ],
      "text/plain": [
       "Features extracted: \n"
      ]
     },
     "metadata": {},
     "output_type": "display_data"
    },
    {
     "data": {
      "text/html": [
       "<pre style=\"white-space:pre;overflow-x:auto;line-height:normal;font-family:Menlo,'DejaVu Sans Mono',consolas,'Courier New',monospace\">\n",
       "Stream <span style=\"color: #008080; text-decoration-color: #008080; font-weight: bold\">3</span>:\n",
       "</pre>\n"
      ],
      "text/plain": [
       "\n",
       "Stream \u001b[1;36m3\u001b[0m:\n"
      ]
     },
     "metadata": {},
     "output_type": "display_data"
    },
    {
     "data": {
      "text/html": [
       "<pre style=\"white-space:pre;overflow-x:auto;line-height:normal;font-family:Menlo,'DejaVu Sans Mono',consolas,'Courier New',monospace\">Initial response:  The user provided plenty of useful information. Let me summarize: The user wants to see one <span style=\"color: #808000; text-decoration-color: #808000\">...</span>\n",
       "</pre>\n"
      ],
      "text/plain": [
       "Initial response:  The user provided plenty of useful information. Let me summarize: The user wants to see one \u001b[33m...\u001b[0m\n"
      ]
     },
     "metadata": {},
     "output_type": "display_data"
    },
    {
     "data": {
      "text/html": [
       "<pre style=\"white-space:pre;overflow-x:auto;line-height:normal;font-family:Menlo,'DejaVu Sans Mono',consolas,'Courier New',monospace\">Features extracted: \n",
       "</pre>\n"
      ],
      "text/plain": [
       "Features extracted: \n"
      ]
     },
     "metadata": {},
     "output_type": "display_data"
    }
   ],
   "source": [
    "\n",
    "\n",
    "\n",
    "def initialize_parallel_conversations(agent_3_responses, t):\n",
    "    # Create parallel conversation manager\n",
    "    parallel_convs = ParallelConversations(\n",
    "        num_streams=3,\n",
    "        players=players,\n",
    "        env_ctor=lambda: PlanningEnv(),\n",
    "        env=env,\n",
    "        max_length=35\n",
    "    )\n",
    "    \n",
    "    # Generate initial responses\n",
    "    \n",
    "    # Initialize parallel streams\n",
    "    parallel_convs.initialize_streams(agent_3_responses, t)\n",
    "    \n",
    "    print(\"\\nInitialized parallel conversations:\")\n",
    "    for i, conv in enumerate(parallel_convs.conversations):\n",
    "        state = conv.get_current_state()\n",
    "        print(f\"\\nStream {i+1}:\")\n",
    "        print(f\"Initial response: {agent_3_responses[i][:100]}...\")\n",
    "        print(f\"Features extracted: {state.features}\")\n",
    "        \n",
    "    return parallel_convs\n",
    "\n",
    "# Initialize parallel conversations\n",
    "parallel_convs = initialize_parallel_conversations(agent_3_responses, t)\n",
    "\n"
   ]
  },
  {
   "cell_type": "code",
   "execution_count": 102,
   "metadata": {},
   "outputs": [],
   "source": [
    "def style_judger(parallel_convs):\n",
    "    with open (\"/Users/georgiazhou/research_machine/dialop/dialop/RL/explanation_per_persona.txt\", \"r\") as f:\n",
    "        explanation_per_persona = json.load(f)\n",
    "    user_base_prompt = parallel_convs.c_players['user'].user_prompt_obss\n",
    "    first_you = user_base_prompt.find(\"You:\")\n",
    "    second_you = user_base_prompt.find(\"You:\", first_you + 1)\n",
    "    user_base_prompt = user_base_prompt[second_you:]\n",
    "    prompt = \"You are a communication expert. Please first judge whether the following messages on conform to one of the styles listed. You should only confirm if you are very confident. If you don't think the message conforms to any of the styles, output: {}. If you find one or two that match, output the style(s) that you think it matches as {style : explanation, ...}. Here is conversation history: \" + \"\\n\" + user_base_prompt + \"Here are the styles you should judge against: \" + \"\\n\" + str(explanation_per_persona) + \"Remember you should only output the style(s) that you are very confident about. If you are not very confident about any of the options, output: {}.  \"\n",
    "    response = Agent_tell(prompt)\n",
    "    \n",
    "    return response\n",
    "\n",
    "style_response = style_judger(parallel_convs)"
   ]
  },
  {
   "cell_type": "code",
   "execution_count": 103,
   "metadata": {},
   "outputs": [
    {
     "data": {
      "text/html": [
       "<pre style=\"white-space:pre;overflow-x:auto;line-height:normal;font-family:Menlo,'DejaVu Sans Mono',consolas,'Courier New',monospace\">Response:  <span style=\"font-weight: bold\">[</span>tool<span style=\"font-weight: bold\">]</span> <span style=\"color: #800080; text-decoration-color: #800080; font-weight: bold\">Search</span><span style=\"font-weight: bold\">(</span><span style=\"color: #808000; text-decoration-color: #808000\">fields</span>=<span style=\"font-weight: bold\">[</span><span style=\"color: #008000; text-decoration-color: #008000\">'name'</span>, <span style=\"color: #008000; text-decoration-color: #008000\">'rating'</span><span style=\"font-weight: bold\">]</span>, <span style=\"color: #808000; text-decoration-color: #808000\">filters</span>=<span style=\"font-weight: bold\">[</span><span style=\"color: #008000; text-decoration-color: #008000\">'category == landmark'</span>, <span style=\"color: #008000; text-decoration-color: #008000\">'has parking'</span><span style=\"font-weight: bold\">])</span>\n",
       "</pre>\n"
      ],
      "text/plain": [
       "Response:  \u001b[1m[\u001b[0mtool\u001b[1m]\u001b[0m \u001b[1;35mSearch\u001b[0m\u001b[1m(\u001b[0m\u001b[33mfields\u001b[0m=\u001b[1m[\u001b[0m\u001b[32m'name'\u001b[0m, \u001b[32m'rating'\u001b[0m\u001b[1m]\u001b[0m, \u001b[33mfilters\u001b[0m=\u001b[1m[\u001b[0m\u001b[32m'category == landmark'\u001b[0m, \u001b[32m'has parking'\u001b[0m\u001b[1m]\u001b[0m\u001b[1m)\u001b[0m\n"
      ]
     },
     "metadata": {},
     "output_type": "display_data"
    },
    {
     "data": {
      "text/html": [
       "<pre style=\"white-space:pre;overflow-x:auto;line-height:normal;font-family:Menlo,'DejaVu Sans Mono',consolas,'Courier New',monospace\">stop:  stop\n",
       "</pre>\n"
      ],
      "text/plain": [
       "stop:  stop\n"
      ]
     },
     "metadata": {},
     "output_type": "display_data"
    },
    {
     "data": {
      "text/html": [
       "<pre style=\"white-space:pre;overflow-x:auto;line-height:normal;font-family:Menlo,'DejaVu Sans Mono',consolas,'Courier New',monospace\"><span style=\"color: #800080; text-decoration-color: #800080; font-weight: bold\">CompletionUsage</span><span style=\"font-weight: bold\">(</span>\n",
       "    <span style=\"color: #808000; text-decoration-color: #808000\">completion_tokens</span>=<span style=\"color: #008080; text-decoration-color: #008080; font-weight: bold\">21</span>,\n",
       "    <span style=\"color: #808000; text-decoration-color: #808000\">prompt_tokens</span>=<span style=\"color: #008080; text-decoration-color: #008080; font-weight: bold\">1797</span>,\n",
       "    <span style=\"color: #808000; text-decoration-color: #808000\">total_tokens</span>=<span style=\"color: #008080; text-decoration-color: #008080; font-weight: bold\">1818</span>,\n",
       "    <span style=\"color: #808000; text-decoration-color: #808000\">completion_tokens_details</span>=<span style=\"color: #800080; text-decoration-color: #800080; font-weight: bold\">CompletionTokensDetails</span><span style=\"font-weight: bold\">(</span>\n",
       "        <span style=\"color: #808000; text-decoration-color: #808000\">reasoning_tokens</span>=<span style=\"color: #008080; text-decoration-color: #008080; font-weight: bold\">0</span>,\n",
       "        <span style=\"color: #808000; text-decoration-color: #808000\">accepted_prediction_tokens</span>=<span style=\"color: #008080; text-decoration-color: #008080; font-weight: bold\">0</span>,\n",
       "        <span style=\"color: #808000; text-decoration-color: #808000\">rejected_prediction_tokens</span>=<span style=\"color: #008080; text-decoration-color: #008080; font-weight: bold\">0</span>\n",
       "    <span style=\"font-weight: bold\">)</span>,\n",
       "    <span style=\"color: #808000; text-decoration-color: #808000\">prompt_tokens_details</span>=<span style=\"font-weight: bold\">{</span><span style=\"color: #008000; text-decoration-color: #008000\">'cached_tokens'</span>: <span style=\"color: #008080; text-decoration-color: #008080; font-weight: bold\">0</span><span style=\"font-weight: bold\">}</span>\n",
       "<span style=\"font-weight: bold\">)</span>\n",
       "</pre>\n"
      ],
      "text/plain": [
       "\u001b[1;35mCompletionUsage\u001b[0m\u001b[1m(\u001b[0m\n",
       "    \u001b[33mcompletion_tokens\u001b[0m=\u001b[1;36m21\u001b[0m,\n",
       "    \u001b[33mprompt_tokens\u001b[0m=\u001b[1;36m1797\u001b[0m,\n",
       "    \u001b[33mtotal_tokens\u001b[0m=\u001b[1;36m1818\u001b[0m,\n",
       "    \u001b[33mcompletion_tokens_details\u001b[0m=\u001b[1;35mCompletionTokensDetails\u001b[0m\u001b[1m(\u001b[0m\n",
       "        \u001b[33mreasoning_tokens\u001b[0m=\u001b[1;36m0\u001b[0m,\n",
       "        \u001b[33maccepted_prediction_tokens\u001b[0m=\u001b[1;36m0\u001b[0m,\n",
       "        \u001b[33mrejected_prediction_tokens\u001b[0m=\u001b[1;36m0\u001b[0m\n",
       "    \u001b[1m)\u001b[0m,\n",
       "    \u001b[33mprompt_tokens_details\u001b[0m=\u001b[1m{\u001b[0m\u001b[32m'cached_tokens'\u001b[0m: \u001b[1;36m0\u001b[0m\u001b[1m}\u001b[0m\n",
       "\u001b[1m)\u001b[0m\n"
      ]
     },
     "metadata": {},
     "output_type": "display_data"
    },
    {
     "data": {
      "text/html": [
       "<pre style=\"white-space:pre;overflow-x:auto;line-height:normal;font-family:Menlo,'DejaVu Sans Mono',consolas,'Courier New',monospace\">Response:  <span style=\"font-weight: bold\">[</span>tool<span style=\"font-weight: bold\">]</span> <span style=\"color: #800080; text-decoration-color: #800080; font-weight: bold\">Search</span><span style=\"font-weight: bold\">(</span><span style=\"color: #808000; text-decoration-color: #808000\">fields</span>=<span style=\"font-weight: bold\">[</span>name, info, category<span style=\"font-weight: bold\">]</span>, <span style=\"color: #808000; text-decoration-color: #808000\">filters</span>=<span style=\"font-weight: bold\">[</span><span style=\"color: #808000; text-decoration-color: #808000\">category</span>==landmark, rating &gt;=<span style=\"color: #008080; text-decoration-color: #008080; font-weight: bold\">4</span>, has \n",
       "<span style=\"color: #808000; text-decoration-color: #808000\">parking</span>==<span style=\"color: #00ff00; text-decoration-color: #00ff00; font-style: italic\">True</span><span style=\"font-weight: bold\">]</span>, <span style=\"color: #808000; text-decoration-color: #808000\">sort_by</span>=<span style=\"color: #800080; text-decoration-color: #800080\">rating</span><span style=\"font-weight: bold\">)</span>\n",
       "</pre>\n"
      ],
      "text/plain": [
       "Response:  \u001b[1m[\u001b[0mtool\u001b[1m]\u001b[0m \u001b[1;35mSearch\u001b[0m\u001b[1m(\u001b[0m\u001b[33mfields\u001b[0m=\u001b[1m[\u001b[0mname, info, category\u001b[1m]\u001b[0m, \u001b[33mfilters\u001b[0m=\u001b[1m[\u001b[0m\u001b[33mcategory\u001b[0m==landmark, rating >=\u001b[1;36m4\u001b[0m, has \n",
       "\u001b[33mparking\u001b[0m==\u001b[3;92mTrue\u001b[0m\u001b[1m]\u001b[0m, \u001b[33msort_by\u001b[0m=\u001b[35mrating\u001b[0m\u001b[1m)\u001b[0m\n"
      ]
     },
     "metadata": {},
     "output_type": "display_data"
    },
    {
     "data": {
      "text/html": [
       "<pre style=\"white-space:pre;overflow-x:auto;line-height:normal;font-family:Menlo,'DejaVu Sans Mono',consolas,'Courier New',monospace\">stop:  stop\n",
       "</pre>\n"
      ],
      "text/plain": [
       "stop:  stop\n"
      ]
     },
     "metadata": {},
     "output_type": "display_data"
    },
    {
     "data": {
      "text/html": [
       "<pre style=\"white-space:pre;overflow-x:auto;line-height:normal;font-family:Menlo,'DejaVu Sans Mono',consolas,'Courier New',monospace\"><span style=\"color: #800080; text-decoration-color: #800080; font-weight: bold\">CompletionUsage</span><span style=\"font-weight: bold\">(</span>\n",
       "    <span style=\"color: #808000; text-decoration-color: #808000\">completion_tokens</span>=<span style=\"color: #008080; text-decoration-color: #008080; font-weight: bold\">33</span>,\n",
       "    <span style=\"color: #808000; text-decoration-color: #808000\">prompt_tokens</span>=<span style=\"color: #008080; text-decoration-color: #008080; font-weight: bold\">1781</span>,\n",
       "    <span style=\"color: #808000; text-decoration-color: #808000\">total_tokens</span>=<span style=\"color: #008080; text-decoration-color: #008080; font-weight: bold\">1814</span>,\n",
       "    <span style=\"color: #808000; text-decoration-color: #808000\">completion_tokens_details</span>=<span style=\"color: #800080; text-decoration-color: #800080; font-weight: bold\">CompletionTokensDetails</span><span style=\"font-weight: bold\">(</span>\n",
       "        <span style=\"color: #808000; text-decoration-color: #808000\">reasoning_tokens</span>=<span style=\"color: #008080; text-decoration-color: #008080; font-weight: bold\">0</span>,\n",
       "        <span style=\"color: #808000; text-decoration-color: #808000\">accepted_prediction_tokens</span>=<span style=\"color: #008080; text-decoration-color: #008080; font-weight: bold\">0</span>,\n",
       "        <span style=\"color: #808000; text-decoration-color: #808000\">rejected_prediction_tokens</span>=<span style=\"color: #008080; text-decoration-color: #008080; font-weight: bold\">0</span>\n",
       "    <span style=\"font-weight: bold\">)</span>,\n",
       "    <span style=\"color: #808000; text-decoration-color: #808000\">prompt_tokens_details</span>=<span style=\"font-weight: bold\">{</span><span style=\"color: #008000; text-decoration-color: #008000\">'cached_tokens'</span>: <span style=\"color: #008080; text-decoration-color: #008080; font-weight: bold\">0</span><span style=\"font-weight: bold\">}</span>\n",
       "<span style=\"font-weight: bold\">)</span>\n",
       "</pre>\n"
      ],
      "text/plain": [
       "\u001b[1;35mCompletionUsage\u001b[0m\u001b[1m(\u001b[0m\n",
       "    \u001b[33mcompletion_tokens\u001b[0m=\u001b[1;36m33\u001b[0m,\n",
       "    \u001b[33mprompt_tokens\u001b[0m=\u001b[1;36m1781\u001b[0m,\n",
       "    \u001b[33mtotal_tokens\u001b[0m=\u001b[1;36m1814\u001b[0m,\n",
       "    \u001b[33mcompletion_tokens_details\u001b[0m=\u001b[1;35mCompletionTokensDetails\u001b[0m\u001b[1m(\u001b[0m\n",
       "        \u001b[33mreasoning_tokens\u001b[0m=\u001b[1;36m0\u001b[0m,\n",
       "        \u001b[33maccepted_prediction_tokens\u001b[0m=\u001b[1;36m0\u001b[0m,\n",
       "        \u001b[33mrejected_prediction_tokens\u001b[0m=\u001b[1;36m0\u001b[0m\n",
       "    \u001b[1m)\u001b[0m,\n",
       "    \u001b[33mprompt_tokens_details\u001b[0m=\u001b[1m{\u001b[0m\u001b[32m'cached_tokens'\u001b[0m: \u001b[1;36m0\u001b[0m\u001b[1m}\u001b[0m\n",
       "\u001b[1m)\u001b[0m\n"
      ]
     },
     "metadata": {},
     "output_type": "display_data"
    },
    {
     "data": {
      "text/html": [
       "<pre style=\"white-space:pre;overflow-x:auto;line-height:normal;font-family:Menlo,'DejaVu Sans Mono',consolas,'Courier New',monospace\">Response:  <span style=\"font-weight: bold\">[</span>tool<span style=\"font-weight: bold\">]</span> <span style=\"color: #800080; text-decoration-color: #800080; font-weight: bold\">Search</span><span style=\"font-weight: bold\">(</span><span style=\"color: #808000; text-decoration-color: #808000\">fields</span>=<span style=\"font-weight: bold\">[</span>name<span style=\"font-weight: bold\">]</span>, <span style=\"color: #808000; text-decoration-color: #808000\">text_query</span>=<span style=\"color: #800080; text-decoration-color: #800080\">landmark</span> with good rating<span style=\"font-weight: bold\">)</span>\n",
       "</pre>\n"
      ],
      "text/plain": [
       "Response:  \u001b[1m[\u001b[0mtool\u001b[1m]\u001b[0m \u001b[1;35mSearch\u001b[0m\u001b[1m(\u001b[0m\u001b[33mfields\u001b[0m=\u001b[1m[\u001b[0mname\u001b[1m]\u001b[0m, \u001b[33mtext_query\u001b[0m=\u001b[35mlandmark\u001b[0m with good rating\u001b[1m)\u001b[0m\n"
      ]
     },
     "metadata": {},
     "output_type": "display_data"
    },
    {
     "data": {
      "text/html": [
       "<pre style=\"white-space:pre;overflow-x:auto;line-height:normal;font-family:Menlo,'DejaVu Sans Mono',consolas,'Courier New',monospace\">stop:  stop\n",
       "</pre>\n"
      ],
      "text/plain": [
       "stop:  stop\n"
      ]
     },
     "metadata": {},
     "output_type": "display_data"
    },
    {
     "data": {
      "text/html": [
       "<pre style=\"white-space:pre;overflow-x:auto;line-height:normal;font-family:Menlo,'DejaVu Sans Mono',consolas,'Courier New',monospace\"><span style=\"color: #800080; text-decoration-color: #800080; font-weight: bold\">CompletionUsage</span><span style=\"font-weight: bold\">(</span>\n",
       "    <span style=\"color: #808000; text-decoration-color: #808000\">completion_tokens</span>=<span style=\"color: #008080; text-decoration-color: #008080; font-weight: bold\">17</span>,\n",
       "    <span style=\"color: #808000; text-decoration-color: #808000\">prompt_tokens</span>=<span style=\"color: #008080; text-decoration-color: #008080; font-weight: bold\">1801</span>,\n",
       "    <span style=\"color: #808000; text-decoration-color: #808000\">total_tokens</span>=<span style=\"color: #008080; text-decoration-color: #008080; font-weight: bold\">1818</span>,\n",
       "    <span style=\"color: #808000; text-decoration-color: #808000\">completion_tokens_details</span>=<span style=\"color: #800080; text-decoration-color: #800080; font-weight: bold\">CompletionTokensDetails</span><span style=\"font-weight: bold\">(</span>\n",
       "        <span style=\"color: #808000; text-decoration-color: #808000\">reasoning_tokens</span>=<span style=\"color: #008080; text-decoration-color: #008080; font-weight: bold\">0</span>,\n",
       "        <span style=\"color: #808000; text-decoration-color: #808000\">accepted_prediction_tokens</span>=<span style=\"color: #008080; text-decoration-color: #008080; font-weight: bold\">0</span>,\n",
       "        <span style=\"color: #808000; text-decoration-color: #808000\">rejected_prediction_tokens</span>=<span style=\"color: #008080; text-decoration-color: #008080; font-weight: bold\">0</span>\n",
       "    <span style=\"font-weight: bold\">)</span>,\n",
       "    <span style=\"color: #808000; text-decoration-color: #808000\">prompt_tokens_details</span>=<span style=\"font-weight: bold\">{</span><span style=\"color: #008000; text-decoration-color: #008000\">'cached_tokens'</span>: <span style=\"color: #008080; text-decoration-color: #008080; font-weight: bold\">0</span><span style=\"font-weight: bold\">}</span>\n",
       "<span style=\"font-weight: bold\">)</span>\n",
       "</pre>\n"
      ],
      "text/plain": [
       "\u001b[1;35mCompletionUsage\u001b[0m\u001b[1m(\u001b[0m\n",
       "    \u001b[33mcompletion_tokens\u001b[0m=\u001b[1;36m17\u001b[0m,\n",
       "    \u001b[33mprompt_tokens\u001b[0m=\u001b[1;36m1801\u001b[0m,\n",
       "    \u001b[33mtotal_tokens\u001b[0m=\u001b[1;36m1818\u001b[0m,\n",
       "    \u001b[33mcompletion_tokens_details\u001b[0m=\u001b[1;35mCompletionTokensDetails\u001b[0m\u001b[1m(\u001b[0m\n",
       "        \u001b[33mreasoning_tokens\u001b[0m=\u001b[1;36m0\u001b[0m,\n",
       "        \u001b[33maccepted_prediction_tokens\u001b[0m=\u001b[1;36m0\u001b[0m,\n",
       "        \u001b[33mrejected_prediction_tokens\u001b[0m=\u001b[1;36m0\u001b[0m\n",
       "    \u001b[1m)\u001b[0m,\n",
       "    \u001b[33mprompt_tokens_details\u001b[0m=\u001b[1m{\u001b[0m\u001b[32m'cached_tokens'\u001b[0m: \u001b[1;36m0\u001b[0m\u001b[1m}\u001b[0m\n",
       "\u001b[1m)\u001b[0m\n"
      ]
     },
     "metadata": {},
     "output_type": "display_data"
    },
    {
     "data": {
      "text/html": [
       "<pre style=\"white-space:pre;overflow-x:auto;line-height:normal;font-family:Menlo,'DejaVu Sans Mono',consolas,'Courier New',monospace\">\n",
       "Stepping conversations:\n",
       "<span style=\"font-weight: bold\">{</span>\n",
       "    <span style=\"color: #008080; text-decoration-color: #008080; font-weight: bold\">0</span>: <span style=\"color: #008000; text-decoration-color: #008000\">\"[tool] Search(fields=['name', 'rating'], filters=['category == landmark', 'has parking'])\"</span>,\n",
       "    <span style=\"color: #008080; text-decoration-color: #008080; font-weight: bold\">1</span>: <span style=\"color: #008000; text-decoration-color: #008000\">'[tool] Search(fields=[name, info, category], filters=[category==landmark, rating &gt;=4, has parking==True], </span>\n",
       "<span style=\"color: #008000; text-decoration-color: #008000\">sort_by=rating)'</span>,\n",
       "    <span style=\"color: #008080; text-decoration-color: #008080; font-weight: bold\">2</span>: <span style=\"color: #008000; text-decoration-color: #008000\">'[tool] Search(fields=[name], text_query=landmark with good rating)'</span>\n",
       "<span style=\"font-weight: bold\">}</span>\n",
       "</pre>\n"
      ],
      "text/plain": [
       "\n",
       "Stepping conversations:\n",
       "\u001b[1m{\u001b[0m\n",
       "    \u001b[1;36m0\u001b[0m: \u001b[32m\"\u001b[0m\u001b[32m[\u001b[0m\u001b[32mtool\u001b[0m\u001b[32m]\u001b[0m\u001b[32m Search\u001b[0m\u001b[32m(\u001b[0m\u001b[32mfields\u001b[0m\u001b[32m=\u001b[0m\u001b[32m[\u001b[0m\u001b[32m'name', 'rating'\u001b[0m\u001b[32m]\u001b[0m\u001b[32m, \u001b[0m\u001b[32mfilters\u001b[0m\u001b[32m=\u001b[0m\u001b[32m[\u001b[0m\u001b[32m'category == landmark', 'has parking'\u001b[0m\u001b[32m]\u001b[0m\u001b[32m)\u001b[0m\u001b[32m\"\u001b[0m,\n",
       "    \u001b[1;36m1\u001b[0m: \u001b[32m'\u001b[0m\u001b[32m[\u001b[0m\u001b[32mtool\u001b[0m\u001b[32m]\u001b[0m\u001b[32m Search\u001b[0m\u001b[32m(\u001b[0m\u001b[32mfields\u001b[0m\u001b[32m=\u001b[0m\u001b[32m[\u001b[0m\u001b[32mname, info, category\u001b[0m\u001b[32m]\u001b[0m\u001b[32m, \u001b[0m\u001b[32mfilters\u001b[0m\u001b[32m=\u001b[0m\u001b[32m[\u001b[0m\u001b[32mcategory\u001b[0m\u001b[32m==landmark, rating >=4, has \u001b[0m\u001b[32mparking\u001b[0m\u001b[32m==True\u001b[0m\u001b[32m]\u001b[0m\u001b[32m, \u001b[0m\n",
       "\u001b[32msort_by\u001b[0m\u001b[32m=\u001b[0m\u001b[32mrating\u001b[0m\u001b[32m)\u001b[0m\u001b[32m'\u001b[0m,\n",
       "    \u001b[1;36m2\u001b[0m: \u001b[32m'\u001b[0m\u001b[32m[\u001b[0m\u001b[32mtool\u001b[0m\u001b[32m]\u001b[0m\u001b[32m Search\u001b[0m\u001b[32m(\u001b[0m\u001b[32mfields\u001b[0m\u001b[32m=\u001b[0m\u001b[32m[\u001b[0m\u001b[32mname\u001b[0m\u001b[32m]\u001b[0m\u001b[32m, \u001b[0m\u001b[32mtext_query\u001b[0m\u001b[32m=\u001b[0m\u001b[32mlandmark\u001b[0m\u001b[32m with good rating\u001b[0m\u001b[32m)\u001b[0m\u001b[32m'\u001b[0m\n",
       "\u001b[1m}\u001b[0m\n"
      ]
     },
     "metadata": {},
     "output_type": "display_data"
    },
    {
     "data": {
      "text/html": [
       "<pre style=\"white-space:pre;overflow-x:auto;line-height:normal;font-family:Menlo,'DejaVu Sans Mono',consolas,'Courier New',monospace\">\n",
       "Conversation <span style=\"color: #008080; text-decoration-color: #008080; font-weight: bold\">0</span> response:\n",
       " <span style=\"color: #800080; text-decoration-color: #800080; font-weight: bold\">Search</span><span style=\"font-weight: bold\">(</span><span style=\"color: #808000; text-decoration-color: #808000\">fields</span>=<span style=\"font-weight: bold\">[</span><span style=\"color: #008000; text-decoration-color: #008000\">'name'</span>, <span style=\"color: #008000; text-decoration-color: #008000\">'rating'</span><span style=\"font-weight: bold\">]</span>, <span style=\"color: #808000; text-decoration-color: #808000\">filters</span>=<span style=\"font-weight: bold\">[</span><span style=\"color: #008000; text-decoration-color: #008000\">'category == landmark'</span>, <span style=\"color: #008000; text-decoration-color: #008000\">'has parking'</span><span style=\"font-weight: bold\">])</span><span style=\"color: #808000; text-decoration-color: #808000\">...</span>\n",
       "</pre>\n"
      ],
      "text/plain": [
       "\n",
       "Conversation \u001b[1;36m0\u001b[0m response:\n",
       " \u001b[1;35mSearch\u001b[0m\u001b[1m(\u001b[0m\u001b[33mfields\u001b[0m=\u001b[1m[\u001b[0m\u001b[32m'name'\u001b[0m, \u001b[32m'rating'\u001b[0m\u001b[1m]\u001b[0m, \u001b[33mfilters\u001b[0m=\u001b[1m[\u001b[0m\u001b[32m'category == landmark'\u001b[0m, \u001b[32m'has parking'\u001b[0m\u001b[1m]\u001b[0m\u001b[1m)\u001b[0m\u001b[33m...\u001b[0m\n"
      ]
     },
     "metadata": {},
     "output_type": "display_data"
    },
    {
     "data": {
      "text/html": [
       "<pre style=\"white-space:pre;overflow-x:auto;line-height:normal;font-family:Menlo,'DejaVu Sans Mono',consolas,'Courier New',monospace\"> <span style=\"color: #800080; text-decoration-color: #800080; font-weight: bold\">Search</span><span style=\"font-weight: bold\">(</span><span style=\"color: #808000; text-decoration-color: #808000\">fields</span>=<span style=\"font-weight: bold\">[</span><span style=\"color: #008000; text-decoration-color: #008000\">'name'</span>, <span style=\"color: #008000; text-decoration-color: #008000\">'rating'</span><span style=\"font-weight: bold\">]</span>, <span style=\"color: #808000; text-decoration-color: #808000\">filters</span>=<span style=\"font-weight: bold\">[</span><span style=\"color: #008000; text-decoration-color: #008000\">'category == landmark'</span>, <span style=\"color: #008000; text-decoration-color: #008000\">'has parking'</span><span style=\"font-weight: bold\">])</span>\n",
       "</pre>\n"
      ],
      "text/plain": [
       " \u001b[1;35mSearch\u001b[0m\u001b[1m(\u001b[0m\u001b[33mfields\u001b[0m=\u001b[1m[\u001b[0m\u001b[32m'name'\u001b[0m, \u001b[32m'rating'\u001b[0m\u001b[1m]\u001b[0m, \u001b[33mfilters\u001b[0m=\u001b[1m[\u001b[0m\u001b[32m'category == landmark'\u001b[0m, \u001b[32m'has parking'\u001b[0m\u001b[1m]\u001b[0m\u001b[1m)\u001b[0m\n"
      ]
     },
     "metadata": {},
     "output_type": "display_data"
    },
    {
     "name": "stdout",
     "output_type": "stream",
     "text": [
      "ChatCompletion(id='chatcmpl-AQ672Yg7EyyherQLvADkoN5osViir', choices=[Choice(finish_reason='stop', index=0, logprobs=None, message=ChatCompletionMessage(content='Search Results (1):\\n- **name**: The Tower\\n- **rating**: 4.5', refusal=None, role='assistant', function_call=None, tool_calls=None))], created=1730783388, model='gpt-4o-2024-08-06', object='chat.completion', service_tier=None, system_fingerprint='fp_159d8341cc', usage=CompletionUsage(completion_tokens=22, prompt_tokens=3232, total_tokens=3254, completion_tokens_details=CompletionTokensDetails(reasoning_tokens=0, accepted_prediction_tokens=0, rejected_prediction_tokens=0), prompt_tokens_details={'cached_tokens': 0}))\n",
      "{'user': '', 'agent': \"[tool] Search(fields=['name', 'rating'], filters=['category == landmark', 'has parking'])\\nSearch Results (1):\\n- **name**: The Tower\\n- **rating**: 4.5\", 'turn_player': 'agent', 'done': False, 'reward': 0, 'info': {'num_msgs': 1}}\n"
     ]
    },
    {
     "data": {
      "text/html": [
       "<pre style=\"white-space:pre;overflow-x:auto;line-height:normal;font-family:Menlo,'DejaVu Sans Mono',consolas,'Courier New',monospace\">\n",
       "Conversation <span style=\"color: #008080; text-decoration-color: #008080; font-weight: bold\">1</span> response:\n",
       " <span style=\"color: #800080; text-decoration-color: #800080; font-weight: bold\">Search</span><span style=\"font-weight: bold\">(</span><span style=\"color: #808000; text-decoration-color: #808000\">fields</span>=, <span style=\"color: #808000; text-decoration-color: #808000\">filters</span>=<span style=\"font-weight: bold\">[</span><span style=\"color: #808000; text-decoration-color: #808000\">category</span>==landmark, rating &gt;=<span style=\"color: #008080; text-decoration-color: #008080; font-weight: bold\">4</span>, has <span style=\"color: #808000; text-decoration-color: #808000\">parking</span>==T<span style=\"color: #808000; text-decoration-color: #808000\">...</span>\n",
       "</pre>\n"
      ],
      "text/plain": [
       "\n",
       "Conversation \u001b[1;36m1\u001b[0m response:\n",
       " \u001b[1;35mSearch\u001b[0m\u001b[1m(\u001b[0m\u001b[33mfields\u001b[0m=, \u001b[33mfilters\u001b[0m=\u001b[1m[\u001b[0m\u001b[33mcategory\u001b[0m==landmark, rating >=\u001b[1;36m4\u001b[0m, has \u001b[33mparking\u001b[0m==T\u001b[33m...\u001b[0m\n"
      ]
     },
     "metadata": {},
     "output_type": "display_data"
    },
    {
     "data": {
      "text/html": [
       "<pre style=\"white-space:pre;overflow-x:auto;line-height:normal;font-family:Menlo,'DejaVu Sans Mono',consolas,'Courier New',monospace\"> <span style=\"color: #800080; text-decoration-color: #800080; font-weight: bold\">Search</span><span style=\"font-weight: bold\">(</span><span style=\"color: #808000; text-decoration-color: #808000\">fields</span>=, <span style=\"color: #808000; text-decoration-color: #808000\">filters</span>=, <span style=\"color: #808000; text-decoration-color: #808000\">sort_by</span>=<span style=\"color: #800080; text-decoration-color: #800080\">rating</span><span style=\"font-weight: bold\">)</span>\n",
       "</pre>\n"
      ],
      "text/plain": [
       " \u001b[1;35mSearch\u001b[0m\u001b[1m(\u001b[0m\u001b[33mfields\u001b[0m=, \u001b[33mfilters\u001b[0m=, \u001b[33msort_by\u001b[0m=\u001b[35mrating\u001b[0m\u001b[1m)\u001b[0m\n"
      ]
     },
     "metadata": {},
     "output_type": "display_data"
    },
    {
     "name": "stdout",
     "output_type": "stream",
     "text": [
      "ChatCompletion(id='chatcmpl-AQ6731nPn77RWgFkvmMzWW9FlvcVO', choices=[Choice(finish_reason='stop', index=0, logprobs=None, message=ChatCompletionMessage(content='Search Results (1):\\n- **Name:** The Tower\\n- **Info:** Good for groups, not good for kids, open late: False, touristy: True\\n- **Category:** Landmark', refusal=None, role='assistant', function_call=None, tool_calls=None))], created=1730783389, model='gpt-4o-2024-08-06', object='chat.completion', service_tier=None, system_fingerprint='fp_159d8341cc', usage=CompletionUsage(completion_tokens=40, prompt_tokens=3244, total_tokens=3284, completion_tokens_details=CompletionTokensDetails(reasoning_tokens=0, accepted_prediction_tokens=0, rejected_prediction_tokens=0), prompt_tokens_details={'cached_tokens': 3072}))\n",
      "{'user': '', 'agent': '[tool] Search(fields=[name, info, category], filters=[category==landmark, rating >=4, has parking==True], sort_by=rating)\\nSearch Results (1):\\n- **Name:** The Tower\\n- **Info:** Good for groups, not good for kids, open late: False, touristy: True\\n- **Category:** Landmark', 'turn_player': 'agent', 'done': False, 'reward': 0, 'info': {'num_msgs': 1}}\n"
     ]
    },
    {
     "data": {
      "text/html": [
       "<pre style=\"white-space:pre;overflow-x:auto;line-height:normal;font-family:Menlo,'DejaVu Sans Mono',consolas,'Courier New',monospace\">\n",
       "Conversation <span style=\"color: #008080; text-decoration-color: #008080; font-weight: bold\">2</span> response:\n",
       " <span style=\"color: #800080; text-decoration-color: #800080; font-weight: bold\">Search</span><span style=\"font-weight: bold\">(</span><span style=\"color: #808000; text-decoration-color: #808000\">fields</span>=, <span style=\"color: #808000; text-decoration-color: #808000\">text_query</span>=<span style=\"color: #800080; text-decoration-color: #800080\">landmark</span> with good rating<span style=\"font-weight: bold\">)</span><span style=\"color: #808000; text-decoration-color: #808000\">...</span>\n",
       "</pre>\n"
      ],
      "text/plain": [
       "\n",
       "Conversation \u001b[1;36m2\u001b[0m response:\n",
       " \u001b[1;35mSearch\u001b[0m\u001b[1m(\u001b[0m\u001b[33mfields\u001b[0m=, \u001b[33mtext_query\u001b[0m=\u001b[35mlandmark\u001b[0m with good rating\u001b[1m)\u001b[0m\u001b[33m...\u001b[0m\n"
      ]
     },
     "metadata": {},
     "output_type": "display_data"
    },
    {
     "data": {
      "text/html": [
       "<pre style=\"white-space:pre;overflow-x:auto;line-height:normal;font-family:Menlo,'DejaVu Sans Mono',consolas,'Courier New',monospace\"> <span style=\"color: #800080; text-decoration-color: #800080; font-weight: bold\">Search</span><span style=\"font-weight: bold\">(</span><span style=\"color: #808000; text-decoration-color: #808000\">fields</span>=, <span style=\"color: #808000; text-decoration-color: #808000\">text_query</span>=<span style=\"color: #800080; text-decoration-color: #800080\">landmark</span> with good rating<span style=\"font-weight: bold\">)</span>\n",
       "</pre>\n"
      ],
      "text/plain": [
       " \u001b[1;35mSearch\u001b[0m\u001b[1m(\u001b[0m\u001b[33mfields\u001b[0m=, \u001b[33mtext_query\u001b[0m=\u001b[35mlandmark\u001b[0m with good rating\u001b[1m)\u001b[0m\n"
      ]
     },
     "metadata": {},
     "output_type": "display_data"
    },
    {
     "name": "stdout",
     "output_type": "stream",
     "text": [
      "ChatCompletion(id='chatcmpl-AQ673Yu8IsYyRfaGVV8xGfY0IPneO', choices=[Choice(finish_reason='stop', index=0, logprobs=None, message=ChatCompletionMessage(content='Search Results (2):\\nname\\nHindenberg Memorial\\nThe Tower', refusal=None, role='assistant', function_call=None, tool_calls=None))], created=1730783389, model='gpt-4o-2024-08-06', object='chat.completion', service_tier=None, system_fingerprint='fp_159d8341cc', usage=CompletionUsage(completion_tokens=14, prompt_tokens=3228, total_tokens=3242, completion_tokens_details=CompletionTokensDetails(reasoning_tokens=0, accepted_prediction_tokens=0, rejected_prediction_tokens=0), prompt_tokens_details={'cached_tokens': 3072}))\n",
      "{'user': '', 'agent': '[tool] Search(fields=[name], text_query=landmark with good rating)\\nSearch Results (2):\\nname\\nHindenberg Memorial\\nThe Tower', 'turn_player': 'agent', 'done': False, 'reward': 0, 'info': {'num_msgs': 1}}\n"
     ]
    },
    {
     "data": {
      "text/html": [
       "<pre style=\"white-space:pre;overflow-x:auto;line-height:normal;font-family:Menlo,'DejaVu Sans Mono',consolas,'Courier New',monospace\">Response:  <span style=\"font-weight: bold\">[</span>message<span style=\"font-weight: bold\">]</span> It looks like <span style=\"color: #008000; text-decoration-color: #008000\">\"The Tower\"</span> could be a good fit for a high-rated landmark that includes parking \n",
       "facilities. Is there a preferred sequence for visiting these locations, or are you flexible on that front?\n",
       "</pre>\n"
      ],
      "text/plain": [
       "Response:  \u001b[1m[\u001b[0mmessage\u001b[1m]\u001b[0m It looks like \u001b[32m\"The Tower\"\u001b[0m could be a good fit for a high-rated landmark that includes parking \n",
       "facilities. Is there a preferred sequence for visiting these locations, or are you flexible on that front?\n"
      ]
     },
     "metadata": {},
     "output_type": "display_data"
    },
    {
     "data": {
      "text/html": [
       "<pre style=\"white-space:pre;overflow-x:auto;line-height:normal;font-family:Menlo,'DejaVu Sans Mono',consolas,'Courier New',monospace\">stop:  stop\n",
       "</pre>\n"
      ],
      "text/plain": [
       "stop:  stop\n"
      ]
     },
     "metadata": {},
     "output_type": "display_data"
    },
    {
     "data": {
      "text/html": [
       "<pre style=\"white-space:pre;overflow-x:auto;line-height:normal;font-family:Menlo,'DejaVu Sans Mono',consolas,'Courier New',monospace\"><span style=\"color: #800080; text-decoration-color: #800080; font-weight: bold\">CompletionUsage</span><span style=\"font-weight: bold\">(</span>\n",
       "    <span style=\"color: #808000; text-decoration-color: #808000\">completion_tokens</span>=<span style=\"color: #008080; text-decoration-color: #008080; font-weight: bold\">43</span>,\n",
       "    <span style=\"color: #808000; text-decoration-color: #808000\">prompt_tokens</span>=<span style=\"color: #008080; text-decoration-color: #008080; font-weight: bold\">1838</span>,\n",
       "    <span style=\"color: #808000; text-decoration-color: #808000\">total_tokens</span>=<span style=\"color: #008080; text-decoration-color: #008080; font-weight: bold\">1881</span>,\n",
       "    <span style=\"color: #808000; text-decoration-color: #808000\">completion_tokens_details</span>=<span style=\"color: #800080; text-decoration-color: #800080; font-weight: bold\">CompletionTokensDetails</span><span style=\"font-weight: bold\">(</span>\n",
       "        <span style=\"color: #808000; text-decoration-color: #808000\">reasoning_tokens</span>=<span style=\"color: #008080; text-decoration-color: #008080; font-weight: bold\">0</span>,\n",
       "        <span style=\"color: #808000; text-decoration-color: #808000\">accepted_prediction_tokens</span>=<span style=\"color: #008080; text-decoration-color: #008080; font-weight: bold\">0</span>,\n",
       "        <span style=\"color: #808000; text-decoration-color: #808000\">rejected_prediction_tokens</span>=<span style=\"color: #008080; text-decoration-color: #008080; font-weight: bold\">0</span>\n",
       "    <span style=\"font-weight: bold\">)</span>,\n",
       "    <span style=\"color: #808000; text-decoration-color: #808000\">prompt_tokens_details</span>=<span style=\"font-weight: bold\">{</span><span style=\"color: #008000; text-decoration-color: #008000\">'cached_tokens'</span>: <span style=\"color: #008080; text-decoration-color: #008080; font-weight: bold\">0</span><span style=\"font-weight: bold\">}</span>\n",
       "<span style=\"font-weight: bold\">)</span>\n",
       "</pre>\n"
      ],
      "text/plain": [
       "\u001b[1;35mCompletionUsage\u001b[0m\u001b[1m(\u001b[0m\n",
       "    \u001b[33mcompletion_tokens\u001b[0m=\u001b[1;36m43\u001b[0m,\n",
       "    \u001b[33mprompt_tokens\u001b[0m=\u001b[1;36m1838\u001b[0m,\n",
       "    \u001b[33mtotal_tokens\u001b[0m=\u001b[1;36m1881\u001b[0m,\n",
       "    \u001b[33mcompletion_tokens_details\u001b[0m=\u001b[1;35mCompletionTokensDetails\u001b[0m\u001b[1m(\u001b[0m\n",
       "        \u001b[33mreasoning_tokens\u001b[0m=\u001b[1;36m0\u001b[0m,\n",
       "        \u001b[33maccepted_prediction_tokens\u001b[0m=\u001b[1;36m0\u001b[0m,\n",
       "        \u001b[33mrejected_prediction_tokens\u001b[0m=\u001b[1;36m0\u001b[0m\n",
       "    \u001b[1m)\u001b[0m,\n",
       "    \u001b[33mprompt_tokens_details\u001b[0m=\u001b[1m{\u001b[0m\u001b[32m'cached_tokens'\u001b[0m: \u001b[1;36m0\u001b[0m\u001b[1m}\u001b[0m\n",
       "\u001b[1m)\u001b[0m\n"
      ]
     },
     "metadata": {},
     "output_type": "display_data"
    },
    {
     "data": {
      "text/html": [
       "<pre style=\"white-space:pre;overflow-x:auto;line-height:normal;font-family:Menlo,'DejaVu Sans Mono',consolas,'Courier New',monospace\">Response:  <span style=\"font-weight: bold\">[</span>message<span style=\"font-weight: bold\">]</span> I have found a landmark, The Tower, that fulfills all your requirements: high rating and \n",
       "parking facility. This should be of interest to you. Moving on to Central Plaza and The Mall.\n",
       "</pre>\n"
      ],
      "text/plain": [
       "Response:  \u001b[1m[\u001b[0mmessage\u001b[1m]\u001b[0m I have found a landmark, The Tower, that fulfills all your requirements: high rating and \n",
       "parking facility. This should be of interest to you. Moving on to Central Plaza and The Mall.\n"
      ]
     },
     "metadata": {},
     "output_type": "display_data"
    },
    {
     "data": {
      "text/html": [
       "<pre style=\"white-space:pre;overflow-x:auto;line-height:normal;font-family:Menlo,'DejaVu Sans Mono',consolas,'Courier New',monospace\">stop:  stop\n",
       "</pre>\n"
      ],
      "text/plain": [
       "stop:  stop\n"
      ]
     },
     "metadata": {},
     "output_type": "display_data"
    },
    {
     "data": {
      "text/html": [
       "<pre style=\"white-space:pre;overflow-x:auto;line-height:normal;font-family:Menlo,'DejaVu Sans Mono',consolas,'Courier New',monospace\"><span style=\"color: #800080; text-decoration-color: #800080; font-weight: bold\">CompletionUsage</span><span style=\"font-weight: bold\">(</span>\n",
       "    <span style=\"color: #808000; text-decoration-color: #808000\">completion_tokens</span>=<span style=\"color: #008080; text-decoration-color: #008080; font-weight: bold\">42</span>,\n",
       "    <span style=\"color: #808000; text-decoration-color: #808000\">prompt_tokens</span>=<span style=\"color: #008080; text-decoration-color: #008080; font-weight: bold\">1855</span>,\n",
       "    <span style=\"color: #808000; text-decoration-color: #808000\">total_tokens</span>=<span style=\"color: #008080; text-decoration-color: #008080; font-weight: bold\">1897</span>,\n",
       "    <span style=\"color: #808000; text-decoration-color: #808000\">completion_tokens_details</span>=<span style=\"color: #800080; text-decoration-color: #800080; font-weight: bold\">CompletionTokensDetails</span><span style=\"font-weight: bold\">(</span><span style=\"color: #808000; text-decoration-color: #808000\">reasoning_tokens</span>=<span style=\"color: #008080; text-decoration-color: #008080; font-weight: bold\">0</span><span style=\"font-weight: bold\">)</span>,\n",
       "    <span style=\"color: #808000; text-decoration-color: #808000\">prompt_tokens_details</span>=<span style=\"font-weight: bold\">{</span><span style=\"color: #008000; text-decoration-color: #008000\">'cached_tokens'</span>: <span style=\"color: #008080; text-decoration-color: #008080; font-weight: bold\">0</span><span style=\"font-weight: bold\">}</span>\n",
       "<span style=\"font-weight: bold\">)</span>\n",
       "</pre>\n"
      ],
      "text/plain": [
       "\u001b[1;35mCompletionUsage\u001b[0m\u001b[1m(\u001b[0m\n",
       "    \u001b[33mcompletion_tokens\u001b[0m=\u001b[1;36m42\u001b[0m,\n",
       "    \u001b[33mprompt_tokens\u001b[0m=\u001b[1;36m1855\u001b[0m,\n",
       "    \u001b[33mtotal_tokens\u001b[0m=\u001b[1;36m1897\u001b[0m,\n",
       "    \u001b[33mcompletion_tokens_details\u001b[0m=\u001b[1;35mCompletionTokensDetails\u001b[0m\u001b[1m(\u001b[0m\u001b[33mreasoning_tokens\u001b[0m=\u001b[1;36m0\u001b[0m\u001b[1m)\u001b[0m,\n",
       "    \u001b[33mprompt_tokens_details\u001b[0m=\u001b[1m{\u001b[0m\u001b[32m'cached_tokens'\u001b[0m: \u001b[1;36m0\u001b[0m\u001b[1m}\u001b[0m\n",
       "\u001b[1m)\u001b[0m\n"
      ]
     },
     "metadata": {},
     "output_type": "display_data"
    },
    {
     "data": {
      "text/html": [
       "<pre style=\"white-space:pre;overflow-x:auto;line-height:normal;font-family:Menlo,'DejaVu Sans Mono',consolas,'Courier New',monospace\">Response:  <span style=\"font-weight: bold\">[</span>tool<span style=\"font-weight: bold\">]</span> <span style=\"color: #800080; text-decoration-color: #800080; font-weight: bold\">Search</span><span style=\"font-weight: bold\">(</span><span style=\"color: #808000; text-decoration-color: #808000\">fields</span>=<span style=\"font-weight: bold\">[</span>name<span style=\"font-weight: bold\">]</span>, <span style=\"color: #808000; text-decoration-color: #808000\">text_query</span>=<span style=\"color: #800080; text-decoration-color: #800080\">parking</span><span style=\"font-weight: bold\">)</span>\n",
       "</pre>\n"
      ],
      "text/plain": [
       "Response:  \u001b[1m[\u001b[0mtool\u001b[1m]\u001b[0m \u001b[1;35mSearch\u001b[0m\u001b[1m(\u001b[0m\u001b[33mfields\u001b[0m=\u001b[1m[\u001b[0mname\u001b[1m]\u001b[0m, \u001b[33mtext_query\u001b[0m=\u001b[35mparking\u001b[0m\u001b[1m)\u001b[0m\n"
      ]
     },
     "metadata": {},
     "output_type": "display_data"
    },
    {
     "data": {
      "text/html": [
       "<pre style=\"white-space:pre;overflow-x:auto;line-height:normal;font-family:Menlo,'DejaVu Sans Mono',consolas,'Courier New',monospace\">stop:  stop\n",
       "</pre>\n"
      ],
      "text/plain": [
       "stop:  stop\n"
      ]
     },
     "metadata": {},
     "output_type": "display_data"
    },
    {
     "data": {
      "text/html": [
       "<pre style=\"white-space:pre;overflow-x:auto;line-height:normal;font-family:Menlo,'DejaVu Sans Mono',consolas,'Courier New',monospace\"><span style=\"color: #800080; text-decoration-color: #800080; font-weight: bold\">CompletionUsage</span><span style=\"font-weight: bold\">(</span>\n",
       "    <span style=\"color: #808000; text-decoration-color: #808000\">completion_tokens</span>=<span style=\"color: #008080; text-decoration-color: #008080; font-weight: bold\">13</span>,\n",
       "    <span style=\"color: #808000; text-decoration-color: #808000\">prompt_tokens</span>=<span style=\"color: #008080; text-decoration-color: #008080; font-weight: bold\">1832</span>,\n",
       "    <span style=\"color: #808000; text-decoration-color: #808000\">total_tokens</span>=<span style=\"color: #008080; text-decoration-color: #008080; font-weight: bold\">1845</span>,\n",
       "    <span style=\"color: #808000; text-decoration-color: #808000\">completion_tokens_details</span>=<span style=\"color: #800080; text-decoration-color: #800080; font-weight: bold\">CompletionTokensDetails</span><span style=\"font-weight: bold\">(</span>\n",
       "        <span style=\"color: #808000; text-decoration-color: #808000\">reasoning_tokens</span>=<span style=\"color: #008080; text-decoration-color: #008080; font-weight: bold\">0</span>,\n",
       "        <span style=\"color: #808000; text-decoration-color: #808000\">accepted_prediction_tokens</span>=<span style=\"color: #008080; text-decoration-color: #008080; font-weight: bold\">0</span>,\n",
       "        <span style=\"color: #808000; text-decoration-color: #808000\">rejected_prediction_tokens</span>=<span style=\"color: #008080; text-decoration-color: #008080; font-weight: bold\">0</span>\n",
       "    <span style=\"font-weight: bold\">)</span>,\n",
       "    <span style=\"color: #808000; text-decoration-color: #808000\">prompt_tokens_details</span>=<span style=\"font-weight: bold\">{</span><span style=\"color: #008000; text-decoration-color: #008000\">'cached_tokens'</span>: <span style=\"color: #008080; text-decoration-color: #008080; font-weight: bold\">0</span><span style=\"font-weight: bold\">}</span>\n",
       "<span style=\"font-weight: bold\">)</span>\n",
       "</pre>\n"
      ],
      "text/plain": [
       "\u001b[1;35mCompletionUsage\u001b[0m\u001b[1m(\u001b[0m\n",
       "    \u001b[33mcompletion_tokens\u001b[0m=\u001b[1;36m13\u001b[0m,\n",
       "    \u001b[33mprompt_tokens\u001b[0m=\u001b[1;36m1832\u001b[0m,\n",
       "    \u001b[33mtotal_tokens\u001b[0m=\u001b[1;36m1845\u001b[0m,\n",
       "    \u001b[33mcompletion_tokens_details\u001b[0m=\u001b[1;35mCompletionTokensDetails\u001b[0m\u001b[1m(\u001b[0m\n",
       "        \u001b[33mreasoning_tokens\u001b[0m=\u001b[1;36m0\u001b[0m,\n",
       "        \u001b[33maccepted_prediction_tokens\u001b[0m=\u001b[1;36m0\u001b[0m,\n",
       "        \u001b[33mrejected_prediction_tokens\u001b[0m=\u001b[1;36m0\u001b[0m\n",
       "    \u001b[1m)\u001b[0m,\n",
       "    \u001b[33mprompt_tokens_details\u001b[0m=\u001b[1m{\u001b[0m\u001b[32m'cached_tokens'\u001b[0m: \u001b[1;36m0\u001b[0m\u001b[1m}\u001b[0m\n",
       "\u001b[1m)\u001b[0m\n"
      ]
     },
     "metadata": {},
     "output_type": "display_data"
    },
    {
     "data": {
      "text/html": [
       "<pre style=\"white-space:pre;overflow-x:auto;line-height:normal;font-family:Menlo,'DejaVu Sans Mono',consolas,'Courier New',monospace\">\n",
       "Stepping conversations:\n",
       "<span style=\"font-weight: bold\">{</span>\n",
       "    <span style=\"color: #008080; text-decoration-color: #008080; font-weight: bold\">0</span>: <span style=\"color: #008000; text-decoration-color: #008000\">'[message] It looks like \"The Tower\" could be a good fit for a high-rated landmark that includes parking </span>\n",
       "<span style=\"color: #008000; text-decoration-color: #008000\">facilities. Is there a preferred sequence for visiting these locations, or are you flexible on that front?'</span>,\n",
       "    <span style=\"color: #008080; text-decoration-color: #008080; font-weight: bold\">1</span>: <span style=\"color: #008000; text-decoration-color: #008000\">'[message] I have found a landmark, The Tower, that fulfills all your requirements: high rating and parking </span>\n",
       "<span style=\"color: #008000; text-decoration-color: #008000\">facility. This should be of interest to you. Moving on to Central Plaza and The Mall.'</span>,\n",
       "    <span style=\"color: #008080; text-decoration-color: #008080; font-weight: bold\">2</span>: <span style=\"color: #008000; text-decoration-color: #008000\">'[tool] Search(fields=[name], text_query=parking)'</span>\n",
       "<span style=\"font-weight: bold\">}</span>\n",
       "</pre>\n"
      ],
      "text/plain": [
       "\n",
       "Stepping conversations:\n",
       "\u001b[1m{\u001b[0m\n",
       "    \u001b[1;36m0\u001b[0m: \u001b[32m'\u001b[0m\u001b[32m[\u001b[0m\u001b[32mmessage\u001b[0m\u001b[32m]\u001b[0m\u001b[32m It looks like \"The Tower\" could be a good fit for a high-rated landmark that includes parking \u001b[0m\n",
       "\u001b[32mfacilities. Is there a preferred sequence for visiting these locations, or are you flexible on that front?'\u001b[0m,\n",
       "    \u001b[1;36m1\u001b[0m: \u001b[32m'\u001b[0m\u001b[32m[\u001b[0m\u001b[32mmessage\u001b[0m\u001b[32m]\u001b[0m\u001b[32m I have found a landmark, The Tower, that fulfills all your requirements: high rating and parking \u001b[0m\n",
       "\u001b[32mfacility. This should be of interest to you. Moving on to Central Plaza and The Mall.'\u001b[0m,\n",
       "    \u001b[1;36m2\u001b[0m: \u001b[32m'\u001b[0m\u001b[32m[\u001b[0m\u001b[32mtool\u001b[0m\u001b[32m]\u001b[0m\u001b[32m Search\u001b[0m\u001b[32m(\u001b[0m\u001b[32mfields\u001b[0m\u001b[32m=\u001b[0m\u001b[32m[\u001b[0m\u001b[32mname\u001b[0m\u001b[32m]\u001b[0m\u001b[32m, \u001b[0m\u001b[32mtext_query\u001b[0m\u001b[32m=\u001b[0m\u001b[32mparking\u001b[0m\u001b[32m)\u001b[0m\u001b[32m'\u001b[0m\n",
       "\u001b[1m}\u001b[0m\n"
      ]
     },
     "metadata": {},
     "output_type": "display_data"
    },
    {
     "data": {
      "text/html": [
       "<pre style=\"white-space:pre;overflow-x:auto;line-height:normal;font-family:Menlo,'DejaVu Sans Mono',consolas,'Courier New',monospace\">\n",
       "Conversation <span style=\"color: #008080; text-decoration-color: #008080; font-weight: bold\">0</span> response:\n",
       " It looks like <span style=\"color: #008000; text-decoration-color: #008000\">\"The Tower\"</span> could be a good fit for a high-rated landmark that includes park<span style=\"color: #808000; text-decoration-color: #808000\">...</span>\n",
       "</pre>\n"
      ],
      "text/plain": [
       "\n",
       "Conversation \u001b[1;36m0\u001b[0m response:\n",
       " It looks like \u001b[32m\"The Tower\"\u001b[0m could be a good fit for a high-rated landmark that includes park\u001b[33m...\u001b[0m\n"
      ]
     },
     "metadata": {},
     "output_type": "display_data"
    },
    {
     "data": {
      "text/html": [
       "<pre style=\"white-space:pre;overflow-x:auto;line-height:normal;font-family:Menlo,'DejaVu Sans Mono',consolas,'Courier New',monospace\"> It looks like <span style=\"color: #008000; text-decoration-color: #008000\">\"The Tower\"</span> could be a good fit for a high-rated landmark that includes parking facilities. Is there\n",
       "a preferred sequence for visiting these locations, or are you flexible on that front?\n",
       "</pre>\n"
      ],
      "text/plain": [
       " It looks like \u001b[32m\"The Tower\"\u001b[0m could be a good fit for a high-rated landmark that includes parking facilities. Is there\n",
       "a preferred sequence for visiting these locations, or are you flexible on that front?\n"
      ]
     },
     "metadata": {},
     "output_type": "display_data"
    },
    {
     "name": "stdout",
     "output_type": "stream",
     "text": [
      "{'user': '\\nAgent: [message] It looks like \"The Tower\" could be a good fit for a high-rated landmark that includes parking facilities. Is there a preferred sequence for visiting these locations, or are you flexible on that front?', 'agent': '', 'turn_player': 'user', 'done': False, 'reward': 0, 'info': {'num_msgs': 1}}\n"
     ]
    },
    {
     "data": {
      "text/html": [
       "<pre style=\"white-space:pre;overflow-x:auto;line-height:normal;font-family:Menlo,'DejaVu Sans Mono',consolas,'Courier New',monospace\">\n",
       "Conversation <span style=\"color: #008080; text-decoration-color: #008080; font-weight: bold\">1</span> response:\n",
       " I have found a landmark, The Tower, that fulfills all your requirements: high rating and p<span style=\"color: #808000; text-decoration-color: #808000\">...</span>\n",
       "</pre>\n"
      ],
      "text/plain": [
       "\n",
       "Conversation \u001b[1;36m1\u001b[0m response:\n",
       " I have found a landmark, The Tower, that fulfills all your requirements: high rating and p\u001b[33m...\u001b[0m\n"
      ]
     },
     "metadata": {},
     "output_type": "display_data"
    },
    {
     "data": {
      "text/html": [
       "<pre style=\"white-space:pre;overflow-x:auto;line-height:normal;font-family:Menlo,'DejaVu Sans Mono',consolas,'Courier New',monospace\"> I have found a landmark, The Tower, that fulfills all your requirements: high rating and parking facility. This \n",
       "should be of interest to you. Moving on to Central Plaza and The Mall.\n",
       "</pre>\n"
      ],
      "text/plain": [
       " I have found a landmark, The Tower, that fulfills all your requirements: high rating and parking facility. This \n",
       "should be of interest to you. Moving on to Central Plaza and The Mall.\n"
      ]
     },
     "metadata": {},
     "output_type": "display_data"
    },
    {
     "name": "stdout",
     "output_type": "stream",
     "text": [
      "{'user': '\\nAgent: [message] I have found a landmark, The Tower, that fulfills all your requirements: high rating and parking facility. This should be of interest to you. Moving on to Central Plaza and The Mall.', 'agent': '', 'turn_player': 'user', 'done': False, 'reward': 0, 'info': {'num_msgs': 1}}\n"
     ]
    },
    {
     "data": {
      "text/html": [
       "<pre style=\"white-space:pre;overflow-x:auto;line-height:normal;font-family:Menlo,'DejaVu Sans Mono',consolas,'Courier New',monospace\">\n",
       "Conversation <span style=\"color: #008080; text-decoration-color: #008080; font-weight: bold\">2</span> response:\n",
       " <span style=\"color: #800080; text-decoration-color: #800080; font-weight: bold\">Search</span><span style=\"font-weight: bold\">(</span><span style=\"color: #808000; text-decoration-color: #808000\">fields</span>=, <span style=\"color: #808000; text-decoration-color: #808000\">text_query</span>=<span style=\"color: #800080; text-decoration-color: #800080\">parking</span><span style=\"font-weight: bold\">)</span><span style=\"color: #808000; text-decoration-color: #808000\">...</span>\n",
       "</pre>\n"
      ],
      "text/plain": [
       "\n",
       "Conversation \u001b[1;36m2\u001b[0m response:\n",
       " \u001b[1;35mSearch\u001b[0m\u001b[1m(\u001b[0m\u001b[33mfields\u001b[0m=, \u001b[33mtext_query\u001b[0m=\u001b[35mparking\u001b[0m\u001b[1m)\u001b[0m\u001b[33m...\u001b[0m\n"
      ]
     },
     "metadata": {},
     "output_type": "display_data"
    },
    {
     "data": {
      "text/html": [
       "<pre style=\"white-space:pre;overflow-x:auto;line-height:normal;font-family:Menlo,'DejaVu Sans Mono',consolas,'Courier New',monospace\"> <span style=\"color: #800080; text-decoration-color: #800080; font-weight: bold\">Search</span><span style=\"font-weight: bold\">(</span><span style=\"color: #808000; text-decoration-color: #808000\">fields</span>=, <span style=\"color: #808000; text-decoration-color: #808000\">text_query</span>=<span style=\"color: #800080; text-decoration-color: #800080\">parking</span><span style=\"font-weight: bold\">)</span>\n",
       "</pre>\n"
      ],
      "text/plain": [
       " \u001b[1;35mSearch\u001b[0m\u001b[1m(\u001b[0m\u001b[33mfields\u001b[0m=, \u001b[33mtext_query\u001b[0m=\u001b[35mparking\u001b[0m\u001b[1m)\u001b[0m\n"
      ]
     },
     "metadata": {},
     "output_type": "display_data"
    },
    {
     "name": "stdout",
     "output_type": "stream",
     "text": [
      "ChatCompletion(id='chatcmpl-AQ6791YW9w5arGF1RgZvTc4E0zQWt', choices=[Choice(finish_reason='stop', index=0, logprobs=None, message=ChatCompletionMessage(content='Search Results (10):\\n1. A-Trane\\n2. Coffee Nook\\n3. Atlas Park\\n4. The Dive\\n5. Common Grounds\\n6. The Dockside Grill\\n7. The Jazz Spot\\n8. Riverside Trail\\n9. Moabit Garden\\n10. Market Street', refusal=None, role='assistant', function_call=None, tool_calls=None))], created=1730783395, model='gpt-4o-2024-08-06', object='chat.completion', service_tier=None, system_fingerprint='fp_159d8341cc', usage=CompletionUsage(completion_tokens=60, prompt_tokens=3224, total_tokens=3284, completion_tokens_details=CompletionTokensDetails(reasoning_tokens=0, accepted_prediction_tokens=0, rejected_prediction_tokens=0), prompt_tokens_details={'cached_tokens': 3072}))\n",
      "{'user': '', 'agent': '[tool] Search(fields=[name], text_query=parking)\\nSearch Results (10):\\n1. A-Trane\\n2. Coffee Nook\\n3. Atlas Park\\n4. The Dive\\n5. Common Grounds\\n6. The Dockside Grill\\n7. The Jazz Spot\\n8. Riverside Trail\\n9. Moabit Garden\\n10. Market Street', 'turn_player': 'agent', 'done': False, 'reward': 0, 'info': {'num_msgs': 1}}\n"
     ]
    },
    {
     "data": {
      "text/html": [
       "<pre style=\"white-space:pre;overflow-x:auto;line-height:normal;font-family:Menlo,'DejaVu Sans Mono',consolas,'Courier New',monospace\">----Conversation <span style=\"color: #008080; text-decoration-color: #008080; font-weight: bold\">0</span> is waiting for user input---\n",
       "</pre>\n"
      ],
      "text/plain": [
       "----Conversation \u001b[1;36m0\u001b[0m is waiting for user input---\n"
      ]
     },
     "metadata": {},
     "output_type": "display_data"
    },
    {
     "data": {
      "text/html": [
       "<pre style=\"white-space:pre;overflow-x:auto;line-height:normal;font-family:Menlo,'DejaVu Sans Mono',consolas,'Courier New',monospace\">----Conversation <span style=\"color: #008080; text-decoration-color: #008080; font-weight: bold\">1</span> is waiting for user input---\n",
       "</pre>\n"
      ],
      "text/plain": [
       "----Conversation \u001b[1;36m1\u001b[0m is waiting for user input---\n"
      ]
     },
     "metadata": {},
     "output_type": "display_data"
    },
    {
     "data": {
      "text/html": [
       "<pre style=\"white-space:pre;overflow-x:auto;line-height:normal;font-family:Menlo,'DejaVu Sans Mono',consolas,'Courier New',monospace\">Response:  <span style=\"font-weight: bold\">[</span>tool<span style=\"font-weight: bold\">]</span> <span style=\"color: #800080; text-decoration-color: #800080; font-weight: bold\">Search</span><span style=\"font-weight: bold\">(</span><span style=\"color: #808000; text-decoration-color: #808000\">fields</span>=<span style=\"font-weight: bold\">[</span>name<span style=\"font-weight: bold\">]</span>, <span style=\"color: #808000; text-decoration-color: #808000\">text_query</span>=<span style=\"color: #800080; text-decoration-color: #800080\">Dan</span>'s recommendations<span style=\"font-weight: bold\">)</span>\n",
       "</pre>\n"
      ],
      "text/plain": [
       "Response:  \u001b[1m[\u001b[0mtool\u001b[1m]\u001b[0m \u001b[1;35mSearch\u001b[0m\u001b[1m(\u001b[0m\u001b[33mfields\u001b[0m=\u001b[1m[\u001b[0mname\u001b[1m]\u001b[0m, \u001b[33mtext_query\u001b[0m=\u001b[35mDan\u001b[0m's recommendations\u001b[1m)\u001b[0m\n"
      ]
     },
     "metadata": {},
     "output_type": "display_data"
    },
    {
     "data": {
      "text/html": [
       "<pre style=\"white-space:pre;overflow-x:auto;line-height:normal;font-family:Menlo,'DejaVu Sans Mono',consolas,'Courier New',monospace\">stop:  stop\n",
       "</pre>\n"
      ],
      "text/plain": [
       "stop:  stop\n"
      ]
     },
     "metadata": {},
     "output_type": "display_data"
    },
    {
     "data": {
      "text/html": [
       "<pre style=\"white-space:pre;overflow-x:auto;line-height:normal;font-family:Menlo,'DejaVu Sans Mono',consolas,'Courier New',monospace\"><span style=\"color: #800080; text-decoration-color: #800080; font-weight: bold\">CompletionUsage</span><span style=\"font-weight: bold\">(</span>\n",
       "    <span style=\"color: #808000; text-decoration-color: #808000\">completion_tokens</span>=<span style=\"color: #008080; text-decoration-color: #008080; font-weight: bold\">15</span>,\n",
       "    <span style=\"color: #808000; text-decoration-color: #808000\">prompt_tokens</span>=<span style=\"color: #008080; text-decoration-color: #008080; font-weight: bold\">1906</span>,\n",
       "    <span style=\"color: #808000; text-decoration-color: #808000\">total_tokens</span>=<span style=\"color: #008080; text-decoration-color: #008080; font-weight: bold\">1921</span>,\n",
       "    <span style=\"color: #808000; text-decoration-color: #808000\">completion_tokens_details</span>=<span style=\"color: #800080; text-decoration-color: #800080; font-weight: bold\">CompletionTokensDetails</span><span style=\"font-weight: bold\">(</span>\n",
       "        <span style=\"color: #808000; text-decoration-color: #808000\">reasoning_tokens</span>=<span style=\"color: #008080; text-decoration-color: #008080; font-weight: bold\">0</span>,\n",
       "        <span style=\"color: #808000; text-decoration-color: #808000\">accepted_prediction_tokens</span>=<span style=\"color: #008080; text-decoration-color: #008080; font-weight: bold\">0</span>,\n",
       "        <span style=\"color: #808000; text-decoration-color: #808000\">rejected_prediction_tokens</span>=<span style=\"color: #008080; text-decoration-color: #008080; font-weight: bold\">0</span>\n",
       "    <span style=\"font-weight: bold\">)</span>,\n",
       "    <span style=\"color: #808000; text-decoration-color: #808000\">prompt_tokens_details</span>=<span style=\"font-weight: bold\">{</span><span style=\"color: #008000; text-decoration-color: #008000\">'cached_tokens'</span>: <span style=\"color: #008080; text-decoration-color: #008080; font-weight: bold\">0</span><span style=\"font-weight: bold\">}</span>\n",
       "<span style=\"font-weight: bold\">)</span>\n",
       "</pre>\n"
      ],
      "text/plain": [
       "\u001b[1;35mCompletionUsage\u001b[0m\u001b[1m(\u001b[0m\n",
       "    \u001b[33mcompletion_tokens\u001b[0m=\u001b[1;36m15\u001b[0m,\n",
       "    \u001b[33mprompt_tokens\u001b[0m=\u001b[1;36m1906\u001b[0m,\n",
       "    \u001b[33mtotal_tokens\u001b[0m=\u001b[1;36m1921\u001b[0m,\n",
       "    \u001b[33mcompletion_tokens_details\u001b[0m=\u001b[1;35mCompletionTokensDetails\u001b[0m\u001b[1m(\u001b[0m\n",
       "        \u001b[33mreasoning_tokens\u001b[0m=\u001b[1;36m0\u001b[0m,\n",
       "        \u001b[33maccepted_prediction_tokens\u001b[0m=\u001b[1;36m0\u001b[0m,\n",
       "        \u001b[33mrejected_prediction_tokens\u001b[0m=\u001b[1;36m0\u001b[0m\n",
       "    \u001b[1m)\u001b[0m,\n",
       "    \u001b[33mprompt_tokens_details\u001b[0m=\u001b[1m{\u001b[0m\u001b[32m'cached_tokens'\u001b[0m: \u001b[1;36m0\u001b[0m\u001b[1m}\u001b[0m\n",
       "\u001b[1m)\u001b[0m\n"
      ]
     },
     "metadata": {},
     "output_type": "display_data"
    },
    {
     "data": {
      "text/html": [
       "<pre style=\"white-space:pre;overflow-x:auto;line-height:normal;font-family:Menlo,'DejaVu Sans Mono',consolas,'Courier New',monospace\">\n",
       "Stepping conversations:\n",
       "<span style=\"font-weight: bold\">{</span><span style=\"color: #008080; text-decoration-color: #008080; font-weight: bold\">0</span>: <span style=\"color: #800080; text-decoration-color: #800080; font-style: italic\">None</span>, <span style=\"color: #008080; text-decoration-color: #008080; font-weight: bold\">1</span>: <span style=\"color: #800080; text-decoration-color: #800080; font-style: italic\">None</span>, <span style=\"color: #008080; text-decoration-color: #008080; font-weight: bold\">2</span>: <span style=\"color: #008000; text-decoration-color: #008000\">\"[tool] Search(fields=[name], text_query=Dan's recommendations)\"</span><span style=\"font-weight: bold\">}</span>\n",
       "</pre>\n"
      ],
      "text/plain": [
       "\n",
       "Stepping conversations:\n",
       "\u001b[1m{\u001b[0m\u001b[1;36m0\u001b[0m: \u001b[3;35mNone\u001b[0m, \u001b[1;36m1\u001b[0m: \u001b[3;35mNone\u001b[0m, \u001b[1;36m2\u001b[0m: \u001b[32m\"\u001b[0m\u001b[32m[\u001b[0m\u001b[32mtool\u001b[0m\u001b[32m]\u001b[0m\u001b[32m Search\u001b[0m\u001b[32m(\u001b[0m\u001b[32mfields\u001b[0m\u001b[32m=\u001b[0m\u001b[32m[\u001b[0m\u001b[32mname\u001b[0m\u001b[32m]\u001b[0m\u001b[32m, \u001b[0m\u001b[32mtext_query\u001b[0m\u001b[32m=\u001b[0m\u001b[32mDan\u001b[0m\u001b[32m's recommendations\u001b[0m\u001b[32m)\u001b[0m\u001b[32m\"\u001b[0m\u001b[1m}\u001b[0m\n"
      ]
     },
     "metadata": {},
     "output_type": "display_data"
    },
    {
     "data": {
      "text/html": [
       "<pre style=\"white-space:pre;overflow-x:auto;line-height:normal;font-family:Menlo,'DejaVu Sans Mono',consolas,'Courier New',monospace\">\n",
       "Conversation <span style=\"color: #008080; text-decoration-color: #008080; font-weight: bold\">2</span> response:\n",
       " <span style=\"color: #800080; text-decoration-color: #800080; font-weight: bold\">Search</span><span style=\"font-weight: bold\">(</span><span style=\"color: #808000; text-decoration-color: #808000\">fields</span>=, <span style=\"color: #808000; text-decoration-color: #808000\">text_query</span>=<span style=\"color: #800080; text-decoration-color: #800080\">Dan</span>'s recommendations<span style=\"font-weight: bold\">)</span><span style=\"color: #808000; text-decoration-color: #808000\">...</span>\n",
       "</pre>\n"
      ],
      "text/plain": [
       "\n",
       "Conversation \u001b[1;36m2\u001b[0m response:\n",
       " \u001b[1;35mSearch\u001b[0m\u001b[1m(\u001b[0m\u001b[33mfields\u001b[0m=, \u001b[33mtext_query\u001b[0m=\u001b[35mDan\u001b[0m's recommendations\u001b[1m)\u001b[0m\u001b[33m...\u001b[0m\n"
      ]
     },
     "metadata": {},
     "output_type": "display_data"
    },
    {
     "data": {
      "text/html": [
       "<pre style=\"white-space:pre;overflow-x:auto;line-height:normal;font-family:Menlo,'DejaVu Sans Mono',consolas,'Courier New',monospace\"> <span style=\"color: #800080; text-decoration-color: #800080; font-weight: bold\">Search</span><span style=\"font-weight: bold\">(</span><span style=\"color: #808000; text-decoration-color: #808000\">fields</span>=, <span style=\"color: #808000; text-decoration-color: #808000\">text_query</span>=<span style=\"color: #800080; text-decoration-color: #800080\">Dan</span>'s recommendations<span style=\"font-weight: bold\">)</span>\n",
       "</pre>\n"
      ],
      "text/plain": [
       " \u001b[1;35mSearch\u001b[0m\u001b[1m(\u001b[0m\u001b[33mfields\u001b[0m=, \u001b[33mtext_query\u001b[0m=\u001b[35mDan\u001b[0m's recommendations\u001b[1m)\u001b[0m\n"
      ]
     },
     "metadata": {},
     "output_type": "display_data"
    },
    {
     "name": "stdout",
     "output_type": "stream",
     "text": [
      "ChatCompletion(id='chatcmpl-AQ67Bb5x3qpge1wiGuwo4uBh4dJwF', choices=[Choice(finish_reason='stop', index=0, logprobs=None, message=ChatCompletionMessage(content='Search Results: No results', refusal=None, role='assistant', function_call=None, tool_calls=None))], created=1730783397, model='gpt-4o-2024-08-06', object='chat.completion', service_tier=None, system_fingerprint='fp_159d8341cc', usage=CompletionUsage(completion_tokens=5, prompt_tokens=3226, total_tokens=3231, completion_tokens_details=CompletionTokensDetails(reasoning_tokens=0, accepted_prediction_tokens=0, rejected_prediction_tokens=0), prompt_tokens_details={'cached_tokens': 3072}))\n",
      "{'user': '', 'agent': \"[tool] Search(fields=[name], text_query=Dan's recommendations)\\nSearch Results: No results\", 'turn_player': 'agent', 'done': False, 'reward': 0, 'info': {'num_msgs': 1}}\n"
     ]
    },
    {
     "data": {
      "text/html": [
       "<pre style=\"white-space:pre;overflow-x:auto;line-height:normal;font-family:Menlo,'DejaVu Sans Mono',consolas,'Courier New',monospace\">Response:  <span style=\"font-weight: bold\">[</span>think<span style=\"font-weight: bold\">]</span> Central Plaza and The Mall were mentioned by the user as Dan's recommendations. I will include \n",
       "them in my recommendations, now I just need to find a parking spot near one of these destinations. I also know that\n",
       "the Hindenberg Memorial and The Tower are good landmarks. <span style=\"font-weight: bold\">[</span>tool<span style=\"font-weight: bold\">]</span> <span style=\"color: #800080; text-decoration-color: #800080; font-weight: bold\">Search</span><span style=\"font-weight: bold\">(</span><span style=\"color: #808000; text-decoration-color: #808000\">fields</span>=<span style=\"font-weight: bold\">[</span>name, price, info<span style=\"font-weight: bold\">]</span>, \n",
       "<span style=\"color: #808000; text-decoration-color: #808000\">filters</span>=<span style=\"font-weight: bold\">[</span>category == parking<span style=\"font-weight: bold\">]</span>, <span style=\"color: #808000; text-decoration-color: #808000\">sort_by</span>=<span style=\"font-weight: bold\">[</span><span style=\"color: #800080; text-decoration-color: #800080; font-weight: bold\">distance_to</span><span style=\"font-weight: bold\">(</span>Central Plaza<span style=\"font-weight: bold\">)])</span>\n",
       "</pre>\n"
      ],
      "text/plain": [
       "Response:  \u001b[1m[\u001b[0mthink\u001b[1m]\u001b[0m Central Plaza and The Mall were mentioned by the user as Dan's recommendations. I will include \n",
       "them in my recommendations, now I just need to find a parking spot near one of these destinations. I also know that\n",
       "the Hindenberg Memorial and The Tower are good landmarks. \u001b[1m[\u001b[0mtool\u001b[1m]\u001b[0m \u001b[1;35mSearch\u001b[0m\u001b[1m(\u001b[0m\u001b[33mfields\u001b[0m=\u001b[1m[\u001b[0mname, price, info\u001b[1m]\u001b[0m, \n",
       "\u001b[33mfilters\u001b[0m=\u001b[1m[\u001b[0mcategory == parking\u001b[1m]\u001b[0m, \u001b[33msort_by\u001b[0m=\u001b[1m[\u001b[0m\u001b[1;35mdistance_to\u001b[0m\u001b[1m(\u001b[0mCentral Plaza\u001b[1m)\u001b[0m\u001b[1m]\u001b[0m\u001b[1m)\u001b[0m\n"
      ]
     },
     "metadata": {},
     "output_type": "display_data"
    },
    {
     "data": {
      "text/html": [
       "<pre style=\"white-space:pre;overflow-x:auto;line-height:normal;font-family:Menlo,'DejaVu Sans Mono',consolas,'Courier New',monospace\">stop:  stop\n",
       "</pre>\n"
      ],
      "text/plain": [
       "stop:  stop\n"
      ]
     },
     "metadata": {},
     "output_type": "display_data"
    },
    {
     "data": {
      "text/html": [
       "<pre style=\"white-space:pre;overflow-x:auto;line-height:normal;font-family:Menlo,'DejaVu Sans Mono',consolas,'Courier New',monospace\"><span style=\"color: #800080; text-decoration-color: #800080; font-weight: bold\">CompletionUsage</span><span style=\"font-weight: bold\">(</span>\n",
       "    <span style=\"color: #808000; text-decoration-color: #808000\">completion_tokens</span>=<span style=\"color: #008080; text-decoration-color: #008080; font-weight: bold\">83</span>,\n",
       "    <span style=\"color: #808000; text-decoration-color: #808000\">prompt_tokens</span>=<span style=\"color: #008080; text-decoration-color: #008080; font-weight: bold\">1926</span>,\n",
       "    <span style=\"color: #808000; text-decoration-color: #808000\">total_tokens</span>=<span style=\"color: #008080; text-decoration-color: #008080; font-weight: bold\">2009</span>,\n",
       "    <span style=\"color: #808000; text-decoration-color: #808000\">completion_tokens_details</span>=<span style=\"color: #800080; text-decoration-color: #800080; font-weight: bold\">CompletionTokensDetails</span><span style=\"font-weight: bold\">(</span>\n",
       "        <span style=\"color: #808000; text-decoration-color: #808000\">reasoning_tokens</span>=<span style=\"color: #008080; text-decoration-color: #008080; font-weight: bold\">0</span>,\n",
       "        <span style=\"color: #808000; text-decoration-color: #808000\">accepted_prediction_tokens</span>=<span style=\"color: #008080; text-decoration-color: #008080; font-weight: bold\">0</span>,\n",
       "        <span style=\"color: #808000; text-decoration-color: #808000\">rejected_prediction_tokens</span>=<span style=\"color: #008080; text-decoration-color: #008080; font-weight: bold\">0</span>\n",
       "    <span style=\"font-weight: bold\">)</span>,\n",
       "    <span style=\"color: #808000; text-decoration-color: #808000\">prompt_tokens_details</span>=<span style=\"font-weight: bold\">{</span><span style=\"color: #008000; text-decoration-color: #008000\">'cached_tokens'</span>: <span style=\"color: #008080; text-decoration-color: #008080; font-weight: bold\">0</span><span style=\"font-weight: bold\">}</span>\n",
       "<span style=\"font-weight: bold\">)</span>\n",
       "</pre>\n"
      ],
      "text/plain": [
       "\u001b[1;35mCompletionUsage\u001b[0m\u001b[1m(\u001b[0m\n",
       "    \u001b[33mcompletion_tokens\u001b[0m=\u001b[1;36m83\u001b[0m,\n",
       "    \u001b[33mprompt_tokens\u001b[0m=\u001b[1;36m1926\u001b[0m,\n",
       "    \u001b[33mtotal_tokens\u001b[0m=\u001b[1;36m2009\u001b[0m,\n",
       "    \u001b[33mcompletion_tokens_details\u001b[0m=\u001b[1;35mCompletionTokensDetails\u001b[0m\u001b[1m(\u001b[0m\n",
       "        \u001b[33mreasoning_tokens\u001b[0m=\u001b[1;36m0\u001b[0m,\n",
       "        \u001b[33maccepted_prediction_tokens\u001b[0m=\u001b[1;36m0\u001b[0m,\n",
       "        \u001b[33mrejected_prediction_tokens\u001b[0m=\u001b[1;36m0\u001b[0m\n",
       "    \u001b[1m)\u001b[0m,\n",
       "    \u001b[33mprompt_tokens_details\u001b[0m=\u001b[1m{\u001b[0m\u001b[32m'cached_tokens'\u001b[0m: \u001b[1;36m0\u001b[0m\u001b[1m}\u001b[0m\n",
       "\u001b[1m)\u001b[0m\n"
      ]
     },
     "metadata": {},
     "output_type": "display_data"
    },
    {
     "data": {
      "text/html": [
       "<pre style=\"white-space:pre;overflow-x:auto;line-height:normal;font-family:Menlo,'DejaVu Sans Mono',consolas,'Courier New',monospace\">\n",
       "Stepping conversations:\n",
       "<span style=\"font-weight: bold\">{</span>\n",
       "    <span style=\"color: #008080; text-decoration-color: #008080; font-weight: bold\">0</span>: <span style=\"color: #800080; text-decoration-color: #800080; font-style: italic\">None</span>,\n",
       "    <span style=\"color: #008080; text-decoration-color: #008080; font-weight: bold\">1</span>: <span style=\"color: #800080; text-decoration-color: #800080; font-style: italic\">None</span>,\n",
       "    <span style=\"color: #008080; text-decoration-color: #008080; font-weight: bold\">2</span>: <span style=\"color: #008000; text-decoration-color: #008000\">\"[think] Central Plaza and The Mall were mentioned by the user as Dan's recommendations. I will include them</span>\n",
       "<span style=\"color: #008000; text-decoration-color: #008000\">in my recommendations, now I just need to find a parking spot near one of these destinations. I also know that the </span>\n",
       "<span style=\"color: #008000; text-decoration-color: #008000\">Hindenberg Memorial and The Tower are good landmarks. [tool] Search(fields=[name, price, info], filters=[category </span>\n",
       "<span style=\"color: #008000; text-decoration-color: #008000\">== parking], sort_by=[distance_to(Central Plaza)])\"</span>\n",
       "<span style=\"font-weight: bold\">}</span>\n",
       "</pre>\n"
      ],
      "text/plain": [
       "\n",
       "Stepping conversations:\n",
       "\u001b[1m{\u001b[0m\n",
       "    \u001b[1;36m0\u001b[0m: \u001b[3;35mNone\u001b[0m,\n",
       "    \u001b[1;36m1\u001b[0m: \u001b[3;35mNone\u001b[0m,\n",
       "    \u001b[1;36m2\u001b[0m: \u001b[32m\"\u001b[0m\u001b[32m[\u001b[0m\u001b[32mthink\u001b[0m\u001b[32m]\u001b[0m\u001b[32m Central Plaza and The Mall were mentioned by the user as Dan's recommendations. I will include them\u001b[0m\n",
       "\u001b[32min my recommendations, now I just need to find a parking spot near one of these destinations. I also know that the \u001b[0m\n",
       "\u001b[32mHindenberg Memorial and The Tower are good landmarks. \u001b[0m\u001b[32m[\u001b[0m\u001b[32mtool\u001b[0m\u001b[32m]\u001b[0m\u001b[32m Search\u001b[0m\u001b[32m(\u001b[0m\u001b[32mfields\u001b[0m\u001b[32m=\u001b[0m\u001b[32m[\u001b[0m\u001b[32mname, price, info\u001b[0m\u001b[32m]\u001b[0m\u001b[32m, \u001b[0m\u001b[32mfilters\u001b[0m\u001b[32m=\u001b[0m\u001b[32m[\u001b[0m\u001b[32mcategory \u001b[0m\n",
       "\u001b[32m== parking\u001b[0m\u001b[32m]\u001b[0m\u001b[32m, \u001b[0m\u001b[32msort_by\u001b[0m\u001b[32m=\u001b[0m\u001b[32m[\u001b[0m\u001b[32mdistance_to\u001b[0m\u001b[32m(\u001b[0m\u001b[32mCentral Plaza\u001b[0m\u001b[32m)\u001b[0m\u001b[32m]\u001b[0m\u001b[32m)\u001b[0m\u001b[32m\"\u001b[0m\n",
       "\u001b[1m}\u001b[0m\n"
      ]
     },
     "metadata": {},
     "output_type": "display_data"
    },
    {
     "data": {
      "text/html": [
       "<pre style=\"white-space:pre;overflow-x:auto;line-height:normal;font-family:Menlo,'DejaVu Sans Mono',consolas,'Courier New',monospace\">\n",
       "Conversation <span style=\"color: #008080; text-decoration-color: #008080; font-weight: bold\">2</span> response:\n",
       " Central Plaza and The Mall were mentioned by the user as Dan's recommendations. I will inclu<span style=\"color: #808000; text-decoration-color: #808000\">...</span>\n",
       "</pre>\n"
      ],
      "text/plain": [
       "\n",
       "Conversation \u001b[1;36m2\u001b[0m response:\n",
       " Central Plaza and The Mall were mentioned by the user as Dan's recommendations. I will inclu\u001b[33m...\u001b[0m\n"
      ]
     },
     "metadata": {},
     "output_type": "display_data"
    },
    {
     "data": {
      "text/html": [
       "<pre style=\"white-space:pre;overflow-x:auto;line-height:normal;font-family:Menlo,'DejaVu Sans Mono',consolas,'Courier New',monospace\"> Central Plaza and The Mall were mentioned by the user as Dan's recommendations. I will include them in my \n",
       "recommendations, now I just need to find a parking spot near one of these destinations. I also know that the \n",
       "Hindenberg Memorial and The Tower are good landmarks.  <span style=\"color: #800080; text-decoration-color: #800080; font-weight: bold\">Search</span><span style=\"font-weight: bold\">(</span><span style=\"color: #808000; text-decoration-color: #808000\">fields</span>=, <span style=\"color: #808000; text-decoration-color: #808000\">filters</span>=, <span style=\"color: #808000; text-decoration-color: #808000\">sort_by</span>=<span style=\"font-weight: bold\">)</span>\n",
       "</pre>\n"
      ],
      "text/plain": [
       " Central Plaza and The Mall were mentioned by the user as Dan's recommendations. I will include them in my \n",
       "recommendations, now I just need to find a parking spot near one of these destinations. I also know that the \n",
       "Hindenberg Memorial and The Tower are good landmarks.  \u001b[1;35mSearch\u001b[0m\u001b[1m(\u001b[0m\u001b[33mfields\u001b[0m=, \u001b[33mfilters\u001b[0m=, \u001b[33msort_by\u001b[0m=\u001b[1m)\u001b[0m\n"
      ]
     },
     "metadata": {},
     "output_type": "display_data"
    },
    {
     "name": "stdout",
     "output_type": "stream",
     "text": [
      "{'user': '', 'agent': \"[think] Central Plaza and The Mall were mentioned by the user as Dan's recommendations. I will include them in my recommendations, now I just need to find a parking spot near one of these destinations. I also know that the Hindenberg Memorial and The Tower are good landmarks. [tool] Search(fields=[name, price, info], filters=[category == parking], sort_by=[distance_to(Central Plaza)])\", 'turn_player': 'agent', 'done': False, 'reward': 0, 'info': {'num_msgs': 1}}\n"
     ]
    },
    {
     "data": {
      "text/html": [
       "<pre style=\"white-space:pre;overflow-x:auto;line-height:normal;font-family:Menlo,'DejaVu Sans Mono',consolas,'Courier New',monospace\">Response:  <span style=\"font-weight: bold\">[</span>think<span style=\"font-weight: bold\">]</span> Even if the <span style=\"color: #008000; text-decoration-color: #008000\">'tool'</span> fails to find parking spots based on its category, places that offer parking \n",
       "spots have also appeared in previous searches, like The Dive and Riverside Trail, so these could be considered as \n",
       "alternatives for parking too.\n",
       "</pre>\n"
      ],
      "text/plain": [
       "Response:  \u001b[1m[\u001b[0mthink\u001b[1m]\u001b[0m Even if the \u001b[32m'tool'\u001b[0m fails to find parking spots based on its category, places that offer parking \n",
       "spots have also appeared in previous searches, like The Dive and Riverside Trail, so these could be considered as \n",
       "alternatives for parking too.\n"
      ]
     },
     "metadata": {},
     "output_type": "display_data"
    },
    {
     "data": {
      "text/html": [
       "<pre style=\"white-space:pre;overflow-x:auto;line-height:normal;font-family:Menlo,'DejaVu Sans Mono',consolas,'Courier New',monospace\">stop:  stop\n",
       "</pre>\n"
      ],
      "text/plain": [
       "stop:  stop\n"
      ]
     },
     "metadata": {},
     "output_type": "display_data"
    },
    {
     "data": {
      "text/html": [
       "<pre style=\"white-space:pre;overflow-x:auto;line-height:normal;font-family:Menlo,'DejaVu Sans Mono',consolas,'Courier New',monospace\"><span style=\"color: #800080; text-decoration-color: #800080; font-weight: bold\">CompletionUsage</span><span style=\"font-weight: bold\">(</span>\n",
       "    <span style=\"color: #808000; text-decoration-color: #808000\">completion_tokens</span>=<span style=\"color: #008080; text-decoration-color: #008080; font-weight: bold\">49</span>,\n",
       "    <span style=\"color: #808000; text-decoration-color: #808000\">prompt_tokens</span>=<span style=\"color: #008080; text-decoration-color: #008080; font-weight: bold\">2008</span>,\n",
       "    <span style=\"color: #808000; text-decoration-color: #808000\">total_tokens</span>=<span style=\"color: #008080; text-decoration-color: #008080; font-weight: bold\">2057</span>,\n",
       "    <span style=\"color: #808000; text-decoration-color: #808000\">completion_tokens_details</span>=<span style=\"color: #800080; text-decoration-color: #800080; font-weight: bold\">CompletionTokensDetails</span><span style=\"font-weight: bold\">(</span>\n",
       "        <span style=\"color: #808000; text-decoration-color: #808000\">reasoning_tokens</span>=<span style=\"color: #008080; text-decoration-color: #008080; font-weight: bold\">0</span>,\n",
       "        <span style=\"color: #808000; text-decoration-color: #808000\">accepted_prediction_tokens</span>=<span style=\"color: #008080; text-decoration-color: #008080; font-weight: bold\">0</span>,\n",
       "        <span style=\"color: #808000; text-decoration-color: #808000\">rejected_prediction_tokens</span>=<span style=\"color: #008080; text-decoration-color: #008080; font-weight: bold\">0</span>\n",
       "    <span style=\"font-weight: bold\">)</span>,\n",
       "    <span style=\"color: #808000; text-decoration-color: #808000\">prompt_tokens_details</span>=<span style=\"font-weight: bold\">{</span><span style=\"color: #008000; text-decoration-color: #008000\">'cached_tokens'</span>: <span style=\"color: #008080; text-decoration-color: #008080; font-weight: bold\">0</span><span style=\"font-weight: bold\">}</span>\n",
       "<span style=\"font-weight: bold\">)</span>\n",
       "</pre>\n"
      ],
      "text/plain": [
       "\u001b[1;35mCompletionUsage\u001b[0m\u001b[1m(\u001b[0m\n",
       "    \u001b[33mcompletion_tokens\u001b[0m=\u001b[1;36m49\u001b[0m,\n",
       "    \u001b[33mprompt_tokens\u001b[0m=\u001b[1;36m2008\u001b[0m,\n",
       "    \u001b[33mtotal_tokens\u001b[0m=\u001b[1;36m2057\u001b[0m,\n",
       "    \u001b[33mcompletion_tokens_details\u001b[0m=\u001b[1;35mCompletionTokensDetails\u001b[0m\u001b[1m(\u001b[0m\n",
       "        \u001b[33mreasoning_tokens\u001b[0m=\u001b[1;36m0\u001b[0m,\n",
       "        \u001b[33maccepted_prediction_tokens\u001b[0m=\u001b[1;36m0\u001b[0m,\n",
       "        \u001b[33mrejected_prediction_tokens\u001b[0m=\u001b[1;36m0\u001b[0m\n",
       "    \u001b[1m)\u001b[0m,\n",
       "    \u001b[33mprompt_tokens_details\u001b[0m=\u001b[1m{\u001b[0m\u001b[32m'cached_tokens'\u001b[0m: \u001b[1;36m0\u001b[0m\u001b[1m}\u001b[0m\n",
       "\u001b[1m)\u001b[0m\n"
      ]
     },
     "metadata": {},
     "output_type": "display_data"
    },
    {
     "data": {
      "text/html": [
       "<pre style=\"white-space:pre;overflow-x:auto;line-height:normal;font-family:Menlo,'DejaVu Sans Mono',consolas,'Courier New',monospace\">\n",
       "Stepping conversations:\n",
       "<span style=\"font-weight: bold\">{</span>\n",
       "    <span style=\"color: #008080; text-decoration-color: #008080; font-weight: bold\">0</span>: <span style=\"color: #800080; text-decoration-color: #800080; font-style: italic\">None</span>,\n",
       "    <span style=\"color: #008080; text-decoration-color: #008080; font-weight: bold\">1</span>: <span style=\"color: #800080; text-decoration-color: #800080; font-style: italic\">None</span>,\n",
       "    <span style=\"color: #008080; text-decoration-color: #008080; font-weight: bold\">2</span>: <span style=\"color: #008000; text-decoration-color: #008000\">\"[think] Even if the 'tool' fails to find parking spots based on its category, places that offer parking </span>\n",
       "<span style=\"color: #008000; text-decoration-color: #008000\">spots have also appeared in previous searches, like The Dive and Riverside Trail, so these could be considered as </span>\n",
       "<span style=\"color: #008000; text-decoration-color: #008000\">alternatives for parking too.\"</span>\n",
       "<span style=\"font-weight: bold\">}</span>\n",
       "</pre>\n"
      ],
      "text/plain": [
       "\n",
       "Stepping conversations:\n",
       "\u001b[1m{\u001b[0m\n",
       "    \u001b[1;36m0\u001b[0m: \u001b[3;35mNone\u001b[0m,\n",
       "    \u001b[1;36m1\u001b[0m: \u001b[3;35mNone\u001b[0m,\n",
       "    \u001b[1;36m2\u001b[0m: \u001b[32m\"\u001b[0m\u001b[32m[\u001b[0m\u001b[32mthink\u001b[0m\u001b[32m]\u001b[0m\u001b[32m Even if the 'tool' fails to find parking spots based on its category, places that offer parking \u001b[0m\n",
       "\u001b[32mspots have also appeared in previous searches, like The Dive and Riverside Trail, so these could be considered as \u001b[0m\n",
       "\u001b[32malternatives for parking too.\"\u001b[0m\n",
       "\u001b[1m}\u001b[0m\n"
      ]
     },
     "metadata": {},
     "output_type": "display_data"
    },
    {
     "data": {
      "text/html": [
       "<pre style=\"white-space:pre;overflow-x:auto;line-height:normal;font-family:Menlo,'DejaVu Sans Mono',consolas,'Courier New',monospace\">\n",
       "Conversation <span style=\"color: #008080; text-decoration-color: #008080; font-weight: bold\">2</span> response:\n",
       " Even if the <span style=\"color: #008000; text-decoration-color: #008000\">'tool'</span> fails to find parking spots based on its category, places that offer park<span style=\"color: #808000; text-decoration-color: #808000\">...</span>\n",
       "</pre>\n"
      ],
      "text/plain": [
       "\n",
       "Conversation \u001b[1;36m2\u001b[0m response:\n",
       " Even if the \u001b[32m'tool'\u001b[0m fails to find parking spots based on its category, places that offer park\u001b[33m...\u001b[0m\n"
      ]
     },
     "metadata": {},
     "output_type": "display_data"
    },
    {
     "data": {
      "text/html": [
       "<pre style=\"white-space:pre;overflow-x:auto;line-height:normal;font-family:Menlo,'DejaVu Sans Mono',consolas,'Courier New',monospace\"> Even if the <span style=\"color: #008000; text-decoration-color: #008000\">'tool'</span> fails to find parking spots based on its category, places that offer parking spots have also \n",
       "appeared in previous searches, like The Dive and Riverside Trail, so these could be considered as alternatives for \n",
       "parking too.\n",
       "</pre>\n"
      ],
      "text/plain": [
       " Even if the \u001b[32m'tool'\u001b[0m fails to find parking spots based on its category, places that offer parking spots have also \n",
       "appeared in previous searches, like The Dive and Riverside Trail, so these could be considered as alternatives for \n",
       "parking too.\n"
      ]
     },
     "metadata": {},
     "output_type": "display_data"
    },
    {
     "name": "stdout",
     "output_type": "stream",
     "text": [
      "{'user': '', 'agent': \"[think] Even if the 'tool' fails to find parking spots based on its category, places that offer parking spots have also appeared in previous searches, like The Dive and Riverside Trail, so these could be considered as alternatives for parking too.\", 'turn_player': 'agent', 'done': False, 'reward': 0, 'info': {'num_msgs': 1}}\n"
     ]
    },
    {
     "data": {
      "text/html": [
       "<pre style=\"white-space:pre;overflow-x:auto;line-height:normal;font-family:Menlo,'DejaVu Sans Mono',consolas,'Courier New',monospace\">Response:  <span style=\"font-weight: bold\">[</span>tool<span style=\"font-weight: bold\">]</span> <span style=\"color: #800080; text-decoration-color: #800080; font-weight: bold\">Search</span><span style=\"font-weight: bold\">(</span><span style=\"color: #808000; text-decoration-color: #808000\">fields</span>=<span style=\"font-weight: bold\">[</span>name, <span style=\"color: #800080; text-decoration-color: #800080; font-weight: bold\">distance_to</span><span style=\"font-weight: bold\">(</span>Central Plaza<span style=\"font-weight: bold\">)</span>, <span style=\"color: #800080; text-decoration-color: #800080; font-weight: bold\">distance_to</span><span style=\"font-weight: bold\">(</span>The Mall<span style=\"font-weight: bold\">)]</span>, <span style=\"color: #808000; text-decoration-color: #808000\">filters</span>=<span style=\"font-weight: bold\">[</span>info contains \n",
       "<span style=\"color: #008000; text-decoration-color: #008000\">'parking'</span><span style=\"font-weight: bold\">]</span>, <span style=\"color: #808000; text-decoration-color: #808000\">limit</span>=<span style=\"color: #008080; text-decoration-color: #008080; font-weight: bold\">3</span><span style=\"font-weight: bold\">)</span>\n",
       "</pre>\n"
      ],
      "text/plain": [
       "Response:  \u001b[1m[\u001b[0mtool\u001b[1m]\u001b[0m \u001b[1;35mSearch\u001b[0m\u001b[1m(\u001b[0m\u001b[33mfields\u001b[0m=\u001b[1m[\u001b[0mname, \u001b[1;35mdistance_to\u001b[0m\u001b[1m(\u001b[0mCentral Plaza\u001b[1m)\u001b[0m, \u001b[1;35mdistance_to\u001b[0m\u001b[1m(\u001b[0mThe Mall\u001b[1m)\u001b[0m\u001b[1m]\u001b[0m, \u001b[33mfilters\u001b[0m=\u001b[1m[\u001b[0minfo contains \n",
       "\u001b[32m'parking'\u001b[0m\u001b[1m]\u001b[0m, \u001b[33mlimit\u001b[0m=\u001b[1;36m3\u001b[0m\u001b[1m)\u001b[0m\n"
      ]
     },
     "metadata": {},
     "output_type": "display_data"
    },
    {
     "data": {
      "text/html": [
       "<pre style=\"white-space:pre;overflow-x:auto;line-height:normal;font-family:Menlo,'DejaVu Sans Mono',consolas,'Courier New',monospace\">stop:  stop\n",
       "</pre>\n"
      ],
      "text/plain": [
       "stop:  stop\n"
      ]
     },
     "metadata": {},
     "output_type": "display_data"
    },
    {
     "data": {
      "text/html": [
       "<pre style=\"white-space:pre;overflow-x:auto;line-height:normal;font-family:Menlo,'DejaVu Sans Mono',consolas,'Courier New',monospace\"><span style=\"color: #800080; text-decoration-color: #800080; font-weight: bold\">CompletionUsage</span><span style=\"font-weight: bold\">(</span>\n",
       "    <span style=\"color: #808000; text-decoration-color: #808000\">completion_tokens</span>=<span style=\"color: #008080; text-decoration-color: #008080; font-weight: bold\">31</span>,\n",
       "    <span style=\"color: #808000; text-decoration-color: #808000\">prompt_tokens</span>=<span style=\"color: #008080; text-decoration-color: #008080; font-weight: bold\">2057</span>,\n",
       "    <span style=\"color: #808000; text-decoration-color: #808000\">total_tokens</span>=<span style=\"color: #008080; text-decoration-color: #008080; font-weight: bold\">2088</span>,\n",
       "    <span style=\"color: #808000; text-decoration-color: #808000\">completion_tokens_details</span>=<span style=\"color: #800080; text-decoration-color: #800080; font-weight: bold\">CompletionTokensDetails</span><span style=\"font-weight: bold\">(</span>\n",
       "        <span style=\"color: #808000; text-decoration-color: #808000\">reasoning_tokens</span>=<span style=\"color: #008080; text-decoration-color: #008080; font-weight: bold\">0</span>,\n",
       "        <span style=\"color: #808000; text-decoration-color: #808000\">accepted_prediction_tokens</span>=<span style=\"color: #008080; text-decoration-color: #008080; font-weight: bold\">0</span>,\n",
       "        <span style=\"color: #808000; text-decoration-color: #808000\">rejected_prediction_tokens</span>=<span style=\"color: #008080; text-decoration-color: #008080; font-weight: bold\">0</span>\n",
       "    <span style=\"font-weight: bold\">)</span>,\n",
       "    <span style=\"color: #808000; text-decoration-color: #808000\">prompt_tokens_details</span>=<span style=\"font-weight: bold\">{</span><span style=\"color: #008000; text-decoration-color: #008000\">'cached_tokens'</span>: <span style=\"color: #008080; text-decoration-color: #008080; font-weight: bold\">0</span><span style=\"font-weight: bold\">}</span>\n",
       "<span style=\"font-weight: bold\">)</span>\n",
       "</pre>\n"
      ],
      "text/plain": [
       "\u001b[1;35mCompletionUsage\u001b[0m\u001b[1m(\u001b[0m\n",
       "    \u001b[33mcompletion_tokens\u001b[0m=\u001b[1;36m31\u001b[0m,\n",
       "    \u001b[33mprompt_tokens\u001b[0m=\u001b[1;36m2057\u001b[0m,\n",
       "    \u001b[33mtotal_tokens\u001b[0m=\u001b[1;36m2088\u001b[0m,\n",
       "    \u001b[33mcompletion_tokens_details\u001b[0m=\u001b[1;35mCompletionTokensDetails\u001b[0m\u001b[1m(\u001b[0m\n",
       "        \u001b[33mreasoning_tokens\u001b[0m=\u001b[1;36m0\u001b[0m,\n",
       "        \u001b[33maccepted_prediction_tokens\u001b[0m=\u001b[1;36m0\u001b[0m,\n",
       "        \u001b[33mrejected_prediction_tokens\u001b[0m=\u001b[1;36m0\u001b[0m\n",
       "    \u001b[1m)\u001b[0m,\n",
       "    \u001b[33mprompt_tokens_details\u001b[0m=\u001b[1m{\u001b[0m\u001b[32m'cached_tokens'\u001b[0m: \u001b[1;36m0\u001b[0m\u001b[1m}\u001b[0m\n",
       "\u001b[1m)\u001b[0m\n"
      ]
     },
     "metadata": {},
     "output_type": "display_data"
    },
    {
     "data": {
      "text/html": [
       "<pre style=\"white-space:pre;overflow-x:auto;line-height:normal;font-family:Menlo,'DejaVu Sans Mono',consolas,'Courier New',monospace\">\n",
       "Stepping conversations:\n",
       "<span style=\"font-weight: bold\">{</span>\n",
       "    <span style=\"color: #008080; text-decoration-color: #008080; font-weight: bold\">0</span>: <span style=\"color: #800080; text-decoration-color: #800080; font-style: italic\">None</span>,\n",
       "    <span style=\"color: #008080; text-decoration-color: #008080; font-weight: bold\">1</span>: <span style=\"color: #800080; text-decoration-color: #800080; font-style: italic\">None</span>,\n",
       "    <span style=\"color: #008080; text-decoration-color: #008080; font-weight: bold\">2</span>: <span style=\"color: #008000; text-decoration-color: #008000\">\"[tool] Search(fields=[name, distance_to(Central Plaza), distance_to(The Mall)], filters=[info contains </span>\n",
       "<span style=\"color: #008000; text-decoration-color: #008000\">'parking'], limit=3)\"</span>\n",
       "<span style=\"font-weight: bold\">}</span>\n",
       "</pre>\n"
      ],
      "text/plain": [
       "\n",
       "Stepping conversations:\n",
       "\u001b[1m{\u001b[0m\n",
       "    \u001b[1;36m0\u001b[0m: \u001b[3;35mNone\u001b[0m,\n",
       "    \u001b[1;36m1\u001b[0m: \u001b[3;35mNone\u001b[0m,\n",
       "    \u001b[1;36m2\u001b[0m: \u001b[32m\"\u001b[0m\u001b[32m[\u001b[0m\u001b[32mtool\u001b[0m\u001b[32m]\u001b[0m\u001b[32m Search\u001b[0m\u001b[32m(\u001b[0m\u001b[32mfields\u001b[0m\u001b[32m=\u001b[0m\u001b[32m[\u001b[0m\u001b[32mname, distance_to\u001b[0m\u001b[32m(\u001b[0m\u001b[32mCentral Plaza\u001b[0m\u001b[32m)\u001b[0m\u001b[32m, distance_to\u001b[0m\u001b[32m(\u001b[0m\u001b[32mThe Mall\u001b[0m\u001b[32m)\u001b[0m\u001b[32m]\u001b[0m\u001b[32m, \u001b[0m\u001b[32mfilters\u001b[0m\u001b[32m=\u001b[0m\u001b[32m[\u001b[0m\u001b[32minfo contains \u001b[0m\n",
       "\u001b[32m'parking'\u001b[0m\u001b[32m]\u001b[0m\u001b[32m, \u001b[0m\u001b[32mlimit\u001b[0m\u001b[32m=\u001b[0m\u001b[32m3\u001b[0m\u001b[32m)\u001b[0m\u001b[32m\"\u001b[0m\n",
       "\u001b[1m}\u001b[0m\n"
      ]
     },
     "metadata": {},
     "output_type": "display_data"
    },
    {
     "data": {
      "text/html": [
       "<pre style=\"white-space:pre;overflow-x:auto;line-height:normal;font-family:Menlo,'DejaVu Sans Mono',consolas,'Courier New',monospace\">\n",
       "Conversation <span style=\"color: #008080; text-decoration-color: #008080; font-weight: bold\">2</span> response:\n",
       " <span style=\"color: #800080; text-decoration-color: #800080; font-weight: bold\">Search</span><span style=\"font-weight: bold\">(</span><span style=\"color: #808000; text-decoration-color: #808000\">fields</span>=, <span style=\"color: #808000; text-decoration-color: #808000\">filters</span>=<span style=\"font-weight: bold\">[</span>info contai<span style=\"color: #808000; text-decoration-color: #808000\">...</span>\n",
       "</pre>\n"
      ],
      "text/plain": [
       "\n",
       "Conversation \u001b[1;36m2\u001b[0m response:\n",
       " \u001b[1;35mSearch\u001b[0m\u001b[1m(\u001b[0m\u001b[33mfields\u001b[0m=, \u001b[33mfilters\u001b[0m=\u001b[1m[\u001b[0minfo contai\u001b[33m...\u001b[0m\n"
      ]
     },
     "metadata": {},
     "output_type": "display_data"
    },
    {
     "data": {
      "text/html": [
       "<pre style=\"white-space:pre;overflow-x:auto;line-height:normal;font-family:Menlo,'DejaVu Sans Mono',consolas,'Courier New',monospace\"> <span style=\"color: #800080; text-decoration-color: #800080; font-weight: bold\">Search</span><span style=\"font-weight: bold\">(</span><span style=\"color: #808000; text-decoration-color: #808000\">fields</span>=, <span style=\"color: #808000; text-decoration-color: #808000\">filters</span>=, <span style=\"color: #808000; text-decoration-color: #808000\">limit</span>=<span style=\"color: #008080; text-decoration-color: #008080; font-weight: bold\">3</span><span style=\"font-weight: bold\">)</span>\n",
       "</pre>\n"
      ],
      "text/plain": [
       " \u001b[1;35mSearch\u001b[0m\u001b[1m(\u001b[0m\u001b[33mfields\u001b[0m=, \u001b[33mfilters\u001b[0m=, \u001b[33mlimit\u001b[0m=\u001b[1;36m3\u001b[0m\u001b[1m)\u001b[0m\n"
      ]
     },
     "metadata": {},
     "output_type": "display_data"
    },
    {
     "name": "stdout",
     "output_type": "stream",
     "text": [
      "ChatCompletion(id='chatcmpl-AQ67K0jfsCOmGrpfJsB9BQvhmRDua', choices=[Choice(finish_reason='stop', index=0, logprobs=None, message=ChatCompletionMessage(content='Search Results (3):\\nname|distance_to(Central Plaza)|distance_to(The Mall)\\nThe Dive|0.3|0.8\\nThe Dockside Grill|0.5|0.5\\nThe Jazz Spot|1.5|1.0', refusal=None, role='assistant', function_call=None, tool_calls=None))], created=1730783406, model='gpt-4o-2024-08-06', object='chat.completion', service_tier=None, system_fingerprint='fp_159d8341cc', usage=CompletionUsage(completion_tokens=53, prompt_tokens=3241, total_tokens=3294, completion_tokens_details=CompletionTokensDetails(reasoning_tokens=0, accepted_prediction_tokens=0, rejected_prediction_tokens=0), prompt_tokens_details={'cached_tokens': 3072}))\n",
      "{'user': '', 'agent': \"[tool] Search(fields=[name, distance_to(Central Plaza), distance_to(The Mall)], filters=[info contains 'parking'], limit=3)\\nSearch Results (3):\\nname|distance_to(Central Plaza)|distance_to(The Mall)\\nThe Dive|0.3|0.8\\nThe Dockside Grill|0.5|0.5\\nThe Jazz Spot|1.5|1.0\", 'turn_player': 'agent', 'done': False, 'reward': 0, 'info': {'num_msgs': 1}}\n"
     ]
    },
    {
     "data": {
      "text/html": [
       "<pre style=\"white-space:pre;overflow-x:auto;line-height:normal;font-family:Menlo,'DejaVu Sans Mono',consolas,'Courier New',monospace\">Response:  <span style=\"font-weight: bold\">[</span>message<span style=\"font-weight: bold\">]</span> Alright, so The Dive seems to be quite close to Central Plaza and it has parking. Plus, you \n",
       "also expressed your wish to visit a landmark with a good rating - either the Hindenberg Memorial or The Tower can \n",
       "serve this purpose well. How does this sound to you?\n",
       "</pre>\n"
      ],
      "text/plain": [
       "Response:  \u001b[1m[\u001b[0mmessage\u001b[1m]\u001b[0m Alright, so The Dive seems to be quite close to Central Plaza and it has parking. Plus, you \n",
       "also expressed your wish to visit a landmark with a good rating - either the Hindenberg Memorial or The Tower can \n",
       "serve this purpose well. How does this sound to you?\n"
      ]
     },
     "metadata": {},
     "output_type": "display_data"
    },
    {
     "data": {
      "text/html": [
       "<pre style=\"white-space:pre;overflow-x:auto;line-height:normal;font-family:Menlo,'DejaVu Sans Mono',consolas,'Courier New',monospace\">stop:  stop\n",
       "</pre>\n"
      ],
      "text/plain": [
       "stop:  stop\n"
      ]
     },
     "metadata": {},
     "output_type": "display_data"
    },
    {
     "data": {
      "text/html": [
       "<pre style=\"white-space:pre;overflow-x:auto;line-height:normal;font-family:Menlo,'DejaVu Sans Mono',consolas,'Courier New',monospace\"><span style=\"color: #800080; text-decoration-color: #800080; font-weight: bold\">CompletionUsage</span><span style=\"font-weight: bold\">(</span>\n",
       "    <span style=\"color: #808000; text-decoration-color: #808000\">completion_tokens</span>=<span style=\"color: #008080; text-decoration-color: #008080; font-weight: bold\">58</span>,\n",
       "    <span style=\"color: #808000; text-decoration-color: #808000\">prompt_tokens</span>=<span style=\"color: #008080; text-decoration-color: #008080; font-weight: bold\">2141</span>,\n",
       "    <span style=\"color: #808000; text-decoration-color: #808000\">total_tokens</span>=<span style=\"color: #008080; text-decoration-color: #008080; font-weight: bold\">2199</span>,\n",
       "    <span style=\"color: #808000; text-decoration-color: #808000\">completion_tokens_details</span>=<span style=\"color: #800080; text-decoration-color: #800080; font-weight: bold\">CompletionTokensDetails</span><span style=\"font-weight: bold\">(</span>\n",
       "        <span style=\"color: #808000; text-decoration-color: #808000\">reasoning_tokens</span>=<span style=\"color: #008080; text-decoration-color: #008080; font-weight: bold\">0</span>,\n",
       "        <span style=\"color: #808000; text-decoration-color: #808000\">accepted_prediction_tokens</span>=<span style=\"color: #008080; text-decoration-color: #008080; font-weight: bold\">0</span>,\n",
       "        <span style=\"color: #808000; text-decoration-color: #808000\">rejected_prediction_tokens</span>=<span style=\"color: #008080; text-decoration-color: #008080; font-weight: bold\">0</span>\n",
       "    <span style=\"font-weight: bold\">)</span>,\n",
       "    <span style=\"color: #808000; text-decoration-color: #808000\">prompt_tokens_details</span>=<span style=\"font-weight: bold\">{</span><span style=\"color: #008000; text-decoration-color: #008000\">'cached_tokens'</span>: <span style=\"color: #008080; text-decoration-color: #008080; font-weight: bold\">0</span><span style=\"font-weight: bold\">}</span>\n",
       "<span style=\"font-weight: bold\">)</span>\n",
       "</pre>\n"
      ],
      "text/plain": [
       "\u001b[1;35mCompletionUsage\u001b[0m\u001b[1m(\u001b[0m\n",
       "    \u001b[33mcompletion_tokens\u001b[0m=\u001b[1;36m58\u001b[0m,\n",
       "    \u001b[33mprompt_tokens\u001b[0m=\u001b[1;36m2141\u001b[0m,\n",
       "    \u001b[33mtotal_tokens\u001b[0m=\u001b[1;36m2199\u001b[0m,\n",
       "    \u001b[33mcompletion_tokens_details\u001b[0m=\u001b[1;35mCompletionTokensDetails\u001b[0m\u001b[1m(\u001b[0m\n",
       "        \u001b[33mreasoning_tokens\u001b[0m=\u001b[1;36m0\u001b[0m,\n",
       "        \u001b[33maccepted_prediction_tokens\u001b[0m=\u001b[1;36m0\u001b[0m,\n",
       "        \u001b[33mrejected_prediction_tokens\u001b[0m=\u001b[1;36m0\u001b[0m\n",
       "    \u001b[1m)\u001b[0m,\n",
       "    \u001b[33mprompt_tokens_details\u001b[0m=\u001b[1m{\u001b[0m\u001b[32m'cached_tokens'\u001b[0m: \u001b[1;36m0\u001b[0m\u001b[1m}\u001b[0m\n",
       "\u001b[1m)\u001b[0m\n"
      ]
     },
     "metadata": {},
     "output_type": "display_data"
    },
    {
     "data": {
      "text/html": [
       "<pre style=\"white-space:pre;overflow-x:auto;line-height:normal;font-family:Menlo,'DejaVu Sans Mono',consolas,'Courier New',monospace\">\n",
       "Stepping conversations:\n",
       "<span style=\"font-weight: bold\">{</span>\n",
       "    <span style=\"color: #008080; text-decoration-color: #008080; font-weight: bold\">0</span>: <span style=\"color: #800080; text-decoration-color: #800080; font-style: italic\">None</span>,\n",
       "    <span style=\"color: #008080; text-decoration-color: #008080; font-weight: bold\">1</span>: <span style=\"color: #800080; text-decoration-color: #800080; font-style: italic\">None</span>,\n",
       "    <span style=\"color: #008080; text-decoration-color: #008080; font-weight: bold\">2</span>: <span style=\"color: #008000; text-decoration-color: #008000\">'[message] Alright, so The Dive seems to be quite close to Central Plaza and it has parking. Plus, you also </span>\n",
       "<span style=\"color: #008000; text-decoration-color: #008000\">expressed your wish to visit a landmark with a good rating - either the Hindenberg Memorial or The Tower can serve </span>\n",
       "<span style=\"color: #008000; text-decoration-color: #008000\">this purpose well. How does this sound to you?'</span>\n",
       "<span style=\"font-weight: bold\">}</span>\n",
       "</pre>\n"
      ],
      "text/plain": [
       "\n",
       "Stepping conversations:\n",
       "\u001b[1m{\u001b[0m\n",
       "    \u001b[1;36m0\u001b[0m: \u001b[3;35mNone\u001b[0m,\n",
       "    \u001b[1;36m1\u001b[0m: \u001b[3;35mNone\u001b[0m,\n",
       "    \u001b[1;36m2\u001b[0m: \u001b[32m'\u001b[0m\u001b[32m[\u001b[0m\u001b[32mmessage\u001b[0m\u001b[32m]\u001b[0m\u001b[32m Alright, so The Dive seems to be quite close to Central Plaza and it has parking. Plus, you also \u001b[0m\n",
       "\u001b[32mexpressed your wish to visit a landmark with a good rating - either the Hindenberg Memorial or The Tower can serve \u001b[0m\n",
       "\u001b[32mthis purpose well. How does this sound to you?'\u001b[0m\n",
       "\u001b[1m}\u001b[0m\n"
      ]
     },
     "metadata": {},
     "output_type": "display_data"
    },
    {
     "data": {
      "text/html": [
       "<pre style=\"white-space:pre;overflow-x:auto;line-height:normal;font-family:Menlo,'DejaVu Sans Mono',consolas,'Courier New',monospace\">\n",
       "Conversation <span style=\"color: #008080; text-decoration-color: #008080; font-weight: bold\">2</span> response:\n",
       " Alright, so The Dive seems to be quite close to Central Plaza and it has parking. Plus, yo<span style=\"color: #808000; text-decoration-color: #808000\">...</span>\n",
       "</pre>\n"
      ],
      "text/plain": [
       "\n",
       "Conversation \u001b[1;36m2\u001b[0m response:\n",
       " Alright, so The Dive seems to be quite close to Central Plaza and it has parking. Plus, yo\u001b[33m...\u001b[0m\n"
      ]
     },
     "metadata": {},
     "output_type": "display_data"
    },
    {
     "data": {
      "text/html": [
       "<pre style=\"white-space:pre;overflow-x:auto;line-height:normal;font-family:Menlo,'DejaVu Sans Mono',consolas,'Courier New',monospace\"> Alright, so The Dive seems to be quite close to Central Plaza and it has parking. Plus, you also expressed your \n",
       "wish to visit a landmark with a good rating - either the Hindenberg Memorial or The Tower can serve this purpose \n",
       "well. How does this sound to you?\n",
       "</pre>\n"
      ],
      "text/plain": [
       " Alright, so The Dive seems to be quite close to Central Plaza and it has parking. Plus, you also expressed your \n",
       "wish to visit a landmark with a good rating - either the Hindenberg Memorial or The Tower can serve this purpose \n",
       "well. How does this sound to you?\n"
      ]
     },
     "metadata": {},
     "output_type": "display_data"
    },
    {
     "name": "stdout",
     "output_type": "stream",
     "text": [
      "{'user': '\\nAgent: [message] Alright, so The Dive seems to be quite close to Central Plaza and it has parking. Plus, you also expressed your wish to visit a landmark with a good rating - either the Hindenberg Memorial or The Tower can serve this purpose well. How does this sound to you?', 'agent': '', 'turn_player': 'user', 'done': False, 'reward': 0, 'info': {'num_msgs': 1}}\n"
     ]
    },
    {
     "data": {
      "text/html": [
       "<pre style=\"white-space:pre;overflow-x:auto;line-height:normal;font-family:Menlo,'DejaVu Sans Mono',consolas,'Courier New',monospace\">----Conversation <span style=\"color: #008080; text-decoration-color: #008080; font-weight: bold\">2</span> is waiting for user input---\n",
       "</pre>\n"
      ],
      "text/plain": [
       "----Conversation \u001b[1;36m2\u001b[0m is waiting for user input---\n"
      ]
     },
     "metadata": {},
     "output_type": "display_data"
    },
    {
     "data": {
      "text/html": [
       "<pre style=\"white-space:pre;overflow-x:auto;line-height:normal;font-family:Menlo,'DejaVu Sans Mono',consolas,'Courier New',monospace\">\n",
       "Stepping conversations:\n",
       "<span style=\"font-weight: bold\">{</span><span style=\"color: #008080; text-decoration-color: #008080; font-weight: bold\">0</span>: <span style=\"color: #800080; text-decoration-color: #800080; font-style: italic\">None</span>, <span style=\"color: #008080; text-decoration-color: #008080; font-weight: bold\">1</span>: <span style=\"color: #800080; text-decoration-color: #800080; font-style: italic\">None</span>, <span style=\"color: #008080; text-decoration-color: #008080; font-weight: bold\">2</span>: <span style=\"color: #800080; text-decoration-color: #800080; font-style: italic\">None</span><span style=\"font-weight: bold\">}</span>\n",
       "</pre>\n"
      ],
      "text/plain": [
       "\n",
       "Stepping conversations:\n",
       "\u001b[1m{\u001b[0m\u001b[1;36m0\u001b[0m: \u001b[3;35mNone\u001b[0m, \u001b[1;36m1\u001b[0m: \u001b[3;35mNone\u001b[0m, \u001b[1;36m2\u001b[0m: \u001b[3;35mNone\u001b[0m\u001b[1m}\u001b[0m\n"
      ]
     },
     "metadata": {},
     "output_type": "display_data"
    },
    {
     "data": {
      "text/html": [
       "<pre style=\"white-space:pre;overflow-x:auto;line-height:normal;font-family:Menlo,'DejaVu Sans Mono',consolas,'Courier New',monospace\">\n",
       "All conversations are now waiting for user input\n",
       "</pre>\n"
      ],
      "text/plain": [
       "\n",
       "All conversations are now waiting for user input\n"
      ]
     },
     "metadata": {},
     "output_type": "display_data"
    },
    {
     "data": {
      "text/html": [
       "<pre style=\"white-space:pre;overflow-x:auto;line-height:normal;font-family:Menlo,'DejaVu Sans Mono',consolas,'Courier New',monospace\">\n",
       "Conversation <span style=\"color: #008080; text-decoration-color: #008080; font-weight: bold\">0</span> <span style=\"font-weight: bold\">(</span>Turn <span style=\"color: #008080; text-decoration-color: #008080; font-weight: bold\">4</span><span style=\"font-weight: bold\">)</span>:\n",
       "</pre>\n"
      ],
      "text/plain": [
       "\n",
       "Conversation \u001b[1;36m0\u001b[0m \u001b[1m(\u001b[0mTurn \u001b[1;36m4\u001b[0m\u001b[1m)\u001b[0m:\n"
      ]
     },
     "metadata": {},
     "output_type": "display_data"
    },
    {
     "data": {
      "text/html": [
       "<pre style=\"white-space:pre;overflow-x:auto;line-height:normal;font-family:Menlo,'DejaVu Sans Mono',consolas,'Courier New',monospace\">Last observation: \n",
       "Agent:  It looks like <span style=\"color: #008000; text-decoration-color: #008000\">\"The Tower\"</span> could be a good fit for a high-rated landmark that inclu<span style=\"color: #808000; text-decoration-color: #808000\">...</span>\n",
       "</pre>\n"
      ],
      "text/plain": [
       "Last observation: \n",
       "Agent:  It looks like \u001b[32m\"The Tower\"\u001b[0m could be a good fit for a high-rated landmark that inclu\u001b[33m...\u001b[0m\n"
      ]
     },
     "metadata": {},
     "output_type": "display_data"
    },
    {
     "data": {
      "text/html": [
       "<pre style=\"white-space:pre;overflow-x:auto;line-height:normal;font-family:Menlo,'DejaVu Sans Mono',consolas,'Courier New',monospace\">\n",
       "Conversation <span style=\"color: #008080; text-decoration-color: #008080; font-weight: bold\">1</span> <span style=\"font-weight: bold\">(</span>Turn <span style=\"color: #008080; text-decoration-color: #008080; font-weight: bold\">4</span><span style=\"font-weight: bold\">)</span>:\n",
       "</pre>\n"
      ],
      "text/plain": [
       "\n",
       "Conversation \u001b[1;36m1\u001b[0m \u001b[1m(\u001b[0mTurn \u001b[1;36m4\u001b[0m\u001b[1m)\u001b[0m:\n"
      ]
     },
     "metadata": {},
     "output_type": "display_data"
    },
    {
     "data": {
      "text/html": [
       "<pre style=\"white-space:pre;overflow-x:auto;line-height:normal;font-family:Menlo,'DejaVu Sans Mono',consolas,'Courier New',monospace\">Last observation: \n",
       "Agent:  I have found a landmark, The Tower, that fulfills all your requirements: high rati<span style=\"color: #808000; text-decoration-color: #808000\">...</span>\n",
       "</pre>\n"
      ],
      "text/plain": [
       "Last observation: \n",
       "Agent:  I have found a landmark, The Tower, that fulfills all your requirements: high rati\u001b[33m...\u001b[0m\n"
      ]
     },
     "metadata": {},
     "output_type": "display_data"
    },
    {
     "data": {
      "text/html": [
       "<pre style=\"white-space:pre;overflow-x:auto;line-height:normal;font-family:Menlo,'DejaVu Sans Mono',consolas,'Courier New',monospace\">\n",
       "Conversation <span style=\"color: #008080; text-decoration-color: #008080; font-weight: bold\">2</span> <span style=\"font-weight: bold\">(</span>Turn <span style=\"color: #008080; text-decoration-color: #008080; font-weight: bold\">9</span><span style=\"font-weight: bold\">)</span>:\n",
       "</pre>\n"
      ],
      "text/plain": [
       "\n",
       "Conversation \u001b[1;36m2\u001b[0m \u001b[1m(\u001b[0mTurn \u001b[1;36m9\u001b[0m\u001b[1m)\u001b[0m:\n"
      ]
     },
     "metadata": {},
     "output_type": "display_data"
    },
    {
     "data": {
      "text/html": [
       "<pre style=\"white-space:pre;overflow-x:auto;line-height:normal;font-family:Menlo,'DejaVu Sans Mono',consolas,'Courier New',monospace\">Last observation: \n",
       "Agent:  Alright, so The Dive seems to be quite close to Central Plaza and it has parking. <span style=\"color: #808000; text-decoration-color: #808000\">...</span>\n",
       "</pre>\n"
      ],
      "text/plain": [
       "Last observation: \n",
       "Agent:  Alright, so The Dive seems to be quite close to Central Plaza and it has parking. \u001b[33m...\u001b[0m\n"
      ]
     },
     "metadata": {},
     "output_type": "display_data"
    }
   ],
   "source": [
    "\n",
    "def step_parallel_conversations(parallel_convs):\n",
    "    \"\"\"Step conversations until each hits a user turn\"\"\"\n",
    "    \n",
    "    # Track which conversations are waiting for user input\n",
    "    waiting_for_user = [False] * len(parallel_convs.conversations)\n",
    "    \n",
    "    \n",
    "    while not all(waiting_for_user):\n",
    "        # Get responses for conversations where it's agent's turn\n",
    "    \n",
    "        active_convs = {0:'', 1:'', 2:''}  # Track which conversations get stepped\n",
    "        \n",
    "        for i, conv in enumerate(parallel_convs.conversations):\n",
    "            if waiting_for_user[i]:\n",
    "                active_convs[i] = None  # Placeholder to maintain indexing\n",
    "                continue\n",
    "                \n",
    "            state = conv.get_current_state()\n",
    "            if state.obss[\"turn_player\"] == \"agent\":\n",
    "                response = conv.players[\"agent\"].respond(vary=True)\n",
    "                active_convs[i] = response\n",
    "            \n",
    "            else:\n",
    "                # Hit user turn - mark this conversation as waiting\n",
    "                waiting_for_user[i] = True\n",
    "                active_convs[i] = None\n",
    "                print(f\"----Conversation {i} is waiting for user input---\")\n",
    "        \n",
    "        # Step only the active conversations forward\n",
    "        if active_convs:\n",
    "\n",
    "            print(\"\\nStepping conversations:\", active_convs)\n",
    "            for i, response in active_convs.items():\n",
    "                if response is not None:\n",
    "                    print(f\"\\nConversation {i} response:\\n{response[:100]}...\")\n",
    "                    conv = parallel_convs.conversations[i]\n",
    "                    players = parallel_convs.players_dict[i]\n",
    "                    print(response)\n",
    "                    \n",
    "                    conv.step(str(response), conv.get_current_state().turn + 1)\n",
    "                    [player.observe(conv.state.obss[pname]) for pname, player in players.items()]\n",
    "                \n",
    "        \n",
    "    \n",
    "    print(\"\\nAll conversations are now waiting for user input\")\n",
    "    # Print current state of each conversation\n",
    "    for i, conv in enumerate(parallel_convs.conversations):\n",
    "        state = conv.get_current_state()\n",
    "        print(f\"\\nConversation {i} (Turn {state.turn}):\")\n",
    "        print(f\"Last observation: {state.obss.get('user', '')[:100]}...\")\n",
    "    \n",
    "    return parallel_convs\n",
    "\n",
    "# Use it like this:\n",
    "parallel_convs = step_parallel_conversations(parallel_convs)\n"
   ]
  },
  {
   "cell_type": "code",
   "execution_count": 104,
   "metadata": {},
   "outputs": [],
   "source": [
    "def get_conversation_streams(parallel_convs):\n",
    "    \"\"\"Get the full conversation history for each parallel stream\"\"\"\n",
    "    conversation_streams = []\n",
    "    \n",
    "    for i, conv in enumerate(parallel_convs.conversations):\n",
    "        stream = []\n",
    "        # Get all observations from conversation history\n",
    "        for state in conv.history:\n",
    "            if 'user' in state.obss:\n",
    "                stream.append(('user', state.obss['user']))\n",
    "            if 'agent' in state.obss:\n",
    "                stream.append(('agent', state.obss['agent']))\n",
    "                # Get all observations from conversation history\n",
    "        formatted_stream = '\\n'.join([f\"{speaker}: {message}\\n\" for speaker, message in stream])     \n",
    "        worksheet.update_cell(2, 8+i, formatted_stream)\n",
    "        conversation_streams.append(stream)\n",
    "\n",
    "             \n",
    "    # Save conversation streams to spreadsheet\n",
    "\n",
    "            \n",
    "    # Update cell H2 with the conversation streams\n",
    "    \n",
    "            \n",
    "    return conversation_streams\n",
    "\n",
    "# Get the conversation streams\n",
    "conversation_streams = get_conversation_streams(parallel_convs)\n"
   ]
  },
  {
   "cell_type": "code",
   "execution_count": 105,
   "metadata": {},
   "outputs": [],
   "source": [
    "\n",
    "def clean_user_conversation(base_user_prompt_obss,  parallel_convs):\n",
    "    user_conversations_no_pref = []\n",
    "    \n",
    "    for i in range(3):\n",
    "        user_conve_record = base_user_prompt_obss + parallel_convs.players_dict[i]['user'].user_prompt_obss\n",
    "        first_you = user_conve_record.find(\"You:\")\n",
    "        second_you = user_conve_record.find(\"You:\", first_you + 1)\n",
    "\n",
    "    # Get everything from second \"You:\" onwards\n",
    "        user_conversations_no_pref.append(user_conve_record[second_you:])\n",
    "    return user_conversations_no_pref\n",
    "\n",
    "user_conversations_no_pref = clean_user_conversation(user.user_prompt_obss, parallel_convs)\n",
    "\n"
   ]
  },
  {
   "cell_type": "code",
   "execution_count": 106,
   "metadata": {},
   "outputs": [
    {
     "data": {
      "text/html": [
       "<pre style=\"white-space:pre;overflow-x:auto;line-height:normal;font-family:Menlo,'DejaVu Sans Mono',consolas,'Courier New',monospace\"><span style=\"color: #008080; text-decoration-color: #008080; font-weight: bold\">10</span>\n",
       "</pre>\n"
      ],
      "text/plain": [
       "\u001b[1;36m10\u001b[0m\n"
      ]
     },
     "metadata": {},
     "output_type": "display_data"
    },
    {
     "data": {
      "text/html": [
       "<pre style=\"white-space:pre;overflow-x:auto;line-height:normal;font-family:Menlo,'DejaVu Sans Mono',consolas,'Courier New',monospace\"><span style=\"color: #008080; text-decoration-color: #008080; font-weight: bold\">0</span>\n",
       "</pre>\n"
      ],
      "text/plain": [
       "\u001b[1;36m0\u001b[0m\n"
      ]
     },
     "metadata": {},
     "output_type": "display_data"
    },
    {
     "data": {
      "text/html": [
       "<pre style=\"white-space:pre;overflow-x:auto;line-height:normal;font-family:Menlo,'DejaVu Sans Mono',consolas,'Courier New',monospace\">J\n",
       "</pre>\n"
      ],
      "text/plain": [
       "J\n"
      ]
     },
     "metadata": {},
     "output_type": "display_data"
    },
    {
     "name": "stderr",
     "output_type": "stream",
     "text": [
      "/var/folders/c9/mvmx0pt17m51nyh8wgjnqj900000gn/T/ipykernel_18629/1149827425.py:42: DeprecationWarning: The order of arguments in worksheet.update() has changed. Please pass values first and range_name secondor used named arguments (range_name=, values=)\n",
      "  worksheet.update(f'{get_column_letter(10*j)}{5}:{get_column_letter(10*j + 9)}{5}', [preferences])\n"
     ]
    },
    {
     "data": {
      "text/html": [
       "<pre style=\"white-space:pre;overflow-x:auto;line-height:normal;font-family:Menlo,'DejaVu Sans Mono',consolas,'Courier New',monospace\"><span style=\"color: #008080; text-decoration-color: #008080; font-weight: bold\">10</span>\n",
       "</pre>\n"
      ],
      "text/plain": [
       "\u001b[1;36m10\u001b[0m\n"
      ]
     },
     "metadata": {},
     "output_type": "display_data"
    },
    {
     "data": {
      "text/html": [
       "<pre style=\"white-space:pre;overflow-x:auto;line-height:normal;font-family:Menlo,'DejaVu Sans Mono',consolas,'Courier New',monospace\"><span style=\"color: #008080; text-decoration-color: #008080; font-weight: bold\">1</span>\n",
       "</pre>\n"
      ],
      "text/plain": [
       "\u001b[1;36m1\u001b[0m\n"
      ]
     },
     "metadata": {},
     "output_type": "display_data"
    },
    {
     "data": {
      "text/html": [
       "<pre style=\"white-space:pre;overflow-x:auto;line-height:normal;font-family:Menlo,'DejaVu Sans Mono',consolas,'Courier New',monospace\">K\n",
       "</pre>\n"
      ],
      "text/plain": [
       "K\n"
      ]
     },
     "metadata": {},
     "output_type": "display_data"
    },
    {
     "data": {
      "text/html": [
       "<pre style=\"white-space:pre;overflow-x:auto;line-height:normal;font-family:Menlo,'DejaVu Sans Mono',consolas,'Courier New',monospace\">T\n",
       "</pre>\n"
      ],
      "text/plain": [
       "T\n"
      ]
     },
     "metadata": {},
     "output_type": "display_data"
    },
    {
     "data": {
      "text/html": [
       "<pre style=\"white-space:pre;overflow-x:auto;line-height:normal;font-family:Menlo,'DejaVu Sans Mono',consolas,'Courier New',monospace\"><span style=\"color: #008080; text-decoration-color: #008080; font-weight: bold\">10</span>\n",
       "</pre>\n"
      ],
      "text/plain": [
       "\u001b[1;36m10\u001b[0m\n"
      ]
     },
     "metadata": {},
     "output_type": "display_data"
    },
    {
     "data": {
      "text/html": [
       "<pre style=\"white-space:pre;overflow-x:auto;line-height:normal;font-family:Menlo,'DejaVu Sans Mono',consolas,'Courier New',monospace\"><span style=\"color: #008080; text-decoration-color: #008080; font-weight: bold\">2</span>\n",
       "</pre>\n"
      ],
      "text/plain": [
       "\u001b[1;36m2\u001b[0m\n"
      ]
     },
     "metadata": {},
     "output_type": "display_data"
    },
    {
     "data": {
      "text/html": [
       "<pre style=\"white-space:pre;overflow-x:auto;line-height:normal;font-family:Menlo,'DejaVu Sans Mono',consolas,'Courier New',monospace\">U\n",
       "</pre>\n"
      ],
      "text/plain": [
       "U\n"
      ]
     },
     "metadata": {},
     "output_type": "display_data"
    },
    {
     "data": {
      "text/html": [
       "<pre style=\"white-space:pre;overflow-x:auto;line-height:normal;font-family:Menlo,'DejaVu Sans Mono',consolas,'Courier New',monospace\">B\n",
       "</pre>\n"
      ],
      "text/plain": [
       "B\n"
      ]
     },
     "metadata": {},
     "output_type": "display_data"
    }
   ],
   "source": [
    "\n",
    "def sample_preferences(known_preferences):\n",
    "    potential_prefs_list = json.loads(open(\"/Users/georgiazhou/research_machine/dialop/dialop/RL/feature_dict.txt\").read())\n",
    "    # it's a dictionary, so we need to get the keys; known should also be a dictionary\n",
    "    # make sure known preferences are keys or dicts/\n",
    "    available_prefs = list(set(potential_prefs_list.keys()) - set(known_preferences))\n",
    "    pref_list = random.sample(available_prefs, (10-len(known_preferences)))\n",
    "    pref_dict = {}\n",
    "    for pref in pref_list:\n",
    "        if potential_prefs_list[pref] == 'binary':\n",
    "            pref_dict[pref] = random.choice(['like', 'dislike'])\n",
    "        else:\n",
    "            pref_dict[pref] = 'like'\n",
    "        \n",
    "    return pref_dict\n",
    "def get_column_letter(n):\n",
    "    \"\"\"Convert number to Excel column letters (A->1, B->2, AA->27, etc)\"\"\"\n",
    "    if n == 0:\n",
    "        return 'A'\n",
    "    while n > 0:\n",
    "        n, remainder = divmod(n, 26)\n",
    "        result = chr(65 + remainder) \n",
    "    print(result)\n",
    "    return result\n",
    "def n_10_user_personas(user_convs_no_pref, extracted_features):\n",
    "    all_prompts = []\n",
    "    \n",
    "    \n",
    "    # currently there's 1 user per agent reply. \n",
    "    for j,record in enumerate(user_convs_no_pref):\n",
    "        prompts = []\n",
    "        preferences = []\n",
    "        for i in range(10):\n",
    "            if style_response:\n",
    "                preference = 'Here are your preferences: ' + str(extracted_features) + str(sample_preferences(extracted_features)) + \"\\n\" + \"Here are your communication styles: \" + str(style_response)\n",
    "            else:\n",
    "                preference = 'Here are your preferences: ' + str(extracted_features) + str(sample_preferences(extracted_features))\n",
    "            features_prompt = preference + '\\n' + record\n",
    "            prompts.append(features_prompt)\n",
    "            preferences.append(preference)\n",
    "        print(len(preferences))\n",
    "        print(j)\n",
    "        worksheet.update(f'{get_column_letter(10*j)}{5}:{get_column_letter(10*j + 9)}{5}', [preferences])\n",
    "        all_prompts.append(prompts)\n",
    "        \n",
    "    return all_prompts\n",
    "\n",
    "all_prompts = n_10_user_personas(user_conversations_no_pref, extracted_features)\n",
    "\n",
    "\n",
    "# do I sample communication style? \n",
    "\n",
    "# next I should make sure info used to create users are helpful (what cuisine, what distance, etc). Also make sure the \n",
    "# user understands the preferences. Then I add the general user prompt to the begining of each user prompt"
   ]
  },
  {
   "cell_type": "code",
   "execution_count": 117,
   "metadata": {},
   "outputs": [],
   "source": [
    "\n",
    "def create_10_new_user_per_conv(half_prompts, parallel_convs):\n",
    "    players = {}\n",
    "    for i, half_per_conv in enumerate(half_prompts):\n",
    "        players[i] = parallel_convs.create_pair_new_players(parallel_convs.players_dict[i], multiple_user_personas_incomplete=half_per_conv)\n",
    "    return players\n",
    "    \n",
    "\n",
    "pairs_3_10_2_pairs_dict = create_10_new_user_per_conv(all_prompts, parallel_convs)\n",
    "#print(agent_user_10_pairs_dict[0]['user_0'].prompt, agent_user_10_pairs_dict[0]['user_1'].prompt)\n"
   ]
  },
  {
   "cell_type": "code",
   "execution_count": null,
   "metadata": {},
   "outputs": [],
   "source": [
    "class player_pair:\n",
    "    def __init__(self, players, conv_id, id):\n",
    "        self.players= players\n",
    "        self.conv_id = conv_id\n",
    "        self.id = id\n",
    "        \n",
    "    def attach_env(self, env):\n",
    "        self.env = env\n",
    "    \n",
    "    \n",
    "        \n",
    "        \n",
    "        \n",
    "        "
   ]
  },
  {
   "cell_type": "code",
   "execution_count": 131,
   "metadata": {},
   "outputs": [
    {
     "data": {
      "text/html": [
       "<pre style=\"white-space:pre;overflow-x:auto;line-height:normal;font-family:Menlo,'DejaVu Sans Mono',consolas,'Courier New',monospace\">Response:  <span style=\"font-weight: bold\">[</span>message<span style=\"font-weight: bold\">]</span> I don't have a set sequence but I am leaning towards minimizing my travel distance as well. I \n",
       "would greatly appreciate it if the recommendations could be situated relatively close to one another.\n",
       "</pre>\n"
      ],
      "text/plain": [
       "Response:  \u001b[1m[\u001b[0mmessage\u001b[1m]\u001b[0m I don't have a set sequence but I am leaning towards minimizing my travel distance as well. I \n",
       "would greatly appreciate it if the recommendations could be situated relatively close to one another.\n"
      ]
     },
     "metadata": {},
     "output_type": "display_data"
    },
    {
     "data": {
      "text/html": [
       "<pre style=\"white-space:pre;overflow-x:auto;line-height:normal;font-family:Menlo,'DejaVu Sans Mono',consolas,'Courier New',monospace\">stop:  stop\n",
       "</pre>\n"
      ],
      "text/plain": [
       "stop:  stop\n"
      ]
     },
     "metadata": {},
     "output_type": "display_data"
    },
    {
     "data": {
      "text/html": [
       "<pre style=\"white-space:pre;overflow-x:auto;line-height:normal;font-family:Menlo,'DejaVu Sans Mono',consolas,'Courier New',monospace\"><span style=\"color: #800080; text-decoration-color: #800080; font-weight: bold\">CompletionUsage</span><span style=\"font-weight: bold\">(</span>\n",
       "    <span style=\"color: #808000; text-decoration-color: #808000\">completion_tokens</span>=<span style=\"color: #008080; text-decoration-color: #008080; font-weight: bold\">39</span>,\n",
       "    <span style=\"color: #808000; text-decoration-color: #808000\">prompt_tokens</span>=<span style=\"color: #008080; text-decoration-color: #008080; font-weight: bold\">2604</span>,\n",
       "    <span style=\"color: #808000; text-decoration-color: #808000\">total_tokens</span>=<span style=\"color: #008080; text-decoration-color: #008080; font-weight: bold\">2643</span>,\n",
       "    <span style=\"color: #808000; text-decoration-color: #808000\">completion_tokens_details</span>=<span style=\"color: #800080; text-decoration-color: #800080; font-weight: bold\">CompletionTokensDetails</span><span style=\"font-weight: bold\">(</span>\n",
       "        <span style=\"color: #808000; text-decoration-color: #808000\">reasoning_tokens</span>=<span style=\"color: #008080; text-decoration-color: #008080; font-weight: bold\">0</span>,\n",
       "        <span style=\"color: #808000; text-decoration-color: #808000\">accepted_prediction_tokens</span>=<span style=\"color: #008080; text-decoration-color: #008080; font-weight: bold\">0</span>,\n",
       "        <span style=\"color: #808000; text-decoration-color: #808000\">rejected_prediction_tokens</span>=<span style=\"color: #008080; text-decoration-color: #008080; font-weight: bold\">0</span>\n",
       "    <span style=\"font-weight: bold\">)</span>,\n",
       "    <span style=\"color: #808000; text-decoration-color: #808000\">prompt_tokens_details</span>=<span style=\"font-weight: bold\">{</span><span style=\"color: #008000; text-decoration-color: #008000\">'cached_tokens'</span>: <span style=\"color: #008080; text-decoration-color: #008080; font-weight: bold\">0</span><span style=\"font-weight: bold\">}</span>\n",
       "<span style=\"font-weight: bold\">)</span>\n",
       "</pre>\n"
      ],
      "text/plain": [
       "\u001b[1;35mCompletionUsage\u001b[0m\u001b[1m(\u001b[0m\n",
       "    \u001b[33mcompletion_tokens\u001b[0m=\u001b[1;36m39\u001b[0m,\n",
       "    \u001b[33mprompt_tokens\u001b[0m=\u001b[1;36m2604\u001b[0m,\n",
       "    \u001b[33mtotal_tokens\u001b[0m=\u001b[1;36m2643\u001b[0m,\n",
       "    \u001b[33mcompletion_tokens_details\u001b[0m=\u001b[1;35mCompletionTokensDetails\u001b[0m\u001b[1m(\u001b[0m\n",
       "        \u001b[33mreasoning_tokens\u001b[0m=\u001b[1;36m0\u001b[0m,\n",
       "        \u001b[33maccepted_prediction_tokens\u001b[0m=\u001b[1;36m0\u001b[0m,\n",
       "        \u001b[33mrejected_prediction_tokens\u001b[0m=\u001b[1;36m0\u001b[0m\n",
       "    \u001b[1m)\u001b[0m,\n",
       "    \u001b[33mprompt_tokens_details\u001b[0m=\u001b[1m{\u001b[0m\u001b[32m'cached_tokens'\u001b[0m: \u001b[1;36m0\u001b[0m\u001b[1m}\u001b[0m\n",
       "\u001b[1m)\u001b[0m\n"
      ]
     },
     "metadata": {},
     "output_type": "display_data"
    },
    {
     "data": {
      "text/html": [
       "<pre style=\"white-space:pre;overflow-x:auto;line-height:normal;font-family:Menlo,'DejaVu Sans Mono',consolas,'Courier New',monospace\"><span style=\"color: #008080; text-decoration-color: #008080; font-weight: bold\">1</span>\n",
       "</pre>\n"
      ],
      "text/plain": [
       "\u001b[1;36m1\u001b[0m\n"
      ]
     },
     "metadata": {},
     "output_type": "display_data"
    },
    {
     "data": {
      "text/html": [
       "<pre style=\"white-space:pre;overflow-x:auto;line-height:normal;font-family:Menlo,'DejaVu Sans Mono',consolas,'Courier New',monospace\">Response:  <span style=\"font-weight: bold\">[</span>message<span style=\"font-weight: bold\">]</span> I'm flexible on the order, however I do want to ensure minimal travel distance between each \n",
       "place. By the way, for later in the day I was thinking of exploring live music spots, so maybe add that to the \n",
       "consideration?\n",
       "</pre>\n"
      ],
      "text/plain": [
       "Response:  \u001b[1m[\u001b[0mmessage\u001b[1m]\u001b[0m I'm flexible on the order, however I do want to ensure minimal travel distance between each \n",
       "place. By the way, for later in the day I was thinking of exploring live music spots, so maybe add that to the \n",
       "consideration?\n"
      ]
     },
     "metadata": {},
     "output_type": "display_data"
    },
    {
     "data": {
      "text/html": [
       "<pre style=\"white-space:pre;overflow-x:auto;line-height:normal;font-family:Menlo,'DejaVu Sans Mono',consolas,'Courier New',monospace\">stop:  stop\n",
       "</pre>\n"
      ],
      "text/plain": [
       "stop:  stop\n"
      ]
     },
     "metadata": {},
     "output_type": "display_data"
    },
    {
     "data": {
      "text/html": [
       "<pre style=\"white-space:pre;overflow-x:auto;line-height:normal;font-family:Menlo,'DejaVu Sans Mono',consolas,'Courier New',monospace\"><span style=\"color: #800080; text-decoration-color: #800080; font-weight: bold\">CompletionUsage</span><span style=\"font-weight: bold\">(</span>\n",
       "    <span style=\"color: #808000; text-decoration-color: #808000\">completion_tokens</span>=<span style=\"color: #008080; text-decoration-color: #008080; font-weight: bold\">49</span>,\n",
       "    <span style=\"color: #808000; text-decoration-color: #808000\">prompt_tokens</span>=<span style=\"color: #008080; text-decoration-color: #008080; font-weight: bold\">2715</span>,\n",
       "    <span style=\"color: #808000; text-decoration-color: #808000\">total_tokens</span>=<span style=\"color: #008080; text-decoration-color: #008080; font-weight: bold\">2764</span>,\n",
       "    <span style=\"color: #808000; text-decoration-color: #808000\">completion_tokens_details</span>=<span style=\"color: #800080; text-decoration-color: #800080; font-weight: bold\">CompletionTokensDetails</span><span style=\"font-weight: bold\">(</span>\n",
       "        <span style=\"color: #808000; text-decoration-color: #808000\">reasoning_tokens</span>=<span style=\"color: #008080; text-decoration-color: #008080; font-weight: bold\">0</span>,\n",
       "        <span style=\"color: #808000; text-decoration-color: #808000\">accepted_prediction_tokens</span>=<span style=\"color: #008080; text-decoration-color: #008080; font-weight: bold\">0</span>,\n",
       "        <span style=\"color: #808000; text-decoration-color: #808000\">rejected_prediction_tokens</span>=<span style=\"color: #008080; text-decoration-color: #008080; font-weight: bold\">0</span>\n",
       "    <span style=\"font-weight: bold\">)</span>,\n",
       "    <span style=\"color: #808000; text-decoration-color: #808000\">prompt_tokens_details</span>=<span style=\"font-weight: bold\">{</span><span style=\"color: #008000; text-decoration-color: #008000\">'cached_tokens'</span>: <span style=\"color: #008080; text-decoration-color: #008080; font-weight: bold\">0</span><span style=\"font-weight: bold\">}</span>\n",
       "<span style=\"font-weight: bold\">)</span>\n",
       "</pre>\n"
      ],
      "text/plain": [
       "\u001b[1;35mCompletionUsage\u001b[0m\u001b[1m(\u001b[0m\n",
       "    \u001b[33mcompletion_tokens\u001b[0m=\u001b[1;36m49\u001b[0m,\n",
       "    \u001b[33mprompt_tokens\u001b[0m=\u001b[1;36m2715\u001b[0m,\n",
       "    \u001b[33mtotal_tokens\u001b[0m=\u001b[1;36m2764\u001b[0m,\n",
       "    \u001b[33mcompletion_tokens_details\u001b[0m=\u001b[1;35mCompletionTokensDetails\u001b[0m\u001b[1m(\u001b[0m\n",
       "        \u001b[33mreasoning_tokens\u001b[0m=\u001b[1;36m0\u001b[0m,\n",
       "        \u001b[33maccepted_prediction_tokens\u001b[0m=\u001b[1;36m0\u001b[0m,\n",
       "        \u001b[33mrejected_prediction_tokens\u001b[0m=\u001b[1;36m0\u001b[0m\n",
       "    \u001b[1m)\u001b[0m,\n",
       "    \u001b[33mprompt_tokens_details\u001b[0m=\u001b[1m{\u001b[0m\u001b[32m'cached_tokens'\u001b[0m: \u001b[1;36m0\u001b[0m\u001b[1m}\u001b[0m\n",
       "\u001b[1m)\u001b[0m\n"
      ]
     },
     "metadata": {},
     "output_type": "display_data"
    },
    {
     "data": {
      "text/html": [
       "<pre style=\"white-space:pre;overflow-x:auto;line-height:normal;font-family:Menlo,'DejaVu Sans Mono',consolas,'Courier New',monospace\"><span style=\"color: #008080; text-decoration-color: #008080; font-weight: bold\">1</span>\n",
       "</pre>\n"
      ],
      "text/plain": [
       "\u001b[1;36m1\u001b[0m\n"
      ]
     },
     "metadata": {},
     "output_type": "display_data"
    },
    {
     "data": {
      "text/html": [
       "<pre style=\"white-space:pre;overflow-x:auto;line-height:normal;font-family:Menlo,'DejaVu Sans Mono',consolas,'Courier New',monospace\">Response:  <span style=\"font-weight: bold\">[</span>message<span style=\"font-weight: bold\">]</span> The Tower sounds great. As for the sequence of locations, I am flexible as long as travel \n",
       "distances are minimized. Could you share more about Central Plaza and The Mall? And do they have parking available \n",
       "as well?\n",
       "</pre>\n"
      ],
      "text/plain": [
       "Response:  \u001b[1m[\u001b[0mmessage\u001b[1m]\u001b[0m The Tower sounds great. As for the sequence of locations, I am flexible as long as travel \n",
       "distances are minimized. Could you share more about Central Plaza and The Mall? And do they have parking available \n",
       "as well?\n"
      ]
     },
     "metadata": {},
     "output_type": "display_data"
    },
    {
     "data": {
      "text/html": [
       "<pre style=\"white-space:pre;overflow-x:auto;line-height:normal;font-family:Menlo,'DejaVu Sans Mono',consolas,'Courier New',monospace\">stop:  stop\n",
       "</pre>\n"
      ],
      "text/plain": [
       "stop:  stop\n"
      ]
     },
     "metadata": {},
     "output_type": "display_data"
    },
    {
     "data": {
      "text/html": [
       "<pre style=\"white-space:pre;overflow-x:auto;line-height:normal;font-family:Menlo,'DejaVu Sans Mono',consolas,'Courier New',monospace\"><span style=\"color: #800080; text-decoration-color: #800080; font-weight: bold\">CompletionUsage</span><span style=\"font-weight: bold\">(</span>\n",
       "    <span style=\"color: #808000; text-decoration-color: #808000\">completion_tokens</span>=<span style=\"color: #008080; text-decoration-color: #008080; font-weight: bold\">46</span>,\n",
       "    <span style=\"color: #808000; text-decoration-color: #808000\">prompt_tokens</span>=<span style=\"color: #008080; text-decoration-color: #008080; font-weight: bold\">2824</span>,\n",
       "    <span style=\"color: #808000; text-decoration-color: #808000\">total_tokens</span>=<span style=\"color: #008080; text-decoration-color: #008080; font-weight: bold\">2870</span>,\n",
       "    <span style=\"color: #808000; text-decoration-color: #808000\">completion_tokens_details</span>=<span style=\"color: #800080; text-decoration-color: #800080; font-weight: bold\">CompletionTokensDetails</span><span style=\"font-weight: bold\">(</span>\n",
       "        <span style=\"color: #808000; text-decoration-color: #808000\">reasoning_tokens</span>=<span style=\"color: #008080; text-decoration-color: #008080; font-weight: bold\">0</span>,\n",
       "        <span style=\"color: #808000; text-decoration-color: #808000\">accepted_prediction_tokens</span>=<span style=\"color: #008080; text-decoration-color: #008080; font-weight: bold\">0</span>,\n",
       "        <span style=\"color: #808000; text-decoration-color: #808000\">rejected_prediction_tokens</span>=<span style=\"color: #008080; text-decoration-color: #008080; font-weight: bold\">0</span>\n",
       "    <span style=\"font-weight: bold\">)</span>,\n",
       "    <span style=\"color: #808000; text-decoration-color: #808000\">prompt_tokens_details</span>=<span style=\"font-weight: bold\">{</span><span style=\"color: #008000; text-decoration-color: #008000\">'cached_tokens'</span>: <span style=\"color: #008080; text-decoration-color: #008080; font-weight: bold\">0</span><span style=\"font-weight: bold\">}</span>\n",
       "<span style=\"font-weight: bold\">)</span>\n",
       "</pre>\n"
      ],
      "text/plain": [
       "\u001b[1;35mCompletionUsage\u001b[0m\u001b[1m(\u001b[0m\n",
       "    \u001b[33mcompletion_tokens\u001b[0m=\u001b[1;36m46\u001b[0m,\n",
       "    \u001b[33mprompt_tokens\u001b[0m=\u001b[1;36m2824\u001b[0m,\n",
       "    \u001b[33mtotal_tokens\u001b[0m=\u001b[1;36m2870\u001b[0m,\n",
       "    \u001b[33mcompletion_tokens_details\u001b[0m=\u001b[1;35mCompletionTokensDetails\u001b[0m\u001b[1m(\u001b[0m\n",
       "        \u001b[33mreasoning_tokens\u001b[0m=\u001b[1;36m0\u001b[0m,\n",
       "        \u001b[33maccepted_prediction_tokens\u001b[0m=\u001b[1;36m0\u001b[0m,\n",
       "        \u001b[33mrejected_prediction_tokens\u001b[0m=\u001b[1;36m0\u001b[0m\n",
       "    \u001b[1m)\u001b[0m,\n",
       "    \u001b[33mprompt_tokens_details\u001b[0m=\u001b[1m{\u001b[0m\u001b[32m'cached_tokens'\u001b[0m: \u001b[1;36m0\u001b[0m\u001b[1m}\u001b[0m\n",
       "\u001b[1m)\u001b[0m\n"
      ]
     },
     "metadata": {},
     "output_type": "display_data"
    },
    {
     "data": {
      "text/html": [
       "<pre style=\"white-space:pre;overflow-x:auto;line-height:normal;font-family:Menlo,'DejaVu Sans Mono',consolas,'Courier New',monospace\"><span style=\"color: #008080; text-decoration-color: #008080; font-weight: bold\">1</span>\n",
       "</pre>\n"
      ],
      "text/plain": [
       "\u001b[1;36m1\u001b[0m\n"
      ]
     },
     "metadata": {},
     "output_type": "display_data"
    },
    {
     "data": {
      "text/html": [
       "<pre style=\"white-space:pre;overflow-x:auto;line-height:normal;font-family:Menlo,'DejaVu Sans Mono',consolas,'Courier New',monospace\">Response:  <span style=\"font-weight: bold\">[</span>message<span style=\"font-weight: bold\">]</span> The Tower does sound like a good fit for what I was asking for, thank you. About your question\n",
       "on visiting sequence, I'm pretty flexible. Although minimizing travel distance between them would be ideal. Are \n",
       "there parking spaces available at both Central Plaza and The Mall? I'll also need to find somewhere to grab some \n",
       "vegan food.\n",
       "</pre>\n"
      ],
      "text/plain": [
       "Response:  \u001b[1m[\u001b[0mmessage\u001b[1m]\u001b[0m The Tower does sound like a good fit for what I was asking for, thank you. About your question\n",
       "on visiting sequence, I'm pretty flexible. Although minimizing travel distance between them would be ideal. Are \n",
       "there parking spaces available at both Central Plaza and The Mall? I'll also need to find somewhere to grab some \n",
       "vegan food.\n"
      ]
     },
     "metadata": {},
     "output_type": "display_data"
    },
    {
     "data": {
      "text/html": [
       "<pre style=\"white-space:pre;overflow-x:auto;line-height:normal;font-family:Menlo,'DejaVu Sans Mono',consolas,'Courier New',monospace\">stop:  stop\n",
       "</pre>\n"
      ],
      "text/plain": [
       "stop:  stop\n"
      ]
     },
     "metadata": {},
     "output_type": "display_data"
    },
    {
     "data": {
      "text/html": [
       "<pre style=\"white-space:pre;overflow-x:auto;line-height:normal;font-family:Menlo,'DejaVu Sans Mono',consolas,'Courier New',monospace\"><span style=\"color: #800080; text-decoration-color: #800080; font-weight: bold\">CompletionUsage</span><span style=\"font-weight: bold\">(</span>\n",
       "    <span style=\"color: #808000; text-decoration-color: #808000\">completion_tokens</span>=<span style=\"color: #008080; text-decoration-color: #008080; font-weight: bold\">69</span>,\n",
       "    <span style=\"color: #808000; text-decoration-color: #808000\">prompt_tokens</span>=<span style=\"color: #008080; text-decoration-color: #008080; font-weight: bold\">2933</span>,\n",
       "    <span style=\"color: #808000; text-decoration-color: #808000\">total_tokens</span>=<span style=\"color: #008080; text-decoration-color: #008080; font-weight: bold\">3002</span>,\n",
       "    <span style=\"color: #808000; text-decoration-color: #808000\">completion_tokens_details</span>=<span style=\"color: #800080; text-decoration-color: #800080; font-weight: bold\">CompletionTokensDetails</span><span style=\"font-weight: bold\">(</span>\n",
       "        <span style=\"color: #808000; text-decoration-color: #808000\">reasoning_tokens</span>=<span style=\"color: #008080; text-decoration-color: #008080; font-weight: bold\">0</span>,\n",
       "        <span style=\"color: #808000; text-decoration-color: #808000\">accepted_prediction_tokens</span>=<span style=\"color: #008080; text-decoration-color: #008080; font-weight: bold\">0</span>,\n",
       "        <span style=\"color: #808000; text-decoration-color: #808000\">rejected_prediction_tokens</span>=<span style=\"color: #008080; text-decoration-color: #008080; font-weight: bold\">0</span>\n",
       "    <span style=\"font-weight: bold\">)</span>,\n",
       "    <span style=\"color: #808000; text-decoration-color: #808000\">prompt_tokens_details</span>=<span style=\"font-weight: bold\">{</span><span style=\"color: #008000; text-decoration-color: #008000\">'cached_tokens'</span>: <span style=\"color: #008080; text-decoration-color: #008080; font-weight: bold\">0</span><span style=\"font-weight: bold\">}</span>\n",
       "<span style=\"font-weight: bold\">)</span>\n",
       "</pre>\n"
      ],
      "text/plain": [
       "\u001b[1;35mCompletionUsage\u001b[0m\u001b[1m(\u001b[0m\n",
       "    \u001b[33mcompletion_tokens\u001b[0m=\u001b[1;36m69\u001b[0m,\n",
       "    \u001b[33mprompt_tokens\u001b[0m=\u001b[1;36m2933\u001b[0m,\n",
       "    \u001b[33mtotal_tokens\u001b[0m=\u001b[1;36m3002\u001b[0m,\n",
       "    \u001b[33mcompletion_tokens_details\u001b[0m=\u001b[1;35mCompletionTokensDetails\u001b[0m\u001b[1m(\u001b[0m\n",
       "        \u001b[33mreasoning_tokens\u001b[0m=\u001b[1;36m0\u001b[0m,\n",
       "        \u001b[33maccepted_prediction_tokens\u001b[0m=\u001b[1;36m0\u001b[0m,\n",
       "        \u001b[33mrejected_prediction_tokens\u001b[0m=\u001b[1;36m0\u001b[0m\n",
       "    \u001b[1m)\u001b[0m,\n",
       "    \u001b[33mprompt_tokens_details\u001b[0m=\u001b[1m{\u001b[0m\u001b[32m'cached_tokens'\u001b[0m: \u001b[1;36m0\u001b[0m\u001b[1m}\u001b[0m\n",
       "\u001b[1m)\u001b[0m\n"
      ]
     },
     "metadata": {},
     "output_type": "display_data"
    },
    {
     "data": {
      "text/html": [
       "<pre style=\"white-space:pre;overflow-x:auto;line-height:normal;font-family:Menlo,'DejaVu Sans Mono',consolas,'Courier New',monospace\"><span style=\"color: #008080; text-decoration-color: #008080; font-weight: bold\">1</span>\n",
       "</pre>\n"
      ],
      "text/plain": [
       "\u001b[1;36m1\u001b[0m\n"
      ]
     },
     "metadata": {},
     "output_type": "display_data"
    },
    {
     "data": {
      "text/html": [
       "<pre style=\"white-space:pre;overflow-x:auto;line-height:normal;font-family:Menlo,'DejaVu Sans Mono',consolas,'Courier New',monospace\">Response:  <span style=\"font-weight: bold\">[</span>message<span style=\"font-weight: bold\">]</span> This sounds promising! I assume these venues also offer outdoor seating and WiFi as I will be \n",
       "needing that. Can you please check these and the respective travelling distance?\n",
       "</pre>\n"
      ],
      "text/plain": [
       "Response:  \u001b[1m[\u001b[0mmessage\u001b[1m]\u001b[0m This sounds promising! I assume these venues also offer outdoor seating and WiFi as I will be \n",
       "needing that. Can you please check these and the respective travelling distance?\n"
      ]
     },
     "metadata": {},
     "output_type": "display_data"
    },
    {
     "data": {
      "text/html": [
       "<pre style=\"white-space:pre;overflow-x:auto;line-height:normal;font-family:Menlo,'DejaVu Sans Mono',consolas,'Courier New',monospace\">stop:  stop\n",
       "</pre>\n"
      ],
      "text/plain": [
       "stop:  stop\n"
      ]
     },
     "metadata": {},
     "output_type": "display_data"
    },
    {
     "data": {
      "text/html": [
       "<pre style=\"white-space:pre;overflow-x:auto;line-height:normal;font-family:Menlo,'DejaVu Sans Mono',consolas,'Courier New',monospace\"><span style=\"color: #800080; text-decoration-color: #800080; font-weight: bold\">CompletionUsage</span><span style=\"font-weight: bold\">(</span>\n",
       "    <span style=\"color: #808000; text-decoration-color: #808000\">completion_tokens</span>=<span style=\"color: #008080; text-decoration-color: #008080; font-weight: bold\">35</span>,\n",
       "    <span style=\"color: #808000; text-decoration-color: #808000\">prompt_tokens</span>=<span style=\"color: #008080; text-decoration-color: #008080; font-weight: bold\">3074</span>,\n",
       "    <span style=\"color: #808000; text-decoration-color: #808000\">total_tokens</span>=<span style=\"color: #008080; text-decoration-color: #008080; font-weight: bold\">3109</span>,\n",
       "    <span style=\"color: #808000; text-decoration-color: #808000\">completion_tokens_details</span>=<span style=\"color: #800080; text-decoration-color: #800080; font-weight: bold\">CompletionTokensDetails</span><span style=\"font-weight: bold\">(</span>\n",
       "        <span style=\"color: #808000; text-decoration-color: #808000\">reasoning_tokens</span>=<span style=\"color: #008080; text-decoration-color: #008080; font-weight: bold\">0</span>,\n",
       "        <span style=\"color: #808000; text-decoration-color: #808000\">accepted_prediction_tokens</span>=<span style=\"color: #008080; text-decoration-color: #008080; font-weight: bold\">0</span>,\n",
       "        <span style=\"color: #808000; text-decoration-color: #808000\">rejected_prediction_tokens</span>=<span style=\"color: #008080; text-decoration-color: #008080; font-weight: bold\">0</span>\n",
       "    <span style=\"font-weight: bold\">)</span>,\n",
       "    <span style=\"color: #808000; text-decoration-color: #808000\">prompt_tokens_details</span>=<span style=\"font-weight: bold\">{</span><span style=\"color: #008000; text-decoration-color: #008000\">'cached_tokens'</span>: <span style=\"color: #008080; text-decoration-color: #008080; font-weight: bold\">0</span><span style=\"font-weight: bold\">}</span>\n",
       "<span style=\"font-weight: bold\">)</span>\n",
       "</pre>\n"
      ],
      "text/plain": [
       "\u001b[1;35mCompletionUsage\u001b[0m\u001b[1m(\u001b[0m\n",
       "    \u001b[33mcompletion_tokens\u001b[0m=\u001b[1;36m35\u001b[0m,\n",
       "    \u001b[33mprompt_tokens\u001b[0m=\u001b[1;36m3074\u001b[0m,\n",
       "    \u001b[33mtotal_tokens\u001b[0m=\u001b[1;36m3109\u001b[0m,\n",
       "    \u001b[33mcompletion_tokens_details\u001b[0m=\u001b[1;35mCompletionTokensDetails\u001b[0m\u001b[1m(\u001b[0m\n",
       "        \u001b[33mreasoning_tokens\u001b[0m=\u001b[1;36m0\u001b[0m,\n",
       "        \u001b[33maccepted_prediction_tokens\u001b[0m=\u001b[1;36m0\u001b[0m,\n",
       "        \u001b[33mrejected_prediction_tokens\u001b[0m=\u001b[1;36m0\u001b[0m\n",
       "    \u001b[1m)\u001b[0m,\n",
       "    \u001b[33mprompt_tokens_details\u001b[0m=\u001b[1m{\u001b[0m\u001b[32m'cached_tokens'\u001b[0m: \u001b[1;36m0\u001b[0m\u001b[1m}\u001b[0m\n",
       "\u001b[1m)\u001b[0m\n"
      ]
     },
     "metadata": {},
     "output_type": "display_data"
    },
    {
     "data": {
      "text/html": [
       "<pre style=\"white-space:pre;overflow-x:auto;line-height:normal;font-family:Menlo,'DejaVu Sans Mono',consolas,'Courier New',monospace\"><span style=\"color: #008080; text-decoration-color: #008080; font-weight: bold\">1</span>\n",
       "</pre>\n"
      ],
      "text/plain": [
       "\u001b[1;36m1\u001b[0m\n"
      ]
     },
     "metadata": {},
     "output_type": "display_data"
    },
    {
     "data": {
      "text/html": [
       "<pre style=\"white-space:pre;overflow-x:auto;line-height:normal;font-family:Menlo,'DejaVu Sans Mono',consolas,'Courier New',monospace\">Response:  <span style=\"font-weight: bold\">[</span>message<span style=\"font-weight: bold\">]</span> This is a good start, let's make sure to also find a place with Wi-fi and we want to eat only \n",
       "at places with good reviews. Are these options also available near The Dive? I'll also add we need to keep within \n",
       "the budget of $<span style=\"color: #008080; text-decoration-color: #008080; font-weight: bold\">40</span> and are taking COVID precautions very seriously. Do they offer any outdoor seating options? I'd \n",
       "also love to enjoy some live music while we eat, any such places in the vicinity?\n",
       "</pre>\n"
      ],
      "text/plain": [
       "Response:  \u001b[1m[\u001b[0mmessage\u001b[1m]\u001b[0m This is a good start, let's make sure to also find a place with Wi-fi and we want to eat only \n",
       "at places with good reviews. Are these options also available near The Dive? I'll also add we need to keep within \n",
       "the budget of $\u001b[1;36m40\u001b[0m and are taking COVID precautions very seriously. Do they offer any outdoor seating options? I'd \n",
       "also love to enjoy some live music while we eat, any such places in the vicinity?\n"
      ]
     },
     "metadata": {},
     "output_type": "display_data"
    },
    {
     "data": {
      "text/html": [
       "<pre style=\"white-space:pre;overflow-x:auto;line-height:normal;font-family:Menlo,'DejaVu Sans Mono',consolas,'Courier New',monospace\">stop:  stop\n",
       "</pre>\n"
      ],
      "text/plain": [
       "stop:  stop\n"
      ]
     },
     "metadata": {},
     "output_type": "display_data"
    },
    {
     "data": {
      "text/html": [
       "<pre style=\"white-space:pre;overflow-x:auto;line-height:normal;font-family:Menlo,'DejaVu Sans Mono',consolas,'Courier New',monospace\"><span style=\"color: #800080; text-decoration-color: #800080; font-weight: bold\">CompletionUsage</span><span style=\"font-weight: bold\">(</span>\n",
       "    <span style=\"color: #808000; text-decoration-color: #808000\">completion_tokens</span>=<span style=\"color: #008080; text-decoration-color: #008080; font-weight: bold\">92</span>,\n",
       "    <span style=\"color: #808000; text-decoration-color: #808000\">prompt_tokens</span>=<span style=\"color: #008080; text-decoration-color: #008080; font-weight: bold\">3215</span>,\n",
       "    <span style=\"color: #808000; text-decoration-color: #808000\">total_tokens</span>=<span style=\"color: #008080; text-decoration-color: #008080; font-weight: bold\">3307</span>,\n",
       "    <span style=\"color: #808000; text-decoration-color: #808000\">completion_tokens_details</span>=<span style=\"color: #800080; text-decoration-color: #800080; font-weight: bold\">CompletionTokensDetails</span><span style=\"font-weight: bold\">(</span>\n",
       "        <span style=\"color: #808000; text-decoration-color: #808000\">reasoning_tokens</span>=<span style=\"color: #008080; text-decoration-color: #008080; font-weight: bold\">0</span>,\n",
       "        <span style=\"color: #808000; text-decoration-color: #808000\">accepted_prediction_tokens</span>=<span style=\"color: #008080; text-decoration-color: #008080; font-weight: bold\">0</span>,\n",
       "        <span style=\"color: #808000; text-decoration-color: #808000\">rejected_prediction_tokens</span>=<span style=\"color: #008080; text-decoration-color: #008080; font-weight: bold\">0</span>\n",
       "    <span style=\"font-weight: bold\">)</span>,\n",
       "    <span style=\"color: #808000; text-decoration-color: #808000\">prompt_tokens_details</span>=<span style=\"font-weight: bold\">{</span><span style=\"color: #008000; text-decoration-color: #008000\">'cached_tokens'</span>: <span style=\"color: #008080; text-decoration-color: #008080; font-weight: bold\">0</span><span style=\"font-weight: bold\">}</span>\n",
       "<span style=\"font-weight: bold\">)</span>\n",
       "</pre>\n"
      ],
      "text/plain": [
       "\u001b[1;35mCompletionUsage\u001b[0m\u001b[1m(\u001b[0m\n",
       "    \u001b[33mcompletion_tokens\u001b[0m=\u001b[1;36m92\u001b[0m,\n",
       "    \u001b[33mprompt_tokens\u001b[0m=\u001b[1;36m3215\u001b[0m,\n",
       "    \u001b[33mtotal_tokens\u001b[0m=\u001b[1;36m3307\u001b[0m,\n",
       "    \u001b[33mcompletion_tokens_details\u001b[0m=\u001b[1;35mCompletionTokensDetails\u001b[0m\u001b[1m(\u001b[0m\n",
       "        \u001b[33mreasoning_tokens\u001b[0m=\u001b[1;36m0\u001b[0m,\n",
       "        \u001b[33maccepted_prediction_tokens\u001b[0m=\u001b[1;36m0\u001b[0m,\n",
       "        \u001b[33mrejected_prediction_tokens\u001b[0m=\u001b[1;36m0\u001b[0m\n",
       "    \u001b[1m)\u001b[0m,\n",
       "    \u001b[33mprompt_tokens_details\u001b[0m=\u001b[1m{\u001b[0m\u001b[32m'cached_tokens'\u001b[0m: \u001b[1;36m0\u001b[0m\u001b[1m}\u001b[0m\n",
       "\u001b[1m)\u001b[0m\n"
      ]
     },
     "metadata": {},
     "output_type": "display_data"
    },
    {
     "data": {
      "text/html": [
       "<pre style=\"white-space:pre;overflow-x:auto;line-height:normal;font-family:Menlo,'DejaVu Sans Mono',consolas,'Courier New',monospace\"><span style=\"color: #008080; text-decoration-color: #008080; font-weight: bold\">1</span>\n",
       "</pre>\n"
      ],
      "text/plain": [
       "\u001b[1;36m1\u001b[0m\n"
      ]
     },
     "metadata": {},
     "output_type": "display_data"
    },
    {
     "data": {
      "text/html": [
       "<pre style=\"white-space:pre;overflow-x:auto;line-height:normal;font-family:Menlo,'DejaVu Sans Mono',consolas,'Courier New',monospace\">\n",
       "Conversation Path <span style=\"color: #008080; text-decoration-color: #008080; font-weight: bold\">0</span>:\n",
       "</pre>\n"
      ],
      "text/plain": [
       "\n",
       "Conversation Path \u001b[1;36m0\u001b[0m:\n"
      ]
     },
     "metadata": {},
     "output_type": "display_data"
    },
    {
     "data": {
      "text/html": [
       "<pre style=\"white-space:pre;overflow-x:auto;line-height:normal;font-family:Menlo,'DejaVu Sans Mono',consolas,'Courier New',monospace\">User <span style=\"color: #008080; text-decoration-color: #008080; font-weight: bold\">0</span> response led to state with features: <span style=\"font-weight: bold\">{</span>DistancePreference: minimizing travel distance<span style=\"font-weight: bold\">}</span>\n",
       "</pre>\n"
      ],
      "text/plain": [
       "User \u001b[1;36m0\u001b[0m response led to state with features: \u001b[1m{\u001b[0mDistancePreference: minimizing travel distance\u001b[1m}\u001b[0m\n"
      ]
     },
     "metadata": {},
     "output_type": "display_data"
    },
    {
     "data": {
      "text/html": [
       "<pre style=\"white-space:pre;overflow-x:auto;line-height:normal;font-family:Menlo,'DejaVu Sans Mono',consolas,'Courier New',monospace\">User <span style=\"color: #008080; text-decoration-color: #008080; font-weight: bold\">1</span> response led to state with features: <span style=\"font-weight: bold\">{</span><span style=\"color: #008000; text-decoration-color: #008000\">\"DistancePreference\"</span>: <span style=\"color: #008000; text-decoration-color: #008000\">\"minimal travel distance\"</span>, \n",
       "<span style=\"color: #008000; text-decoration-color: #008000\">\"AtLeastOneEventType\"</span>: <span style=\"color: #008000; text-decoration-color: #008000\">\"live music\"</span><span style=\"font-weight: bold\">}</span>\n",
       "</pre>\n"
      ],
      "text/plain": [
       "User \u001b[1;36m1\u001b[0m response led to state with features: \u001b[1m{\u001b[0m\u001b[32m\"DistancePreference\"\u001b[0m: \u001b[32m\"minimal travel distance\"\u001b[0m, \n",
       "\u001b[32m\"AtLeastOneEventType\"\u001b[0m: \u001b[32m\"live music\"\u001b[0m\u001b[1m}\u001b[0m\n"
      ]
     },
     "metadata": {},
     "output_type": "display_data"
    },
    {
     "data": {
      "text/html": [
       "<pre style=\"white-space:pre;overflow-x:auto;line-height:normal;font-family:Menlo,'DejaVu Sans Mono',consolas,'Courier New',monospace\">\n",
       "Conversation Path <span style=\"color: #008080; text-decoration-color: #008080; font-weight: bold\">1</span>:\n",
       "</pre>\n"
      ],
      "text/plain": [
       "\n",
       "Conversation Path \u001b[1;36m1\u001b[0m:\n"
      ]
     },
     "metadata": {},
     "output_type": "display_data"
    },
    {
     "data": {
      "text/html": [
       "<pre style=\"white-space:pre;overflow-x:auto;line-height:normal;font-family:Menlo,'DejaVu Sans Mono',consolas,'Courier New',monospace\">User <span style=\"color: #008080; text-decoration-color: #008080; font-weight: bold\">0</span> response led to state with features: <span style=\"font-weight: bold\">{</span>DistancePreference: <span style=\"color: #008000; text-decoration-color: #008000\">\"travel distances are minimized\"</span>, has_parking: \n",
       "<span style=\"color: #008000; text-decoration-color: #008000\">\"parking available\"</span><span style=\"font-weight: bold\">}</span>\n",
       "</pre>\n"
      ],
      "text/plain": [
       "User \u001b[1;36m0\u001b[0m response led to state with features: \u001b[1m{\u001b[0mDistancePreference: \u001b[32m\"travel distances are minimized\"\u001b[0m, has_parking: \n",
       "\u001b[32m\"parking available\"\u001b[0m\u001b[1m}\u001b[0m\n"
      ]
     },
     "metadata": {},
     "output_type": "display_data"
    },
    {
     "data": {
      "text/html": [
       "<pre style=\"white-space:pre;overflow-x:auto;line-height:normal;font-family:Menlo,'DejaVu Sans Mono',consolas,'Courier New',monospace\">User <span style=\"color: #008080; text-decoration-color: #008080; font-weight: bold\">1</span> response led to state with features: <span style=\"font-weight: bold\">{</span>DistancePreference: minimizing travel distance, has_parking: available\n",
       "at Central Plaza and The Mall, vegan options: vegan food<span style=\"font-weight: bold\">}</span>\n",
       "</pre>\n"
      ],
      "text/plain": [
       "User \u001b[1;36m1\u001b[0m response led to state with features: \u001b[1m{\u001b[0mDistancePreference: minimizing travel distance, has_parking: available\n",
       "at Central Plaza and The Mall, vegan options: vegan food\u001b[1m}\u001b[0m\n"
      ]
     },
     "metadata": {},
     "output_type": "display_data"
    },
    {
     "data": {
      "text/html": [
       "<pre style=\"white-space:pre;overflow-x:auto;line-height:normal;font-family:Menlo,'DejaVu Sans Mono',consolas,'Courier New',monospace\">\n",
       "Conversation Path <span style=\"color: #008080; text-decoration-color: #008080; font-weight: bold\">2</span>:\n",
       "</pre>\n"
      ],
      "text/plain": [
       "\n",
       "Conversation Path \u001b[1;36m2\u001b[0m:\n"
      ]
     },
     "metadata": {},
     "output_type": "display_data"
    },
    {
     "data": {
      "text/html": [
       "<pre style=\"white-space:pre;overflow-x:auto;line-height:normal;font-family:Menlo,'DejaVu Sans Mono',consolas,'Courier New',monospace\">User <span style=\"color: #008080; text-decoration-color: #008080; font-weight: bold\">0</span> response led to state with features: <span style=\"font-weight: bold\">{</span>outdoor seating: true, has wifi: true, DistancePreference: true<span style=\"font-weight: bold\">}</span>\n",
       "</pre>\n"
      ],
      "text/plain": [
       "User \u001b[1;36m0\u001b[0m response led to state with features: \u001b[1m{\u001b[0moutdoor seating: true, has wifi: true, DistancePreference: true\u001b[1m}\u001b[0m\n"
      ]
     },
     "metadata": {},
     "output_type": "display_data"
    },
    {
     "data": {
      "text/html": [
       "<pre style=\"white-space:pre;overflow-x:auto;line-height:normal;font-family:Menlo,'DejaVu Sans Mono',consolas,'Courier New',monospace\">User <span style=\"color: #008080; text-decoration-color: #008080; font-weight: bold\">1</span> response led to state with features: <span style=\"font-weight: bold\">{</span>\n",
       "  has_wifi: true,\n",
       "  rating: <span style=\"color: #008000; text-decoration-color: #008000\">\"good reviews\"</span>,\n",
       "  DistancePreference: <span style=\"color: #008000; text-decoration-color: #008000\">\"near The Dive\"</span>,\n",
       "  PriceBudgetPreference: <span style=\"color: #008000; text-decoration-color: #008000\">\"$40\"</span>,\n",
       "  outdoor seating: true,\n",
       "  live music: true\n",
       "<span style=\"font-weight: bold\">}</span>\n",
       "</pre>\n"
      ],
      "text/plain": [
       "User \u001b[1;36m1\u001b[0m response led to state with features: \u001b[1m{\u001b[0m\n",
       "  has_wifi: true,\n",
       "  rating: \u001b[32m\"good reviews\"\u001b[0m,\n",
       "  DistancePreference: \u001b[32m\"near The Dive\"\u001b[0m,\n",
       "  PriceBudgetPreference: \u001b[32m\"$40\"\u001b[0m,\n",
       "  outdoor seating: true,\n",
       "  live music: true\n",
       "\u001b[1m}\u001b[0m\n"
      ]
     },
     "metadata": {},
     "output_type": "display_data"
    }
   ],
   "source": [
    "def step_all_user_responses(pairs_3_10_2_pairs_dict, parallel_convs):\n",
    "    \"\"\"\n",
    "    For each of the 3 conversation paths:\n",
    "        - Get all 10 users to respond to their agent\n",
    "        - Step the environment with each response\n",
    "    \"\"\"\n",
    "    \n",
    "    all_states = []\n",
    "    all_envs = []\n",
    "    \n",
    "    # For each conversation path (0,1,2)\n",
    "    for conv_idx, players_dict in pairs_3_10_2_pairs_dict.items():\n",
    "        envs = []\n",
    "        conv_states = []\n",
    "        conversation = parallel_convs.conversations[conv_idx]\n",
    "        current_state = conversation.get_current_state()\n",
    "        #print(players_dict['pair_0']['user'].prompt)\n",
    "        \n",
    "        \n",
    "        \n",
    "        # Get responses from all 10 users for this conversation\n",
    "        for pair_idx in range(2):\n",
    "            \n",
    "            env_copy = copy.deepcopy(conversation.env)\n",
    "            \n",
    "            new_conv = Conversation(players=players_dict[f'pair_{pair_idx}'], env=env_copy, max_length=parallel_convs.max_length, parent_conv=conversation)\n",
    "            \n",
    "            #state = conversation.reverse_state()\n",
    "            #print(state.obss)\n",
    "            #break\n",
    "            \n",
    "            \n",
    "            \n",
    "            # Have user observe current state\n",
    "            user.observe(current_state.obss['user'])\n",
    "            \n",
    "            # Get user's response\n",
    "            user_response = user.respond(t = current_state.turn, max_len = parallel_convs.max_length, vary = True)\n",
    "            \n",
    "            # Step environment with user response\n",
    "            new_state = new_conv.step(user_response, current_state.turn + 1)\n",
    "            print(new_conv.env.game.turn_player)\n",
    "            conv_states.append(new_state)\n",
    "            \n",
    "            # Have agent observe the new state\n",
    "        \n",
    "        all_states.append(conv_states)\n",
    "    \n",
    "    return all_states\n",
    "\n",
    "# Use the function\n",
    "conversation_states = step_all_user_responses(pairs_3_10_2_pairs_dict, parallel_convs)\n",
    "\n",
    "# Print some results to verify\n",
    "for path_idx, path_states in enumerate(conversation_states):\n",
    "    print(f\"\\nConversation Path {path_idx}:\")\n",
    "    for user_idx, state in enumerate(path_states):\n",
    "        print(f\"User {user_idx} response led to state with features: {state.features}\")"
   ]
  },
  {
   "cell_type": "code",
   "execution_count": 133,
   "metadata": {},
   "outputs": [
    {
     "data": {
      "text/html": [
       "<pre style=\"white-space:pre;overflow-x:auto;line-height:normal;font-family:Menlo,'DejaVu Sans Mono',consolas,'Courier New',monospace\">Response:  <span style=\"font-weight: bold\">[</span>tool<span style=\"font-weight: bold\">]</span> <span style=\"color: #800080; text-decoration-color: #800080; font-weight: bold\">Search</span><span style=\"font-weight: bold\">(</span><span style=\"color: #808000; text-decoration-color: #808000\">fields</span>=<span style=\"font-weight: bold\">[</span>name<span style=\"font-weight: bold\">]</span>, <span style=\"color: #808000; text-decoration-color: #808000\">filters</span>=<span style=\"font-weight: bold\">[</span>category == landmark<span style=\"font-weight: bold\">]</span>, <span style=\"color: #808000; text-decoration-color: #808000\">sort_by</span>=<span style=\"font-weight: bold\">[</span><span style=\"color: #008000; text-decoration-color: #008000\">'rating'</span><span style=\"font-weight: bold\">]</span>, <span style=\"color: #808000; text-decoration-color: #808000\">limit</span>=<span style=\"color: #008080; text-decoration-color: #008080; font-weight: bold\">1</span><span style=\"font-weight: bold\">)</span>\n",
       "</pre>\n"
      ],
      "text/plain": [
       "Response:  \u001b[1m[\u001b[0mtool\u001b[1m]\u001b[0m \u001b[1;35mSearch\u001b[0m\u001b[1m(\u001b[0m\u001b[33mfields\u001b[0m=\u001b[1m[\u001b[0mname\u001b[1m]\u001b[0m, \u001b[33mfilters\u001b[0m=\u001b[1m[\u001b[0mcategory == landmark\u001b[1m]\u001b[0m, \u001b[33msort_by\u001b[0m=\u001b[1m[\u001b[0m\u001b[32m'rating'\u001b[0m\u001b[1m]\u001b[0m, \u001b[33mlimit\u001b[0m=\u001b[1;36m1\u001b[0m\u001b[1m)\u001b[0m\n"
      ]
     },
     "metadata": {},
     "output_type": "display_data"
    },
    {
     "data": {
      "text/html": [
       "<pre style=\"white-space:pre;overflow-x:auto;line-height:normal;font-family:Menlo,'DejaVu Sans Mono',consolas,'Courier New',monospace\">stop:  stop\n",
       "</pre>\n"
      ],
      "text/plain": [
       "stop:  stop\n"
      ]
     },
     "metadata": {},
     "output_type": "display_data"
    },
    {
     "data": {
      "text/html": [
       "<pre style=\"white-space:pre;overflow-x:auto;line-height:normal;font-family:Menlo,'DejaVu Sans Mono',consolas,'Courier New',monospace\"><span style=\"color: #800080; text-decoration-color: #800080; font-weight: bold\">CompletionUsage</span><span style=\"font-weight: bold\">(</span>\n",
       "    <span style=\"color: #808000; text-decoration-color: #808000\">completion_tokens</span>=<span style=\"color: #008080; text-decoration-color: #008080; font-weight: bold\">23</span>,\n",
       "    <span style=\"color: #808000; text-decoration-color: #808000\">prompt_tokens</span>=<span style=\"color: #008080; text-decoration-color: #008080; font-weight: bold\">1756</span>,\n",
       "    <span style=\"color: #808000; text-decoration-color: #808000\">total_tokens</span>=<span style=\"color: #008080; text-decoration-color: #008080; font-weight: bold\">1779</span>,\n",
       "    <span style=\"color: #808000; text-decoration-color: #808000\">completion_tokens_details</span>=<span style=\"color: #800080; text-decoration-color: #800080; font-weight: bold\">CompletionTokensDetails</span><span style=\"font-weight: bold\">(</span>\n",
       "        <span style=\"color: #808000; text-decoration-color: #808000\">reasoning_tokens</span>=<span style=\"color: #008080; text-decoration-color: #008080; font-weight: bold\">0</span>,\n",
       "        <span style=\"color: #808000; text-decoration-color: #808000\">accepted_prediction_tokens</span>=<span style=\"color: #008080; text-decoration-color: #008080; font-weight: bold\">0</span>,\n",
       "        <span style=\"color: #808000; text-decoration-color: #808000\">rejected_prediction_tokens</span>=<span style=\"color: #008080; text-decoration-color: #008080; font-weight: bold\">0</span>\n",
       "    <span style=\"font-weight: bold\">)</span>,\n",
       "    <span style=\"color: #808000; text-decoration-color: #808000\">prompt_tokens_details</span>=<span style=\"font-weight: bold\">{</span><span style=\"color: #008000; text-decoration-color: #008000\">'cached_tokens'</span>: <span style=\"color: #008080; text-decoration-color: #008080; font-weight: bold\">0</span><span style=\"font-weight: bold\">}</span>\n",
       "<span style=\"font-weight: bold\">)</span>\n",
       "</pre>\n"
      ],
      "text/plain": [
       "\u001b[1;35mCompletionUsage\u001b[0m\u001b[1m(\u001b[0m\n",
       "    \u001b[33mcompletion_tokens\u001b[0m=\u001b[1;36m23\u001b[0m,\n",
       "    \u001b[33mprompt_tokens\u001b[0m=\u001b[1;36m1756\u001b[0m,\n",
       "    \u001b[33mtotal_tokens\u001b[0m=\u001b[1;36m1779\u001b[0m,\n",
       "    \u001b[33mcompletion_tokens_details\u001b[0m=\u001b[1;35mCompletionTokensDetails\u001b[0m\u001b[1m(\u001b[0m\n",
       "        \u001b[33mreasoning_tokens\u001b[0m=\u001b[1;36m0\u001b[0m,\n",
       "        \u001b[33maccepted_prediction_tokens\u001b[0m=\u001b[1;36m0\u001b[0m,\n",
       "        \u001b[33mrejected_prediction_tokens\u001b[0m=\u001b[1;36m0\u001b[0m\n",
       "    \u001b[1m)\u001b[0m,\n",
       "    \u001b[33mprompt_tokens_details\u001b[0m=\u001b[1m{\u001b[0m\u001b[32m'cached_tokens'\u001b[0m: \u001b[1;36m0\u001b[0m\u001b[1m}\u001b[0m\n",
       "\u001b[1m)\u001b[0m\n"
      ]
     },
     "metadata": {},
     "output_type": "display_data"
    },
    {
     "data": {
      "text/html": [
       "<pre style=\"white-space:pre;overflow-x:auto;line-height:normal;font-family:Menlo,'DejaVu Sans Mono',consolas,'Courier New',monospace\"><span style=\"font-weight: bold\">[</span><span style=\"color: #008000; text-decoration-color: #008000\">\"[tool] Search(fields=[name], filters=[category == landmark], sort_by=['rating'], limit=1)\"</span><span style=\"font-weight: bold\">]</span>\n",
       "</pre>\n"
      ],
      "text/plain": [
       "\u001b[1m[\u001b[0m\u001b[32m\"\u001b[0m\u001b[32m[\u001b[0m\u001b[32mtool\u001b[0m\u001b[32m]\u001b[0m\u001b[32m Search\u001b[0m\u001b[32m(\u001b[0m\u001b[32mfields\u001b[0m\u001b[32m=\u001b[0m\u001b[32m[\u001b[0m\u001b[32mname\u001b[0m\u001b[32m]\u001b[0m\u001b[32m, \u001b[0m\u001b[32mfilters\u001b[0m\u001b[32m=\u001b[0m\u001b[32m[\u001b[0m\u001b[32mcategory == landmark\u001b[0m\u001b[32m]\u001b[0m\u001b[32m, \u001b[0m\u001b[32msort_by\u001b[0m\u001b[32m=\u001b[0m\u001b[32m[\u001b[0m\u001b[32m'rating'\u001b[0m\u001b[32m]\u001b[0m\u001b[32m, \u001b[0m\u001b[32mlimit\u001b[0m\u001b[32m=\u001b[0m\u001b[32m1\u001b[0m\u001b[32m)\u001b[0m\u001b[32m\"\u001b[0m\u001b[1m]\u001b[0m\n"
      ]
     },
     "metadata": {},
     "output_type": "display_data"
    },
    {
     "data": {
      "text/html": [
       "<pre style=\"white-space:pre;overflow-x:auto;line-height:normal;font-family:Menlo,'DejaVu Sans Mono',consolas,'Courier New',monospace\">Response:  <span style=\"font-weight: bold\">[</span>tool<span style=\"font-weight: bold\">]</span> <span style=\"color: #800080; text-decoration-color: #800080; font-weight: bold\">Search</span><span style=\"font-weight: bold\">(</span><span style=\"color: #808000; text-decoration-color: #808000\">fields</span>=<span style=\"font-weight: bold\">[</span>name, category, rating, has_parking<span style=\"font-weight: bold\">]</span>, <span style=\"color: #808000; text-decoration-color: #808000\">filters</span>=<span style=\"font-weight: bold\">[</span>category == <span style=\"color: #008000; text-decoration-color: #008000\">\"landmark\"</span>, has_parking\n",
       "== <span style=\"color: #00ff00; text-decoration-color: #00ff00; font-style: italic\">True</span><span style=\"font-weight: bold\">]</span>, <span style=\"color: #808000; text-decoration-color: #808000\">sort_by</span>=<span style=\"font-weight: bold\">[</span>rating<span style=\"font-weight: bold\">]</span>, <span style=\"color: #808000; text-decoration-color: #808000\">limit</span>=<span style=\"color: #008080; text-decoration-color: #008080; font-weight: bold\">1</span><span style=\"font-weight: bold\">)</span>\n",
       "</pre>\n"
      ],
      "text/plain": [
       "Response:  \u001b[1m[\u001b[0mtool\u001b[1m]\u001b[0m \u001b[1;35mSearch\u001b[0m\u001b[1m(\u001b[0m\u001b[33mfields\u001b[0m=\u001b[1m[\u001b[0mname, category, rating, has_parking\u001b[1m]\u001b[0m, \u001b[33mfilters\u001b[0m=\u001b[1m[\u001b[0mcategory == \u001b[32m\"landmark\"\u001b[0m, has_parking\n",
       "== \u001b[3;92mTrue\u001b[0m\u001b[1m]\u001b[0m, \u001b[33msort_by\u001b[0m=\u001b[1m[\u001b[0mrating\u001b[1m]\u001b[0m, \u001b[33mlimit\u001b[0m=\u001b[1;36m1\u001b[0m\u001b[1m)\u001b[0m\n"
      ]
     },
     "metadata": {},
     "output_type": "display_data"
    },
    {
     "data": {
      "text/html": [
       "<pre style=\"white-space:pre;overflow-x:auto;line-height:normal;font-family:Menlo,'DejaVu Sans Mono',consolas,'Courier New',monospace\">stop:  stop\n",
       "</pre>\n"
      ],
      "text/plain": [
       "stop:  stop\n"
      ]
     },
     "metadata": {},
     "output_type": "display_data"
    },
    {
     "data": {
      "text/html": [
       "<pre style=\"white-space:pre;overflow-x:auto;line-height:normal;font-family:Menlo,'DejaVu Sans Mono',consolas,'Courier New',monospace\"><span style=\"color: #800080; text-decoration-color: #800080; font-weight: bold\">CompletionUsage</span><span style=\"font-weight: bold\">(</span>\n",
       "    <span style=\"color: #808000; text-decoration-color: #808000\">completion_tokens</span>=<span style=\"color: #008080; text-decoration-color: #008080; font-weight: bold\">39</span>,\n",
       "    <span style=\"color: #808000; text-decoration-color: #808000\">prompt_tokens</span>=<span style=\"color: #008080; text-decoration-color: #008080; font-weight: bold\">1756</span>,\n",
       "    <span style=\"color: #808000; text-decoration-color: #808000\">total_tokens</span>=<span style=\"color: #008080; text-decoration-color: #008080; font-weight: bold\">1795</span>,\n",
       "    <span style=\"color: #808000; text-decoration-color: #808000\">completion_tokens_details</span>=<span style=\"color: #800080; text-decoration-color: #800080; font-weight: bold\">CompletionTokensDetails</span><span style=\"font-weight: bold\">(</span>\n",
       "        <span style=\"color: #808000; text-decoration-color: #808000\">reasoning_tokens</span>=<span style=\"color: #008080; text-decoration-color: #008080; font-weight: bold\">0</span>,\n",
       "        <span style=\"color: #808000; text-decoration-color: #808000\">accepted_prediction_tokens</span>=<span style=\"color: #008080; text-decoration-color: #008080; font-weight: bold\">0</span>,\n",
       "        <span style=\"color: #808000; text-decoration-color: #808000\">rejected_prediction_tokens</span>=<span style=\"color: #008080; text-decoration-color: #008080; font-weight: bold\">0</span>\n",
       "    <span style=\"font-weight: bold\">)</span>,\n",
       "    <span style=\"color: #808000; text-decoration-color: #808000\">prompt_tokens_details</span>=<span style=\"font-weight: bold\">{</span><span style=\"color: #008000; text-decoration-color: #008000\">'cached_tokens'</span>: <span style=\"color: #008080; text-decoration-color: #008080; font-weight: bold\">0</span><span style=\"font-weight: bold\">}</span>\n",
       "<span style=\"font-weight: bold\">)</span>\n",
       "</pre>\n"
      ],
      "text/plain": [
       "\u001b[1;35mCompletionUsage\u001b[0m\u001b[1m(\u001b[0m\n",
       "    \u001b[33mcompletion_tokens\u001b[0m=\u001b[1;36m39\u001b[0m,\n",
       "    \u001b[33mprompt_tokens\u001b[0m=\u001b[1;36m1756\u001b[0m,\n",
       "    \u001b[33mtotal_tokens\u001b[0m=\u001b[1;36m1795\u001b[0m,\n",
       "    \u001b[33mcompletion_tokens_details\u001b[0m=\u001b[1;35mCompletionTokensDetails\u001b[0m\u001b[1m(\u001b[0m\n",
       "        \u001b[33mreasoning_tokens\u001b[0m=\u001b[1;36m0\u001b[0m,\n",
       "        \u001b[33maccepted_prediction_tokens\u001b[0m=\u001b[1;36m0\u001b[0m,\n",
       "        \u001b[33mrejected_prediction_tokens\u001b[0m=\u001b[1;36m0\u001b[0m\n",
       "    \u001b[1m)\u001b[0m,\n",
       "    \u001b[33mprompt_tokens_details\u001b[0m=\u001b[1m{\u001b[0m\u001b[32m'cached_tokens'\u001b[0m: \u001b[1;36m0\u001b[0m\u001b[1m}\u001b[0m\n",
       "\u001b[1m)\u001b[0m\n"
      ]
     },
     "metadata": {},
     "output_type": "display_data"
    },
    {
     "data": {
      "text/html": [
       "<pre style=\"white-space:pre;overflow-x:auto;line-height:normal;font-family:Menlo,'DejaVu Sans Mono',consolas,'Courier New',monospace\"><span style=\"font-weight: bold\">[</span>\n",
       "    <span style=\"color: #008000; text-decoration-color: #008000\">\"[tool] Search(fields=[name], filters=[category == landmark], sort_by=['rating'], limit=1)\"</span>,\n",
       "    <span style=\"color: #008000; text-decoration-color: #008000\">'[tool] Search(fields=[name, category, rating, has_parking], filters=[category == \"landmark\", has_parking == </span>\n",
       "<span style=\"color: #008000; text-decoration-color: #008000\">True], sort_by=[rating], limit=1)'</span>\n",
       "<span style=\"font-weight: bold\">]</span>\n",
       "</pre>\n"
      ],
      "text/plain": [
       "\u001b[1m[\u001b[0m\n",
       "    \u001b[32m\"\u001b[0m\u001b[32m[\u001b[0m\u001b[32mtool\u001b[0m\u001b[32m]\u001b[0m\u001b[32m Search\u001b[0m\u001b[32m(\u001b[0m\u001b[32mfields\u001b[0m\u001b[32m=\u001b[0m\u001b[32m[\u001b[0m\u001b[32mname\u001b[0m\u001b[32m]\u001b[0m\u001b[32m, \u001b[0m\u001b[32mfilters\u001b[0m\u001b[32m=\u001b[0m\u001b[32m[\u001b[0m\u001b[32mcategory == landmark\u001b[0m\u001b[32m]\u001b[0m\u001b[32m, \u001b[0m\u001b[32msort_by\u001b[0m\u001b[32m=\u001b[0m\u001b[32m[\u001b[0m\u001b[32m'rating'\u001b[0m\u001b[32m]\u001b[0m\u001b[32m, \u001b[0m\u001b[32mlimit\u001b[0m\u001b[32m=\u001b[0m\u001b[32m1\u001b[0m\u001b[32m)\u001b[0m\u001b[32m\"\u001b[0m,\n",
       "    \u001b[32m'\u001b[0m\u001b[32m[\u001b[0m\u001b[32mtool\u001b[0m\u001b[32m]\u001b[0m\u001b[32m Search\u001b[0m\u001b[32m(\u001b[0m\u001b[32mfields\u001b[0m\u001b[32m=\u001b[0m\u001b[32m[\u001b[0m\u001b[32mname, category, rating, has_parking\u001b[0m\u001b[32m]\u001b[0m\u001b[32m, \u001b[0m\u001b[32mfilters\u001b[0m\u001b[32m=\u001b[0m\u001b[32m[\u001b[0m\u001b[32mcategory == \"landmark\", has_parking == \u001b[0m\n",
       "\u001b[32mTrue\u001b[0m\u001b[32m]\u001b[0m\u001b[32m, \u001b[0m\u001b[32msort_by\u001b[0m\u001b[32m=\u001b[0m\u001b[32m[\u001b[0m\u001b[32mrating\u001b[0m\u001b[32m]\u001b[0m\u001b[32m, \u001b[0m\u001b[32mlimit\u001b[0m\u001b[32m=\u001b[0m\u001b[32m1\u001b[0m\u001b[32m)\u001b[0m\u001b[32m'\u001b[0m\n",
       "\u001b[1m]\u001b[0m\n"
      ]
     },
     "metadata": {},
     "output_type": "display_data"
    },
    {
     "data": {
      "text/html": [
       "<pre style=\"white-space:pre;overflow-x:auto;line-height:normal;font-family:Menlo,'DejaVu Sans Mono',consolas,'Courier New',monospace\">Response:  <span style=\"font-weight: bold\">[</span>think<span style=\"font-weight: bold\">]</span> It seems the user is looking for a landmark with a good rating, a recommendation from Dan, and \n",
       "places with parking as he will be driving.\n",
       "</pre>\n"
      ],
      "text/plain": [
       "Response:  \u001b[1m[\u001b[0mthink\u001b[1m]\u001b[0m It seems the user is looking for a landmark with a good rating, a recommendation from Dan, and \n",
       "places with parking as he will be driving.\n"
      ]
     },
     "metadata": {},
     "output_type": "display_data"
    },
    {
     "data": {
      "text/html": [
       "<pre style=\"white-space:pre;overflow-x:auto;line-height:normal;font-family:Menlo,'DejaVu Sans Mono',consolas,'Courier New',monospace\">stop:  stop\n",
       "</pre>\n"
      ],
      "text/plain": [
       "stop:  stop\n"
      ]
     },
     "metadata": {},
     "output_type": "display_data"
    },
    {
     "data": {
      "text/html": [
       "<pre style=\"white-space:pre;overflow-x:auto;line-height:normal;font-family:Menlo,'DejaVu Sans Mono',consolas,'Courier New',monospace\"><span style=\"color: #800080; text-decoration-color: #800080; font-weight: bold\">CompletionUsage</span><span style=\"font-weight: bold\">(</span>\n",
       "    <span style=\"color: #808000; text-decoration-color: #808000\">completion_tokens</span>=<span style=\"color: #008080; text-decoration-color: #008080; font-weight: bold\">33</span>,\n",
       "    <span style=\"color: #808000; text-decoration-color: #808000\">prompt_tokens</span>=<span style=\"color: #008080; text-decoration-color: #008080; font-weight: bold\">1756</span>,\n",
       "    <span style=\"color: #808000; text-decoration-color: #808000\">total_tokens</span>=<span style=\"color: #008080; text-decoration-color: #008080; font-weight: bold\">1789</span>,\n",
       "    <span style=\"color: #808000; text-decoration-color: #808000\">completion_tokens_details</span>=<span style=\"color: #800080; text-decoration-color: #800080; font-weight: bold\">CompletionTokensDetails</span><span style=\"font-weight: bold\">(</span>\n",
       "        <span style=\"color: #808000; text-decoration-color: #808000\">reasoning_tokens</span>=<span style=\"color: #008080; text-decoration-color: #008080; font-weight: bold\">0</span>,\n",
       "        <span style=\"color: #808000; text-decoration-color: #808000\">accepted_prediction_tokens</span>=<span style=\"color: #008080; text-decoration-color: #008080; font-weight: bold\">0</span>,\n",
       "        <span style=\"color: #808000; text-decoration-color: #808000\">rejected_prediction_tokens</span>=<span style=\"color: #008080; text-decoration-color: #008080; font-weight: bold\">0</span>\n",
       "    <span style=\"font-weight: bold\">)</span>,\n",
       "    <span style=\"color: #808000; text-decoration-color: #808000\">prompt_tokens_details</span>=<span style=\"font-weight: bold\">{</span><span style=\"color: #008000; text-decoration-color: #008000\">'cached_tokens'</span>: <span style=\"color: #008080; text-decoration-color: #008080; font-weight: bold\">0</span><span style=\"font-weight: bold\">}</span>\n",
       "<span style=\"font-weight: bold\">)</span>\n",
       "</pre>\n"
      ],
      "text/plain": [
       "\u001b[1;35mCompletionUsage\u001b[0m\u001b[1m(\u001b[0m\n",
       "    \u001b[33mcompletion_tokens\u001b[0m=\u001b[1;36m33\u001b[0m,\n",
       "    \u001b[33mprompt_tokens\u001b[0m=\u001b[1;36m1756\u001b[0m,\n",
       "    \u001b[33mtotal_tokens\u001b[0m=\u001b[1;36m1789\u001b[0m,\n",
       "    \u001b[33mcompletion_tokens_details\u001b[0m=\u001b[1;35mCompletionTokensDetails\u001b[0m\u001b[1m(\u001b[0m\n",
       "        \u001b[33mreasoning_tokens\u001b[0m=\u001b[1;36m0\u001b[0m,\n",
       "        \u001b[33maccepted_prediction_tokens\u001b[0m=\u001b[1;36m0\u001b[0m,\n",
       "        \u001b[33mrejected_prediction_tokens\u001b[0m=\u001b[1;36m0\u001b[0m\n",
       "    \u001b[1m)\u001b[0m,\n",
       "    \u001b[33mprompt_tokens_details\u001b[0m=\u001b[1m{\u001b[0m\u001b[32m'cached_tokens'\u001b[0m: \u001b[1;36m0\u001b[0m\u001b[1m}\u001b[0m\n",
       "\u001b[1m)\u001b[0m\n"
      ]
     },
     "metadata": {},
     "output_type": "display_data"
    },
    {
     "data": {
      "text/html": [
       "<pre style=\"white-space:pre;overflow-x:auto;line-height:normal;font-family:Menlo,'DejaVu Sans Mono',consolas,'Courier New',monospace\"><span style=\"font-weight: bold\">[</span>\n",
       "    <span style=\"color: #008000; text-decoration-color: #008000\">'[think] It seems the user is looking for a landmark with a good rating, a recommendation from Dan, and places </span>\n",
       "<span style=\"color: #008000; text-decoration-color: #008000\">with parking as he will be driving.'</span>\n",
       "<span style=\"font-weight: bold\">]</span>\n",
       "</pre>\n"
      ],
      "text/plain": [
       "\u001b[1m[\u001b[0m\n",
       "    \u001b[32m'\u001b[0m\u001b[32m[\u001b[0m\u001b[32mthink\u001b[0m\u001b[32m]\u001b[0m\u001b[32m It seems the user is looking for a landmark with a good rating, a recommendation from Dan, and places \u001b[0m\n",
       "\u001b[32mwith parking as he will be driving.'\u001b[0m\n",
       "\u001b[1m]\u001b[0m\n"
      ]
     },
     "metadata": {},
     "output_type": "display_data"
    },
    {
     "data": {
      "text/html": [
       "<pre style=\"white-space:pre;overflow-x:auto;line-height:normal;font-family:Menlo,'DejaVu Sans Mono',consolas,'Courier New',monospace\">Response:  <span style=\"font-weight: bold\">[</span>think<span style=\"font-weight: bold\">]</span> With the criteria given and time constraint, the landmark to visit must be conveniently located \n",
       "and offer parking. I'll factor in the location and the fact they want to include The Mall and Central Plaza as \n",
       "well.\n",
       "</pre>\n"
      ],
      "text/plain": [
       "Response:  \u001b[1m[\u001b[0mthink\u001b[1m]\u001b[0m With the criteria given and time constraint, the landmark to visit must be conveniently located \n",
       "and offer parking. I'll factor in the location and the fact they want to include The Mall and Central Plaza as \n",
       "well.\n"
      ]
     },
     "metadata": {},
     "output_type": "display_data"
    },
    {
     "data": {
      "text/html": [
       "<pre style=\"white-space:pre;overflow-x:auto;line-height:normal;font-family:Menlo,'DejaVu Sans Mono',consolas,'Courier New',monospace\">stop:  stop\n",
       "</pre>\n"
      ],
      "text/plain": [
       "stop:  stop\n"
      ]
     },
     "metadata": {},
     "output_type": "display_data"
    },
    {
     "data": {
      "text/html": [
       "<pre style=\"white-space:pre;overflow-x:auto;line-height:normal;font-family:Menlo,'DejaVu Sans Mono',consolas,'Courier New',monospace\"><span style=\"color: #800080; text-decoration-color: #800080; font-weight: bold\">CompletionUsage</span><span style=\"font-weight: bold\">(</span>\n",
       "    <span style=\"color: #808000; text-decoration-color: #808000\">completion_tokens</span>=<span style=\"color: #008080; text-decoration-color: #008080; font-weight: bold\">44</span>,\n",
       "    <span style=\"color: #808000; text-decoration-color: #808000\">prompt_tokens</span>=<span style=\"color: #008080; text-decoration-color: #008080; font-weight: bold\">1756</span>,\n",
       "    <span style=\"color: #808000; text-decoration-color: #808000\">total_tokens</span>=<span style=\"color: #008080; text-decoration-color: #008080; font-weight: bold\">1800</span>,\n",
       "    <span style=\"color: #808000; text-decoration-color: #808000\">completion_tokens_details</span>=<span style=\"color: #800080; text-decoration-color: #800080; font-weight: bold\">CompletionTokensDetails</span><span style=\"font-weight: bold\">(</span>\n",
       "        <span style=\"color: #808000; text-decoration-color: #808000\">reasoning_tokens</span>=<span style=\"color: #008080; text-decoration-color: #008080; font-weight: bold\">0</span>,\n",
       "        <span style=\"color: #808000; text-decoration-color: #808000\">accepted_prediction_tokens</span>=<span style=\"color: #008080; text-decoration-color: #008080; font-weight: bold\">0</span>,\n",
       "        <span style=\"color: #808000; text-decoration-color: #808000\">rejected_prediction_tokens</span>=<span style=\"color: #008080; text-decoration-color: #008080; font-weight: bold\">0</span>\n",
       "    <span style=\"font-weight: bold\">)</span>,\n",
       "    <span style=\"color: #808000; text-decoration-color: #808000\">prompt_tokens_details</span>=<span style=\"font-weight: bold\">{</span><span style=\"color: #008000; text-decoration-color: #008000\">'cached_tokens'</span>: <span style=\"color: #008080; text-decoration-color: #008080; font-weight: bold\">0</span><span style=\"font-weight: bold\">}</span>\n",
       "<span style=\"font-weight: bold\">)</span>\n",
       "</pre>\n"
      ],
      "text/plain": [
       "\u001b[1;35mCompletionUsage\u001b[0m\u001b[1m(\u001b[0m\n",
       "    \u001b[33mcompletion_tokens\u001b[0m=\u001b[1;36m44\u001b[0m,\n",
       "    \u001b[33mprompt_tokens\u001b[0m=\u001b[1;36m1756\u001b[0m,\n",
       "    \u001b[33mtotal_tokens\u001b[0m=\u001b[1;36m1800\u001b[0m,\n",
       "    \u001b[33mcompletion_tokens_details\u001b[0m=\u001b[1;35mCompletionTokensDetails\u001b[0m\u001b[1m(\u001b[0m\n",
       "        \u001b[33mreasoning_tokens\u001b[0m=\u001b[1;36m0\u001b[0m,\n",
       "        \u001b[33maccepted_prediction_tokens\u001b[0m=\u001b[1;36m0\u001b[0m,\n",
       "        \u001b[33mrejected_prediction_tokens\u001b[0m=\u001b[1;36m0\u001b[0m\n",
       "    \u001b[1m)\u001b[0m,\n",
       "    \u001b[33mprompt_tokens_details\u001b[0m=\u001b[1m{\u001b[0m\u001b[32m'cached_tokens'\u001b[0m: \u001b[1;36m0\u001b[0m\u001b[1m}\u001b[0m\n",
       "\u001b[1m)\u001b[0m\n"
      ]
     },
     "metadata": {},
     "output_type": "display_data"
    },
    {
     "data": {
      "text/html": [
       "<pre style=\"white-space:pre;overflow-x:auto;line-height:normal;font-family:Menlo,'DejaVu Sans Mono',consolas,'Courier New',monospace\"><span style=\"font-weight: bold\">[</span>\n",
       "    <span style=\"color: #008000; text-decoration-color: #008000\">'[think] It seems the user is looking for a landmark with a good rating, a recommendation from Dan, and places </span>\n",
       "<span style=\"color: #008000; text-decoration-color: #008000\">with parking as he will be driving.'</span>,\n",
       "    <span style=\"color: #008000; text-decoration-color: #008000\">\"[think] With the criteria given and time constraint, the landmark to visit must be conveniently located and </span>\n",
       "<span style=\"color: #008000; text-decoration-color: #008000\">offer parking. I'll factor in the location and the fact they want to include The Mall and Central Plaza as well.\"</span>\n",
       "<span style=\"font-weight: bold\">]</span>\n",
       "</pre>\n"
      ],
      "text/plain": [
       "\u001b[1m[\u001b[0m\n",
       "    \u001b[32m'\u001b[0m\u001b[32m[\u001b[0m\u001b[32mthink\u001b[0m\u001b[32m]\u001b[0m\u001b[32m It seems the user is looking for a landmark with a good rating, a recommendation from Dan, and places \u001b[0m\n",
       "\u001b[32mwith parking as he will be driving.'\u001b[0m,\n",
       "    \u001b[32m\"\u001b[0m\u001b[32m[\u001b[0m\u001b[32mthink\u001b[0m\u001b[32m]\u001b[0m\u001b[32m With the criteria given and time constraint, the landmark to visit must be conveniently located and \u001b[0m\n",
       "\u001b[32moffer parking. I'll factor in the location and the fact they want to include The Mall and Central Plaza as well.\"\u001b[0m\n",
       "\u001b[1m]\u001b[0m\n"
      ]
     },
     "metadata": {},
     "output_type": "display_data"
    },
    {
     "data": {
      "text/html": [
       "<pre style=\"white-space:pre;overflow-x:auto;line-height:normal;font-family:Menlo,'DejaVu Sans Mono',consolas,'Courier New',monospace\">Response:  <span style=\"font-weight: bold\">[</span>propose<span style=\"font-weight: bold\">]</span> <span style=\"font-weight: bold\">[</span>Central Plaza, The Mall, <span style=\"color: #008000; text-decoration-color: #008000\">\"Random Landmark with good ratings\"</span><span style=\"font-weight: bold\">]</span>\n",
       "</pre>\n"
      ],
      "text/plain": [
       "Response:  \u001b[1m[\u001b[0mpropose\u001b[1m]\u001b[0m \u001b[1m[\u001b[0mCentral Plaza, The Mall, \u001b[32m\"Random Landmark with good ratings\"\u001b[0m\u001b[1m]\u001b[0m\n"
      ]
     },
     "metadata": {},
     "output_type": "display_data"
    },
    {
     "data": {
      "text/html": [
       "<pre style=\"white-space:pre;overflow-x:auto;line-height:normal;font-family:Menlo,'DejaVu Sans Mono',consolas,'Courier New',monospace\">stop:  stop\n",
       "</pre>\n"
      ],
      "text/plain": [
       "stop:  stop\n"
      ]
     },
     "metadata": {},
     "output_type": "display_data"
    },
    {
     "data": {
      "text/html": [
       "<pre style=\"white-space:pre;overflow-x:auto;line-height:normal;font-family:Menlo,'DejaVu Sans Mono',consolas,'Courier New',monospace\"><span style=\"color: #800080; text-decoration-color: #800080; font-weight: bold\">CompletionUsage</span><span style=\"font-weight: bold\">(</span>\n",
       "    <span style=\"color: #808000; text-decoration-color: #808000\">completion_tokens</span>=<span style=\"color: #008080; text-decoration-color: #008080; font-weight: bold\">18</span>,\n",
       "    <span style=\"color: #808000; text-decoration-color: #808000\">prompt_tokens</span>=<span style=\"color: #008080; text-decoration-color: #008080; font-weight: bold\">1756</span>,\n",
       "    <span style=\"color: #808000; text-decoration-color: #808000\">total_tokens</span>=<span style=\"color: #008080; text-decoration-color: #008080; font-weight: bold\">1774</span>,\n",
       "    <span style=\"color: #808000; text-decoration-color: #808000\">completion_tokens_details</span>=<span style=\"color: #800080; text-decoration-color: #800080; font-weight: bold\">CompletionTokensDetails</span><span style=\"font-weight: bold\">(</span>\n",
       "        <span style=\"color: #808000; text-decoration-color: #808000\">reasoning_tokens</span>=<span style=\"color: #008080; text-decoration-color: #008080; font-weight: bold\">0</span>,\n",
       "        <span style=\"color: #808000; text-decoration-color: #808000\">accepted_prediction_tokens</span>=<span style=\"color: #008080; text-decoration-color: #008080; font-weight: bold\">0</span>,\n",
       "        <span style=\"color: #808000; text-decoration-color: #808000\">rejected_prediction_tokens</span>=<span style=\"color: #008080; text-decoration-color: #008080; font-weight: bold\">0</span>\n",
       "    <span style=\"font-weight: bold\">)</span>,\n",
       "    <span style=\"color: #808000; text-decoration-color: #808000\">prompt_tokens_details</span>=<span style=\"font-weight: bold\">{</span><span style=\"color: #008000; text-decoration-color: #008000\">'cached_tokens'</span>: <span style=\"color: #008080; text-decoration-color: #008080; font-weight: bold\">0</span><span style=\"font-weight: bold\">}</span>\n",
       "<span style=\"font-weight: bold\">)</span>\n",
       "</pre>\n"
      ],
      "text/plain": [
       "\u001b[1;35mCompletionUsage\u001b[0m\u001b[1m(\u001b[0m\n",
       "    \u001b[33mcompletion_tokens\u001b[0m=\u001b[1;36m18\u001b[0m,\n",
       "    \u001b[33mprompt_tokens\u001b[0m=\u001b[1;36m1756\u001b[0m,\n",
       "    \u001b[33mtotal_tokens\u001b[0m=\u001b[1;36m1774\u001b[0m,\n",
       "    \u001b[33mcompletion_tokens_details\u001b[0m=\u001b[1;35mCompletionTokensDetails\u001b[0m\u001b[1m(\u001b[0m\n",
       "        \u001b[33mreasoning_tokens\u001b[0m=\u001b[1;36m0\u001b[0m,\n",
       "        \u001b[33maccepted_prediction_tokens\u001b[0m=\u001b[1;36m0\u001b[0m,\n",
       "        \u001b[33mrejected_prediction_tokens\u001b[0m=\u001b[1;36m0\u001b[0m\n",
       "    \u001b[1m)\u001b[0m,\n",
       "    \u001b[33mprompt_tokens_details\u001b[0m=\u001b[1m{\u001b[0m\u001b[32m'cached_tokens'\u001b[0m: \u001b[1;36m0\u001b[0m\u001b[1m}\u001b[0m\n",
       "\u001b[1m)\u001b[0m\n"
      ]
     },
     "metadata": {},
     "output_type": "display_data"
    },
    {
     "data": {
      "text/html": [
       "<pre style=\"white-space:pre;overflow-x:auto;line-height:normal;font-family:Menlo,'DejaVu Sans Mono',consolas,'Courier New',monospace\"><span style=\"font-weight: bold\">[</span><span style=\"color: #008000; text-decoration-color: #008000\">'[propose] [Central Plaza, The Mall, \"Random Landmark with good ratings\"]'</span><span style=\"font-weight: bold\">]</span>\n",
       "</pre>\n"
      ],
      "text/plain": [
       "\u001b[1m[\u001b[0m\u001b[32m'\u001b[0m\u001b[32m[\u001b[0m\u001b[32mpropose\u001b[0m\u001b[32m]\u001b[0m\u001b[32m \u001b[0m\u001b[32m[\u001b[0m\u001b[32mCentral Plaza, The Mall, \"Random Landmark with good ratings\"\u001b[0m\u001b[32m]\u001b[0m\u001b[32m'\u001b[0m\u001b[1m]\u001b[0m\n"
      ]
     },
     "metadata": {},
     "output_type": "display_data"
    },
    {
     "data": {
      "text/html": [
       "<pre style=\"white-space:pre;overflow-x:auto;line-height:normal;font-family:Menlo,'DejaVu Sans Mono',consolas,'Courier New',monospace\">Response:  <span style=\"font-weight: bold\">[</span>think<span style=\"font-weight: bold\">]</span> The user wishes to visit a highly rated landmark and follow Dan's recommendations. I will try to\n",
       "satisfy all these preferences by creating an itinerary that includes Central Plaza and The Mall while also making \n",
       "sure there's parking.\n",
       "</pre>\n"
      ],
      "text/plain": [
       "Response:  \u001b[1m[\u001b[0mthink\u001b[1m]\u001b[0m The user wishes to visit a highly rated landmark and follow Dan's recommendations. I will try to\n",
       "satisfy all these preferences by creating an itinerary that includes Central Plaza and The Mall while also making \n",
       "sure there's parking.\n"
      ]
     },
     "metadata": {},
     "output_type": "display_data"
    },
    {
     "data": {
      "text/html": [
       "<pre style=\"white-space:pre;overflow-x:auto;line-height:normal;font-family:Menlo,'DejaVu Sans Mono',consolas,'Courier New',monospace\">stop:  stop\n",
       "</pre>\n"
      ],
      "text/plain": [
       "stop:  stop\n"
      ]
     },
     "metadata": {},
     "output_type": "display_data"
    },
    {
     "data": {
      "text/html": [
       "<pre style=\"white-space:pre;overflow-x:auto;line-height:normal;font-family:Menlo,'DejaVu Sans Mono',consolas,'Courier New',monospace\"><span style=\"color: #800080; text-decoration-color: #800080; font-weight: bold\">CompletionUsage</span><span style=\"font-weight: bold\">(</span>\n",
       "    <span style=\"color: #808000; text-decoration-color: #808000\">completion_tokens</span>=<span style=\"color: #008080; text-decoration-color: #008080; font-weight: bold\">45</span>,\n",
       "    <span style=\"color: #808000; text-decoration-color: #808000\">prompt_tokens</span>=<span style=\"color: #008080; text-decoration-color: #008080; font-weight: bold\">1756</span>,\n",
       "    <span style=\"color: #808000; text-decoration-color: #808000\">total_tokens</span>=<span style=\"color: #008080; text-decoration-color: #008080; font-weight: bold\">1801</span>,\n",
       "    <span style=\"color: #808000; text-decoration-color: #808000\">completion_tokens_details</span>=<span style=\"color: #800080; text-decoration-color: #800080; font-weight: bold\">CompletionTokensDetails</span><span style=\"font-weight: bold\">(</span>\n",
       "        <span style=\"color: #808000; text-decoration-color: #808000\">reasoning_tokens</span>=<span style=\"color: #008080; text-decoration-color: #008080; font-weight: bold\">0</span>,\n",
       "        <span style=\"color: #808000; text-decoration-color: #808000\">accepted_prediction_tokens</span>=<span style=\"color: #008080; text-decoration-color: #008080; font-weight: bold\">0</span>,\n",
       "        <span style=\"color: #808000; text-decoration-color: #808000\">rejected_prediction_tokens</span>=<span style=\"color: #008080; text-decoration-color: #008080; font-weight: bold\">0</span>\n",
       "    <span style=\"font-weight: bold\">)</span>,\n",
       "    <span style=\"color: #808000; text-decoration-color: #808000\">prompt_tokens_details</span>=<span style=\"font-weight: bold\">{</span><span style=\"color: #008000; text-decoration-color: #008000\">'cached_tokens'</span>: <span style=\"color: #008080; text-decoration-color: #008080; font-weight: bold\">0</span><span style=\"font-weight: bold\">}</span>\n",
       "<span style=\"font-weight: bold\">)</span>\n",
       "</pre>\n"
      ],
      "text/plain": [
       "\u001b[1;35mCompletionUsage\u001b[0m\u001b[1m(\u001b[0m\n",
       "    \u001b[33mcompletion_tokens\u001b[0m=\u001b[1;36m45\u001b[0m,\n",
       "    \u001b[33mprompt_tokens\u001b[0m=\u001b[1;36m1756\u001b[0m,\n",
       "    \u001b[33mtotal_tokens\u001b[0m=\u001b[1;36m1801\u001b[0m,\n",
       "    \u001b[33mcompletion_tokens_details\u001b[0m=\u001b[1;35mCompletionTokensDetails\u001b[0m\u001b[1m(\u001b[0m\n",
       "        \u001b[33mreasoning_tokens\u001b[0m=\u001b[1;36m0\u001b[0m,\n",
       "        \u001b[33maccepted_prediction_tokens\u001b[0m=\u001b[1;36m0\u001b[0m,\n",
       "        \u001b[33mrejected_prediction_tokens\u001b[0m=\u001b[1;36m0\u001b[0m\n",
       "    \u001b[1m)\u001b[0m,\n",
       "    \u001b[33mprompt_tokens_details\u001b[0m=\u001b[1m{\u001b[0m\u001b[32m'cached_tokens'\u001b[0m: \u001b[1;36m0\u001b[0m\u001b[1m}\u001b[0m\n",
       "\u001b[1m)\u001b[0m\n"
      ]
     },
     "metadata": {},
     "output_type": "display_data"
    },
    {
     "data": {
      "text/html": [
       "<pre style=\"white-space:pre;overflow-x:auto;line-height:normal;font-family:Menlo,'DejaVu Sans Mono',consolas,'Courier New',monospace\"><span style=\"font-weight: bold\">[</span>\n",
       "    <span style=\"color: #008000; text-decoration-color: #008000\">'[propose] [Central Plaza, The Mall, \"Random Landmark with good ratings\"]'</span>,\n",
       "    <span style=\"color: #008000; text-decoration-color: #008000\">\"[think] The user wishes to visit a highly rated landmark and follow Dan's recommendations. I will try to </span>\n",
       "<span style=\"color: #008000; text-decoration-color: #008000\">satisfy all these preferences by creating an itinerary that includes Central Plaza and The Mall while also making </span>\n",
       "<span style=\"color: #008000; text-decoration-color: #008000\">sure there's parking.\"</span>\n",
       "<span style=\"font-weight: bold\">]</span>\n",
       "</pre>\n"
      ],
      "text/plain": [
       "\u001b[1m[\u001b[0m\n",
       "    \u001b[32m'\u001b[0m\u001b[32m[\u001b[0m\u001b[32mpropose\u001b[0m\u001b[32m]\u001b[0m\u001b[32m \u001b[0m\u001b[32m[\u001b[0m\u001b[32mCentral Plaza, The Mall, \"Random Landmark with good ratings\"\u001b[0m\u001b[32m]\u001b[0m\u001b[32m'\u001b[0m,\n",
       "    \u001b[32m\"\u001b[0m\u001b[32m[\u001b[0m\u001b[32mthink\u001b[0m\u001b[32m]\u001b[0m\u001b[32m The user wishes to visit a highly rated landmark and follow Dan's recommendations. I will try to \u001b[0m\n",
       "\u001b[32msatisfy all these preferences by creating an itinerary that includes Central Plaza and The Mall while also making \u001b[0m\n",
       "\u001b[32msure there's parking.\"\u001b[0m\n",
       "\u001b[1m]\u001b[0m\n"
      ]
     },
     "metadata": {},
     "output_type": "display_data"
    }
   ],
   "source": [
    "def get_agent_proposals(pairs_3_10_2_pairs_dict, conversation_states):\n",
    "    \"\"\"\n",
    "    For each conversation path:\n",
    "        - Have the agent respond to each of the 10 user responses with a proposal\n",
    "    \"\"\"\n",
    "    all_proposals = []\n",
    "    \n",
    "    # For each conversation path (0,1,2)\n",
    "    for conv_idx, players_dict in pairs_3_10_2_pairs_dict.items():\n",
    "        path_proposals = []\n",
    "        states = conversation_states[conv_idx]\n",
    "        \n",
    "        # Get agent's proposal for each user response\n",
    "        #print(conversation_states[conv_idx][0].obss['agent']) \n",
    "       \n",
    "        \n",
    "        for state in states:\n",
    "            # Have agent observe state after user response\n",
    "            agent.observe(state.obss['agent'], temporal=True, divident = 3)\n",
    "            \n",
    "            # Get agent's proposal response\n",
    "            proposal = agent.respond(t=state.turn + 1, vary=True, propose=True)\n",
    "            path_proposals.append(proposal)\n",
    "           \n",
    "            \n",
    "            print(path_proposals)\n",
    "            # Step environment with proposal\n",
    "            \n",
    "            \n",
    "        all_proposals.append(path_proposals)\n",
    "    \n",
    "    \n",
    "       \n",
    "        \n",
    "    return all_proposals\n",
    "\n",
    "# Get agent proposals\n",
    "agent_proposals = get_agent_proposals(pairs_3_10_2_pairs_dict, conversation_states)\n",
    "\n",
    "# Print results\n",
    "#for path_idx, path_proposals in enumerate(agent_proposals):\n",
    "#    print(f\"\\nConversation Path {path_idx} Agent Proposals:\")\n",
    "#    for user_idx, proposal in enumerate(path_proposals):\n",
    "#        print(f\"Agent proposal to User {user_idx}: {proposal}\")\n",
    "#"
   ]
  }
 ],
 "metadata": {
  "kernelspec": {
   "display_name": ".venv",
   "language": "python",
   "name": "python3"
  },
  "language_info": {
   "codemirror_mode": {
    "name": "ipython",
    "version": 3
   },
   "file_extension": ".py",
   "mimetype": "text/x-python",
   "name": "python",
   "nbconvert_exporter": "python",
   "pygments_lexer": "ipython3",
   "version": "3.9.6"
  }
 },
 "nbformat": 4,
 "nbformat_minor": 2
}
