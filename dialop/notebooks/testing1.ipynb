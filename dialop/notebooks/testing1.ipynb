{
 "cells": [
  {
   "cell_type": "code",
   "execution_count": 62,
   "metadata": {},
   "outputs": [
    {
     "name": "stdout",
     "output_type": "stream",
     "text": [
      "Loaded .api_key\n",
      "Loaded .api_key\n",
      "Loaded .api_key\n",
      "Loaded .api_key\n",
      "Loaded .api_key\n",
      "Loaded .api_key\n",
      "Loaded .api_key\n",
      "Loaded .api_key\n",
      "Loaded .api_key\n",
      "Loaded .api_key\n",
      "Loaded .api_key\n",
      "Loaded .api_key\n",
      "Loaded .api_key\n",
      "Loaded .api_key\n",
      "Loaded .api_key\n",
      "Loaded .api_key\n",
      "Loaded .api_key\n",
      "The autoreload extension is already loaded. To reload it, use:\n",
      "  %reload_ext autoreload\n"
     ]
    },
    {
     "data": {
      "text/html": [
       "<pre style=\"white-space:pre;overflow-x:auto;line-height:normal;font-family:Menlo,'DejaVu Sans Mono',consolas,'Courier New',monospace\"><span style=\"color: #800080; text-decoration-color: #800080\">/Users/georgiazhou/research_machine/dialop/.venv/bin/</span><span style=\"color: #ff00ff; text-decoration-color: #ff00ff\">python</span>\n",
       "</pre>\n"
      ],
      "text/plain": [
       "\u001b[35m/Users/georgiazhou/research_machine/dialop/.venv/bin/\u001b[0m\u001b[95mpython\u001b[0m\n"
      ]
     },
     "metadata": {},
     "output_type": "display_data"
    },
    {
     "data": {
      "text/html": [
       "<pre style=\"white-space:pre;overflow-x:auto;line-height:normal;font-family:Menlo,'DejaVu Sans Mono',consolas,'Courier New',monospace\">Imports successful!\n",
       "</pre>\n"
      ],
      "text/plain": [
       "Imports successful!\n"
      ]
     },
     "metadata": {},
     "output_type": "display_data"
    },
    {
     "data": {
      "text/html": [
       "<pre style=\"white-space:pre;overflow-x:auto;line-height:normal;font-family:Menlo,'DejaVu Sans Mono',consolas,'Courier New',monospace\"><span style=\"font-weight: bold\">[]</span>\n",
       "</pre>\n"
      ],
      "text/plain": [
       "\u001b[1m[\u001b[0m\u001b[1m]\u001b[0m\n"
      ]
     },
     "metadata": {},
     "output_type": "display_data"
    },
    {
     "data": {
      "text/html": [
       "<pre style=\"white-space:pre;overflow-x:auto;line-height:normal;font-family:Menlo,'DejaVu Sans Mono',consolas,'Courier New',monospace\">Imports successful!\n",
       "</pre>\n"
      ],
      "text/plain": [
       "Imports successful!\n"
      ]
     },
     "metadata": {},
     "output_type": "display_data"
    }
   ],
   "source": [
    "%load_ext autoreload\n",
    "%autoreload 2  \n",
    "%reload_ext autoreload\n",
    "import sys\n",
    "sys.path.append('..')\n",
    "import pickle\n",
    "from pathlib import Path\n",
    "from rich import print\n",
    "from rich.console import Console\n",
    "import pdb\n",
    "import json\n",
    "import random\n",
    "import copy\n",
    "import time\n",
    "import re\n",
    "from ruamel.yaml import YAML \n",
    "from notebooks import source_functions as agent_testing\n",
    "import importlib\n",
    "importlib.reload(agent_testing) \n",
    "console = Console()\n",
    "\n",
    "# Import your modules\n",
    "from dialop.evaluate import CheckpointManager\n",
    "from dialop.responses_class import ParallelConversations, ResponseManager, Conversation\n",
    "from dialop.envs.planning import PlanningEnv\n",
    "from skills import Agent_tell\n",
    "from dialop.games.planning import PlanningGame\n",
    "print(\"Imports successful!\")"
   ]
  },
  {
   "cell_type": "code",
   "execution_count": 63,
   "metadata": {},
   "outputs": [
    {
     "name": "stdout",
     "output_type": "stream",
     "text": [
      "Loaded .api_key\n"
     ]
    }
   ],
   "source": [
    "def wait_for_initial_checkpoint(checkpoint_mgr):\n",
    "    \"\"\"Wait for initial checkpoint from evaluate.py\"\"\"\n",
    "    print(\"Waiting for initial checkpoint from evaluate.py...\")\n",
    "    while True:\n",
    "        # Look for initial_state checkpoint\n",
    "        if (checkpoint_mgr.checkpoint_dir / \"initial_state.pkl\").exists():\n",
    "            print(\"Found initial checkpoint!\")\n",
    "            # Load the initial state\n",
    "            state = checkpoint_mgr.load_full_state(\"initial_state\")\n",
    "            return state\n",
    "        time.sleep(1) "
   ]
  },
  {
   "cell_type": "code",
   "execution_count": null,
   "metadata": {},
   "outputs": [],
   "source": [
    "\n",
    " "
   ]
  },
  {
   "cell_type": "code",
   "execution_count": 71,
   "metadata": {},
   "outputs": [],
   "source": [
    "count = 0\n",
    "def main():\n",
    "    # Initialize checkpoint manager\n",
    "    checkpoint_mgr = CheckpointManager()\n",
    "    \n",
    "    \n",
    "    # Wait for initial checkpoint from evaluate.py\n",
    "    initial_state = wait_for_initial_checkpoint(checkpoint_mgr)\n",
    "    global count\n",
    "    # count is the number of times the main function has been run\n",
    "    \n",
    "    \n",
    "    # Initialize parallel conversations with loaded state\n",
    " \n",
    "        \n",
    "    try:\n",
    "    # Access key components\n",
    "        players = initial_state['players']\n",
    "        extracted_features = initial_state.get('extracted_features', [])\n",
    "        t = initial_state.get('t', 0)\n",
    "        env = initial_state.get('env', None)\n",
    "        agent = initial_state['players']['agent']\n",
    "        user = initial_state['players']['user']\n",
    "        chat_history = agent.prompt\n",
    "        if not env:\n",
    "            print(\"No environment found in checkpoint.\")\n",
    "        print(f\"\\nTurn: {t}\")\n",
    "        print(f\"Features: {extracted_features}\")\n",
    "        print(f\"Players: {list(players.keys())}\")\n",
    "    \n",
    "    except Exception as e:\n",
    "        print(f\"Error loading checkpoint: {str(e)}\")\n",
    "    filepath = \"/Users/georgiazhou/research_machine/dialop/dialop/notebooks/RL_data/RL_experiement/\"\n",
    "    open(f\"{filepath}base_user_{count}\", \"w\").write(user.prompt)\n",
    "    open(f\"{filepath}base_agent_{count}\", \"w\").write(agent.prompt)\n",
    "    open(f\"{filepath}base_action_log_{count}\", \"w\").write(json.dumps(env.game.action_log))\n",
    "    open(f\"{filepath}base_events_{count}\", \"w\").write(json.dumps(env.events))\n",
    "    \n",
    "    open(f\"{filepath}base_extracted_features_{count}\", \"w\").write(json.dumps(extracted_features))\n",
    "    \n",
    "    agent_3_responses = agent_testing.n_different_responses(players, t = t)\n",
    "    open(f\"{filepath}base_agent_3_responses_{count}\", \"w\").write(json.dumps(agent_3_responses))\n",
    "    parallel_convs = agent_testing.initialize_parallel_conversations(agent_3_responses, players, env, t)\n",
    "    style_response = agent_testing.style_judger(parallel_convs)\n",
    "    parallel_convs = agent_testing.step_parallel_conversations(parallel_convs)\n",
    "    for  c_idx, conversation in enumerate(parallel_convs.conversations):\n",
    "        open(f\"{filepath}3_paths_agent_{count}_{c_idx}\", \"w\").write(json.dumps(str(conversation.history)))\n",
    "    user_conversations_no_pref = agent_testing.clean_user_conversation(user.user_prompt_obss, parallel_convs)\n",
    "    parallel_convs, preferences_only = agent_testing.initialize_10_user_conversations(parallel_convs, user_conversations_no_pref, style_response, extracted_features, reset_sonlist = True)\n",
    "    open(f\"{filepath}10_preferences_only_{count}\", \"w\").write(json.dumps(preferences_only))\n",
    "    extracted_features = agent_testing.parse_extracted_features(extracted_features)\n",
    "    conversation_states = agent_testing.step_all_user_responses( parallel_convs)\n",
    "    open(f\"{filepath}30_conversation_states_{count}\", \"w\").write(json.dumps(str(conversation_states)))\n",
    "    agent_proposals = agent_testing.get_agent_proposals( parallel_convs)\n",
    "    open(f\"{filepath}30_agent_proposals_{count}\", \"w\").write(json.dumps(str(agent_proposals)))\n",
    "    scores = agent_testing.api_rate_agent_proposals(agent_proposals, parallel_convs)\n",
    "    open(f\"{filepath}30_scores_{count}\", \"w\").write(json.dumps(str(scores)))\n",
    "    best_path = agent_testing.choose_best_path(scores)\n",
    "    open(f\"{filepath}the_best_path_{count}\", \"w\").write(json.dumps(str(parallel_convs.conversations[best_path].history)))\n",
    "    checkpoint_name = agent_testing.save_best_path_as_checkpoint(parallel_convs, best_path, checkpoint_mgr)\n",
    "    print(f\"Successfully processed checkpoint. Saved as: {checkpoint_name}\")\n",
    "    count += 1\n",
    "    return checkpoint_name\n",
    "\n",
    "    # Rn conversations in parallel\n",
    "    \n",
    "    "
   ]
  },
  {
   "cell_type": "code",
   "execution_count": 72,
   "metadata": {},
   "outputs": [
    {
     "data": {
      "text/html": [
       "<pre style=\"white-space:pre;overflow-x:auto;line-height:normal;font-family:Menlo,'DejaVu Sans Mono',consolas,'Courier New',monospace\">Starting continuous monitoring<span style=\"color: #808000; text-decoration-color: #808000\">...</span>\n",
       "</pre>\n"
      ],
      "text/plain": [
       "Starting continuous monitoring\u001b[33m...\u001b[0m\n"
      ]
     },
     "metadata": {},
     "output_type": "display_data"
    },
    {
     "data": {
      "text/html": [
       "<pre style=\"white-space:pre;overflow-x:auto;line-height:normal;font-family:Menlo,'DejaVu Sans Mono',consolas,'Courier New',monospace\">Waiting for initial checkpoint from evaluate.py<span style=\"color: #808000; text-decoration-color: #808000\">...</span>\n",
       "</pre>\n"
      ],
      "text/plain": [
       "Waiting for initial checkpoint from evaluate.py\u001b[33m...\u001b[0m\n"
      ]
     },
     "metadata": {},
     "output_type": "display_data"
    },
    {
     "data": {
      "text/html": [
       "<pre style=\"white-space:pre;overflow-x:auto;line-height:normal;font-family:Menlo,'DejaVu Sans Mono',consolas,'Courier New',monospace\">Found initial checkpoint!\n",
       "</pre>\n"
      ],
      "text/plain": [
       "Found initial checkpoint!\n"
      ]
     },
     "metadata": {},
     "output_type": "display_data"
    },
    {
     "data": {
      "text/html": [
       "<pre style=\"white-space:pre;overflow-x:auto;line-height:normal;font-family:Menlo,'DejaVu Sans Mono',consolas,'Courier New',monospace\">count: <span style=\"color: #008080; text-decoration-color: #008080; font-weight: bold\">0</span>\n",
       "</pre>\n"
      ],
      "text/plain": [
       "count: \u001b[1;36m0\u001b[0m\n"
      ]
     },
     "metadata": {},
     "output_type": "display_data"
    },
    {
     "data": {
      "text/html": [
       "<pre style=\"white-space:pre;overflow-x:auto;line-height:normal;font-family:Menlo,'DejaVu Sans Mono',consolas,'Courier New',monospace\">Waiting for initial checkpoint from evaluate.py<span style=\"color: #808000; text-decoration-color: #808000\">...</span>\n",
       "</pre>\n"
      ],
      "text/plain": [
       "Waiting for initial checkpoint from evaluate.py\u001b[33m...\u001b[0m\n"
      ]
     },
     "metadata": {},
     "output_type": "display_data"
    },
    {
     "data": {
      "text/html": [
       "<pre style=\"white-space:pre;overflow-x:auto;line-height:normal;font-family:Menlo,'DejaVu Sans Mono',consolas,'Courier New',monospace\">Found initial checkpoint!\n",
       "</pre>\n"
      ],
      "text/plain": [
       "Found initial checkpoint!\n"
      ]
     },
     "metadata": {},
     "output_type": "display_data"
    },
    {
     "data": {
      "text/html": [
       "<pre style=\"white-space:pre;overflow-x:auto;line-height:normal;font-family:Menlo,'DejaVu Sans Mono',consolas,'Courier New',monospace\">count: <span style=\"color: #008080; text-decoration-color: #008080; font-weight: bold\">1</span>\n",
       "</pre>\n"
      ],
      "text/plain": [
       "count: \u001b[1;36m1\u001b[0m\n"
      ]
     },
     "metadata": {},
     "output_type": "display_data"
    },
    {
     "data": {
      "text/html": [
       "<pre style=\"white-space:pre;overflow-x:auto;line-height:normal;font-family:Menlo,'DejaVu Sans Mono',consolas,'Courier New',monospace\">Waiting for initial checkpoint from evaluate.py<span style=\"color: #808000; text-decoration-color: #808000\">...</span>\n",
       "</pre>\n"
      ],
      "text/plain": [
       "Waiting for initial checkpoint from evaluate.py\u001b[33m...\u001b[0m\n"
      ]
     },
     "metadata": {},
     "output_type": "display_data"
    },
    {
     "data": {
      "text/html": [
       "<pre style=\"white-space:pre;overflow-x:auto;line-height:normal;font-family:Menlo,'DejaVu Sans Mono',consolas,'Courier New',monospace\">Found initial checkpoint!\n",
       "</pre>\n"
      ],
      "text/plain": [
       "Found initial checkpoint!\n"
      ]
     },
     "metadata": {},
     "output_type": "display_data"
    },
    {
     "data": {
      "text/html": [
       "<pre style=\"white-space:pre;overflow-x:auto;line-height:normal;font-family:Menlo,'DejaVu Sans Mono',consolas,'Courier New',monospace\">count: <span style=\"color: #008080; text-decoration-color: #008080; font-weight: bold\">2</span>\n",
       "</pre>\n"
      ],
      "text/plain": [
       "count: \u001b[1;36m2\u001b[0m\n"
      ]
     },
     "metadata": {},
     "output_type": "display_data"
    },
    {
     "data": {
      "text/html": [
       "<pre style=\"white-space:pre;overflow-x:auto;line-height:normal;font-family:Menlo,'DejaVu Sans Mono',consolas,'Courier New',monospace\">Waiting for initial checkpoint from evaluate.py<span style=\"color: #808000; text-decoration-color: #808000\">...</span>\n",
       "</pre>\n"
      ],
      "text/plain": [
       "Waiting for initial checkpoint from evaluate.py\u001b[33m...\u001b[0m\n"
      ]
     },
     "metadata": {},
     "output_type": "display_data"
    },
    {
     "data": {
      "text/html": [
       "<pre style=\"white-space:pre;overflow-x:auto;line-height:normal;font-family:Menlo,'DejaVu Sans Mono',consolas,'Courier New',monospace\">Found initial checkpoint!\n",
       "</pre>\n"
      ],
      "text/plain": [
       "Found initial checkpoint!\n"
      ]
     },
     "metadata": {},
     "output_type": "display_data"
    },
    {
     "data": {
      "text/html": [
       "<pre style=\"white-space:pre;overflow-x:auto;line-height:normal;font-family:Menlo,'DejaVu Sans Mono',consolas,'Courier New',monospace\">count: <span style=\"color: #008080; text-decoration-color: #008080; font-weight: bold\">3</span>\n",
       "</pre>\n"
      ],
      "text/plain": [
       "count: \u001b[1;36m3\u001b[0m\n"
      ]
     },
     "metadata": {},
     "output_type": "display_data"
    },
    {
     "data": {
      "text/html": [
       "<pre style=\"white-space:pre;overflow-x:auto;line-height:normal;font-family:Menlo,'DejaVu Sans Mono',consolas,'Courier New',monospace\">Waiting for initial checkpoint from evaluate.py<span style=\"color: #808000; text-decoration-color: #808000\">...</span>\n",
       "</pre>\n"
      ],
      "text/plain": [
       "Waiting for initial checkpoint from evaluate.py\u001b[33m...\u001b[0m\n"
      ]
     },
     "metadata": {},
     "output_type": "display_data"
    },
    {
     "data": {
      "text/html": [
       "<pre style=\"white-space:pre;overflow-x:auto;line-height:normal;font-family:Menlo,'DejaVu Sans Mono',consolas,'Courier New',monospace\">Found initial checkpoint!\n",
       "</pre>\n"
      ],
      "text/plain": [
       "Found initial checkpoint!\n"
      ]
     },
     "metadata": {},
     "output_type": "display_data"
    },
    {
     "data": {
      "text/html": [
       "<pre style=\"white-space:pre;overflow-x:auto;line-height:normal;font-family:Menlo,'DejaVu Sans Mono',consolas,'Courier New',monospace\">count: <span style=\"color: #008080; text-decoration-color: #008080; font-weight: bold\">4</span>\n",
       "</pre>\n"
      ],
      "text/plain": [
       "count: \u001b[1;36m4\u001b[0m\n"
      ]
     },
     "metadata": {},
     "output_type": "display_data"
    },
    {
     "data": {
      "text/html": [
       "<pre style=\"white-space:pre;overflow-x:auto;line-height:normal;font-family:Menlo,'DejaVu Sans Mono',consolas,'Courier New',monospace\">Waiting for initial checkpoint from evaluate.py<span style=\"color: #808000; text-decoration-color: #808000\">...</span>\n",
       "</pre>\n"
      ],
      "text/plain": [
       "Waiting for initial checkpoint from evaluate.py\u001b[33m...\u001b[0m\n"
      ]
     },
     "metadata": {},
     "output_type": "display_data"
    },
    {
     "data": {
      "text/html": [
       "<pre style=\"white-space:pre;overflow-x:auto;line-height:normal;font-family:Menlo,'DejaVu Sans Mono',consolas,'Courier New',monospace\">Found initial checkpoint!\n",
       "</pre>\n"
      ],
      "text/plain": [
       "Found initial checkpoint!\n"
      ]
     },
     "metadata": {},
     "output_type": "display_data"
    },
    {
     "data": {
      "text/html": [
       "<pre style=\"white-space:pre;overflow-x:auto;line-height:normal;font-family:Menlo,'DejaVu Sans Mono',consolas,'Courier New',monospace\">count: <span style=\"color: #008080; text-decoration-color: #008080; font-weight: bold\">5</span>\n",
       "</pre>\n"
      ],
      "text/plain": [
       "count: \u001b[1;36m5\u001b[0m\n"
      ]
     },
     "metadata": {},
     "output_type": "display_data"
    },
    {
     "data": {
      "text/html": [
       "<pre style=\"white-space:pre;overflow-x:auto;line-height:normal;font-family:Menlo,'DejaVu Sans Mono',consolas,'Courier New',monospace\">Waiting for initial checkpoint from evaluate.py<span style=\"color: #808000; text-decoration-color: #808000\">...</span>\n",
       "</pre>\n"
      ],
      "text/plain": [
       "Waiting for initial checkpoint from evaluate.py\u001b[33m...\u001b[0m\n"
      ]
     },
     "metadata": {},
     "output_type": "display_data"
    },
    {
     "data": {
      "text/html": [
       "<pre style=\"white-space:pre;overflow-x:auto;line-height:normal;font-family:Menlo,'DejaVu Sans Mono',consolas,'Courier New',monospace\">Found initial checkpoint!\n",
       "</pre>\n"
      ],
      "text/plain": [
       "Found initial checkpoint!\n"
      ]
     },
     "metadata": {},
     "output_type": "display_data"
    },
    {
     "data": {
      "text/html": [
       "<pre style=\"white-space:pre;overflow-x:auto;line-height:normal;font-family:Menlo,'DejaVu Sans Mono',consolas,'Courier New',monospace\">count: <span style=\"color: #008080; text-decoration-color: #008080; font-weight: bold\">6</span>\n",
       "</pre>\n"
      ],
      "text/plain": [
       "count: \u001b[1;36m6\u001b[0m\n"
      ]
     },
     "metadata": {},
     "output_type": "display_data"
    },
    {
     "data": {
      "text/html": [
       "<pre style=\"white-space:pre;overflow-x:auto;line-height:normal;font-family:Menlo,'DejaVu Sans Mono',consolas,'Courier New',monospace\">Waiting for initial checkpoint from evaluate.py<span style=\"color: #808000; text-decoration-color: #808000\">...</span>\n",
       "</pre>\n"
      ],
      "text/plain": [
       "Waiting for initial checkpoint from evaluate.py\u001b[33m...\u001b[0m\n"
      ]
     },
     "metadata": {},
     "output_type": "display_data"
    },
    {
     "data": {
      "text/html": [
       "<pre style=\"white-space:pre;overflow-x:auto;line-height:normal;font-family:Menlo,'DejaVu Sans Mono',consolas,'Courier New',monospace\">Found initial checkpoint!\n",
       "</pre>\n"
      ],
      "text/plain": [
       "Found initial checkpoint!\n"
      ]
     },
     "metadata": {},
     "output_type": "display_data"
    },
    {
     "data": {
      "text/html": [
       "<pre style=\"white-space:pre;overflow-x:auto;line-height:normal;font-family:Menlo,'DejaVu Sans Mono',consolas,'Courier New',monospace\">count: <span style=\"color: #008080; text-decoration-color: #008080; font-weight: bold\">7</span>\n",
       "</pre>\n"
      ],
      "text/plain": [
       "count: \u001b[1;36m7\u001b[0m\n"
      ]
     },
     "metadata": {},
     "output_type": "display_data"
    },
    {
     "data": {
      "text/html": [
       "<pre style=\"white-space:pre;overflow-x:auto;line-height:normal;font-family:Menlo,'DejaVu Sans Mono',consolas,'Courier New',monospace\">Waiting for initial checkpoint from evaluate.py<span style=\"color: #808000; text-decoration-color: #808000\">...</span>\n",
       "</pre>\n"
      ],
      "text/plain": [
       "Waiting for initial checkpoint from evaluate.py\u001b[33m...\u001b[0m\n"
      ]
     },
     "metadata": {},
     "output_type": "display_data"
    },
    {
     "data": {
      "text/html": [
       "<pre style=\"white-space:pre;overflow-x:auto;line-height:normal;font-family:Menlo,'DejaVu Sans Mono',consolas,'Courier New',monospace\">Found initial checkpoint!\n",
       "</pre>\n"
      ],
      "text/plain": [
       "Found initial checkpoint!\n"
      ]
     },
     "metadata": {},
     "output_type": "display_data"
    },
    {
     "data": {
      "text/html": [
       "<pre style=\"white-space:pre;overflow-x:auto;line-height:normal;font-family:Menlo,'DejaVu Sans Mono',consolas,'Courier New',monospace\">count: <span style=\"color: #008080; text-decoration-color: #008080; font-weight: bold\">8</span>\n",
       "</pre>\n"
      ],
      "text/plain": [
       "count: \u001b[1;36m8\u001b[0m\n"
      ]
     },
     "metadata": {},
     "output_type": "display_data"
    },
    {
     "data": {
      "text/html": [
       "<pre style=\"white-space:pre;overflow-x:auto;line-height:normal;font-family:Menlo,'DejaVu Sans Mono',consolas,'Courier New',monospace\">Waiting for initial checkpoint from evaluate.py<span style=\"color: #808000; text-decoration-color: #808000\">...</span>\n",
       "</pre>\n"
      ],
      "text/plain": [
       "Waiting for initial checkpoint from evaluate.py\u001b[33m...\u001b[0m\n"
      ]
     },
     "metadata": {},
     "output_type": "display_data"
    },
    {
     "data": {
      "text/html": [
       "<pre style=\"white-space:pre;overflow-x:auto;line-height:normal;font-family:Menlo,'DejaVu Sans Mono',consolas,'Courier New',monospace\">Found initial checkpoint!\n",
       "</pre>\n"
      ],
      "text/plain": [
       "Found initial checkpoint!\n"
      ]
     },
     "metadata": {},
     "output_type": "display_data"
    },
    {
     "data": {
      "text/html": [
       "<pre style=\"white-space:pre;overflow-x:auto;line-height:normal;font-family:Menlo,'DejaVu Sans Mono',consolas,'Courier New',monospace\">count: <span style=\"color: #008080; text-decoration-color: #008080; font-weight: bold\">9</span>\n",
       "</pre>\n"
      ],
      "text/plain": [
       "count: \u001b[1;36m9\u001b[0m\n"
      ]
     },
     "metadata": {},
     "output_type": "display_data"
    },
    {
     "data": {
      "text/html": [
       "<pre style=\"white-space:pre;overflow-x:auto;line-height:normal;font-family:Menlo,'DejaVu Sans Mono',consolas,'Courier New',monospace\">Waiting for initial checkpoint from evaluate.py<span style=\"color: #808000; text-decoration-color: #808000\">...</span>\n",
       "</pre>\n"
      ],
      "text/plain": [
       "Waiting for initial checkpoint from evaluate.py\u001b[33m...\u001b[0m\n"
      ]
     },
     "metadata": {},
     "output_type": "display_data"
    },
    {
     "data": {
      "text/html": [
       "<pre style=\"white-space:pre;overflow-x:auto;line-height:normal;font-family:Menlo,'DejaVu Sans Mono',consolas,'Courier New',monospace\">Found initial checkpoint!\n",
       "</pre>\n"
      ],
      "text/plain": [
       "Found initial checkpoint!\n"
      ]
     },
     "metadata": {},
     "output_type": "display_data"
    },
    {
     "data": {
      "text/html": [
       "<pre style=\"white-space:pre;overflow-x:auto;line-height:normal;font-family:Menlo,'DejaVu Sans Mono',consolas,'Courier New',monospace\">count: <span style=\"color: #008080; text-decoration-color: #008080; font-weight: bold\">10</span>\n",
       "</pre>\n"
      ],
      "text/plain": [
       "count: \u001b[1;36m10\u001b[0m\n"
      ]
     },
     "metadata": {},
     "output_type": "display_data"
    }
   ],
   "source": [
    "\n",
    "def continuous_monitoring():\n",
    "    \"\"\"Continuously monitor for new checkpoints and process them\"\"\"\n",
    "    print(\"Starting continuous monitoring...\")\n",
    "    count = 0\n",
    "    \n",
    "    while True:\n",
    "        main()\n",
    "        \n",
    "        \n",
    "        try:\n",
    "            # Run main process\n",
    "            \n",
    "            \n",
    "            # Clean up initial state checkpoint to prepare for next round\n",
    "            checkpoint_mgr = CheckpointManager()\n",
    "            initial_state_path = checkpoint_mgr.checkpoint_dir / \"initial_state.pkl\"\n",
    "            if initial_state_path.exists():\n",
    "                initial_state_path.unlink()  # Delete the initial state file\n",
    "            \n",
    "            print(\"\\nWaiting for next checkpoint...\")\n",
    "            time.sleep(5)  # Wait before starting next cycle\n",
    "            \n",
    "        except KeyboardInterrupt:\n",
    "            print(\"\\nStopping monitoring...\")\n",
    "            break\n",
    "        except Exception as e:\n",
    "            print(f\"\\nError in monitoring cycle: {e}\")\n",
    "            time.sleep(5)  # Wait before retrying\n",
    "\n",
    "# Start the continuous monitoring\n",
    "if __name__ == \"__main__\":\n",
    "    continuous_monitoring()\n",
    "# Load your saved checkpoint\n"
   ]
  },
  {
   "cell_type": "code",
   "execution_count": null,
   "metadata": {},
   "outputs": [],
   "source": [
    "   #print(user.prompt)\n",
    "    "
   ]
  },
  {
   "cell_type": "code",
   "execution_count": null,
   "metadata": {},
   "outputs": [],
   "source": []
  },
  {
   "cell_type": "code",
   "execution_count": null,
   "metadata": {},
   "outputs": [],
   "source": [
    "\n"
   ]
  },
  {
   "cell_type": "code",
   "execution_count": null,
   "metadata": {},
   "outputs": [],
   "source": []
  },
  {
   "cell_type": "code",
   "execution_count": null,
   "metadata": {},
   "outputs": [],
   "source": [
    "# spreadsheet \n",
    "conversation_streams = agent_testing.get_conversation_streams_spreadsheet(parallel_convs)"
   ]
  }
 ],
 "metadata": {
  "kernelspec": {
   "display_name": ".venv",
   "language": "python",
   "name": "python3"
  },
  "language_info": {
   "codemirror_mode": {
    "name": "ipython",
    "version": 3
   },
   "file_extension": ".py",
   "mimetype": "text/x-python",
   "name": "python",
   "nbconvert_exporter": "python",
   "pygments_lexer": "ipython3",
   "version": "3.9.6"
  }
 },
 "nbformat": 4,
 "nbformat_minor": 2
}
